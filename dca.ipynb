{
  "cells": [
    {
      "cell_type": "markdown",
      "metadata": {
        "id": "cpfruQoz_arh"
      },
      "source": [
        "# Setup"
      ]
    },
    {
      "cell_type": "markdown",
      "source": [
        "## Imports"
      ],
      "metadata": {
        "id": "cNjjZZj0nHQW"
      }
    },
    {
      "cell_type": "code",
      "execution_count": null,
      "metadata": {
        "id": "KiK8jmg9_arj"
      },
      "outputs": [],
      "source": [
        "# If loading new data\n",
        "DATABASE_URL = \"2.tcp.ngrok.io:14800\"\n",
        "DATA_FILE = \"all\"\n",
        "DATA_FOLDER = '/content/drive/MyDrive/debateData/'\n",
        "DATA_PATH =  DATA_FOLDER + DATA_FILE"
      ]
    },
    {
      "cell_type": "code",
      "execution_count": null,
      "metadata": {
        "colab": {
          "base_uri": "https://localhost:8080/"
        },
        "id": "cj0pxgg2_eYA",
        "outputId": "3547ddfe-5ae4-46fa-cf9c-b23f2fb622f2"
      },
      "outputs": [
        {
          "output_type": "stream",
          "name": "stdout",
          "text": [
            "Mounted at /content/drive\n"
          ]
        }
      ],
      "source": [
        "if DATA_FOLDER.startswith(\"/content/drive/MyDrive/\"):\n",
        "  from google.colab import drive\n",
        "  from os import mkdir\n",
        "  from pathlib import Path\n",
        "\n",
        "  drive.mount('/content/drive', force_remount=True)\n",
        "  Path(DATA_FOLDER).mkdir(exist_ok=True)"
      ]
    },
    {
      "cell_type": "code",
      "execution_count": null,
      "metadata": {
        "id": "cuv__toT_arl"
      },
      "outputs": [],
      "source": [
        "import numpy as np\n",
        "import pandas as pd\n",
        "from sqlalchemy import create_engine, table, column, select, text\n",
        "from IPython.display import display, HTML\n",
        "import matplotlib.pyplot as plt\n",
        "from tqdm.notebook import tqdm\n",
        "from scipy import sparse\n",
        "import itertools\n",
        "\n",
        "db = create_engine(f\"postgresql://postgres:password@{DATABASE_URL}/debate-cards\")\n",
        "pd.set_option('display.float_format', '{:.3f}'.format)\n",
        "%matplotlib inline"
      ]
    },
    {
      "cell_type": "markdown",
      "source": [
        "## Data"
      ],
      "metadata": {
        "id": "TaFdTv8TnGMU"
      }
    },
    {
      "cell_type": "code",
      "execution_count": null,
      "metadata": {
        "id": "14nw2F6I_arm"
      },
      "outputs": [],
      "source": [
        "try:\n",
        "  buckets = pd.read_feather(DATA_PATH + '_counts.feather')\n",
        "except FileNotFoundError:\n",
        "  query = 'SELECT * FROM \"EvidenceBucket\";'\n",
        "  buckets = pd.read_sql(query, db)\n",
        "  buckets.to_feather(DATA_PATH + '_counts.feather')\n",
        "buckets = buckets.set_index('id')"
      ]
    },
    {
      "cell_type": "code",
      "execution_count": null,
      "metadata": {
        "id": "HLQTq3FE_arn"
      },
      "outputs": [],
      "source": [
        "try:\n",
        "  all = pd.read_feather(DATA_PATH + '.feather')\n",
        "except FileNotFoundError:\n",
        "  query = \"\"\"\n",
        "    SELECT id, \"fileId\", pocket, hat, block, tag, fullcite, cite, \"bucketId\" FROM \"Evidence\"\n",
        "  \"\"\"\n",
        "  all = pd.read_sql(query, db)\n",
        "  print(\"Data loaded\")\n",
        "  all.to_feather(DATA_PATH + '.feather')\n",
        "all = all.set_index('id')\n",
        "evidence = all"
      ]
    },
    {
      "cell_type": "code",
      "execution_count": null,
      "metadata": {
        "id": "NYn9n2NMbW1J"
      },
      "outputs": [],
      "source": [
        "def loadTagIds(tag: str):\n",
        "  try:\n",
        "    ids = pd.read_feather(DATA_PATH + f'_{tag}Ids.feather')\n",
        "  except FileNotFoundError:\n",
        "    query = f\"\"\"\n",
        "      SELECT evidence.id\n",
        "      FROM \"Evidence\" evidence\n",
        "        INNER JOIN \"_FileToTag\" ftt ON evidence.\"fileId\" = ftt.\"A\"\n",
        "        INNER JOIN \"Tag\" tag on ftt.\"B\" = tag.id\n",
        "      WHERE tag.name='{tag}'\n",
        "    \"\"\"\n",
        "    ids = pd.read_sql(query, db)\n",
        "    print(f\"{len(ids)} {tag} loaded\")\n",
        "    ids.to_feather(DATA_PATH + f'_{tag}Ids.feather')\n",
        "  return ids"
      ]
    },
    {
      "cell_type": "code",
      "execution_count": null,
      "metadata": {
        "id": "mibvlUIRqnXs"
      },
      "outputs": [],
      "source": [
        "try:\n",
        "  nonAnalyticIds = pd.read_feather(DATA_PATH + '_nonAnalyticIds.feather')\n",
        "except FileNotFoundError:\n",
        "  query = \"\"\"SELECT evidence.id FROM \"Evidence\" evidence WHERE fulltext != ''\"\"\"\n",
        "  nonAnalyticIds = pd.read_sql(query, db)\n",
        "  print(\"Data loaded\")\n",
        "  nonAnalyticIds.to_feather(DATA_PATH + '_nonAnalyticIds.feather')\n",
        "nonAnalytic = all.loc[nonAnalyticIds.id]"
      ]
    },
    {
      "cell_type": "code",
      "execution_count": null,
      "metadata": {
        "id": "QYZ_xk79_aro"
      },
      "outputs": [],
      "source": [
        "openevIds = loadTagIds(\"openev\")\n",
        "openev = all.loc[openevIds.id]"
      ]
    },
    {
      "cell_type": "code",
      "execution_count": null,
      "metadata": {
        "id": "7TPEA10PbJ-g"
      },
      "outputs": [],
      "source": [
        "ids21 = loadTagIds(\"2021\")"
      ]
    },
    {
      "cell_type": "code",
      "execution_count": null,
      "metadata": {
        "colab": {
          "base_uri": "https://localhost:8080/"
        },
        "id": "2x_Bb1zhewTg",
        "outputId": "a88ad577-d720-4e23-e01d-843b2e3fa962"
      },
      "outputs": [
        {
          "output_type": "execute_result",
          "data": {
            "text/plain": [
              "29804"
            ]
          },
          "metadata": {},
          "execution_count": 10
        }
      ],
      "source": [
        "from functools import reduce\n",
        "openev2021 = all.loc[reduce(np.intersect1d, [openevIds.id, ids21.id, nonAnalyticIds.id])]\n",
        "len(openev2021)"
      ]
    },
    {
      "cell_type": "code",
      "execution_count": null,
      "metadata": {
        "id": "hszj6DRL_arp"
      },
      "outputs": [],
      "source": [
        "from IPython.display import HTML\n",
        "parentStyles = \"\"\"\n",
        "  margin: 50px;\n",
        "  height: 500px;\n",
        "  display: flex;\n",
        "  overflow-x: scroll;\n",
        "\"\"\"\n",
        "childStyles = \"\"\"\"\n",
        "  padding: 10px;\n",
        "  flex-shrink: 0;\n",
        "  flex-basis: 400px;\n",
        "  overflow: scroll;\n",
        "\"\"\"\n",
        "\n",
        "def showCards(cards: pd.DataFrame, showIds = False, fileName=None):\n",
        "    markups = pd.read_sql(f\"\"\"SELECT id, markup FROM \"Evidence\" WHERE id IN ({\",\".join(cards.index.map(str))});\"\"\", db)\n",
        "    markups = markups.sort_values(by='id',  key=lambda ids: [cards.index.get_loc(id) for id in ids]).markup\n",
        "    headers = [f\"<h2>{id}</h2>\" if showIds else \"\" for id in cards.index]\n",
        "    divs = \"\\n\".join(\n",
        "        [f\"<div style='{childStyles}'>{headers[i]}{markup}</div>\" for i, markup in enumerate(markups)])\n",
        "    html = HTML(f\"<div style='{parentStyles}'>{divs}</div>\")\n",
        "    if fileName is None:\n",
        "      return html\n",
        "\n",
        "    path = DATA_PATH + fileName + '.html'\n",
        "    with open(path, 'w') as f:\n",
        "      f.write(str(html.data))\n",
        "    return HTML(f\"<a href={path}>Open</a>\")\n",
        "\n",
        "def showCard(i: int):\n",
        "  return HTML(f\"<div style='{childStyles}'>{all.loc[i].markup}</div>\")\n",
        "def showBucket(id: int, count: int=None):\n",
        "  return showCards(all[all.bucketId == id].iloc[0:count])\n",
        "def showBucketSeries(series, indexes=range(5), iloc=0):\n",
        "  return showCards(all.loc[[all[all.bucketId == series.iloc[i]].index[iloc] for i in indexes]], showIds=True)\n",
        "  # showCards([all[all.bucketId == buckets[series.index[i]]].iloc[iloc] for i in indexes])"
      ]
    },
    {
      "cell_type": "markdown",
      "metadata": {
        "id": "kLSbBsw6_arr"
      },
      "source": [
        "# Analysis"
      ]
    },
    {
      "cell_type": "markdown",
      "metadata": {
        "id": "e5es1nAzDeI7"
      },
      "source": [
        "## Misc"
      ]
    },
    {
      "cell_type": "code",
      "execution_count": null,
      "metadata": {
        "id": "M7XQYHIA_ars"
      },
      "outputs": [],
      "source": [
        "evidence = all.loc[np.intersect1d(openevIds.id, nonAnalyticIds.id)]"
      ]
    },
    {
      "cell_type": "code",
      "source": [
        "evidence = all"
      ],
      "metadata": {
        "id": "YYXv5OePxnWQ"
      },
      "execution_count": null,
      "outputs": []
    },
    {
      "cell_type": "code",
      "execution_count": null,
      "metadata": {
        "id": "I77ozHx5_ars"
      },
      "outputs": [],
      "source": [
        "levels = ['fileId', 'pocket', 'hat', 'block']"
      ]
    },
    {
      "cell_type": "code",
      "execution_count": null,
      "metadata": {
        "id": "3IG12xSP_art"
      },
      "outputs": [],
      "source": [
        "def describeSiblings(groups, repeat=True):\n",
        "  sizes = groups.size()\n",
        "  return (sizes.repeat(sizes) if repeat else sizes).describe()"
      ]
    },
    {
      "cell_type": "code",
      "execution_count": null,
      "metadata": {
        "id": "ijjdSQM3_art"
      },
      "outputs": [],
      "source": [
        "def calcSizes(repeat=True):\n",
        "    levelSizes = pd.DataFrame({\n",
        "        level: describeSiblings(evidence.groupby(levels[0:i+1]), repeat) for (i, level) in enumerate(levels)\n",
        "    })\n",
        "    levelSizes['bucket'] = describeSiblings(evidence.groupby('bucketId'), repeat)\n",
        "    return levelSizes"
      ]
    },
    {
      "cell_type": "code",
      "execution_count": null,
      "metadata": {
        "id": "ctToQtSv_art"
      },
      "outputs": [],
      "source": [
        "calcSizes(True)"
      ]
    },
    {
      "cell_type": "code",
      "execution_count": null,
      "metadata": {
        "id": "DilxnKH9_arv"
      },
      "outputs": [],
      "source": [
        "calcSizes(False)"
      ]
    },
    {
      "cell_type": "code",
      "execution_count": null,
      "metadata": {
        "id": "cqlTLZkk_arv"
      },
      "outputs": [],
      "source": [
        "def plotGroupSizes(grouping):\n",
        "  groupSizes = evidence.groupby(grouping).size().value_counts().sort_index()\n",
        "  return plt.plot(groupSizes.index, groupSizes * groupSizes.index, label=grouping[-1])"
      ]
    },
    {
      "cell_type": "code",
      "execution_count": null,
      "metadata": {
        "id": "fTAyydvj_arv"
      },
      "outputs": [],
      "source": [
        "plotGroupSizes(['fileId'])\n",
        "plotGroupSizes(['fileId', 'pocket'])\n",
        "plotGroupSizes(['fileId', 'pocket', 'hat'])\n",
        "plt.legend()\n",
        "plt.xlim(0, 150)"
      ]
    },
    {
      "cell_type": "code",
      "execution_count": null,
      "metadata": {
        "id": "Ec14kk-c_arw"
      },
      "outputs": [],
      "source": [
        "plotGroupSizes(['bucketId'])\n",
        "plt.xlim(1, 300)\n",
        "plt.yscale('log')"
      ]
    },
    {
      "cell_type": "code",
      "execution_count": null,
      "metadata": {
        "id": "IkIZbL6LUoCu",
        "colab": {
          "base_uri": "https://localhost:8080/",
          "height": 269
        },
        "outputId": "03f8130d-c31d-4d7e-a301-5b82646a0fdf"
      },
      "outputs": [
        {
          "output_type": "display_data",
          "data": {
            "text/plain": [
              "<Figure size 432x288 with 1 Axes>"
            ],
            "image/png": "[encoded data removed]"
          },
          "metadata": {
            "needs_background": "light"
          }
        }
      ],
      "source": [
        "counts = evidence.groupby(\"bucketId\").size().value_counts().sort_index(ascending=False)\n",
        "cumCounts = pd.DataFrame({\n",
        "    \"samples\": (counts * counts.index).cumsum(),\n",
        "    \"vocab\": counts.cumsum()\n",
        "})\n",
        "plotCounts = cumCounts.vocab.loc[200:0]\n",
        "plt.plot(plotCounts, plotCounts.index)\n",
        "plt.xscale('log')"
      ]
    },
    {
      "cell_type": "code",
      "execution_count": null,
      "metadata": {
        "id": "00iz66MUbnWQ",
        "colab": {
          "base_uri": "https://localhost:8080/",
          "height": 238
        },
        "outputId": "7cc60172-d37d-4763-b925-e2df2ba8d61c"
      },
      "outputs": [
        {
          "output_type": "execute_result",
          "data": {
            "text/plain": [
              "     samples   vocab\n",
              "5    2288196  105453\n",
              "10   1945572   52594\n",
              "20   1575268   25027\n",
              "50   1071959    8196\n",
              "100   729696    3154\n",
              "200   449578    1071"
            ],
            "text/html": [
              "\n",
              "  <div id=\"df-1fad35bc-a419-4d80-80cc-5322e0781188\">\n",
              "    <div class=\"colab-df-container\">\n",
              "      <div>\n",
              "<style scoped>\n",
              "    .dataframe tbody tr th:only-of-type {\n",
              "        vertical-align: middle;\n",
              "    }\n",
              "\n",
              "    .dataframe tbody tr th {\n",
              "        vertical-align: top;\n",
              "    }\n",
              "\n",
              "    .dataframe thead th {\n",
              "        text-align: right;\n",
              "    }\n",
              "</style>\n",
              "<table border=\"1\" class=\"dataframe\">\n",
              "  <thead>\n",
              "    <tr style=\"text-align: right;\">\n",
              "      <th></th>\n",
              "      <th>samples</th>\n",
              "      <th>vocab</th>\n",
              "    </tr>\n",
              "  </thead>\n",
              "  <tbody>\n",
              "    <tr>\n",
              "      <th>5</th>\n",
              "      <td>2288196</td>\n",
              "      <td>105453</td>\n",
              "    </tr>\n",
              "    <tr>\n",
              "      <th>10</th>\n",
              "      <td>1945572</td>\n",
              "      <td>52594</td>\n",
              "    </tr>\n",
              "    <tr>\n",
              "      <th>20</th>\n",
              "      <td>1575268</td>\n",
              "      <td>25027</td>\n",
              "    </tr>\n",
              "    <tr>\n",
              "      <th>50</th>\n",
              "      <td>1071959</td>\n",
              "      <td>8196</td>\n",
              "    </tr>\n",
              "    <tr>\n",
              "      <th>100</th>\n",
              "      <td>729696</td>\n",
              "      <td>3154</td>\n",
              "    </tr>\n",
              "    <tr>\n",
              "      <th>200</th>\n",
              "      <td>449578</td>\n",
              "      <td>1071</td>\n",
              "    </tr>\n",
              "  </tbody>\n",
              "</table>\n",
              "</div>\n",
              "      <button class=\"colab-df-convert\" onclick=\"convertToInteractive('df-1fad35bc-a419-4d80-80cc-5322e0781188')\"\n",
              "              title=\"Convert this dataframe to an interactive table.\"\n",
              "              style=\"display:none;\">\n",
              "        \n",
              "  <svg xmlns=\"http://www.w3.org/2000/svg\" height=\"24px\"viewBox=\"0 0 24 24\"\n",
              "       width=\"24px\">\n",
              "    <path d=\"M0 0h24v24H0V0z\" fill=\"none\"/>\n",
              "    <path d=\"M18.56 5.44l.94 2.06.94-2.06 2.06-.94-2.06-.94-.94-2.06-.94 2.06-2.06.94zm-11 1L8.5 8.5l.94-2.06 2.06-.94-2.06-.94L8.5 2.5l-.94 2.06-2.06.94zm10 10l.94 2.06.94-2.06 2.06-.94-2.06-.94-.94-2.06-.94 2.06-2.06.94z\"/><path d=\"M17.41 7.96l-1.37-1.37c-.4-.4-.92-.59-1.43-.59-.52 0-1.04.2-1.43.59L10.3 9.45l-7.72 7.72c-.78.78-.78 2.05 0 2.83L4 21.41c.39.39.9.59 1.41.59.51 0 1.02-.2 1.41-.59l7.78-7.78 2.81-2.81c.8-.78.8-2.07 0-2.86zM5.41 20L4 18.59l7.72-7.72 1.47 1.35L5.41 20z\"/>\n",
              "  </svg>\n",
              "      </button>\n",
              "      \n",
              "  <style>\n",
              "    .colab-df-container {\n",
              "      display:flex;\n",
              "      flex-wrap:wrap;\n",
              "      gap: 12px;\n",
              "    }\n",
              "\n",
              "    .colab-df-convert {\n",
              "      background-color: #E8F0FE;\n",
              "      border: none;\n",
              "      border-radius: 50%;\n",
              "      cursor: pointer;\n",
              "      display: none;\n",
              "      fill: #1967D2;\n",
              "      height: 32px;\n",
              "      padding: 0 0 0 0;\n",
              "      width: 32px;\n",
              "    }\n",
              "\n",
              "    .colab-df-convert:hover {\n",
              "      background-color: #E2EBFA;\n",
              "      box-shadow: 0px 1px 2px rgba(60, 64, 67, 0.3), 0px 1px 3px 1px rgba(60, 64, 67, 0.15);\n",
              "      fill: #174EA6;\n",
              "    }\n",
              "\n",
              "    [theme=dark] .colab-df-convert {\n",
              "      background-color: #3B4455;\n",
              "      fill: #D2E3FC;\n",
              "    }\n",
              "\n",
              "    [theme=dark] .colab-df-convert:hover {\n",
              "      background-color: #434B5C;\n",
              "      box-shadow: 0px 1px 3px 1px rgba(0, 0, 0, 0.15);\n",
              "      filter: drop-shadow(0px 1px 2px rgba(0, 0, 0, 0.3));\n",
              "      fill: #FFFFFF;\n",
              "    }\n",
              "  </style>\n",
              "\n",
              "      <script>\n",
              "        const buttonEl =\n",
              "          document.querySelector('#df-1fad35bc-a419-4d80-80cc-5322e0781188 button.colab-df-convert');\n",
              "        buttonEl.style.display =\n",
              "          google.colab.kernel.accessAllowed ? 'block' : 'none';\n",
              "\n",
              "        async function convertToInteractive(key) {\n",
              "          const element = document.querySelector('#df-1fad35bc-a419-4d80-80cc-5322e0781188');\n",
              "          const dataTable =\n",
              "            await google.colab.kernel.invokeFunction('convertToInteractive',\n",
              "                                                     [key], {});\n",
              "          if (!dataTable) return;\n",
              "\n",
              "          const docLinkHtml = 'Like what you see? Visit the ' +\n",
              "            '<a target=\"_blank\" href=https://colab.research.google.com/notebooks/data_table.ipynb>data table notebook</a>'\n",
              "            + ' to learn more about interactive tables.';\n",
              "          element.innerHTML = '';\n",
              "          dataTable['output_type'] = 'display_data';\n",
              "          await google.colab.output.renderOutput(dataTable, element);\n",
              "          const docLink = document.createElement('div');\n",
              "          docLink.innerHTML = docLinkHtml;\n",
              "          element.appendChild(docLink);\n",
              "        }\n",
              "      </script>\n",
              "    </div>\n",
              "  </div>\n",
              "  "
            ]
          },
          "metadata": {},
          "execution_count": 20
        }
      ],
      "source": [
        "cumCounts.loc[[5, 10, 20, 50, 100, 200]]"
      ]
    },
    {
      "cell_type": "code",
      "execution_count": null,
      "metadata": {
        "id": "WzGLPyhrd0ce"
      },
      "outputs": [],
      "source": [
        "1945572 / 52594"
      ]
    },
    {
      "cell_type": "code",
      "execution_count": null,
      "metadata": {
        "id": "thRRoyMOfti4"
      },
      "outputs": [],
      "source": [
        "bucketSizes = evidence.groupby('bucketId').size().sort_values(ascending=False)\n",
        "plt.plot(np.arange(100), bucketSizes.iloc[0:100])"
      ]
    },
    {
      "cell_type": "code",
      "execution_count": null,
      "metadata": {
        "id": "jA7sBRc6_arx"
      },
      "outputs": [],
      "source": [
        "def plotHeaderSizes(header: str):\n",
        "  counts = evidence[header].str.len().value_counts()\n",
        "  sizes = (counts / sum(counts)).sort_index().plot(label=header, xlim=(0, 30))\n",
        "[plotHeaderSizes(h) for h in ['block', 'hat',]]"
      ]
    },
    {
      "cell_type": "markdown",
      "metadata": {
        "id": "gRN8e0Ge_arx"
      },
      "source": [
        "## Graph"
      ]
    },
    {
      "cell_type": "markdown",
      "metadata": {
        "id": "uJEk_YeMJ48V"
      },
      "source": [
        "### Adjacency"
      ]
    },
    {
      "cell_type": "code",
      "execution_count": null,
      "metadata": {
        "id": "dGwwrxVe_ary"
      },
      "outputs": [],
      "source": [
        "evidence = all"
      ]
    },
    {
      "cell_type": "code",
      "execution_count": null,
      "metadata": {
        "id": "2bTZNCgZ_ary"
      },
      "outputs": [],
      "source": [
        "buckets = evidence['bucketId'].drop_duplicates().reset_index(drop=True)\n",
        "bucketIndexes = pd.Series(buckets.index.values, index=buckets)\n",
        "fileIds = evidence['fileId'].drop_duplicates().reset_index(drop=True)"
      ]
    },
    {
      "cell_type": "code",
      "execution_count": null,
      "metadata": {
        "id": "502h5SSg_ary"
      },
      "outputs": [],
      "source": [
        "import itertools\n",
        "from scipy import sparse\n",
        "from sklearn.preprocessing import normalize"
      ]
    },
    {
      "cell_type": "code",
      "execution_count": null,
      "metadata": {
        "id": "4SkqTlBI_arz"
      },
      "outputs": [],
      "source": [
        "def genEdges():\n",
        "  edges = {}\n",
        "  print(\"Grouping...\")\n",
        "  groups = evidence.groupby(['fileId', 'pocket', 'hat', 'block'])\n",
        "  print(\"Generating edges...\")\n",
        "  for name, group in tqdm(groups):\n",
        "    for edge in itertools.combinations(bucketIndexes[group['bucketId']], 2):\n",
        "      edges[edge] = edges.get(edge, 0) + 1\n",
        "  return edges"
      ]
    },
    {
      "cell_type": "code",
      "execution_count": null,
      "metadata": {
        "colab": {
          "base_uri": "https://localhost:8080/"
        },
        "id": "R3pJ3LZm_arz",
        "outputId": "ef62c399-8aa0-4948-8769-8274de6d8bb4"
      },
      "outputs": [
        {
          "data": {
            "text/plain": [
              "<1631614x1631614 sparse matrix of type '<class 'numpy.float64'>'\n",
              "\twith 5502944 stored elements in Compressed Sparse Column format>"
            ]
          },
          "execution_count": 29,
          "metadata": {},
          "output_type": "execute_result"
        }
      ],
      "source": [
        "try:\n",
        "  adjacency = sparse.load_npz(DATA_PATH + '.npz')\n",
        "except FileNotFoundError:\n",
        "  edges = genEdges()\n",
        "  keys = np.array(list(edges.keys()))\n",
        "  adjacency = sparse.coo_matrix((list(edges.values()), (keys[:, 0], keys[:, 1])), shape=(len(buckets), len(buckets)), dtype=np.int32)\n",
        "\n",
        "  # Evidence should be a few times more related to itself than any other evidence, 3 specifically is arbitrary and could be changed\n",
        "  diag = adjacency.max(axis=0).A[0] * 3\n",
        "  # Fix evidence thats not related to anything\n",
        "  diag[diag == 0] = 1\n",
        "  adjacency.setdiag(diag)\n",
        "\n",
        "  sparse.save_npz(DATA_PATH + '.npz', adjacency)\n",
        "adjacency = adjacency.tocsc()\n",
        "adjacencyN = normalize(adjacency, norm='l1', axis=0)\n",
        "adjacencyN"
      ]
    },
    {
      "cell_type": "code",
      "execution_count": null,
      "metadata": {
        "id": "zNLI4cOhBcCu"
      },
      "outputs": [],
      "source": [
        "# squaredN = adjacencyN ** 2"
      ]
    },
    {
      "cell_type": "code",
      "execution_count": null,
      "metadata": {
        "id": "Dcbtgfwm_arz"
      },
      "outputs": [],
      "source": [
        "def listToVec(l, size):\n",
        "  return sparse.csc_matrix(\n",
        "      (np.ones(len(l)), (l, np.zeros(len(l), dtype=np.int32))),\n",
        "      shape=(size, 1)\n",
        "  )\n",
        "\n",
        "def vecToSortedSeries(v):\n",
        "  return pd.Series(index=v.tocoo().row, data=v.data).sort_values(ascending=False)\n",
        "\n",
        "def getAdjacent(ids, iters=2, raw=False):\n",
        "  v = listToVec(list(ids), adjacencyN.shape[0])\n",
        "  if (iters % 2 == 1): v = adjacencyN @ v\n",
        "  for i in range(iters // 2): v = squaredN @ v\n",
        "\n",
        "  return v if raw else vecToSortedSeries(v)"
      ]
    },
    {
      "cell_type": "markdown",
      "metadata": {
        "id": "RJTunVSKJ97B"
      },
      "source": [
        "### Install"
      ]
    },
    {
      "cell_type": "code",
      "execution_count": null,
      "metadata": {
        "id": "mD6HszUp_ar0"
      },
      "outputs": [],
      "source": [
        "# https://colab.research.google.com/github/count0/colab-gt/blob/master/colab-gt.ipynb\n",
        "!echo \"deb http://downloads.skewed.de/apt focal main\" >> /etc/apt/sources.list\n",
        "!apt-key adv --keyserver keyserver.ubuntu.com --recv-key 612DEFB798507F25\n",
        "!apt-get update\n",
        "!apt-get install python3-graph-tool python3-cairo\n",
        "!apt purge python3-cairo\n",
        "!apt install libcairo2-dev pkg-config python3-dev\n",
        "!pip install --force-reinstall pycairo\n",
        "!pip install zstandard"
      ]
    },
    {
      "cell_type": "code",
      "execution_count": null,
      "metadata": {
        "id": "deitxCNO_ar0"
      },
      "outputs": [],
      "source": [
        "import graph_tool.all as gt"
      ]
    },
    {
      "cell_type": "markdown",
      "metadata": {
        "id": "msGL2u7LKASy"
      },
      "source": [
        "### Generate"
      ]
    },
    {
      "cell_type": "code",
      "execution_count": null,
      "metadata": {
        "id": "fI5o1hGG_ar0"
      },
      "outputs": [],
      "source": [
        "def adjacencyToGt(adjacency):\n",
        "  g = gt.Graph()\n",
        "  g.add_vertex(adjacency.shape[0])\n",
        "\n",
        "  ids = adjacency.nonzero()\n",
        "  weights = adjacency[ids]\n",
        "\n",
        "  g.edge_properties.weight = g.new_edge_property('double')\n",
        "  g.edge_properties.inverse_weight = g.new_edge_property('double')\n",
        "  g.add_edge_list(np.transpose(ids))\n",
        "  g.ep.weight.a = weights\n",
        "  g.ep.inverse_weight.a = 1 - weights\n",
        "  return g"
      ]
    },
    {
      "cell_type": "code",
      "execution_count": null,
      "metadata": {
        "id": "9lkwAYR__ar0"
      },
      "outputs": [],
      "source": [
        "evidenceGraph = adjacencyToGt(adjacencyN)\n",
        "graph = evidenceGraph"
      ]
    },
    {
      "cell_type": "code",
      "execution_count": null,
      "metadata": {
        "id": "BJeee8pD_ar1",
        "outputId": "a240a6b4-8f74-465a-8b2f-c5a56b78cf6d"
      },
      "outputs": [
        {
          "data": {
            "text/plain": [
              "29737"
            ]
          },
          "execution_count": 89,
          "metadata": {},
          "output_type": "execute_result"
        }
      ],
      "source": [
        "bucketIndexes[28377]"
      ]
    },
    {
      "cell_type": "code",
      "execution_count": null,
      "metadata": {
        "id": "u9JYnHkG_ar1"
      },
      "outputs": [],
      "source": [
        "def showPath(vlist, iloc=0):\n",
        "  return showBucketSeries(buckets.iloc[[int(v) for v in vlist]], indexes=range(len(vlist)), iloc=iloc)"
      ]
    },
    {
      "cell_type": "code",
      "execution_count": null,
      "metadata": {
        "colab": {
          "base_uri": "https://localhost:8080/"
        },
        "id": "C2yzYnad_ar1",
        "outputId": "80c1b76a-262e-4cde-c3f8-97319f6b642b"
      },
      "outputs": [
        {
          "data": {
            "text/plain": [
              "(['317887', '340360', '462', '221631'],\n",
              " ['(317887, 340360)', '(340360, 462)', '(462, 221631)'])"
            ]
          },
          "execution_count": 33,
          "metadata": {},
          "output_type": "execute_result"
        }
      ],
      "source": [
        "vlist, elist = gt.shortest_path(graph, bucketIndexes[5453], bucketIndexes[8998], weights=graph.ep.inverse_weight)\n",
        "[str(v) for v in vlist], [str(e) for e in elist]"
      ]
    },
    {
      "cell_type": "code",
      "execution_count": null,
      "metadata": {
        "id": "9ywX8glN_ar1"
      },
      "outputs": [],
      "source": [
        "showPath(vlist)"
      ]
    },
    {
      "cell_type": "code",
      "execution_count": null,
      "metadata": {
        "id": "iyJd3_HBGEMw"
      },
      "outputs": [],
      "source": []
    },
    {
      "cell_type": "markdown",
      "metadata": {
        "id": "FQV7cyzf4ix0"
      },
      "source": [
        "## Embedding"
      ]
    },
    {
      "cell_type": "code",
      "source": [
        "threshold = 10\n",
        "suffix = \"common\" + str(threshold)"
      ],
      "metadata": {
        "id": "7POk3RxTnM3K"
      },
      "execution_count": null,
      "outputs": []
    },
    {
      "cell_type": "code",
      "source": [
        "commonIds = all.value_counts(\"bucketId\")\n",
        "commonIds = commonIds[commonIds >= threshold].index"
      ],
      "metadata": {
        "id": "F0TB9ZRnZyfu"
      },
      "execution_count": null,
      "outputs": []
    },
    {
      "cell_type": "code",
      "source": [
        "evidence = nonAnalytic[nonAnalytic.bucketId.isin(commonIds)]\n",
        "# evidence = openev2021"
      ],
      "metadata": {
        "id": "H5_BnrUeZxW9"
      },
      "execution_count": null,
      "outputs": []
    },
    {
      "cell_type": "markdown",
      "metadata": {
        "id": "X9mciogAN_Nu"
      },
      "source": [
        "### Build PPMI Matrix"
      ]
    },
    {
      "cell_type": "code",
      "execution_count": null,
      "metadata": {
        "id": "TUD-BEEZ7riv"
      },
      "outputs": [],
      "source": [
        "buckets = evidence['bucketId'].drop_duplicates().reset_index(drop=True)\n",
        "bucketIndexes = pd.Series(buckets.index.values, index=buckets)\n",
        "fileIds = evidence['fileId'].drop_duplicates().reset_index(drop=True)"
      ]
    },
    {
      "cell_type": "code",
      "execution_count": null,
      "metadata": {
        "id": "MGPxNDdg4k4U"
      },
      "outputs": [],
      "source": [
        "from scipy import sparse\n",
        "import itertools\n",
        "\n",
        "levels = ['fileId', 'pocket', 'hat', 'block']\n",
        "def build_co_occurrence(window_level=\"pocket\"):\n",
        "  M = sparse.lil_matrix((len(buckets), len(buckets)), dtype=np.int32)\n",
        "\n",
        "  groups = evidence.groupby(levels[0:levels.index(window_level) + 1])\n",
        "  for name, group in tqdm(groups):\n",
        "    # Sparse matricies cant really vecotrize this\n",
        "    for edge in itertools.combinations(bucketIndexes[group['bucketId']], 2):\n",
        "      M[edge] += 1\n",
        "  return (M + M.T).tocsr()"
      ]
    },
    {
      "cell_type": "code",
      "execution_count": null,
      "metadata": {
        "colab": {
          "base_uri": "https://localhost:8080/"
        },
        "id": "c-KkKk7cbpKo",
        "outputId": "367e3f93-f677-4230-de2c-1a127c43465d"
      },
      "outputs": [
        {
          "output_type": "execute_result",
          "data": {
            "text/plain": [
              "<52594x52594 sparse matrix of type '<class 'numpy.int32'>'\n",
              "\twith 8978634 stored elements in Compressed Sparse Row format>"
            ]
          },
          "metadata": {},
          "execution_count": 31
        }
      ],
      "source": [
        "try:\n",
        "  co_occurence = sparse.load_npz(f'{DATA_PATH}_cooc_{suffix}.npz').tocsr()\n",
        "except FileNotFoundError:\n",
        "  co_occurence = build_co_occurrence()\n",
        "  sparse.save_npz(f'{DATA_PATH}_cooc_{suffix}.npz', co_occurence)\n",
        "co_occurence"
      ]
    },
    {
      "cell_type": "code",
      "execution_count": null,
      "metadata": {
        "id": "lCj8znl99MQb"
      },
      "outputs": [],
      "source": [
        "def total_to_divideMatrix(totals: np.array):\n",
        "  with np.errstate(divide='ignore'):\n",
        "    M = 1 / totals\n",
        "  M[np.isinf(M)] = 0\n",
        "  return sparse.diags(M)\n",
        "\n",
        "def build_ppmi(M: sparse.csr_matrix):\n",
        "  probabilities = M.copy()\n",
        "\n",
        "  # Will be same when symmetric\n",
        "  word_totals = np.array(co_occurence.sum(axis=0))[0]\n",
        "  context_totals = np.array(co_occurence.sum(axis=1))[:, 0]\n",
        "\n",
        "  # pmi_wc = log(P(w, c) / (P(w) * P(c)))\n",
        "  #        = log((#(w, c) / total) / ((#(w) / total) * (#(c) / total)))\n",
        "  #        = log(#(w, c) * total) / (#(w) * #(c))\n",
        "\n",
        "  #(w, c) * total\n",
        "  probabilities *= word_totals.sum()\n",
        "\n",
        "  word_divider = total_to_divideMatrix(word_totals)\n",
        "  context_divider = total_to_divideMatrix(context_totals)\n",
        "  # / ((#w) * (#c))\n",
        "  probabilities = word_divider @ probabilities @ context_divider # Divide each row by word_divider, column by context_divider\n",
        "\n",
        "  probabilities.data = np.maximum(probabilities.data, 1) # Clamps log to 0 for ppmi\n",
        "  probabilities.data = np.log2(probabilities.data)\n",
        "  return probabilities"
      ]
    },
    {
      "cell_type": "code",
      "execution_count": null,
      "metadata": {
        "id": "qC0o4Mti7RKi",
        "colab": {
          "base_uri": "https://localhost:8080/"
        },
        "outputId": "784b2abe-c75b-485e-cc64-6dfd7039f50f"
      },
      "outputs": [
        {
          "output_type": "execute_result",
          "data": {
            "text/plain": [
              "<52594x52594 sparse matrix of type '<class 'numpy.float64'>'\n",
              "\twith 8978634 stored elements in Compressed Sparse Row format>"
            ]
          },
          "metadata": {},
          "execution_count": 35
        }
      ],
      "source": [
        "ppmi = build_ppmi(co_occurence)\n",
        "# print(\"Saving\")\n",
        "# sparse.save_npz(f'{DATA_PATH}_ppmi_{suffix}.npz', ppmi)\n",
        "# bucketIndexes.to_csv(f'{DATA_PATH}_bucketIndexes_{suffix}.csv')\n",
        "ppmi"
      ]
    },
    {
      "cell_type": "code",
      "execution_count": null,
      "metadata": {
        "id": "VZhfEcaLFnZl"
      },
      "outputs": [],
      "source": [
        "# plt.matshow(ppmi[0:5000, 0:5000].todense())"
      ]
    },
    {
      "cell_type": "markdown",
      "metadata": {
        "id": "SikuT9mRODPE"
      },
      "source": [
        "### Truncated SVD Factorization"
      ]
    },
    {
      "cell_type": "code",
      "execution_count": null,
      "metadata": {
        "id": "evgwMuQ1OIBp"
      },
      "outputs": [],
      "source": [
        "from sklearn.decomposition import TruncatedSVD\n",
        "from sklearn.preprocessing import normalize\n",
        "def reduce_to_k_dim(ppmi: sparse.csc_matrix, k: int, eig=0, n_iters=10):\n",
        "  print(f\"Reducing {ppmi.shape[0]} cards to {k} dimensions\")\n",
        "  global svd\n",
        "  svd = TruncatedSVD(n_components=k, n_iter=n_iters)\n",
        "  embeddings = svd.fit_transform(ppmi)\n",
        "  # https://aclanthology.org/Q15-1016.pdf shows not scaling by singular values can give better results\n",
        "  embeddings /= (svd.singular_values_ ** (1 - eig))\n",
        "  return normalize(embeddings)"
      ]
    },
    {
      "cell_type": "code",
      "execution_count": null,
      "metadata": {
        "colab": {
          "base_uri": "https://localhost:8080/"
        },
        "id": "WQJSOVhKPQ3I",
        "outputId": "bb54fa05-8e71-4d48-fde6-9ccb04920e2f"
      },
      "outputs": [
        {
          "output_type": "stream",
          "name": "stdout",
          "text": [
            "Reducing 52594 cards to 1000 dimensions\n"
          ]
        }
      ],
      "source": [
        "embeddings = reduce_to_k_dim(ppmi, 100)"
      ]
    },
    {
      "cell_type": "code",
      "source": [
        "np.save(f'{DATA_PATH}_embed_{suffix}.npy', embeddings)"
      ],
      "metadata": {
        "id": "j9ALhhmlZdLY"
      },
      "execution_count": null,
      "outputs": []
    },
    {
      "cell_type": "code",
      "source": [
        "plt.matshow(embeddings.T[:, 0:1000])"
      ],
      "metadata": {
        "colab": {
          "base_uri": "https://localhost:8080/",
          "height": 159
        },
        "id": "iCfuGkNIaSYu",
        "outputId": "d542584e-0bac-4ed3-9a00-31540bc40e59"
      },
      "execution_count": null,
      "outputs": [
        {
          "output_type": "execute_result",
          "data": {
            "text/plain": [
              "<matplotlib.image.AxesImage at 0x7fbc5e1a9250>"
            ]
          },
          "metadata": {},
          "execution_count": 96
        },
        {
          "output_type": "display_data",
          "data": {
            "text/plain": [
              "<Figure size 1152x144 with 1 Axes>"
            ],
            "image/png": "[encoded data removed]"
          },
          "metadata": {
            "needs_background": "light"
          }
        }
      ]
    },
    {
      "cell_type": "markdown",
      "metadata": {
        "id": "R35VQSekQNRs"
      },
      "source": [
        "### Analysis"
      ]
    },
    {
      "cell_type": "code",
      "execution_count": null,
      "metadata": {
        "colab": {
          "base_uri": "https://localhost:8080/"
        },
        "id": "KqD99qW5QOT5",
        "outputId": "2c8aea5f-e7f8-425f-adcc-a85a7cbb5a66"
      },
      "outputs": [
        {
          "output_type": "stream",
          "name": "stdout",
          "text": [
            "Reducing 52594 cards to 2 dimensions\n"
          ]
        }
      ],
      "source": [
        "embeddings2d = reduce_to_k_dim(ppmi, 2, n_iters=20, eig=1)"
      ]
    },
    {
      "cell_type": "code",
      "source": [
        "from sklearn.manifold import TSNE"
      ],
      "metadata": {
        "id": "lJ4FPzMMm6zN"
      },
      "execution_count": null,
      "outputs": []
    },
    {
      "cell_type": "code",
      "source": [
        "embeddings50 = reduce_to_k_dim(ppmi, 50, eig=1)\n",
        "print(\"Embeddings done\")\n",
        "tsne = TSNE(n_components=2)\n",
        "tsneData = tsne.fit_transform(embeddings50, )"
      ],
      "metadata": {
        "colab": {
          "base_uri": "https://localhost:8080/"
        },
        "id": "aA6qZAC-m1nA",
        "outputId": "62cfafe8-21c7-44c0-f73c-b0c07690975d"
      },
      "execution_count": null,
      "outputs": [
        {
          "output_type": "stream",
          "name": "stdout",
          "text": [
            "Reducing 52594 cards to 50 dimensions\n",
            "Embeddings done\n"
          ]
        },
        {
          "output_type": "stream",
          "name": "stderr",
          "text": [
            "/usr/local/lib/python3.8/dist-packages/sklearn/manifold/_t_sne.py:780: FutureWarning: The default initialization in TSNE will change from 'random' to 'pca' in 1.2.\n",
            "  warnings.warn(\n",
            "/usr/local/lib/python3.8/dist-packages/sklearn/manifold/_t_sne.py:790: FutureWarning: The default learning rate in TSNE will change from 200.0 to 'auto' in 1.2.\n",
            "  warnings.warn(\n"
          ]
        }
      ]
    },
    {
      "cell_type": "code",
      "source": [
        "def plot_cards(coords, cards, freq=1000):\n",
        "  num_colors = 100\n",
        "  cm = plt.get_cmap('gist_rainbow')\n",
        "  for i, card in cards.iterrows():\n",
        "    x, y = coords[bucketIndexes[card.bucketId]]\n",
        "    if i % freq == 0: plt.scatter(x, y, color=cm(((card.fileId * 149) % num_colors) / num_colors))"
      ],
      "metadata": {
        "id": "CTJVijhEmtF7"
      },
      "execution_count": null,
      "outputs": []
    },
    {
      "cell_type": "code",
      "execution_count": null,
      "metadata": {
        "colab": {
          "base_uri": "https://localhost:8080/",
          "height": 265
        },
        "id": "lW7OV3oaQ23d",
        "outputId": "122d6eca-3ce8-4d0e-fc38-830c17b26fe4"
      },
      "outputs": [
        {
          "output_type": "display_data",
          "data": {
            "text/plain": [
              "<Figure size 432x288 with 1 Axes>"
            ],
            "image/png": "[encoded data removed]"
          },
          "metadata": {
            "needs_background": "light"
          }
        }
      ],
      "source": [
        "# plot_cards(embeddings2d, evidence.drop_duplicates('bucketId'), 1000)\n",
        "plot_cards(embeddings2d, evidence[evidence.fileId.isin([1958, 1143, 1729, 2235])], 2)"
      ]
    },
    {
      "cell_type": "code",
      "source": [
        "evidence.drop_duplicates('bucketId').value_counts('fileId')"
      ],
      "metadata": {
        "colab": {
          "base_uri": "https://localhost:8080/"
        },
        "id": "b_uSpOcpdgGq",
        "outputId": "b2325f64-4261-4069-9839-8136c13e07f6"
      },
      "execution_count": null,
      "outputs": [
        {
          "output_type": "execute_result",
          "data": {
            "text/plain": [
              "fileId\n",
              "1958      50\n",
              "1143      31\n",
              "1729      29\n",
              "1726      26\n",
              "2335      26\n",
              "          ..\n",
              "47055      1\n",
              "47051      1\n",
              "47038      1\n",
              "47037      1\n",
              "139125     1\n",
              "Length: 34518, dtype: int64"
            ]
          },
          "metadata": {},
          "execution_count": 88
        }
      ]
    },
    {
      "cell_type": "markdown",
      "source": [
        "### Graph"
      ],
      "metadata": {
        "id": "SaJE-MeJgSEp"
      }
    },
    {
      "cell_type": "markdown",
      "source": [
        "#### Build"
      ],
      "metadata": {
        "id": "9a8EGofBod0P"
      }
    },
    {
      "cell_type": "code",
      "source": [
        "# !pip install faiss-cpu\n",
        "# import faiss"
      ],
      "metadata": {
        "id": "PTqkJuutmCiF"
      },
      "execution_count": null,
      "outputs": []
    },
    {
      "cell_type": "code",
      "source": [
        "try:\n",
        "  embeddings\n",
        "except:\n",
        "  embeddings = np.load(f'{DATA_PATH}_embed_{suffix}.npy')"
      ],
      "metadata": {
        "id": "omoxw_w2mEnQ"
      },
      "execution_count": null,
      "outputs": []
    },
    {
      "cell_type": "code",
      "source": [
        "def buildGraph(embeddings, limit=20, cutoff=0.6, batch_size=2048):\n",
        "  batches = list(range(0, embeddings.shape[0], batch_size)) + [embeddings.shape[0]]\n",
        "  g = sparse.lil_matrix((embeddings.shape[0], embeddings.shape[0]))\n",
        "\n",
        "  for start, end in tqdm(zip(batches, batches[1:]), total=len(batches) - 1):\n",
        "    similarities = embeddings[start:end] @ embeddings.T\n",
        "    # Set similarities with self to 0\n",
        "    similarities[np.arange(end - start), np.arange(end - start) + start] = 0\n",
        "\n",
        "    # Flip signs so sort is in correct direction\n",
        "    similarities *= -1\n",
        "    argMaxes = similarities.argpartition(10)[:, :limit]\n",
        "    similarities *= -1\n",
        "\n",
        "    # Get values above cuttoff\n",
        "    max_values = similarities[np.arange(argMaxes.shape[0])[:, np.newaxis], argMaxes]\n",
        "    cutoff_indexes = (max_values >= cutoff).nonzero()\n",
        "    top_indexes = cutoff_indexes[0], argMaxes[cutoff_indexes]\n",
        "\n",
        "    g[top_indexes[0] + start, top_indexes[1]] = similarities[top_indexes]\n",
        "  return g"
      ],
      "metadata": {
        "id": "tuK6nPoEwZbB"
      },
      "execution_count": null,
      "outputs": []
    },
    {
      "cell_type": "code",
      "source": [
        "adjacency = buildGraph(embeddings, limit=20, cutoff=0.6, batch_size=2048)"
      ],
      "metadata": {
        "colab": {
          "base_uri": "https://localhost:8080/",
          "height": 49,
          "referenced_widgets": [
            "4f11af0945e148d1812fc74350128a49",
            "055d2434ee844feea3353e4f8b62f898",
            "8cc696d8785b441997438796170d85d3",
            "a846d73da476476eb82742956ae5e17e",
            "2995fbae9d8d4ff4863b81e94024625f",
            "c5457cc01ef44322bc181dc36267d3b6",
            "dd6ec17a2b834bfbb16ba12b1d9aba69",
            "2c61fcba854240c4b73d57a675495e8b",
            "20aa1c53044744d481c225b4256900d4",
            "4f3708dd59e34f4c992a9ce10be9c31f",
            "c51dbabc758b4da7bc187cc88d798fa0"
          ]
        },
        "id": "AuE9B73AhzpE",
        "outputId": "081f4b08-9ae5-4893-c00d-abc6e92a04ce"
      },
      "execution_count": null,
      "outputs": [
        {
          "output_type": "display_data",
          "data": {
            "text/plain": [
              "  0%|          | 0/26 [00:00<?, ?it/s]"
            ],
            "application/vnd.jupyter.widget-view+json": {
              "version_major": 2,
              "version_minor": 0,
              "model_id": "4f11af0945e148d1812fc74350128a49"
            }
          },
          "metadata": {}
        }
      ]
    },
    {
      "cell_type": "code",
      "source": [
        "plt.rcParams[\"figure.figsize\"] = (10, 10)\n",
        "plt.matshow(adjacency[:1000, :1000].todense())"
      ],
      "metadata": {
        "id": "YpP05WeCvm8q"
      },
      "execution_count": null,
      "outputs": []
    },
    {
      "cell_type": "code",
      "source": [
        "# plt.hist(top[:, 0], alpha=0.5, label='largest')\n",
        "# plt.hist(top[:, -1], alpha=0.5, label='last')\n",
        "# plt.legend()"
      ],
      "metadata": {
        "colab": {
          "base_uri": "https://localhost:8080/",
          "height": 283
        },
        "id": "_L-6fj2dnaXG",
        "outputId": "810586a3-0c2a-4a85-c80a-2d9de8622379"
      },
      "execution_count": null,
      "outputs": [
        {
          "output_type": "execute_result",
          "data": {
            "text/plain": [
              "<matplotlib.legend.Legend at 0x7f26c3db2fd0>"
            ]
          },
          "metadata": {},
          "execution_count": 106
        },
        {
          "output_type": "display_data",
          "data": {
            "text/plain": [
              "<Figure size 432x288 with 1 Axes>"
            ],
            "image/png": "[encoded data removed]"
          },
          "metadata": {
            "needs_background": "light"
          }
        }
      ]
    },
    {
      "cell_type": "code",
      "source": [
        "import networkx as nx"
      ],
      "metadata": {
        "id": "dKwP4DhuokeH"
      },
      "execution_count": null,
      "outputs": []
    },
    {
      "cell_type": "code",
      "source": [
        "g = nx.Graph(adjacency)"
      ],
      "metadata": {
        "id": "pQL5erDFonew"
      },
      "execution_count": null,
      "outputs": []
    },
    {
      "cell_type": "code",
      "source": [
        "nx.write_gml(g, f'{DATA_PATH}_graph_{suffix}.gml')"
      ],
      "metadata": {
        "id": "NueLn_uJnZZ_"
      },
      "execution_count": null,
      "outputs": []
    },
    {
      "cell_type": "markdown",
      "source": [
        "#### Analyze"
      ],
      "metadata": {
        "id": "UX6P9uDdlZ6A"
      }
    },
    {
      "cell_type": "code",
      "source": [
        "g[0]"
      ],
      "metadata": {
        "colab": {
          "base_uri": "https://localhost:8080/"
        },
        "id": "0REnv0iXlc_S",
        "outputId": "38e7b0a7-3a07-4790-d369-0c5e1a5f594e"
      },
      "execution_count": null,
      "outputs": [
        {
          "output_type": "execute_result",
          "data": {
            "text/plain": [
              "AtlasView({124: {'weight': 0.9172831237736033}, 604: {'weight': 0.9401104840595443}, 1573: {'weight': 0.9174791112235398}, 3370: {'weight': 0.9184135340064117}, 4902: {'weight': 0.9394870981094164}, 5733: {'weight': 0.9146740962478954}, 6026: {'weight': 0.9198903465102997}, 8012: {'weight': 0.9186000148331361}, 9545: {'weight': 0.9485246700147486}, 11550: {'weight': 0.9194888718930746}, 12128: {'weight': 0.9418304351590978}, 23920: {'weight': 0.937084838295559}, 24534: {'weight': 0.9231894091579408}, 24735: {'weight': 0.9113847785548308}, 33649: {'weight': 0.9153059006371017}, 39101: {'weight': 0.9361293497842377}, 43760: {'weight': 0.9225095892410087}, 45083: {'weight': 0.9240783733411733}, 46660: {'weight': 0.9124260886479462}, 46965: {'weight': 0.9385682991191093}, 156: {'weight': 0.8466351376686468}, 1725: {'weight': 0.7641649072295739}, 4297: {'weight': 0.9058916918514144}, 5089: {'weight': 0.8192997483621121}, 6838: {'weight': 0.8325341870453165}, 10237: {'weight': 0.8018932864308753}, 10514: {'weight': 0.790392748866303}, 11057: {'weight': 0.8230796920772049}, 14691: {'weight': 0.7769234869950572}, 19883: {'weight': 0.8858447337186623}, 21531: {'weight': 0.6310754609850796}, 24455: {'weight': 0.8071501910361183}, 25054: {'weight': 0.9063040741185712}, 31693: {'weight': 0.8168436103913814}, 33120: {'weight': 0.6476264594721526}, 38084: {'weight': 0.8559670938809103}, 38231: {'weight': 0.7086522312990361}, 39592: {'weight': 0.7852779451607749}, 50478: {'weight': 0.8611028563011214}})"
            ]
          },
          "metadata": {},
          "execution_count": 13
        }
      ]
    },
    {
      "cell_type": "markdown",
      "source": [
        "## Semantic index"
      ],
      "metadata": {
        "id": "XkF4V-ANdt9Y"
      }
    },
    {
      "cell_type": "markdown",
      "source": [
        "### Install"
      ],
      "metadata": {
        "id": "RRNRvaTGdy50"
      }
    },
    {
      "cell_type": "code",
      "source": [
        "%pip install txtai[graph]"
      ],
      "metadata": {
        "id": "5lRy7dxOdyOP"
      },
      "execution_count": null,
      "outputs": []
    },
    {
      "cell_type": "code",
      "source": [
        "%pip install sentence-transformers"
      ],
      "metadata": {
        "id": "UopLmUPXehdM"
      },
      "execution_count": null,
      "outputs": []
    },
    {
      "cell_type": "markdown",
      "source": [
        "### Index"
      ],
      "metadata": {
        "id": "y4NcGiZYfYYv"
      }
    },
    {
      "cell_type": "code",
      "source": [
        "from sentence_transformers import SentenceTransformer\n",
        "from txtai.embeddings import Embeddings"
      ],
      "metadata": {
        "id": "YkX4xsLsfadV"
      },
      "execution_count": null,
      "outputs": []
    },
    {
      "cell_type": "code",
      "source": [
        "embeddings = Embeddings({\n",
        "  \"path\": \"sentence-transformers/all-mpnet-base-v2\",\n",
        "  \"content\": True,\n",
        "  \"functions\": [\n",
        "    {\"name\": \"graph\", \"function\": \"graph.attribute\"},\n",
        "  ],\n",
        "  \"expressions\": [\n",
        "      {\"name\": \"topic\", \"expression\": \"graph(indexid, 'topic')\"},\n",
        "      {\"name\": \"topicrank\", \"expression\": \"graph(indexid, 'topicrank')\"}\n",
        "  ],\n",
        "  \"graph\": {\n",
        "      \"limit\": 100,\n",
        "      \"minscore\": 0.10,\n",
        "      \"topics\": {\n",
        "          \"terms\": 4,\n",
        "          \"resolution\" : 100\n",
        "      }\n",
        "  }\n",
        "})"
      ],
      "metadata": {
        "id": "QOfBylMCjaBd",
        "colab": {
          "base_uri": "https://localhost:8080/",
          "height": 209,
          "referenced_widgets": [
            "7a9a9c8dccfa4b988942f3e2ddd510e5",
            "5a6c2b4a99d2497fa0c300554e9662f0",
            "6251c0ef9779437cba5d854ea2e01727",
            "6f7ebf895b564d41a841b5873196154a",
            "c0060f0557bf44298b4a010dbfac37b4",
            "3379eb3619a04996bc4c8dd4b2e54ac1",
            "1e28eb463e2a47b5abb2b9b3b18aa6f4",
            "c50dfc7baeab45b3b9d13402c7842563",
            "1d8b3dfdf89a46d5aa9485117d19babc",
            "a007a9d693e641ecaa4fe207376e2bcc",
            "1be90d27a70644589a4ad1b789a4caca",
            "684c6cfb3f064a6daa95c3e498c3bcbe",
            "267baf0ae1be4ca98922eb6ff4463e14",
            "aaaf2b1723fc46109820f527681d793e",
            "5869b20755a34914a237a3bf210fa554",
            "a44b4564b0c646ed898c49fdf3af1d55",
            "73c0bdef59ff4aa9952c0be248c9bdf0",
            "2b24885042fd41b9828033a2105b6e43",
            "d7b8df13eb634d21ad21553de6408367",
            "7348f315e2f74ced9257fcb28f6597c1",
            "c945a7c65d1349fb9842b188438abf57",
            "b8745da20b214f289fd71f0177de39da",
            "a5b060e320594510aeadd93cb3ba1b1e",
            "d411b99b8b464cf7913cce408db7c192",
            "3cedee2d429e4786bae49c0b17c46966",
            "86fce3b6b1e5443e9a4355497aa62508",
            "e326de53648045839def88233cdc4aef",
            "7d3df4ab4c8943fc82f77009bc6aeb9f",
            "2eebc527c3dd445f8dccaa7d71490e30",
            "0940ccfa9b1f4028ae47e403ec6aaca6",
            "416da4277ec64940899ef2b760d46075",
            "754af5c91f444080abcb78a1e604c881",
            "c7c10a3cb673411991d71eb5da55542d",
            "46fdf10058524495b81077d22f85806d",
            "0386ae58a8f3402eb34bfb792e04e375",
            "f89c60483abd4aebb5c555eb7104d43b",
            "ae03bfe618544084b14c035da89756eb",
            "81f1791079d342adb784ae67e7899192",
            "f8ecae594fdb492d9920412ddf0135f7",
            "ffaa176a4617416c8364a5986544eb08",
            "c9ade81c99564c32bad98439ac082aca",
            "c0f746833b81430d8ed024a59e6b173a",
            "8548f8bfd12f47998034d1dad1147c04",
            "7c2ca5e44e454c1b89116c11f28af618",
            "9853e92b850e479c80ba9ca640edf9c3",
            "221b7f07aef445598418008ff34482b7",
            "329de52a64a44aac83b9b6d7c772bd7b",
            "49ca799692a44ba9872ec989144db304",
            "0ef30af2576a450eaa79923b5bd3467b",
            "9e37cdb2f70348c89e280f3e3a5a8b86",
            "bd4f841b5a32475d8d10deffd6528a4c",
            "5108e5d3f74b43d18258e825a2920cf1",
            "ed99305c9f1f4e56976b8b43d39975e8",
            "0ebef3e8cea548ffb3aeff5ba8e971c7",
            "6860f62a14b24b0ba08f589522efef85",
            "d5792565edf748689bec962ae451cf7e",
            "7fff8b9840e543c2bf9c8acb1aed74d2",
            "bb8ddbb51ec3495f9fe62eebd1210715",
            "27f713a87aa64b4594a5df5ffbd9716c",
            "5dc60c666d704c9ca1af466273489d4f",
            "2d1cc538fa784c12ba9aba3110773251",
            "4da39a45f6864b1bad009b3e7fb4b655",
            "170b00ca045e4479b14adfcff1fe7ffe",
            "65f21e55ef564fc5956f276e693c59dc",
            "02dd499ed2a3426d8a77756e7682a51d",
            "114cc2a783c2462194afe3512c59e129"
          ]
        },
        "outputId": "b143fb24-d580-4277-fff6-753d85a265cb"
      },
      "execution_count": null,
      "outputs": [
        {
          "output_type": "display_data",
          "data": {
            "text/plain": [
              "Downloading (…)lve/main/config.json:   0%|          | 0.00/571 [00:00<?, ?B/s]"
            ],
            "application/vnd.jupyter.widget-view+json": {
              "version_major": 2,
              "version_minor": 0,
              "model_id": "7a9a9c8dccfa4b988942f3e2ddd510e5"
            }
          },
          "metadata": {}
        },
        {
          "output_type": "display_data",
          "data": {
            "text/plain": [
              "Downloading (…)\"pytorch_model.bin\";:   0%|          | 0.00/438M [00:00<?, ?B/s]"
            ],
            "application/vnd.jupyter.widget-view+json": {
              "version_major": 2,
              "version_minor": 0,
              "model_id": "684c6cfb3f064a6daa95c3e498c3bcbe"
            }
          },
          "metadata": {}
        },
        {
          "output_type": "display_data",
          "data": {
            "text/plain": [
              "Downloading (…)okenizer_config.json:   0%|          | 0.00/363 [00:00<?, ?B/s]"
            ],
            "application/vnd.jupyter.widget-view+json": {
              "version_major": 2,
              "version_minor": 0,
              "model_id": "a5b060e320594510aeadd93cb3ba1b1e"
            }
          },
          "metadata": {}
        },
        {
          "output_type": "display_data",
          "data": {
            "text/plain": [
              "Downloading (…)solve/main/vocab.txt:   0%|          | 0.00/232k [00:00<?, ?B/s]"
            ],
            "application/vnd.jupyter.widget-view+json": {
              "version_major": 2,
              "version_minor": 0,
              "model_id": "46fdf10058524495b81077d22f85806d"
            }
          },
          "metadata": {}
        },
        {
          "output_type": "display_data",
          "data": {
            "text/plain": [
              "Downloading (…)/main/tokenizer.json:   0%|          | 0.00/466k [00:00<?, ?B/s]"
            ],
            "application/vnd.jupyter.widget-view+json": {
              "version_major": 2,
              "version_minor": 0,
              "model_id": "9853e92b850e479c80ba9ca640edf9c3"
            }
          },
          "metadata": {}
        },
        {
          "output_type": "display_data",
          "data": {
            "text/plain": [
              "Downloading (…)cial_tokens_map.json:   0%|          | 0.00/239 [00:00<?, ?B/s]"
            ],
            "application/vnd.jupyter.widget-view+json": {
              "version_major": 2,
              "version_minor": 0,
              "model_id": "d5792565edf748689bec962ae451cf7e"
            }
          },
          "metadata": {}
        }
      ]
    },
    {
      "cell_type": "code",
      "source": [
        "bucketCards = evidence.drop_duplicates(\"bucketId\")"
      ],
      "metadata": {
        "id": "0NqokTWpj09U"
      },
      "execution_count": null,
      "outputs": []
    },
    {
      "cell_type": "code",
      "source": [
        "docIterator = ((card.bucketId, card.tag, None) for _, card in bucketCards.iterrows())"
      ],
      "metadata": {
        "id": "HGPpOSqNUNQD"
      },
      "execution_count": null,
      "outputs": []
    },
    {
      "cell_type": "code",
      "source": [
        "embeddings.index(tqdm(docIterator, total=len(bucketCards)))"
      ],
      "metadata": {
        "id": "QPiHpa9iUoK7",
        "outputId": "ee1cfab2-ca99-45b4-ac9a-67efba6e3b8b",
        "colab": {
          "base_uri": "https://localhost:8080/",
          "height": 49,
          "referenced_widgets": [
            "9853ad5e38bf4a42a5d1dfcf171d8eae",
            "c749e861c9da4912aeb00cede2232a94",
            "6e2b7a23c18f495da458f46c54125320",
            "2f8f697b5c524e33b645feaac82f936f",
            "e3a2534dc62346628b311c7ac9370cd4",
            "0aba3f7b5d914c31802bf97e90d80232",
            "b75865bec5834f038da6e43fb83cf7eb",
            "d29c7f8da8d74291a86bdbaa927d8e01",
            "cde81dd4ddee4494b1bf0cab1227d738",
            "ccafeba4e2e84e4fa15be986af6a6f80",
            "143609af7d5e4c37be710ff34952296a"
          ]
        }
      },
      "execution_count": null,
      "outputs": [
        {
          "output_type": "display_data",
          "data": {
            "text/plain": [
              "  0%|          | 0/52594 [00:00<?, ?it/s]"
            ],
            "application/vnd.jupyter.widget-view+json": {
              "version_major": 2,
              "version_minor": 0,
              "model_id": "9853ad5e38bf4a42a5d1dfcf171d8eae"
            }
          },
          "metadata": {}
        }
      ]
    },
    {
      "cell_type": "code",
      "source": [
        "embeddings.save(DATA_PATH + \"_commonBuckets_mpnet.tar.gz\")"
      ],
      "metadata": {
        "id": "UQnqX8BfNwz7"
      },
      "execution_count": null,
      "outputs": []
    },
    {
      "cell_type": "code",
      "source": [
        "print(embeddings.graph.backend.number_of_nodes(), embeddings.graph.backend.number_of_edges())\n",
        "embeddings.graph.backend.number_of_edges() / embeddings.graph.backend.number_of_nodes()"
      ],
      "metadata": {
        "colab": {
          "base_uri": "https://localhost:8080/"
        },
        "id": "OpUC1KbyZ1nC",
        "outputId": "e6afdc56-fd34-4155-aab7-7a4e1eb780ab"
      },
      "execution_count": null,
      "outputs": [
        {
          "output_type": "stream",
          "name": "stdout",
          "text": [
            "52594 379619\n"
          ]
        },
        {
          "output_type": "execute_result",
          "data": {
            "text/plain": [
              "7.217914591017987"
            ]
          },
          "metadata": {},
          "execution_count": 25
        }
      ]
    },
    {
      "cell_type": "code",
      "source": [
        "def david_distance(source, target, attrs):\n",
        "    distance = max(1.0 - attrs[\"weight\"], 0.0)\n",
        "    return distance if distance >= 0.15 else 1.00\n",
        "\n",
        "def david_showpath(source, target, the_graph):\n",
        "    return nx.shortest_path(the_graph, source, target, david_distance)"
      ],
      "metadata": {
        "id": "z-KOmzP7artT"
      },
      "execution_count": null,
      "outputs": []
    },
    {
      "cell_type": "markdown",
      "metadata": {
        "id": "wW-w9xS9e0zK"
      },
      "source": [
        "## Profiler"
      ]
    },
    {
      "cell_type": "code",
      "execution_count": null,
      "metadata": {
        "colab": {
          "base_uri": "https://localhost:8080/"
        },
        "id": "_iYFtWtde152",
        "outputId": "f1de92bd-ec79-446b-e8fe-fdb595aad1c6"
      },
      "outputs": [
        {
          "name": "stdout",
          "output_type": "stream",
          "text": [
            "Looking in indexes: https://pypi.org/simple, https://us-python.pkg.dev/colab-wheels/public/simple/\n",
            "Collecting line_profiler\n",
            "  Downloading line_profiler-4.0.2-cp38-cp38-manylinux_2_17_x86_64.manylinux2014_x86_64.whl (673 kB)\n",
            "\u001b[2K     \u001b[90m━━━━━━━━━━━━━━━━━━━━━━━━━━━━━━━━━━━━━━\u001b[0m \u001b[32m673.6/673.6 KB\u001b[0m \u001b[31m41.4 MB/s\u001b[0m eta \u001b[36m0:00:00\u001b[0m\n",
            "\u001b[?25hInstalling collected packages: line_profiler\n",
            "Successfully installed line_profiler-4.0.2\n"
          ]
        }
      ],
      "source": [
        "!pip install line_profiler"
      ]
    },
    {
      "cell_type": "code",
      "execution_count": null,
      "metadata": {
        "id": "AfhkaSxbe2bS"
      },
      "outputs": [],
      "source": [
        "%load_ext line_profiler"
      ]
    },
    {
      "cell_type": "code",
      "execution_count": null,
      "metadata": {
        "id": "rjIGcmiWf5T8"
      },
      "outputs": [],
      "source": []
    }
  ],
  "metadata": {
    "colab": {
      "provenance": [],
      "toc_visible": true
    },
    "kernelspec": {
      "display_name": "dc",
      "language": "python",
      "name": "python3"
    },
    "language_info": {
      "codemirror_mode": {
        "name": "ipython",
        "version": 3
      },
      "file_extension": ".py",
      "mimetype": "text/x-python",
      "name": "python",
      "nbconvert_exporter": "python",
      "pygments_lexer": "ipython3",
      "version": "3.11.0"
    },
    "vscode": {
      "interpreter": {
        "hash": "eb720d3ab672a1702f6447f5398e32b41a77ddaebc8f8ac729bf75010de44003"
      }
    },
    "widgets": {
      "application/vnd.jupyter.widget-state+json": {
        "4f11af0945e148d1812fc74350128a49": {
          "model_module": "@jupyter-widgets/controls",
          "model_name": "HBoxModel",
          "model_module_version": "1.5.0",
          "state": {
            "_dom_classes": [],
            "_model_module": "@jupyter-widgets/controls",
            "_model_module_version": "1.5.0",
            "_model_name": "HBoxModel",
            "_view_count": null,
            "_view_module": "@jupyter-widgets/controls",
            "_view_module_version": "1.5.0",
            "_view_name": "HBoxView",
            "box_style": "",
            "children": [
              "IPY_MODEL_055d2434ee844feea3353e4f8b62f898",
              "IPY_MODEL_8cc696d8785b441997438796170d85d3",
              "IPY_MODEL_a846d73da476476eb82742956ae5e17e"
            ],
            "layout": "IPY_MODEL_2995fbae9d8d4ff4863b81e94024625f"
          }
        },
        "055d2434ee844feea3353e4f8b62f898": {
          "model_module": "@jupyter-widgets/controls",
          "model_name": "HTMLModel",
          "model_module_version": "1.5.0",
          "state": {
            "_dom_classes": [],
            "_model_module": "@jupyter-widgets/controls",
            "_model_module_version": "1.5.0",
            "_model_name": "HTMLModel",
            "_view_count": null,
            "_view_module": "@jupyter-widgets/controls",
            "_view_module_version": "1.5.0",
            "_view_name": "HTMLView",
            "description": "",
            "description_tooltip": null,
            "layout": "IPY_MODEL_c5457cc01ef44322bc181dc36267d3b6",
            "placeholder": "​",
            "style": "IPY_MODEL_dd6ec17a2b834bfbb16ba12b1d9aba69",
            "value": "100%"
          }
        },
        "8cc696d8785b441997438796170d85d3": {
          "model_module": "@jupyter-widgets/controls",
          "model_name": "FloatProgressModel",
          "model_module_version": "1.5.0",
          "state": {
            "_dom_classes": [],
            "_model_module": "@jupyter-widgets/controls",
            "_model_module_version": "1.5.0",
            "_model_name": "FloatProgressModel",
            "_view_count": null,
            "_view_module": "@jupyter-widgets/controls",
            "_view_module_version": "1.5.0",
            "_view_name": "ProgressView",
            "bar_style": "success",
            "description": "",
            "description_tooltip": null,
            "layout": "IPY_MODEL_2c61fcba854240c4b73d57a675495e8b",
            "max": 26,
            "min": 0,
            "orientation": "horizontal",
            "style": "IPY_MODEL_20aa1c53044744d481c225b4256900d4",
            "value": 26
          }
        },
        "a846d73da476476eb82742956ae5e17e": {
          "model_module": "@jupyter-widgets/controls",
          "model_name": "HTMLModel",
          "model_module_version": "1.5.0",
          "state": {
            "_dom_classes": [],
            "_model_module": "@jupyter-widgets/controls",
            "_model_module_version": "1.5.0",
            "_model_name": "HTMLModel",
            "_view_count": null,
            "_view_module": "@jupyter-widgets/controls",
            "_view_module_version": "1.5.0",
            "_view_name": "HTMLView",
            "description": "",
            "description_tooltip": null,
            "layout": "IPY_MODEL_4f3708dd59e34f4c992a9ce10be9c31f",
            "placeholder": "​",
            "style": "IPY_MODEL_c51dbabc758b4da7bc187cc88d798fa0",
            "value": " 26/26 [01:17&lt;00:00,  2.73s/it]"
          }
        },
        "2995fbae9d8d4ff4863b81e94024625f": {
          "model_module": "@jupyter-widgets/base",
          "model_name": "LayoutModel",
          "model_module_version": "1.2.0",
          "state": {
            "_model_module": "@jupyter-widgets/base",
            "_model_module_version": "1.2.0",
            "_model_name": "LayoutModel",
            "_view_count": null,
            "_view_module": "@jupyter-widgets/base",
            "_view_module_version": "1.2.0",
            "_view_name": "LayoutView",
            "align_content": null,
            "align_items": null,
            "align_self": null,
            "border": null,
            "bottom": null,
            "display": null,
            "flex": null,
            "flex_flow": null,
            "grid_area": null,
            "grid_auto_columns": null,
            "grid_auto_flow": null,
            "grid_auto_rows": null,
            "grid_column": null,
            "grid_gap": null,
            "grid_row": null,
            "grid_template_areas": null,
            "grid_template_columns": null,
            "grid_template_rows": null,
            "height": null,
            "justify_content": null,
            "justify_items": null,
            "left": null,
            "margin": null,
            "max_height": null,
            "max_width": null,
            "min_height": null,
            "min_width": null,
            "object_fit": null,
            "object_position": null,
            "order": null,
            "overflow": null,
            "overflow_x": null,
            "overflow_y": null,
            "padding": null,
            "right": null,
            "top": null,
            "visibility": null,
            "width": null
          }
        },
        "c5457cc01ef44322bc181dc36267d3b6": {
          "model_module": "@jupyter-widgets/base",
          "model_name": "LayoutModel",
          "model_module_version": "1.2.0",
          "state": {
            "_model_module": "@jupyter-widgets/base",
            "_model_module_version": "1.2.0",
            "_model_name": "LayoutModel",
            "_view_count": null,
            "_view_module": "@jupyter-widgets/base",
            "_view_module_version": "1.2.0",
            "_view_name": "LayoutView",
            "align_content": null,
            "align_items": null,
            "align_self": null,
            "border": null,
            "bottom": null,
            "display": null,
            "flex": null,
            "flex_flow": null,
            "grid_area": null,
            "grid_auto_columns": null,
            "grid_auto_flow": null,
            "grid_auto_rows": null,
            "grid_column": null,
            "grid_gap": null,
            "grid_row": null,
            "grid_template_areas": null,
            "grid_template_columns": null,
            "grid_template_rows": null,
            "height": null,
            "justify_content": null,
            "justify_items": null,
            "left": null,
            "margin": null,
            "max_height": null,
            "max_width": null,
            "min_height": null,
            "min_width": null,
            "object_fit": null,
            "object_position": null,
            "order": null,
            "overflow": null,
            "overflow_x": null,
            "overflow_y": null,
            "padding": null,
            "right": null,
            "top": null,
            "visibility": null,
            "width": null
          }
        },
        "dd6ec17a2b834bfbb16ba12b1d9aba69": {
          "model_module": "@jupyter-widgets/controls",
          "model_name": "DescriptionStyleModel",
          "model_module_version": "1.5.0",
          "state": {
            "_model_module": "@jupyter-widgets/controls",
            "_model_module_version": "1.5.0",
            "_model_name": "DescriptionStyleModel",
            "_view_count": null,
            "_view_module": "@jupyter-widgets/base",
            "_view_module_version": "1.2.0",
            "_view_name": "StyleView",
            "description_width": ""
          }
        },
        "2c61fcba854240c4b73d57a675495e8b": {
          "model_module": "@jupyter-widgets/base",
          "model_name": "LayoutModel",
          "model_module_version": "1.2.0",
          "state": {
            "_model_module": "@jupyter-widgets/base",
            "_model_module_version": "1.2.0",
            "_model_name": "LayoutModel",
            "_view_count": null,
            "_view_module": "@jupyter-widgets/base",
            "_view_module_version": "1.2.0",
            "_view_name": "LayoutView",
            "align_content": null,
            "align_items": null,
            "align_self": null,
            "border": null,
            "bottom": null,
            "display": null,
            "flex": null,
            "flex_flow": null,
            "grid_area": null,
            "grid_auto_columns": null,
            "grid_auto_flow": null,
            "grid_auto_rows": null,
            "grid_column": null,
            "grid_gap": null,
            "grid_row": null,
            "grid_template_areas": null,
            "grid_template_columns": null,
            "grid_template_rows": null,
            "height": null,
            "justify_content": null,
            "justify_items": null,
            "left": null,
            "margin": null,
            "max_height": null,
            "max_width": null,
            "min_height": null,
            "min_width": null,
            "object_fit": null,
            "object_position": null,
            "order": null,
            "overflow": null,
            "overflow_x": null,
            "overflow_y": null,
            "padding": null,
            "right": null,
            "top": null,
            "visibility": null,
            "width": null
          }
        },
        "20aa1c53044744d481c225b4256900d4": {
          "model_module": "@jupyter-widgets/controls",
          "model_name": "ProgressStyleModel",
          "model_module_version": "1.5.0",
          "state": {
            "_model_module": "@jupyter-widgets/controls",
            "_model_module_version": "1.5.0",
            "_model_name": "ProgressStyleModel",
            "_view_count": null,
            "_view_module": "@jupyter-widgets/base",
            "_view_module_version": "1.2.0",
            "_view_name": "StyleView",
            "bar_color": null,
            "description_width": ""
          }
        },
        "4f3708dd59e34f4c992a9ce10be9c31f": {
          "model_module": "@jupyter-widgets/base",
          "model_name": "LayoutModel",
          "model_module_version": "1.2.0",
          "state": {
            "_model_module": "@jupyter-widgets/base",
            "_model_module_version": "1.2.0",
            "_model_name": "LayoutModel",
            "_view_count": null,
            "_view_module": "@jupyter-widgets/base",
            "_view_module_version": "1.2.0",
            "_view_name": "LayoutView",
            "align_content": null,
            "align_items": null,
            "align_self": null,
            "border": null,
            "bottom": null,
            "display": null,
            "flex": null,
            "flex_flow": null,
            "grid_area": null,
            "grid_auto_columns": null,
            "grid_auto_flow": null,
            "grid_auto_rows": null,
            "grid_column": null,
            "grid_gap": null,
            "grid_row": null,
            "grid_template_areas": null,
            "grid_template_columns": null,
            "grid_template_rows": null,
            "height": null,
            "justify_content": null,
            "justify_items": null,
            "left": null,
            "margin": null,
            "max_height": null,
            "max_width": null,
            "min_height": null,
            "min_width": null,
            "object_fit": null,
            "object_position": null,
            "order": null,
            "overflow": null,
            "overflow_x": null,
            "overflow_y": null,
            "padding": null,
            "right": null,
            "top": null,
            "visibility": null,
            "width": null
          }
        },
        "c51dbabc758b4da7bc187cc88d798fa0": {
          "model_module": "@jupyter-widgets/controls",
          "model_name": "DescriptionStyleModel",
          "model_module_version": "1.5.0",
          "state": {
            "_model_module": "@jupyter-widgets/controls",
            "_model_module_version": "1.5.0",
            "_model_name": "DescriptionStyleModel",
            "_view_count": null,
            "_view_module": "@jupyter-widgets/base",
            "_view_module_version": "1.2.0",
            "_view_name": "StyleView",
            "description_width": ""
          }
        },
        "7a9a9c8dccfa4b988942f3e2ddd510e5": {
          "model_module": "@jupyter-widgets/controls",
          "model_name": "HBoxModel",
          "model_module_version": "1.5.0",
          "state": {
            "_dom_classes": [],
            "_model_module": "@jupyter-widgets/controls",
            "_model_module_version": "1.5.0",
            "_model_name": "HBoxModel",
            "_view_count": null,
            "_view_module": "@jupyter-widgets/controls",
            "_view_module_version": "1.5.0",
            "_view_name": "HBoxView",
            "box_style": "",
            "children": [
              "IPY_MODEL_5a6c2b4a99d2497fa0c300554e9662f0",
              "IPY_MODEL_6251c0ef9779437cba5d854ea2e01727",
              "IPY_MODEL_6f7ebf895b564d41a841b5873196154a"
            ],
            "layout": "IPY_MODEL_c0060f0557bf44298b4a010dbfac37b4"
          }
        },
        "5a6c2b4a99d2497fa0c300554e9662f0": {
          "model_module": "@jupyter-widgets/controls",
          "model_name": "HTMLModel",
          "model_module_version": "1.5.0",
          "state": {
            "_dom_classes": [],
            "_model_module": "@jupyter-widgets/controls",
            "_model_module_version": "1.5.0",
            "_model_name": "HTMLModel",
            "_view_count": null,
            "_view_module": "@jupyter-widgets/controls",
            "_view_module_version": "1.5.0",
            "_view_name": "HTMLView",
            "description": "",
            "description_tooltip": null,
            "layout": "IPY_MODEL_3379eb3619a04996bc4c8dd4b2e54ac1",
            "placeholder": "​",
            "style": "IPY_MODEL_1e28eb463e2a47b5abb2b9b3b18aa6f4",
            "value": "Downloading (…)lve/main/config.json: 100%"
          }
        },
        "6251c0ef9779437cba5d854ea2e01727": {
          "model_module": "@jupyter-widgets/controls",
          "model_name": "FloatProgressModel",
          "model_module_version": "1.5.0",
          "state": {
            "_dom_classes": [],
            "_model_module": "@jupyter-widgets/controls",
            "_model_module_version": "1.5.0",
            "_model_name": "FloatProgressModel",
            "_view_count": null,
            "_view_module": "@jupyter-widgets/controls",
            "_view_module_version": "1.5.0",
            "_view_name": "ProgressView",
            "bar_style": "success",
            "description": "",
            "description_tooltip": null,
            "layout": "IPY_MODEL_c50dfc7baeab45b3b9d13402c7842563",
            "max": 571,
            "min": 0,
            "orientation": "horizontal",
            "style": "IPY_MODEL_1d8b3dfdf89a46d5aa9485117d19babc",
            "value": 571
          }
        },
        "6f7ebf895b564d41a841b5873196154a": {
          "model_module": "@jupyter-widgets/controls",
          "model_name": "HTMLModel",
          "model_module_version": "1.5.0",
          "state": {
            "_dom_classes": [],
            "_model_module": "@jupyter-widgets/controls",
            "_model_module_version": "1.5.0",
            "_model_name": "HTMLModel",
            "_view_count": null,
            "_view_module": "@jupyter-widgets/controls",
            "_view_module_version": "1.5.0",
            "_view_name": "HTMLView",
            "description": "",
            "description_tooltip": null,
            "layout": "IPY_MODEL_a007a9d693e641ecaa4fe207376e2bcc",
            "placeholder": "​",
            "style": "IPY_MODEL_1be90d27a70644589a4ad1b789a4caca",
            "value": " 571/571 [00:00&lt;00:00, 7.50kB/s]"
          }
        },
        "c0060f0557bf44298b4a010dbfac37b4": {
          "model_module": "@jupyter-widgets/base",
          "model_name": "LayoutModel",
          "model_module_version": "1.2.0",
          "state": {
            "_model_module": "@jupyter-widgets/base",
            "_model_module_version": "1.2.0",
            "_model_name": "LayoutModel",
            "_view_count": null,
            "_view_module": "@jupyter-widgets/base",
            "_view_module_version": "1.2.0",
            "_view_name": "LayoutView",
            "align_content": null,
            "align_items": null,
            "align_self": null,
            "border": null,
            "bottom": null,
            "display": null,
            "flex": null,
            "flex_flow": null,
            "grid_area": null,
            "grid_auto_columns": null,
            "grid_auto_flow": null,
            "grid_auto_rows": null,
            "grid_column": null,
            "grid_gap": null,
            "grid_row": null,
            "grid_template_areas": null,
            "grid_template_columns": null,
            "grid_template_rows": null,
            "height": null,
            "justify_content": null,
            "justify_items": null,
            "left": null,
            "margin": null,
            "max_height": null,
            "max_width": null,
            "min_height": null,
            "min_width": null,
            "object_fit": null,
            "object_position": null,
            "order": null,
            "overflow": null,
            "overflow_x": null,
            "overflow_y": null,
            "padding": null,
            "right": null,
            "top": null,
            "visibility": null,
            "width": null
          }
        },
        "3379eb3619a04996bc4c8dd4b2e54ac1": {
          "model_module": "@jupyter-widgets/base",
          "model_name": "LayoutModel",
          "model_module_version": "1.2.0",
          "state": {
            "_model_module": "@jupyter-widgets/base",
            "_model_module_version": "1.2.0",
            "_model_name": "LayoutModel",
            "_view_count": null,
            "_view_module": "@jupyter-widgets/base",
            "_view_module_version": "1.2.0",
            "_view_name": "LayoutView",
            "align_content": null,
            "align_items": null,
            "align_self": null,
            "border": null,
            "bottom": null,
            "display": null,
            "flex": null,
            "flex_flow": null,
            "grid_area": null,
            "grid_auto_columns": null,
            "grid_auto_flow": null,
            "grid_auto_rows": null,
            "grid_column": null,
            "grid_gap": null,
            "grid_row": null,
            "grid_template_areas": null,
            "grid_template_columns": null,
            "grid_template_rows": null,
            "height": null,
            "justify_content": null,
            "justify_items": null,
            "left": null,
            "margin": null,
            "max_height": null,
            "max_width": null,
            "min_height": null,
            "min_width": null,
            "object_fit": null,
            "object_position": null,
            "order": null,
            "overflow": null,
            "overflow_x": null,
            "overflow_y": null,
            "padding": null,
            "right": null,
            "top": null,
            "visibility": null,
            "width": null
          }
        },
        "1e28eb463e2a47b5abb2b9b3b18aa6f4": {
          "model_module": "@jupyter-widgets/controls",
          "model_name": "DescriptionStyleModel",
          "model_module_version": "1.5.0",
          "state": {
            "_model_module": "@jupyter-widgets/controls",
            "_model_module_version": "1.5.0",
            "_model_name": "DescriptionStyleModel",
            "_view_count": null,
            "_view_module": "@jupyter-widgets/base",
            "_view_module_version": "1.2.0",
            "_view_name": "StyleView",
            "description_width": ""
          }
        },
        "c50dfc7baeab45b3b9d13402c7842563": {
          "model_module": "@jupyter-widgets/base",
          "model_name": "LayoutModel",
          "model_module_version": "1.2.0",
          "state": {
            "_model_module": "@jupyter-widgets/base",
            "_model_module_version": "1.2.0",
            "_model_name": "LayoutModel",
            "_view_count": null,
            "_view_module": "@jupyter-widgets/base",
            "_view_module_version": "1.2.0",
            "_view_name": "LayoutView",
            "align_content": null,
            "align_items": null,
            "align_self": null,
            "border": null,
            "bottom": null,
            "display": null,
            "flex": null,
            "flex_flow": null,
            "grid_area": null,
            "grid_auto_columns": null,
            "grid_auto_flow": null,
            "grid_auto_rows": null,
            "grid_column": null,
            "grid_gap": null,
            "grid_row": null,
            "grid_template_areas": null,
            "grid_template_columns": null,
            "grid_template_rows": null,
            "height": null,
            "justify_content": null,
            "justify_items": null,
            "left": null,
            "margin": null,
            "max_height": null,
            "max_width": null,
            "min_height": null,
            "min_width": null,
            "object_fit": null,
            "object_position": null,
            "order": null,
            "overflow": null,
            "overflow_x": null,
            "overflow_y": null,
            "padding": null,
            "right": null,
            "top": null,
            "visibility": null,
            "width": null
          }
        },
        "1d8b3dfdf89a46d5aa9485117d19babc": {
          "model_module": "@jupyter-widgets/controls",
          "model_name": "ProgressStyleModel",
          "model_module_version": "1.5.0",
          "state": {
            "_model_module": "@jupyter-widgets/controls",
            "_model_module_version": "1.5.0",
            "_model_name": "ProgressStyleModel",
            "_view_count": null,
            "_view_module": "@jupyter-widgets/base",
            "_view_module_version": "1.2.0",
            "_view_name": "StyleView",
            "bar_color": null,
            "description_width": ""
          }
        },
        "a007a9d693e641ecaa4fe207376e2bcc": {
          "model_module": "@jupyter-widgets/base",
          "model_name": "LayoutModel",
          "model_module_version": "1.2.0",
          "state": {
            "_model_module": "@jupyter-widgets/base",
            "_model_module_version": "1.2.0",
            "_model_name": "LayoutModel",
            "_view_count": null,
            "_view_module": "@jupyter-widgets/base",
            "_view_module_version": "1.2.0",
            "_view_name": "LayoutView",
            "align_content": null,
            "align_items": null,
            "align_self": null,
            "border": null,
            "bottom": null,
            "display": null,
            "flex": null,
            "flex_flow": null,
            "grid_area": null,
            "grid_auto_columns": null,
            "grid_auto_flow": null,
            "grid_auto_rows": null,
            "grid_column": null,
            "grid_gap": null,
            "grid_row": null,
            "grid_template_areas": null,
            "grid_template_columns": null,
            "grid_template_rows": null,
            "height": null,
            "justify_content": null,
            "justify_items": null,
            "left": null,
            "margin": null,
            "max_height": null,
            "max_width": null,
            "min_height": null,
            "min_width": null,
            "object_fit": null,
            "object_position": null,
            "order": null,
            "overflow": null,
            "overflow_x": null,
            "overflow_y": null,
            "padding": null,
            "right": null,
            "top": null,
            "visibility": null,
            "width": null
          }
        },
        "1be90d27a70644589a4ad1b789a4caca": {
          "model_module": "@jupyter-widgets/controls",
          "model_name": "DescriptionStyleModel",
          "model_module_version": "1.5.0",
          "state": {
            "_model_module": "@jupyter-widgets/controls",
            "_model_module_version": "1.5.0",
            "_model_name": "DescriptionStyleModel",
            "_view_count": null,
            "_view_module": "@jupyter-widgets/base",
            "_view_module_version": "1.2.0",
            "_view_name": "StyleView",
            "description_width": ""
          }
        },
        "684c6cfb3f064a6daa95c3e498c3bcbe": {
          "model_module": "@jupyter-widgets/controls",
          "model_name": "HBoxModel",
          "model_module_version": "1.5.0",
          "state": {
            "_dom_classes": [],
            "_model_module": "@jupyter-widgets/controls",
            "_model_module_version": "1.5.0",
            "_model_name": "HBoxModel",
            "_view_count": null,
            "_view_module": "@jupyter-widgets/controls",
            "_view_module_version": "1.5.0",
            "_view_name": "HBoxView",
            "box_style": "",
            "children": [
              "IPY_MODEL_267baf0ae1be4ca98922eb6ff4463e14",
              "IPY_MODEL_aaaf2b1723fc46109820f527681d793e",
              "IPY_MODEL_5869b20755a34914a237a3bf210fa554"
            ],
            "layout": "IPY_MODEL_a44b4564b0c646ed898c49fdf3af1d55"
          }
        },
        "267baf0ae1be4ca98922eb6ff4463e14": {
          "model_module": "@jupyter-widgets/controls",
          "model_name": "HTMLModel",
          "model_module_version": "1.5.0",
          "state": {
            "_dom_classes": [],
            "_model_module": "@jupyter-widgets/controls",
            "_model_module_version": "1.5.0",
            "_model_name": "HTMLModel",
            "_view_count": null,
            "_view_module": "@jupyter-widgets/controls",
            "_view_module_version": "1.5.0",
            "_view_name": "HTMLView",
            "description": "",
            "description_tooltip": null,
            "layout": "IPY_MODEL_73c0bdef59ff4aa9952c0be248c9bdf0",
            "placeholder": "​",
            "style": "IPY_MODEL_2b24885042fd41b9828033a2105b6e43",
            "value": "Downloading (…)&quot;pytorch_model.bin&quot;;: 100%"
          }
        },
        "aaaf2b1723fc46109820f527681d793e": {
          "model_module": "@jupyter-widgets/controls",
          "model_name": "FloatProgressModel",
          "model_module_version": "1.5.0",
          "state": {
            "_dom_classes": [],
            "_model_module": "@jupyter-widgets/controls",
            "_model_module_version": "1.5.0",
            "_model_name": "FloatProgressModel",
            "_view_count": null,
            "_view_module": "@jupyter-widgets/controls",
            "_view_module_version": "1.5.0",
            "_view_name": "ProgressView",
            "bar_style": "success",
            "description": "",
            "description_tooltip": null,
            "layout": "IPY_MODEL_d7b8df13eb634d21ad21553de6408367",
            "max": 438011953,
            "min": 0,
            "orientation": "horizontal",
            "style": "IPY_MODEL_7348f315e2f74ced9257fcb28f6597c1",
            "value": 438011953
          }
        },
        "5869b20755a34914a237a3bf210fa554": {
          "model_module": "@jupyter-widgets/controls",
          "model_name": "HTMLModel",
          "model_module_version": "1.5.0",
          "state": {
            "_dom_classes": [],
            "_model_module": "@jupyter-widgets/controls",
            "_model_module_version": "1.5.0",
            "_model_name": "HTMLModel",
            "_view_count": null,
            "_view_module": "@jupyter-widgets/controls",
            "_view_module_version": "1.5.0",
            "_view_name": "HTMLView",
            "description": "",
            "description_tooltip": null,
            "layout": "IPY_MODEL_c945a7c65d1349fb9842b188438abf57",
            "placeholder": "​",
            "style": "IPY_MODEL_b8745da20b214f289fd71f0177de39da",
            "value": " 438M/438M [00:03&lt;00:00, 176MB/s]"
          }
        },
        "a44b4564b0c646ed898c49fdf3af1d55": {
          "model_module": "@jupyter-widgets/base",
          "model_name": "LayoutModel",
          "model_module_version": "1.2.0",
          "state": {
            "_model_module": "@jupyter-widgets/base",
            "_model_module_version": "1.2.0",
            "_model_name": "LayoutModel",
            "_view_count": null,
            "_view_module": "@jupyter-widgets/base",
            "_view_module_version": "1.2.0",
            "_view_name": "LayoutView",
            "align_content": null,
            "align_items": null,
            "align_self": null,
            "border": null,
            "bottom": null,
            "display": null,
            "flex": null,
            "flex_flow": null,
            "grid_area": null,
            "grid_auto_columns": null,
            "grid_auto_flow": null,
            "grid_auto_rows": null,
            "grid_column": null,
            "grid_gap": null,
            "grid_row": null,
            "grid_template_areas": null,
            "grid_template_columns": null,
            "grid_template_rows": null,
            "height": null,
            "justify_content": null,
            "justify_items": null,
            "left": null,
            "margin": null,
            "max_height": null,
            "max_width": null,
            "min_height": null,
            "min_width": null,
            "object_fit": null,
            "object_position": null,
            "order": null,
            "overflow": null,
            "overflow_x": null,
            "overflow_y": null,
            "padding": null,
            "right": null,
            "top": null,
            "visibility": null,
            "width": null
          }
        },
        "73c0bdef59ff4aa9952c0be248c9bdf0": {
          "model_module": "@jupyter-widgets/base",
          "model_name": "LayoutModel",
          "model_module_version": "1.2.0",
          "state": {
            "_model_module": "@jupyter-widgets/base",
            "_model_module_version": "1.2.0",
            "_model_name": "LayoutModel",
            "_view_count": null,
            "_view_module": "@jupyter-widgets/base",
            "_view_module_version": "1.2.0",
            "_view_name": "LayoutView",
            "align_content": null,
            "align_items": null,
            "align_self": null,
            "border": null,
            "bottom": null,
            "display": null,
            "flex": null,
            "flex_flow": null,
            "grid_area": null,
            "grid_auto_columns": null,
            "grid_auto_flow": null,
            "grid_auto_rows": null,
            "grid_column": null,
            "grid_gap": null,
            "grid_row": null,
            "grid_template_areas": null,
            "grid_template_columns": null,
            "grid_template_rows": null,
            "height": null,
            "justify_content": null,
            "justify_items": null,
            "left": null,
            "margin": null,
            "max_height": null,
            "max_width": null,
            "min_height": null,
            "min_width": null,
            "object_fit": null,
            "object_position": null,
            "order": null,
            "overflow": null,
            "overflow_x": null,
            "overflow_y": null,
            "padding": null,
            "right": null,
            "top": null,
            "visibility": null,
            "width": null
          }
        },
        "2b24885042fd41b9828033a2105b6e43": {
          "model_module": "@jupyter-widgets/controls",
          "model_name": "DescriptionStyleModel",
          "model_module_version": "1.5.0",
          "state": {
            "_model_module": "@jupyter-widgets/controls",
            "_model_module_version": "1.5.0",
            "_model_name": "DescriptionStyleModel",
            "_view_count": null,
            "_view_module": "@jupyter-widgets/base",
            "_view_module_version": "1.2.0",
            "_view_name": "StyleView",
            "description_width": ""
          }
        },
        "d7b8df13eb634d21ad21553de6408367": {
          "model_module": "@jupyter-widgets/base",
          "model_name": "LayoutModel",
          "model_module_version": "1.2.0",
          "state": {
            "_model_module": "@jupyter-widgets/base",
            "_model_module_version": "1.2.0",
            "_model_name": "LayoutModel",
            "_view_count": null,
            "_view_module": "@jupyter-widgets/base",
            "_view_module_version": "1.2.0",
            "_view_name": "LayoutView",
            "align_content": null,
            "align_items": null,
            "align_self": null,
            "border": null,
            "bottom": null,
            "display": null,
            "flex": null,
            "flex_flow": null,
            "grid_area": null,
            "grid_auto_columns": null,
            "grid_auto_flow": null,
            "grid_auto_rows": null,
            "grid_column": null,
            "grid_gap": null,
            "grid_row": null,
            "grid_template_areas": null,
            "grid_template_columns": null,
            "grid_template_rows": null,
            "height": null,
            "justify_content": null,
            "justify_items": null,
            "left": null,
            "margin": null,
            "max_height": null,
            "max_width": null,
            "min_height": null,
            "min_width": null,
            "object_fit": null,
            "object_position": null,
            "order": null,
            "overflow": null,
            "overflow_x": null,
            "overflow_y": null,
            "padding": null,
            "right": null,
            "top": null,
            "visibility": null,
            "width": null
          }
        },
        "7348f315e2f74ced9257fcb28f6597c1": {
          "model_module": "@jupyter-widgets/controls",
          "model_name": "ProgressStyleModel",
          "model_module_version": "1.5.0",
          "state": {
            "_model_module": "@jupyter-widgets/controls",
            "_model_module_version": "1.5.0",
            "_model_name": "ProgressStyleModel",
            "_view_count": null,
            "_view_module": "@jupyter-widgets/base",
            "_view_module_version": "1.2.0",
            "_view_name": "StyleView",
            "bar_color": null,
            "description_width": ""
          }
        },
        "c945a7c65d1349fb9842b188438abf57": {
          "model_module": "@jupyter-widgets/base",
          "model_name": "LayoutModel",
          "model_module_version": "1.2.0",
          "state": {
            "_model_module": "@jupyter-widgets/base",
            "_model_module_version": "1.2.0",
            "_model_name": "LayoutModel",
            "_view_count": null,
            "_view_module": "@jupyter-widgets/base",
            "_view_module_version": "1.2.0",
            "_view_name": "LayoutView",
            "align_content": null,
            "align_items": null,
            "align_self": null,
            "border": null,
            "bottom": null,
            "display": null,
            "flex": null,
            "flex_flow": null,
            "grid_area": null,
            "grid_auto_columns": null,
            "grid_auto_flow": null,
            "grid_auto_rows": null,
            "grid_column": null,
            "grid_gap": null,
            "grid_row": null,
            "grid_template_areas": null,
            "grid_template_columns": null,
            "grid_template_rows": null,
            "height": null,
            "justify_content": null,
            "justify_items": null,
            "left": null,
            "margin": null,
            "max_height": null,
            "max_width": null,
            "min_height": null,
            "min_width": null,
            "object_fit": null,
            "object_position": null,
            "order": null,
            "overflow": null,
            "overflow_x": null,
            "overflow_y": null,
            "padding": null,
            "right": null,
            "top": null,
            "visibility": null,
            "width": null
          }
        },
        "b8745da20b214f289fd71f0177de39da": {
          "model_module": "@jupyter-widgets/controls",
          "model_name": "DescriptionStyleModel",
          "model_module_version": "1.5.0",
          "state": {
            "_model_module": "@jupyter-widgets/controls",
            "_model_module_version": "1.5.0",
            "_model_name": "DescriptionStyleModel",
            "_view_count": null,
            "_view_module": "@jupyter-widgets/base",
            "_view_module_version": "1.2.0",
            "_view_name": "StyleView",
            "description_width": ""
          }
        },
        "a5b060e320594510aeadd93cb3ba1b1e": {
          "model_module": "@jupyter-widgets/controls",
          "model_name": "HBoxModel",
          "model_module_version": "1.5.0",
          "state": {
            "_dom_classes": [],
            "_model_module": "@jupyter-widgets/controls",
            "_model_module_version": "1.5.0",
            "_model_name": "HBoxModel",
            "_view_count": null,
            "_view_module": "@jupyter-widgets/controls",
            "_view_module_version": "1.5.0",
            "_view_name": "HBoxView",
            "box_style": "",
            "children": [
              "IPY_MODEL_d411b99b8b464cf7913cce408db7c192",
              "IPY_MODEL_3cedee2d429e4786bae49c0b17c46966",
              "IPY_MODEL_86fce3b6b1e5443e9a4355497aa62508"
            ],
            "layout": "IPY_MODEL_e326de53648045839def88233cdc4aef"
          }
        },
        "d411b99b8b464cf7913cce408db7c192": {
          "model_module": "@jupyter-widgets/controls",
          "model_name": "HTMLModel",
          "model_module_version": "1.5.0",
          "state": {
            "_dom_classes": [],
            "_model_module": "@jupyter-widgets/controls",
            "_model_module_version": "1.5.0",
            "_model_name": "HTMLModel",
            "_view_count": null,
            "_view_module": "@jupyter-widgets/controls",
            "_view_module_version": "1.5.0",
            "_view_name": "HTMLView",
            "description": "",
            "description_tooltip": null,
            "layout": "IPY_MODEL_7d3df4ab4c8943fc82f77009bc6aeb9f",
            "placeholder": "​",
            "style": "IPY_MODEL_2eebc527c3dd445f8dccaa7d71490e30",
            "value": "Downloading (…)okenizer_config.json: 100%"
          }
        },
        "3cedee2d429e4786bae49c0b17c46966": {
          "model_module": "@jupyter-widgets/controls",
          "model_name": "FloatProgressModel",
          "model_module_version": "1.5.0",
          "state": {
            "_dom_classes": [],
            "_model_module": "@jupyter-widgets/controls",
            "_model_module_version": "1.5.0",
            "_model_name": "FloatProgressModel",
            "_view_count": null,
            "_view_module": "@jupyter-widgets/controls",
            "_view_module_version": "1.5.0",
            "_view_name": "ProgressView",
            "bar_style": "success",
            "description": "",
            "description_tooltip": null,
            "layout": "IPY_MODEL_0940ccfa9b1f4028ae47e403ec6aaca6",
            "max": 363,
            "min": 0,
            "orientation": "horizontal",
            "style": "IPY_MODEL_416da4277ec64940899ef2b760d46075",
            "value": 363
          }
        },
        "86fce3b6b1e5443e9a4355497aa62508": {
          "model_module": "@jupyter-widgets/controls",
          "model_name": "HTMLModel",
          "model_module_version": "1.5.0",
          "state": {
            "_dom_classes": [],
            "_model_module": "@jupyter-widgets/controls",
            "_model_module_version": "1.5.0",
            "_model_name": "HTMLModel",
            "_view_count": null,
            "_view_module": "@jupyter-widgets/controls",
            "_view_module_version": "1.5.0",
            "_view_name": "HTMLView",
            "description": "",
            "description_tooltip": null,
            "layout": "IPY_MODEL_754af5c91f444080abcb78a1e604c881",
            "placeholder": "​",
            "style": "IPY_MODEL_c7c10a3cb673411991d71eb5da55542d",
            "value": " 363/363 [00:00&lt;00:00, 10.4kB/s]"
          }
        },
        "e326de53648045839def88233cdc4aef": {
          "model_module": "@jupyter-widgets/base",
          "model_name": "LayoutModel",
          "model_module_version": "1.2.0",
          "state": {
            "_model_module": "@jupyter-widgets/base",
            "_model_module_version": "1.2.0",
            "_model_name": "LayoutModel",
            "_view_count": null,
            "_view_module": "@jupyter-widgets/base",
            "_view_module_version": "1.2.0",
            "_view_name": "LayoutView",
            "align_content": null,
            "align_items": null,
            "align_self": null,
            "border": null,
            "bottom": null,
            "display": null,
            "flex": null,
            "flex_flow": null,
            "grid_area": null,
            "grid_auto_columns": null,
            "grid_auto_flow": null,
            "grid_auto_rows": null,
            "grid_column": null,
            "grid_gap": null,
            "grid_row": null,
            "grid_template_areas": null,
            "grid_template_columns": null,
            "grid_template_rows": null,
            "height": null,
            "justify_content": null,
            "justify_items": null,
            "left": null,
            "margin": null,
            "max_height": null,
            "max_width": null,
            "min_height": null,
            "min_width": null,
            "object_fit": null,
            "object_position": null,
            "order": null,
            "overflow": null,
            "overflow_x": null,
            "overflow_y": null,
            "padding": null,
            "right": null,
            "top": null,
            "visibility": null,
            "width": null
          }
        },
        "7d3df4ab4c8943fc82f77009bc6aeb9f": {
          "model_module": "@jupyter-widgets/base",
          "model_name": "LayoutModel",
          "model_module_version": "1.2.0",
          "state": {
            "_model_module": "@jupyter-widgets/base",
            "_model_module_version": "1.2.0",
            "_model_name": "LayoutModel",
            "_view_count": null,
            "_view_module": "@jupyter-widgets/base",
            "_view_module_version": "1.2.0",
            "_view_name": "LayoutView",
            "align_content": null,
            "align_items": null,
            "align_self": null,
            "border": null,
            "bottom": null,
            "display": null,
            "flex": null,
            "flex_flow": null,
            "grid_area": null,
            "grid_auto_columns": null,
            "grid_auto_flow": null,
            "grid_auto_rows": null,
            "grid_column": null,
            "grid_gap": null,
            "grid_row": null,
            "grid_template_areas": null,
            "grid_template_columns": null,
            "grid_template_rows": null,
            "height": null,
            "justify_content": null,
            "justify_items": null,
            "left": null,
            "margin": null,
            "max_height": null,
            "max_width": null,
            "min_height": null,
            "min_width": null,
            "object_fit": null,
            "object_position": null,
            "order": null,
            "overflow": null,
            "overflow_x": null,
            "overflow_y": null,
            "padding": null,
            "right": null,
            "top": null,
            "visibility": null,
            "width": null
          }
        },
        "2eebc527c3dd445f8dccaa7d71490e30": {
          "model_module": "@jupyter-widgets/controls",
          "model_name": "DescriptionStyleModel",
          "model_module_version": "1.5.0",
          "state": {
            "_model_module": "@jupyter-widgets/controls",
            "_model_module_version": "1.5.0",
            "_model_name": "DescriptionStyleModel",
            "_view_count": null,
            "_view_module": "@jupyter-widgets/base",
            "_view_module_version": "1.2.0",
            "_view_name": "StyleView",
            "description_width": ""
          }
        },
        "0940ccfa9b1f4028ae47e403ec6aaca6": {
          "model_module": "@jupyter-widgets/base",
          "model_name": "LayoutModel",
          "model_module_version": "1.2.0",
          "state": {
            "_model_module": "@jupyter-widgets/base",
            "_model_module_version": "1.2.0",
            "_model_name": "LayoutModel",
            "_view_count": null,
            "_view_module": "@jupyter-widgets/base",
            "_view_module_version": "1.2.0",
            "_view_name": "LayoutView",
            "align_content": null,
            "align_items": null,
            "align_self": null,
            "border": null,
            "bottom": null,
            "display": null,
            "flex": null,
            "flex_flow": null,
            "grid_area": null,
            "grid_auto_columns": null,
            "grid_auto_flow": null,
            "grid_auto_rows": null,
            "grid_column": null,
            "grid_gap": null,
            "grid_row": null,
            "grid_template_areas": null,
            "grid_template_columns": null,
            "grid_template_rows": null,
            "height": null,
            "justify_content": null,
            "justify_items": null,
            "left": null,
            "margin": null,
            "max_height": null,
            "max_width": null,
            "min_height": null,
            "min_width": null,
            "object_fit": null,
            "object_position": null,
            "order": null,
            "overflow": null,
            "overflow_x": null,
            "overflow_y": null,
            "padding": null,
            "right": null,
            "top": null,
            "visibility": null,
            "width": null
          }
        },
        "416da4277ec64940899ef2b760d46075": {
          "model_module": "@jupyter-widgets/controls",
          "model_name": "ProgressStyleModel",
          "model_module_version": "1.5.0",
          "state": {
            "_model_module": "@jupyter-widgets/controls",
            "_model_module_version": "1.5.0",
            "_model_name": "ProgressStyleModel",
            "_view_count": null,
            "_view_module": "@jupyter-widgets/base",
            "_view_module_version": "1.2.0",
            "_view_name": "StyleView",
            "bar_color": null,
            "description_width": ""
          }
        },
        "754af5c91f444080abcb78a1e604c881": {
          "model_module": "@jupyter-widgets/base",
          "model_name": "LayoutModel",
          "model_module_version": "1.2.0",
          "state": {
            "_model_module": "@jupyter-widgets/base",
            "_model_module_version": "1.2.0",
            "_model_name": "LayoutModel",
            "_view_count": null,
            "_view_module": "@jupyter-widgets/base",
            "_view_module_version": "1.2.0",
            "_view_name": "LayoutView",
            "align_content": null,
            "align_items": null,
            "align_self": null,
            "border": null,
            "bottom": null,
            "display": null,
            "flex": null,
            "flex_flow": null,
            "grid_area": null,
            "grid_auto_columns": null,
            "grid_auto_flow": null,
            "grid_auto_rows": null,
            "grid_column": null,
            "grid_gap": null,
            "grid_row": null,
            "grid_template_areas": null,
            "grid_template_columns": null,
            "grid_template_rows": null,
            "height": null,
            "justify_content": null,
            "justify_items": null,
            "left": null,
            "margin": null,
            "max_height": null,
            "max_width": null,
            "min_height": null,
            "min_width": null,
            "object_fit": null,
            "object_position": null,
            "order": null,
            "overflow": null,
            "overflow_x": null,
            "overflow_y": null,
            "padding": null,
            "right": null,
            "top": null,
            "visibility": null,
            "width": null
          }
        },
        "c7c10a3cb673411991d71eb5da55542d": {
          "model_module": "@jupyter-widgets/controls",
          "model_name": "DescriptionStyleModel",
          "model_module_version": "1.5.0",
          "state": {
            "_model_module": "@jupyter-widgets/controls",
            "_model_module_version": "1.5.0",
            "_model_name": "DescriptionStyleModel",
            "_view_count": null,
            "_view_module": "@jupyter-widgets/base",
            "_view_module_version": "1.2.0",
            "_view_name": "StyleView",
            "description_width": ""
          }
        },
        "46fdf10058524495b81077d22f85806d": {
          "model_module": "@jupyter-widgets/controls",
          "model_name": "HBoxModel",
          "model_module_version": "1.5.0",
          "state": {
            "_dom_classes": [],
            "_model_module": "@jupyter-widgets/controls",
            "_model_module_version": "1.5.0",
            "_model_name": "HBoxModel",
            "_view_count": null,
            "_view_module": "@jupyter-widgets/controls",
            "_view_module_version": "1.5.0",
            "_view_name": "HBoxView",
            "box_style": "",
            "children": [
              "IPY_MODEL_0386ae58a8f3402eb34bfb792e04e375",
              "IPY_MODEL_f89c60483abd4aebb5c555eb7104d43b",
              "IPY_MODEL_ae03bfe618544084b14c035da89756eb"
            ],
            "layout": "IPY_MODEL_81f1791079d342adb784ae67e7899192"
          }
        },
        "0386ae58a8f3402eb34bfb792e04e375": {
          "model_module": "@jupyter-widgets/controls",
          "model_name": "HTMLModel",
          "model_module_version": "1.5.0",
          "state": {
            "_dom_classes": [],
            "_model_module": "@jupyter-widgets/controls",
            "_model_module_version": "1.5.0",
            "_model_name": "HTMLModel",
            "_view_count": null,
            "_view_module": "@jupyter-widgets/controls",
            "_view_module_version": "1.5.0",
            "_view_name": "HTMLView",
            "description": "",
            "description_tooltip": null,
            "layout": "IPY_MODEL_f8ecae594fdb492d9920412ddf0135f7",
            "placeholder": "​",
            "style": "IPY_MODEL_ffaa176a4617416c8364a5986544eb08",
            "value": "Downloading (…)solve/main/vocab.txt: 100%"
          }
        },
        "f89c60483abd4aebb5c555eb7104d43b": {
          "model_module": "@jupyter-widgets/controls",
          "model_name": "FloatProgressModel",
          "model_module_version": "1.5.0",
          "state": {
            "_dom_classes": [],
            "_model_module": "@jupyter-widgets/controls",
            "_model_module_version": "1.5.0",
            "_model_name": "FloatProgressModel",
            "_view_count": null,
            "_view_module": "@jupyter-widgets/controls",
            "_view_module_version": "1.5.0",
            "_view_name": "ProgressView",
            "bar_style": "success",
            "description": "",
            "description_tooltip": null,
            "layout": "IPY_MODEL_c9ade81c99564c32bad98439ac082aca",
            "max": 231536,
            "min": 0,
            "orientation": "horizontal",
            "style": "IPY_MODEL_c0f746833b81430d8ed024a59e6b173a",
            "value": 231536
          }
        },
        "ae03bfe618544084b14c035da89756eb": {
          "model_module": "@jupyter-widgets/controls",
          "model_name": "HTMLModel",
          "model_module_version": "1.5.0",
          "state": {
            "_dom_classes": [],
            "_model_module": "@jupyter-widgets/controls",
            "_model_module_version": "1.5.0",
            "_model_name": "HTMLModel",
            "_view_count": null,
            "_view_module": "@jupyter-widgets/controls",
            "_view_module_version": "1.5.0",
            "_view_name": "HTMLView",
            "description": "",
            "description_tooltip": null,
            "layout": "IPY_MODEL_8548f8bfd12f47998034d1dad1147c04",
            "placeholder": "​",
            "style": "IPY_MODEL_7c2ca5e44e454c1b89116c11f28af618",
            "value": " 232k/232k [00:00&lt;00:00, 2.21MB/s]"
          }
        },
        "81f1791079d342adb784ae67e7899192": {
          "model_module": "@jupyter-widgets/base",
          "model_name": "LayoutModel",
          "model_module_version": "1.2.0",
          "state": {
            "_model_module": "@jupyter-widgets/base",
            "_model_module_version": "1.2.0",
            "_model_name": "LayoutModel",
            "_view_count": null,
            "_view_module": "@jupyter-widgets/base",
            "_view_module_version": "1.2.0",
            "_view_name": "LayoutView",
            "align_content": null,
            "align_items": null,
            "align_self": null,
            "border": null,
            "bottom": null,
            "display": null,
            "flex": null,
            "flex_flow": null,
            "grid_area": null,
            "grid_auto_columns": null,
            "grid_auto_flow": null,
            "grid_auto_rows": null,
            "grid_column": null,
            "grid_gap": null,
            "grid_row": null,
            "grid_template_areas": null,
            "grid_template_columns": null,
            "grid_template_rows": null,
            "height": null,
            "justify_content": null,
            "justify_items": null,
            "left": null,
            "margin": null,
            "max_height": null,
            "max_width": null,
            "min_height": null,
            "min_width": null,
            "object_fit": null,
            "object_position": null,
            "order": null,
            "overflow": null,
            "overflow_x": null,
            "overflow_y": null,
            "padding": null,
            "right": null,
            "top": null,
            "visibility": null,
            "width": null
          }
        },
        "f8ecae594fdb492d9920412ddf0135f7": {
          "model_module": "@jupyter-widgets/base",
          "model_name": "LayoutModel",
          "model_module_version": "1.2.0",
          "state": {
            "_model_module": "@jupyter-widgets/base",
            "_model_module_version": "1.2.0",
            "_model_name": "LayoutModel",
            "_view_count": null,
            "_view_module": "@jupyter-widgets/base",
            "_view_module_version": "1.2.0",
            "_view_name": "LayoutView",
            "align_content": null,
            "align_items": null,
            "align_self": null,
            "border": null,
            "bottom": null,
            "display": null,
            "flex": null,
            "flex_flow": null,
            "grid_area": null,
            "grid_auto_columns": null,
            "grid_auto_flow": null,
            "grid_auto_rows": null,
            "grid_column": null,
            "grid_gap": null,
            "grid_row": null,
            "grid_template_areas": null,
            "grid_template_columns": null,
            "grid_template_rows": null,
            "height": null,
            "justify_content": null,
            "justify_items": null,
            "left": null,
            "margin": null,
            "max_height": null,
            "max_width": null,
            "min_height": null,
            "min_width": null,
            "object_fit": null,
            "object_position": null,
            "order": null,
            "overflow": null,
            "overflow_x": null,
            "overflow_y": null,
            "padding": null,
            "right": null,
            "top": null,
            "visibility": null,
            "width": null
          }
        },
        "ffaa176a4617416c8364a5986544eb08": {
          "model_module": "@jupyter-widgets/controls",
          "model_name": "DescriptionStyleModel",
          "model_module_version": "1.5.0",
          "state": {
            "_model_module": "@jupyter-widgets/controls",
            "_model_module_version": "1.5.0",
            "_model_name": "DescriptionStyleModel",
            "_view_count": null,
            "_view_module": "@jupyter-widgets/base",
            "_view_module_version": "1.2.0",
            "_view_name": "StyleView",
            "description_width": ""
          }
        },
        "c9ade81c99564c32bad98439ac082aca": {
          "model_module": "@jupyter-widgets/base",
          "model_name": "LayoutModel",
          "model_module_version": "1.2.0",
          "state": {
            "_model_module": "@jupyter-widgets/base",
            "_model_module_version": "1.2.0",
            "_model_name": "LayoutModel",
            "_view_count": null,
            "_view_module": "@jupyter-widgets/base",
            "_view_module_version": "1.2.0",
            "_view_name": "LayoutView",
            "align_content": null,
            "align_items": null,
            "align_self": null,
            "border": null,
            "bottom": null,
            "display": null,
            "flex": null,
            "flex_flow": null,
            "grid_area": null,
            "grid_auto_columns": null,
            "grid_auto_flow": null,
            "grid_auto_rows": null,
            "grid_column": null,
            "grid_gap": null,
            "grid_row": null,
            "grid_template_areas": null,
            "grid_template_columns": null,
            "grid_template_rows": null,
            "height": null,
            "justify_content": null,
            "justify_items": null,
            "left": null,
            "margin": null,
            "max_height": null,
            "max_width": null,
            "min_height": null,
            "min_width": null,
            "object_fit": null,
            "object_position": null,
            "order": null,
            "overflow": null,
            "overflow_x": null,
            "overflow_y": null,
            "padding": null,
            "right": null,
            "top": null,
            "visibility": null,
            "width": null
          }
        },
        "c0f746833b81430d8ed024a59e6b173a": {
          "model_module": "@jupyter-widgets/controls",
          "model_name": "ProgressStyleModel",
          "model_module_version": "1.5.0",
          "state": {
            "_model_module": "@jupyter-widgets/controls",
            "_model_module_version": "1.5.0",
            "_model_name": "ProgressStyleModel",
            "_view_count": null,
            "_view_module": "@jupyter-widgets/base",
            "_view_module_version": "1.2.0",
            "_view_name": "StyleView",
            "bar_color": null,
            "description_width": ""
          }
        },
        "8548f8bfd12f47998034d1dad1147c04": {
          "model_module": "@jupyter-widgets/base",
          "model_name": "LayoutModel",
          "model_module_version": "1.2.0",
          "state": {
            "_model_module": "@jupyter-widgets/base",
            "_model_module_version": "1.2.0",
            "_model_name": "LayoutModel",
            "_view_count": null,
            "_view_module": "@jupyter-widgets/base",
            "_view_module_version": "1.2.0",
            "_view_name": "LayoutView",
            "align_content": null,
            "align_items": null,
            "align_self": null,
            "border": null,
            "bottom": null,
            "display": null,
            "flex": null,
            "flex_flow": null,
            "grid_area": null,
            "grid_auto_columns": null,
            "grid_auto_flow": null,
            "grid_auto_rows": null,
            "grid_column": null,
            "grid_gap": null,
            "grid_row": null,
            "grid_template_areas": null,
            "grid_template_columns": null,
            "grid_template_rows": null,
            "height": null,
            "justify_content": null,
            "justify_items": null,
            "left": null,
            "margin": null,
            "max_height": null,
            "max_width": null,
            "min_height": null,
            "min_width": null,
            "object_fit": null,
            "object_position": null,
            "order": null,
            "overflow": null,
            "overflow_x": null,
            "overflow_y": null,
            "padding": null,
            "right": null,
            "top": null,
            "visibility": null,
            "width": null
          }
        },
        "7c2ca5e44e454c1b89116c11f28af618": {
          "model_module": "@jupyter-widgets/controls",
          "model_name": "DescriptionStyleModel",
          "model_module_version": "1.5.0",
          "state": {
            "_model_module": "@jupyter-widgets/controls",
            "_model_module_version": "1.5.0",
            "_model_name": "DescriptionStyleModel",
            "_view_count": null,
            "_view_module": "@jupyter-widgets/base",
            "_view_module_version": "1.2.0",
            "_view_name": "StyleView",
            "description_width": ""
          }
        },
        "9853e92b850e479c80ba9ca640edf9c3": {
          "model_module": "@jupyter-widgets/controls",
          "model_name": "HBoxModel",
          "model_module_version": "1.5.0",
          "state": {
            "_dom_classes": [],
            "_model_module": "@jupyter-widgets/controls",
            "_model_module_version": "1.5.0",
            "_model_name": "HBoxModel",
            "_view_count": null,
            "_view_module": "@jupyter-widgets/controls",
            "_view_module_version": "1.5.0",
            "_view_name": "HBoxView",
            "box_style": "",
            "children": [
              "IPY_MODEL_221b7f07aef445598418008ff34482b7",
              "IPY_MODEL_329de52a64a44aac83b9b6d7c772bd7b",
              "IPY_MODEL_49ca799692a44ba9872ec989144db304"
            ],
            "layout": "IPY_MODEL_0ef30af2576a450eaa79923b5bd3467b"
          }
        },
        "221b7f07aef445598418008ff34482b7": {
          "model_module": "@jupyter-widgets/controls",
          "model_name": "HTMLModel",
          "model_module_version": "1.5.0",
          "state": {
            "_dom_classes": [],
            "_model_module": "@jupyter-widgets/controls",
            "_model_module_version": "1.5.0",
            "_model_name": "HTMLModel",
            "_view_count": null,
            "_view_module": "@jupyter-widgets/controls",
            "_view_module_version": "1.5.0",
            "_view_name": "HTMLView",
            "description": "",
            "description_tooltip": null,
            "layout": "IPY_MODEL_9e37cdb2f70348c89e280f3e3a5a8b86",
            "placeholder": "​",
            "style": "IPY_MODEL_bd4f841b5a32475d8d10deffd6528a4c",
            "value": "Downloading (…)/main/tokenizer.json: 100%"
          }
        },
        "329de52a64a44aac83b9b6d7c772bd7b": {
          "model_module": "@jupyter-widgets/controls",
          "model_name": "FloatProgressModel",
          "model_module_version": "1.5.0",
          "state": {
            "_dom_classes": [],
            "_model_module": "@jupyter-widgets/controls",
            "_model_module_version": "1.5.0",
            "_model_name": "FloatProgressModel",
            "_view_count": null,
            "_view_module": "@jupyter-widgets/controls",
            "_view_module_version": "1.5.0",
            "_view_name": "ProgressView",
            "bar_style": "success",
            "description": "",
            "description_tooltip": null,
            "layout": "IPY_MODEL_5108e5d3f74b43d18258e825a2920cf1",
            "max": 466021,
            "min": 0,
            "orientation": "horizontal",
            "style": "IPY_MODEL_ed99305c9f1f4e56976b8b43d39975e8",
            "value": 466021
          }
        },
        "49ca799692a44ba9872ec989144db304": {
          "model_module": "@jupyter-widgets/controls",
          "model_name": "HTMLModel",
          "model_module_version": "1.5.0",
          "state": {
            "_dom_classes": [],
            "_model_module": "@jupyter-widgets/controls",
            "_model_module_version": "1.5.0",
            "_model_name": "HTMLModel",
            "_view_count": null,
            "_view_module": "@jupyter-widgets/controls",
            "_view_module_version": "1.5.0",
            "_view_name": "HTMLView",
            "description": "",
            "description_tooltip": null,
            "layout": "IPY_MODEL_0ebef3e8cea548ffb3aeff5ba8e971c7",
            "placeholder": "​",
            "style": "IPY_MODEL_6860f62a14b24b0ba08f589522efef85",
            "value": " 466k/466k [00:00&lt;00:00, 3.60MB/s]"
          }
        },
        "0ef30af2576a450eaa79923b5bd3467b": {
          "model_module": "@jupyter-widgets/base",
          "model_name": "LayoutModel",
          "model_module_version": "1.2.0",
          "state": {
            "_model_module": "@jupyter-widgets/base",
            "_model_module_version": "1.2.0",
            "_model_name": "LayoutModel",
            "_view_count": null,
            "_view_module": "@jupyter-widgets/base",
            "_view_module_version": "1.2.0",
            "_view_name": "LayoutView",
            "align_content": null,
            "align_items": null,
            "align_self": null,
            "border": null,
            "bottom": null,
            "display": null,
            "flex": null,
            "flex_flow": null,
            "grid_area": null,
            "grid_auto_columns": null,
            "grid_auto_flow": null,
            "grid_auto_rows": null,
            "grid_column": null,
            "grid_gap": null,
            "grid_row": null,
            "grid_template_areas": null,
            "grid_template_columns": null,
            "grid_template_rows": null,
            "height": null,
            "justify_content": null,
            "justify_items": null,
            "left": null,
            "margin": null,
            "max_height": null,
            "max_width": null,
            "min_height": null,
            "min_width": null,
            "object_fit": null,
            "object_position": null,
            "order": null,
            "overflow": null,
            "overflow_x": null,
            "overflow_y": null,
            "padding": null,
            "right": null,
            "top": null,
            "visibility": null,
            "width": null
          }
        },
        "9e37cdb2f70348c89e280f3e3a5a8b86": {
          "model_module": "@jupyter-widgets/base",
          "model_name": "LayoutModel",
          "model_module_version": "1.2.0",
          "state": {
            "_model_module": "@jupyter-widgets/base",
            "_model_module_version": "1.2.0",
            "_model_name": "LayoutModel",
            "_view_count": null,
            "_view_module": "@jupyter-widgets/base",
            "_view_module_version": "1.2.0",
            "_view_name": "LayoutView",
            "align_content": null,
            "align_items": null,
            "align_self": null,
            "border": null,
            "bottom": null,
            "display": null,
            "flex": null,
            "flex_flow": null,
            "grid_area": null,
            "grid_auto_columns": null,
            "grid_auto_flow": null,
            "grid_auto_rows": null,
            "grid_column": null,
            "grid_gap": null,
            "grid_row": null,
            "grid_template_areas": null,
            "grid_template_columns": null,
            "grid_template_rows": null,
            "height": null,
            "justify_content": null,
            "justify_items": null,
            "left": null,
            "margin": null,
            "max_height": null,
            "max_width": null,
            "min_height": null,
            "min_width": null,
            "object_fit": null,
            "object_position": null,
            "order": null,
            "overflow": null,
            "overflow_x": null,
            "overflow_y": null,
            "padding": null,
            "right": null,
            "top": null,
            "visibility": null,
            "width": null
          }
        },
        "bd4f841b5a32475d8d10deffd6528a4c": {
          "model_module": "@jupyter-widgets/controls",
          "model_name": "DescriptionStyleModel",
          "model_module_version": "1.5.0",
          "state": {
            "_model_module": "@jupyter-widgets/controls",
            "_model_module_version": "1.5.0",
            "_model_name": "DescriptionStyleModel",
            "_view_count": null,
            "_view_module": "@jupyter-widgets/base",
            "_view_module_version": "1.2.0",
            "_view_name": "StyleView",
            "description_width": ""
          }
        },
        "5108e5d3f74b43d18258e825a2920cf1": {
          "model_module": "@jupyter-widgets/base",
          "model_name": "LayoutModel",
          "model_module_version": "1.2.0",
          "state": {
            "_model_module": "@jupyter-widgets/base",
            "_model_module_version": "1.2.0",
            "_model_name": "LayoutModel",
            "_view_count": null,
            "_view_module": "@jupyter-widgets/base",
            "_view_module_version": "1.2.0",
            "_view_name": "LayoutView",
            "align_content": null,
            "align_items": null,
            "align_self": null,
            "border": null,
            "bottom": null,
            "display": null,
            "flex": null,
            "flex_flow": null,
            "grid_area": null,
            "grid_auto_columns": null,
            "grid_auto_flow": null,
            "grid_auto_rows": null,
            "grid_column": null,
            "grid_gap": null,
            "grid_row": null,
            "grid_template_areas": null,
            "grid_template_columns": null,
            "grid_template_rows": null,
            "height": null,
            "justify_content": null,
            "justify_items": null,
            "left": null,
            "margin": null,
            "max_height": null,
            "max_width": null,
            "min_height": null,
            "min_width": null,
            "object_fit": null,
            "object_position": null,
            "order": null,
            "overflow": null,
            "overflow_x": null,
            "overflow_y": null,
            "padding": null,
            "right": null,
            "top": null,
            "visibility": null,
            "width": null
          }
        },
        "ed99305c9f1f4e56976b8b43d39975e8": {
          "model_module": "@jupyter-widgets/controls",
          "model_name": "ProgressStyleModel",
          "model_module_version": "1.5.0",
          "state": {
            "_model_module": "@jupyter-widgets/controls",
            "_model_module_version": "1.5.0",
            "_model_name": "ProgressStyleModel",
            "_view_count": null,
            "_view_module": "@jupyter-widgets/base",
            "_view_module_version": "1.2.0",
            "_view_name": "StyleView",
            "bar_color": null,
            "description_width": ""
          }
        },
        "0ebef3e8cea548ffb3aeff5ba8e971c7": {
          "model_module": "@jupyter-widgets/base",
          "model_name": "LayoutModel",
          "model_module_version": "1.2.0",
          "state": {
            "_model_module": "@jupyter-widgets/base",
            "_model_module_version": "1.2.0",
            "_model_name": "LayoutModel",
            "_view_count": null,
            "_view_module": "@jupyter-widgets/base",
            "_view_module_version": "1.2.0",
            "_view_name": "LayoutView",
            "align_content": null,
            "align_items": null,
            "align_self": null,
            "border": null,
            "bottom": null,
            "display": null,
            "flex": null,
            "flex_flow": null,
            "grid_area": null,
            "grid_auto_columns": null,
            "grid_auto_flow": null,
            "grid_auto_rows": null,
            "grid_column": null,
            "grid_gap": null,
            "grid_row": null,
            "grid_template_areas": null,
            "grid_template_columns": null,
            "grid_template_rows": null,
            "height": null,
            "justify_content": null,
            "justify_items": null,
            "left": null,
            "margin": null,
            "max_height": null,
            "max_width": null,
            "min_height": null,
            "min_width": null,
            "object_fit": null,
            "object_position": null,
            "order": null,
            "overflow": null,
            "overflow_x": null,
            "overflow_y": null,
            "padding": null,
            "right": null,
            "top": null,
            "visibility": null,
            "width": null
          }
        },
        "6860f62a14b24b0ba08f589522efef85": {
          "model_module": "@jupyter-widgets/controls",
          "model_name": "DescriptionStyleModel",
          "model_module_version": "1.5.0",
          "state": {
            "_model_module": "@jupyter-widgets/controls",
            "_model_module_version": "1.5.0",
            "_model_name": "DescriptionStyleModel",
            "_view_count": null,
            "_view_module": "@jupyter-widgets/base",
            "_view_module_version": "1.2.0",
            "_view_name": "StyleView",
            "description_width": ""
          }
        },
        "d5792565edf748689bec962ae451cf7e": {
          "model_module": "@jupyter-widgets/controls",
          "model_name": "HBoxModel",
          "model_module_version": "1.5.0",
          "state": {
            "_dom_classes": [],
            "_model_module": "@jupyter-widgets/controls",
            "_model_module_version": "1.5.0",
            "_model_name": "HBoxModel",
            "_view_count": null,
            "_view_module": "@jupyter-widgets/controls",
            "_view_module_version": "1.5.0",
            "_view_name": "HBoxView",
            "box_style": "",
            "children": [
              "IPY_MODEL_7fff8b9840e543c2bf9c8acb1aed74d2",
              "IPY_MODEL_bb8ddbb51ec3495f9fe62eebd1210715",
              "IPY_MODEL_27f713a87aa64b4594a5df5ffbd9716c"
            ],
            "layout": "IPY_MODEL_5dc60c666d704c9ca1af466273489d4f"
          }
        },
        "7fff8b9840e543c2bf9c8acb1aed74d2": {
          "model_module": "@jupyter-widgets/controls",
          "model_name": "HTMLModel",
          "model_module_version": "1.5.0",
          "state": {
            "_dom_classes": [],
            "_model_module": "@jupyter-widgets/controls",
            "_model_module_version": "1.5.0",
            "_model_name": "HTMLModel",
            "_view_count": null,
            "_view_module": "@jupyter-widgets/controls",
            "_view_module_version": "1.5.0",
            "_view_name": "HTMLView",
            "description": "",
            "description_tooltip": null,
            "layout": "IPY_MODEL_2d1cc538fa784c12ba9aba3110773251",
            "placeholder": "​",
            "style": "IPY_MODEL_4da39a45f6864b1bad009b3e7fb4b655",
            "value": "Downloading (…)cial_tokens_map.json: 100%"
          }
        },
        "bb8ddbb51ec3495f9fe62eebd1210715": {
          "model_module": "@jupyter-widgets/controls",
          "model_name": "FloatProgressModel",
          "model_module_version": "1.5.0",
          "state": {
            "_dom_classes": [],
            "_model_module": "@jupyter-widgets/controls",
            "_model_module_version": "1.5.0",
            "_model_name": "FloatProgressModel",
            "_view_count": null,
            "_view_module": "@jupyter-widgets/controls",
            "_view_module_version": "1.5.0",
            "_view_name": "ProgressView",
            "bar_style": "success",
            "description": "",
            "description_tooltip": null,
            "layout": "IPY_MODEL_170b00ca045e4479b14adfcff1fe7ffe",
            "max": 239,
            "min": 0,
            "orientation": "horizontal",
            "style": "IPY_MODEL_65f21e55ef564fc5956f276e693c59dc",
            "value": 239
          }
        },
        "27f713a87aa64b4594a5df5ffbd9716c": {
          "model_module": "@jupyter-widgets/controls",
          "model_name": "HTMLModel",
          "model_module_version": "1.5.0",
          "state": {
            "_dom_classes": [],
            "_model_module": "@jupyter-widgets/controls",
            "_model_module_version": "1.5.0",
            "_model_name": "HTMLModel",
            "_view_count": null,
            "_view_module": "@jupyter-widgets/controls",
            "_view_module_version": "1.5.0",
            "_view_name": "HTMLView",
            "description": "",
            "description_tooltip": null,
            "layout": "IPY_MODEL_02dd499ed2a3426d8a77756e7682a51d",
            "placeholder": "​",
            "style": "IPY_MODEL_114cc2a783c2462194afe3512c59e129",
            "value": " 239/239 [00:00&lt;00:00, 9.02kB/s]"
          }
        },
        "5dc60c666d704c9ca1af466273489d4f": {
          "model_module": "@jupyter-widgets/base",
          "model_name": "LayoutModel",
          "model_module_version": "1.2.0",
          "state": {
            "_model_module": "@jupyter-widgets/base",
            "_model_module_version": "1.2.0",
            "_model_name": "LayoutModel",
            "_view_count": null,
            "_view_module": "@jupyter-widgets/base",
            "_view_module_version": "1.2.0",
            "_view_name": "LayoutView",
            "align_content": null,
            "align_items": null,
            "align_self": null,
            "border": null,
            "bottom": null,
            "display": null,
            "flex": null,
            "flex_flow": null,
            "grid_area": null,
            "grid_auto_columns": null,
            "grid_auto_flow": null,
            "grid_auto_rows": null,
            "grid_column": null,
            "grid_gap": null,
            "grid_row": null,
            "grid_template_areas": null,
            "grid_template_columns": null,
            "grid_template_rows": null,
            "height": null,
            "justify_content": null,
            "justify_items": null,
            "left": null,
            "margin": null,
            "max_height": null,
            "max_width": null,
            "min_height": null,
            "min_width": null,
            "object_fit": null,
            "object_position": null,
            "order": null,
            "overflow": null,
            "overflow_x": null,
            "overflow_y": null,
            "padding": null,
            "right": null,
            "top": null,
            "visibility": null,
            "width": null
          }
        },
        "2d1cc538fa784c12ba9aba3110773251": {
          "model_module": "@jupyter-widgets/base",
          "model_name": "LayoutModel",
          "model_module_version": "1.2.0",
          "state": {
            "_model_module": "@jupyter-widgets/base",
            "_model_module_version": "1.2.0",
            "_model_name": "LayoutModel",
            "_view_count": null,
            "_view_module": "@jupyter-widgets/base",
            "_view_module_version": "1.2.0",
            "_view_name": "LayoutView",
            "align_content": null,
            "align_items": null,
            "align_self": null,
            "border": null,
            "bottom": null,
            "display": null,
            "flex": null,
            "flex_flow": null,
            "grid_area": null,
            "grid_auto_columns": null,
            "grid_auto_flow": null,
            "grid_auto_rows": null,
            "grid_column": null,
            "grid_gap": null,
            "grid_row": null,
            "grid_template_areas": null,
            "grid_template_columns": null,
            "grid_template_rows": null,
            "height": null,
            "justify_content": null,
            "justify_items": null,
            "left": null,
            "margin": null,
            "max_height": null,
            "max_width": null,
            "min_height": null,
            "min_width": null,
            "object_fit": null,
            "object_position": null,
            "order": null,
            "overflow": null,
            "overflow_x": null,
            "overflow_y": null,
            "padding": null,
            "right": null,
            "top": null,
            "visibility": null,
            "width": null
          }
        },
        "4da39a45f6864b1bad009b3e7fb4b655": {
          "model_module": "@jupyter-widgets/controls",
          "model_name": "DescriptionStyleModel",
          "model_module_version": "1.5.0",
          "state": {
            "_model_module": "@jupyter-widgets/controls",
            "_model_module_version": "1.5.0",
            "_model_name": "DescriptionStyleModel",
            "_view_count": null,
            "_view_module": "@jupyter-widgets/base",
            "_view_module_version": "1.2.0",
            "_view_name": "StyleView",
            "description_width": ""
          }
        },
        "170b00ca045e4479b14adfcff1fe7ffe": {
          "model_module": "@jupyter-widgets/base",
          "model_name": "LayoutModel",
          "model_module_version": "1.2.0",
          "state": {
            "_model_module": "@jupyter-widgets/base",
            "_model_module_version": "1.2.0",
            "_model_name": "LayoutModel",
            "_view_count": null,
            "_view_module": "@jupyter-widgets/base",
            "_view_module_version": "1.2.0",
            "_view_name": "LayoutView",
            "align_content": null,
            "align_items": null,
            "align_self": null,
            "border": null,
            "bottom": null,
            "display": null,
            "flex": null,
            "flex_flow": null,
            "grid_area": null,
            "grid_auto_columns": null,
            "grid_auto_flow": null,
            "grid_auto_rows": null,
            "grid_column": null,
            "grid_gap": null,
            "grid_row": null,
            "grid_template_areas": null,
            "grid_template_columns": null,
            "grid_template_rows": null,
            "height": null,
            "justify_content": null,
            "justify_items": null,
            "left": null,
            "margin": null,
            "max_height": null,
            "max_width": null,
            "min_height": null,
            "min_width": null,
            "object_fit": null,
            "object_position": null,
            "order": null,
            "overflow": null,
            "overflow_x": null,
            "overflow_y": null,
            "padding": null,
            "right": null,
            "top": null,
            "visibility": null,
            "width": null
          }
        },
        "65f21e55ef564fc5956f276e693c59dc": {
          "model_module": "@jupyter-widgets/controls",
          "model_name": "ProgressStyleModel",
          "model_module_version": "1.5.0",
          "state": {
            "_model_module": "@jupyter-widgets/controls",
            "_model_module_version": "1.5.0",
            "_model_name": "ProgressStyleModel",
            "_view_count": null,
            "_view_module": "@jupyter-widgets/base",
            "_view_module_version": "1.2.0",
            "_view_name": "StyleView",
            "bar_color": null,
            "description_width": ""
          }
        },
        "02dd499ed2a3426d8a77756e7682a51d": {
          "model_module": "@jupyter-widgets/base",
          "model_name": "LayoutModel",
          "model_module_version": "1.2.0",
          "state": {
            "_model_module": "@jupyter-widgets/base",
            "_model_module_version": "1.2.0",
            "_model_name": "LayoutModel",
            "_view_count": null,
            "_view_module": "@jupyter-widgets/base",
            "_view_module_version": "1.2.0",
            "_view_name": "LayoutView",
            "align_content": null,
            "align_items": null,
            "align_self": null,
            "border": null,
            "bottom": null,
            "display": null,
            "flex": null,
            "flex_flow": null,
            "grid_area": null,
            "grid_auto_columns": null,
            "grid_auto_flow": null,
            "grid_auto_rows": null,
            "grid_column": null,
            "grid_gap": null,
            "grid_row": null,
            "grid_template_areas": null,
            "grid_template_columns": null,
            "grid_template_rows": null,
            "height": null,
            "justify_content": null,
            "justify_items": null,
            "left": null,
            "margin": null,
            "max_height": null,
            "max_width": null,
            "min_height": null,
            "min_width": null,
            "object_fit": null,
            "object_position": null,
            "order": null,
            "overflow": null,
            "overflow_x": null,
            "overflow_y": null,
            "padding": null,
            "right": null,
            "top": null,
            "visibility": null,
            "width": null
          }
        },
        "114cc2a783c2462194afe3512c59e129": {
          "model_module": "@jupyter-widgets/controls",
          "model_name": "DescriptionStyleModel",
          "model_module_version": "1.5.0",
          "state": {
            "_model_module": "@jupyter-widgets/controls",
            "_model_module_version": "1.5.0",
            "_model_name": "DescriptionStyleModel",
            "_view_count": null,
            "_view_module": "@jupyter-widgets/base",
            "_view_module_version": "1.2.0",
            "_view_name": "StyleView",
            "description_width": ""
          }
        },
        "9853ad5e38bf4a42a5d1dfcf171d8eae": {
          "model_module": "@jupyter-widgets/controls",
          "model_name": "HBoxModel",
          "model_module_version": "1.5.0",
          "state": {
            "_dom_classes": [],
            "_model_module": "@jupyter-widgets/controls",
            "_model_module_version": "1.5.0",
            "_model_name": "HBoxModel",
            "_view_count": null,
            "_view_module": "@jupyter-widgets/controls",
            "_view_module_version": "1.5.0",
            "_view_name": "HBoxView",
            "box_style": "",
            "children": [
              "IPY_MODEL_c749e861c9da4912aeb00cede2232a94",
              "IPY_MODEL_6e2b7a23c18f495da458f46c54125320",
              "IPY_MODEL_2f8f697b5c524e33b645feaac82f936f"
            ],
            "layout": "IPY_MODEL_e3a2534dc62346628b311c7ac9370cd4"
          }
        },
        "c749e861c9da4912aeb00cede2232a94": {
          "model_module": "@jupyter-widgets/controls",
          "model_name": "HTMLModel",
          "model_module_version": "1.5.0",
          "state": {
            "_dom_classes": [],
            "_model_module": "@jupyter-widgets/controls",
            "_model_module_version": "1.5.0",
            "_model_name": "HTMLModel",
            "_view_count": null,
            "_view_module": "@jupyter-widgets/controls",
            "_view_module_version": "1.5.0",
            "_view_name": "HTMLView",
            "description": "",
            "description_tooltip": null,
            "layout": "IPY_MODEL_0aba3f7b5d914c31802bf97e90d80232",
            "placeholder": "​",
            "style": "IPY_MODEL_b75865bec5834f038da6e43fb83cf7eb",
            "value": "100%"
          }
        },
        "6e2b7a23c18f495da458f46c54125320": {
          "model_module": "@jupyter-widgets/controls",
          "model_name": "FloatProgressModel",
          "model_module_version": "1.5.0",
          "state": {
            "_dom_classes": [],
            "_model_module": "@jupyter-widgets/controls",
            "_model_module_version": "1.5.0",
            "_model_name": "FloatProgressModel",
            "_view_count": null,
            "_view_module": "@jupyter-widgets/controls",
            "_view_module_version": "1.5.0",
            "_view_name": "ProgressView",
            "bar_style": "success",
            "description": "",
            "description_tooltip": null,
            "layout": "IPY_MODEL_d29c7f8da8d74291a86bdbaa927d8e01",
            "max": 52594,
            "min": 0,
            "orientation": "horizontal",
            "style": "IPY_MODEL_cde81dd4ddee4494b1bf0cab1227d738",
            "value": 52594
          }
        },
        "2f8f697b5c524e33b645feaac82f936f": {
          "model_module": "@jupyter-widgets/controls",
          "model_name": "HTMLModel",
          "model_module_version": "1.5.0",
          "state": {
            "_dom_classes": [],
            "_model_module": "@jupyter-widgets/controls",
            "_model_module_version": "1.5.0",
            "_model_name": "HTMLModel",
            "_view_count": null,
            "_view_module": "@jupyter-widgets/controls",
            "_view_module_version": "1.5.0",
            "_view_name": "HTMLView",
            "description": "",
            "description_tooltip": null,
            "layout": "IPY_MODEL_ccafeba4e2e84e4fa15be986af6a6f80",
            "placeholder": "​",
            "style": "IPY_MODEL_143609af7d5e4c37be710ff34952296a",
            "value": " 52594/52594 [01:42&lt;00:00, 440.73it/s]"
          }
        },
        "e3a2534dc62346628b311c7ac9370cd4": {
          "model_module": "@jupyter-widgets/base",
          "model_name": "LayoutModel",
          "model_module_version": "1.2.0",
          "state": {
            "_model_module": "@jupyter-widgets/base",
            "_model_module_version": "1.2.0",
            "_model_name": "LayoutModel",
            "_view_count": null,
            "_view_module": "@jupyter-widgets/base",
            "_view_module_version": "1.2.0",
            "_view_name": "LayoutView",
            "align_content": null,
            "align_items": null,
            "align_self": null,
            "border": null,
            "bottom": null,
            "display": null,
            "flex": null,
            "flex_flow": null,
            "grid_area": null,
            "grid_auto_columns": null,
            "grid_auto_flow": null,
            "grid_auto_rows": null,
            "grid_column": null,
            "grid_gap": null,
            "grid_row": null,
            "grid_template_areas": null,
            "grid_template_columns": null,
            "grid_template_rows": null,
            "height": null,
            "justify_content": null,
            "justify_items": null,
            "left": null,
            "margin": null,
            "max_height": null,
            "max_width": null,
            "min_height": null,
            "min_width": null,
            "object_fit": null,
            "object_position": null,
            "order": null,
            "overflow": null,
            "overflow_x": null,
            "overflow_y": null,
            "padding": null,
            "right": null,
            "top": null,
            "visibility": null,
            "width": null
          }
        },
        "0aba3f7b5d914c31802bf97e90d80232": {
          "model_module": "@jupyter-widgets/base",
          "model_name": "LayoutModel",
          "model_module_version": "1.2.0",
          "state": {
            "_model_module": "@jupyter-widgets/base",
            "_model_module_version": "1.2.0",
            "_model_name": "LayoutModel",
            "_view_count": null,
            "_view_module": "@jupyter-widgets/base",
            "_view_module_version": "1.2.0",
            "_view_name": "LayoutView",
            "align_content": null,
            "align_items": null,
            "align_self": null,
            "border": null,
            "bottom": null,
            "display": null,
            "flex": null,
            "flex_flow": null,
            "grid_area": null,
            "grid_auto_columns": null,
            "grid_auto_flow": null,
            "grid_auto_rows": null,
            "grid_column": null,
            "grid_gap": null,
            "grid_row": null,
            "grid_template_areas": null,
            "grid_template_columns": null,
            "grid_template_rows": null,
            "height": null,
            "justify_content": null,
            "justify_items": null,
            "left": null,
            "margin": null,
            "max_height": null,
            "max_width": null,
            "min_height": null,
            "min_width": null,
            "object_fit": null,
            "object_position": null,
            "order": null,
            "overflow": null,
            "overflow_x": null,
            "overflow_y": null,
            "padding": null,
            "right": null,
            "top": null,
            "visibility": null,
            "width": null
          }
        },
        "b75865bec5834f038da6e43fb83cf7eb": {
          "model_module": "@jupyter-widgets/controls",
          "model_name": "DescriptionStyleModel",
          "model_module_version": "1.5.0",
          "state": {
            "_model_module": "@jupyter-widgets/controls",
            "_model_module_version": "1.5.0",
            "_model_name": "DescriptionStyleModel",
            "_view_count": null,
            "_view_module": "@jupyter-widgets/base",
            "_view_module_version": "1.2.0",
            "_view_name": "StyleView",
            "description_width": ""
          }
        },
        "d29c7f8da8d74291a86bdbaa927d8e01": {
          "model_module": "@jupyter-widgets/base",
          "model_name": "LayoutModel",
          "model_module_version": "1.2.0",
          "state": {
            "_model_module": "@jupyter-widgets/base",
            "_model_module_version": "1.2.0",
            "_model_name": "LayoutModel",
            "_view_count": null,
            "_view_module": "@jupyter-widgets/base",
            "_view_module_version": "1.2.0",
            "_view_name": "LayoutView",
            "align_content": null,
            "align_items": null,
            "align_self": null,
            "border": null,
            "bottom": null,
            "display": null,
            "flex": null,
            "flex_flow": null,
            "grid_area": null,
            "grid_auto_columns": null,
            "grid_auto_flow": null,
            "grid_auto_rows": null,
            "grid_column": null,
            "grid_gap": null,
            "grid_row": null,
            "grid_template_areas": null,
            "grid_template_columns": null,
            "grid_template_rows": null,
            "height": null,
            "justify_content": null,
            "justify_items": null,
            "left": null,
            "margin": null,
            "max_height": null,
            "max_width": null,
            "min_height": null,
            "min_width": null,
            "object_fit": null,
            "object_position": null,
            "order": null,
            "overflow": null,
            "overflow_x": null,
            "overflow_y": null,
            "padding": null,
            "right": null,
            "top": null,
            "visibility": null,
            "width": null
          }
        },
        "cde81dd4ddee4494b1bf0cab1227d738": {
          "model_module": "@jupyter-widgets/controls",
          "model_name": "ProgressStyleModel",
          "model_module_version": "1.5.0",
          "state": {
            "_model_module": "@jupyter-widgets/controls",
            "_model_module_version": "1.5.0",
            "_model_name": "ProgressStyleModel",
            "_view_count": null,
            "_view_module": "@jupyter-widgets/base",
            "_view_module_version": "1.2.0",
            "_view_name": "StyleView",
            "bar_color": null,
            "description_width": ""
          }
        },
        "ccafeba4e2e84e4fa15be986af6a6f80": {
          "model_module": "@jupyter-widgets/base",
          "model_name": "LayoutModel",
          "model_module_version": "1.2.0",
          "state": {
            "_model_module": "@jupyter-widgets/base",
            "_model_module_version": "1.2.0",
            "_model_name": "LayoutModel",
            "_view_count": null,
            "_view_module": "@jupyter-widgets/base",
            "_view_module_version": "1.2.0",
            "_view_name": "LayoutView",
            "align_content": null,
            "align_items": null,
            "align_self": null,
            "border": null,
            "bottom": null,
            "display": null,
            "flex": null,
            "flex_flow": null,
            "grid_area": null,
            "grid_auto_columns": null,
            "grid_auto_flow": null,
            "grid_auto_rows": null,
            "grid_column": null,
            "grid_gap": null,
            "grid_row": null,
            "grid_template_areas": null,
            "grid_template_columns": null,
            "grid_template_rows": null,
            "height": null,
            "justify_content": null,
            "justify_items": null,
            "left": null,
            "margin": null,
            "max_height": null,
            "max_width": null,
            "min_height": null,
            "min_width": null,
            "object_fit": null,
            "object_position": null,
            "order": null,
            "overflow": null,
            "overflow_x": null,
            "overflow_y": null,
            "padding": null,
            "right": null,
            "top": null,
            "visibility": null,
            "width": null
          }
        },
        "143609af7d5e4c37be710ff34952296a": {
          "model_module": "@jupyter-widgets/controls",
          "model_name": "DescriptionStyleModel",
          "model_module_version": "1.5.0",
          "state": {
            "_model_module": "@jupyter-widgets/controls",
            "_model_module_version": "1.5.0",
            "_model_name": "DescriptionStyleModel",
            "_view_count": null,
            "_view_module": "@jupyter-widgets/base",
            "_view_module_version": "1.2.0",
            "_view_name": "StyleView",
            "description_width": ""
          }
        }
      }
    },
    "gpuClass": "standard"
  },
  "nbformat": 4,
  "nbformat_minor": 0
}