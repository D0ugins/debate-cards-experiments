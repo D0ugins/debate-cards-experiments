{
  "cells": [
    {
      "cell_type": "code",
      "execution_count": null,
      "metadata": {
        "id": "sju_YeQ-oapG"
      },
      "outputs": [],
      "source": [
        "# If loading new data\n",
        "NGROK_URL = \"8.tcp.ngrok.io:15447\"\n",
        "DATA_FILE = \"ev21\"\n",
        "DATA_PATH = f'/content/drive/MyDrive/dc/{DATA_FILE}'"
      ]
    },
    {
      "cell_type": "markdown",
      "metadata": {
        "id": "u-DUR6ggwkkI"
      },
      "source": [
        "# Setup\n",
        "\n"
      ]
    },
    {
      "cell_type": "markdown",
      "metadata": {
        "id": "_tdMIGG6wqra"
      },
      "source": [
        "Mounts google drive for persistent storage"
      ]
    },
    {
      "cell_type": "code",
      "execution_count": null,
      "metadata": {
        "colab": {
          "base_uri": "https://localhost:8080/"
        },
        "id": "wSyudXbAW5x3",
        "outputId": "24c0a0e1-1e5f-44da-b0c9-724974622980"
      },
      "outputs": [
        {
          "output_type": "stream",
          "name": "stdout",
          "text": [
            "Mounted at /content/drive\n"
          ]
        }
      ],
      "source": [
        "from google.colab import drive\n",
        "from os import mkdir\n",
        "from pathlib import Path\n",
        "\n",
        "\n",
        "drive.mount('/content/drive')\n",
        "Path('/content/drive/MyDrive/dc').mkdir(exist_ok=True)"
      ]
    },
    {
      "cell_type": "code",
      "execution_count": null,
      "metadata": {
        "id": "5FrRDXn1oiMs"
      },
      "outputs": [],
      "source": [
        "import numpy as np\n",
        "import pandas as pd\n",
        "from sqlalchemy import create_engine\n",
        "from IPython.display import display, HTML\n",
        "import matplotlib.pyplot as plt\n",
        "from scipy import sparse\n",
        "from tqdm.notebook import tqdm\n",
        "import itertools\n",
        "import collections\n",
        "import functools\n",
        "from datetime import datetime\n",
        "from sklearn.preprocessing import normalize\n",
        "\n",
        "%matplotlib inline"
      ]
    },
    {
      "cell_type": "markdown",
      "metadata": {
        "id": "ig6AOEV9qhXn"
      },
      "source": [
        "Loads from file, falls back to loading from postgres server"
      ]
    },
    {
      "cell_type": "code",
      "execution_count": null,
      "metadata": {
        "id": "PZkYG2AjvA9f"
      },
      "outputs": [],
      "source": [
        "try:\n",
        "  evidence = pd.read_feather(DATA_PATH + '.feather')\n",
        "except FileNotFoundError:\n",
        "  db = create_engine(f\"postgresql://postgres:password@{NGROK_URL}/debate-cards\").connect()\n",
        "  query = \"\"\"\n",
        "    SELECT evidence.id, evidence.\"fileId\", evidence.pocket, evidence.hat, evidence.block, evidence.tag, evidence.fullcite, evidence.cite, evidence.\"bucketId\", evidence.markup\n",
        "    FROM public.\"Evidence\" evidence\n",
        "      INNER JOIN public.\"_FileToTag\" ftt ON evidence.\"fileId\" = ftt.\"A\"\n",
        "      INNER JOIN public.\"Tag\" tag on ftt.\"B\" = tag.id\n",
        "    WHERE tag.name='2021';\n",
        "  \"\"\"\n",
        "  evidence = pd.read_sql(query, db)\n",
        "  evidence.to_feather(DATA_PATH + '.feather')"
      ]
    },
    {
      "cell_type": "code",
      "source": [
        "try:\n",
        "  files = pd.read_feather(DATA_PATH + '_files.feather')\n",
        "except FileNotFoundError:\n",
        "  db = create_engine(f\"postgresql://postgres:password@{NGROK_URL}/debate-cards\").connect()\n",
        "  query = \"\"\"\n",
        "    SELECT f.*\n",
        "    FROM public.\"File\" f\n",
        "      INNER JOIN public.\"_FileToTag\" ftt ON f.id = ftt.\"A\"\n",
        "      INNER JOIN public.\"Tag\" tag on ftt.\"B\" = tag.id\n",
        "    WHERE tag.name='2021';\n",
        "  \"\"\"\n",
        "  files = pd.read_sql(query, db)\n",
        "  files.to_feather(DATA_PATH + '_files.feather')"
      ],
      "metadata": {
        "id": "S17ebGPHBAWe"
      },
      "execution_count": null,
      "outputs": []
    },
    {
      "cell_type": "markdown",
      "metadata": {
        "id": "Ii_qJCwqqpUl"
      },
      "source": [
        "Creates various useful transformations of data"
      ]
    },
    {
      "cell_type": "code",
      "execution_count": null,
      "metadata": {
        "id": "txh4TU30w1U9"
      },
      "outputs": [],
      "source": [
        "evClean = evidence.dropna(subset=['bucketId']).drop(columns='Unnamed: 0').fillna('')\n",
        "buckets = evClean['bucketId'].drop_duplicates().reset_index(drop=True)\n",
        "bucketIndexes = pd.Series(buckets.index.values, index=buckets)\n",
        "fileIds = files['id'].reset_index(drop=True)\n",
        "fClean = files.set_index('id')"
      ]
    },
    {
      "cell_type": "markdown",
      "metadata": {
        "id": "qERFOP_JVpGN"
      },
      "source": [
        "Util function to display cards next to eachother"
      ]
    },
    {
      "cell_type": "code",
      "execution_count": null,
      "metadata": {
        "id": "c8chIMWdVoYx"
      },
      "outputs": [],
      "source": [
        "def showCards(cards):\n",
        "  divs = \"\\n\".join([f\"<div style='padding: 10px; flex: 1 1 0; overflow: scroll;'>{card.markup}</div>\" for card in cards])\n",
        "  display(HTML(f\"<div style='display: flex; height: 1000px'>{divs}</div>\"))\n",
        "\n",
        "def showBucketSeries(series, indexes=range(5), iloc=0):\n",
        "  showCards([evClean[evClean['bucketId'] == buckets[series.index[i]]].iloc[iloc] for i in indexes])"
      ]
    },
    {
      "cell_type": "markdown",
      "metadata": {
        "id": "0Btv0C62C2MT"
      },
      "source": [
        "Util functions for generating graph"
      ]
    },
    {
      "cell_type": "markdown",
      "source": [
        "I think replace with $M^TM$ where M is matrix where $M_{ij}$ is 1 if block $i$ has card with bucketId $j$"
      ],
      "metadata": {
        "id": "26SPseEoZgjj"
      }
    },
    {
      "cell_type": "code",
      "execution_count": null,
      "metadata": {
        "id": "7beFdKsyqsyF"
      },
      "outputs": [],
      "source": [
        "\n",
        "@functools.lru_cache(maxsize=1)\n",
        "def genEdges():\n",
        "  edges = {}\n",
        "  for name, group in tqdm(evClean.groupby(['fileId', 'pocket', 'hat', 'block'])):\n",
        "    for edge in itertools.combinations(bucketIndexes[group['bucketId']], 2):\n",
        "      edges[edge] = edges.get(edge, 0) + 1\n",
        "  return edges\n",
        "\n",
        "# def genNormalizedEdges():\n",
        "#   edgesNormalized = {}\n",
        "#   print('Generating edges')\n",
        "#   for name, group in tqdm(evClean.groupby(['fileId', 'pocket', 'hat', 'block'])):\n",
        "#     for edge in itertools.permutations(bucketIndexes[group['bucketId']], 2):\n",
        "#       edgesNormalized[edge] = edgesNormalized.get(edge, 0) + 1\n",
        "\n",
        "#   print('Normalizing (~1 minute)')\n",
        "#   edgesSeries = pd.Series(edgesNormalized)\n",
        "#   edgesSeries.index = edgesSeries.index.set_names(['src', 'dest'])\n",
        "#   return edgesSeries.groupby('src').transform(lambda x: x / x.sum())\n"
      ]
    },
    {
      "cell_type": "markdown",
      "metadata": {
        "id": "5f4N8teHqW86"
      },
      "source": [
        "Test cards"
      ]
    },
    {
      "cell_type": "code",
      "execution_count": null,
      "metadata": {
        "id": "yOBurzRqqZJC"
      },
      "outputs": [],
      "source": [
        "frBuckets = (evClean[evClean['tag'].str.contains('fracking')]).groupby('bucketId').size().sort_values(ascending=False)\n",
        "frBIndex = frBuckets.index[0]\n",
        "frI = bucketIndexes[frBIndex]\n",
        "\n",
        "teBuckets = (evClean[evClean['cite'].str.contains('teodoro', case=False)]).groupby('bucketId').size().sort_values(ascending=False)\n",
        "teBIndex = teBuckets.index[1]\n",
        "teI = bucketIndexes[teBIndex]"
      ]
    },
    {
      "cell_type": "code",
      "execution_count": null,
      "metadata": {
        "colab": {
          "base_uri": "https://localhost:8080/",
          "height": 1000
        },
        "id": "qmTc7cDuvoKR",
        "outputId": "87bd51af-be73-4175-89d0-d4b0581dc32b"
      },
      "outputs": [
        {
          "output_type": "execute_result",
          "data": {
            "text/plain": [
              "        Unnamed: 0      id  fileId                               pocket  \\\n",
              "0                0  798530   11437      Disclosure---Kentucky---Round 4   \n",
              "1                1  475794    5631             Aff Answers vs. Fish CPs   \n",
              "2                2  475827    5580                                 None   \n",
              "3                3  475814    5630                          A2: Offcase   \n",
              "4                4  475831    5631             Aff Answers vs. Fish CPs   \n",
              "...            ...     ...     ...                                  ...   \n",
              "281793      281793  798553   11436      Disclosure---Kentucky---Round 6   \n",
              "281794      281794  476357    5638                       Politics Links   \n",
              "281795      281795  476337    5638                  Fishing Industry DA   \n",
              "281796      281796  476378    5637                     Oceans Advantage   \n",
              "281797      281797  798538   11440  Disclosure---Northwestern---Round 5   \n",
              "\n",
              "                                             hat  \\\n",
              "0                                            1NC   \n",
              "1       Marine Protected Areas (MPAs) CP Answers   \n",
              "2                                 Psychoanalysis   \n",
              "3                                A2: Congress CP   \n",
              "4        Magnuson-Stevens Act (MSA) Amendment CP   \n",
              "...                                          ...   \n",
              "281793                                       1NC   \n",
              "281794                                      None   \n",
              "281795                                      None   \n",
              "281796                                      None   \n",
              "281797                                       1NC   \n",
              "\n",
              "                                                    block  \\\n",
              "0                                                     OFF   \n",
              "1                                     1AR — Doesn’t Solve   \n",
              "2                                            Link—Warming   \n",
              "3                                 2AC --- A2: Congress CP   \n",
              "4       2AC — Magnusen-Stevens Act (MSA) Amendment CP ...   \n",
              "...                                                   ...   \n",
              "281793                                               Case   \n",
              "281794                            Political Capital Links   \n",
              "281795  AT:  Subsidies/Bailouts Save the Fishing Industry   \n",
              "281796                             Oceans Key to Survival   \n",
              "281797                                                OFF   \n",
              "\n",
              "                                                      tag  \\\n",
              "0                     Maintains incentives for innovation   \n",
              "1                MPAs are not a panacea for ocean health.   \n",
              "2       Unconscious desires is the root cause for clim...   \n",
              "3       --- Only the aff redefines the role of judicia...   \n",
              "4       1. Doesn’t Solve Freshwater Fishing — that’s t...   \n",
              "...                                                   ...   \n",
              "281793  Military AI ushers in the erosion of conventio...   \n",
              "281794  There are substantial political obstacles to t...   \n",
              "281795         Subsidies can’t save the fishing industry:   \n",
              "281796           Healthy oceans are key to life on Earth:   \n",
              "281797  Plank 2 solves---Section 5 is comparatively mo...   \n",
              "\n",
              "                                                 fullcite  \\\n",
              "0       Dagen 10 – Special Counsel to the Director, Bu...   \n",
              "1       Margaret Cooney, 2019 (campaign manager for Oc...   \n",
              "2       Sally Weintrobe on Michale Rustin, 09-24-2012,...   \n",
              "3       GUINIER 09 --- LANI GUINIER, Bennett Boskey Pr...   \n",
              "4       NOAA, No Date, The National Oceanic and Atmosp...   \n",
              "...                                                   ...   \n",
              "281793  Brose ’19 – Senior Fellow at the Carnegie Endo...   \n",
              "281794  BRUCE LIEBERMAN, 3/11/2021 (a long-time journa...   \n",
              "281795  The Nippon Foundation, 3/14/2016 (“Ask an Expe...   \n",
              "281796  Marine Conservation Institute, 2020 (Why Prote...   \n",
              "281797  Dagen 10 – Special Counsel to the Director, Bu...   \n",
              "\n",
              "                                                     cite  bucketId  \\\n",
              "0                                                Dagen 10  428979.0   \n",
              "1                                            Cooney, 2019  312715.0   \n",
              "2                                 Weintrobe on Rustin, 12  316375.0   \n",
              "3       GUINIER 09 --- LANI GUINIER, Bennett Boskey Pr...  316311.0   \n",
              "4                                           NOAA, No Date  316379.0   \n",
              "...                                                   ...       ...   \n",
              "281793                                          Brose ’19  247480.0   \n",
              "281794                                       LIEBERMAN 21  312312.0   \n",
              "281795                           The Nippon Foundation 16  312299.0   \n",
              "281796                Marine Conservation Institute, 2020  314925.0   \n",
              "281797                                           Dagen 10  428979.0   \n",
              "\n",
              "                                                   markup  \n",
              "0       <h4>Maintains incentives for innovation</h4><p...  \n",
              "1       <h4>MPAs are not a panacea for ocean health.</...  \n",
              "2       <h4>Unconscious desires is the <u>root cause</...  \n",
              "3       <h4>--- Only the aff redefines the role of jud...  \n",
              "4       <h4>1. <u>Doesn’t Solve Freshwater Fishing</u>...  \n",
              "...                                                   ...  \n",
              "281793  <h4>Military AI ushers in the <u>erosion</u> o...  \n",
              "281794  <h4>There are substantial political obstacles ...  \n",
              "281795  <h4><strong>Subsidies can’t save the fishing i...  \n",
              "281796  <h4>Healthy oceans are key to life on Earth:</...  \n",
              "281797  <h4>Plank 2 solves---Section 5 is <u>comparati...  \n",
              "\n",
              "[281798 rows x 11 columns]"
            ],
            "text/html": [
              "\n",
              "  <div id=\"df-78385e56-e35d-4897-bfd0-6186501b79b2\">\n",
              "    <div class=\"colab-df-container\">\n",
              "      <div>\n",
              "<style scoped>\n",
              "    .dataframe tbody tr th:only-of-type {\n",
              "        vertical-align: middle;\n",
              "    }\n",
              "\n",
              "    .dataframe tbody tr th {\n",
              "        vertical-align: top;\n",
              "    }\n",
              "\n",
              "    .dataframe thead th {\n",
              "        text-align: right;\n",
              "    }\n",
              "</style>\n",
              "<table border=\"1\" class=\"dataframe\">\n",
              "  <thead>\n",
              "    <tr style=\"text-align: right;\">\n",
              "      <th></th>\n",
              "      <th>Unnamed: 0</th>\n",
              "      <th>id</th>\n",
              "      <th>fileId</th>\n",
              "      <th>pocket</th>\n",
              "      <th>hat</th>\n",
              "      <th>block</th>\n",
              "      <th>tag</th>\n",
              "      <th>fullcite</th>\n",
              "      <th>cite</th>\n",
              "      <th>bucketId</th>\n",
              "      <th>markup</th>\n",
              "    </tr>\n",
              "  </thead>\n",
              "  <tbody>\n",
              "    <tr>\n",
              "      <th>0</th>\n",
              "      <td>0</td>\n",
              "      <td>798530</td>\n",
              "      <td>11437</td>\n",
              "      <td>Disclosure---Kentucky---Round 4</td>\n",
              "      <td>1NC</td>\n",
              "      <td>OFF</td>\n",
              "      <td>Maintains incentives for innovation</td>\n",
              "      <td>Dagen 10 – Special Counsel to the Director, Bu...</td>\n",
              "      <td>Dagen 10</td>\n",
              "      <td>428979.0</td>\n",
              "      <td>&lt;h4&gt;Maintains incentives for innovation&lt;/h4&gt;&lt;p...</td>\n",
              "    </tr>\n",
              "    <tr>\n",
              "      <th>1</th>\n",
              "      <td>1</td>\n",
              "      <td>475794</td>\n",
              "      <td>5631</td>\n",
              "      <td>Aff Answers vs. Fish CPs</td>\n",
              "      <td>Marine Protected Areas (MPAs) CP Answers</td>\n",
              "      <td>1AR — Doesn’t Solve</td>\n",
              "      <td>MPAs are not a panacea for ocean health.</td>\n",
              "      <td>Margaret Cooney, 2019 (campaign manager for Oc...</td>\n",
              "      <td>Cooney, 2019</td>\n",
              "      <td>312715.0</td>\n",
              "      <td>&lt;h4&gt;MPAs are not a panacea for ocean health.&lt;/...</td>\n",
              "    </tr>\n",
              "    <tr>\n",
              "      <th>2</th>\n",
              "      <td>2</td>\n",
              "      <td>475827</td>\n",
              "      <td>5580</td>\n",
              "      <td>None</td>\n",
              "      <td>Psychoanalysis</td>\n",
              "      <td>Link—Warming</td>\n",
              "      <td>Unconscious desires is the root cause for clim...</td>\n",
              "      <td>Sally Weintrobe on Michale Rustin, 09-24-2012,...</td>\n",
              "      <td>Weintrobe on Rustin, 12</td>\n",
              "      <td>316375.0</td>\n",
              "      <td>&lt;h4&gt;Unconscious desires is the &lt;u&gt;root cause&lt;/...</td>\n",
              "    </tr>\n",
              "    <tr>\n",
              "      <th>3</th>\n",
              "      <td>3</td>\n",
              "      <td>475814</td>\n",
              "      <td>5630</td>\n",
              "      <td>A2: Offcase</td>\n",
              "      <td>A2: Congress CP</td>\n",
              "      <td>2AC --- A2: Congress CP</td>\n",
              "      <td>--- Only the aff redefines the role of judicia...</td>\n",
              "      <td>GUINIER 09 --- LANI GUINIER, Bennett Boskey Pr...</td>\n",
              "      <td>GUINIER 09 --- LANI GUINIER, Bennett Boskey Pr...</td>\n",
              "      <td>316311.0</td>\n",
              "      <td>&lt;h4&gt;--- Only the aff redefines the role of jud...</td>\n",
              "    </tr>\n",
              "    <tr>\n",
              "      <th>4</th>\n",
              "      <td>4</td>\n",
              "      <td>475831</td>\n",
              "      <td>5631</td>\n",
              "      <td>Aff Answers vs. Fish CPs</td>\n",
              "      <td>Magnuson-Stevens Act (MSA) Amendment CP</td>\n",
              "      <td>2AC — Magnusen-Stevens Act (MSA) Amendment CP ...</td>\n",
              "      <td>1. Doesn’t Solve Freshwater Fishing — that’s t...</td>\n",
              "      <td>NOAA, No Date, The National Oceanic and Atmosp...</td>\n",
              "      <td>NOAA, No Date</td>\n",
              "      <td>316379.0</td>\n",
              "      <td>&lt;h4&gt;1. &lt;u&gt;Doesn’t Solve Freshwater Fishing&lt;/u&gt;...</td>\n",
              "    </tr>\n",
              "    <tr>\n",
              "      <th>...</th>\n",
              "      <td>...</td>\n",
              "      <td>...</td>\n",
              "      <td>...</td>\n",
              "      <td>...</td>\n",
              "      <td>...</td>\n",
              "      <td>...</td>\n",
              "      <td>...</td>\n",
              "      <td>...</td>\n",
              "      <td>...</td>\n",
              "      <td>...</td>\n",
              "      <td>...</td>\n",
              "    </tr>\n",
              "    <tr>\n",
              "      <th>281793</th>\n",
              "      <td>281793</td>\n",
              "      <td>798553</td>\n",
              "      <td>11436</td>\n",
              "      <td>Disclosure---Kentucky---Round 6</td>\n",
              "      <td>1NC</td>\n",
              "      <td>Case</td>\n",
              "      <td>Military AI ushers in the erosion of conventio...</td>\n",
              "      <td>Brose ’19 – Senior Fellow at the Carnegie Endo...</td>\n",
              "      <td>Brose ’19</td>\n",
              "      <td>247480.0</td>\n",
              "      <td>&lt;h4&gt;Military AI ushers in the &lt;u&gt;erosion&lt;/u&gt; o...</td>\n",
              "    </tr>\n",
              "    <tr>\n",
              "      <th>281794</th>\n",
              "      <td>281794</td>\n",
              "      <td>476357</td>\n",
              "      <td>5638</td>\n",
              "      <td>Politics Links</td>\n",
              "      <td>None</td>\n",
              "      <td>Political Capital Links</td>\n",
              "      <td>There are substantial political obstacles to t...</td>\n",
              "      <td>BRUCE LIEBERMAN, 3/11/2021 (a long-time journa...</td>\n",
              "      <td>LIEBERMAN 21</td>\n",
              "      <td>312312.0</td>\n",
              "      <td>&lt;h4&gt;There are substantial political obstacles ...</td>\n",
              "    </tr>\n",
              "    <tr>\n",
              "      <th>281795</th>\n",
              "      <td>281795</td>\n",
              "      <td>476337</td>\n",
              "      <td>5638</td>\n",
              "      <td>Fishing Industry DA</td>\n",
              "      <td>None</td>\n",
              "      <td>AT:  Subsidies/Bailouts Save the Fishing Industry</td>\n",
              "      <td>Subsidies can’t save the fishing industry:</td>\n",
              "      <td>The Nippon Foundation, 3/14/2016 (“Ask an Expe...</td>\n",
              "      <td>The Nippon Foundation 16</td>\n",
              "      <td>312299.0</td>\n",
              "      <td>&lt;h4&gt;&lt;strong&gt;Subsidies can’t save the fishing i...</td>\n",
              "    </tr>\n",
              "    <tr>\n",
              "      <th>281796</th>\n",
              "      <td>281796</td>\n",
              "      <td>476378</td>\n",
              "      <td>5637</td>\n",
              "      <td>Oceans Advantage</td>\n",
              "      <td>None</td>\n",
              "      <td>Oceans Key to Survival</td>\n",
              "      <td>Healthy oceans are key to life on Earth:</td>\n",
              "      <td>Marine Conservation Institute, 2020 (Why Prote...</td>\n",
              "      <td>Marine Conservation Institute, 2020</td>\n",
              "      <td>314925.0</td>\n",
              "      <td>&lt;h4&gt;Healthy oceans are key to life on Earth:&lt;/...</td>\n",
              "    </tr>\n",
              "    <tr>\n",
              "      <th>281797</th>\n",
              "      <td>281797</td>\n",
              "      <td>798538</td>\n",
              "      <td>11440</td>\n",
              "      <td>Disclosure---Northwestern---Round 5</td>\n",
              "      <td>1NC</td>\n",
              "      <td>OFF</td>\n",
              "      <td>Plank 2 solves---Section 5 is comparatively mo...</td>\n",
              "      <td>Dagen 10 – Special Counsel to the Director, Bu...</td>\n",
              "      <td>Dagen 10</td>\n",
              "      <td>428979.0</td>\n",
              "      <td>&lt;h4&gt;Plank 2 solves---Section 5 is &lt;u&gt;comparati...</td>\n",
              "    </tr>\n",
              "  </tbody>\n",
              "</table>\n",
              "<p>281798 rows × 11 columns</p>\n",
              "</div>\n",
              "      <button class=\"colab-df-convert\" onclick=\"convertToInteractive('df-78385e56-e35d-4897-bfd0-6186501b79b2')\"\n",
              "              title=\"Convert this dataframe to an interactive table.\"\n",
              "              style=\"display:none;\">\n",
              "        \n",
              "  <svg xmlns=\"http://www.w3.org/2000/svg\" height=\"24px\"viewBox=\"0 0 24 24\"\n",
              "       width=\"24px\">\n",
              "    <path d=\"M0 0h24v24H0V0z\" fill=\"none\"/>\n",
              "    <path d=\"M18.56 5.44l.94 2.06.94-2.06 2.06-.94-2.06-.94-.94-2.06-.94 2.06-2.06.94zm-11 1L8.5 8.5l.94-2.06 2.06-.94-2.06-.94L8.5 2.5l-.94 2.06-2.06.94zm10 10l.94 2.06.94-2.06 2.06-.94-2.06-.94-.94-2.06-.94 2.06-2.06.94z\"/><path d=\"M17.41 7.96l-1.37-1.37c-.4-.4-.92-.59-1.43-.59-.52 0-1.04.2-1.43.59L10.3 9.45l-7.72 7.72c-.78.78-.78 2.05 0 2.83L4 21.41c.39.39.9.59 1.41.59.51 0 1.02-.2 1.41-.59l7.78-7.78 2.81-2.81c.8-.78.8-2.07 0-2.86zM5.41 20L4 18.59l7.72-7.72 1.47 1.35L5.41 20z\"/>\n",
              "  </svg>\n",
              "      </button>\n",
              "      \n",
              "  <style>\n",
              "    .colab-df-container {\n",
              "      display:flex;\n",
              "      flex-wrap:wrap;\n",
              "      gap: 12px;\n",
              "    }\n",
              "\n",
              "    .colab-df-convert {\n",
              "      background-color: #E8F0FE;\n",
              "      border: none;\n",
              "      border-radius: 50%;\n",
              "      cursor: pointer;\n",
              "      display: none;\n",
              "      fill: #1967D2;\n",
              "      height: 32px;\n",
              "      padding: 0 0 0 0;\n",
              "      width: 32px;\n",
              "    }\n",
              "\n",
              "    .colab-df-convert:hover {\n",
              "      background-color: #E2EBFA;\n",
              "      box-shadow: 0px 1px 2px rgba(60, 64, 67, 0.3), 0px 1px 3px 1px rgba(60, 64, 67, 0.15);\n",
              "      fill: #174EA6;\n",
              "    }\n",
              "\n",
              "    [theme=dark] .colab-df-convert {\n",
              "      background-color: #3B4455;\n",
              "      fill: #D2E3FC;\n",
              "    }\n",
              "\n",
              "    [theme=dark] .colab-df-convert:hover {\n",
              "      background-color: #434B5C;\n",
              "      box-shadow: 0px 1px 3px 1px rgba(0, 0, 0, 0.15);\n",
              "      filter: drop-shadow(0px 1px 2px rgba(0, 0, 0, 0.3));\n",
              "      fill: #FFFFFF;\n",
              "    }\n",
              "  </style>\n",
              "\n",
              "      <script>\n",
              "        const buttonEl =\n",
              "          document.querySelector('#df-78385e56-e35d-4897-bfd0-6186501b79b2 button.colab-df-convert');\n",
              "        buttonEl.style.display =\n",
              "          google.colab.kernel.accessAllowed ? 'block' : 'none';\n",
              "\n",
              "        async function convertToInteractive(key) {\n",
              "          const element = document.querySelector('#df-78385e56-e35d-4897-bfd0-6186501b79b2');\n",
              "          const dataTable =\n",
              "            await google.colab.kernel.invokeFunction('convertToInteractive',\n",
              "                                                     [key], {});\n",
              "          if (!dataTable) return;\n",
              "\n",
              "          const docLinkHtml = 'Like what you see? Visit the ' +\n",
              "            '<a target=\"_blank\" href=https://colab.research.google.com/notebooks/data_table.ipynb>data table notebook</a>'\n",
              "            + ' to learn more about interactive tables.';\n",
              "          element.innerHTML = '';\n",
              "          dataTable['output_type'] = 'display_data';\n",
              "          await google.colab.output.renderOutput(dataTable, element);\n",
              "          const docLink = document.createElement('div');\n",
              "          docLink.innerHTML = docLinkHtml;\n",
              "          element.appendChild(docLink);\n",
              "        }\n",
              "      </script>\n",
              "    </div>\n",
              "  </div>\n",
              "  "
            ]
          },
          "metadata": {},
          "execution_count": 10
        }
      ],
      "source": [
        "evidence"
      ]
    },
    {
      "cell_type": "code",
      "source": [
        "files"
      ],
      "metadata": {
        "colab": {
          "base_uri": "https://localhost:8080/",
          "height": 815
        },
        "id": "gAKvC-q4BQGn",
        "outputId": "9feee734-6444-4dfc-98f8-3d9fb441cb94"
      },
      "execution_count": null,
      "outputs": [
        {
          "output_type": "execute_result",
          "data": {
            "text/plain": [
              "         id               createdAt               updatedAt       gid  \\\n",
              "0      5306 2022-08-19 16:38:14.886 2022-08-20 01:50:29.610  PLZDFW-G   \n",
              "1      5313 2022-08-19 16:38:15.853 2022-08-20 01:50:32.562  M5LFEBLZ   \n",
              "2      5340 2022-08-19 16:38:16.660 2022-08-20 01:50:33.376  WJAHKQFY   \n",
              "3      5351 2022-08-19 16:38:16.989 2022-08-20 01:50:29.177  2Q67CP89   \n",
              "4      5376 2022-08-19 16:38:17.763 2022-08-20 01:50:41.632  SEMQSDT0   \n",
              "...     ...                     ...                     ...       ...   \n",
              "6909  17060 2022-08-27 16:16:14.756 2022-09-05 00:59:45.280  Q5JQFNF8   \n",
              "6910  17061 2022-08-27 16:16:26.774 2022-09-05 00:59:47.932  O7ZYH51E   \n",
              "6911  17062 2022-08-27 16:16:39.807 2022-09-05 00:59:48.529  UUW3WWUG   \n",
              "6912  17063 2022-08-27 16:16:51.838 2022-09-05 00:59:48.427  B39BNLVU   \n",
              "6913  17064 2022-08-27 16:17:05.858 2022-09-05 00:59:48.474  CS92-OKD   \n",
              "\n",
              "                                                   name  \\\n",
              "0                             States CP - Berkeley 2021   \n",
              "1                      Fracking Aff Neg - Berkeley 2021   \n",
              "2                          WOTUS Case Neg - DDI 2021 AT   \n",
              "3                         CBA Neg Updates - DDI 2021 HL   \n",
              "4                            CBA Case Neg - DDI 2021 KM   \n",
              "...                                                 ...   \n",
              "6909  Lawrence%20Free%20State-Rupp-Marshall-Neg-02%2...   \n",
              "6910  Lawrence%20Free%20State-Rupp-Marshall-Neg-03%2...   \n",
              "6911  Lawrence%20Free%20State-Rupp-Marshall-Neg-02%2...   \n",
              "6912  Lawrence%20Free%20State-Rupp-Marshall-Neg-03%2...   \n",
              "6913  Lawrence%20Free%20State-Rupp-Marshall-Neg-02%2...   \n",
              "\n",
              "                                                   path     status  roundId  \n",
              "0     ./documents/openev/2021/CNDI/States CP - Berke...  PROCESSED      NaN  \n",
              "1     ./documents/openev/2021/CNDI/Fracking Aff Neg ...  PROCESSED      NaN  \n",
              "2     ./documents/openev/2021/DDI/WOTUS Case Neg - D...  PROCESSED      NaN  \n",
              "3     ./documents/openev/2021/DDI/CBA Neg Updates - ...  PROCESSED      NaN  \n",
              "4     ./documents/openev/2021/DDI/CBA Case Neg - DDI...  PROCESSED      NaN  \n",
              "...                                                 ...        ...      ...  \n",
              "6909  ./documents/hspolicy21/LawrenceFreeState/RuMa/...  PROCESSED  20466.0  \n",
              "6910  ./documents/hspolicy21/LawrenceFreeState/RuMa/...  PROCESSED  20463.0  \n",
              "6911  ./documents/hspolicy21/LawrenceFreeState/RuMa/...  PROCESSED  20467.0  \n",
              "6912  ./documents/hspolicy21/LawrenceFreeState/RuMa/...  PROCESSED  20461.0  \n",
              "6913  ./documents/hspolicy21/LawrenceFreeState/RuMa/...  PROCESSED  20468.0  \n",
              "\n",
              "[6914 rows x 8 columns]"
            ],
            "text/html": [
              "\n",
              "  <div id=\"df-4513979a-c83b-4ae8-b50f-904b6939f7bb\">\n",
              "    <div class=\"colab-df-container\">\n",
              "      <div>\n",
              "<style scoped>\n",
              "    .dataframe tbody tr th:only-of-type {\n",
              "        vertical-align: middle;\n",
              "    }\n",
              "\n",
              "    .dataframe tbody tr th {\n",
              "        vertical-align: top;\n",
              "    }\n",
              "\n",
              "    .dataframe thead th {\n",
              "        text-align: right;\n",
              "    }\n",
              "</style>\n",
              "<table border=\"1\" class=\"dataframe\">\n",
              "  <thead>\n",
              "    <tr style=\"text-align: right;\">\n",
              "      <th></th>\n",
              "      <th>id</th>\n",
              "      <th>createdAt</th>\n",
              "      <th>updatedAt</th>\n",
              "      <th>gid</th>\n",
              "      <th>name</th>\n",
              "      <th>path</th>\n",
              "      <th>status</th>\n",
              "      <th>roundId</th>\n",
              "    </tr>\n",
              "  </thead>\n",
              "  <tbody>\n",
              "    <tr>\n",
              "      <th>0</th>\n",
              "      <td>5306</td>\n",
              "      <td>2022-08-19 16:38:14.886</td>\n",
              "      <td>2022-08-20 01:50:29.610</td>\n",
              "      <td>PLZDFW-G</td>\n",
              "      <td>States CP - Berkeley 2021</td>\n",
              "      <td>./documents/openev/2021/CNDI/States CP - Berke...</td>\n",
              "      <td>PROCESSED</td>\n",
              "      <td>NaN</td>\n",
              "    </tr>\n",
              "    <tr>\n",
              "      <th>1</th>\n",
              "      <td>5313</td>\n",
              "      <td>2022-08-19 16:38:15.853</td>\n",
              "      <td>2022-08-20 01:50:32.562</td>\n",
              "      <td>M5LFEBLZ</td>\n",
              "      <td>Fracking Aff Neg - Berkeley 2021</td>\n",
              "      <td>./documents/openev/2021/CNDI/Fracking Aff Neg ...</td>\n",
              "      <td>PROCESSED</td>\n",
              "      <td>NaN</td>\n",
              "    </tr>\n",
              "    <tr>\n",
              "      <th>2</th>\n",
              "      <td>5340</td>\n",
              "      <td>2022-08-19 16:38:16.660</td>\n",
              "      <td>2022-08-20 01:50:33.376</td>\n",
              "      <td>WJAHKQFY</td>\n",
              "      <td>WOTUS Case Neg - DDI 2021 AT</td>\n",
              "      <td>./documents/openev/2021/DDI/WOTUS Case Neg - D...</td>\n",
              "      <td>PROCESSED</td>\n",
              "      <td>NaN</td>\n",
              "    </tr>\n",
              "    <tr>\n",
              "      <th>3</th>\n",
              "      <td>5351</td>\n",
              "      <td>2022-08-19 16:38:16.989</td>\n",
              "      <td>2022-08-20 01:50:29.177</td>\n",
              "      <td>2Q67CP89</td>\n",
              "      <td>CBA Neg Updates - DDI 2021 HL</td>\n",
              "      <td>./documents/openev/2021/DDI/CBA Neg Updates - ...</td>\n",
              "      <td>PROCESSED</td>\n",
              "      <td>NaN</td>\n",
              "    </tr>\n",
              "    <tr>\n",
              "      <th>4</th>\n",
              "      <td>5376</td>\n",
              "      <td>2022-08-19 16:38:17.763</td>\n",
              "      <td>2022-08-20 01:50:41.632</td>\n",
              "      <td>SEMQSDT0</td>\n",
              "      <td>CBA Case Neg - DDI 2021 KM</td>\n",
              "      <td>./documents/openev/2021/DDI/CBA Case Neg - DDI...</td>\n",
              "      <td>PROCESSED</td>\n",
              "      <td>NaN</td>\n",
              "    </tr>\n",
              "    <tr>\n",
              "      <th>...</th>\n",
              "      <td>...</td>\n",
              "      <td>...</td>\n",
              "      <td>...</td>\n",
              "      <td>...</td>\n",
              "      <td>...</td>\n",
              "      <td>...</td>\n",
              "      <td>...</td>\n",
              "      <td>...</td>\n",
              "    </tr>\n",
              "    <tr>\n",
              "      <th>6909</th>\n",
              "      <td>17060</td>\n",
              "      <td>2022-08-27 16:16:14.756</td>\n",
              "      <td>2022-09-05 00:59:45.280</td>\n",
              "      <td>Q5JQFNF8</td>\n",
              "      <td>Lawrence%20Free%20State-Rupp-Marshall-Neg-02%2...</td>\n",
              "      <td>./documents/hspolicy21/LawrenceFreeState/RuMa/...</td>\n",
              "      <td>PROCESSED</td>\n",
              "      <td>20466.0</td>\n",
              "    </tr>\n",
              "    <tr>\n",
              "      <th>6910</th>\n",
              "      <td>17061</td>\n",
              "      <td>2022-08-27 16:16:26.774</td>\n",
              "      <td>2022-09-05 00:59:47.932</td>\n",
              "      <td>O7ZYH51E</td>\n",
              "      <td>Lawrence%20Free%20State-Rupp-Marshall-Neg-03%2...</td>\n",
              "      <td>./documents/hspolicy21/LawrenceFreeState/RuMa/...</td>\n",
              "      <td>PROCESSED</td>\n",
              "      <td>20463.0</td>\n",
              "    </tr>\n",
              "    <tr>\n",
              "      <th>6911</th>\n",
              "      <td>17062</td>\n",
              "      <td>2022-08-27 16:16:39.807</td>\n",
              "      <td>2022-09-05 00:59:48.529</td>\n",
              "      <td>UUW3WWUG</td>\n",
              "      <td>Lawrence%20Free%20State-Rupp-Marshall-Neg-02%2...</td>\n",
              "      <td>./documents/hspolicy21/LawrenceFreeState/RuMa/...</td>\n",
              "      <td>PROCESSED</td>\n",
              "      <td>20467.0</td>\n",
              "    </tr>\n",
              "    <tr>\n",
              "      <th>6912</th>\n",
              "      <td>17063</td>\n",
              "      <td>2022-08-27 16:16:51.838</td>\n",
              "      <td>2022-09-05 00:59:48.427</td>\n",
              "      <td>B39BNLVU</td>\n",
              "      <td>Lawrence%20Free%20State-Rupp-Marshall-Neg-03%2...</td>\n",
              "      <td>./documents/hspolicy21/LawrenceFreeState/RuMa/...</td>\n",
              "      <td>PROCESSED</td>\n",
              "      <td>20461.0</td>\n",
              "    </tr>\n",
              "    <tr>\n",
              "      <th>6913</th>\n",
              "      <td>17064</td>\n",
              "      <td>2022-08-27 16:17:05.858</td>\n",
              "      <td>2022-09-05 00:59:48.474</td>\n",
              "      <td>CS92-OKD</td>\n",
              "      <td>Lawrence%20Free%20State-Rupp-Marshall-Neg-02%2...</td>\n",
              "      <td>./documents/hspolicy21/LawrenceFreeState/RuMa/...</td>\n",
              "      <td>PROCESSED</td>\n",
              "      <td>20468.0</td>\n",
              "    </tr>\n",
              "  </tbody>\n",
              "</table>\n",
              "<p>6914 rows × 8 columns</p>\n",
              "</div>\n",
              "      <button class=\"colab-df-convert\" onclick=\"convertToInteractive('df-4513979a-c83b-4ae8-b50f-904b6939f7bb')\"\n",
              "              title=\"Convert this dataframe to an interactive table.\"\n",
              "              style=\"display:none;\">\n",
              "        \n",
              "  <svg xmlns=\"http://www.w3.org/2000/svg\" height=\"24px\"viewBox=\"0 0 24 24\"\n",
              "       width=\"24px\">\n",
              "    <path d=\"M0 0h24v24H0V0z\" fill=\"none\"/>\n",
              "    <path d=\"M18.56 5.44l.94 2.06.94-2.06 2.06-.94-2.06-.94-.94-2.06-.94 2.06-2.06.94zm-11 1L8.5 8.5l.94-2.06 2.06-.94-2.06-.94L8.5 2.5l-.94 2.06-2.06.94zm10 10l.94 2.06.94-2.06 2.06-.94-2.06-.94-.94-2.06-.94 2.06-2.06.94z\"/><path d=\"M17.41 7.96l-1.37-1.37c-.4-.4-.92-.59-1.43-.59-.52 0-1.04.2-1.43.59L10.3 9.45l-7.72 7.72c-.78.78-.78 2.05 0 2.83L4 21.41c.39.39.9.59 1.41.59.51 0 1.02-.2 1.41-.59l7.78-7.78 2.81-2.81c.8-.78.8-2.07 0-2.86zM5.41 20L4 18.59l7.72-7.72 1.47 1.35L5.41 20z\"/>\n",
              "  </svg>\n",
              "      </button>\n",
              "      \n",
              "  <style>\n",
              "    .colab-df-container {\n",
              "      display:flex;\n",
              "      flex-wrap:wrap;\n",
              "      gap: 12px;\n",
              "    }\n",
              "\n",
              "    .colab-df-convert {\n",
              "      background-color: #E8F0FE;\n",
              "      border: none;\n",
              "      border-radius: 50%;\n",
              "      cursor: pointer;\n",
              "      display: none;\n",
              "      fill: #1967D2;\n",
              "      height: 32px;\n",
              "      padding: 0 0 0 0;\n",
              "      width: 32px;\n",
              "    }\n",
              "\n",
              "    .colab-df-convert:hover {\n",
              "      background-color: #E2EBFA;\n",
              "      box-shadow: 0px 1px 2px rgba(60, 64, 67, 0.3), 0px 1px 3px 1px rgba(60, 64, 67, 0.15);\n",
              "      fill: #174EA6;\n",
              "    }\n",
              "\n",
              "    [theme=dark] .colab-df-convert {\n",
              "      background-color: #3B4455;\n",
              "      fill: #D2E3FC;\n",
              "    }\n",
              "\n",
              "    [theme=dark] .colab-df-convert:hover {\n",
              "      background-color: #434B5C;\n",
              "      box-shadow: 0px 1px 3px 1px rgba(0, 0, 0, 0.15);\n",
              "      filter: drop-shadow(0px 1px 2px rgba(0, 0, 0, 0.3));\n",
              "      fill: #FFFFFF;\n",
              "    }\n",
              "  </style>\n",
              "\n",
              "      <script>\n",
              "        const buttonEl =\n",
              "          document.querySelector('#df-4513979a-c83b-4ae8-b50f-904b6939f7bb button.colab-df-convert');\n",
              "        buttonEl.style.display =\n",
              "          google.colab.kernel.accessAllowed ? 'block' : 'none';\n",
              "\n",
              "        async function convertToInteractive(key) {\n",
              "          const element = document.querySelector('#df-4513979a-c83b-4ae8-b50f-904b6939f7bb');\n",
              "          const dataTable =\n",
              "            await google.colab.kernel.invokeFunction('convertToInteractive',\n",
              "                                                     [key], {});\n",
              "          if (!dataTable) return;\n",
              "\n",
              "          const docLinkHtml = 'Like what you see? Visit the ' +\n",
              "            '<a target=\"_blank\" href=https://colab.research.google.com/notebooks/data_table.ipynb>data table notebook</a>'\n",
              "            + ' to learn more about interactive tables.';\n",
              "          element.innerHTML = '';\n",
              "          dataTable['output_type'] = 'display_data';\n",
              "          await google.colab.output.renderOutput(dataTable, element);\n",
              "          const docLink = document.createElement('div');\n",
              "          docLink.innerHTML = docLinkHtml;\n",
              "          element.appendChild(docLink);\n",
              "        }\n",
              "      </script>\n",
              "    </div>\n",
              "  </div>\n",
              "  "
            ]
          },
          "metadata": {},
          "execution_count": 11
        }
      ]
    },
    {
      "cell_type": "markdown",
      "metadata": {
        "id": "uvf_yhp0w8mQ"
      },
      "source": [
        "# Analysis\n"
      ]
    },
    {
      "cell_type": "markdown",
      "metadata": {
        "id": "uO5CZ5hcITdx"
      },
      "source": [
        "## Group sizes"
      ]
    },
    {
      "cell_type": "code",
      "execution_count": null,
      "metadata": {
        "id": "1owbWgdFy2Va"
      },
      "outputs": [],
      "source": [
        "levels = ['fileId', 'pocket', 'hat', 'block']"
      ]
    },
    {
      "cell_type": "code",
      "execution_count": null,
      "metadata": {
        "id": "NGrouWcSK8C0"
      },
      "outputs": [],
      "source": [
        "# def avgSiblings(sizes):\n",
        "#   data = sizes.describe()\n",
        "#   data['avgSiblings'] = (sizes ** 2).sum() / sizes.sum()\n",
        "#   return data\n",
        "def describeSiblings(groups):\n",
        "  sizes = groups.size()\n",
        "  return sizes.repeat(sizes).describe()"
      ]
    },
    {
      "cell_type": "code",
      "execution_count": null,
      "metadata": {
        "id": "YtY1RESnkl7z"
      },
      "outputs": [],
      "source": [
        "levelSizes = pd.DataFrame({\n",
        "    level: describeSiblings(evidence.groupby(levels[0:i+1])) for (i, level) in enumerate(levels)\n",
        "})\n",
        "levelSizes['bucket'] = describeSiblings(evidence.groupby('bucketId'))"
      ]
    },
    {
      "cell_type": "code",
      "execution_count": null,
      "metadata": {
        "colab": {
          "base_uri": "https://localhost:8080/",
          "height": 300
        },
        "id": "1OI8IjNmlJut",
        "outputId": "4237db04-4f9d-465b-cce6-19aeb7abbd1f"
      },
      "outputs": [
        {
          "data": {
            "text/html": [
              "\n",
              "  <div id=\"df-c61ebd8c-11bf-4e0d-8db1-bbd451ed4ec7\">\n",
              "    <div class=\"colab-df-container\">\n",
              "      <div>\n",
              "<style scoped>\n",
              "    .dataframe tbody tr th:only-of-type {\n",
              "        vertical-align: middle;\n",
              "    }\n",
              "\n",
              "    .dataframe tbody tr th {\n",
              "        vertical-align: top;\n",
              "    }\n",
              "\n",
              "    .dataframe thead th {\n",
              "        text-align: right;\n",
              "    }\n",
              "</style>\n",
              "<table border=\"1\" class=\"dataframe\">\n",
              "  <thead>\n",
              "    <tr style=\"text-align: right;\">\n",
              "      <th></th>\n",
              "      <th>fileId</th>\n",
              "      <th>pocket</th>\n",
              "      <th>hat</th>\n",
              "      <th>block</th>\n",
              "      <th>bucket</th>\n",
              "    </tr>\n",
              "  </thead>\n",
              "  <tbody>\n",
              "    <tr>\n",
              "      <th>count</th>\n",
              "      <td>281798.000000</td>\n",
              "      <td>238716.000000</td>\n",
              "      <td>205751.000000</td>\n",
              "      <td>186665.000000</td>\n",
              "      <td>281130.000000</td>\n",
              "    </tr>\n",
              "    <tr>\n",
              "      <th>mean</th>\n",
              "      <td>63.934407</td>\n",
              "      <td>35.304152</td>\n",
              "      <td>15.885721</td>\n",
              "      <td>7.019093</td>\n",
              "      <td>30.314303</td>\n",
              "    </tr>\n",
              "    <tr>\n",
              "      <th>std</th>\n",
              "      <td>51.513433</td>\n",
              "      <td>33.406604</td>\n",
              "      <td>12.255007</td>\n",
              "      <td>6.452696</td>\n",
              "      <td>69.503753</td>\n",
              "    </tr>\n",
              "    <tr>\n",
              "      <th>min</th>\n",
              "      <td>1.000000</td>\n",
              "      <td>1.000000</td>\n",
              "      <td>1.000000</td>\n",
              "      <td>1.000000</td>\n",
              "      <td>1.000000</td>\n",
              "    </tr>\n",
              "    <tr>\n",
              "      <th>25%</th>\n",
              "      <td>35.000000</td>\n",
              "      <td>19.000000</td>\n",
              "      <td>7.000000</td>\n",
              "      <td>3.000000</td>\n",
              "      <td>1.000000</td>\n",
              "    </tr>\n",
              "    <tr>\n",
              "      <th>50%</th>\n",
              "      <td>54.000000</td>\n",
              "      <td>28.000000</td>\n",
              "      <td>13.000000</td>\n",
              "      <td>5.000000</td>\n",
              "      <td>6.000000</td>\n",
              "    </tr>\n",
              "    <tr>\n",
              "      <th>75%</th>\n",
              "      <td>70.000000</td>\n",
              "      <td>38.000000</td>\n",
              "      <td>23.000000</td>\n",
              "      <td>9.000000</td>\n",
              "      <td>26.000000</td>\n",
              "    </tr>\n",
              "    <tr>\n",
              "      <th>max</th>\n",
              "      <td>403.000000</td>\n",
              "      <td>325.000000</td>\n",
              "      <td>107.000000</td>\n",
              "      <td>50.000000</td>\n",
              "      <td>642.000000</td>\n",
              "    </tr>\n",
              "  </tbody>\n",
              "</table>\n",
              "</div>\n",
              "      <button class=\"colab-df-convert\" onclick=\"convertToInteractive('df-c61ebd8c-11bf-4e0d-8db1-bbd451ed4ec7')\"\n",
              "              title=\"Convert this dataframe to an interactive table.\"\n",
              "              style=\"display:none;\">\n",
              "        \n",
              "  <svg xmlns=\"http://www.w3.org/2000/svg\" height=\"24px\"viewBox=\"0 0 24 24\"\n",
              "       width=\"24px\">\n",
              "    <path d=\"M0 0h24v24H0V0z\" fill=\"none\"/>\n",
              "    <path d=\"M18.56 5.44l.94 2.06.94-2.06 2.06-.94-2.06-.94-.94-2.06-.94 2.06-2.06.94zm-11 1L8.5 8.5l.94-2.06 2.06-.94-2.06-.94L8.5 2.5l-.94 2.06-2.06.94zm10 10l.94 2.06.94-2.06 2.06-.94-2.06-.94-.94-2.06-.94 2.06-2.06.94z\"/><path d=\"M17.41 7.96l-1.37-1.37c-.4-.4-.92-.59-1.43-.59-.52 0-1.04.2-1.43.59L10.3 9.45l-7.72 7.72c-.78.78-.78 2.05 0 2.83L4 21.41c.39.39.9.59 1.41.59.51 0 1.02-.2 1.41-.59l7.78-7.78 2.81-2.81c.8-.78.8-2.07 0-2.86zM5.41 20L4 18.59l7.72-7.72 1.47 1.35L5.41 20z\"/>\n",
              "  </svg>\n",
              "      </button>\n",
              "      \n",
              "  <style>\n",
              "    .colab-df-container {\n",
              "      display:flex;\n",
              "      flex-wrap:wrap;\n",
              "      gap: 12px;\n",
              "    }\n",
              "\n",
              "    .colab-df-convert {\n",
              "      background-color: #E8F0FE;\n",
              "      border: none;\n",
              "      border-radius: 50%;\n",
              "      cursor: pointer;\n",
              "      display: none;\n",
              "      fill: #1967D2;\n",
              "      height: 32px;\n",
              "      padding: 0 0 0 0;\n",
              "      width: 32px;\n",
              "    }\n",
              "\n",
              "    .colab-df-convert:hover {\n",
              "      background-color: #E2EBFA;\n",
              "      box-shadow: 0px 1px 2px rgba(60, 64, 67, 0.3), 0px 1px 3px 1px rgba(60, 64, 67, 0.15);\n",
              "      fill: #174EA6;\n",
              "    }\n",
              "\n",
              "    [theme=dark] .colab-df-convert {\n",
              "      background-color: #3B4455;\n",
              "      fill: #D2E3FC;\n",
              "    }\n",
              "\n",
              "    [theme=dark] .colab-df-convert:hover {\n",
              "      background-color: #434B5C;\n",
              "      box-shadow: 0px 1px 3px 1px rgba(0, 0, 0, 0.15);\n",
              "      filter: drop-shadow(0px 1px 2px rgba(0, 0, 0, 0.3));\n",
              "      fill: #FFFFFF;\n",
              "    }\n",
              "  </style>\n",
              "\n",
              "      <script>\n",
              "        const buttonEl =\n",
              "          document.querySelector('#df-c61ebd8c-11bf-4e0d-8db1-bbd451ed4ec7 button.colab-df-convert');\n",
              "        buttonEl.style.display =\n",
              "          google.colab.kernel.accessAllowed ? 'block' : 'none';\n",
              "\n",
              "        async function convertToInteractive(key) {\n",
              "          const element = document.querySelector('#df-c61ebd8c-11bf-4e0d-8db1-bbd451ed4ec7');\n",
              "          const dataTable =\n",
              "            await google.colab.kernel.invokeFunction('convertToInteractive',\n",
              "                                                     [key], {});\n",
              "          if (!dataTable) return;\n",
              "\n",
              "          const docLinkHtml = 'Like what you see? Visit the ' +\n",
              "            '<a target=\"_blank\" href=https://colab.research.google.com/notebooks/data_table.ipynb>data table notebook</a>'\n",
              "            + ' to learn more about interactive tables.';\n",
              "          element.innerHTML = '';\n",
              "          dataTable['output_type'] = 'display_data';\n",
              "          await google.colab.output.renderOutput(dataTable, element);\n",
              "          const docLink = document.createElement('div');\n",
              "          docLink.innerHTML = docLinkHtml;\n",
              "          element.appendChild(docLink);\n",
              "        }\n",
              "      </script>\n",
              "    </div>\n",
              "  </div>\n",
              "  "
            ],
            "text/plain": [
              "              fileId         pocket            hat          block  \\\n",
              "count  281798.000000  238716.000000  205751.000000  186665.000000   \n",
              "mean       63.934407      35.304152      15.885721       7.019093   \n",
              "std        51.513433      33.406604      12.255007       6.452696   \n",
              "min         1.000000       1.000000       1.000000       1.000000   \n",
              "25%        35.000000      19.000000       7.000000       3.000000   \n",
              "50%        54.000000      28.000000      13.000000       5.000000   \n",
              "75%        70.000000      38.000000      23.000000       9.000000   \n",
              "max       403.000000     325.000000     107.000000      50.000000   \n",
              "\n",
              "              bucket  \n",
              "count  281130.000000  \n",
              "mean       30.314303  \n",
              "std        69.503753  \n",
              "min         1.000000  \n",
              "25%         1.000000  \n",
              "50%         6.000000  \n",
              "75%        26.000000  \n",
              "max       642.000000  "
            ]
          },
          "execution_count": 69,
          "metadata": {},
          "output_type": "execute_result"
        }
      ],
      "source": [
        "levelSizes"
      ]
    },
    {
      "cell_type": "code",
      "execution_count": null,
      "metadata": {
        "id": "kFrn-6x1lV-1"
      },
      "outputs": [],
      "source": [
        "def plotGroupSizes(grouping):\n",
        "  groupSizes = evidence.groupby(grouping).size().value_counts().sort_index()\n",
        "  return plt.plot(groupSizes.index, groupSizes * groupSizes.index, label=grouping[-1])"
      ]
    },
    {
      "cell_type": "code",
      "execution_count": null,
      "metadata": {
        "colab": {
          "base_uri": "https://localhost:8080/",
          "height": 282
        },
        "id": "7cFbL87dWx50",
        "outputId": "4406e904-879f-4119-e3cd-69efd678e1c6"
      },
      "outputs": [
        {
          "data": {
            "text/plain": [
              "(0.0, 200.0)"
            ]
          },
          "execution_count": 115,
          "metadata": {},
          "output_type": "execute_result"
        },
        {
          "data": {
            "image/png": "[encoded data removed]",
            "text/plain": [
              "<Figure size 432x288 with 1 Axes>"
            ]
          },
          "metadata": {},
          "output_type": "display_data"
        }
      ],
      "source": [
        "plotGroupSizes(['fileId'])\n",
        "plotGroupSizes(['fileId', 'pocket'])\n",
        "plotGroupSizes(['fileId', 'pocket', 'hat'])\n",
        "# plotGroupSizes(['fileId', 'pocket', 'hat', 'block'])\n",
        "plt.legend()\n",
        "plt.xlim(0, 200)"
      ]
    },
    {
      "cell_type": "markdown",
      "metadata": {
        "id": "Et7jSchAgvai"
      },
      "source": [
        "## Adjacency"
      ]
    },
    {
      "cell_type": "markdown",
      "source": [
        "### Build"
      ],
      "metadata": {
        "id": "BQdbI719VW5r"
      }
    },
    {
      "cell_type": "code",
      "execution_count": null,
      "metadata": {
        "colab": {
          "base_uri": "https://localhost:8080/"
        },
        "id": "U0_2N8g2pxrZ",
        "outputId": "8bd60c85-8c9c-4672-80f5-10b1e1ea33ca"
      },
      "outputs": [
        {
          "output_type": "execute_result",
          "data": {
            "text/plain": [
              "<112310x112310 sparse matrix of type '<class 'numpy.float64'>'\n",
              "\twith 802564 stored elements in Compressed Sparse Column format>"
            ]
          },
          "metadata": {},
          "execution_count": 5
        }
      ],
      "source": [
        "try:\n",
        "  adjacency = sparse.load_npz(DATA_PATH + '.npz')\n",
        "except FileNotFoundError:\n",
        "  edges = genEdges()\n",
        "  keys = np.array(list(edges.keys()))\n",
        "  adjacency = sparse.lil_matrix((list(edges.values()), (keys[:, 0], keys[:, 1])), shape=(len(buckets), len(buckets)), dtype=np.int32)\n",
        "\n",
        "  # Evidence should be a few times more related to itself than any other evidence, 3 specifically is arbitrary and could be changed\n",
        "  diag = adjacency.max(axis=0).A[0] * 3\n",
        "  # Fix evidence thats not related to anything\n",
        "  diag[diag == 0] = 1\n",
        "  adjacency.setdiag(diag)\n",
        "\n",
        "  sparse.save_npz(DATA_PATH + '.npz', adjacency)\n",
        "adjacencyN = normalize(adjacency, norm='l1', axis=0)\n",
        "adjacencyN"
      ]
    },
    {
      "cell_type": "code",
      "execution_count": null,
      "metadata": {
        "id": "s6I5DTylRo2S"
      },
      "outputs": [],
      "source": [
        "squaredN = adjacencyN ** 2\n",
        "\n",
        "def listToVec(l, size):\n",
        "  return sparse.csc_matrix(\n",
        "      (np.ones(len(l)), (l, np.zeros(len(l), dtype=np.int32))),\n",
        "      shape=(size, 1)\n",
        "  )\n",
        "\n",
        "def vecToSortedSeries(v):\n",
        "  return pd.Series(index=v.tocoo().row, data=v.data).sort_values(ascending=False)\n",
        "\n",
        "def getAdjacent(ids, iters=2, raw=False):\n",
        "  v = listToVec(list(ids), adjacencyN.shape[0])\n",
        "  if (iters % 2 == 1): v = adjacencyN @ v\n",
        "  for i in range(iters // 2): v = squaredN @ v\n",
        "\n",
        "  return v if raw else vecToSortedSeries(v)"
      ]
    },
    {
      "cell_type": "markdown",
      "metadata": {
        "id": "MYZPAKq8rYC0"
      },
      "source": [
        "### Misc"
      ]
    },
    {
      "cell_type": "code",
      "execution_count": null,
      "metadata": {
        "colab": {
          "base_uri": "https://localhost:8080/"
        },
        "id": "KxEU2wxXltVJ",
        "outputId": "7b2999c5-7b07-4515-e6b6-cbee70293519"
      },
      "outputs": [
        {
          "data": {
            "text/plain": [
              "(array([0.99986784+0.j, 1.        +0.j, 1.        +0.j, 1.        +0.j,\n",
              "        1.        +0.j, 1.        +0.j]),\n",
              " array([[-5.25683375e-19+0.j, -2.66556846e-18+0.j, -7.09520375e-18+0.j,\n",
              "         -8.15135275e-20+0.j, -3.28549592e-18+0.j, -1.57553532e-18+0.j],\n",
              "        [-1.10989693e-14+0.j,  5.60199292e-04+0.j,  3.00046987e-04+0.j,\n",
              "          9.54805074e-05+0.j,  2.47840502e-03+0.j, -2.34989736e-04+0.j],\n",
              "        [ 1.70308687e-13+0.j, -8.59937455e-03+0.j, -2.51899904e-03+0.j,\n",
              "         -7.79796829e-03+0.j,  6.24228588e-03+0.j, -1.84700069e-03+0.j],\n",
              "        ...,\n",
              "        [ 7.01403007e-21+0.j,  1.04161455e-19+0.j,  3.81689134e-22+0.j,\n",
              "         -4.66827561e-19+0.j,  1.91274393e-20+0.j, -2.41344112e-21+0.j],\n",
              "        [ 2.12955618e-20+0.j, -1.36239298e-19+0.j,  3.69620386e-22+0.j,\n",
              "          1.13635809e-18+0.j, -2.48905133e-20+0.j,  4.32436000e-21+0.j],\n",
              "        [-4.72377602e-21+0.j,  2.53265444e-19+0.j, -8.63033359e-21+0.j,\n",
              "         -2.29057260e-18+0.j,  5.96881593e-20+0.j, -9.77281684e-21+0.j]]))"
            ]
          },
          "execution_count": 35,
          "metadata": {},
          "output_type": "execute_result"
        }
      ],
      "source": [
        "sparse.linalg.eigs(adjacencyN)"
      ]
    },
    {
      "cell_type": "code",
      "execution_count": null,
      "metadata": {
        "colab": {
          "base_uri": "https://localhost:8080/"
        },
        "id": "DsFKeSh_qaFK",
        "outputId": "d30c947e-d3a9-4ac9-e1e5-1eabc19e9d6e"
      },
      "outputs": [
        {
          "data": {
            "text/plain": [
              "matrix([[0.00552486, 0.05524862, 0.01104972, 0.01104972, 0.00552486,\n",
              "         0.00552486, 0.26519337, 0.03867403, 0.00552486, 0.02762431,\n",
              "         0.08839779, 0.03314917, 0.03867403, 0.03867403, 0.00552486,\n",
              "         0.0441989 , 0.01104972, 0.02762431, 0.00552486, 0.00552486,\n",
              "         0.00552486, 0.00552486, 0.01104972, 0.01657459, 0.00552486,\n",
              "         0.00552486, 0.01657459, 0.00552486, 0.00552486, 0.00552486,\n",
              "         0.00552486, 0.00552486, 0.00552486, 0.00552486, 0.00552486,\n",
              "         0.00552486, 0.00552486, 0.00552486, 0.00552486, 0.00552486,\n",
              "         0.00552486, 0.00552486, 0.00552486, 0.00552486, 0.00552486,\n",
              "         0.01104972, 0.00552486, 0.00552486, 0.00552486, 0.00552486,\n",
              "         0.00552486, 0.00552486, 0.00552486, 0.00552486, 0.00552486,\n",
              "         0.00552486, 0.00552486, 0.00552486, 0.00552486, 0.00552486,\n",
              "         0.00552486, 0.00552486, 0.00552486]])"
            ]
          },
          "execution_count": 45,
          "metadata": {},
          "output_type": "execute_result"
        }
      ],
      "source": [
        "(adjacencyN[:, 1652][adjacencyN[:, 1652].todense() != 0])"
      ]
    },
    {
      "cell_type": "code",
      "execution_count": null,
      "metadata": {
        "colab": {
          "base_uri": "https://localhost:8080/",
          "height": 1000
        },
        "id": "HtyZ2TshVig5",
        "outputId": "56f18135-a45f-4b9d-82df-1db2e2520dda"
      },
      "outputs": [
        {
          "data": {
            "text/html": [
              "<div style='display: flex; height: 1000px'><div style='padding: 10px; flex: 1 1 0; overflow: scroll;'><h4>Federal fracking regulations solve wastewater pollution and methane emissions</h4><p><strong>Meegoda et al. 17</strong> [Jay N. Meegoda, Ph.D., P.E., F.ASCE, Professor, Dept. of Civil and Environmental Engineering, New Jersey Institute of Technology, Samuel Rudy, Dept. of Civil and Environmental Engineering, New Jersey Institute of Technology, Zhenting Zou, Ph.D. Student, Dept. of Civil and Environmental Engineering, New Jersey Institute of Technology (corresponding author), and Michael Agbakpe, Ph.D., Postdoctoral Fellow, Dept. of Civil and Environmental Engineering, New Jersey Institute of Technology, “Can Fracking Be Environmentally Acceptable?,” Journal of Hazardous, Toxic, and Radioactive Waste 21:2, April 2017]</p><p>While it has been proven that most of the accusations against fracking causing methane contamination are false, <u><strong>there is</u></strong> still undeniably a presence of <u><strong>methane in the groundwater around some fracking locations</u></strong>. <u>The most likely <mark>culprit for</mark> this methane <mark>contamination is “poorly built wells- inadequate steel casing and poor cement construction</u></mark> (North Carolina Health News 2014).” In other words, human error is most likely responsible for any contamination of groundwater around fracking wells. This is because there is high pressure in the pipe during fracking. Specifically, <u>when the fracking fluid is pumped into the well and when the methane gas is pumped out of the w</u>ell. <u><strong><mark>Even a small irregularity</mark> in the casing due to poor installation or cementation <mark>could produce a leak</u></strong></mark>, such as a full water balloon pricked with a tiny hole (Ewen et al. 2012). <u><strong>From that leak, it is feasible <mark>that the methane gas could slip past the cement and contaminate the groundwater</u></strong></mark>.</p><p>As with horizontal drilling, this situation is not the case. Studies have shown that there is a negligible amount of contamination if the groundwater is more than 1 km away from fracking wells (Mason et al. 2015). Hence, it is proposed that any residential or commercial activities should be at least 1 km away from the vertical well. While this would be inconvenient for fracking companies as there is groundwater above many of the places that contain shale gas, it is definitely possible to work around. This is especially true when horizontal fracking is considered (which has already shown not to be the cause of methane contamination). Horizontal fracking could be used to circumvent the 1-km restriction by drilling down vertically more than 1 km away from the groundwater and then drilling horizontally underneath the groundwater. As it is now, horizontal wells extend several miles, so the 1-km constraint would not be overly detrimental to the productiveness of fracking.</p><p>There is another possible explanation for methane contamination. Groundwater naturally contains methane in low quantities. However, it is possible that some groundwater has a larger concentration of methane. The preceding time of arrival calculation showed that it would take approximately 33 million years for methane to seep from the shale layer up to the groundwater reserves. Yet, most of the shale formations that are fracked are far older than that of the Marcellus shale (the second largest fracking field in the world), which is 385 million years old. With such a long time, it is possible that the shale migrated into the groundwater long before fracking was even conceived and that it was only noticed once fracking became popular and controversial. This explanation is corroborated by reports (Lustgarten 2009) of people being able to set their water aflame (due to the high methane concentration) long before fracking began in their area.</p><p>Between human error and natural methane migration into groundwater, the presence of methane in groundwater around fracking wells can be explained. It is also evident that fracking does not inherently cause contamination of groundwater, provided that the vertical well is at least 1 km away from any groundwater well. Therefore, with sufficient training and supervision to avoid most human error, along with the proper regulation preventing fracking companies from drilling vertically within 1.6 km (1 mi) of groundwater, <u><strong>the process of <mark>fracking can be made safe, and prevent methane from contaminating</mark> ground<mark>water</mark> reserves</u></strong>.</p><p>Earthquakes</p><p>Another environmental concern due to fracking is the occurrence of earthquakes near fracking sites. Although the direct link between earthquakes has not been definitively proven, there are viable theories for how fracking could directly cause earthquakes and the level of correlation between fracking and earthquakes makes a cause and effect relationship between the two undeniable. The earthquakes tend to occur mainly during two steps of the fracking: (1) during the injection of the fracking fluid into the well and (2) after the fracking is completed, when the fracking companies inject waste fluid into deep underground formations. The vast majority of the earthquakes attributable to fracking are not powerful enough to be detected by humans without the aid of a sensor; however, a larger earthquake could occur infrequently with the potential to cause damage.</p><p>Currently, there are only a few preventative measures employed by fracking companies to prevent earthquakes (partially due to the ambiguous cause and nature of the earthquakes). One such protective measure utilized by Cabot Oil and Gas Corporation (along with other fracking companies) is to perform a detailed sonar analysis of the ground before fracking (Fetzer 2012). Unfortunately, this technique has proven insufficient in preventing earthquakes.</p><p><u>The most likely cause of the earthquakes is either fracking fluid or waste fluid seeping into undetected faults deep underground when they the fluids are injected into their respective wells</u>. The fluids are injected with high pressure underground and this great pressure may cause them to move through the fractures that are created during fracking, causing leakage from the fractures in the shale layer to fault lines. The fluid could then provide lubrication and cause the fault to slip, creating earthquakes around the area.</p><p>A precaution that should be taken (in addition to screening the ground before beginning to frack) is to ensure that disposal wells are not overloaded, because overloading a well could increase the pressure and make earthquakes more frequent. It would not be feasible to lessen the pressure exerted by the fracking fluid because high pressure is needed in order for the fluid to create the fractures, keep them open, and extract the shale gas. Another proposed solution is to not frack within a certain range of a population due to the perception that earthquakes only occur in areas close to the well. This, however, has recently been disproved. A Cornell University research team measured earthquakes that were most likely attributed to fracking approximately 50 km (31 mi) away from the fracking wells (Keranen et al. 2014). The cause of these earthquakes has not yet been conclusively determined but it is suspected to be due to fracking. Katie Keranen, professor of geophysics at Cornell University, stated, “Existing criteria for an induced earthquake do not allow earthquakes associated with the well activity to occur this far away from the wellbore,” implying that the current explanation for earthquakes is not due to fracking, or a given explanation is incomplete.</p><p>In a study on the impact of fracking on earthquakes, an investigation of the Marcella formation in the state of Pennsylvania was conducted. There are 301 fracking wells in Pennsylvania (FracFocus 2015a, b, c). Based on U.S. Geological Survey (USGS 2015) data, there were only six earthquakes of magnitude 4 or higher that occurred within the last 30 years. Earthquakes of magnitude 4 or less are considered a minor earthquake of minimal disruption. Upon further analysis of those six earthquakes, it was found that all occurred prior to fracking starting in Pennsylvania. Furthermore, the epicenter of those earthquakes was much deeper than the Marcella formation, indicating minimal or no contribution due to fracking in Pennsylvania, one of the major shale gas producers.</p><p>Despite the research performed, earthquakes remain one of the most mysterious issues associated with fracking. However, it is important to note that the issue of earthquakes is not as pressing as other environmental concerns surrounding fracking due to the infrequent occurrence of earthquakes and the far less likely chance that an earthquake occurs that could cause any damage. With the current research, the best solution would be to prohibit underground injection of waste fluid or at least prevent overfilling of disposal wells. In addition, it is important to check as thoroughly as possible for any fault or abnormality in the ground before drilling begins. If these preventative measures are followed, the likelihood of earthquakes, especially severe ones, should decrease.</p><p>Fracking Fluid</p><p><u>Handling of flow back and produced waters is another issue that arises from fracking operations. </u>Currently, this wastewater can be recycled for subsequent fracking, reinjected underground, or treated and released into rivers. Other environmental issues are the impacts on land use, noise, and air quality. The exploration process in general generates a lot of activities and associated traffic, noise, and air pollution (Davis 2012). Despite the fact that the industry is adapting where possible to more benign fracking chemicals, information on the exposure to natural and added chemicals and the fate and ecotoxicity of the generated wastewater is not available (Batley and Kookana 2012).</p><p>High concentrations of natural contaminants such as metals, radionuclides, total petroleum hydrocarbons (TPHs), and phenols have also been observed in return wastewaters and formation waters (Cheung et al. 2009; Wood and Patterson 2011). Even though these chemicals are naturally occurring, there are risks of possible modification and release processes associated with the introduction of oxygenated waters, as ythe oxidation of reduced iron may lead to iron oxyhydroxide precipitation and a lowering of water pH (Batley and Kookana 2012). Elevated iron and manganese concentrations have been observed in flow-back waters (Wood and Patterson 2011). Acids in the fracking fluids will cause metal dissolution, aided by chelating agents. Surfactants and solvents may assist in the dissolution of organic compounds (Batley and Kookana 2012).</p><p>Therefore, a third major environmental issue is the disposal of waste products (mostly fracking fluid) after a well is fully formed for gas production. Different chemicals perform different functions in a hydraulic fracturing. Although there are dozens to hundreds of chemicals that could be used as additives, there are a limited number that are routinely used in fracking. Table 2 shows a list of the most frequently used chemicals.</p><p>Fracking fluid is pumped down into the well at high pressure and used to create, expand, and keep open the fissures created in the shale layer in order to allow the shale gas to be withdrawn from the well. Once the factures are initiated, the fracking fluid is retrieved. The proper disposal of fracking fluid remains an important environmental issue.</p><p>There are three processes that fracking wastewater can undergo. The most environmentally friendly is the first option, reusing the fracking fluid and treating the waste in a private treatment plant. As seen in Table 2, there are existing technologies to effectively treat or neutralize each component of fracking fluid. Waste still needs to be properly disposed even with this option. “The process cleans most of the water, but at least some smaller amount of fluid, or solid ‘cake,’ still needs to be disposed” (NPR 2014). This injection back into the ground is simiar to the second option: putting wastewater into a disposal well. This option involves injecting waste into a Class II disposal well (the type of well for fracking waste) and leaving it thousands of meters underground, commonly surrounded by sandstone or limestone. This option can have detrimental effects on the environment, and fracking fluid must be disposed of properly.</p><p>The treatment and renewal of fracking liquid waste are more important because some of these compounds are hazardous substances and known carcinogens, which can enter and pollute drinking water supplies from the well, well pad, or in the wastewater disposal process. Some of the listed additives are listed in Table 2 (FracFocus 2015a, b, c). Their adverse effects and removal strategies are discussed in the following.</p><p>Acetaldehyde, which is use as corrosion inhibitor, is considered a probable human carcinogen (Group B2) and has been shown to cause nasal tumors in rats and laryngeal tumors in hamsters (U.S. EPA 1997). Additionally, acetaldehyde cannot be effectively treated by traditional water-treatment processes, but was reported to be effectively removed by microbial degradation using biological activated carbon (BAC) filters (Chun-Lei et al. 2013).</p><p>Ethylene glycol is an organic solvent, and is a major constituent of antifreeze and coolant. It functions as a product stabilizer and/or winterizing agent in a fracking fluid mixture. Chronic exposure effects include kidney toxicity and liver damage. Several oral or inhalation exposure studies on rodents also showed that ethylene glycol is toxic to fetuses (U.S. EPA 1999). The EPA has not listed ethylene glycol as a controlled or priority substance, however. Ethylene glycol is reported to undergo aerobic and anaerobic biodegradation in water (Dwyer and Tiedje 1983); thus, ethylene glycol can be removed from the waste fracking fluid by biodegradation.</p><p>Another compound of interest is 2-Butoxyethanol, which functions as a product stabilizer in fracking. The EPA currently does not classify 2-Butoxyethanol for human carcinogenicity, but rather cautions against effects of acute and chronic exposures such as severe liver and kidney damage, testicular damage, reduced fertility, maternal toxicity, early embryonic death, birth defects, delayed development, and hematological disorders from inhalation and oral exposure (U.S. EPA 1984). Removal of 2-Butoxyethanol can be achieved with techniques like activated carbon filtration and ozone reaction.</p><p>Glutaraldehyde is a biocide with wide industrial applications. In fracking operations, it is used to eliminate bacteria in the water that produce corrosive by-products. Glutaraldehyde is acutely toxic to both aquatic and terrestrial organisms. Results from environmental partitioning indicated that glutaraldehyde is hydrophilic and tends to remain in the aquatic partition and is nonbioaccumulative (IPCS INCHEM 2005). Aqueous solutions of glutaraldehyde are stable at room temperature under acidic to neutral conditions, and stable in sunlight, but unstable at elevated temperatures and under alkaline conditions. Glutaraldehyde is biodegradable under both aerobic and anaerobic conditions (Leung 2001).</p><p>Ammonium persulfate is an inorganic salt that is highly soluble in water. It is a strong oxidizing agent, which is used in fracking liquid as a polymerization inhibitor to aid delayed break down of the gel. Ammonium persulfate is harmful to aquatic organisms (ILO-ICSC 2001). In human beings, it is reported to cause asthmatic effects (De Vooght et al. 2010). The substance can be absorbed into the body by inhalation in its aerosol form and by ingestion (ILO-ICSC 2001). Ammonium persulfate can be removed by neutralizing it with a base.</p><p><u>Tetramethyl ammonium chloride is used in fracking fluid as a clay stabilizer to prevent clays from swelling or shifting. Tetramethyl ammonium chloride is a nonvolatile quaternary ammonium salt, which exists in the cation form in the environment and generally adsorbs strongly to soils containing organic carbon and clay. It is reported to be toxic to microorganisms an also has a low bioaccumulative potential (TOXNET-HSDB 2012). It can be absorbed into the body by inhalation and by ingestion (CDC 2003). Above 300°C, tetramethyl ammonium chloride decomposes to produces ammonia, carbon monoxide, hydrogen chloride, and nitrogen oxides. It can also react with oxidants (ILO-ICSC 2003) and thus can be treated by oxidation.</p><p><strong>Regulations need to be implemented that require companies to extract as much fracking fluid from the well bore as they reasonably can and dispose of it in an environmentally acceptable manner. The ideal solution would be to treat as much of the fluid as possible, but this is more expensive</u></strong>. <u>One final consideration to consider when disposing of fracking fluid is to create a regulation that prevents overloading of disposal wells as this can cause other problems, primarily earthquakes and leaks.</p><p></u>The proper disposal of fracking fluid could lead to both environmental and economic benefits. If a technique for cheaply treating the wastewater is created, then only a minimal amount of fracking fluid will need to be disposed of and the rest can be reused in other fracking wells, leaving a smaller environmental footprint and allowing fracking companies to not have to acquire new fracking fluid. Additionally, <u>with proper regulation and enforcement, most of the issues associated with disposal wells should be mitigated.</p><p></u>To make fracking safe, both for the environment and any citizens in the area, <u><strong>the issue of proper disposal of waste products must be solved</strong>. All of the remaining fracking fluid should be treated or disposed of in a manner in accordance with regulations that should be put in place to prevent issues with disposal. This should diminish the issues related to the correct disposal of wastewater.</p><p></u>Several studies have revealed the use of toxic fracking fluids such as diesel and benzene (Davis 2012). In the Energy Policy Act of 2005 <u>the Halliburton loophole was added to the EPA’s Resource Conservation and Recovery</u> Act (<u><strong>RCRA</u></strong>), <u>which regulates hazardous and solid waste, exempting from oversight the waste from oil and gas exploration, development, and production.</p><p></u>Cost and Benefit Analysis</p><p>A cost and benefits analysis of hydraulic fracking and production of shale gas is required to complete the evaluation. This is essential as studies addressing total lifecycle costs are rare and previous reports have come to different conclusions on the cost and environmental benefits of shale gas compared to other alternatives. Stamford and Azapagic (2014) demonstrated that shale gas has a wide range of lifecycle environmental impacts (favorable and unfavorable) depending on the potential variation of different parameters. Laurenzi and Jersey (2013) reported that the carbon footprint of Marcellus gas 53% lower than coal, and the freshwater consumption is about 50% less than coal. Weber and Clavin (2012) also reported that the most likely upstream carbon footprints are largely similar for both shale and conventional gas production, with overlapping 95% uncertainty ranges of 11.0–21.0  g  CO2e/MJLHV and 12.4–19.5 g CO2e/MJLHV for shale and conventional gas, respectively. However, a complete cost benefit analysis of fracking considering environmental costs and benefits of issues discussed in this manuscript requires an in-depth analysis and is thus beyond the scope of the present work. A detailed study of the topic has been initiated for a future manuscript.</p><p>Regulations</p><p>The biggest issue with fracking is the lack of or minimal regulation. Th<u>e federal government is unable to regulate the industry because of the Halliburton loophole in the Energy Policy Act of 2005</u>; this clause excludes “underground injections of fluids or propping agents, other than diesel fuels, in hydraulic fracturing activities.” Hence, regulatory oversight falls to the state, but states have competing monetary interests. The result of these conflicts of interest is to reduce the motivation or incentive to regulate the industry. Regulatory bodies are urgently needed to control the fracking fluids used. Furthermore, regulatory procedures should be put in place to ensure safety, prevent contamination, and make the involved parties responsible for violations (Ince et al. 2013). <u>In the Energy Policy Act of 2005, the “Halliburton loophole” exempts fracking from the Safe Drinking Water Act because it was believed that fracking posed no risk to drinking water</u> (Manuel 2010). <u>The Clean Water Act and Clean Air Act encounter similar difficulties in enforcement</u>. Therefore, <u><strong>the EPA has little to no actual authority over this booming industry</strong>. Other regulatory agencies that have a role in the fracking include the Underground Injection Control Program (UICP), which regulates the pumping of fluids into wells, and the National Pollutant Discharge Elimination System (NPDES), which regulates runoff from waste pits and surface spills (EPA). Both of these groups set standards for acceptable practices regarding aspects of the fracking process. However, UICP has very little control over the well injections under the 2005 Energy Policy Act; hence, UIP can only regulate the disposal of the fracking fluids in underground waste wells (Ince et al. 2013).</p><p>The current lack of regulations and oversight for the chemicals and wastewater of fracking is the main source of controversy and <strong>leads to a lack of confidence</u></strong> on the part of some stakeholders, hindering the wider public acceptance of the process. <u>Regulation reform and proper oversight is urgently needed that should prioritize abatement of potential risks and to boost public confidence in the fracking process. The reform regulation should endeavor to embrace the concerns of all the stakeholders in an effort to provide social and economic benefits for the society.</p><p><strong>Summary and Conclusions</p><p></u></strong>Fracking, <u>the process of drilling deep down and injecting high-pressure water mixture to fracture rock to release trapped shale</u> gas, promises the potential of energy independence for the United States. It has presented an opportunity to generate electricity at half the CO2 emissions from coal. There are three major environmental issues identified with fracking, namely, leaking methane gas while fracking and during production, triggering of earthquakes due to fracking, and the disposal of the wastewater. A comprehensive literature search and a detailed analysis were performed to address the question of whether fracking be environmentally acceptable. It can be concluded that <u>if the following actions were taken</u>, <u><strong>then fracking could indeed be made environmentally acceptable.</p><p></u></strong>Earthquakes remain one of the most mysterious issues that has been associated with fracking, but there is no definitively proven direct link between earthquakes and hydraulic fracking. However, for the Marcella shale formation, earthquakes are not as pressing as other environmental concerns surrounding fracking due to the infrequent occurrence of earthquakes and the far less probability that such an earthquake occurs that could cause any damage. The vast majority of the earthquakes attributable to fracking are not powerful enough to be detected by humans without the aid of a sensor; however, a larger earthquake can occur infrequently with the potential to cause damage. With the current level of knowledge, <u><strong>the best precaution would be to prohibit underground injection of waste fluid</u></strong>. In addition, <u>a complete geological investigation should be performed to locate any active or dormant faults or abnormality in the ground before drilling</u>. Once it is confirmed that no such geological formations are found, the vertical wells should be located at least a mile away from any residential or commercial activities.</p><p>Based on shale gas seepage and diffusion calculations herein, it is virtually impossible for methane to contaminate the groundwater due to horizontal drilling. However, <u><strong>there is a possibility of shale gas release from a vertical</u></strong> well and it is proposed that <u><strong>any residential or commercial activities should be at least 1 km away from the vertical well</u></strong>. In addition, the vertical wells should be constructed with precautions to prevent methane gas leaks and a proper quality assurance and quality control procedure should be established during construction. Furthermore, the workers should be trained and properly supervised during construction. <u><strong>Methane monitors that could trigger alarms and locate </u></strong>leaks can be used in order to prevent losses during the transport and distribution.</p><p>To make fracking safe, the issue of <u><strong>proper disposal of waste products must be solved</strong>. Most fracking fluid should be extracted from the well bore and treated for reuse. The waste fracking fluid should be treated or disposed of in a manner in accordance with regulations</u> that should be put in place. The <u>proper disposal of waste fracking fluid could lead to both environmental and economic benefits. This should diminish the issues surrounding correct disposal of wastewater</u>. Finally, regulation and openness are major issues limiting stakeholder acceptance of the process. Therefore, regulation reformation is vital to ensure that all shareholder concerns are addressed in an effort to provide social and economic benefits for society as a whole.</p></div>\n",
              "<div style='padding: 10px; flex: 1 1 0; overflow: scroll;'><h4>Banning fracking is <u>necessary</u> to prevent catastrophic climate change---<u>Directly limits</u> one-third of global emissions <u>and</u> acts as a <u>short-term lever</u> that creates time for international action </h4><p>David <strong>Roberts 19</strong>, 8-15-2019, \"Fracking may be a bigger climate problem than we thought,\" Vox, https://www.vox.com/energy-and-environment/2019/8/15/20805136/climate-change-fracking-methane-emissions //mecr</p><p>As greenhouse gases go, <u><mark>methane</mark> gets less attention than carbon dioxide, but it <mark>is</mark> a <mark>key</mark> contributor to climate change.</p><p>Methane doesn’t stay in the atmosphere as long</u> as CO2 and is reabsorbed into terrestrial cycles via chemical reactions within 12 years or so. <u>But</u> while it’s up there, <u><mark>it’s much more potent, trapping heat</mark> at</u> roughly <u><mark>84 times the rate of CO2</u></mark>. Scientists estimate that around <u><mark>25 percent of current</mark> global <mark>warming traces to methane</mark>.</p><p><mark>When</mark> it comes to <mark>reducing CO2</mark> emissions</u>, the chain between cause and effect is frustratingly long and diffuse. <u><mark>Reduced emissions</mark> today <mark>won’t show up</mark> as reduced climate impacts <mark>for decades</mark>.</p><p>But <mark>with methane</u></mark>, the chain of causation is much shorter and simpler. <u><mark>Reduced emissions have an</mark> almost <mark>immediate climate impact</u></mark>. It’s a short-term climate lever, and <u>if the countries of <mark>the world</mark> are going <mark>to hold</mark> rising temperatures <mark>to</mark> the</u> United Nations’ <u>target of “well below” <mark>2 degrees</mark> Celsius </u>above the preindustrial baseline, <u>they’re going to <mark>need</mark> all the <mark>short-term</mark> climate <mark>levers</mark> they can get</u>.</p><p>In the real world, though, the <u>news about <mark>methane is</mark> bad and <mark>getting worse</u></mark>. It turns out that <u><mark>a</u></mark> mysterious <u><mark>recent spike</mark> in global methane levels that’s <mark>putting</mark> climate <mark>targets at risk</u></mark> may be <u><mark>coming from US</u></mark> oil and gas <u><mark>fracking</u></mark>. If that’s true, it’s bad news, because there’s lots more shale gas development in the pipeline and the Trump administration is expected to release a proposed rule Thursday rolling back regulations on the industry, per the New York Times.</p><p>The mysterious spike in atmospheric methane may lead to America’s doorstep</p><p>Global methane emissions rose steeply in the last decades of the 20th century and then leveled off. But around 2006, they started heading up again. Why? What was the source? Scientists were baffled. (Jonathan Mingle wrote a great story for Undark on scientists’ search for answers.</p><p>There are two broad sources of methane emissions: biogenic (plant and animal-based) and fossil fuel production. The former is mainly about agriculture (cow burps, pig poop, rotting organic waste) and tropical wetlands. As for the latter, <u><mark>methane is leaked</u></mark> or deliberately “flared” (burned off) <u><mark>at</u></mark> virtually <u><mark>every stage of</mark> fossil fuel <mark>production</mark> and</u> transport, a problem that is <u>notoriously bad for fracked</u> shale <u>gas</u> <u>and</u> tight <u>oil</u>.</p><p>A few studies, including a major one in the journal Science in 2016, largely traced the recent spike in methane to biogenic sources, mainly because recent atmospheric methane has been “lighter,” depleted of its heavier carbon stable isotope (13C). Generally speaking, fossil fuel production produces heavier methane and biogenic sources produce lighter methane, so researchers have taken the trend as an indication that the recent spike is mostly biogenic in origin.</p><p>But it was a perplexing finding, one that the Science authors characterized as “unexpected, given the recent boom in unconventional gas production and reported resurgence in coal mining and the Asian economy.” If you see a big boom in fossil fuel production happening alongside a big spike in methane, you might expect to find the two connected.</p><p>In a new paper released in Biogeosciences, Robert Howarth of Cornell University has proposed a solution to the riddle.</p><p>Howarth is a familiar name to those who have followed methane debates over the years. He and colleagues at Cornell have been arguing for years that natural gas methane emissions are much higher than the government estimates or the industry admits, high enough to wipe out its supposed climate advantage over coal. That is a controversial position, to say the least. (Estimates of methane leakage vary widely, but Howarth’s is at the very top end.)</p><p>In his latest paper, Howarth is making a different point, springing from two facts he says previous studies have overlooked.</p><p>First, <u>63 percent of the total increase in</u> global <u>natural gas production</u> in the 21st century <u>has come from shale gas. And</u> second, <u>shale gas production using modern hydrofracturing techniques tends to produce lighter methane than conventional</u> natural gas <u>drilling.</p><p></u>Howarth finds that if the lighter methane of shale gas production is explicitly accounted for, “<u><mark>shale</mark>-gas <mark>production</mark> in North America over the past decade may have <mark>contributed more than</mark> half of all of the increased [methane] emissions from fossil fuels globally and approximately <mark>one-third of</mark> the <mark>total</mark> increased <mark>emissions</mark> from all sources <mark>globally</mark> over the past decade.”</p><p></u>Since <u>89 percent of the shale gas production comes from the US</u> (Canada produced the rest), that’s a whole lot of accelerated global warming tracing right back to America’s front door.</p><p>It is worth emphasizing that this is only one paper in a very active field of research, from a controversial source, and it is sure to be debated and contested in coming years. But if it is right, or even only half right, it is bad news.</p><p>All signs point toward increased methane in coming years</p><p><u>If increased methane from shale gas is helping drive the spike in global methane emissions, the climate is in serious trouble</u>, because there is every indication that <u>shale gas <mark>emissions are higher than</mark> generally <mark>estimated and</mark> set to <mark>keep rising</u></mark>.</p><p>First, six years of intensive research from the Environmental Defense Fund has shown that <u>methane emissions from US oil and natural gas production are</u> as much as <u>60 percent higher than government estimates</u>. This recent paper in Science summarizes: “Methane emissions of this magnitude, per unit of natural gas consumed, produce radiative forcing over a 20-year time horizon comparable to the CO2 from natural gas combustion.” <u>Getting natural gas out of the ground and to its final destination releases as much methane as burning it</u> — which, whether or not it makes gas “worse than coal,” makes it pretty bad.</p><p>Meanwhile, as Jennifer Dlouhy reports for Bloomberg, “the Trump administration is readying a plan to end direct federal regulation of methane leaks from oil and gas facilities, even as some energy companies insist they don’t want the relief.” The high-profile energy companies, the ones with large operations and lots of exposure to public opinion, rightly see this as a terrible idea. It makes them look like climate villains; it increases their exposure to climate risk and future policy shifts; it makes investors uncertain and hesitant. Oh, and it exacerbates climate change.</p><p>But the little companies, with lots of small, leaky wells scattered about, don’t want to be forced to clean them up; in many cases, being forced to run clean would destroy the economics and shut down the wells.</p><p>And Trump is personally dedicated to reversing everything Obama did, so ... methane-wise, it’s back to the Wild West.</p><p>Third and most disturbingly, <u>the US appears to be in the early stages of a massive fracking infrastructure buildout</u>. A recent report from Food & Water Watch (FWW) charted this buildout, identifying “<u>more than 700 fracked gas infrastructure projects that have been recently built or proposed</u> for development.”</p><p>There are liquid natural gas export terminals: “In 2018, there were only three active LNG export facilities in the U.S., but 22 more were either being built or approved for construction, and an additional 22 were pending federal review by the end of the year.” There is the plastics industry, with “more than $202 billion slated for investment in ​333 new or expanded facilities.” And there is the electricity sector, with “plans to develop ​364 new fracked gas-fired plants​ by 2022.”</p><p><u>Despite escalating concerns over the climate impact of natural gas</u> and signs that it is flagging somewhat in the electricity sector, <u><mark>the industry seems poised for enormous expansion</u></mark>. That is wildly irresponsible in the face of the widely agreed upon (by everyone but Republicans) need to reach net-zero greenhouse gas emissions, in the US and globally, by midcentury.</p><p><u><mark>With jurisdiction over the</mark> rapidly metastasizing shale gas <mark>industry, the US has</mark> direct control over</u> one of <u>the biggest and fastest-growing sources of</u> potent, fast-acting <u>methane. That means it also has</u>, within its reach, <u>the <mark>ability to make early</mark> and <mark>substantial progress on climate change</u></mark>.</p><p>Several Democratic candidates have proposed <u>ending fracking</u> on public lands; only a few (Jay Inslee, Bernie Sanders, and Tom Steyer) have explicitly proposed pursuing a national ban. That <u>hasn’t been a top-tier policy dispute yet, but as scientists make the grim effects of fracking clearer and clearer, it’s going to become one</u>.</p></div>\n",
              "<div style='padding: 10px; flex: 1 1 0; overflow: scroll;'><h4>Contamination is <u>nationwide</u>, impedes <u>agricultural exports</u>, and destroys <u>rural economies</h4><p><strong>FWW 16</u></strong>, NGO focusing on accountability for water usage, “Fracking and the Food System,” https://www.chc4you.org/wp-content/uploads/2017/01/Food-and-Fracking_Food-Water-Watch_2016.pdf<u><strong>, pacc </p><p>Effects on Agriculture</p><p></u></strong>Water Contamination</p><p><u>There are <strong>numerous documented cases</strong> of fracking contaminating <strong>drinking water sources</u></strong>.9 <u>A</u> draft <u>study by the</u> U.S. Environmental Protection Agency (<u>EPA</u>) <u>surveyed several incidents</u> across the country. <u><strong><mark>Fracking</mark> fluid spills</strong> at drilling sites</u> have reached surface water. Poorly constructed wells have allowed natural gas to <u><strong>infiltrate aquifers</u></strong>. Faulty pipelines have spilled toxic wastewater into surface and ground water sources.10 In some regions, <u><mark>contamination may be <strong>widespread</u></strong></mark>. <u><mark>In</u></mark> a <u><mark>Texas</u></mark> study, nearly <u><strong><mark>70 percent</strong> </mark>of</u> tested <u>water wells</u> located <u>near</u> an oil or <u>gas</u> well <u><strong><mark>tested</mark> <mark>positive</strong></mark> for chemicals</u> associated with exploration, <u>suggesting</u> that <u>drilling</u> may have <u>led to contamination</u>.11</p><p><u>This is problematic because</u> nearly all rural residents in the United States rely on groundwater for their drinking water, and many <u>farmers</u> also <u>use it to <strong>irrigate crops</strong> and <strong>raise livestock</u></strong>.12 Contaminated groundwater not only puts these communities' health in jeopardy, but also impacts their livelihoods. There have been many instances where groundwater contaminated by fracking poisoned livestock, causing illness, reproductive issues and death.13 However, there are no common procedures for isolating livestock exposed to chemicals from the food chain; the animals might be quarantined or not slaughtered for human consumption, but dead animals sent to a rendering plant could be used for livestock or pet feed.14</p><p>An overview of livestock exposure to fracking fluids found that the most common exposure came from contaminated wells and springs.15 Cows exposed to fracking fluids have experienced difficulty breeding and higher rates of stillborn and deformed calves.16</p><p>In two cases, only part of a herd of beef cattle was exposed to fracking wastewater. In each case, many of the exposed cattle died, and those that survived experienced problems breeding, whereas the unexposed cattle experienced no unusual problems. According to researchers, these two cases \"approach the design of <u>a controlled experiment</u>, and <u>strongly implicate <strong>wastewater exposure</strong> in <strong>the death</u></strong>, <u><strong>failure to breed</u></strong>, <u>and <strong>reduced growth rate</strong> of cattle</u>.\"17</p><p>Pets are also victims. In Pennsylvania, a two-year-old boxer had to be euthanized after lapping up fracking wastewater that was intentionally spread on the nearby road.18</p><p>Frustratingly, without baseline testing of water wells before drilling takes place, it is difficult for farmers to prove that drilling contaminated their water.19 Baseline testing is not necessarily required by drilling companies, and adequate testing is expensive for farmers to conduct themselves.20 Additionally, there are at least 692 unique ingredients that have been used in fracking fluids,21 but baseline tests typically only screen for a limited number of contaminants associated with drilling.22</p><p>Air Pollution</p><p>Drilling, <u>fracking</u>, venting, flaring, wastewater storage and other activities at well sites <u>generate <strong>hazardous air pollution</u></strong>. One <u><strong>peer-reviewed study</strong> analyzed <strong>air samples</strong> near <strong>fracking sites</strong> in five states</u>; nearly <u><strong>40 percent</u></strong> of samples <u>tested positive for <strong>toxic chemicals</u></strong>, <u>such as</u> cancer-causing benzene or <u><strong>formaldehyde</u></strong>, above federal safety standards.23 <u><strong>Hydrogen sulfide</u></strong>, a deadly gas, <u>was</u> found at levels up to <u><strong>hundreds of times</strong> what is</u> considered to be <u><strong>life-threatening</u></strong>.24</p><p>Studies have long noted concerns related to the effects of toxic emissions associated with oil and gas activities on livestock, including a 2001 study that linked flaring with stillbirths and calf mortality among cattle.25 Fracking is bringing these and other airborne health risks to new regions. In December 2015, six cows were found dead together inside the Cimarron National Grasslands in Kansas, which also houses an oil field with fracking wells.26 A seventh cow died apart from the group, and a veterinarian confirmed that the cows died from toxic inhalation.27 The Grasslands issued an emergency closure on four sections of the park while they investigated the incident.28 This investigation may provide evidence of toxic air pollution associated with fracking.</p><p>Fracking also contributes to ground-level ozone (the main component of smog), which can cause respiratory issues, especially among sensitive populations such as those with asthma.29 <u>Fracking</u> has <u>caused <strong>ozone levels</strong> to <strong>spike</u></strong> in some rural areas — at times exceeding those of smoggy urban areas like the Los Angeles Basin.30 <u><strong>Ozone pollution</u></strong> also <u><strong>reduces crop yield</strong> and makes plants</u> more <u><strong>susceptible to disease</u></strong>.31 <u>According to the</u> U.S. Department of Agriculture (<u>USDA</u>), <u>\"ground-level ozone causes <strong>more damage</strong> to plants than <strong>all other air pollutants combined</strong>.\"</u>32</p><p>Agricultural Production and Farmer Livelihood</p><p><u>The <strong>rise of <mark>fracking</u></strong></mark> in the Marcellus Shale region of Pennsylvania <u><mark>correlates with <strong>a</mark> sharper <mark>decline</strong> in</u></mark> dairy <u><mark>farming</u></mark>. A Penn State Extension study found that in counties with more than 10,000 dairy cows in 2007, those with more than 150 Marcellus Shale wells experienced a 16.3 percent decline in total dairy cows on average between 2007 and 2010, compared to a 2.7 percent increase in cows in counties with no Marcellus wells.34 Researchers speculate a variety of explanations, from farmers using their royalty monies to retire, to farmers feeling \"forced out\" due to the negative effect of wells. Regardless of the reason, a decline in dairy herds may have a negative economic impact on neighboring communities.35</p><p><u><mark>Farmers</u></mark> also <u><strong><mark>compete</strong></mark> with</u> oil <u>companies <mark>for <strong>water</strong> and</u></mark> other <u><strong>agricultural inputs</u></strong>, including in the semi-arid West, where water is already scarce.36 Using the FracFocus database, <u>the</u> U.S. <u>EPA estimated</u> that the <u>fracking</u> industry <u>used</u> an average of <u>44 billion gallons of water annually</u> between 2011 and 20 1 2.37 (The actual volume is likely higher because not all states require companies to report to FracFocus.) <u>Farmers</u> can also <u><mark>face <strong>increased costs</strong> for</u></mark> inputs like <u><strong><mark>land</strong> and <strong>labor</strong> due to</u></mark> increased <u>competition with <strong><mark>the</mark> drilling <mark>industry</u></strong></mark>.38</p><p><u>Fracking</u> also <u>reduces <strong>available farmland</u></strong>. In the Marcellus gas fields of Pennsylvania, well pads and supporting infrastructure (including roads and pipelines) have an estimated footprint of nearly nine acres per well.39 When this <u>infrastructure covers farmland</u>, it <u><strong>limits</u></strong> the available <u><strong>space</strong> for <strong>growing crops</strong> and <strong>raising livestock</u></strong>.</p><p>Oil and gas <u><strong>drilling wastewater</strong> is</u> increasingly being <u>used to <strong>irrigate crops</u></strong>, including in California where water is scarce. In 2014, <u>half the water</u> used on 45,000 acres in one agricultural region <u>in California was supplied by oil companies</u>.40 California regulations require wastewater to be treated before use as irrigation, but do not address drilling wastewater specifically.41 <u>Studies</u> have <u>show</u>n that drilling <u>chemicals</u> can <u>persist</u> in wastewater <u><strong>even after treatment</u></strong>; one study detected methylene chloride — a toxic chemical that affects the nervous system — in treated wastewater at 5 to 11 times the allowed limit in drinking water.42</p><p>In April 2015, the Central Valley Regional Water Quality Control Board ordered drilling companies with wastewater ponds to test for chemicals related to drilling and to disclose the results to state regulators.43 One test sample from a Chevron wastewater pond detected benzene, a cancer-causing component of crude oil, at levels nearly 500 times California's allowed limit in drinking water.44 However, in other parts of California, irrigation with fracking wastewater may be occurring without additional testing. The extent to which contaminants in the wastewater are being absorbed by plants and entering the food chain remains unknown.</p><p><u>Fracking wastewater is</u> full of <u><strong>toxic</u></strong> materials and salt, <u>and</u> surface spills <u>can be <strong>deadly</strong> to vegetation</u>.45 One North Dakota farmer notes that the industry's wastewater spill from over 50 years ago contaminated 80 acres of her land, and that land remains unproductive to this day.46</p><p>Transportation</p><p>Communities living near oil and gas patches know how drilling booms significantly increase truck traffic. A synthesis of five national and regional studies found that each well development requires an average of 2,200 truck trips.47 This contributes to traffic jams and wreaks havoc on roadways — as much as $13,000 to $23,000 in costs for each well, according to a Pennsylvania study.48</p><p><u><mark>Farmers</u></mark> also <u><strong><mark>compete</strong> with</u></mark> drilling <u><mark>companies for</mark> <strong>cargo <mark>shipping</mark> capacity</u></strong>. In North Dakota, <u>the rise in</u> oil <u>transport</u> by rail has <u><mark>caused <strong>a backlog</strong></mark> in shipments of grain</u>, costing <u>farmers</u> money when they <u><strong><mark>cannot</strong> get</u></mark> their <u><mark>crops <strong>to market</mark>.49</p></u></strong></div>\n",
              "<div style='padding: 10px; flex: 1 1 0; overflow: scroll;'><h4>Federal methane reductions build international trust---causes modeling</h4><p><strong>Wara 16</strong> – Director, Climate and Energy Policy Program and Senior Research Scholar; Woods Institute for the Environment, Stanford University [Michael, 2016, Columbia Journal of Environmental Law, Volume 41, “Building an Effective Climate Regime While Avoiding Carbon and Energy Stalemate,” https://journals.library.columbia.edu/index.php/cjel/article/view/3725, DOA: 6/24/21, Lowell-TT]</p><p>3. Increasing the Pace of Cooperation</p><p><u>Approaches to limiting emissions of short-lived climate pollutants may be <strong>faster</strong> to implement</u> <u>than those aimed at limiting energyrelated carbon emissions</u>. Reducing emissions of carbon dioxide from energy produced using fossil fuels either requires a switch to lower carbon energy sources or application of technologies known as carbon capture and storage.276 Both require replacement of existing long-lived capital assets—e.g. power plants—with alternative technologies. On the other hand, <u>abatement of shortlived climate pollutants requires</u> either <u><strong>well-understood</u></strong> <u>end of pipe pollution controls or improvements to gasoline and diesel fuel quality.</u>277 The exception, cuts in HFC emissions, mostly requires substitution of new refrigerant gases in refrigeration and air conditioning systems that are of much lower cost than cuts in emissions from fossil fuels.278</p><p><u>Cost and a slow rate of turnover in the capital stock279</u> <u>are important reasons that compliance timelines for the Kyoto Protocol,</u> the Copenhagen Accord, <u>and the Paris Agreement are long.</u> The Kyoto Protocol was agreed to in late 1997 and created obligations that ran from 2008 to 2012.280 The Copenhagen Accord was agreed to in late 2009 and created compliance obligations that do not occur until 2020.281 The Paris Agreement, negotiated late in 2015, created obligations that will not occur until 2025.282 <u>The cuts mandated by these agreements are relatively modest and are in any case inadequate if the world is to achieve</u> the UNFCCC objective of “<u>prevent[ing] dangerous anthropogenic interference </u>with the climate system.”283 Thus, <u><mark>nations have</mark> so far <mark>shown</mark> a <strong><mark>willingness to agree</strong> to modest reductions</mark> in greenhouse gases a decade hence.</u> By contrast, the Montreal Protocol called for deep cuts (fifty percent) in chlorofluorocarbon emissions in just five years.284 Further, as countries experimented with compliance measures under the Montreal Protocol, they felt enough confidence to increase the required cuts and to accelerate their implementation.285 In contrast to past agreements within the Climate Regime, the Paris Agreement potentially allows for such rapid cuts via the Nationally Determined Contribution amendment process.286</p><p>It seems likely that <u><mark>a more <strong>rapid pace </mark>of implementation</strong> and <strong>compliance</strong> <mark>may be possible for</mark> the <mark>short-lived</mark> climate <mark>pollutants</mark> </u>than has previously been the norm within the UNFCCC. <u><mark>The</mark> <mark>reasons</mark> for this <mark>have to do with</mark> the far <strong>simpler</u></strong>, <u><strong>better understood</u></strong>, <u>and <strong><mark>cheaper</strong></mark> compliance <mark>strategies </mark>available to governments</u>. While there will no doubt be challenges to phasing in gasoline content regulations in key developing countries, or to implementing requirements for catalytic converters and particle traps on mobile sources, these challenges are likely to be surmountable, particularly with expert technological and financial assistance from developed countries.</p><p><u>If the cycle of agreement, implementation, and compliance can be accelerated</u>, <u>there is the possibility of creating a dynamic within the Climate Regime whereby <mark>a <strong>succession of</mark> <mark>commitments</strong></mark> of modest scale and scope <mark>are agreed to</mark>, </u>complied with, <u>and verified by the international community</u>. <u><mark>This process of</mark> <strong>adjustment</strong> and <strong><mark>deepening</strong> </mark>is important in a number of respects</u>. First, <u>it <mark>will</mark> help to <strong><mark>build trust</strong></mark> between parties.</u> <u>This is important not just for <strong>repeated commitments</strong> to cut the short-lived pollutants but also <mark>in terms of inspiring</mark> <strong><mark>confidence</strong> in <strong>meaningful long-lived</mark> climate pollutant <mark>reductions</u></strong></mark>. <u><mark>Both <strong>theory</u></strong></mark>287 <u><strong><mark>and</mark> <mark>practice</u></strong></mark>288 <u><mark>suggest</mark> that <mark>countries</mark> that have <mark>made and</mark> <mark>kept</mark> one set of climate pollution <mark>commitments</mark> are more likely to be worthwhile partners in subsequent commitments</u>. <u>Trustworthy partners increase a country’s willingness to strike costly but <strong>mutually beneficial bargains</strong>.</u>289 Likewise, <u>commitments <strong>can only be credible</strong> when made by a nation with a strong reputation for <strong>keeping its promises</strong>.</u>290 <u>This sort of <strong>observed trust</strong> is especially important for the countries</u> <u>where government leadership and decision making is opaque</u> or where governance capacity may be lacking. <u>Outsiders seeking to make bargains with such partners may have trouble discerning both the intent</u> to keep a promise <u>and whether, even with good intentions</u>, <u>a nation is capable</u> of implementing the domestic policy necessary to comply with its international commitment.291</p><p>Second, <u>repeated cycles of compliance</u> and agreement <u>are likely to <strong>increase the capacity</strong> of the UNFCCC compliance regime</u> <u>to monitor and verify compliance </u>with commitments. Currently, this regime is, like most multilateral environmental agreements, relatively weak in that it depends on self-reporting,292 has, until recently, lacked the ability to question the substantive claims of parties,293 and is inexperienced in that it has not yet verified treaty obligations on the part of any party or dealt with substantive noncompliance issues.294 Although the language of the Paris Agreement suggests a shift towards a more intrusive—though still managerial—style of compliance review, the specifics have yet to be articulated, let alone tested in practice.295 <u>Empirical study of other environmental treaty compliance</u> regimes296 as well as the compliance regime in the arms control regime297 <u>indicates that compliance procedures develop in terms</u> <u>of their depth, their methods for dealing with non-compliance</u>, <u>and their intrusiveness only over time and in response to instances of alleged or real noncompliance.</p><p>Exactly how commitments to cut energy-related CO2</u> emissions <u>should be monitored</u> <u>has been the subject of lengthy negotiation</u> within the Climate Regime. Establishing rules for external monitoring of developing country commitments has been particularly contentious. <u>The U</u>nited <u>S</u>tates <u>has at times demanded relatively intrusive external monitoring while China has resisted such infringements on its sovereignty</u>.298 <u>Were agreements to curb short-lived climate pollutants to become an established part of the Paris Agreement</u>, <u>these <strong>monitoring</strong> and <strong>transparency</strong> issues could be <strong>worked out</strong> based on practical experience and through successive agreements <strong>relatively quickly</u></strong>, <u>rather than in theory or in the midst of infrequent high-stakes diplomatic negotiations</u>. In sum, <u>because agreements to cut short-lived climate pollutants have the potential to be agreed to</u>, <u>implemented</u>, <u>and periodically strengthened at a more rapid pace than agreements to cut energyrelated carbon dioxide emissions</u>, <u>they offer the opportunity to both strengthen trust between partners and develop governance capacity on the part of the Climate Regime</u>—<u>key goals of the Paris Agreement.</p></u></div>\n",
              "<div style='padding: 10px; flex: 1 1 0; overflow: scroll;'><h4>Fracking is <u>increasing</u> now and <u>contaminates</u> water</h4><p>Dr. Britt <strong>Erickson 19</strong>, PhD in environmental chemistry from the University of Maryland and Senior Editor at C&EN, 11/17/2019, “Wastewater from fracking: Growing disposal challenge or untapped resource?” Chemical & Engineering News, 97(45), https://cen.acs.org/environment/water/Wastewater-fracking-Growing-disposal-challenge/97/i45, pacc </p><p><u><strong>Natural gas production</strong> in the US is at <strong>an <mark>all-time high</u></strong></mark>, according to the latest reports from the US Energy Information Administration. But the dramatic growth <u><mark>of</u></mark> shale gas over the past decade, made possible by hydraulic fracturing, or <u><strong><mark>fracking</u></strong></mark>, has led to huge volumes of salty wastewater called brine or produced water.</p><p>As the <u>fracking</u> industry improves its efficiency by drilling ever-longer horizontal wells, it also increases the amount of water it uses to fracture the rock to release the gas. The fracturing process <u><mark>uses</u></mark> on average about 45 million L of <u><mark>water</u></mark> for a single horizontal well, according to the Groundwater Protection Council (GWPC), a group of state oil and gas regulators and environmental protection agencies.</p><p>Water pumped into fracking wells doesn’t all stay in the ground. Much of it comes back up along with extracted gas. <u>The water</u> that comes up <u><mark>has</u></mark> a much different chemistry than the water that goes down. Produced water typically includes salts from dissolution of the underlying rock, naturally occurring radioactive substances, and <u><strong><mark>chemicals added</strong></mark> during</u> the drilling and <u>fracking</u> process.</p><p>It is unclear exactly how much produced water the fracking industry generates. It is also difficult to characterize the chemical composition of produced water because many of the chemicals used by the fracking industry are proprietary, and the geology of natural gas formations varies widely across the US.</p><p>The GWPC estimates that the US oil and gas industry generates approximately 3,400 billion L of produced water each year. That number is based on data from nearly 1 million oil and gas wells, which are increasingly hard to tease apart because many wells extract both oil and gas. <u>The</u> US <u><strong><mark>E</u></strong></mark>nvironmental <u><strong><mark>P</u></strong></mark>rotection <u><strong><mark>A</u></strong></mark>gency <u><mark>predicts</u></mark> that volumes of produced <u><mark>water</mark> from</u> the <u>fracking</u> industry <u><strong><mark>will</u></strong></mark> continue to <u><strong><mark>increase</strong> as</mark> <strong>natural gas <mark>production</strong> rises</u></mark>.</p></div></div>"
            ],
            "text/plain": [
              "<IPython.core.display.HTML object>"
            ]
          },
          "metadata": {},
          "output_type": "display_data"
        },
        {
          "data": {
            "text/plain": [
              "381      0.121101\n",
              "539      0.040367\n",
              "4058     0.038532\n",
              "371      0.036697\n",
              "7147     0.029358\n",
              "           ...   \n",
              "53672    0.001835\n",
              "53668    0.001835\n",
              "53163    0.001835\n",
              "53123    0.001835\n",
              "23446    0.001835\n",
              "Length: 224, dtype: float64"
            ]
          },
          "execution_count": 42,
          "metadata": {},
          "output_type": "execute_result"
        }
      ],
      "source": [
        "frBuckets = (evClean[evClean['tag'].str.contains('fracking')]).groupby('bucketId').size().sort_values(ascending=False)\n",
        "frBIndex = frBuckets.index[0]\n",
        "frI = bucketIndexes[frBIndex]\n",
        "showBucketSeries(getAdjacent([frI], iters=1))\n",
        "getAdjacent([frI], iters=1)"
      ]
    },
    {
      "cell_type": "code",
      "execution_count": null,
      "metadata": {
        "colab": {
          "base_uri": "https://localhost:8080/",
          "height": 1000
        },
        "id": "Df-MQJs_WR1L",
        "outputId": "8ebf9aa3-bc8c-414f-a5f0-12e33a9067e5"
      },
      "outputs": [
        {
          "data": {
            "text/html": [
              "<div style='display: flex; height: 1000px'><div style='padding: 10px; flex: 1 1 0; overflow: scroll;'><h4>Industry collapse is <u>imminent</u>. Investors are realizing capital has <u>zero ROI</u>, and without those funds, U.S. gas production is <u>doomed</u>.</h4><p><strong>Mikulka 21</strong> – Justin Mikulka is an investigative journalist for DeSmog and has a degree in Civil and Environmental Engineering from Cornell University [“The U.S. Shale Revolution Has Surrendered to Reality”, July 16th, 2021, https://www.desmog.com/2021/07/16/us-shale-revolution-no-fracking-investment/<u>] CHC Lobo</p><p></u> <u><strong>“Drill, baby, drill is gone forever.” </u></strong>That was the recent assessment of Saudi Prince Abdulaziz bin Salman of the American oil industry’s future potential. <u>As Saudi Arabia’s energy minister, Prince Abdulaziz is one of the most influential voices in the global oil markets. Fortune termed it a “bold taunt,” and a warning to U.S. frackers to not increase oil production. The response by the U.S. producers — <strong>to <mark>shut up and take it</strong></mark> — quietly <mark>confirms</mark> this reality. <mark>Shale</mark> oil’s era of growth <strong><mark>appears to be over</u>.</strong></mark> The reason is that <u>even as global oil demand and prices rise, the <strong><mark>economics</mark> of the shale</strong> oil business model <strong><mark>continue to not work</strong></mark>.</u> <u>The U.S. shale industry has lost hundreds of billions of dollars in the past decade producing oil and selling it for less than it cost to produce. This was possible because despite the losses, <mark>investors </mark>kept giving the industry money.</u> <u>But now investors appear to have <strong>grown tired of <mark>losing money</mark> on U.S.</strong> shale companies and new lending to the industry has dropped dramatically. </u>As reported this month by The Wall Street Journal, <u>“capital <mark>markets show</mark>ed <strong><mark>little interest</mark> <mark>in</mark> funding</strong> expansive new <strong><mark>drilling</strong></mark> campaigns”</u> for the U.S. shale industry. Shaia Hosseinzadeh, a partner at investment firm OnyxPoint Global Management LP, told The Journal that <u>the problem facing fracking <mark>companies</mark> is that “<strong>they <mark>can’t access </mark>cheap <mark>capital</strong></mark> any longer.” Without new infusions of money, the industry can’t drill for more oil,</u> and that is why the Saudis feel confident taunting the U.S. oil industry. Prince Abdulaziz’s confidence is based in the financial realities of U.S. shale. As oil industry analyst Robert Clarke of Wood MacKenzie recently told the Financial Times, “<u>If there ever was a time to drill [shale] oil, now is a great time. … But why would you change the recipe? Not drilling is working in their favour.” </u>New Normal for U.S. Oil Industry What’s happening with the U.S. shale industry in this high price oil environment is unusual. Oil is typically a very predictable boom-and-bust business: When prices go up, oil drillers produce as much as they can, and when prices go down they stop. But for American drillers right now, the money isn’t there because investors no longer are willing to lend to frackers based on promises of future profits that have yet to materialize for the industry. In July 2020, accounting firm DeLoitte released a report stating that, “The U.S. shale industry registered net negative free cash flows of $300 billion, impaired more than $450 billion of invested capital, and saw more than 190 bankruptcies since 2010” — supporting the claim that the industry has peaked without ever making money. Investors have taken notice, including the private equity industry that has invested heavily in the fracking boom. Dan Pickering, head of energy investment firm Pickering Energy Partners, highlighted how private equity has lost interest in further investment in the shale industry in his keynote presentation at Hart Energy’s annual Energy Capital Conference in June. According to Pickering, despite the industry’s inability to make profits, in 2016 private equity started 122 new oil and gas companies. In 2017 private equity backed 132 new companies. This is compared to private equity backing 16 companies in 2020 and just four new companies this year. <u>‘Capital Destruction Machines’ Need Capital The U.S. <strong>shale</strong> <mark>industry</mark> has been accurately described as being <strong>composed <mark>of “capital destruction machines</mark>”.</u></strong> <u>The hundreds of billions in losses the industry has accumulated in the past decade prove that it’s true. With few investors willing to provide new capital to feed the machine, the <strong><mark>only option is not drilling</strong></mark>, </u>even though prices are the highest they have been in years, at nearly $75 per barrel. <u>Oil prices briefly reached $75 a barrel in 2018 but <strong>haven’t been consistently higher</strong> than that <strong>since 2014.</strong> </u>Crude Oil Price ($/barrel) for West Texas Intermediate Crude Oil. Credit: Macrotrends <u>According to the shale oil industry, these prices are well above what is needed to make a profit.</u> <u>But the <strong>industry isn’t drilling</strong>, and in areas like the Bakken shale play in North Dakota, production is actually falling. </u>In March of 2020, Lynne Helms, the director of North Dakota’s Department of Mineral Resources, made an optimistic forecast for shale oil production out of the state’s portion of the Bakken formation, a 200,000-square-mile shale oil deposit underneath Montana and North Dakota in the U.S., and Saskatchewan and Manitoba in Canada. “We’ve looked at a large number of price scenarios and none of them take us below 1 million barrels a day in the next four or five years,” Helms explained in a webinar, according to Bloomberg. And yet, with prices above $70 a barrel<u>, <strong>Bakken <mark>production</mark> is not increasing</strong>. The current rate of just above one million barrels a day is <strong><mark>down 26 percent</strong></mark> from the 2019 peak of almost 1.5 million barrels per day. </u>As DeSmog has recently documented, <u>the challenges facing this region’s oil producers mean that “Bakken’s best days are a thing of the past.” </u>But it isn’t just the Bakken. <u><mark>Investors</mark> are <strong>not interested in <mark>los</mark>ing more</strong> <strong><mark>money</strong></mark> on any U.S. shale</u>. The latest survey of oil and gas companies by the Federal Reserve Bank of Dallas makes that very clear: “<u>We have relationships with approximately <strong><mark>400 </mark>institutional <mark>investors</strong></mark> and close relationships with 100. <strong>Approximately <mark>one</mark> </strong>is <mark>willing</mark> <mark>to</mark> <mark>give</mark> new <mark>capital</mark> to oil and gas investment. The story is the same for public companies and international exploration.”</u> <u><strong><mark>Without </mark>that <mark>money, drillers can’t drill</mark>. </u></strong>DeSmog asked petroleum geologist Art Berman for his opinion on why the U.S. shale industry is choosing not to expand production amid the current high prices for oil. “I believe that the main factor behind somewhat limited drilling by the tight oil industry is lack of outside capital,” Bermain stated via email. <u><mark>Shale</mark> Industry Limited By Financial Constraints The shale industry — <strong>known for <mark>misleading</mark> <mark>investors</strong></mark> — is <strong>taking credit for restraint</strong> to explain the lack of new drilling.</u> This argument was reflected in the recent Wall Street Journal headline, “American Frackers Show Restraint as Oil Tops $70.” <u>This is misleading because it implies that the frackers are choosing to not drill when the current <strong>financial <mark>reality doesn’t offer</mark> them that <mark>choice</strong></mark>.</u> <u>The industry is facing a very real financial constraint that is the result of investors’ decisions, not the will of those within the industry. But the reality is that <strong><mark>investors</mark> are fleeing the sector, and are <mark>unlikely to return</mark>. </u></strong>In early June, at Hart Energy’s annual Energy Capital Conference in Houston, there was a panel discussion on the state of bank lending to oil companies, moderated by Steve Toon, editor for industry publication Oil and Gas Investor. Toon closed the session with a simple question: “Do you think there is enough capital available in today’s market to grow production in the U.S.?” “<u>I don’t think there’s enough capital available right now to <strong>grow production</strong>, much less even <strong>replace depletion</strong>,”</u> was the response from Steve Kennedy, executive vice president and head of energy banking at Amegy Bank. “Not today. But there will be. As prices go up, capital will be attracted to the industry,” said Buddy Clark, a partner at Energy Practice Group, Haynes and Boone. “If oil companies are making money, the banks want to be there.” Some estimates are that <u>the U.S. <mark>shale</mark> industry has <strong><mark>lost</strong></mark> <strong><mark>half a trillion dollars</strong></mark> of investor money during the U.S. fracking boom</u>. <u>That is the amount of money required to fund the capital destruction machines that produced oil above and beyond</u> what the industry was able to earn and re-invest from selling oil<u>. There is very little chance the industry will ever make that money back.</p></u></div>\n",
              "<div style='padding: 10px; flex: 1 1 0; overflow: scroll;'><h4>3. <u>Contradictory precedent</u>. Rogue state actions demolish the industry, but federal regulations prevent bad policies at lower jurisdictional levels.</h4><p><strong>Jody Freeman, a professor of law at Harvard University, writes in 2012… </strong>[Jody Freeman, Harvard law prof, “The Wise Way to Regulate Gas Drilling,” July 5, 2012, https://www.nytimes.com/2012/07/06/opinion/the-wise-way-to-regulate-hydraulic-fracturing.html?_r=0]</p><p><u><mark>States</mark> <mark>like Texas, Pennsylvania and New York</mark> are now rushing to <mark>impose </mark>their own <mark>rules</u>.</mark> But <u><strong>what <mark>we </mark>really <mark>need</mark> is a system of <mark>federal oversight</u></strong> <u><strong>that</mark> will <mark>promote confidence</mark> in this technique <mark>and provide </mark>the <mark>industry</mark> <mark>with uniform standards</u></strong></mark> <u>without overregulating it. </u>The federal government has the power to regulate some but not all the risks. For example, <u>the Environmental Protection Agency</u> has set standards to control emissions of toxic and greenhouse gases from the drilling process and <u>is considering new rules for polluted wastewater. But</u> in 2005, <u>Congress exempted the fracturing process itself</u> — a process in which huge quantities of water, sand and toxic chemicals are injected into tight shale rock, to force open the rock and capture the gas trapped within — <u>from federal regulation. The <mark>states</mark> have <mark>moved</mark> forward <mark>with </mark>a <mark>patchwork </mark>of regulations</u> — <u>some specific and prescriptive, others vague and general. Many states</u> require some disclosure of the chemicals the drillers use, but in some states drillers decide which chemicals constitute proprietary secrets and therefore do not have to be disclosed. <u>Some states allow operators to store toxic wastewater from the fracturing process in open pits, risking surface or groundwater contamination. Some states simply lack the experience or resources to enforce their standards. The <strong>uneven approach</u></strong> <u>is bad not only for the environment but also for industry, because under the current system</u>, <u><strong><mark>mistakes by a few bad apples</mark> could <mark>lead to</mark> <mark>overregulation</u></strong> <u>or</mark> even <mark>outright <strong>bans on drilling</u></strong></mark>. <u>A better approach is one already reflected in many environmental laws</u>: <u><strong><mark>cooperative federalism</u></strong></mark>. The <u>federal government <mark>sets baseline</mark> standards, which states can exceed but not fall below.</u> Ideally, <u>these would be general “performance standards” rather than detailed specifications, giving the states flexibility to meet them</u>. <u>States</u> <u>might be required to develop</u> comprehensive <u>plans to manage</u> environmental <u>risks</u>. <u>These plans could account for</u> regional differences and would be based on best practices for disclosure, drilling location, well construction and <u>wastewater treatment</u>. States would implement and enforce the rules and issue and oversee the operating permits. <u>The federal government could step in if states</u> <u>abdicated their responsibility. Such a regulatory system — with minimum federal standards as well as state plans — has been in place for coal mining</u> since 1977. <u><strong>For this to work, <mark>Congress must lift</mark> the regulatory <mark>exemptions</u></strong></mark> for hydraulic fracturing. <u><strong>This would <mark>allow</mark> the <mark>E.P.A. to set</mark> minimum <mark>requirements</mark> for the drilling process</u></strong>, which states would implement through federally approved programs. <u>The E.P.A. and the Interior Department</u>, which regulates gas drilling on federal lands, <u>could</u> then <u>establish a clear, comprehensive and consistent federal framework for hydraulic fracturing.</u> The cost would be reasonable: the International Energy Agency recently estimated that adequate environmental protections could increase drilling costs by 7 percent. Some might say that a federal role isn’t necessary. But <u><strong><mark>pollution </mark>risks <mark>go beyond state borders</u></strong></mark>. <u>If natural gas extraction is a national priority, its safety and efficacy should be of national concern, too</u>. The Obama administration has taken some initial steps to coordinate <u>the federal government’s</u> approach but has <u>been timid about calling for a stronger federal role</u>. <u><strong><mark>Only a national </mark>regulatory <mark>system can strike </mark>the <mark>right balance</u></strong></mark>, simultaneously realizing hydraulic fracturing’s energy promise and minimizing the risks while respecting state authority.</p></div>\n",
              "<div style='padding: 10px; flex: 1 1 0; overflow: scroll;'><h4>Contamination is <u>nationwide</u>, impedes <u>agricultural exports</u>, and destroys <u>rural economies</h4><p><strong>FWW 16</u></strong>, NGO focusing on accountability for water usage, “Fracking and the Food System,” https://www.chc4you.org/wp-content/uploads/2017/01/Food-and-Fracking_Food-Water-Watch_2016.pdf<u><strong>, pacc </p><p>Effects on Agriculture</p><p></u></strong>Water Contamination</p><p><u>There are <strong>numerous documented cases</strong> of fracking contaminating <strong>drinking water sources</u></strong>.9 <u>A</u> draft <u>study by the</u> U.S. Environmental Protection Agency (<u>EPA</u>) <u>surveyed several incidents</u> across the country. <u><strong><mark>Fracking</mark> fluid spills</strong> at drilling sites</u> have reached surface water. Poorly constructed wells have allowed natural gas to <u><strong>infiltrate aquifers</u></strong>. Faulty pipelines have spilled toxic wastewater into surface and ground water sources.10 In some regions, <u><mark>contamination may be <strong>widespread</u></strong></mark>. <u><mark>In</u></mark> a <u><mark>Texas</u></mark> study, nearly <u><strong><mark>70 percent</strong> </mark>of</u> tested <u>water wells</u> located <u>near</u> an oil or <u>gas</u> well <u><strong><mark>tested</mark> <mark>positive</strong></mark> for chemicals</u> associated with exploration, <u>suggesting</u> that <u>drilling</u> may have <u>led to contamination</u>.11</p><p><u>This is problematic because</u> nearly all rural residents in the United States rely on groundwater for their drinking water, and many <u>farmers</u> also <u>use it to <strong>irrigate crops</strong> and <strong>raise livestock</u></strong>.12 Contaminated groundwater not only puts these communities' health in jeopardy, but also impacts their livelihoods. There have been many instances where groundwater contaminated by fracking poisoned livestock, causing illness, reproductive issues and death.13 However, there are no common procedures for isolating livestock exposed to chemicals from the food chain; the animals might be quarantined or not slaughtered for human consumption, but dead animals sent to a rendering plant could be used for livestock or pet feed.14</p><p>An overview of livestock exposure to fracking fluids found that the most common exposure came from contaminated wells and springs.15 Cows exposed to fracking fluids have experienced difficulty breeding and higher rates of stillborn and deformed calves.16</p><p>In two cases, only part of a herd of beef cattle was exposed to fracking wastewater. In each case, many of the exposed cattle died, and those that survived experienced problems breeding, whereas the unexposed cattle experienced no unusual problems. According to researchers, these two cases \"approach the design of <u>a controlled experiment</u>, and <u>strongly implicate <strong>wastewater exposure</strong> in <strong>the death</u></strong>, <u><strong>failure to breed</u></strong>, <u>and <strong>reduced growth rate</strong> of cattle</u>.\"17</p><p>Pets are also victims. In Pennsylvania, a two-year-old boxer had to be euthanized after lapping up fracking wastewater that was intentionally spread on the nearby road.18</p><p>Frustratingly, without baseline testing of water wells before drilling takes place, it is difficult for farmers to prove that drilling contaminated their water.19 Baseline testing is not necessarily required by drilling companies, and adequate testing is expensive for farmers to conduct themselves.20 Additionally, there are at least 692 unique ingredients that have been used in fracking fluids,21 but baseline tests typically only screen for a limited number of contaminants associated with drilling.22</p><p>Air Pollution</p><p>Drilling, <u>fracking</u>, venting, flaring, wastewater storage and other activities at well sites <u>generate <strong>hazardous air pollution</u></strong>. One <u><strong>peer-reviewed study</strong> analyzed <strong>air samples</strong> near <strong>fracking sites</strong> in five states</u>; nearly <u><strong>40 percent</u></strong> of samples <u>tested positive for <strong>toxic chemicals</u></strong>, <u>such as</u> cancer-causing benzene or <u><strong>formaldehyde</u></strong>, above federal safety standards.23 <u><strong>Hydrogen sulfide</u></strong>, a deadly gas, <u>was</u> found at levels up to <u><strong>hundreds of times</strong> what is</u> considered to be <u><strong>life-threatening</u></strong>.24</p><p>Studies have long noted concerns related to the effects of toxic emissions associated with oil and gas activities on livestock, including a 2001 study that linked flaring with stillbirths and calf mortality among cattle.25 Fracking is bringing these and other airborne health risks to new regions. In December 2015, six cows were found dead together inside the Cimarron National Grasslands in Kansas, which also houses an oil field with fracking wells.26 A seventh cow died apart from the group, and a veterinarian confirmed that the cows died from toxic inhalation.27 The Grasslands issued an emergency closure on four sections of the park while they investigated the incident.28 This investigation may provide evidence of toxic air pollution associated with fracking.</p><p>Fracking also contributes to ground-level ozone (the main component of smog), which can cause respiratory issues, especially among sensitive populations such as those with asthma.29 <u>Fracking</u> has <u>caused <strong>ozone levels</strong> to <strong>spike</u></strong> in some rural areas — at times exceeding those of smoggy urban areas like the Los Angeles Basin.30 <u><strong>Ozone pollution</u></strong> also <u><strong>reduces crop yield</strong> and makes plants</u> more <u><strong>susceptible to disease</u></strong>.31 <u>According to the</u> U.S. Department of Agriculture (<u>USDA</u>), <u>\"ground-level ozone causes <strong>more damage</strong> to plants than <strong>all other air pollutants combined</strong>.\"</u>32</p><p>Agricultural Production and Farmer Livelihood</p><p><u>The <strong>rise of <mark>fracking</u></strong></mark> in the Marcellus Shale region of Pennsylvania <u><mark>correlates with <strong>a</mark> sharper <mark>decline</strong> in</u></mark> dairy <u><mark>farming</u></mark>. A Penn State Extension study found that in counties with more than 10,000 dairy cows in 2007, those with more than 150 Marcellus Shale wells experienced a 16.3 percent decline in total dairy cows on average between 2007 and 2010, compared to a 2.7 percent increase in cows in counties with no Marcellus wells.34 Researchers speculate a variety of explanations, from farmers using their royalty monies to retire, to farmers feeling \"forced out\" due to the negative effect of wells. Regardless of the reason, a decline in dairy herds may have a negative economic impact on neighboring communities.35</p><p><u><mark>Farmers</u></mark> also <u><strong><mark>compete</strong></mark> with</u> oil <u>companies <mark>for <strong>water</strong> and</u></mark> other <u><strong>agricultural inputs</u></strong>, including in the semi-arid West, where water is already scarce.36 Using the FracFocus database, <u>the</u> U.S. <u>EPA estimated</u> that the <u>fracking</u> industry <u>used</u> an average of <u>44 billion gallons of water annually</u> between 2011 and 20 1 2.37 (The actual volume is likely higher because not all states require companies to report to FracFocus.) <u>Farmers</u> can also <u><mark>face <strong>increased costs</strong> for</u></mark> inputs like <u><strong><mark>land</strong> and <strong>labor</strong> due to</u></mark> increased <u>competition with <strong><mark>the</mark> drilling <mark>industry</u></strong></mark>.38</p><p><u>Fracking</u> also <u>reduces <strong>available farmland</u></strong>. In the Marcellus gas fields of Pennsylvania, well pads and supporting infrastructure (including roads and pipelines) have an estimated footprint of nearly nine acres per well.39 When this <u>infrastructure covers farmland</u>, it <u><strong>limits</u></strong> the available <u><strong>space</strong> for <strong>growing crops</strong> and <strong>raising livestock</u></strong>.</p><p>Oil and gas <u><strong>drilling wastewater</strong> is</u> increasingly being <u>used to <strong>irrigate crops</u></strong>, including in California where water is scarce. In 2014, <u>half the water</u> used on 45,000 acres in one agricultural region <u>in California was supplied by oil companies</u>.40 California regulations require wastewater to be treated before use as irrigation, but do not address drilling wastewater specifically.41 <u>Studies</u> have <u>show</u>n that drilling <u>chemicals</u> can <u>persist</u> in wastewater <u><strong>even after treatment</u></strong>; one study detected methylene chloride — a toxic chemical that affects the nervous system — in treated wastewater at 5 to 11 times the allowed limit in drinking water.42</p><p>In April 2015, the Central Valley Regional Water Quality Control Board ordered drilling companies with wastewater ponds to test for chemicals related to drilling and to disclose the results to state regulators.43 One test sample from a Chevron wastewater pond detected benzene, a cancer-causing component of crude oil, at levels nearly 500 times California's allowed limit in drinking water.44 However, in other parts of California, irrigation with fracking wastewater may be occurring without additional testing. The extent to which contaminants in the wastewater are being absorbed by plants and entering the food chain remains unknown.</p><p><u>Fracking wastewater is</u> full of <u><strong>toxic</u></strong> materials and salt, <u>and</u> surface spills <u>can be <strong>deadly</strong> to vegetation</u>.45 One North Dakota farmer notes that the industry's wastewater spill from over 50 years ago contaminated 80 acres of her land, and that land remains unproductive to this day.46</p><p>Transportation</p><p>Communities living near oil and gas patches know how drilling booms significantly increase truck traffic. A synthesis of five national and regional studies found that each well development requires an average of 2,200 truck trips.47 This contributes to traffic jams and wreaks havoc on roadways — as much as $13,000 to $23,000 in costs for each well, according to a Pennsylvania study.48</p><p><u><mark>Farmers</u></mark> also <u><strong><mark>compete</strong> with</u></mark> drilling <u><mark>companies for</mark> <strong>cargo <mark>shipping</mark> capacity</u></strong>. In North Dakota, <u>the rise in</u> oil <u>transport</u> by rail has <u><mark>caused <strong>a backlog</strong></mark> in shipments of grain</u>, costing <u>farmers</u> money when they <u><strong><mark>cannot</strong> get</u></mark> their <u><mark>crops <strong>to market</mark>.49</p></u></strong></div>\n",
              "<div style='padding: 10px; flex: 1 1 0; overflow: scroll;'><h4>Federal fracking regulations solve wastewater pollution and methane emissions</h4><p><strong>Meegoda et al. 17</strong> [Jay N. Meegoda, Ph.D., P.E., F.ASCE, Professor, Dept. of Civil and Environmental Engineering, New Jersey Institute of Technology, Samuel Rudy, Dept. of Civil and Environmental Engineering, New Jersey Institute of Technology, Zhenting Zou, Ph.D. Student, Dept. of Civil and Environmental Engineering, New Jersey Institute of Technology (corresponding author), and Michael Agbakpe, Ph.D., Postdoctoral Fellow, Dept. of Civil and Environmental Engineering, New Jersey Institute of Technology, “Can Fracking Be Environmentally Acceptable?,” Journal of Hazardous, Toxic, and Radioactive Waste 21:2, April 2017]</p><p>While it has been proven that most of the accusations against fracking causing methane contamination are false, <u><strong>there is</u></strong> still undeniably a presence of <u><strong>methane in the groundwater around some fracking locations</u></strong>. <u>The most likely <mark>culprit for</mark> this methane <mark>contamination is “poorly built wells- inadequate steel casing and poor cement construction</u></mark> (North Carolina Health News 2014).” In other words, human error is most likely responsible for any contamination of groundwater around fracking wells. This is because there is high pressure in the pipe during fracking. Specifically, <u>when the fracking fluid is pumped into the well and when the methane gas is pumped out of the w</u>ell. <u><strong><mark>Even a small irregularity</mark> in the casing due to poor installation or cementation <mark>could produce a leak</u></strong></mark>, such as a full water balloon pricked with a tiny hole (Ewen et al. 2012). <u><strong>From that leak, it is feasible <mark>that the methane gas could slip past the cement and contaminate the groundwater</u></strong></mark>.</p><p>As with horizontal drilling, this situation is not the case. Studies have shown that there is a negligible amount of contamination if the groundwater is more than 1 km away from fracking wells (Mason et al. 2015). Hence, it is proposed that any residential or commercial activities should be at least 1 km away from the vertical well. While this would be inconvenient for fracking companies as there is groundwater above many of the places that contain shale gas, it is definitely possible to work around. This is especially true when horizontal fracking is considered (which has already shown not to be the cause of methane contamination). Horizontal fracking could be used to circumvent the 1-km restriction by drilling down vertically more than 1 km away from the groundwater and then drilling horizontally underneath the groundwater. As it is now, horizontal wells extend several miles, so the 1-km constraint would not be overly detrimental to the productiveness of fracking.</p><p>There is another possible explanation for methane contamination. Groundwater naturally contains methane in low quantities. However, it is possible that some groundwater has a larger concentration of methane. The preceding time of arrival calculation showed that it would take approximately 33 million years for methane to seep from the shale layer up to the groundwater reserves. Yet, most of the shale formations that are fracked are far older than that of the Marcellus shale (the second largest fracking field in the world), which is 385 million years old. With such a long time, it is possible that the shale migrated into the groundwater long before fracking was even conceived and that it was only noticed once fracking became popular and controversial. This explanation is corroborated by reports (Lustgarten 2009) of people being able to set their water aflame (due to the high methane concentration) long before fracking began in their area.</p><p>Between human error and natural methane migration into groundwater, the presence of methane in groundwater around fracking wells can be explained. It is also evident that fracking does not inherently cause contamination of groundwater, provided that the vertical well is at least 1 km away from any groundwater well. Therefore, with sufficient training and supervision to avoid most human error, along with the proper regulation preventing fracking companies from drilling vertically within 1.6 km (1 mi) of groundwater, <u><strong>the process of <mark>fracking can be made safe, and prevent methane from contaminating</mark> ground<mark>water</mark> reserves</u></strong>.</p><p>Earthquakes</p><p>Another environmental concern due to fracking is the occurrence of earthquakes near fracking sites. Although the direct link between earthquakes has not been definitively proven, there are viable theories for how fracking could directly cause earthquakes and the level of correlation between fracking and earthquakes makes a cause and effect relationship between the two undeniable. The earthquakes tend to occur mainly during two steps of the fracking: (1) during the injection of the fracking fluid into the well and (2) after the fracking is completed, when the fracking companies inject waste fluid into deep underground formations. The vast majority of the earthquakes attributable to fracking are not powerful enough to be detected by humans without the aid of a sensor; however, a larger earthquake could occur infrequently with the potential to cause damage.</p><p>Currently, there are only a few preventative measures employed by fracking companies to prevent earthquakes (partially due to the ambiguous cause and nature of the earthquakes). One such protective measure utilized by Cabot Oil and Gas Corporation (along with other fracking companies) is to perform a detailed sonar analysis of the ground before fracking (Fetzer 2012). Unfortunately, this technique has proven insufficient in preventing earthquakes.</p><p><u>The most likely cause of the earthquakes is either fracking fluid or waste fluid seeping into undetected faults deep underground when they the fluids are injected into their respective wells</u>. The fluids are injected with high pressure underground and this great pressure may cause them to move through the fractures that are created during fracking, causing leakage from the fractures in the shale layer to fault lines. The fluid could then provide lubrication and cause the fault to slip, creating earthquakes around the area.</p><p>A precaution that should be taken (in addition to screening the ground before beginning to frack) is to ensure that disposal wells are not overloaded, because overloading a well could increase the pressure and make earthquakes more frequent. It would not be feasible to lessen the pressure exerted by the fracking fluid because high pressure is needed in order for the fluid to create the fractures, keep them open, and extract the shale gas. Another proposed solution is to not frack within a certain range of a population due to the perception that earthquakes only occur in areas close to the well. This, however, has recently been disproved. A Cornell University research team measured earthquakes that were most likely attributed to fracking approximately 50 km (31 mi) away from the fracking wells (Keranen et al. 2014). The cause of these earthquakes has not yet been conclusively determined but it is suspected to be due to fracking. Katie Keranen, professor of geophysics at Cornell University, stated, “Existing criteria for an induced earthquake do not allow earthquakes associated with the well activity to occur this far away from the wellbore,” implying that the current explanation for earthquakes is not due to fracking, or a given explanation is incomplete.</p><p>In a study on the impact of fracking on earthquakes, an investigation of the Marcella formation in the state of Pennsylvania was conducted. There are 301 fracking wells in Pennsylvania (FracFocus 2015a, b, c). Based on U.S. Geological Survey (USGS 2015) data, there were only six earthquakes of magnitude 4 or higher that occurred within the last 30 years. Earthquakes of magnitude 4 or less are considered a minor earthquake of minimal disruption. Upon further analysis of those six earthquakes, it was found that all occurred prior to fracking starting in Pennsylvania. Furthermore, the epicenter of those earthquakes was much deeper than the Marcella formation, indicating minimal or no contribution due to fracking in Pennsylvania, one of the major shale gas producers.</p><p>Despite the research performed, earthquakes remain one of the most mysterious issues associated with fracking. However, it is important to note that the issue of earthquakes is not as pressing as other environmental concerns surrounding fracking due to the infrequent occurrence of earthquakes and the far less likely chance that an earthquake occurs that could cause any damage. With the current research, the best solution would be to prohibit underground injection of waste fluid or at least prevent overfilling of disposal wells. In addition, it is important to check as thoroughly as possible for any fault or abnormality in the ground before drilling begins. If these preventative measures are followed, the likelihood of earthquakes, especially severe ones, should decrease.</p><p>Fracking Fluid</p><p><u>Handling of flow back and produced waters is another issue that arises from fracking operations. </u>Currently, this wastewater can be recycled for subsequent fracking, reinjected underground, or treated and released into rivers. Other environmental issues are the impacts on land use, noise, and air quality. The exploration process in general generates a lot of activities and associated traffic, noise, and air pollution (Davis 2012). Despite the fact that the industry is adapting where possible to more benign fracking chemicals, information on the exposure to natural and added chemicals and the fate and ecotoxicity of the generated wastewater is not available (Batley and Kookana 2012).</p><p>High concentrations of natural contaminants such as metals, radionuclides, total petroleum hydrocarbons (TPHs), and phenols have also been observed in return wastewaters and formation waters (Cheung et al. 2009; Wood and Patterson 2011). Even though these chemicals are naturally occurring, there are risks of possible modification and release processes associated with the introduction of oxygenated waters, as ythe oxidation of reduced iron may lead to iron oxyhydroxide precipitation and a lowering of water pH (Batley and Kookana 2012). Elevated iron and manganese concentrations have been observed in flow-back waters (Wood and Patterson 2011). Acids in the fracking fluids will cause metal dissolution, aided by chelating agents. Surfactants and solvents may assist in the dissolution of organic compounds (Batley and Kookana 2012).</p><p>Therefore, a third major environmental issue is the disposal of waste products (mostly fracking fluid) after a well is fully formed for gas production. Different chemicals perform different functions in a hydraulic fracturing. Although there are dozens to hundreds of chemicals that could be used as additives, there are a limited number that are routinely used in fracking. Table 2 shows a list of the most frequently used chemicals.</p><p>Fracking fluid is pumped down into the well at high pressure and used to create, expand, and keep open the fissures created in the shale layer in order to allow the shale gas to be withdrawn from the well. Once the factures are initiated, the fracking fluid is retrieved. The proper disposal of fracking fluid remains an important environmental issue.</p><p>There are three processes that fracking wastewater can undergo. The most environmentally friendly is the first option, reusing the fracking fluid and treating the waste in a private treatment plant. As seen in Table 2, there are existing technologies to effectively treat or neutralize each component of fracking fluid. Waste still needs to be properly disposed even with this option. “The process cleans most of the water, but at least some smaller amount of fluid, or solid ‘cake,’ still needs to be disposed” (NPR 2014). This injection back into the ground is simiar to the second option: putting wastewater into a disposal well. This option involves injecting waste into a Class II disposal well (the type of well for fracking waste) and leaving it thousands of meters underground, commonly surrounded by sandstone or limestone. This option can have detrimental effects on the environment, and fracking fluid must be disposed of properly.</p><p>The treatment and renewal of fracking liquid waste are more important because some of these compounds are hazardous substances and known carcinogens, which can enter and pollute drinking water supplies from the well, well pad, or in the wastewater disposal process. Some of the listed additives are listed in Table 2 (FracFocus 2015a, b, c). Their adverse effects and removal strategies are discussed in the following.</p><p>Acetaldehyde, which is use as corrosion inhibitor, is considered a probable human carcinogen (Group B2) and has been shown to cause nasal tumors in rats and laryngeal tumors in hamsters (U.S. EPA 1997). Additionally, acetaldehyde cannot be effectively treated by traditional water-treatment processes, but was reported to be effectively removed by microbial degradation using biological activated carbon (BAC) filters (Chun-Lei et al. 2013).</p><p>Ethylene glycol is an organic solvent, and is a major constituent of antifreeze and coolant. It functions as a product stabilizer and/or winterizing agent in a fracking fluid mixture. Chronic exposure effects include kidney toxicity and liver damage. Several oral or inhalation exposure studies on rodents also showed that ethylene glycol is toxic to fetuses (U.S. EPA 1999). The EPA has not listed ethylene glycol as a controlled or priority substance, however. Ethylene glycol is reported to undergo aerobic and anaerobic biodegradation in water (Dwyer and Tiedje 1983); thus, ethylene glycol can be removed from the waste fracking fluid by biodegradation.</p><p>Another compound of interest is 2-Butoxyethanol, which functions as a product stabilizer in fracking. The EPA currently does not classify 2-Butoxyethanol for human carcinogenicity, but rather cautions against effects of acute and chronic exposures such as severe liver and kidney damage, testicular damage, reduced fertility, maternal toxicity, early embryonic death, birth defects, delayed development, and hematological disorders from inhalation and oral exposure (U.S. EPA 1984). Removal of 2-Butoxyethanol can be achieved with techniques like activated carbon filtration and ozone reaction.</p><p>Glutaraldehyde is a biocide with wide industrial applications. In fracking operations, it is used to eliminate bacteria in the water that produce corrosive by-products. Glutaraldehyde is acutely toxic to both aquatic and terrestrial organisms. Results from environmental partitioning indicated that glutaraldehyde is hydrophilic and tends to remain in the aquatic partition and is nonbioaccumulative (IPCS INCHEM 2005). Aqueous solutions of glutaraldehyde are stable at room temperature under acidic to neutral conditions, and stable in sunlight, but unstable at elevated temperatures and under alkaline conditions. Glutaraldehyde is biodegradable under both aerobic and anaerobic conditions (Leung 2001).</p><p>Ammonium persulfate is an inorganic salt that is highly soluble in water. It is a strong oxidizing agent, which is used in fracking liquid as a polymerization inhibitor to aid delayed break down of the gel. Ammonium persulfate is harmful to aquatic organisms (ILO-ICSC 2001). In human beings, it is reported to cause asthmatic effects (De Vooght et al. 2010). The substance can be absorbed into the body by inhalation in its aerosol form and by ingestion (ILO-ICSC 2001). Ammonium persulfate can be removed by neutralizing it with a base.</p><p><u>Tetramethyl ammonium chloride is used in fracking fluid as a clay stabilizer to prevent clays from swelling or shifting. Tetramethyl ammonium chloride is a nonvolatile quaternary ammonium salt, which exists in the cation form in the environment and generally adsorbs strongly to soils containing organic carbon and clay. It is reported to be toxic to microorganisms an also has a low bioaccumulative potential (TOXNET-HSDB 2012). It can be absorbed into the body by inhalation and by ingestion (CDC 2003). Above 300°C, tetramethyl ammonium chloride decomposes to produces ammonia, carbon monoxide, hydrogen chloride, and nitrogen oxides. It can also react with oxidants (ILO-ICSC 2003) and thus can be treated by oxidation.</p><p><strong>Regulations need to be implemented that require companies to extract as much fracking fluid from the well bore as they reasonably can and dispose of it in an environmentally acceptable manner. The ideal solution would be to treat as much of the fluid as possible, but this is more expensive</u></strong>. <u>One final consideration to consider when disposing of fracking fluid is to create a regulation that prevents overloading of disposal wells as this can cause other problems, primarily earthquakes and leaks.</p><p></u>The proper disposal of fracking fluid could lead to both environmental and economic benefits. If a technique for cheaply treating the wastewater is created, then only a minimal amount of fracking fluid will need to be disposed of and the rest can be reused in other fracking wells, leaving a smaller environmental footprint and allowing fracking companies to not have to acquire new fracking fluid. Additionally, <u>with proper regulation and enforcement, most of the issues associated with disposal wells should be mitigated.</p><p></u>To make fracking safe, both for the environment and any citizens in the area, <u><strong>the issue of proper disposal of waste products must be solved</strong>. All of the remaining fracking fluid should be treated or disposed of in a manner in accordance with regulations that should be put in place to prevent issues with disposal. This should diminish the issues related to the correct disposal of wastewater.</p><p></u>Several studies have revealed the use of toxic fracking fluids such as diesel and benzene (Davis 2012). In the Energy Policy Act of 2005 <u>the Halliburton loophole was added to the EPA’s Resource Conservation and Recovery</u> Act (<u><strong>RCRA</u></strong>), <u>which regulates hazardous and solid waste, exempting from oversight the waste from oil and gas exploration, development, and production.</p><p></u>Cost and Benefit Analysis</p><p>A cost and benefits analysis of hydraulic fracking and production of shale gas is required to complete the evaluation. This is essential as studies addressing total lifecycle costs are rare and previous reports have come to different conclusions on the cost and environmental benefits of shale gas compared to other alternatives. Stamford and Azapagic (2014) demonstrated that shale gas has a wide range of lifecycle environmental impacts (favorable and unfavorable) depending on the potential variation of different parameters. Laurenzi and Jersey (2013) reported that the carbon footprint of Marcellus gas 53% lower than coal, and the freshwater consumption is about 50% less than coal. Weber and Clavin (2012) also reported that the most likely upstream carbon footprints are largely similar for both shale and conventional gas production, with overlapping 95% uncertainty ranges of 11.0–21.0  g  CO2e/MJLHV and 12.4–19.5 g CO2e/MJLHV for shale and conventional gas, respectively. However, a complete cost benefit analysis of fracking considering environmental costs and benefits of issues discussed in this manuscript requires an in-depth analysis and is thus beyond the scope of the present work. A detailed study of the topic has been initiated for a future manuscript.</p><p>Regulations</p><p>The biggest issue with fracking is the lack of or minimal regulation. Th<u>e federal government is unable to regulate the industry because of the Halliburton loophole in the Energy Policy Act of 2005</u>; this clause excludes “underground injections of fluids or propping agents, other than diesel fuels, in hydraulic fracturing activities.” Hence, regulatory oversight falls to the state, but states have competing monetary interests. The result of these conflicts of interest is to reduce the motivation or incentive to regulate the industry. Regulatory bodies are urgently needed to control the fracking fluids used. Furthermore, regulatory procedures should be put in place to ensure safety, prevent contamination, and make the involved parties responsible for violations (Ince et al. 2013). <u>In the Energy Policy Act of 2005, the “Halliburton loophole” exempts fracking from the Safe Drinking Water Act because it was believed that fracking posed no risk to drinking water</u> (Manuel 2010). <u>The Clean Water Act and Clean Air Act encounter similar difficulties in enforcement</u>. Therefore, <u><strong>the EPA has little to no actual authority over this booming industry</strong>. Other regulatory agencies that have a role in the fracking include the Underground Injection Control Program (UICP), which regulates the pumping of fluids into wells, and the National Pollutant Discharge Elimination System (NPDES), which regulates runoff from waste pits and surface spills (EPA). Both of these groups set standards for acceptable practices regarding aspects of the fracking process. However, UICP has very little control over the well injections under the 2005 Energy Policy Act; hence, UIP can only regulate the disposal of the fracking fluids in underground waste wells (Ince et al. 2013).</p><p>The current lack of regulations and oversight for the chemicals and wastewater of fracking is the main source of controversy and <strong>leads to a lack of confidence</u></strong> on the part of some stakeholders, hindering the wider public acceptance of the process. <u>Regulation reform and proper oversight is urgently needed that should prioritize abatement of potential risks and to boost public confidence in the fracking process. The reform regulation should endeavor to embrace the concerns of all the stakeholders in an effort to provide social and economic benefits for the society.</p><p><strong>Summary and Conclusions</p><p></u></strong>Fracking, <u>the process of drilling deep down and injecting high-pressure water mixture to fracture rock to release trapped shale</u> gas, promises the potential of energy independence for the United States. It has presented an opportunity to generate electricity at half the CO2 emissions from coal. There are three major environmental issues identified with fracking, namely, leaking methane gas while fracking and during production, triggering of earthquakes due to fracking, and the disposal of the wastewater. A comprehensive literature search and a detailed analysis were performed to address the question of whether fracking be environmentally acceptable. It can be concluded that <u>if the following actions were taken</u>, <u><strong>then fracking could indeed be made environmentally acceptable.</p><p></u></strong>Earthquakes remain one of the most mysterious issues that has been associated with fracking, but there is no definitively proven direct link between earthquakes and hydraulic fracking. However, for the Marcella shale formation, earthquakes are not as pressing as other environmental concerns surrounding fracking due to the infrequent occurrence of earthquakes and the far less probability that such an earthquake occurs that could cause any damage. The vast majority of the earthquakes attributable to fracking are not powerful enough to be detected by humans without the aid of a sensor; however, a larger earthquake can occur infrequently with the potential to cause damage. With the current level of knowledge, <u><strong>the best precaution would be to prohibit underground injection of waste fluid</u></strong>. In addition, <u>a complete geological investigation should be performed to locate any active or dormant faults or abnormality in the ground before drilling</u>. Once it is confirmed that no such geological formations are found, the vertical wells should be located at least a mile away from any residential or commercial activities.</p><p>Based on shale gas seepage and diffusion calculations herein, it is virtually impossible for methane to contaminate the groundwater due to horizontal drilling. However, <u><strong>there is a possibility of shale gas release from a vertical</u></strong> well and it is proposed that <u><strong>any residential or commercial activities should be at least 1 km away from the vertical well</u></strong>. In addition, the vertical wells should be constructed with precautions to prevent methane gas leaks and a proper quality assurance and quality control procedure should be established during construction. Furthermore, the workers should be trained and properly supervised during construction. <u><strong>Methane monitors that could trigger alarms and locate </u></strong>leaks can be used in order to prevent losses during the transport and distribution.</p><p>To make fracking safe, the issue of <u><strong>proper disposal of waste products must be solved</strong>. Most fracking fluid should be extracted from the well bore and treated for reuse. The waste fracking fluid should be treated or disposed of in a manner in accordance with regulations</u> that should be put in place. The <u>proper disposal of waste fracking fluid could lead to both environmental and economic benefits. This should diminish the issues surrounding correct disposal of wastewater</u>. Finally, regulation and openness are major issues limiting stakeholder acceptance of the process. Therefore, regulation reformation is vital to ensure that all shareholder concerns are addressed in an effort to provide social and economic benefits for society as a whole.</p></div>\n",
              "<div style='padding: 10px; flex: 1 1 0; overflow: scroll;'><h4><u>North pole</u> energy dispute goes <u>nuclear</h4><p></u><strong>Klare 20</strong> (Michael T. Klare, professor emeritus of peace and world-security studies at Hampshire College and senior visiting fellow at the Arms Control Association in Washington, American military training exercises in northern Norway are escalating tensions with Russia, 2-11, https://www.thenation.com/article/world/nato-russia-norway/+&cd=1&hl=en&ct=clnk&gl=us<u>, y2k)</p><p></u>And that’s just the beginning. Unbeknownst to most Americans, <u>the <strong><mark>Finnmark </mark>region</u></strong> of Norway <u><mark>and</u></mark> adjacent <u><strong><mark>Russia</mark>n territory</u></strong> <u>have <mark>become</mark> one of</u> <u>the</u> most <u>likely <strong><mark>battlegrounds</u></strong> <u>for</u></mark> the <u><strong>first use</u></strong> <u>of <strong><mark>nuc</mark>lear <mark>weapons</u></strong></mark> in any future NATO-Russian conflict. Because <u><mark>Moscow</u></mark> has <u><mark>concentrated</mark> a</u> <u>significant part of</u> its <u>nuclear <strong>retaliatory</u></strong> <u><mark>capability on </mark>the <strong><mark>Kola </mark>Peninsula</u></strong>, a remote stretch of land abutting northern Norway—any US-NATO success in actual combat with Russian forces near that territory would endanger a significant part of Russia’s nuclear arsenal and so might precipitate the early use of such munitions. Even a simulated victory—the predictable result of Cold Response 2020—will undoubtedly set Russia’s nuclear controllers on edge. To appreciate just how risky any NATO-Russian clash in Norway’s far north would be, consider the region’s geography and the strategic factors that have led Russia to concentrate so much military power there. And all of this, by the way, will be playing out in the context of another existential danger: climate change. The melting of the Arctic ice cap and the accelerated exploitation of Arctic resources are lending this area ever greater strategic significance. <u><strong>ENERGY EXTRACTION IN <mark>THE</mark> FAR <mark>NORTH</mark> </u></strong>Look at any map of Europe and you’ll note that Scandinavia widens as it heads southward into the most heavily populated parts of Denmark, Finland, Norway, and Sweden. As you head north, however, it narrows and becomes ever less populated. At its extreme northern reaches, only a thin band of Norway juts east to touch Russia’s Kola Peninsula. <u>To the <strong>north</u></strong>, <u>the Barents Sea</u>, an offshoot of the Arctic Ocean, <u>bounds</u> them both. <u>This remote</u> <u>region</u>—approximately 800 miles from Oslo and 900 miles from Moscow—<u><mark>has</u></mark>, in recent years, <u><mark>become a <strong>vortex</u></strong> <u>of <strong>economic</u></strong> <u>and</u> <u><strong>military activity</u></strong></mark>. Once prized as a source of vital minerals, especially nickel, iron ore, and phosphates, this remote area is now the center of extensive oil and natural gas extraction. With temperatures rising in the Arctic twice as fast as anywhere else on the planet and sea ice retreating ever farther north every year, offshore fossil-fuel exploration has become increasingly viable. As a result, <u>large <mark>reserves of <strong></mark>oil</u></strong> <u>and</u> <u><strong>natural <mark>gas</u></strong></mark>—the very fuels whose combustion is responsible for those rising temperatures—<u>have been <strong><mark>discovered</u></strong></mark> beneath the Barents Sea <u>and</u> both <u><mark>countries </mark>are seeking to <strong><mark>exploit</u></strong></mark> those <u><strong><mark>deposits</u></strong></mark>. <u><strong>Norway</u></strong> <u>has taken the lead</u>, establishing at Hammerfest in Finnmark the world’s first plant above the Arctic Circle to export liquified natural gas. In a similar fashion, <u><strong>Russia</u></strong> <u>has initiated</u> <u>efforts to exploit the</u> mammoth <u>Shtokman gas field</u> in its sector of the Barents Sea, though it has yet to bring such plans to fruition. For Russia, even more significant oil and gas prospects lie further east in the Kara and Pechora Seas and on the Yamal Peninsula, a slender extension of Siberia. Its energy companies have, in fact, already begun producing oil at the Prirazlomnoye field in the Pechora Sea and the Novoportovskoye field on that peninsula (and natural gas there as well). Such fields hold great promise for Russia, which exhibits all the characteristics of a petro-state, but there’s one huge problem: The only practical way to get that output to market is via specially designed icebreaker-tankers sent through the Barents Sea past northern Norway. The exploitation of Arctic oil and gas resources and their transport to markets in Europe and Asia has become a major economic priority for Moscow as its hydrocarbon reserves below the Arctic Circle begin to dry up. Despite calls at home for greater economic diversity, President Vladimir Putin’s regime continues to insist on the centrality of hydrocarbon production to the country’s economic future. In that context, production in the Arctic has become an essential national objective, which, in turn, requires assured access to the Atlantic Ocean via the Barents Sea and Norway’s offshore waters. Think of that waterway as vital to Russia’s energy economy in the way the Strait of Hormuz, connecting the Persian Gulf to the Indian Ocean, is to the Saudis and other regional fossil-fuel producers. <u><strong>THE MILITARY DIMENSION </u></strong>No less than Russia’s giant energy firms, its navy must be able to enter the Atlantic via the Barents Sea and northern Norway. Aside from its Baltic and Black Sea ports, accessible to the Atlantic only via passageways easily obstructed by NATO, the sole Russian harbor with unfettered access to the Atlantic Ocean is at Murmansk on the Kola Peninsula. Not surprisingly then, that <u><mark>port </mark>is</u> also <u>the headquarters <mark>for Russia’s <strong>Northern Fleet</u></strong></mark>—<u>its most powerful</u>—<u>and the site of numerous</u> <u><strong>air</u></strong>, <u><strong>infantry</u></strong>, <u><strong>missile</u></strong>, <u>and</u> <u><strong>radar bases</u></strong> along with naval shipyards and nuclear reactors. In other words, <u>it’s among the most <strong>sensitive</strong> military regions in Russia today. </u>Given all this, President Putin has substantially rebuilt that very fleet, which fell into disrepair after the collapse of the Soviet Union, equipping it with some of the country’s most advanced warships. In 2018, according to The Military Balance, a publication of the International Institute for Strategic Studies, it already possessed the largest number of modern cruisers and destroyers (10) of any Russian fleet, along with 22 attack submarines and numerous support vessels. Also in the Murmansk area are dozens of advanced MiG fighter planes and a wide assortment of anti-aircraft defense systems. Finally, as 2019 ended, Russian military officials indicated for the first time that they had deployed to the Arctic the Kinzhal air-launched ballistic missile, a weapon capable of hypersonic velocities (more than five times the speed of sound), again presumably to a base in the Murmansk region just 125 miles from Norway’s Finnmark, the site of the upcoming NATO exercise. More significant yet is the way Moscow has been strengthening its nuclear forces in the region. Like the United States, Russia maintains a “triad” of nuclear delivery systems, including intercontinental ballistic missiles (ICBMs), long-range “heavy” bombers, and submarine-launched ballistic missiles (SLBMs). Under the terms of the New Strategic Arms Reduction Treaty (New START), signed by the two countries in 2010, the Russians can deploy no more than 700 delivery systems capable of carrying no more than 1,550 warheads. (That pact will, however, expire in February 2021 unless the two sides agree to an extension, which appears increasingly unlikely in the age of Trump.) According to the Arms Control Association, the Russians are currently believed to be deploying the warheads they are allowed under New START on 66 heavy bombers, 286 ICBMs, and 12 submarines with 160 SLBMs. Eight of those nuclear-armed subs are, in fact, assigned to the Northern Fleet, which means about 110 missiles with as many as 500 warheads—the exact numbers remain shrouded in secrecy—are deployed in the Murmansk area. For Russian nuclear strategists, such nuclear-armed submarines are considered the most “survivable” of the country’s retaliatory systems. In the event of a nuclear exchange with the United States, the country’s heavy bombers and ICBMs could prove relatively vulnerable to pre-emptive strikes as their locations are known and can be targeted by American bombs and missiles with near-pinpoint accuracy. Those subs, however, can leave Murmansk and disappear into the wide Atlantic Ocean at the onset of any crisis and so presumably remain hidden from US spying eyes. To do so, however, requires that they pass through the Barents Sea, avoiding the NATO forces lurking nearby. For Moscow, in other words, the very possibility of deterring a US nuclear strike hinges on its ability to defend its naval stronghold in Murmansk, while maneuvering its submarines past Norway’s Finnmark region. No wonder, then, that this area has assumed enormous strategic importance for Russian military planners—and the upcoming Cold Response 2020 is sure to prove challenging to them. WASHINGTON’S ARCTIC BUILDUP During the Cold War era, Washington viewed the Arctic as a significant strategic arena and constructed a string of military bases across the region. Their main aim: to intercept Soviet bombers and missiles crossing the North Pole on their way to targets in North America. After the Soviet Union imploded in 1991, Washington abandoned many of those bases. Now, however, with the Pentagon once again identifying “great power competition” with Russia and China as the defining characteristic of the present strategic environment, many of those bases are being reoccupied and new ones established. Once again, the Arctic is being viewed as a potential site of conflict with Russia and, as a result, US forces are being readied for possible combat there. Secretary of State Mike Pompeo was the first official to explain this new strategic outlook at the Arctic Forum in Finland last May. In his address, a kind of “Pompeo Doctrine,” he indicated that the United States was shifting from benign neglect of the region to aggressive involvement and militarization. “We’re entering a new age of strategic engagement in the Arctic,” he insisted, “complete with new threats to the Arctic and its real estate, and to all of our interests in that region.” To better protect those interests against Russia’s military buildup there, “we are fortifying America’s security and diplomatic presence in the area…hosting military exercises, strengthening our force presence, rebuilding our icebreaker fleet, expanding Coast Guard funding, and creating a new senior military post for Arctic Affairs inside of our own military.” The Pentagon has been unwilling to provide many details, but a close reading of the military press suggests that this activity has been particularly focused on northern Norway and adjacent waters. To begin with, the Marine Corps has established a permanent presence in that country, the first time foreign forces have been stationed there since German troops occupied it during World War II. A detachment of about 330 Marines were initially deployed near the port of Trondheim in 2017, presumably to help guard nearby caves that contain hundreds of US tanks and combat vehicles. Two years later, a similarly sized group was then dispatched to the Troms region above the Arctic Circle and far closer to the Russian border. From the Russian perspective, even more threatening is the construction of a US radar station on the Norwegian island of Vardø about 40 miles from the Kola Peninsula. To be operated in conjunction with the Norwegian intelligence service, the focus of the facility will evidently be to snoop on those Russian missile-carrying submarines, assumedly in order to target them and take them out in the earliest stages of any conflict. That Moscow fears just such an outcome is evident from the mock attack it staged on the Vardø facility in 2018, sending 11 Su-24 supersonic bombers on a direct path toward the island. (They turned aside at the last moment.) It has also moved a surface-to-surface missile battery to a spot just 40 miles from Vardø. In addition, in August 2018, the US Navy decided to reactivate the previously decommissioned Second Fleet in the North Atlantic. “A new Second Fleet increases our strategic flexibility to respond—from the Eastern Seaboard to the Barents Sea,” said Chief of Naval Operations John Richardson at the time. As last year ended, that fleet was declared fully operational. DECIPHERING COLD RESPONSE 2020 Exercise Cold Response 2020 must be viewed in the context of all these developments. Few details about the thinking behind the upcoming war games have been made public, but it’s not hard to imagine what at least part of the scenario might be like: a US-Russian clash of some sort leading to Russian attacks aimed at seizing that radar station at Vardø and Norway’s defense headquarters at Bodø on the country’s northwestern coast. The invading troops will be slowed but not stopped by Norwegian forces (and those US Marines stationed in the area), while thousands of reinforcements from NATO bases elsewhere in Europe begin to pour in. Eventually, of course, the tide will turn and the Russians will be forced back. No matter what the official scenario is like, however, for Pentagon planners the situation will go far beyond this. Any <u><strong><mark>Russian</u></strong> <u>assault</mark> on critical Norwegian military facilities would</u> presumably <u>be <mark>preceded by</mark> intense <strong>air</u></strong> <u>and</u> <u><strong>missile bombardment</u></strong> <u>and</u> <u><strong>the <mark>forward deployment of</mark> major naval <mark>vessels</u></strong></mark>. <u>This</u>, in turn, <u>would prompt <strong>comparable moves</u></strong> <u>by</u> the United States and <u>NATO</u>, probably <u><mark>result</mark>ing</u> <u><mark>in</u> <u><strong>violent encounters</u></strong></mark> <u>and the loss of <strong>major assets</strong> on all sides</u>. In the process, <u>Russia’s key nuclear</u> <u><strong><mark>retaliatory forces</u></strong> <u></mark>would be at risk and</u> quickly <u><strong><mark>placed on high alert</u></strong></mark> with senior officers operating <u>in <strong><mark>hair-trigger</strong> </mark>mode</u>. Any <u><strong><mark>misstep</u></strong></mark> <u>might</u> then <u><mark>lead to</u></mark> what humanity has feared since August 1945: <u><strong><mark>a nuclear apocalypse</u></strong></mark> on Planet Earth.</p></div>\n",
              "<div style='padding: 10px; flex: 1 1 0; overflow: scroll;'><h4><u>Energy insecurity</u> causes <u>WW3</u>. Independently causes broad <u>naval</u> modernization and <u>North Pole energy disputes</u>.</h4><p><strong>Hongtu Zhao, a research professor at Institute of World Economic Studies, writes in 2019</strong> (Hongtu Zhao, a research professor at Institute of World Economic Studies, Zhao, H. “Resource War.” The Economics and Politics of China’s Energy Security Transition, 29–45. doi:10.1016/b978-0-12-815152-5.00002-6, y2k)</p><p><u>In human</u> <u><strong>history</u></strong>, <u>there were <strong><mark>many conflicts</u></strong></mark> even wars <u><mark>related to <strong>resources</u></strong></mark>. <u>Since the beginning of the 21st century</u>, <u>the world has entered <mark>a</mark> new</u> <u><mark>round</mark> <mark>of <strong></mark>resource <mark>demand</u></strong> <u>and </mark>a <strong>new cycle</u></strong> <u>of <mark>price rise</u></mark>, <u>which</u> has <u><mark>plunged the <strong></mark>international <mark>community</strong> into</mark> the strongest sense of “<strong><mark>insecurity” of</mark> <mark>resources</u></strong></mark> <u>since the <strong><mark>oil crisis in</strong> the <strong>1970s</u></strong></mark> [1]. In addition, <u>the</u> contradictions and <u><strong><mark>disputes</u></strong></mark> <u>among</u> some <u>countries</u> have <u><mark>caused</mark> the</u> <u><strong>international <mark>community</u></strong></mark> <u><mark>to</mark> increasingly <strong><mark>worry</u></strong> <u>about</mark> <strong><mark>international</mark> conflicts</u></strong> <u>and</u> even <u><strong><mark>wars</u></strong></mark>, and some even feel worried that <u>oil shortage may lead</u> <u>to the third <strong>world war</u></strong>. Some analysts believe that following antiterrorism war, there will be energy or resource wars in the coming decades. In December 2010, Tom Shankar from the United States published an article in New York Times stating that the increasingly scarce natural resources and increasingly frequent natural disasters will be the cause of potential conflicts in the 21st century [2]. In October 2000, Michael T. Klare, an American global security expert, published the book Resource Wars: The New Landscape of Global Conflict, arguing that the <u><strong>political rivalry</u></strong> during the cold war <u>is</u> gradually <u>moving to the fight among <strong>nations</u></strong> <u>for</u> essential materials such as <u><strong>oil</u></strong>, forest, minerals, and water. He predicts that in the first decade of the 21st century, <u><strong>lack of resources</u></strong> <u>will be the <strong>root cause</u></strong> <u>of conflicts</u> among nations. <u>Future wars will</u> not <u>break out</u> due to ideology but <u>for <strong>securing</u></strong> the most valuable and <u>diminishing <strong>supply</u></strong> <u>of natural resources</u>. The translator of the Chinese version of this book also points out that most of the future wars will break out around the possession and control of resources. In the same year, Michael Economides published the book The Color of Oil: The History, the Money and the Politics of the World’s Biggest Business, pointing out that the color of oil is red, as red as the blood of the millions of people killed in the two world wars and many other conflicts in the 20th century, and the core reason for wars and conflicts is to get oil. In the 20th century, oil becomes the world’s master, and when oil was scarce, wars broke out. <u>The search for <mark>oil</mark> <mark>became</mark> the <mark>purpose of <strong>war</u></strong></mark>. The importance of resources and oil made the Anglo-Saxons win the First World War. During the Second World War, Axis and Allies took control and anti-control on oil fields and transportation lines, and oil fields and tankers became the target of mutual attacks. In Asia, Japan launched all attacks on Indonesia and Southeast Asia for the purpose of oil. The Gulf War, which was caused by Iraq’s invasion of Kuwait, was taken as an example that the United States took actions to safeguard the stability of oil economy [3]. In 2005, Andy Stern published the book Who Won the Oil Wars, emphasizing that oil demand is growing rapidly, while oil supply was dwindling, and when there was a contradiction between oil demand and supply, the frequency of oil wars was accelerating and violence is escalating. In the 20th century, <u>governments</u> of different countries <u>realized that <mark>without oil</mark>, <mark>they would</mark> have to <mark>change</mark> their <mark>ways of life</mark> and their economies would collapse, and as a result</u>, <u>they would not be able to <strong>defend</u></strong> their <u>countries</u>. The world would become so dependent on oil that oil demand would certainly exceed the supply, and countries would eventually go to war to ensure their own supply of oil [4]. In 2006, Tonnesson, the director of the Norwegian International Peace Research Institute, told the press that <u><strong><mark>energy conflicts</u></strong> <u></mark>could <mark>trigger </mark>the <strong><mark>Third World War</u></strong></mark>. He pointed out traditional wars between countries were often for territory, but now it might be for water resources, not excluding religious problems. <u>The most likely trigger for the Third World War in the future was energy, especially the <strong>fight for oil</u></strong>. <u>The <strong><mark>disputes</strong></mark> over oil-producing regions could <mark>trigger a</mark> new war or <mark>conflict</mark> in the future, <mark>even in</mark>cluding <mark>the</mark> seemingly <strong>peaceful <mark>North Pole</u></strong></mark> [5]. Matt Simmons, the main advocate of contemporary Oil Peak, also warned that oil shortages could trigger wars. In 2009, Stephen Leeb et al., emphasized in the book Game Over: How You Can Prosper in a Shattered Economy that <u>as global <strong>commodity competition</strong> intensifies, both <strong><mark>countries</strong> and</mark> <strong>regional <mark>separatist organizations</u></strong></mark> <u>tended to <mark>take</mark> <strong>violence</u></strong> <u>and</u> <u><strong>military <mark>action</u></strong> <u>to protect</u></mark> their own <u><strong><mark>resources</strong></mark> or to grab other countries’ resources</u>, and the United States must expand military expenditure in the future. The authors also pointed out that there were many examples that countries fought for resources, such as the US’s invasion of Iraq. They believed that in 2008, Russia invaded Georgia to scramble for energy supplies, which was essentially a resource war. In addition to energy and mineral resources, people have also paid great attention to the conflicts that may be caused by water crisis. As early as 1995, Ismail Serageldin, then the World Bank’s deputy governor, said that the wars in the next century would not for oil, but for water. In 2006, John Reid, the British Defense Minister at that time warned that the possibility of armed and political conflicts was growing as the increasingly desertified water sources, glacier melting, reservoir pollution, and so on. French Defense Minister Michel Allio-Marie (Miche`le ALLIOTMARIE) said that the future wars will result from water resources, energy, and possibly food. Hans van Ginkel, the former President of United Nations University, also pointed out that the international and domestic wars caused by water resources would be the main content of political life in the 21st century. In 2007, Ban Ki-moon, the UN Secretary General, warned that “water scarcity... is a potent fuel to wars and conflicts” [6]. In April 2007, the US Marine Research Center submitted a report to the president that dwindling water resources was a serious threat to national security, and some retired navy and army generals reminded the president that the United States would be involved in a series of brutal water wars. A report from Davos annual meeting in 2010 in Switzerland suggested that the Earth would face “water bankruptcy” and like oil, when water resources became scarce, the threat of conflict among nations would become more realistic. John R. Block, ex-minister of the US Department of Agriculture, writes in the book Water War that in international laws, there are no clear rules devised for the distribution and utilization of international rivers. So in the case of shortage of water resources, conflicts could hardly be avoided due to the discord towards water between countries [7]. At the same time, books and literature with the titles such as resource wars, energy wars, oil wars, and food wars had been widely published. Books written by Chinese writers with those similar titles are as follows, War for Oil, Oil Resource War, New Energy War, Mystery of Resource War, Big Combat: The Oil War of the Century, Energy Game War, Energy War, and so on. There are more than one book titled with Energy War. In the translated books in China, some contains the word “war” in the source text, such as Michael T. Claire’s Resource Wars: The New Landscape of Global Conflict mentioned earlier, Andorra’s Oil War (formerly entitled A Century of War: Anglo-American Oil Politics and the New World Order), some of which have been modified by translators or publishers considering marketing strategies, such as John Garginian’s book, which was translated into Energy War instead of the literal translation of Untapped: The Scramble for Africa’s Oil. On the cover of the Chinese edition of Jeremy Leggett’s Half Gone, it shows that energy is the lifeblood of the world economy and 21st century will be an era of energy wars. The book Energy Game War points out that the conflicts and wars in the world for competing for oil resources broke out one after another. <u>In modern history, <strong>countless</strong> wars were launched for oil</u>. <u>In the history of world wars <mark>over </mark>the</u> <u><strong>past <mark>100 years</u></strong></mark>, <u><mark>wars </mark>fighting <mark>for <strong>oil</strong> were <strong>prevalent</strong></mark> now and then</u>. <u>From the <strong>two <mark>world wars</u></strong> <u>to</mark> a series of <strong><mark>local</strong> wars</u></mark>, <u>they <mark>were </mark>all <strong><mark>related</strong></mark> <mark>to <strong>oil</u></strong></mark>. In recent years, oil consumption continued to grow rapidly, yet oil reserves were found to be poor, so fears about the world’s imminent peak of oil was growing. <u>As a result, the tendency to fighting between countries over the existing oil resources had been <strong><mark>intensifying</u></strong></mark>. As the oil price rose and oil supplies dwindled, <u><strong><mark>regional tensions</u></strong></mark> seemed more likely to <u>evolve into wars.</u> Oil demand was growing rapidly, while oil supply was declining. When there was a contradiction between oil demand and supply, it was found that the frequency of oil wars continued to increase and violence continued to escalate. The US National Intelligence Council reports in Global Trends 2025 that conflicts around resource issues might reappear. <u>The <strong><mark>perception of energy</mark> <mark>scarcity</u></strong> <u></mark>would <mark>drive</mark> countries to take actions to ensure that they could get energy supplies in the <strong>future</u></strong>. <u>At worst</u>, <u>this could lead to <mark>conflicts</mark> between nations</u>. <u><strong>Even if</u></strong> <u>limited actions were taken <strong>without</strong> starting wars</u>, <u>geopolitical <mark>consequences </mark>would be <strong><mark>significant</u></strong></mark>. <u>Concerns about <strong><mark>maritime safety</u></strong></mark> <u><mark>provided</u></mark> ample <u><mark>justification for</u></mark> efforts to expand <u><strong><mark>naval</u></strong></mark> and <u><strong><mark>modernization</u></strong></mark>. <u>The capacity to build the regional <mark>navies</mark> could <mark>lead to</mark> increased <strong>tensions</u></strong>, <u><strong>mutual <mark>confrontation</u></strong></mark>, <u>and</u> <u><strong>restrictive measures</u></strong>. The report stressed that, as water in Asia and the Middle East became increasingly scarce, <u><strong><mark>coop</strong></mark>eration <mark>in </mark>managing <strong><mark>water resources</u></strong></mark> <u>was</u> likely <u>to <mark>become</mark> <strong>more <mark>difficult</u></strong></mark> within countries and between countries.</p></div>\n",
              "<div style='padding: 10px; flex: 1 1 0; overflow: scroll;'><h4>Fracking is <u>increasing</u> now and <u>contaminates</u> water</h4><p>Dr. Britt <strong>Erickson 19</strong>, PhD in environmental chemistry from the University of Maryland and Senior Editor at C&EN, 11/17/2019, “Wastewater from fracking: Growing disposal challenge or untapped resource?” Chemical & Engineering News, 97(45), https://cen.acs.org/environment/water/Wastewater-fracking-Growing-disposal-challenge/97/i45, pacc </p><p><u><strong>Natural gas production</strong> in the US is at <strong>an <mark>all-time high</u></strong></mark>, according to the latest reports from the US Energy Information Administration. But the dramatic growth <u><mark>of</u></mark> shale gas over the past decade, made possible by hydraulic fracturing, or <u><strong><mark>fracking</u></strong></mark>, has led to huge volumes of salty wastewater called brine or produced water.</p><p>As the <u>fracking</u> industry improves its efficiency by drilling ever-longer horizontal wells, it also increases the amount of water it uses to fracture the rock to release the gas. The fracturing process <u><mark>uses</u></mark> on average about 45 million L of <u><mark>water</u></mark> for a single horizontal well, according to the Groundwater Protection Council (GWPC), a group of state oil and gas regulators and environmental protection agencies.</p><p>Water pumped into fracking wells doesn’t all stay in the ground. Much of it comes back up along with extracted gas. <u>The water</u> that comes up <u><mark>has</u></mark> a much different chemistry than the water that goes down. Produced water typically includes salts from dissolution of the underlying rock, naturally occurring radioactive substances, and <u><strong><mark>chemicals added</strong></mark> during</u> the drilling and <u>fracking</u> process.</p><p>It is unclear exactly how much produced water the fracking industry generates. It is also difficult to characterize the chemical composition of produced water because many of the chemicals used by the fracking industry are proprietary, and the geology of natural gas formations varies widely across the US.</p><p>The GWPC estimates that the US oil and gas industry generates approximately 3,400 billion L of produced water each year. That number is based on data from nearly 1 million oil and gas wells, which are increasingly hard to tease apart because many wells extract both oil and gas. <u>The</u> US <u><strong><mark>E</u></strong></mark>nvironmental <u><strong><mark>P</u></strong></mark>rotection <u><strong><mark>A</u></strong></mark>gency <u><mark>predicts</u></mark> that volumes of produced <u><mark>water</mark> from</u> the <u>fracking</u> industry <u><strong><mark>will</u></strong></mark> continue to <u><strong><mark>increase</strong> as</mark> <strong>natural gas <mark>production</strong> rises</u></mark>.</p></div></div>"
            ],
            "text/plain": [
              "<IPython.core.display.HTML object>"
            ]
          },
          "metadata": {},
          "output_type": "display_data"
        },
        {
          "data": {
            "text/plain": [
              "1652     0.030230\n",
              "2563     0.029733\n",
              "4058     0.026708\n",
              "381      0.025906\n",
              "10863    0.024082\n",
              "           ...   \n",
              "49877    0.000002\n",
              "49850    0.000002\n",
              "47966    0.000002\n",
              "46942    0.000002\n",
              "87569    0.000002\n",
              "Length: 6042, dtype: float64"
            ]
          },
          "execution_count": 46,
          "metadata": {},
          "output_type": "execute_result"
        }
      ],
      "source": [
        "adjacent = getAdjacent([frI], iters=2)\n",
        "showBucketSeries(adjacent, indexes=range(7))\n",
        "adjacent"
      ]
    },
    {
      "cell_type": "code",
      "execution_count": null,
      "metadata": {
        "colab": {
          "base_uri": "https://localhost:8080/",
          "height": 1000
        },
        "id": "kBtk6zv-ul9W",
        "outputId": "8864bc00-4ea2-45bf-a1b6-f69808de89bb"
      },
      "outputs": [
        {
          "data": {
            "text/html": [
              "<div style='display: flex; height: 1000px'><div style='padding: 10px; flex: 1 1 0; overflow: scroll;'><h4>B — <u>Regulatory compliance</u> and <u>enforcement</u> are worse.</h4><p><strong>Teodoro et al. 16</strong> — associate professor, Texas A&M University. His research lies at the intersection of public policy, politics, and public administration, with a substantive emphasis on water management and environmental protection in the United States.; Other Contributors: Mellie Haider, David Switzer. (Manuel; Published: 2016; “U.S. Environmental Policy Implementation on Tribal Lands: Trust, Neglect, and Justice”; Policy Studies Journal, Volume 00, No. 00; Accessed: June 28, 2021; https://doi.org/10.1111/psj.12187)//CYang</p><p>Although existing public policy research offers little evidence about the implementation of environmental regulation on tribal lands specifically, the <u>literature on environmental policy implementation provides <strong><mark>strong theoretical reasons</strong> to expect that <strong>regulatory compliance</strong> is worse</mark> and enforcement <strong>less rigorous</strong> <mark>under tribal government</u></mark>, compared with nontribal facilities. Both <u>logics are rooted in</u> an <u>understanding of government regulators as</u> strategic <u><strong>political actors</u></strong> who weigh the costs and benefits of enforcement when making implementation decisions.</p></div>\n",
              "<div style='padding: 10px; flex: 1 1 0; overflow: scroll;'><h4>1 – Tribal facilities receive few inspections than nontribal facilities </h4><p><strong>Teodoro et al. 16</strong> — associate professor, Texas A&M University. His research lies at the intersection of public policy, politics, and public administration, with a substantive emphasis on water management and environmental protection in the United States.; Other Contributors: Mellie Haider, David Switzer. (Manuel; Published: 2016; “U.S. Environmental Policy Implementation on Tribal Lands: Trust, Neglect, and Justice”; Policy Studies Journal, Volume 00, No. 00; Accessed: June 28, 2021; [graphic omitted] https://doi.org/10.1111/psj.12187)//CYang</p><p>Clean Water Act. Table 3 shows our estimates of <u>CWA <mark>enforcement</u></mark> (i.e., inspections), which strongly affirm hypothesis 1. The <u><mark>negative coefficient</u></mark> on tribal facilities <u><mark>was <strong>strong</strong> </mark>and <strong>significant</u></strong>, and <u>indicates</u> that <u><mark>tribal facilities received</u></mark> approximately <u>1.9 <mark>fewer inspections</mark> than nontribal facilities</u> — approximately <u><strong>44 percent</strong> fewer inspections than nontribal facilities over the <strong>five-year period</strong> of analysis</u> (with other variables at their means).</p><p>The results from our model of CWA compliance are shown in Table 4. Differences in observed compliance between tribal and nontribal facilities may occur for two reasons: (1) actual differences in compliance and/or (2) differences in detected compliance. Since inspections are the principal means by which noncompliance is detected and tribal facilities receive significantly fewer inspections, it is reasonable to surmise that fewer violations will be detected in tribal facilities in part because they are inspected less frequently, even if they are actually in compliance more frequently. Our zero-inflated negative binomial model of quarters in noncompliance accounts for the two reasons there may be zero counts with these compliance data. The zero inflation coefficient for inspections in Table 4 is negative and statistically significant, affirming our approach: the (log) odds of an “excess zero” in noncompliance count decreases by 0.19 for every additional facility inspection. In other words, more inspections increase the likelihood that a facility showing no quarters in noncompliance was truly due to facility compliance and not because violations went undetected.</p><p>The main results from our model of CWA compliance are shown in the “count model” columns of Table 4, which predict the number of quarters in noncompliance for facilities. Our estimates are consistent with hypothesis 2: tribal facilities experience over one additional quarter in noncompliance compared to nontribal facilities. That is, all else equal, tribal facilities that violate the CWA experience 23 percent more quarters in noncompliance than their nontribal counterparts.</p><p>The <u><mark>results</u></mark> with respect to the control variables <u><mark>are</mark> <strong>generally <mark>consistent</strong> with</u></mark> most <u>environmental justice <mark>hypotheses</mark>.</u> As expected, there were <u><strong><mark>fewer inspections</strong> and <strong>significantly higher violations</strong> in</mark> <mark>communities with</u></mark> a <u>higher percentage of <mark>minorities</u></mark>. Surprisingly, while income was a significant predictor of inspections, the relationship was negatively correlated. Controls for Total Design Flow and Major/ Minor Status were significantly associated with both inspections and quarters in noncompliance; these findings were robust across both models. Educational attainment was not a significant predictor of enforcement or compliance.</p></div>\n",
              "<div style='padding: 10px; flex: 1 1 0; overflow: scroll;'><h4>The plan places tribal governments in the driver’s seat – key to enforcement and compliance, and <u>solves upstream polluters</u> since EPA backing ensures tribal standards must be followed by non-tribal neighbors.  Increased funding hedges against challenges by neighboring states by broadening tribal sovereignty.</h4><p><strong>Haider and Teodoro 20</strong> [Mellie, doctoral student in the Department of Political Science at Texas A&M University. Her research lies at the intersection of environmental politics and policy, with a substantive interest in Native American governance and sovereignty. Manuel, professor of political science, Texas A&M University. His research sits at the intersection of public policy, politics, and public administration, with a substantive emphasis on water management and environmental protection in the United States., “Environmental Federalism in Indian Country: Sovereignty, Primacy, and Environmental Protection,” Policy Studies Journal, 29 May 2020, https://onlinelibrary.wiley.com/doi/full/10.1111/psj.12395//ak47]</p><p>Tribes in the Driver’s Seat We argue that <u><strong><mark>securing primacy is a political act</u></strong></mark>, and that <u><mark>tribal primacy leads to more rigorous environmental enforcement </mark>because it <mark>reflects </mark>a<mark> tribal government’s capacity </mark>and will to improve environmental conditions, for both human health and cultural/ceremonial purposes</u> (Galloway, 1995)<u>. Prior to the Reagan-era government-to-government self-rule/self-determination policy, American Indians were subjected to uniform policies and direct administration by federal agencies. What little self-rule there was prior to the 1980s typically took the form of post-policy decisions made in Washington and under the control of federal agencies tasked with administering life on reservations, under policies and programs uniformly applied across all tribes.</p><p><mark>Cornell and Kalt</u></mark> (2010) <u><mark>point to <strong>major changes in federal policy toward self-government</strong></mark> in the 1980s <mark>as</u> <u><strong>the “central causal factor”</strong> explaining improved conditions across several policy dimensions among many tribes</u></mark> (p. 11)<u>. In case after case, <mark>tribal performance improves among tribes that effectively assert legal sovereignty </mark>and recover decision-making authority from the federal government.</u> The authors reason that <u><strong><mark>empowering tribal officials tightens the link between policy decisions and their consequences</mark>.</u></strong> <u>Meanwhile, <mark>tribes that have not taken over </mark>programmatic and <mark>policy implementation are “uniformly marked with <strong>little to no signs of development progress</strong></mark>”</u> (Cornell & Kalt, 2010, p. 11). <u><strong><mark>Tribal authorities have greater incentive </mark>than distant federal bureaucrats</strong><mark> to improve</mark> the<mark> environments </mark>of their respective reservation<mark>s since they </mark>and their neighbors <mark>bear the costs and benefits</mark> of their efforts directly.</p><p></u>Health-care service provides a notable example of systematic improvement under tribal control. The National Indian Health Board found that measures of patient satisfaction “improve markedly under tribal assumption of management responsibilities” relative to federal management by the Indian Health Service (“IHS”; Cornell and Kalt, 2010, p. 15). Tribes still served by the IHS reported being less satisfied with the quality of care received, while the prioritization of preventative programs, and total payments collected from third parties were higher among programs managed directly by tribes (Cornell & Kalt, 2010; Dixon, Shelton, Roubideaux, Mather, & Mala, 1998). Krepps and Caves (1994) find that <u><mark>tribal authorities manage</mark> forest <mark>resources</mark> on tribal lands <mark>more effectively than</mark> does <mark>the U.S.</mark> Forest Service,</u> arguing that <u>tribal administrators receive some share of the collective benefits passing to the tribe, and so are incentivized to maximize performance.</p><p></u>In a similar vein, Zaferatos’s (2015) case studies of <u>tribal environmental protection link the development of capacity for environmental regulation to sovereignty claims and the broader American Indian movement for political empowerment.</u> Describing the process of establishing primacy for the Swinomish Tribe in Washington State, Zaferatos (2015) argued that:</p><p><u>From the Swinomish perspective, reservation homeland security required the removal of environmental threats from the reservation pursuant to its own established policies, which recognize a sacred obligation to care for and minister to the lands and resources of the reservation and to ensure a homeland that does not pose a risk to human health and to the environment.</u> (p. 282)</p><p>If Zaferatos (2015) is correct, <u><mark>tribal primacy </mark>is <mark>likely to bring </mark>more rigorous <mark>environmental enforcement, as tribes seek to improve </mark>health and development <mark>while maintaining their traditions and cultural values</u></mark> (see also Diver et al., 2019).</p><p>Particularly relevant to the present study, case studies of <u>water quality disputes between tribes and state and local governments offer more reasons to expect stronger enforcement under tribal primacy. In the early 1980s, while administering parts of its environmental program, the State of New Mexico exempted from its water quality regulations a stretch of the San Juan River which flowed through several mining and industrial areas, and then into waters of the Acoma and Isleta Pueblos</u> (Monette, 1996)<u>. In response to the state's negligence, the Tribes lobbied Congress to authorize the EPA to treat \"Tribes as states\" so that tribes could administer their own water quality programs and in turn protect their resources</u> (Monette, 1996)<u>.</u> Monette (1996) posits that “<u><mark>to tribes, being treated as states meant at least being treated fairly</u></mark>” (p. 114)<u>.</p><p><mark>The Acoma and Isleta Pueblos of New Mexico set water quality standards </mark>more stringent than federal standards<mark> after gaining CWA primacy.</mark> <strong><mark>Lying upstream, the City of Albuquerque was required to upgrade its sewage system</strong></mark> in order <mark>to comply </mark>with the downstream tribal standards. Albuquerque responded by filing suit against the EPA for approving the more stringent tribal standards</u> (Saunders, 2010)<u>. In this example, <strong><mark>tribal primacy allowed tribal authorities to surpass federal standards</strong></mark> in order to help protect tribal waters from upstream polluters.</u> Similarly, the Confederated Salish and Kootenai Tribes suffered water quality problems due to municipal and state-owned facilities located within the reservation’s boundaries. The tribe sought and was granted primacy, in part, to “restore those [waters] that have been degraded” (EPA, 2006). The State of Montana and the other municipal entities challenged the grant of primacy authority (Cutler, 1999), but the court upheld tribal authority because the “activities of the non-members posed such serious and substantial threats to Tribal health and welfare” (Saunders, 2010, p. 544). In each of these cases, <u><mark>tribal primacy was both an assertion of sovereignty and a practical effort to influence the use of a natural resource</mark> in conflict with neighboring non-tribal governments</u> (see also Evans, 2011)<u>.</p><p></u>Taken together, case evidence and theoretical treatments of tribal governance indicate that <u><strong>when tribes are in the driver’s seat—that is, have direct authority over reservation matters—they have greater incentive than federal agencies to preserve and protect the integrity of reservation resources.</u></strong> Empirical evaluation across large numbers of tribes and tribal facilities has not followed these studies, and so systematic research on the effects of primacy remains limited to states. The analysis that follows thus evaluates a tribal “driver’s seat” hypothesis: <u>tribal facilities regulated under tribal primacy will receive more rigorous enforcement than those regulated directly by the EPA. Moreover, we expect the differences between tribal administration and EPA administration to be greatest</u> for smaller facilities serving smaller populations since smaller facilities <u>in more isolated areas</u> are <u>most likely to be neglected by federal administrators</u> <u>due to the practical costs involved in regulating them</u> (Hanford & Sokolow, 1987)<u>. Such neglect of small facilities is less likely under tribal primacy.</p></u></div>\n",
              "<div style='padding: 10px; flex: 1 1 0; overflow: scroll;'><h4><strong>Rate decoupling conserves water in private utilities </h4><p>Teodoro, 18</strong> --- Manny Teodoro, associate professor at the La Follette School of Public Affairs at the University of Wisconsin-Madison [July 30, 2018 , “Right on the money”, https://mannyteodoro.com/?p=520, AB)</p><p>In 2015 the California State Water Resources Control Board (SWRCB) ordered drinking water utilities to reduce water usage by 25% statewide. As I reported in an earlier post, something surprising happened: <u><strong>compared with local governments, the state’s <mark>private, investor-owned utilities imposed stricter water use regulations, were nearly twice as likely to comply with the state mandate</mark>, and conserved significantly more water overall. </u></strong>My last post traced this disparity to differences in the institutions that govern water rates in California and the <strong>conservation incentives that those institutions create. </strong>In June 2016 the state declared an end to the drought emergency and lifted the mandatory conservation rules, and allowed utilities to set their own conservation targets. Somewhat to the state’s chagrin, 84% of utilities–including nearly all of the state’s private utilities–responded by setting their conservation targets at zero (so much for self-regulation!). Still, conservation has continued, with the state’s utilities still using far less water on average than they did before the drought. But curiously, the <u><strong><mark>public-private conservation disparity has persisted well after the state mandate ended and most conservation targets dropped to zero</mark>. </u></strong>Enduring differences Even after the state lifted the rules in June 2016, <u><mark>private utilities continued to impose stricter irrigation restrictions on average compared with public utilities</mark>.</u> Through February 2017, public utilities allowed an average of about one more day per week relative to private utilities. In the spring of 2017 the gap began to narrow. In June 2017 the relationship switched: since then, <u>public utilities have been imposed tougher irrigation restrictions. </u>The cause of that switch isn’t clear, and we haven’t really looked into it. Data source: California State Water Resources Control Board But the really surprising thing is the persistent disparity in overall conservation. This graph plots average conservation (relative to the same month in 2013) for public and private utilities from June 2016 through the end of calendar 2017: Data source: California State Water Resources Control Board As you can see, <u>overall conservation declined for public and private alike as drought conditions eased.</u> But the really interesting thing here <u>is the consistent difference between public and private sector</u>s: except for February through May 2017, <u>private utilities conserved about 2-3% more on average than public utilities. </u>While the difference doesn’t seem like much in percentage terms, in a state as large as California, a few percentage points can be enormous in absolute volumes of water. <u>Had public utilities saved at the same rate as private utilities over that period of time, the difference would have been about 52 billion gallons</u>—more water than San Francisco uses in two years. Regression analysis in my forthcoming article coauthored with Youlang Zhang and David Switzer confirms what the graph implies: after accounting for demographics, population density, climatic conditions, source water, and other variables, we find that <u>California’s private utilities out-conserved public utilities in the post-mandate period by a statistically significant average of 2.7%. </u>Decoupling is a hell of a drug This consistent public-private difference lends greater weight to the idea that <u><strong><mark>rate decoupling facilitates water conservation for private utilities, and that political constraints hamper public sector conservation</u></strong></mark>. If 2018 holds to form, public and private conservation will converge in the spring and diverge again in the summer and autumn. Look for an update here in early 2019 when full 2018 data are available.</p></div>\n",
              "<div style='padding: 10px; flex: 1 1 0; overflow: scroll;'><h4>Gov can regulate itself – duh </h4><p><strong>Teodoro & Konisky 15</strong> [Manuel P. Teodoro, Associate Professor of Public Affairs, David M. Konisky, Associate Professor in the School of Public and Environmental Affairs, “Environmental Regulation: Can government regulate itself?”, https://oaktrust.library.tamu.edu/handle/1969.1/156046, 2015, imp]</p><p>Leading theories of regulation assume that governments regulate profit-maximizing firms: governments set rules, to which firms respond rationally in ways that constrain their behavior. However, <u><mark>often</mark> the entities that <mark>governments regulate</mark> are other <mark>government agencies</u></mark>, which face very different compliance costs. <u>US <mark>environmental policy provides</mark> an ideal <mark>example</u></mark> to illustrate differences in public and private regulation outcomes because public agencies and private firms provide similar services, confront similar regulatory obligations, and are sufficiently numerous to provide statistical traction. <u>The <mark>authors studied</mark> two prominent US environmental programs, the Clean Air Act (<mark>CAA</mark>) <mark>and</mark> the Safe Drinking Water Act (<mark>SDWA</u></mark>), and found evidence that <u>publicly-owned facilities are more likely than similar privately-owned facilities to violate regulatory requirements</u> under the CAA and SDWA.</p></div></div>"
            ],
            "text/plain": [
              "<IPython.core.display.HTML object>"
            ]
          },
          "metadata": {},
          "output_type": "display_data"
        },
        {
          "data": {
            "text/plain": [
              "bucketId\n",
              "293018.0    7\n",
              "293039.0    2\n",
              "293620.0    2\n",
              "305993.0    1\n",
              "447073.0    1\n",
              "308150.0    1\n",
              "307959.0    1\n",
              "307892.0    1\n",
              "306729.0    1\n",
              "306072.0    1\n",
              "305986.0    1\n",
              "293025.0    1\n",
              "305981.0    1\n",
              "293081.0    1\n",
              "293075.0    1\n",
              "293034.0    1\n",
              "293029.0    1\n",
              "447624.0    1\n",
              "dtype: int64"
            ]
          },
          "execution_count": 38,
          "metadata": {},
          "output_type": "execute_result"
        }
      ],
      "source": [
        "teBuckets = (evClean[evClean['cite'].str.contains('teodoro', case=False)]).groupby('bucketId').size().sort_values(ascending=False)\n",
        "teBIndex = teBuckets.index[1]\n",
        "teI = bucketIndexes[teBIndex]\n",
        "showBucketSeries(pd.Series(data=teBuckets.index, index=bucketIndexes[teBuckets.index].values))\n",
        "teBuckets"
      ]
    },
    {
      "cell_type": "code",
      "execution_count": null,
      "metadata": {
        "colab": {
          "base_uri": "https://localhost:8080/",
          "height": 1000
        },
        "id": "GZEuydUewDCW",
        "outputId": "c3109df3-20e3-46b1-c5c4-5ebe27163886"
      },
      "outputs": [
        {
          "data": {
            "text/html": [
              "<div style='display: flex; height: 1000px'><div style='padding: 10px; flex: 1 1 0; overflow: scroll;'><h4>A – They’re fought by <u>external actors</u> and EPA support isn’t <u>helpful</u>. </h4><p><strong>Diver 18</strong> — research scientist at Stanford University in the Department of Earth System Science. She studies issues of natural resource governance with Indigenous peoples, with a focus on Pacific Northwest salmon watersheds. She received her Ph.D. from the University of California, Berkeley in Environmental Science, Policy and Management at the College of Natural Resources. (Sibyl; Published: 2018; “Native Water Protection Flows Through Self Determination: Understanding Tribal Water Quality Standards and ‘Treatment as a State’; Journal of Contemporary Water Research & Education, Issue 163, Pages 6-30; Accessed: June 22, 2021; doi.org/10.1111/j.1936-704X.2018.03267.x)//CYang</p><p>Another <u>concern for tribes is the</u> political <u>risk regarding</u> the <u><strong>longevity</strong> of EPA programs enabling tribal WQSs.</u> As Sanders (2010, p. 564) describes, <u><mark>tribes</u></mark> opting to enact their own WQSs <u><mark>are</u></mark> often “<u><mark>confronted with <strong>vague EPA support</strong></mark>, non-Indian <strong>jurisdictional challenges</strong>, <mark>and</mark> the <strong>ongoing <mark>threat</strong> of changing</mark> federal law and <mark>policy</mark>.</u>” Funding to sustain tribal environmental programs, including administrative requirements, is a primary concern. Just like states, EPA-approved tribes must develop all of the laws and regulations within their own governments to authorize tribal environmental activities. They must also meet WQS program requirements under federal law (Grant 2007). As one tribal manager reported in a case study interview “<u><mark>With TAS there comes</u></mark> more authority and the <u><strong><mark>responsibility</strong> to be in compliance with regulations. This <strong>costs money</u></strong></mark> and <u><mark>tribes often don’t have</u></mark> the funding sources that states have” (Lefthand-Begay 2014, p. 46). If tribes are to devote time and resources to gaining EPA-approved WQSs, it is reasonable to question whether these programs can survive to benefit future generations. </p></div>\n",
              "<div style='padding: 10px; flex: 1 1 0; overflow: scroll;'><h4>8---Tribal WQS can’t solve water <u>access</u> – <u>quality</u> standards can’t increase <u>delivery</u> </h4><p><strong>Tanana et al 21</strong> (Heather Tanana (Lead Author), JD/MPH, Assistant Professor of Law (Research) & Stegner Fellow, Wallace Stegner Center – S.J. Quinney College of Law – University of Utah; Jaime Garcia, JD, Water Fellow, Getches-Wilkinson Center – University of Colorado; Ana Olaya, JD/LLM, Managing Director, CK Blueshift, LLC; Chelsea Colwyn, JD/MELP, Water Fellow, GetchesWilkinson Center – University of Colorado; Hanna Larsen (JD expected 2022), Wallace Stegner Center – S.J. Quinney College of Law – University of Utah; Ryan Williams (JD expected 2022), Wallace Stegner Center – S.J. Quinney College of Law – University of Utah; and Jonathan King, Attorney, Squire Patton Boggs. Produced for the Water & Tribes Initiative. Universal Access to Clean Water for Tribes in the Colorado River Basin.  April 2021.  http://www.naturalresourcespolicy.org/docs/water-tribes/wti-full-report-4.21.pdf)</p><p>The Environmental Protection Agency (EPA) plays a key role in ensuring water quality in Indian country. <u><mark>The <strong>EPA</strong> is responsible for</mark> enforcing <strong><mark>federal</strong></mark> clean <mark>water</mark> and safe drinking water <strong><mark>standards</strong></mark> <mark>under the</mark> Clean Water Act</u> (<u><strong><mark>CWA</u></strong></mark>) <u>and the Safe Drinking Water Act (SDWA).</u> The EPA is also able to fund drinking water and wastewater infrastructure through Tribal set-aside programs for both the CWA and SDWA. <u>These <mark>grants</mark> can be used <mark>to</mark> provide <mark>Tribes</mark> with access to safe drinking water and sanitation, but generally <mark>focus on improving <strong>water quality</strong></mark>, <mark>as opposed to increasing</mark> individual <strong><mark>delivery of water services</strong></mark>.</u> As a result, <u><mark>the EPA has</u></mark> <u><strong><mark>limited</u></strong></mark> <u><mark>ability</u></mark> <u><mark>to expand</u></mark> <u>water <strong><mark>access</u></strong></mark> <u><strong><mark>unrelated to w</mark>ater <mark>q</mark>uality <mark>s</mark>tandards</u></strong>. <u>The process to obtain EPA funding also varies by Region within the CRB</u>. EPA Regions 6 (New Mexico) and 8 (Colorado, Utah, Wyoming) administer the DWIG-TSA program in conjunction with IHS, funding projects identified and prioritized by the IHS SFC Program. In contrast, EPA Region 9 (Arizona, California, Nevada) has established its own solicitation process and provides DWIG-TSA funding both directly to Tribes and through IHS. </p></div>\n",
              "<div style='padding: 10px; flex: 1 1 0; overflow: scroll;'><h4>B — <u>Regulatory compliance</u> and <u>enforcement</u> are worse.</h4><p><strong>Teodoro et al. 16</strong> — associate professor, Texas A&M University. His research lies at the intersection of public policy, politics, and public administration, with a substantive emphasis on water management and environmental protection in the United States.; Other Contributors: Mellie Haider, David Switzer. (Manuel; Published: 2016; “U.S. Environmental Policy Implementation on Tribal Lands: Trust, Neglect, and Justice”; Policy Studies Journal, Volume 00, No. 00; Accessed: June 28, 2021; https://doi.org/10.1111/psj.12187)//CYang</p><p>Although existing public policy research offers little evidence about the implementation of environmental regulation on tribal lands specifically, the <u>literature on environmental policy implementation provides <strong><mark>strong theoretical reasons</strong> to expect that <strong>regulatory compliance</strong> is worse</mark> and enforcement <strong>less rigorous</strong> <mark>under tribal government</u></mark>, compared with nontribal facilities. Both <u>logics are rooted in</u> an <u>understanding of government regulators as</u> strategic <u><strong>political actors</u></strong> who weigh the costs and benefits of enforcement when making implementation decisions.</p></div>\n",
              "<div style='padding: 10px; flex: 1 1 0; overflow: scroll;'><h4>1 — lack of incentive.</h4><p><strong>Teodoro et al. 16</strong> — associate professor, Texas A&M University. His research lies at the intersection of public policy, politics, and public administration, with a substantive emphasis on water management and environmental protection in the United States.; Other Contributors: Mellie Haider, David Switzer. (Manuel; Published: 2016; “U.S. Environmental Policy Implementation on Tribal Lands: Trust, Neglect, and Justice”; Policy Studies Journal, Volume 00, No. 00; Accessed: June 28, 2021; https://doi.org/10.1111/psj.12187)//CYang</p><p>First, <u>regulators have <strong>little political incentive</strong> to allocate</u> scarce <u>resources to <strong>environmental enforcement</strong> on tribal lands</u>; to the extent that government behavior is influenced by the political demands of the potentially affected populations, American Indians are uniquely vulnerable. American Indians and Alaskan Natives constitute just 1.2 percent of the U.S. population and have no formal representation in Congress. <u><strong>Political participation</u></strong> is <u>strongly and <strong>positively correlated</strong> with socioeconomic status</u> (Brady, Verba, & Schlozman, 1995), <u>and poverty among American Indians is higher than <strong>any other racial group</u></strong> in the United States (McCartney, Bishaw, & Teodoro/Haider/Switzer: U.S. Environmental Policy Implementation on Tribal Lands 5 Fontenot, 2013), as is alcoholism (Chartier & Caetano, 2010), and illicit drug use (U.S. Department of Health and Human Services [HHS], 2014). American Indians lag behind all other races and ethnicities in educational attainment (Kena, Aud, & Johnson, 2014). Konisky (2009) argues that <u>because government behavior is influenced by the <strong>political capacity</u></strong> (i.e., wealth, education, organizational skill) <u>of</u> potentially affected <u>communities, environmental enforcement</u> may be <u><strong>less vigorous</strong> in communities with <strong>low-income populations</strong>.</u> Konisky and Reenock (2013) argue that environmental regulators respond with assertive enforcement where populations can mobilize to demand environmental enforcement. <u>Where communities</u> are less likely to mobilize or <u><strong>lack resources</u></strong> to demand government action, <u>regulators lack the incentive to enforce regulations</u> vigorously. To put their limited political influence in perspective, it was not until 1994 that representatives from the 567 federally recognized tribes were invited to meet in an official capacity with a U.S. president to discuss matters pressing to American Indians (Wilkins & Stark, 2011). <u>Given</u> their overall <u><strong>poor social conditions</strong>, <strong>severely limited</strong> political representation, and <strong>scattered populations</strong>, we expect</u> that <u>citizens on tribal lands are less likely to mobilize in support of environmental enforcement than other citizens</u>.</p></div>\n",
              "<div style='padding: 10px; flex: 1 1 0; overflow: scroll;'><h4>Working with the EPA fails</h4><p><strong>Stommer and Osborne 15 -</strong> Geoffrey D. Strommer and Stephen D. Osborne are lawyers at Hobbs, Straus, Dean & Walker specializing in federal Indian Law (American Indian Law Review, “The History, Status, and Future of Tribal Self Governance Under the Indian Self-Determination and Education Assistance Act,” 2015, Page 57-58, http://digitalcommons.law.ou.edu/ailr/vol39/iss1/1/, ag)</p><p>B. Implementation Issues: Continuing Agency Resistance to Self Governance CSC funding has hardly been the only issue creating tension between tribes and federal agencies. <u>If there is anything that tribes—and Congress— have learned over the years, it is that the DOI and DHHS can be counted on to resist tribal self-governance, because it requires the transfer of program authority and associated funding from the federal bureaucracy to tribal control.</u>360 While the agencies have made some progress in acknowledging tribes' statutory rights to self-governance, often <u>they continue to interpret and implement the statutes as narrowly as possible,</u> in contravention of the ISDEAA's mandate that the statute and the contracts be interpreted liberally for the benefit of tribes and in favor of transferring programs and funding to tribes.361 <u>Recently both IHS and the BIA have taken legal positions directly contrary not only to tribal interests, but also to clear statutory language</u>. For example, in Susanville Indian Rancheria v. Leavitt, 362 IHS rejected the Tribe's final offer under Title V because the Tribe proposed to charge pharmacy service beneficiaries a small co-pay. IHS provided no funding for pharmacy services, and the Tribe determined that without the user fees, the Tribe would be unable to provide such services at all. IHS took the position that the Tribe could not charge beneficiaries because the agency itself cannot do so, despite the plain language of the controlling Title V provision: “The Indian Health Service under this sub-chapter shall neither bill nor charge those Indians who may have the economic means to pay for services, nor require any Indian tribe to do so.”363 The court held that this provision clearly did not prevent the Tribe from charging; it prevented IHS from requiring the Tribe to charge.364 Remarkably, IHS argued that if the court found the statute ambiguous, it must defer to IHS's interpretation under the common-law Chevron doctrine,365 despite the statutory rule of construction that ambiguities be resolved in favor of tribes.366 The court found no ambiguity, however.367 <u>The DOI, too, has abused the declination process and even attempted to circumvent it altogether. In Cheyenne River Sioux Tribe v. Kempthorne, 368 the BIA declined the Tribe's contract proposal to run a school</u>, but the cursory declination <u>letter merely cited three declination criteria without including specific findings demonstrating that the criteria were met</u>.369 The letter did not include a detailed explanation of the decision, nor did it include the documents the agency relied on in making that decision.370 <u>The court ruled the declination deficient, holding that the Secretary's burden of proof requires that he clearly demonstrate, through a detailed explanation with specific findings, that a declination decision is justified.</u>371 Because the BIA failed to comply with the declination statute and regulations, <u>the court did not find it necessary to address the merits of the BIA's decision, and held the contract deemed approved by operation of law.</u>372</p></div></div>"
            ],
            "text/plain": [
              "<IPython.core.display.HTML object>"
            ]
          },
          "metadata": {},
          "output_type": "display_data"
        },
        {
          "data": {
            "text/html": [
              "<div style='display: flex; height: 1000px'><div style='padding: 10px; flex: 1 1 0; overflow: scroll;'><h4>A – They’re fought by <u>external actors</u> and EPA support isn’t <u>helpful</u>. </h4><p><strong>Diver 18</strong> — research scientist at Stanford University in the Department of Earth System Science. She studies issues of natural resource governance with Indigenous peoples, with a focus on Pacific Northwest salmon watersheds. She received her Ph.D. from the University of California, Berkeley in Environmental Science, Policy and Management at the College of Natural Resources. (Sibyl; Published: 2018; “Native Water Protection Flows Through Self Determination: Understanding Tribal Water Quality Standards and ‘Treatment as a State’; Journal of Contemporary Water Research & Education, Issue 163, Pages 6-30; Accessed: June 22, 2021; doi.org/10.1111/j.1936-704X.2018.03267.x)//CYang</p><p>Another <u>concern for tribes is the</u> political <u>risk regarding</u> the <u><strong>longevity</strong> of EPA programs enabling tribal WQSs.</u> As Sanders (2010, p. 564) describes, <u><mark>tribes</u></mark> opting to enact their own WQSs <u><mark>are</u></mark> often “<u><mark>confronted with <strong>vague EPA support</strong></mark>, non-Indian <strong>jurisdictional challenges</strong>, <mark>and</mark> the <strong>ongoing <mark>threat</strong> of changing</mark> federal law and <mark>policy</mark>.</u>” Funding to sustain tribal environmental programs, including administrative requirements, is a primary concern. Just like states, EPA-approved tribes must develop all of the laws and regulations within their own governments to authorize tribal environmental activities. They must also meet WQS program requirements under federal law (Grant 2007). As one tribal manager reported in a case study interview “<u><mark>With TAS there comes</u></mark> more authority and the <u><strong><mark>responsibility</strong> to be in compliance with regulations. This <strong>costs money</u></strong></mark> and <u><mark>tribes often don’t have</u></mark> the funding sources that states have” (Lefthand-Begay 2014, p. 46). If tribes are to devote time and resources to gaining EPA-approved WQSs, it is reasonable to question whether these programs can survive to benefit future generations. </p></div>\n",
              "<div style='padding: 10px; flex: 1 1 0; overflow: scroll;'><h4>Working with the EPA fails</h4><p><strong>Stommer and Osborne 15 -</strong> Geoffrey D. Strommer and Stephen D. Osborne are lawyers at Hobbs, Straus, Dean & Walker specializing in federal Indian Law (American Indian Law Review, “The History, Status, and Future of Tribal Self Governance Under the Indian Self-Determination and Education Assistance Act,” 2015, Page 57-58, http://digitalcommons.law.ou.edu/ailr/vol39/iss1/1/, ag)</p><p>B. Implementation Issues: Continuing Agency Resistance to Self Governance CSC funding has hardly been the only issue creating tension between tribes and federal agencies. <u>If there is anything that tribes—and Congress— have learned over the years, it is that the DOI and DHHS can be counted on to resist tribal self-governance, because it requires the transfer of program authority and associated funding from the federal bureaucracy to tribal control.</u>360 While the agencies have made some progress in acknowledging tribes' statutory rights to self-governance, often <u>they continue to interpret and implement the statutes as narrowly as possible,</u> in contravention of the ISDEAA's mandate that the statute and the contracts be interpreted liberally for the benefit of tribes and in favor of transferring programs and funding to tribes.361 <u>Recently both IHS and the BIA have taken legal positions directly contrary not only to tribal interests, but also to clear statutory language</u>. For example, in Susanville Indian Rancheria v. Leavitt, 362 IHS rejected the Tribe's final offer under Title V because the Tribe proposed to charge pharmacy service beneficiaries a small co-pay. IHS provided no funding for pharmacy services, and the Tribe determined that without the user fees, the Tribe would be unable to provide such services at all. IHS took the position that the Tribe could not charge beneficiaries because the agency itself cannot do so, despite the plain language of the controlling Title V provision: “The Indian Health Service under this sub-chapter shall neither bill nor charge those Indians who may have the economic means to pay for services, nor require any Indian tribe to do so.”363 The court held that this provision clearly did not prevent the Tribe from charging; it prevented IHS from requiring the Tribe to charge.364 Remarkably, IHS argued that if the court found the statute ambiguous, it must defer to IHS's interpretation under the common-law Chevron doctrine,365 despite the statutory rule of construction that ambiguities be resolved in favor of tribes.366 The court found no ambiguity, however.367 <u>The DOI, too, has abused the declination process and even attempted to circumvent it altogether. In Cheyenne River Sioux Tribe v. Kempthorne, 368 the BIA declined the Tribe's contract proposal to run a school</u>, but the cursory declination <u>letter merely cited three declination criteria without including specific findings demonstrating that the criteria were met</u>.369 The letter did not include a detailed explanation of the decision, nor did it include the documents the agency relied on in making that decision.370 <u>The court ruled the declination deficient, holding that the Secretary's burden of proof requires that he clearly demonstrate, through a detailed explanation with specific findings, that a declination decision is justified.</u>371 Because the BIA failed to comply with the declination statute and regulations, <u>the court did not find it necessary to address the merits of the BIA's decision, and held the contract deemed approved by operation of law.</u>372</p></div>\n",
              "<div style='padding: 10px; flex: 1 1 0; overflow: scroll;'><h4>8---Tribal WQS can’t solve water <u>access</u> – <u>quality</u> standards can’t increase <u>delivery</u> </h4><p><strong>Tanana et al 21</strong> (Heather Tanana (Lead Author), JD/MPH, Assistant Professor of Law (Research) & Stegner Fellow, Wallace Stegner Center – S.J. Quinney College of Law – University of Utah; Jaime Garcia, JD, Water Fellow, Getches-Wilkinson Center – University of Colorado; Ana Olaya, JD/LLM, Managing Director, CK Blueshift, LLC; Chelsea Colwyn, JD/MELP, Water Fellow, GetchesWilkinson Center – University of Colorado; Hanna Larsen (JD expected 2022), Wallace Stegner Center – S.J. Quinney College of Law – University of Utah; Ryan Williams (JD expected 2022), Wallace Stegner Center – S.J. Quinney College of Law – University of Utah; and Jonathan King, Attorney, Squire Patton Boggs. Produced for the Water & Tribes Initiative. Universal Access to Clean Water for Tribes in the Colorado River Basin.  April 2021.  http://www.naturalresourcespolicy.org/docs/water-tribes/wti-full-report-4.21.pdf)</p><p>The Environmental Protection Agency (EPA) plays a key role in ensuring water quality in Indian country. <u><mark>The <strong>EPA</strong> is responsible for</mark> enforcing <strong><mark>federal</strong></mark> clean <mark>water</mark> and safe drinking water <strong><mark>standards</strong></mark> <mark>under the</mark> Clean Water Act</u> (<u><strong><mark>CWA</u></strong></mark>) <u>and the Safe Drinking Water Act (SDWA).</u> The EPA is also able to fund drinking water and wastewater infrastructure through Tribal set-aside programs for both the CWA and SDWA. <u>These <mark>grants</mark> can be used <mark>to</mark> provide <mark>Tribes</mark> with access to safe drinking water and sanitation, but generally <mark>focus on improving <strong>water quality</strong></mark>, <mark>as opposed to increasing</mark> individual <strong><mark>delivery of water services</strong></mark>.</u> As a result, <u><mark>the EPA has</u></mark> <u><strong><mark>limited</u></strong></mark> <u><mark>ability</u></mark> <u><mark>to expand</u></mark> <u>water <strong><mark>access</u></strong></mark> <u><strong><mark>unrelated to w</mark>ater <mark>q</mark>uality <mark>s</mark>tandards</u></strong>. <u>The process to obtain EPA funding also varies by Region within the CRB</u>. EPA Regions 6 (New Mexico) and 8 (Colorado, Utah, Wyoming) administer the DWIG-TSA program in conjunction with IHS, funding projects identified and prioritized by the IHS SFC Program. In contrast, EPA Region 9 (Arizona, California, Nevada) has established its own solicitation process and provides DWIG-TSA funding both directly to Tribes and through IHS. </p></div>\n",
              "<div style='padding: 10px; flex: 1 1 0; overflow: scroll;'><h4>Plan fails – lack of funding and resource management</h4><p><strong>Marsh et al. 15 </strong>[Karen R. Marsh and Michael D. Smith, Environmental authors at the Journal of Water, Sanitation & Hygiene for Development, “The Native American voice in United States water rights,” Journal of Water, Sanitation & Hygiene for Development, June 2015, https://doi-org.proxy.lib.umich.edu/10.2166/washdev.2015.089]//RA</p><p>Current status of water rights in the US Negotiations have achieved a greater presence in water rights disputes, as negotiation to achieve mutual agreement in resolving potential disputes is preferable to litigation. Generally, litigation results in no benefit to the involved parties. <u><strong>The excessive financial costs limit the realization of any long-term economic planning and development</u></strong> (DOI 2008). Those involved understand that for everyone to benefit some give-and-take is required. Thus, negotiations have gained greater importance. The National Congress of American Indians (NCAI 2008) highlighted the government-togovernment connection between the Native Americans and the US. The transition of leadership in the 2008 Presidential election prompted the need to address the necessary changes to the Native American water rights policy. <u>Historically, the government’s water policy did little to reflect the considerations of tribal interests</u> (NCAI 2008). The current use of negotiations has led to more regional development of water infrastructure (NCAI 2008). <u>Negotiations are models for how</u> states, <u>tribes</u>, cities, farmers, <u>and the federal government can work together effectively</u>, thus generating benefits for all parties. The US Department of Interior is the lead for the federal government in negotiations (USBR 2009). The BIA is tasked with protecting, supporting, and representing Native Americans. The Bureau of Reclamation (USBR), which led the construction of large water projects, is the largest wholesaler of water in the US. Further, the USBR provides support for assessment of rights, negotiations, and the implementation of water development projects (USBR 2009). The role of the US is significant in water rights, especially implementation of development projects. <u><strong>There is no ideal way to develop water resources </u></strong>(FAO 2001). <u>Geography, funding, political support, and community support influence development projects.</u> <u><strong>Funding is the biggest obstacle to overcome in Native American water projects.</u></strong> Funding comes from several sources. In 2009, the USBR had requests for $150 million for Native American water projects (USBR 2008). The American Recovery and Reinvestment Act of 2009 has budgeted $90 million for Native American water projects (USEPA 2009). Similar programs also provide funding to ensure beneficial use of resources. Adequate funding allows the realization of water rights for Native Americans.</p></div>\n",
              "<div style='padding: 10px; flex: 1 1 0; overflow: scroll;'><h4>Aff decks sovereignty and expands institutional colonialism </h4><p>Jonah <strong>Seifer</strong>, 20<strong>16<u></strong> , State of the Rockies Project Fellow, Native American Water Quality Rights How the EPA’s Treatment as a State Program can Strengthen Tribal Sovereignty in the Southwest https://www.coloradocollege.edu/dotAsset/6a112a39-0d6d-440b-a304-4210fe61320f.pdf</p><p></u>While tribes are parallel sovereigns with respect to state and federal governments, the nature of their sovereignty is not the same. Native American tribes were independent prior to the colonization of North America and were not involved in the formation of the United States. Their regulatory authority over their own lands, regardless of the trust responsibility of the federal government, <u>is inherent in their existence as a people </u>and occupation of those lands. Thus, <u>the <mark>TAS program, “diminishes tribal</mark> <mark>sovereignty</u></mark>…[<u><mark>by] maintain[ing] that [tribes] must fix water quality </mark>standards <mark>as a state</mark>, <mark>rather than as a nation</mark>, in accordance with federal laws”</u> (Rodgers 2004). This is the essence of how the nature of tribal sovereignty is dissimilar to state and federal sovereignty. <u><mark>Tribes are not a part of</mark> the <mark>coop</mark>erative <mark>federalism</mark> partnership made between states and the federal government, <mark>so they should not be forced to conform to the legal frameworks of another nation</mark>. </u>While it brings potential for great benefits to tribes, TAS does so in a way that is inconsistent with the modern political reality. This is why <u><mark>TAS</mark> somewhat <mark>diminishes tribal sovereignty</mark>; <mark>it</mark> <mark>perpetuates</mark> <mark>the erroneous system of incorporating tribal governance into the larger</mark> governmental <mark>partnership</mark> maintained by the states and federal governments. </p></u></div></div>"
            ],
            "text/plain": [
              "<IPython.core.display.HTML object>"
            ]
          },
          "metadata": {},
          "output_type": "display_data"
        }
      ],
      "source": [
        "showBucketSeries(getAdjacent([teI]))\n",
        "showBucketSeries(getAdjacent([teI], iters=3))\n",
        "# evClean[evClean['bucketId'] == buckets[teI]].iloc[0].markup"
      ]
    },
    {
      "cell_type": "code",
      "execution_count": null,
      "metadata": {
        "colab": {
          "base_uri": "https://localhost:8080/"
        },
        "id": "VjQOqbJ_zhcU",
        "outputId": "80abab1f-ada3-4dfb-fcf9-fad764d1791c"
      },
      "outputs": [
        {
          "name": "stdout",
          "output_type": "stream",
          "text": [
            "1.64 ms ± 63.6 µs per loop (mean ± std. dev. of 7 runs, 1000 loops each)\n",
            "8.99 ms ± 140 µs per loop (mean ± std. dev. of 7 runs, 100 loops each)\n"
          ]
        }
      ],
      "source": [
        "%timeit getAdjacent([frI])\n",
        "%timeit getAdjacent([frI], iters=3)"
      ]
    },
    {
      "cell_type": "code",
      "execution_count": null,
      "metadata": {
        "colab": {
          "base_uri": "https://localhost:8080/"
        },
        "id": "DbVX_WfyR3Ik",
        "outputId": "f350070d-9a69-4940-f5a5-7b982f6366e5"
      },
      "outputs": [
        {
          "name": "stdout",
          "output_type": "stream",
          "text": [
            "1.67 ms ± 57.2 µs per loop (mean ± std. dev. of 7 runs, 1000 loops each)\n",
            "9.36 ms ± 339 µs per loop (mean ± std. dev. of 7 runs, 100 loops each)\n"
          ]
        }
      ],
      "source": [
        "%timeit getAdjacent([frI])\n",
        "%timeit getAdjacent([frI], iters=3)"
      ]
    },
    {
      "cell_type": "code",
      "execution_count": null,
      "metadata": {
        "colab": {
          "base_uri": "https://localhost:8080/"
        },
        "id": "UvPfYJoSuIPs",
        "outputId": "bf914862-feed-4dc3-c23b-96b9835fce88"
      },
      "outputs": [
        {
          "data": {
            "text/plain": [
              "15773"
            ]
          },
          "execution_count": 47,
          "metadata": {},
          "output_type": "execute_result"
        }
      ],
      "source": [
        "n_components, labels = sparse.csgraph.connected_components(adjacency)\n",
        "n_components"
      ]
    },
    {
      "cell_type": "code",
      "execution_count": null,
      "metadata": {
        "id": "dlskmbTjuaTa"
      },
      "outputs": [],
      "source": [
        "def counts(arr):\n",
        "  return np.asarray(np.unique(arr, return_counts=True)).T\n",
        "counts(counts(labels)[:, 1])"
      ]
    },
    {
      "cell_type": "code",
      "execution_count": null,
      "metadata": {
        "colab": {
          "base_uri": "https://localhost:8080/",
          "height": 283
        },
        "id": "xDeSnlrV3yaG",
        "outputId": "477a4a02-b4ed-44b5-f279-1de462e880e6"
      },
      "outputs": [
        {
          "data": {
            "application/vnd.google.colaboratory.intrinsic+json": {
              "type": "string"
            },
            "text/plain": [
              "'adjaceny'"
            ]
          },
          "execution_count": 49,
          "metadata": {},
          "output_type": "execute_result"
        },
        {
          "data": {
            "image/png": "[encoded data removed]",
            "text/plain": [
              "<Figure size 432x288 with 1 Axes>"
            ]
          },
          "metadata": {},
          "output_type": "display_data"
        }
      ],
      "source": [
        "vals = adjacencyN.max(axis=0).A[0]\n",
        "plt.hist(vals[vals != 0], bins=100)\n",
        "\"adjaceny\""
      ]
    },
    {
      "cell_type": "code",
      "execution_count": null,
      "metadata": {
        "colab": {
          "base_uri": "https://localhost:8080/",
          "height": 283
        },
        "id": "2h8bEtEy4tn_",
        "outputId": "1c110277-2398-4b62-940a-676339977cdf"
      },
      "outputs": [
        {
          "data": {
            "application/vnd.google.colaboratory.intrinsic+json": {
              "type": "string"
            },
            "text/plain": [
              "'adjaceny^2'"
            ]
          },
          "execution_count": 50,
          "metadata": {},
          "output_type": "execute_result"
        },
        {
          "data": {
            "image/png": "[encoded data removed]",
            "text/plain": [
              "<Figure size 432x288 with 1 Axes>"
            ]
          },
          "metadata": {},
          "output_type": "display_data"
        }
      ],
      "source": [
        "vals = squaredN.max(axis=0).A[0]\n",
        "plt.hist(vals[vals != 0], bins=100)\n",
        "'adjaceny^2'"
      ]
    },
    {
      "cell_type": "markdown",
      "metadata": {
        "id": "wQSkKoyFpjKe"
      },
      "source": [
        "##### Inverse test"
      ]
    },
    {
      "cell_type": "markdown",
      "metadata": {
        "id": "GxOt_2AVprQl"
      },
      "source": [
        "NOTE: Inverse calculation takes to long, probably will give bad results anyways because in higher powers individual entires are much smaller"
      ]
    },
    {
      "cell_type": "markdown",
      "metadata": {
        "id": "E2fYc_n9O90K"
      },
      "source": [
        "Similarity = $∑_{n=1}^∞ α ^ {n-1} \\cdot \\text{Similarity from paths of length n}$\n",
        "\n",
        "Where small values of $α \\in [0, 1]$ give more importance to directly similar evidence, and larger values give more importance to globally important evidence"
      ]
    },
    {
      "cell_type": "markdown",
      "metadata": {
        "id": "3VEYrLPnQU5R"
      },
      "source": [
        "Similarity from paths of length n is the sum over all length n paths of the product of the weights\n",
        "\n",
        " this = $A^n$ where $A$ is the normalized adjacency matrix"
      ]
    },
    {
      "cell_type": "markdown",
      "metadata": {
        "id": "Ai-uIke3RLXh"
      },
      "source": [
        "Using the gemoetric series formula\n",
        "\n",
        "Similarity = $(I - αA)^{-1}$"
      ]
    },
    {
      "cell_type": "code",
      "execution_count": null,
      "metadata": {
        "id": "Jv50l6wrO9Lr"
      },
      "outputs": [],
      "source": [
        "alpha = 0.5"
      ]
    },
    {
      "cell_type": "code",
      "execution_count": null,
      "metadata": {
        "colab": {
          "base_uri": "https://localhost:8080/"
        },
        "id": "VyrQWW69XiY3",
        "outputId": "b6fa0de3-a87a-4672-96e8-e5b2c0c86727"
      },
      "outputs": [
        {
          "data": {
            "text/plain": [
              "<112310x112310 sparse matrix of type '<class 'numpy.float64'>'\n",
              "\twith 1407680 stored elements in Compressed Sparse Column format>"
            ]
          },
          "execution_count": 17,
          "metadata": {},
          "output_type": "execute_result"
        }
      ],
      "source": [
        "adjustedAdjacency = (sparse.identity(adjacencyN.shape[0], format='csc') - alpha * adjacencyN)\n",
        "adjustedAdjacency"
      ]
    },
    {
      "cell_type": "code",
      "execution_count": null,
      "metadata": {
        "id": "K0x_N_uTXy6A"
      },
      "outputs": [],
      "source": [
        "# inverse = sparse.linalg.inv(adjustedAdjacency)\n",
        "# inverse"
      ]
    },
    {
      "cell_type": "code",
      "execution_count": null,
      "metadata": {
        "id": "Fgd8V_j1dR1J"
      },
      "outputs": [],
      "source": [
        "# sparse.save_npz('inverse', inverse)"
      ]
    },
    {
      "cell_type": "markdown",
      "metadata": {
        "id": "QP6Sl_aRrd47"
      },
      "source": [
        "### File"
      ]
    },
    {
      "cell_type": "code",
      "execution_count": null,
      "metadata": {
        "id": "gpvPtwyRuadk"
      },
      "outputs": [],
      "source": [
        "# Example files\n",
        "nwFile = 5361\n",
        "frFile = 5480"
      ]
    },
    {
      "cell_type": "code",
      "execution_count": null,
      "metadata": {
        "colab": {
          "base_uri": "https://localhost:8080/",
          "height": 85,
          "referenced_widgets": [
            "00066019a03846ebbceecce52e1b7fa2",
            "f1fc481662bf4375822b77ff762d7da4",
            "9ed0946fe2744b4c908dc4c5093c2b39",
            "dc1cc76ad98e4c789d9e6ab69ec5ec99",
            "9a4c3d9b2e3d4a01820859edd2d731ab",
            "5f4fc6f127a0452fbae5c527d10b6ce5",
            "3f22902c1eb44bdb9da80af531775269",
            "c24bcc5153614ce4ba23605544fc808a",
            "48b4cdf2b2d340a4b7078d83b3d806dd",
            "8ae82e24100144ad9562eaa223637cb3",
            "3993b3134a6844b1a7358d4a35a26fea"
          ]
        },
        "id": "-X8qgRuITdZv",
        "outputId": "2279ba1e-44fe-4481-a71b-cbd9da0d7060"
      },
      "outputs": [
        {
          "output_type": "display_data",
          "data": {
            "text/plain": [
              "  0%|          | 0/6733 [00:00<?, ?it/s]"
            ],
            "application/vnd.jupyter.widget-view+json": {
              "version_major": 2,
              "version_minor": 0,
              "model_id": "00066019a03846ebbceecce52e1b7fa2"
            }
          },
          "metadata": {}
        },
        {
          "output_type": "execute_result",
          "data": {
            "text/plain": [
              "<6914x112310 sparse matrix of type '<class 'numpy.float64'>'\n",
              "\twith 274631 stored elements in Compressed Sparse Column format>"
            ]
          },
          "metadata": {},
          "execution_count": 22
        }
      ],
      "source": [
        "fileIndexes = pd.Series(fileIds.index, index=fileIds.values)\n",
        "bucketFileMap = sparse.lil_matrix((len(fileIndexes), len(buckets)))\n",
        "\n",
        "for fileId, group in tqdm(evClean.groupby('fileId')):\n",
        "  bucketFileMap[fileIndexes[fileId], bucketIndexes[group['bucketId']]] = 1\n",
        "bucketFileMap = bucketFileMap.tocsc()\n",
        "bucketFileMap"
      ]
    },
    {
      "cell_type": "code",
      "execution_count": null,
      "metadata": {
        "colab": {
          "base_uri": "https://localhost:8080/"
        },
        "id": "XMHRh4TJYPn2",
        "outputId": "f43c3ae6-923c-4281-fd24-20c4735f97d7"
      },
      "outputs": [
        {
          "output_type": "execute_result",
          "data": {
            "text/plain": [
              "<6914x6914 sparse matrix of type '<class 'numpy.float64'>'\n",
              "\twith 28040109 stored elements in Compressed Sparse Column format>"
            ]
          },
          "metadata": {},
          "execution_count": 23
        }
      ],
      "source": [
        "adjacentFiles = bucketFileMap @ adjacencyN @ bucketFileMap.T\n",
        "adjacentFiles = normalize(adjacentFiles, norm='l1', axis=0)\n",
        "adjacentFiles"
      ]
    },
    {
      "cell_type": "code",
      "execution_count": null,
      "metadata": {
        "colab": {
          "base_uri": "https://localhost:8080/"
        },
        "id": "Eed1thNaKmVv",
        "outputId": "a5a68551-fd65-4858-a33a-86d4c845e222"
      },
      "outputs": [
        {
          "data": {
            "text/plain": [
              "<6733x6733 sparse matrix of type '<class 'numpy.float64'>'\n",
              "\twith 4412195 stored elements in Compressed Sparse Column format>"
            ]
          },
          "execution_count": 68,
          "metadata": {},
          "output_type": "execute_result"
        }
      ],
      "source": [
        "sharedBucketFiles = bucketFileMap @ bucketFileMap.T\n",
        "sharedBucketFiles"
      ]
    },
    {
      "cell_type": "code",
      "execution_count": null,
      "metadata": {
        "colab": {
          "base_uri": "https://localhost:8080/"
        },
        "id": "RGMSNNNlgrq5",
        "outputId": "a892148a-ab57-4941-b7fd-745f35960796"
      },
      "outputs": [
        {
          "output_type": "execute_result",
          "data": {
            "text/plain": [
              "<6914x6914 sparse matrix of type '<class 'numpy.float64'>'\n",
              "\twith 39110084 stored elements in Compressed Sparse Column format>"
            ]
          },
          "metadata": {},
          "execution_count": 32
        }
      ],
      "source": [
        "adjacentSFiles = bucketFileMap @ squaredN @ bucketFileMap.T\n",
        "adjacentSFiles = normalize(adjacentSFiles, norm='l1', axis=0)\n",
        "adjacentSFiles"
      ]
    },
    {
      "cell_type": "code",
      "execution_count": null,
      "metadata": {
        "id": "v1f7B35tvt8T",
        "colab": {
          "base_uri": "https://localhost:8080/",
          "height": 641
        },
        "outputId": "b2b949fa-9dff-4d71-ff44-d23c2b29438e"
      },
      "outputs": [
        {
          "output_type": "execute_result",
          "data": {
            "text/plain": [
              "            id  fileId              pocket                hat  \\\n",
              "29188   438028    5361  Aff – Tribal Water                1AC   \n",
              "29367   438237    5361  Aff – Tribal Water               Case   \n",
              "231903  439399    5361  Aff – Tribal Water             AT:  K   \n",
              "232454  439758    5361  Neg – Tribal Water                  T   \n",
              "232469  439778    5361  Neg – Tribal Water      DA – Politics   \n",
              "...        ...     ...                 ...                ...   \n",
              "250298  440784    5361  Neg – Tribal Water     K – Settlerism   \n",
              "250299  440824    5361  Neg – Tribal Water     K – Settlerism   \n",
              "250312  440834    5361  Neg – Tribal Water     K – Settlerism   \n",
              "266405  440527    5361  Neg – Tribal Water  CP – Tribes Alone   \n",
              "281358  439189    5361  Aff – Tribal Water            AT:  CP   \n",
              "\n",
              "                               block  \\\n",
              "29188                1AC – Advantage   \n",
              "29367            Inh – AT: SQ Solves   \n",
              "231903      AT:  K – Neolib – AT: RC   \n",
              "232454                       T – Its   \n",
              "232469              L – Tribal Water   \n",
              "...                              ...   \n",
              "250298                  L – Resource   \n",
              "250299  L – Trust Responsibility Bad   \n",
              "250312                   Alt – Water   \n",
              "266405             NB – Biodiversity   \n",
              "281358        AT:  CP – ILAW – IACHR   \n",
              "\n",
              "                                                      tag  \\\n",
              "29188   Discourses prioritizing existential threats ar...   \n",
              "29367   Specifically, federal agencies undermine triba...   \n",
              "231903  Race is a better predictor of tribal water ine...   \n",
              "232454  ‘Its’ is possessive and refers to the party pr...   \n",
              "232469                    Tribal water bills are partisan   \n",
              "...                                                   ...   \n",
              "250298  Describing water as a resource to be managed r...   \n",
              "250299  The aff’s trust relationship model is paternal...   \n",
              "250312       The Alternative is indigenous led governance   \n",
              "266405  Empirics from controlled studies prove our arg...   \n",
              "281358  IACHR is not binding, public pressure historic...   \n",
              "\n",
              "                                                 fullcite  \\\n",
              "29188   Mitchell 17 (Audra, a settler scholar who live...   \n",
              "29367   Diver et al. 19 — research scientist at Stanfo...   \n",
              "231903  Tanana et al 21 (Heather Tanana (Lead Author),...   \n",
              "232454  US District Court 7 United States District Cou...   \n",
              "232469  Grijalva 16 (Raúl Manuel Grijalva is U.S. Repr...   \n",
              "...                                                   ...   \n",
              "250298  Wilson and Inkster 20 (, \" Respecting water: I...   \n",
              "250299  Diver 18 — research scientist at Stanford Univ...   \n",
              "250312  Wilson and Inkster 20 (, \" Respecting water: I...   \n",
              "266405  Doshi, ‘1-26 (Sahir Doshi is an RA researching...   \n",
              "281358  Chambers & Stephens 16 (Reid Peyton Chambers i...   \n",
              "\n",
              "                          cite  bucketId  \\\n",
              "29188              Mitchell 17    3317.0   \n",
              "29367          Diver et al. 19  292196.0   \n",
              "231903         Tanana et al 21  292966.0   \n",
              "232454     US District Court 7   88617.0   \n",
              "232469             Grijalva 16  293174.0   \n",
              "...                        ...       ...   \n",
              "250298   Wilson and Inkster 20  287598.0   \n",
              "250299                Diver 18  293829.0   \n",
              "250312   Wilson and Inkster 20  287775.0   \n",
              "266405            Doshi, ‘1-26  292514.0   \n",
              "281358  Chambers & Stephens 16  292849.0   \n",
              "\n",
              "                                                   markup  \n",
              "29188   <h4>Discourses prioritizing <u>existential thr...  \n",
              "29367   <h4>Specifically, federal agencies <u>undermin...  \n",
              "231903  <h4>Race is a better predictor of tribal water...  \n",
              "232454  <h4>‘Its’ is <u>possessive</u> and refers to t...  \n",
              "232469  <h4>Tribal water bills are <u>partisan</h4><p>...  \n",
              "...                                                   ...  \n",
              "250298  <h4>Describing water as a resource to be manag...  \n",
              "250299  <h4>The aff’s trust relationship model is <u>p...  \n",
              "250312  <h4>The Alternative is indigenous led governan...  \n",
              "266405  <h4><u>Empirics</u> from <u>controlled studies...  \n",
              "281358  <h4>IACHR is not binding, public pressure hist...  \n",
              "\n",
              "[297 rows x 10 columns]"
            ],
            "text/html": [
              "\n",
              "  <div id=\"df-713ad9d9-293f-4fcd-bb61-94382833b366\">\n",
              "    <div class=\"colab-df-container\">\n",
              "      <div>\n",
              "<style scoped>\n",
              "    .dataframe tbody tr th:only-of-type {\n",
              "        vertical-align: middle;\n",
              "    }\n",
              "\n",
              "    .dataframe tbody tr th {\n",
              "        vertical-align: top;\n",
              "    }\n",
              "\n",
              "    .dataframe thead th {\n",
              "        text-align: right;\n",
              "    }\n",
              "</style>\n",
              "<table border=\"1\" class=\"dataframe\">\n",
              "  <thead>\n",
              "    <tr style=\"text-align: right;\">\n",
              "      <th></th>\n",
              "      <th>id</th>\n",
              "      <th>fileId</th>\n",
              "      <th>pocket</th>\n",
              "      <th>hat</th>\n",
              "      <th>block</th>\n",
              "      <th>tag</th>\n",
              "      <th>fullcite</th>\n",
              "      <th>cite</th>\n",
              "      <th>bucketId</th>\n",
              "      <th>markup</th>\n",
              "    </tr>\n",
              "  </thead>\n",
              "  <tbody>\n",
              "    <tr>\n",
              "      <th>29188</th>\n",
              "      <td>438028</td>\n",
              "      <td>5361</td>\n",
              "      <td>Aff – Tribal Water</td>\n",
              "      <td>1AC</td>\n",
              "      <td>1AC – Advantage</td>\n",
              "      <td>Discourses prioritizing existential threats ar...</td>\n",
              "      <td>Mitchell 17 (Audra, a settler scholar who live...</td>\n",
              "      <td>Mitchell 17</td>\n",
              "      <td>3317.0</td>\n",
              "      <td>&lt;h4&gt;Discourses prioritizing &lt;u&gt;existential thr...</td>\n",
              "    </tr>\n",
              "    <tr>\n",
              "      <th>29367</th>\n",
              "      <td>438237</td>\n",
              "      <td>5361</td>\n",
              "      <td>Aff – Tribal Water</td>\n",
              "      <td>Case</td>\n",
              "      <td>Inh – AT: SQ Solves</td>\n",
              "      <td>Specifically, federal agencies undermine triba...</td>\n",
              "      <td>Diver et al. 19 — research scientist at Stanfo...</td>\n",
              "      <td>Diver et al. 19</td>\n",
              "      <td>292196.0</td>\n",
              "      <td>&lt;h4&gt;Specifically, federal agencies &lt;u&gt;undermin...</td>\n",
              "    </tr>\n",
              "    <tr>\n",
              "      <th>231903</th>\n",
              "      <td>439399</td>\n",
              "      <td>5361</td>\n",
              "      <td>Aff – Tribal Water</td>\n",
              "      <td>AT:  K</td>\n",
              "      <td>AT:  K – Neolib – AT: RC</td>\n",
              "      <td>Race is a better predictor of tribal water ine...</td>\n",
              "      <td>Tanana et al 21 (Heather Tanana (Lead Author),...</td>\n",
              "      <td>Tanana et al 21</td>\n",
              "      <td>292966.0</td>\n",
              "      <td>&lt;h4&gt;Race is a better predictor of tribal water...</td>\n",
              "    </tr>\n",
              "    <tr>\n",
              "      <th>232454</th>\n",
              "      <td>439758</td>\n",
              "      <td>5361</td>\n",
              "      <td>Neg – Tribal Water</td>\n",
              "      <td>T</td>\n",
              "      <td>T – Its</td>\n",
              "      <td>‘Its’ is possessive and refers to the party pr...</td>\n",
              "      <td>US District Court 7 United States District Cou...</td>\n",
              "      <td>US District Court 7</td>\n",
              "      <td>88617.0</td>\n",
              "      <td>&lt;h4&gt;‘Its’ is &lt;u&gt;possessive&lt;/u&gt; and refers to t...</td>\n",
              "    </tr>\n",
              "    <tr>\n",
              "      <th>232469</th>\n",
              "      <td>439778</td>\n",
              "      <td>5361</td>\n",
              "      <td>Neg – Tribal Water</td>\n",
              "      <td>DA – Politics</td>\n",
              "      <td>L – Tribal Water</td>\n",
              "      <td>Tribal water bills are partisan</td>\n",
              "      <td>Grijalva 16 (Raúl Manuel Grijalva is U.S. Repr...</td>\n",
              "      <td>Grijalva 16</td>\n",
              "      <td>293174.0</td>\n",
              "      <td>&lt;h4&gt;Tribal water bills are &lt;u&gt;partisan&lt;/h4&gt;&lt;p&gt;...</td>\n",
              "    </tr>\n",
              "    <tr>\n",
              "      <th>...</th>\n",
              "      <td>...</td>\n",
              "      <td>...</td>\n",
              "      <td>...</td>\n",
              "      <td>...</td>\n",
              "      <td>...</td>\n",
              "      <td>...</td>\n",
              "      <td>...</td>\n",
              "      <td>...</td>\n",
              "      <td>...</td>\n",
              "      <td>...</td>\n",
              "    </tr>\n",
              "    <tr>\n",
              "      <th>250298</th>\n",
              "      <td>440784</td>\n",
              "      <td>5361</td>\n",
              "      <td>Neg – Tribal Water</td>\n",
              "      <td>K – Settlerism</td>\n",
              "      <td>L – Resource</td>\n",
              "      <td>Describing water as a resource to be managed r...</td>\n",
              "      <td>Wilson and Inkster 20 (, \" Respecting water: I...</td>\n",
              "      <td>Wilson and Inkster 20</td>\n",
              "      <td>287598.0</td>\n",
              "      <td>&lt;h4&gt;Describing water as a resource to be manag...</td>\n",
              "    </tr>\n",
              "    <tr>\n",
              "      <th>250299</th>\n",
              "      <td>440824</td>\n",
              "      <td>5361</td>\n",
              "      <td>Neg – Tribal Water</td>\n",
              "      <td>K – Settlerism</td>\n",
              "      <td>L – Trust Responsibility Bad</td>\n",
              "      <td>The aff’s trust relationship model is paternal...</td>\n",
              "      <td>Diver 18 — research scientist at Stanford Univ...</td>\n",
              "      <td>Diver 18</td>\n",
              "      <td>293829.0</td>\n",
              "      <td>&lt;h4&gt;The aff’s trust relationship model is &lt;u&gt;p...</td>\n",
              "    </tr>\n",
              "    <tr>\n",
              "      <th>250312</th>\n",
              "      <td>440834</td>\n",
              "      <td>5361</td>\n",
              "      <td>Neg – Tribal Water</td>\n",
              "      <td>K – Settlerism</td>\n",
              "      <td>Alt – Water</td>\n",
              "      <td>The Alternative is indigenous led governance</td>\n",
              "      <td>Wilson and Inkster 20 (, \" Respecting water: I...</td>\n",
              "      <td>Wilson and Inkster 20</td>\n",
              "      <td>287775.0</td>\n",
              "      <td>&lt;h4&gt;The Alternative is indigenous led governan...</td>\n",
              "    </tr>\n",
              "    <tr>\n",
              "      <th>266405</th>\n",
              "      <td>440527</td>\n",
              "      <td>5361</td>\n",
              "      <td>Neg – Tribal Water</td>\n",
              "      <td>CP – Tribes Alone</td>\n",
              "      <td>NB – Biodiversity</td>\n",
              "      <td>Empirics from controlled studies prove our arg...</td>\n",
              "      <td>Doshi, ‘1-26 (Sahir Doshi is an RA researching...</td>\n",
              "      <td>Doshi, ‘1-26</td>\n",
              "      <td>292514.0</td>\n",
              "      <td>&lt;h4&gt;&lt;u&gt;Empirics&lt;/u&gt; from &lt;u&gt;controlled studies...</td>\n",
              "    </tr>\n",
              "    <tr>\n",
              "      <th>281358</th>\n",
              "      <td>439189</td>\n",
              "      <td>5361</td>\n",
              "      <td>Aff – Tribal Water</td>\n",
              "      <td>AT:  CP</td>\n",
              "      <td>AT:  CP – ILAW – IACHR</td>\n",
              "      <td>IACHR is not binding, public pressure historic...</td>\n",
              "      <td>Chambers &amp; Stephens 16 (Reid Peyton Chambers i...</td>\n",
              "      <td>Chambers &amp; Stephens 16</td>\n",
              "      <td>292849.0</td>\n",
              "      <td>&lt;h4&gt;IACHR is not binding, public pressure hist...</td>\n",
              "    </tr>\n",
              "  </tbody>\n",
              "</table>\n",
              "<p>297 rows × 10 columns</p>\n",
              "</div>\n",
              "      <button class=\"colab-df-convert\" onclick=\"convertToInteractive('df-713ad9d9-293f-4fcd-bb61-94382833b366')\"\n",
              "              title=\"Convert this dataframe to an interactive table.\"\n",
              "              style=\"display:none;\">\n",
              "        \n",
              "  <svg xmlns=\"http://www.w3.org/2000/svg\" height=\"24px\"viewBox=\"0 0 24 24\"\n",
              "       width=\"24px\">\n",
              "    <path d=\"M0 0h24v24H0V0z\" fill=\"none\"/>\n",
              "    <path d=\"M18.56 5.44l.94 2.06.94-2.06 2.06-.94-2.06-.94-.94-2.06-.94 2.06-2.06.94zm-11 1L8.5 8.5l.94-2.06 2.06-.94-2.06-.94L8.5 2.5l-.94 2.06-2.06.94zm10 10l.94 2.06.94-2.06 2.06-.94-2.06-.94-.94-2.06-.94 2.06-2.06.94z\"/><path d=\"M17.41 7.96l-1.37-1.37c-.4-.4-.92-.59-1.43-.59-.52 0-1.04.2-1.43.59L10.3 9.45l-7.72 7.72c-.78.78-.78 2.05 0 2.83L4 21.41c.39.39.9.59 1.41.59.51 0 1.02-.2 1.41-.59l7.78-7.78 2.81-2.81c.8-.78.8-2.07 0-2.86zM5.41 20L4 18.59l7.72-7.72 1.47 1.35L5.41 20z\"/>\n",
              "  </svg>\n",
              "      </button>\n",
              "      \n",
              "  <style>\n",
              "    .colab-df-container {\n",
              "      display:flex;\n",
              "      flex-wrap:wrap;\n",
              "      gap: 12px;\n",
              "    }\n",
              "\n",
              "    .colab-df-convert {\n",
              "      background-color: #E8F0FE;\n",
              "      border: none;\n",
              "      border-radius: 50%;\n",
              "      cursor: pointer;\n",
              "      display: none;\n",
              "      fill: #1967D2;\n",
              "      height: 32px;\n",
              "      padding: 0 0 0 0;\n",
              "      width: 32px;\n",
              "    }\n",
              "\n",
              "    .colab-df-convert:hover {\n",
              "      background-color: #E2EBFA;\n",
              "      box-shadow: 0px 1px 2px rgba(60, 64, 67, 0.3), 0px 1px 3px 1px rgba(60, 64, 67, 0.15);\n",
              "      fill: #174EA6;\n",
              "    }\n",
              "\n",
              "    [theme=dark] .colab-df-convert {\n",
              "      background-color: #3B4455;\n",
              "      fill: #D2E3FC;\n",
              "    }\n",
              "\n",
              "    [theme=dark] .colab-df-convert:hover {\n",
              "      background-color: #434B5C;\n",
              "      box-shadow: 0px 1px 3px 1px rgba(0, 0, 0, 0.15);\n",
              "      filter: drop-shadow(0px 1px 2px rgba(0, 0, 0, 0.3));\n",
              "      fill: #FFFFFF;\n",
              "    }\n",
              "  </style>\n",
              "\n",
              "      <script>\n",
              "        const buttonEl =\n",
              "          document.querySelector('#df-713ad9d9-293f-4fcd-bb61-94382833b366 button.colab-df-convert');\n",
              "        buttonEl.style.display =\n",
              "          google.colab.kernel.accessAllowed ? 'block' : 'none';\n",
              "\n",
              "        async function convertToInteractive(key) {\n",
              "          const element = document.querySelector('#df-713ad9d9-293f-4fcd-bb61-94382833b366');\n",
              "          const dataTable =\n",
              "            await google.colab.kernel.invokeFunction('convertToInteractive',\n",
              "                                                     [key], {});\n",
              "          if (!dataTable) return;\n",
              "\n",
              "          const docLinkHtml = 'Like what you see? Visit the ' +\n",
              "            '<a target=\"_blank\" href=https://colab.research.google.com/notebooks/data_table.ipynb>data table notebook</a>'\n",
              "            + ' to learn more about interactive tables.';\n",
              "          element.innerHTML = '';\n",
              "          dataTable['output_type'] = 'display_data';\n",
              "          await google.colab.output.renderOutput(dataTable, element);\n",
              "          const docLink = document.createElement('div');\n",
              "          docLink.innerHTML = docLinkHtml;\n",
              "          element.appendChild(docLink);\n",
              "        }\n",
              "      </script>\n",
              "    </div>\n",
              "  </div>\n",
              "  "
            ]
          },
          "metadata": {},
          "execution_count": 33
        }
      ],
      "source": [
        "evClean[evClean['fileId'] == 5361]"
      ]
    },
    {
      "cell_type": "code",
      "execution_count": null,
      "metadata": {
        "id": "paG8soZ7wSw_"
      },
      "outputs": [],
      "source": [
        "def getRelatedFiles(fileId, squaredBucket=False):\n",
        "  fileVec = listToVec([fileIndexes[fileId]], len(files))\n",
        "  related = vecToSortedSeries((adjacentSFiles if squaredBucket else adjacentFiles) @ fileVec)\n",
        "  return related.set_axis(fileIds[related.index])"
      ]
    },
    {
      "cell_type": "code",
      "execution_count": null,
      "metadata": {
        "colab": {
          "base_uri": "https://localhost:8080/",
          "height": 499
        },
        "id": "Kw9T0rZ1XYi3",
        "outputId": "f9402a21-b828-43e4-cf9d-38a260aef214"
      },
      "outputs": [
        {
          "output_type": "display_data",
          "data": {
            "text/plain": [
              "id\n",
              "5361     1.249882e-01\n",
              "15142    6.318462e-02\n",
              "16609    1.348533e-02\n",
              "16666    7.965359e-03\n",
              "14798    7.788692e-03\n",
              "             ...     \n",
              "15803    3.126336e-07\n",
              "15805    3.126336e-07\n",
              "13499    3.126336e-07\n",
              "13745    3.126336e-07\n",
              "12488    3.126336e-07\n",
              "Length: 5774, dtype: float64"
            ]
          },
          "metadata": {}
        },
        {
          "output_type": "stream",
          "name": "stdout",
          "text": [
            "\n"
          ]
        },
        {
          "output_type": "display_data",
          "data": {
            "text/plain": [
              "id\n",
              "5361     1.125238e-01\n",
              "15142    6.034276e-02\n",
              "16609    1.158261e-02\n",
              "14798    7.261511e-03\n",
              "16666    7.057653e-03\n",
              "             ...     \n",
              "11836    2.382709e-09\n",
              "13497    1.948021e-09\n",
              "5391     9.229016e-10\n",
              "5364     7.431657e-10\n",
              "16096    7.081674e-10\n",
              "Length: 6397, dtype: float64"
            ]
          },
          "metadata": {}
        }
      ],
      "source": [
        "display(getRelatedFiles(nwFile, squaredBucket=False))\n",
        "print()\n",
        "display(getRelatedFiles(nwFile, squaredBucket=True))"
      ]
    },
    {
      "cell_type": "code",
      "execution_count": null,
      "metadata": {
        "colab": {
          "base_uri": "https://localhost:8080/",
          "height": 1000
        },
        "id": "Mvl8FVVkWRu2",
        "outputId": "f9c30a07-78ed-4e42-9676-5a666067947a"
      },
      "outputs": [
        {
          "data": {
            "text/html": [
              "\n",
              "  <div id=\"df-84dc2710-27ad-4709-8e82-11bd446f9ca6\">\n",
              "    <div class=\"colab-df-container\">\n",
              "      <div>\n",
              "<style scoped>\n",
              "    .dataframe tbody tr th:only-of-type {\n",
              "        vertical-align: middle;\n",
              "    }\n",
              "\n",
              "    .dataframe tbody tr th {\n",
              "        vertical-align: top;\n",
              "    }\n",
              "\n",
              "    .dataframe thead th {\n",
              "        text-align: right;\n",
              "    }\n",
              "</style>\n",
              "<table border=\"1\" class=\"dataframe\">\n",
              "  <thead>\n",
              "    <tr style=\"text-align: right;\">\n",
              "      <th></th>\n",
              "      <th>id</th>\n",
              "      <th>fileId</th>\n",
              "      <th>pocket</th>\n",
              "      <th>hat</th>\n",
              "      <th>block</th>\n",
              "      <th>tag</th>\n",
              "      <th>fullcite</th>\n",
              "      <th>cite</th>\n",
              "      <th>bucketId</th>\n",
              "      <th>markup</th>\n",
              "    </tr>\n",
              "  </thead>\n",
              "  <tbody>\n",
              "    <tr>\n",
              "      <th>77900</th>\n",
              "      <td>874614</td>\n",
              "      <td>16923</td>\n",
              "      <td></td>\n",
              "      <td>T</td>\n",
              "      <td></td>\n",
              "      <td>1 - Predictable limits---they blur the lines t...</td>\n",
              "      <td></td>\n",
              "      <td></td>\n",
              "      <td>455956.0</td>\n",
              "      <td>&lt;h4&gt;1 - Predictable limits---they blur the lin...</td>\n",
              "    </tr>\n",
              "    <tr>\n",
              "      <th>84419</th>\n",
              "      <td>874638</td>\n",
              "      <td>16923</td>\n",
              "      <td></td>\n",
              "      <td>K</td>\n",
              "      <td></td>\n",
              "      <td>Neo-colonialism produces racialized sexualized...</td>\n",
              "      <td>Maldonado-Torres ‘08 associate professor of co...</td>\n",
              "      <td>Maldonado-Torres ‘08</td>\n",
              "      <td>2597.0</td>\n",
              "      <td>&lt;h4&gt;Neo-colonialism produces racialized sexual...</td>\n",
              "    </tr>\n",
              "    <tr>\n",
              "      <th>87737</th>\n",
              "      <td>874701</td>\n",
              "      <td>16923</td>\n",
              "      <td></td>\n",
              "      <td>Framing</td>\n",
              "      <td></td>\n",
              "      <td>Existential risks outweigh.</td>\n",
              "      <td>Ord 20. Toby Ord, Senior Research Fellow in Ph...</td>\n",
              "      <td>Ord 20.</td>\n",
              "      <td>290980.0</td>\n",
              "      <td>&lt;h4&gt;Existential risks outweigh.&lt;/h4&gt;&lt;p&gt;&lt;strong...</td>\n",
              "    </tr>\n",
              "    <tr>\n",
              "      <th>87920</th>\n",
              "      <td>874758</td>\n",
              "      <td>16923</td>\n",
              "      <td></td>\n",
              "      <td>Solvency</td>\n",
              "      <td></td>\n",
              "      <td>Agencies will resist tribal self-governance tr...</td>\n",
              "      <td>Stommer and Osborne 15 - Geoffrey D. Strommer ...</td>\n",
              "      <td>Stommer and Osborne 15 -</td>\n",
              "      <td>297062.0</td>\n",
              "      <td>&lt;h4&gt;Agencies will resist tribal self-governanc...</td>\n",
              "    </tr>\n",
              "    <tr>\n",
              "      <th>223921</th>\n",
              "      <td>874611</td>\n",
              "      <td>16923</td>\n",
              "      <td></td>\n",
              "      <td>T</td>\n",
              "      <td></td>\n",
              "      <td>Vote neg:</td>\n",
              "      <td></td>\n",
              "      <td></td>\n",
              "      <td>455953.0</td>\n",
              "      <td>&lt;h4&gt;Vote neg:&lt;/h4&gt;</td>\n",
              "    </tr>\n",
              "    <tr>\n",
              "      <th>223993</th>\n",
              "      <td>874602</td>\n",
              "      <td>16923</td>\n",
              "      <td></td>\n",
              "      <td>T</td>\n",
              "      <td></td>\n",
              "      <td>Interp: “In” means within the limits of</td>\n",
              "      <td>Webster’s 6 – Merriam Webster Online Dictionar...</td>\n",
              "      <td>Webster’s 6</td>\n",
              "      <td>128408.0</td>\n",
              "      <td>&lt;h4&gt;Interp: “In” means within the limits of&lt;/h...</td>\n",
              "    </tr>\n",
              "    <tr>\n",
              "      <th>224002</th>\n",
              "      <td>874635</td>\n",
              "      <td>16923</td>\n",
              "      <td></td>\n",
              "      <td>K</td>\n",
              "      <td></td>\n",
              "      <td>Colonial logic necessitates racialized violenc...</td>\n",
              "      <td>Street ‘04 [Paul, writes on imperialism, racis...</td>\n",
              "      <td>Street ‘04</td>\n",
              "      <td>155685.0</td>\n",
              "      <td>&lt;h4&gt;Colonial logic necessitates racialized vio...</td>\n",
              "    </tr>\n",
              "    <tr>\n",
              "      <th>224007</th>\n",
              "      <td>874694</td>\n",
              "      <td>16923</td>\n",
              "      <td></td>\n",
              "      <td>Framing</td>\n",
              "      <td></td>\n",
              "      <td>We access all their framing through turns case...</td>\n",
              "      <td></td>\n",
              "      <td></td>\n",
              "      <td>455986.0</td>\n",
              "      <td>&lt;h4&gt;We access all their framing through &lt;u&gt;tur...</td>\n",
              "    </tr>\n",
              "    <tr>\n",
              "      <th>224017</th>\n",
              "      <td>874618</td>\n",
              "      <td>16923</td>\n",
              "      <td></td>\n",
              "      <td>T</td>\n",
              "      <td></td>\n",
              "      <td>2 - Topic education---core controversy is mean...</td>\n",
              "      <td></td>\n",
              "      <td></td>\n",
              "      <td>455959.0</td>\n",
              "      <td>&lt;h4&gt;2 - Topic education---core controversy is ...</td>\n",
              "    </tr>\n",
              "    <tr>\n",
              "      <th>224018</th>\n",
              "      <td>874627</td>\n",
              "      <td>16923</td>\n",
              "      <td></td>\n",
              "      <td>T</td>\n",
              "      <td></td>\n",
              "      <td>4 - Effects-T---They’re providing resources to...</td>\n",
              "      <td></td>\n",
              "      <td></td>\n",
              "      <td>455963.0</td>\n",
              "      <td>&lt;h4&gt;4 - Effects-T---They’re providing resource...</td>\n",
              "    </tr>\n",
              "    <tr>\n",
              "      <th>224026</th>\n",
              "      <td>874631</td>\n",
              "      <td>16923</td>\n",
              "      <td></td>\n",
              "      <td>K</td>\n",
              "      <td></td>\n",
              "      <td>The plan is an ideal of gift-giving, where the...</td>\n",
              "      <td>Arrigo and Williams ‘00  [Arrigo, Bruce and Wi...</td>\n",
              "      <td>Arrigo and Williams ‘00</td>\n",
              "      <td>38839.0</td>\n",
              "      <td>&lt;h4&gt;&lt;strong&gt;The plan is an ideal of gift-givin...</td>\n",
              "    </tr>\n",
              "    <tr>\n",
              "      <th>224027</th>\n",
              "      <td>874606</td>\n",
              "      <td>16923</td>\n",
              "      <td></td>\n",
              "      <td>T</td>\n",
              "      <td></td>\n",
              "      <td>Violation: Tribes and tribal land are NOT “In ...</td>\n",
              "      <td>Siegel ‘18, APL application developer, “Are Na...</td>\n",
              "      <td>Siegel ‘18</td>\n",
              "      <td>293133.0</td>\n",
              "      <td>&lt;h4&gt;Violation: Tribes and tribal land are NOT ...</td>\n",
              "    </tr>\n",
              "    <tr>\n",
              "      <th>224033</th>\n",
              "      <td>874623</td>\n",
              "      <td>16923</td>\n",
              "      <td></td>\n",
              "      <td>T</td>\n",
              "      <td></td>\n",
              "      <td>3 - Extra-T---that’s an independent voter. The...</td>\n",
              "      <td></td>\n",
              "      <td></td>\n",
              "      <td>455961.0</td>\n",
              "      <td>&lt;h4&gt;3 - Extra-T---that’s an independent voter....</td>\n",
              "    </tr>\n",
              "    <tr>\n",
              "      <th>224035</th>\n",
              "      <td>874642</td>\n",
              "      <td>16923</td>\n",
              "      <td></td>\n",
              "      <td>K</td>\n",
              "      <td></td>\n",
              "      <td>Thus, the alternative: Vote negative to reject...</td>\n",
              "      <td></td>\n",
              "      <td></td>\n",
              "      <td>455969.0</td>\n",
              "      <td>&lt;h4&gt;Thus, the alternative: Vote negative to re...</td>\n",
              "    </tr>\n",
              "    <tr>\n",
              "      <th>224043</th>\n",
              "      <td>874644</td>\n",
              "      <td>16923</td>\n",
              "      <td></td>\n",
              "      <td>K</td>\n",
              "      <td></td>\n",
              "      <td>Only the alternative has the radical potential...</td>\n",
              "      <td>Malott ‘08 [Curry, faculty member in Professio...</td>\n",
              "      <td>Malott ‘08</td>\n",
              "      <td>455819.0</td>\n",
              "      <td>&lt;h4&gt;Only the alternative has the radical poten...</td>\n",
              "    </tr>\n",
              "    <tr>\n",
              "      <th>224055</th>\n",
              "      <td>874654</td>\n",
              "      <td>16923</td>\n",
              "      <td></td>\n",
              "      <td>DA</td>\n",
              "      <td></td>\n",
              "      <td>Build Back Better will pass---PC is key</td>\n",
              "      <td>Barron-Lopez 11-11 (Laura Barron-Lopez, Politi...</td>\n",
              "      <td>Barron-Lopez 11-11</td>\n",
              "      <td>388180.0</td>\n",
              "      <td>&lt;h4&gt;&lt;u&gt;B&lt;/u&gt;uild &lt;u&gt;B&lt;/u&gt;ack &lt;u&gt;B&lt;/u&gt;etter wil...</td>\n",
              "    </tr>\n",
              "    <tr>\n",
              "      <th>224060</th>\n",
              "      <td>874649</td>\n",
              "      <td>16923</td>\n",
              "      <td></td>\n",
              "      <td>K</td>\n",
              "      <td></td>\n",
              "      <td>AND, academic spaces are key. They act as a fo...</td>\n",
              "      <td>Grande ‘08 [Sandy, Associate Professor of Educ...</td>\n",
              "      <td>Grande ‘08</td>\n",
              "      <td>155788.0</td>\n",
              "      <td>&lt;h4&gt;AND, academic spaces are key. They act as ...</td>\n",
              "    </tr>\n",
              "    <tr>\n",
              "      <th>224064</th>\n",
              "      <td>874720</td>\n",
              "      <td>16923</td>\n",
              "      <td></td>\n",
              "      <td>Solvency</td>\n",
              "      <td></td>\n",
              "      <td>Even if self-determination happens, white dema...</td>\n",
              "      <td></td>\n",
              "      <td></td>\n",
              "      <td>455995.0</td>\n",
              "      <td>&lt;h4&gt;Even if self-determination happens, white ...</td>\n",
              "    </tr>\n",
              "    <tr>\n",
              "      <th>224068</th>\n",
              "      <td>874661</td>\n",
              "      <td>16923</td>\n",
              "      <td></td>\n",
              "      <td>DA</td>\n",
              "      <td></td>\n",
              "      <td>The plan triggers a political firestorm, consu...</td>\n",
              "      <td>Debra Kahn &amp; Annie Snider 8/18, staff writers,...</td>\n",
              "      <td>Kahn &amp; Snider 8/18</td>\n",
              "      <td>386072.0</td>\n",
              "      <td>&lt;h4&gt;The plan triggers a &lt;u&gt;political firestorm...</td>\n",
              "    </tr>\n",
              "    <tr>\n",
              "      <th>224075</th>\n",
              "      <td>874677</td>\n",
              "      <td>16923</td>\n",
              "      <td></td>\n",
              "      <td>DA</td>\n",
              "      <td></td>\n",
              "      <td>Extinction</td>\n",
              "      <td>David Spratt 19, Research Director for Breakth...</td>\n",
              "      <td>Spratt 19</td>\n",
              "      <td>276226.0</td>\n",
              "      <td>&lt;h4&gt;Extinction&lt;/h4&gt;&lt;p&gt;David &lt;strong&gt;Spratt 19&lt;...</td>\n",
              "    </tr>\n",
              "    <tr>\n",
              "      <th>224079</th>\n",
              "      <td>874670</td>\n",
              "      <td>16923</td>\n",
              "      <td></td>\n",
              "      <td>DA</td>\n",
              "      <td></td>\n",
              "      <td>BBB solves climate</td>\n",
              "      <td>Davenport 10-28 (Coral Davenport, NYT Staff, P...</td>\n",
              "      <td>Davenport 10-28</td>\n",
              "      <td>390561.0</td>\n",
              "      <td>&lt;h4&gt;BBB solves &lt;u&gt;climate&lt;/h4&gt;&lt;p&gt;&lt;/u&gt;&lt;strong&gt;D...</td>\n",
              "    </tr>\n",
              "    <tr>\n",
              "      <th>224080</th>\n",
              "      <td>874683</td>\n",
              "      <td>16923</td>\n",
              "      <td></td>\n",
              "      <td>Framing</td>\n",
              "      <td></td>\n",
              "      <td>Their framing doesn’t assume debate where drop...</td>\n",
              "      <td></td>\n",
              "      <td></td>\n",
              "      <td>455983.0</td>\n",
              "      <td>&lt;h4&gt;Their framing doesn’t assume debate where ...</td>\n",
              "    </tr>\n",
              "    <tr>\n",
              "      <th>224084</th>\n",
              "      <td>874732</td>\n",
              "      <td>16923</td>\n",
              "      <td></td>\n",
              "      <td>Solvency</td>\n",
              "      <td></td>\n",
              "      <td>Means you should view case args as more than j...</td>\n",
              "      <td></td>\n",
              "      <td></td>\n",
              "      <td>456001.0</td>\n",
              "      <td>&lt;h4&gt;Means you should view case args as more th...</td>\n",
              "    </tr>\n",
              "    <tr>\n",
              "      <th>224091</th>\n",
              "      <td>874708</td>\n",
              "      <td>16923</td>\n",
              "      <td></td>\n",
              "      <td>Framing</td>\n",
              "      <td></td>\n",
              "      <td>Consequentialism first. Prioritizing certain m...</td>\n",
              "      <td>Greene, 10 – Associate Professor of the Social...</td>\n",
              "      <td>Greene, 10</td>\n",
              "      <td>172346.0</td>\n",
              "      <td>&lt;h4&gt;Consequentialism first. Prioritizing certa...</td>\n",
              "    </tr>\n",
              "    <tr>\n",
              "      <th>224098</th>\n",
              "      <td>874715</td>\n",
              "      <td>16923</td>\n",
              "      <td></td>\n",
              "      <td>Solvency</td>\n",
              "      <td></td>\n",
              "      <td>The aff’s incremental approach will fail. Few ...</td>\n",
              "      <td></td>\n",
              "      <td></td>\n",
              "      <td>455992.0</td>\n",
              "      <td>&lt;h4&gt;The aff’s incremental approach will fail. ...</td>\n",
              "    </tr>\n",
              "    <tr>\n",
              "      <th>224119</th>\n",
              "      <td>874727</td>\n",
              "      <td>16923</td>\n",
              "      <td></td>\n",
              "      <td>Solvency</td>\n",
              "      <td></td>\n",
              "      <td>Self-determination won’t happen under the aff-...</td>\n",
              "      <td></td>\n",
              "      <td></td>\n",
              "      <td>455999.0</td>\n",
              "      <td>&lt;h4&gt;Self-determination won’t happen under the ...</td>\n",
              "    </tr>\n",
              "    <tr>\n",
              "      <th>224131</th>\n",
              "      <td>874737</td>\n",
              "      <td>16923</td>\n",
              "      <td></td>\n",
              "      <td>Solvency</td>\n",
              "      <td></td>\n",
              "      <td>That turns self-determination because it’s hol...</td>\n",
              "      <td></td>\n",
              "      <td></td>\n",
              "      <td>456005.0</td>\n",
              "      <td>&lt;h4&gt;That turns self-determination because it’s...</td>\n",
              "    </tr>\n",
              "    <tr>\n",
              "      <th>224143</th>\n",
              "      <td>874751</td>\n",
              "      <td>16923</td>\n",
              "      <td></td>\n",
              "      <td>Solvency</td>\n",
              "      <td></td>\n",
              "      <td>Plan fails – lack of funding and resource mana...</td>\n",
              "      <td>Marsh et al. 15 [Karen R. Marsh and Michael D....</td>\n",
              "      <td>Marsh et al. 15</td>\n",
              "      <td>297076.0</td>\n",
              "      <td>&lt;h4&gt;Plan fails – lack of funding and resource ...</td>\n",
              "    </tr>\n",
              "    <tr>\n",
              "      <th>224159</th>\n",
              "      <td>874768</td>\n",
              "      <td>16923</td>\n",
              "      <td></td>\n",
              "      <td>Solvency</td>\n",
              "      <td></td>\n",
              "      <td>Tribal WQS can’t solve water access – delivery...</td>\n",
              "      <td>1AC Tanana et al 21 (Heather Tanana (Lead Auth...</td>\n",
              "      <td>1AC Tanana et al 21</td>\n",
              "      <td>293005.0</td>\n",
              "      <td>&lt;h4&gt;Tribal WQS can’t solve water &lt;u&gt;access&lt;/u&gt;...</td>\n",
              "    </tr>\n",
              "    <tr>\n",
              "      <th>224162</th>\n",
              "      <td>874745</td>\n",
              "      <td>16923</td>\n",
              "      <td></td>\n",
              "      <td>Solvency</td>\n",
              "      <td></td>\n",
              "      <td>Also proves a bunch of alt causes the aff can’...</td>\n",
              "      <td>Alfred ’99 (PEACE, POWER, RIGHTEOUSNESS, AN IN...</td>\n",
              "      <td>Alfred ’99</td>\n",
              "      <td>455966.0</td>\n",
              "      <td>&lt;h4&gt;Also proves a bunch of alt causes the aff ...</td>\n",
              "    </tr>\n",
              "    <tr>\n",
              "      <th>224172</th>\n",
              "      <td>874788</td>\n",
              "      <td>16923</td>\n",
              "      <td></td>\n",
              "      <td>Solvency</td>\n",
              "      <td></td>\n",
              "      <td>A – They’re fought by external actors and EPA ...</td>\n",
              "      <td>Diver 18 — research scientist at Stanford Univ...</td>\n",
              "      <td>Diver 18</td>\n",
              "      <td>293011.0</td>\n",
              "      <td>&lt;h4&gt;A – They’re fought by &lt;u&gt;external actors&lt;/...</td>\n",
              "    </tr>\n",
              "    <tr>\n",
              "      <th>224190</th>\n",
              "      <td>874812</td>\n",
              "      <td>16923</td>\n",
              "      <td></td>\n",
              "      <td>Solvency</td>\n",
              "      <td></td>\n",
              "      <td>Throwing federal money at the problem is not t...</td>\n",
              "      <td>Oven 21 (Sarah, expects to graduate in May 202...</td>\n",
              "      <td>Oven 21</td>\n",
              "      <td>293067.0</td>\n",
              "      <td>&lt;h4&gt;Throwing federal money at the problem is n...</td>\n",
              "    </tr>\n",
              "    <tr>\n",
              "      <th>224197</th>\n",
              "      <td>874821</td>\n",
              "      <td>16923</td>\n",
              "      <td></td>\n",
              "      <td>Solvency</td>\n",
              "      <td></td>\n",
              "      <td>Specifically, the EPA encourages cultural assi...</td>\n",
              "      <td>Diver 18 — research scientist at Stanford Univ...</td>\n",
              "      <td>Diver 18</td>\n",
              "      <td>293089.0</td>\n",
              "      <td>&lt;h4&gt;Specifically, the EPA encourages &lt;u&gt;cultur...</td>\n",
              "    </tr>\n",
              "    <tr>\n",
              "      <th>224205</th>\n",
              "      <td>874803</td>\n",
              "      <td>16923</td>\n",
              "      <td></td>\n",
              "      <td>Solvency</td>\n",
              "      <td></td>\n",
              "      <td>Investment is not enough – water systems need ...</td>\n",
              "      <td>Millar and Rae 18 (John, executive director of...</td>\n",
              "      <td>Millar and Rae 18</td>\n",
              "      <td>293064.0</td>\n",
              "      <td>&lt;h4&gt;Investment is not enough – water systems n...</td>\n",
              "    </tr>\n",
              "    <tr>\n",
              "      <th>224254</th>\n",
              "      <td>874778</td>\n",
              "      <td>16923</td>\n",
              "      <td></td>\n",
              "      <td>Solvency</td>\n",
              "      <td></td>\n",
              "      <td>WQSs fail —</td>\n",
              "      <td></td>\n",
              "      <td></td>\n",
              "      <td>456014.0</td>\n",
              "      <td>&lt;h4&gt;WQSs fail — &lt;/h4&gt;</td>\n",
              "    </tr>\n",
              "    <tr>\n",
              "      <th>224256</th>\n",
              "      <td>874795</td>\n",
              "      <td>16923</td>\n",
              "      <td></td>\n",
              "      <td>Solvency</td>\n",
              "      <td></td>\n",
              "      <td>B — Regulatory compliance and enforcement are ...</td>\n",
              "      <td>Teodoro et al. 16 — associate professor, Texas...</td>\n",
              "      <td>Teodoro et al. 16</td>\n",
              "      <td>293018.0</td>\n",
              "      <td>&lt;h4&gt;B — &lt;u&gt;Regulatory compliance&lt;/u&gt; and &lt;u&gt;en...</td>\n",
              "    </tr>\n",
              "  </tbody>\n",
              "</table>\n",
              "</div>\n",
              "      <button class=\"colab-df-convert\" onclick=\"convertToInteractive('df-84dc2710-27ad-4709-8e82-11bd446f9ca6')\"\n",
              "              title=\"Convert this dataframe to an interactive table.\"\n",
              "              style=\"display:none;\">\n",
              "        \n",
              "  <svg xmlns=\"http://www.w3.org/2000/svg\" height=\"24px\"viewBox=\"0 0 24 24\"\n",
              "       width=\"24px\">\n",
              "    <path d=\"M0 0h24v24H0V0z\" fill=\"none\"/>\n",
              "    <path d=\"M18.56 5.44l.94 2.06.94-2.06 2.06-.94-2.06-.94-.94-2.06-.94 2.06-2.06.94zm-11 1L8.5 8.5l.94-2.06 2.06-.94-2.06-.94L8.5 2.5l-.94 2.06-2.06.94zm10 10l.94 2.06.94-2.06 2.06-.94-2.06-.94-.94-2.06-.94 2.06-2.06.94z\"/><path d=\"M17.41 7.96l-1.37-1.37c-.4-.4-.92-.59-1.43-.59-.52 0-1.04.2-1.43.59L10.3 9.45l-7.72 7.72c-.78.78-.78 2.05 0 2.83L4 21.41c.39.39.9.59 1.41.59.51 0 1.02-.2 1.41-.59l7.78-7.78 2.81-2.81c.8-.78.8-2.07 0-2.86zM5.41 20L4 18.59l7.72-7.72 1.47 1.35L5.41 20z\"/>\n",
              "  </svg>\n",
              "      </button>\n",
              "      \n",
              "  <style>\n",
              "    .colab-df-container {\n",
              "      display:flex;\n",
              "      flex-wrap:wrap;\n",
              "      gap: 12px;\n",
              "    }\n",
              "\n",
              "    .colab-df-convert {\n",
              "      background-color: #E8F0FE;\n",
              "      border: none;\n",
              "      border-radius: 50%;\n",
              "      cursor: pointer;\n",
              "      display: none;\n",
              "      fill: #1967D2;\n",
              "      height: 32px;\n",
              "      padding: 0 0 0 0;\n",
              "      width: 32px;\n",
              "    }\n",
              "\n",
              "    .colab-df-convert:hover {\n",
              "      background-color: #E2EBFA;\n",
              "      box-shadow: 0px 1px 2px rgba(60, 64, 67, 0.3), 0px 1px 3px 1px rgba(60, 64, 67, 0.15);\n",
              "      fill: #174EA6;\n",
              "    }\n",
              "\n",
              "    [theme=dark] .colab-df-convert {\n",
              "      background-color: #3B4455;\n",
              "      fill: #D2E3FC;\n",
              "    }\n",
              "\n",
              "    [theme=dark] .colab-df-convert:hover {\n",
              "      background-color: #434B5C;\n",
              "      box-shadow: 0px 1px 3px 1px rgba(0, 0, 0, 0.15);\n",
              "      filter: drop-shadow(0px 1px 2px rgba(0, 0, 0, 0.3));\n",
              "      fill: #FFFFFF;\n",
              "    }\n",
              "  </style>\n",
              "\n",
              "      <script>\n",
              "        const buttonEl =\n",
              "          document.querySelector('#df-84dc2710-27ad-4709-8e82-11bd446f9ca6 button.colab-df-convert');\n",
              "        buttonEl.style.display =\n",
              "          google.colab.kernel.accessAllowed ? 'block' : 'none';\n",
              "\n",
              "        async function convertToInteractive(key) {\n",
              "          const element = document.querySelector('#df-84dc2710-27ad-4709-8e82-11bd446f9ca6');\n",
              "          const dataTable =\n",
              "            await google.colab.kernel.invokeFunction('convertToInteractive',\n",
              "                                                     [key], {});\n",
              "          if (!dataTable) return;\n",
              "\n",
              "          const docLinkHtml = 'Like what you see? Visit the ' +\n",
              "            '<a target=\"_blank\" href=https://colab.research.google.com/notebooks/data_table.ipynb>data table notebook</a>'\n",
              "            + ' to learn more about interactive tables.';\n",
              "          element.innerHTML = '';\n",
              "          dataTable['output_type'] = 'display_data';\n",
              "          await google.colab.output.renderOutput(dataTable, element);\n",
              "          const docLink = document.createElement('div');\n",
              "          docLink.innerHTML = docLinkHtml;\n",
              "          element.appendChild(docLink);\n",
              "        }\n",
              "      </script>\n",
              "    </div>\n",
              "  </div>\n",
              "  "
            ],
            "text/plain": [
              "            id  fileId pocket       hat block  \\\n",
              "77900   874614   16923                T         \n",
              "84419   874638   16923                K         \n",
              "87737   874701   16923          Framing         \n",
              "87920   874758   16923         Solvency         \n",
              "223921  874611   16923                T         \n",
              "223993  874602   16923                T         \n",
              "224002  874635   16923                K         \n",
              "224007  874694   16923          Framing         \n",
              "224017  874618   16923                T         \n",
              "224018  874627   16923                T         \n",
              "224026  874631   16923                K         \n",
              "224027  874606   16923                T         \n",
              "224033  874623   16923                T         \n",
              "224035  874642   16923                K         \n",
              "224043  874644   16923                K         \n",
              "224055  874654   16923               DA         \n",
              "224060  874649   16923                K         \n",
              "224064  874720   16923         Solvency         \n",
              "224068  874661   16923               DA         \n",
              "224075  874677   16923               DA         \n",
              "224079  874670   16923               DA         \n",
              "224080  874683   16923          Framing         \n",
              "224084  874732   16923         Solvency         \n",
              "224091  874708   16923          Framing         \n",
              "224098  874715   16923         Solvency         \n",
              "224119  874727   16923         Solvency         \n",
              "224131  874737   16923         Solvency         \n",
              "224143  874751   16923         Solvency         \n",
              "224159  874768   16923         Solvency         \n",
              "224162  874745   16923         Solvency         \n",
              "224172  874788   16923         Solvency         \n",
              "224190  874812   16923         Solvency         \n",
              "224197  874821   16923         Solvency         \n",
              "224205  874803   16923         Solvency         \n",
              "224254  874778   16923         Solvency         \n",
              "224256  874795   16923         Solvency         \n",
              "\n",
              "                                                      tag  \\\n",
              "77900   1 - Predictable limits---they blur the lines t...   \n",
              "84419   Neo-colonialism produces racialized sexualized...   \n",
              "87737                         Existential risks outweigh.   \n",
              "87920   Agencies will resist tribal self-governance tr...   \n",
              "223921                                          Vote neg:   \n",
              "223993            Interp: “In” means within the limits of   \n",
              "224002  Colonial logic necessitates racialized violenc...   \n",
              "224007  We access all their framing through turns case...   \n",
              "224017  2 - Topic education---core controversy is mean...   \n",
              "224018  4 - Effects-T---They’re providing resources to...   \n",
              "224026  The plan is an ideal of gift-giving, where the...   \n",
              "224027  Violation: Tribes and tribal land are NOT “In ...   \n",
              "224033  3 - Extra-T---that’s an independent voter. The...   \n",
              "224035  Thus, the alternative: Vote negative to reject...   \n",
              "224043  Only the alternative has the radical potential...   \n",
              "224055            Build Back Better will pass---PC is key   \n",
              "224060  AND, academic spaces are key. They act as a fo...   \n",
              "224064  Even if self-determination happens, white dema...   \n",
              "224068  The plan triggers a political firestorm, consu...   \n",
              "224075                                         Extinction   \n",
              "224079                                 BBB solves climate   \n",
              "224080  Their framing doesn’t assume debate where drop...   \n",
              "224084  Means you should view case args as more than j...   \n",
              "224091  Consequentialism first. Prioritizing certain m...   \n",
              "224098  The aff’s incremental approach will fail. Few ...   \n",
              "224119  Self-determination won’t happen under the aff-...   \n",
              "224131  That turns self-determination because it’s hol...   \n",
              "224143  Plan fails – lack of funding and resource mana...   \n",
              "224159  Tribal WQS can’t solve water access – delivery...   \n",
              "224162  Also proves a bunch of alt causes the aff can’...   \n",
              "224172  A – They’re fought by external actors and EPA ...   \n",
              "224190  Throwing federal money at the problem is not t...   \n",
              "224197  Specifically, the EPA encourages cultural assi...   \n",
              "224205  Investment is not enough – water systems need ...   \n",
              "224254                                        WQSs fail —   \n",
              "224256  B — Regulatory compliance and enforcement are ...   \n",
              "\n",
              "                                                 fullcite  \\\n",
              "77900                                                       \n",
              "84419   Maldonado-Torres ‘08 associate professor of co...   \n",
              "87737   Ord 20. Toby Ord, Senior Research Fellow in Ph...   \n",
              "87920   Stommer and Osborne 15 - Geoffrey D. Strommer ...   \n",
              "223921                                                      \n",
              "223993  Webster’s 6 – Merriam Webster Online Dictionar...   \n",
              "224002  Street ‘04 [Paul, writes on imperialism, racis...   \n",
              "224007                                                      \n",
              "224017                                                      \n",
              "224018                                                      \n",
              "224026  Arrigo and Williams ‘00  [Arrigo, Bruce and Wi...   \n",
              "224027  Siegel ‘18, APL application developer, “Are Na...   \n",
              "224033                                                      \n",
              "224035                                                      \n",
              "224043  Malott ‘08 [Curry, faculty member in Professio...   \n",
              "224055  Barron-Lopez 11-11 (Laura Barron-Lopez, Politi...   \n",
              "224060  Grande ‘08 [Sandy, Associate Professor of Educ...   \n",
              "224064                                                      \n",
              "224068  Debra Kahn & Annie Snider 8/18, staff writers,...   \n",
              "224075  David Spratt 19, Research Director for Breakth...   \n",
              "224079  Davenport 10-28 (Coral Davenport, NYT Staff, P...   \n",
              "224080                                                      \n",
              "224084                                                      \n",
              "224091  Greene, 10 – Associate Professor of the Social...   \n",
              "224098                                                      \n",
              "224119                                                      \n",
              "224131                                                      \n",
              "224143  Marsh et al. 15 [Karen R. Marsh and Michael D....   \n",
              "224159  1AC Tanana et al 21 (Heather Tanana (Lead Auth...   \n",
              "224162  Alfred ’99 (PEACE, POWER, RIGHTEOUSNESS, AN IN...   \n",
              "224172  Diver 18 — research scientist at Stanford Univ...   \n",
              "224190  Oven 21 (Sarah, expects to graduate in May 202...   \n",
              "224197  Diver 18 — research scientist at Stanford Univ...   \n",
              "224205  Millar and Rae 18 (John, executive director of...   \n",
              "224254                                                      \n",
              "224256  Teodoro et al. 16 — associate professor, Texas...   \n",
              "\n",
              "                            cite  bucketId  \\\n",
              "77900                             455956.0   \n",
              "84419       Maldonado-Torres ‘08    2597.0   \n",
              "87737                    Ord 20.  290980.0   \n",
              "87920   Stommer and Osborne 15 -  297062.0   \n",
              "223921                            455953.0   \n",
              "223993               Webster’s 6  128408.0   \n",
              "224002                Street ‘04  155685.0   \n",
              "224007                            455986.0   \n",
              "224017                            455959.0   \n",
              "224018                            455963.0   \n",
              "224026   Arrigo and Williams ‘00   38839.0   \n",
              "224027                Siegel ‘18  293133.0   \n",
              "224033                            455961.0   \n",
              "224035                            455969.0   \n",
              "224043                Malott ‘08  455819.0   \n",
              "224055        Barron-Lopez 11-11  388180.0   \n",
              "224060                Grande ‘08  155788.0   \n",
              "224064                            455995.0   \n",
              "224068        Kahn & Snider 8/18  386072.0   \n",
              "224075                 Spratt 19  276226.0   \n",
              "224079           Davenport 10-28  390561.0   \n",
              "224080                            455983.0   \n",
              "224084                            456001.0   \n",
              "224091                Greene, 10  172346.0   \n",
              "224098                            455992.0   \n",
              "224119                            455999.0   \n",
              "224131                            456005.0   \n",
              "224143           Marsh et al. 15  297076.0   \n",
              "224159       1AC Tanana et al 21  293005.0   \n",
              "224162                Alfred ’99  455966.0   \n",
              "224172                  Diver 18  293011.0   \n",
              "224190                   Oven 21  293067.0   \n",
              "224197                  Diver 18  293089.0   \n",
              "224205         Millar and Rae 18  293064.0   \n",
              "224254                            456014.0   \n",
              "224256         Teodoro et al. 16  293018.0   \n",
              "\n",
              "                                                   markup  \n",
              "77900   <h4>1 - Predictable limits---they blur the lin...  \n",
              "84419   <h4>Neo-colonialism produces racialized sexual...  \n",
              "87737   <h4>Existential risks outweigh.</h4><p><strong...  \n",
              "87920   <h4>Agencies will resist tribal self-governanc...  \n",
              "223921                                 <h4>Vote neg:</h4>  \n",
              "223993  <h4>Interp: “In” means within the limits of</h...  \n",
              "224002  <h4>Colonial logic necessitates racialized vio...  \n",
              "224007  <h4>We access all their framing through <u>tur...  \n",
              "224017  <h4>2 - Topic education---core controversy is ...  \n",
              "224018  <h4>4 - Effects-T---They’re providing resource...  \n",
              "224026  <h4><strong>The plan is an ideal of gift-givin...  \n",
              "224027  <h4>Violation: Tribes and tribal land are NOT ...  \n",
              "224033  <h4>3 - Extra-T---that’s an independent voter....  \n",
              "224035  <h4>Thus, the alternative: Vote negative to re...  \n",
              "224043  <h4>Only the alternative has the radical poten...  \n",
              "224055  <h4><u>B</u>uild <u>B</u>ack <u>B</u>etter wil...  \n",
              "224060  <h4>AND, academic spaces are key. They act as ...  \n",
              "224064  <h4>Even if self-determination happens, white ...  \n",
              "224068  <h4>The plan triggers a <u>political firestorm...  \n",
              "224075  <h4>Extinction</h4><p>David <strong>Spratt 19<...  \n",
              "224079  <h4>BBB solves <u>climate</h4><p></u><strong>D...  \n",
              "224080  <h4>Their framing doesn’t assume debate where ...  \n",
              "224084  <h4>Means you should view case args as more th...  \n",
              "224091  <h4>Consequentialism first. Prioritizing certa...  \n",
              "224098  <h4>The aff’s incremental approach will fail. ...  \n",
              "224119  <h4>Self-determination won’t happen under the ...  \n",
              "224131  <h4>That turns self-determination because it’s...  \n",
              "224143  <h4>Plan fails – lack of funding and resource ...  \n",
              "224159  <h4>Tribal WQS can’t solve water <u>access</u>...  \n",
              "224162  <h4>Also proves a bunch of alt causes the aff ...  \n",
              "224172  <h4>A – They’re fought by <u>external actors</...  \n",
              "224190  <h4>Throwing federal money at the problem is n...  \n",
              "224197  <h4>Specifically, the EPA encourages <u>cultur...  \n",
              "224205  <h4>Investment is not enough – water systems n...  \n",
              "224254                              <h4>WQSs fail — </h4>  \n",
              "224256  <h4>B — <u>Regulatory compliance</u> and <u>en...  "
            ]
          },
          "execution_count": 66,
          "metadata": {},
          "output_type": "execute_result"
        }
      ],
      "source": [
        "evClean[evClean['fileId'] == 16923]"
      ]
    },
    {
      "cell_type": "code",
      "execution_count": null,
      "metadata": {
        "colab": {
          "base_uri": "https://localhost:8080/"
        },
        "id": "gUv2r6riK6Lz",
        "outputId": "432e4657-c7a4-459b-b48b-1bc906ab1cb8"
      },
      "outputs": [
        {
          "data": {
            "text/plain": [
              "fileId\n",
              "16609    3.314685e-02\n",
              "5361     1.752779e-02\n",
              "16666    1.163849e-02\n",
              "5324     6.344629e-03\n",
              "16923    5.097813e-03\n",
              "             ...     \n",
              "10635    3.931618e-07\n",
              "11410    3.931618e-07\n",
              "13121    3.931618e-07\n",
              "12807    3.931618e-07\n",
              "12308    3.931618e-07\n",
              "Length: 5433, dtype: float64"
            ]
          },
          "execution_count": 65,
          "metadata": {},
          "output_type": "execute_result"
        }
      ],
      "source": [
        "getRelatedFiles(16609)"
      ]
    },
    {
      "cell_type": "code",
      "execution_count": null,
      "metadata": {
        "colab": {
          "base_uri": "https://localhost:8080/"
        },
        "id": "t0muUma0XaDf",
        "outputId": "28b2d32a-9c3e-482c-fb3a-6367a4b133e5"
      },
      "outputs": [
        {
          "name": "stdout",
          "output_type": "stream",
          "text": [
            "2.22 ms ± 187 µs per loop (mean ± std. dev. of 7 runs, 100 loops each)\n",
            "2.6 ms ± 646 µs per loop (mean ± std. dev. of 7 runs, 100 loops each)\n"
          ]
        }
      ],
      "source": [
        "%timeit getRelatedFiles(nwFile)\n",
        "%timeit getRelatedFiles(frFile)"
      ]
    },
    {
      "cell_type": "code",
      "execution_count": null,
      "metadata": {
        "colab": {
          "base_uri": "https://localhost:8080/"
        },
        "id": "ie0kB1BZhh-Z",
        "outputId": "c3506527-760e-469b-fa91-749ee5adf34c"
      },
      "outputs": [
        {
          "data": {
            "text/plain": [
              "fileId\n",
              "5480     5.830518e-02\n",
              "15538    6.528234e-03\n",
              "15179    5.073391e-03\n",
              "15334    4.769847e-03\n",
              "15361    4.680265e-03\n",
              "             ...     \n",
              "13684    1.830149e-07\n",
              "15118    1.830149e-07\n",
              "11009    1.830149e-07\n",
              "11011    1.830149e-07\n",
              "11168    1.830149e-07\n",
              "Length: 5799, dtype: float64"
            ]
          },
          "execution_count": 59,
          "metadata": {},
          "output_type": "execute_result"
        }
      ],
      "source": [
        "getRelatedFiles(frFile)"
      ]
    },
    {
      "cell_type": "code",
      "execution_count": null,
      "metadata": {
        "colab": {
          "base_uri": "https://localhost:8080/",
          "height": 1000
        },
        "id": "Fa4M7JCN9Ldx",
        "outputId": "3c44cfa1-ad56-40c0-82a1-cf06bdd97936"
      },
      "outputs": [
        {
          "data": {
            "text/plain": [
              "(array([1.60000e+01, 2.32000e+02, 2.00700e+03, 1.01290e+04, 1.93270e+04,\n",
              "        2.97530e+04, 4.53930e+04, 6.60800e+04, 7.73000e+04, 1.02979e+05,\n",
              "        1.24246e+05, 1.46894e+05, 1.83128e+05, 1.77077e+05, 1.95730e+05,\n",
              "        2.24114e+05, 2.48237e+05, 2.67357e+05, 2.96858e+05, 3.37395e+05,\n",
              "        3.69421e+05, 4.16054e+05, 4.34361e+05, 4.70305e+05, 5.14977e+05,\n",
              "        5.49648e+05, 5.83378e+05, 6.28699e+05, 6.76218e+05, 7.30137e+05,\n",
              "        7.63048e+05, 8.17560e+05, 8.61186e+05, 9.02677e+05, 9.17591e+05,\n",
              "        9.40671e+05, 9.51724e+05, 9.65855e+05, 9.54704e+05, 9.30850e+05,\n",
              "        9.02501e+05, 8.56551e+05, 8.25607e+05, 7.64247e+05, 7.26560e+05,\n",
              "        6.75525e+05, 6.38508e+05, 6.10116e+05, 5.83469e+05, 5.64033e+05,\n",
              "        5.24050e+05, 4.91286e+05, 4.55578e+05, 4.15729e+05, 3.81924e+05,\n",
              "        3.31198e+05, 2.85719e+05, 2.30233e+05, 1.90249e+05, 1.49238e+05,\n",
              "        1.13616e+05, 7.99980e+04, 5.80320e+04, 4.51650e+04, 3.49880e+04,\n",
              "        2.85660e+04, 2.34350e+04, 2.02550e+04, 1.87570e+04, 1.77290e+04,\n",
              "        1.49790e+04, 1.21550e+04, 7.50900e+03, 5.71000e+03, 4.99300e+03,\n",
              "        3.87900e+03, 2.77600e+03, 2.39600e+03, 2.07800e+03, 1.73900e+03,\n",
              "        1.36400e+03, 1.01100e+03, 7.97000e+02, 5.00000e+02, 3.94000e+02,\n",
              "        3.42000e+02, 2.64000e+02, 1.90000e+02, 1.60000e+02, 1.13000e+02,\n",
              "        9.40000e+01, 8.70000e+01, 7.60000e+01, 5.40000e+01, 5.30000e+01,\n",
              "        4.20000e+01, 3.80000e+01, 2.90000e+01, 2.00000e+01, 8.90000e+01]),\n",
              " array([-6.9478342 , -6.87835586, -6.80887752, -6.73939917, -6.66992083,\n",
              "        -6.60044249, -6.53096415, -6.46148581, -6.39200746, -6.32252912,\n",
              "        -6.25305078, -6.18357244, -6.1140941 , -6.04461575, -5.97513741,\n",
              "        -5.90565907, -5.83618073, -5.76670239, -5.69722404, -5.6277457 ,\n",
              "        -5.55826736, -5.48878902, -5.41931068, -5.34983233, -5.28035399,\n",
              "        -5.21087565, -5.14139731, -5.07191897, -5.00244062, -4.93296228,\n",
              "        -4.86348394, -4.7940056 , -4.72452726, -4.65504891, -4.58557057,\n",
              "        -4.51609223, -4.44661389, -4.37713555, -4.3076572 , -4.23817886,\n",
              "        -4.16870052, -4.09922218, -4.02974384, -3.96026549, -3.89078715,\n",
              "        -3.82130881, -3.75183047, -3.68235213, -3.61287378, -3.54339544,\n",
              "        -3.4739171 , -3.40443876, -3.33496042, -3.26548207, -3.19600373,\n",
              "        -3.12652539, -3.05704705, -2.98756871, -2.91809036, -2.84861202,\n",
              "        -2.77913368, -2.70965534, -2.640177  , -2.57069865, -2.50122031,\n",
              "        -2.43174197, -2.36226363, -2.29278529, -2.22330694, -2.1538286 ,\n",
              "        -2.08435026, -2.01487192, -1.94539358, -1.87591523, -1.80643689,\n",
              "        -1.73695855, -1.66748021, -1.59800187, -1.52852352, -1.45904518,\n",
              "        -1.38956684, -1.3200885 , -1.25061016, -1.18113181, -1.11165347,\n",
              "        -1.04217513, -0.97269679, -0.90321845, -0.8337401 , -0.76426176,\n",
              "        -0.69478342, -0.62530508, -0.55582674, -0.48634839, -0.41687005,\n",
              "        -0.34739171, -0.27791337, -0.20843503, -0.13895668, -0.06947834,\n",
              "         0.        ]),\n",
              " <a list of 100 Patch objects>)"
            ]
          },
          "execution_count": 75,
          "metadata": {},
          "output_type": "execute_result"
        },
        {
          "data": {
            "image/png": "[encoded data removed]",
            "text/plain": [
              "<Figure size 432x288 with 1 Axes>"
            ]
          },
          "metadata": {},
          "output_type": "display_data"
        }
      ],
      "source": [
        "plt.hist(np.log10(adjacentFiles[adjacentFiles.nonzero()].A[0]), bins=100)"
      ]
    },
    {
      "cell_type": "code",
      "execution_count": null,
      "metadata": {
        "colab": {
          "base_uri": "https://localhost:8080/"
        },
        "id": "JKnmRlq8_lz3",
        "outputId": "dbba42f1-9220-41ca-ea13-204fd5ac522b"
      },
      "outputs": [
        {
          "data": {
            "text/plain": [
              "array([0.03544963, 0.01838128, 0.00889201, ..., 0.        , 0.        ,\n",
              "       0.        ])"
            ]
          },
          "execution_count": 51,
          "metadata": {},
          "output_type": "execute_result"
        }
      ],
      "source": [
        "sorted = np.sort(adjacentFiles.A)\n",
        "sorted[0, ::-1]"
      ]
    },
    {
      "cell_type": "code",
      "execution_count": null,
      "metadata": {
        "colab": {
          "base_uri": "https://localhost:8080/",
          "height": 282
        },
        "id": "Jize1Jx9FW7Y",
        "outputId": "f070affa-aae7-451c-e774-e288ef49f0f9"
      },
      "outputs": [
        {
          "data": {
            "text/plain": [
              "[<matplotlib.lines.Line2D at 0x7f222f2eb610>]"
            ]
          },
          "execution_count": 102,
          "metadata": {},
          "output_type": "execute_result"
        },
        {
          "data": {
            "image/png": "[encoded data removed]",
            "text/plain": [
              "<Figure size 432x288 with 1 Axes>"
            ]
          },
          "metadata": {},
          "output_type": "display_data"
        }
      ],
      "source": [
        "def getRatios(first, second):\n",
        "  first *= -1\n",
        "  second *= -1\n",
        "  cols = sorted[sorted[:, second] != 0]\n",
        "  return np.log(cols[:, first] / cols[:, second])\n",
        "# ratios[ratios == np.inf] = 1e4\n",
        "\n",
        "# plt.hist(np.log10(ratios), bins=100)\n",
        "plt.plot(range(2, 10), [getRatios(1, i).mean() * 5 for i in range(2, 10)])"
      ]
    },
    {
      "cell_type": "markdown",
      "metadata": {
        "id": "O2__KodaaiEw"
      },
      "source": [
        "## Graph"
      ]
    },
    {
      "cell_type": "markdown",
      "metadata": {
        "id": "3HfGCUJXV-Qh"
      },
      "source": [
        "### graph-tool"
      ]
    },
    {
      "cell_type": "markdown",
      "metadata": {
        "id": "S26OBjIVhAUL"
      },
      "source": [
        "#### Build"
      ]
    },
    {
      "cell_type": "code",
      "execution_count": null,
      "metadata": {
        "colab": {
          "base_uri": "https://localhost:8080/"
        },
        "id": "1SAo-hjPV_go",
        "outputId": "817f9120-b0a3-4c44-eef3-e17b01e00beb"
      },
      "outputs": [
        {
          "output_type": "stream",
          "name": "stdout",
          "text": [
            "Executing: /tmp/apt-key-gpghome.qW3sxUMAVw/gpg.1.sh --keyserver keyserver.ubuntu.com --recv-key 612DEFB798507F25\n",
            "gpg: key 612DEFB798507F25: public key \"Tiago de Paula Peixoto <tiago@skewed.de>\" imported\n",
            "gpg: Total number processed: 1\n",
            "gpg:               imported: 1\n",
            "Get:1 http://security.ubuntu.com/ubuntu focal-security InRelease [114 kB]\n",
            "Get:2 https://cloud.r-project.org/bin/linux/ubuntu focal-cran40/ InRelease [3,622 B]\n",
            "Ign:3 https://developer.download.nvidia.com/compute/machine-learning/repos/ubuntu2004/x86_64  InRelease\n",
            "Get:4 http://ppa.launchpad.net/c2d4u.team/c2d4u4.0+/ubuntu focal InRelease [18.1 kB]\n",
            "Hit:5 http://archive.ubuntu.com/ubuntu focal InRelease\n",
            "Hit:6 https://developer.download.nvidia.com/compute/cuda/repos/ubuntu2004/x86_64  InRelease\n",
            "Hit:7 https://developer.download.nvidia.com/compute/machine-learning/repos/ubuntu2004/x86_64  Release\n",
            "Get:8 http://downloads.skewed.de/apt bionic InRelease [7,540 B]\n",
            "Get:9 http://archive.ubuntu.com/ubuntu focal-updates InRelease [114 kB]\n",
            "Hit:10 http://ppa.launchpad.net/cran/libgit2/ubuntu focal InRelease\n",
            "Hit:11 http://ppa.launchpad.net/deadsnakes/ppa/ubuntu focal InRelease\n",
            "Get:12 http://archive.ubuntu.com/ubuntu focal-backports InRelease [108 kB]\n",
            "Hit:13 http://ppa.launchpad.net/graphics-drivers/ppa/ubuntu focal InRelease\n",
            "Get:14 http://security.ubuntu.com/ubuntu focal-security/universe amd64 Packages [983 kB]\n",
            "Get:15 http://security.ubuntu.com/ubuntu focal-security/main amd64 Packages [2,437 kB]\n",
            "Get:17 http://ppa.launchpad.net/c2d4u.team/c2d4u4.0+/ubuntu focal/main Sources [2,377 kB]\n",
            "Get:18 http://ppa.launchpad.net/c2d4u.team/c2d4u4.0+/ubuntu focal/main amd64 Packages [1,126 kB]\n",
            "Get:19 http://downloads.skewed.de/apt bionic/main amd64 Packages [3,333 B]\n",
            "Get:20 http://archive.ubuntu.com/ubuntu focal-updates/universe amd64 Packages [1,285 kB]\n",
            "Get:21 http://archive.ubuntu.com/ubuntu focal-updates/restricted amd64 Packages [2,003 kB]\n",
            "Get:22 http://archive.ubuntu.com/ubuntu focal-updates/main amd64 Packages [2,910 kB]\n",
            "Fetched 13.5 MB in 17s (781 kB/s)\n",
            "Reading package lists... Done\n",
            "Reading package lists... Done\n",
            "Building dependency tree       \n",
            "Reading state information... Done\n",
            "Some packages could not be installed. This may mean that you have\n",
            "requested an impossible situation or if you are using the unstable\n",
            "distribution that some required packages have not yet been created\n",
            "or been moved out of Incoming.\n",
            "The following information may help to resolve the situation:\n",
            "\n",
            "The following packages have unmet dependencies:\n",
            " python3-graph-tool : Depends: libboost-context1.65.1 but it is not installable\n",
            "                      Depends: libboost-iostreams1.65.1 but it is not installable\n",
            "                      Depends: libboost-python1.65.1 but it is not installable\n",
            "                      Depends: libboost-regex1.65.1 but it is not installable\n",
            "                      Recommends: libgv-python but it is not installable\n",
            "                      Recommends: python-matplotlib but it is not installable\n",
            "                      Recommends: python-cairo but it is not going to be installed\n",
            "                      Recommends: python-gi-cairo but it is not going to be installed\n",
            "                      Recommends: python-gi but it is not going to be installed\n",
            "E: Unable to correct problems, you have held broken packages.\n",
            "Reading package lists... Done\n",
            "Building dependency tree       \n",
            "Reading state information... Done\n",
            "Package 'python3-cairo' is not installed, so not removed\n",
            "0 upgraded, 0 newly installed, 0 to remove and 28 not upgraded.\n",
            "Reading package lists... Done\n",
            "Building dependency tree       \n",
            "Reading state information... Done\n",
            "pkg-config is already the newest version (0.29.1-0ubuntu4).\n",
            "python3-dev is already the newest version (3.8.2-0ubuntu2).\n",
            "python3-dev set to manually installed.\n",
            "The following additional packages will be installed:\n",
            "  libblkid-dev libcairo-script-interpreter2 libffi-dev libglib2.0-dev\n",
            "  libglib2.0-dev-bin liblzo2-2 libmount-dev libpixman-1-dev libselinux1-dev\n",
            "  libsepol1-dev libxcb-render0-dev libxcb-shm0-dev\n",
            "Suggested packages:\n",
            "  libcairo2-doc libgirepository1.0-dev libglib2.0-doc libgdk-pixbuf2.0-bin\n",
            "  | libgdk-pixbuf2.0-dev libxml2-utils\n",
            "The following NEW packages will be installed:\n",
            "  libblkid-dev libcairo-script-interpreter2 libcairo2-dev libffi-dev\n",
            "  libglib2.0-dev libglib2.0-dev-bin liblzo2-2 libmount-dev libpixman-1-dev\n",
            "  libselinux1-dev libsepol1-dev libxcb-render0-dev libxcb-shm0-dev\n",
            "0 upgraded, 13 newly installed, 0 to remove and 28 not upgraded.\n",
            "Need to get 3,492 kB of archives.\n",
            "After this operation, 20.0 MB of additional disk space will be used.\n",
            "Get:1 http://archive.ubuntu.com/ubuntu focal/main amd64 liblzo2-2 amd64 2.10-2 [50.8 kB]\n",
            "Get:2 http://archive.ubuntu.com/ubuntu focal/main amd64 libcairo-script-interpreter2 amd64 1.16.0-4ubuntu1 [54.2 kB]\n",
            "Get:3 http://archive.ubuntu.com/ubuntu focal-updates/main amd64 libpixman-1-dev amd64 0.38.4-0ubuntu2.1 [243 kB]\n",
            "Get:4 http://archive.ubuntu.com/ubuntu focal/main amd64 libxcb-render0-dev amd64 1.14-2 [18.4 kB]\n",
            "Get:5 http://archive.ubuntu.com/ubuntu focal/main amd64 libxcb-shm0-dev amd64 1.14-2 [6,716 B]\n",
            "Get:6 http://archive.ubuntu.com/ubuntu focal/main amd64 libffi-dev amd64 3.3-4 [57.0 kB]\n",
            "Get:7 http://archive.ubuntu.com/ubuntu focal-updates/main amd64 libglib2.0-dev-bin amd64 2.64.6-1~ubuntu20.04.4 [109 kB]\n",
            "Get:8 http://archive.ubuntu.com/ubuntu focal-updates/main amd64 libblkid-dev amd64 2.34-0.1ubuntu9.3 [167 kB]\n",
            "Get:9 http://archive.ubuntu.com/ubuntu focal-updates/main amd64 libmount-dev amd64 2.34-0.1ubuntu9.3 [176 kB]\n",
            "Get:10 http://archive.ubuntu.com/ubuntu focal-updates/main amd64 libsepol1-dev amd64 3.0-1ubuntu0.1 [325 kB]\n",
            "Get:11 http://archive.ubuntu.com/ubuntu focal/main amd64 libselinux1-dev amd64 3.0-1build2 [151 kB]\n",
            "Get:12 http://archive.ubuntu.com/ubuntu focal-updates/main amd64 libglib2.0-dev amd64 2.64.6-1~ubuntu20.04.4 [1,506 kB]\n",
            "Get:13 http://archive.ubuntu.com/ubuntu focal/main amd64 libcairo2-dev amd64 1.16.0-4ubuntu1 [627 kB]\n",
            "Fetched 3,492 kB in 1s (2,804 kB/s)\n",
            "Selecting previously unselected package liblzo2-2:amd64.\n",
            "(Reading database ... 129504 files and directories currently installed.)\n",
            "Preparing to unpack .../00-liblzo2-2_2.10-2_amd64.deb ...\n",
            "Unpacking liblzo2-2:amd64 (2.10-2) ...\n",
            "Selecting previously unselected package libcairo-script-interpreter2:amd64.\n",
            "Preparing to unpack .../01-libcairo-script-interpreter2_1.16.0-4ubuntu1_amd64.deb ...\n",
            "Unpacking libcairo-script-interpreter2:amd64 (1.16.0-4ubuntu1) ...\n",
            "Selecting previously unselected package libpixman-1-dev:amd64.\n",
            "Preparing to unpack .../02-libpixman-1-dev_0.38.4-0ubuntu2.1_amd64.deb ...\n",
            "Unpacking libpixman-1-dev:amd64 (0.38.4-0ubuntu2.1) ...\n",
            "Selecting previously unselected package libxcb-render0-dev:amd64.\n",
            "Preparing to unpack .../03-libxcb-render0-dev_1.14-2_amd64.deb ...\n",
            "Unpacking libxcb-render0-dev:amd64 (1.14-2) ...\n",
            "Selecting previously unselected package libxcb-shm0-dev:amd64.\n",
            "Preparing to unpack .../04-libxcb-shm0-dev_1.14-2_amd64.deb ...\n",
            "Unpacking libxcb-shm0-dev:amd64 (1.14-2) ...\n",
            "Selecting previously unselected package libffi-dev:amd64.\n",
            "Preparing to unpack .../05-libffi-dev_3.3-4_amd64.deb ...\n",
            "Unpacking libffi-dev:amd64 (3.3-4) ...\n",
            "Selecting previously unselected package libglib2.0-dev-bin.\n",
            "Preparing to unpack .../06-libglib2.0-dev-bin_2.64.6-1~ubuntu20.04.4_amd64.deb ...\n",
            "Unpacking libglib2.0-dev-bin (2.64.6-1~ubuntu20.04.4) ...\n",
            "Selecting previously unselected package libblkid-dev:amd64.\n",
            "Preparing to unpack .../07-libblkid-dev_2.34-0.1ubuntu9.3_amd64.deb ...\n",
            "Unpacking libblkid-dev:amd64 (2.34-0.1ubuntu9.3) ...\n",
            "Selecting previously unselected package libmount-dev:amd64.\n",
            "Preparing to unpack .../08-libmount-dev_2.34-0.1ubuntu9.3_amd64.deb ...\n",
            "Unpacking libmount-dev:amd64 (2.34-0.1ubuntu9.3) ...\n",
            "Selecting previously unselected package libsepol1-dev:amd64.\n",
            "Preparing to unpack .../09-libsepol1-dev_3.0-1ubuntu0.1_amd64.deb ...\n",
            "Unpacking libsepol1-dev:amd64 (3.0-1ubuntu0.1) ...\n",
            "Selecting previously unselected package libselinux1-dev:amd64.\n",
            "Preparing to unpack .../10-libselinux1-dev_3.0-1build2_amd64.deb ...\n",
            "Unpacking libselinux1-dev:amd64 (3.0-1build2) ...\n",
            "Selecting previously unselected package libglib2.0-dev:amd64.\n",
            "Preparing to unpack .../11-libglib2.0-dev_2.64.6-1~ubuntu20.04.4_amd64.deb ...\n",
            "Unpacking libglib2.0-dev:amd64 (2.64.6-1~ubuntu20.04.4) ...\n",
            "Selecting previously unselected package libcairo2-dev:amd64.\n",
            "Preparing to unpack .../12-libcairo2-dev_1.16.0-4ubuntu1_amd64.deb ...\n",
            "Unpacking libcairo2-dev:amd64 (1.16.0-4ubuntu1) ...\n",
            "Setting up libglib2.0-dev-bin (2.64.6-1~ubuntu20.04.4) ...\n",
            "Setting up libblkid-dev:amd64 (2.34-0.1ubuntu9.3) ...\n",
            "Setting up libpixman-1-dev:amd64 (0.38.4-0ubuntu2.1) ...\n",
            "Setting up libsepol1-dev:amd64 (3.0-1ubuntu0.1) ...\n",
            "Setting up liblzo2-2:amd64 (2.10-2) ...\n",
            "Setting up libffi-dev:amd64 (3.3-4) ...\n",
            "Setting up libxcb-shm0-dev:amd64 (1.14-2) ...\n",
            "Setting up libxcb-render0-dev:amd64 (1.14-2) ...\n",
            "Setting up libmount-dev:amd64 (2.34-0.1ubuntu9.3) ...\n",
            "Setting up libcairo-script-interpreter2:amd64 (1.16.0-4ubuntu1) ...\n",
            "Setting up libselinux1-dev:amd64 (3.0-1build2) ...\n",
            "Setting up libglib2.0-dev:amd64 (2.64.6-1~ubuntu20.04.4) ...\n",
            "Processing triggers for libglib2.0-0:amd64 (2.64.6-1~ubuntu20.04.4) ...\n",
            "Processing triggers for libc-bin (2.31-0ubuntu9.9) ...\n",
            "Processing triggers for man-db (2.9.1-1) ...\n",
            "Setting up libcairo2-dev:amd64 (1.16.0-4ubuntu1) ...\n",
            "Looking in indexes: https://pypi.org/simple, https://us-python.pkg.dev/colab-wheels/public/simple/\n",
            "Collecting pycairo\n",
            "  Downloading pycairo-1.23.0.tar.gz (344 kB)\n",
            "\u001b[2K     \u001b[90m━━━━━━━━━━━━━━━━━━━━━━━━━━━━━━━━━━━━━━━\u001b[0m \u001b[32m344.6/344.6 KB\u001b[0m \u001b[31m7.5 MB/s\u001b[0m eta \u001b[36m0:00:00\u001b[0m\n",
            "\u001b[?25h  Installing build dependencies ... \u001b[?25l\u001b[?25hdone\n",
            "  Getting requirements to build wheel ... \u001b[?25l\u001b[?25hdone\n",
            "  Installing backend dependencies ... \u001b[?25l\u001b[?25hdone\n",
            "  Preparing metadata (pyproject.toml) ... \u001b[?25l\u001b[?25hdone\n",
            "Building wheels for collected packages: pycairo\n",
            "  Building wheel for pycairo (pyproject.toml) ... \u001b[?25l\u001b[?25hdone\n",
            "  Created wheel for pycairo: filename=pycairo-1.23.0-cp38-cp38-linux_x86_64.whl size=325336 sha256=8950f9380762b22270478c2a77ced623b77bb9dce67970e89864012ec8164105\n",
            "  Stored in directory: /root/.cache/pip/wheels/d9/25/86/ba7950c33840b1fda7ab932c7c7172d77b994807c5fd35c3ea\n",
            "Successfully built pycairo\n",
            "Installing collected packages: pycairo\n",
            "Successfully installed pycairo-1.23.0\n",
            "Looking in indexes: https://pypi.org/simple, https://us-python.pkg.dev/colab-wheels/public/simple/\n",
            "Collecting zstandard\n",
            "  Downloading zstandard-0.19.0-cp38-cp38-manylinux_2_17_x86_64.manylinux2014_x86_64.whl (2.5 MB)\n",
            "\u001b[2K     \u001b[90m━━━━━━━━━━━━━━━━━━━━━━━━━━━━━━━━━━━━━━━━\u001b[0m \u001b[32m2.5/2.5 MB\u001b[0m \u001b[31m26.6 MB/s\u001b[0m eta \u001b[36m0:00:00\u001b[0m\n",
            "\u001b[?25hInstalling collected packages: zstandard\n",
            "Successfully installed zstandard-0.19.0\n"
          ]
        }
      ],
      "source": [
        "# https://colab.research.google.com/github/count0/colab-gt/blob/master/colab-gt.ipynb\n",
        "!echo \"deb http://downloads.skewed.de/apt bionic main\" >> /etc/apt/sources.list\n",
        "!apt-key adv --keyserver keyserver.ubuntu.com --recv-key 612DEFB798507F25\n",
        "!apt-get update\n",
        "!apt-get install python3-graph-tool python3-cairo\n",
        "!apt purge python3-cairo\n",
        "!apt install libcairo2-dev pkg-config python3-dev\n",
        "!pip install --force-reinstall pycairo\n",
        "!pip install zstandard"
      ]
    },
    {
      "cell_type": "code",
      "execution_count": null,
      "metadata": {
        "colab": {
          "base_uri": "https://localhost:8080/",
          "height": 312
        },
        "id": "zofQGh3WWODu",
        "outputId": "ed82e7e6-a750-4f84-81e0-ef35be23e1c6"
      },
      "outputs": [
        {
          "output_type": "error",
          "ename": "ModuleNotFoundError",
          "evalue": "ignored",
          "traceback": [
            "\u001b[0;31m---------------------------------------------------------------------------\u001b[0m",
            "\u001b[0;31mModuleNotFoundError\u001b[0m                       Traceback (most recent call last)",
            "\u001b[0;32m<ipython-input-2-f96fce82bbfd>\u001b[0m in \u001b[0;36m<module>\u001b[0;34m\u001b[0m\n\u001b[0;32m----> 1\u001b[0;31m \u001b[0;32mimport\u001b[0m \u001b[0mgraph_tool\u001b[0m\u001b[0;34m.\u001b[0m\u001b[0mall\u001b[0m \u001b[0;32mas\u001b[0m \u001b[0mgt\u001b[0m\u001b[0;34m\u001b[0m\u001b[0;34m\u001b[0m\u001b[0m\n\u001b[0m",
            "\u001b[0;31mModuleNotFoundError\u001b[0m: No module named 'graph_tool'",
            "",
            "\u001b[0;31m---------------------------------------------------------------------------\u001b[0;32m\nNOTE: If your import is failing due to a missing package, you can\nmanually install dependencies using either !pip or !apt.\n\nTo view examples of installing some common dependencies, click the\n\"Open Examples\" button below.\n\u001b[0;31m---------------------------------------------------------------------------\u001b[0m\n"
          ],
          "errorDetails": {
            "actions": [
              {
                "action": "open_url",
                "actionText": "Open Examples",
                "url": "/notebooks/snippets/importing_libraries.ipynb"
              }
            ]
          }
        }
      ],
      "source": [
        "import graph_tool.all as gt"
      ]
    },
    {
      "cell_type": "code",
      "execution_count": null,
      "metadata": {
        "id": "nZVobwJdbc57"
      },
      "outputs": [],
      "source": [
        "def adjacencyToGt(adjacency):\n",
        "  g = gt.Graph()\n",
        "  g.add_vertex(adjacency.shape[0])\n",
        "\n",
        "  ids = adjacency.nonzero()\n",
        "  weights = adjacency[ids]\n",
        "\n",
        "  g.edge_properties.weight = g.new_edge_property('double')\n",
        "  g.add_edge_list(np.transpose(ids))\n",
        "  g.ep.weight.a = weights\n",
        "  return g"
      ]
    },
    {
      "cell_type": "markdown",
      "metadata": {
        "id": "UZUdjGYsRDXc"
      },
      "source": [
        "Creates multigraph where number of edges between two verticies is number of times evidence from the corresponding buckets appear in the same block"
      ]
    },
    {
      "cell_type": "code",
      "execution_count": null,
      "metadata": {
        "colab": {
          "base_uri": "https://localhost:8080/"
        },
        "id": "69FGcNdXo4OI",
        "outputId": "40627499-b55e-4f37-eb90-c1072302b71e"
      },
      "outputs": [
        {
          "output_type": "execute_result",
          "data": {
            "text/plain": [
              "<Graph object, undirected, with 112310 vertices and 954962 edges, at 0x7f8eb4445950>"
            ]
          },
          "metadata": {},
          "execution_count": 17
        }
      ],
      "source": [
        "try:\n",
        "  evGraphM = gt.load_graph(DATA_PATH + '.gt')\n",
        "except FileNotFoundError:\n",
        "  evGraphM = gt.Graph(directed=False)\n",
        "  evGraphM.add_vertex(len(bucketIndexes))\n",
        "\n",
        "  # Unweighted\n",
        "  for name, group in tqdm(evClean.groupby(['fileId', 'pocket', 'hat', 'block'])):\n",
        "    evGraphM.add_edge_list(itertools.combinations(bucketIndexes[group['bucketId']], 2))\n",
        "  evGraphM.save(DATA_PATH + '.gt')\n",
        "evGraphM"
      ]
    },
    {
      "cell_type": "markdown",
      "metadata": {
        "id": "wQQnDTOSqepe"
      },
      "source": [
        "Creates weighted graph where weight of edge is number of times evidence from corresponding buckets appear in the same block"
      ]
    },
    {
      "cell_type": "code",
      "execution_count": null,
      "metadata": {
        "colab": {
          "base_uri": "https://localhost:8080/"
        },
        "id": "3scLmYqqnAYS",
        "outputId": "a36440c2-98cd-49af-f197-5dfbc221c37b"
      },
      "outputs": [
        {
          "output_type": "execute_result",
          "data": {
            "text/plain": [
              "<Graph object, directed, with 112310 vertices and 802564 edges, 1 internal edge property, at 0x7f8ecb4d34d0>"
            ]
          },
          "metadata": {},
          "execution_count": 18
        }
      ],
      "source": [
        "evGraphW = adjacencyToGt(adjacency)\n",
        "evGraphW.save(DATA_PATH + '_weighted.gt')\n",
        "evGraphW"
      ]
    },
    {
      "cell_type": "markdown",
      "metadata": {
        "id": "FGIelNHM1SEO"
      },
      "source": [
        "Same as weighted graph above, but sum of out edges from every vertex is 1"
      ]
    },
    {
      "cell_type": "code",
      "execution_count": null,
      "metadata": {
        "colab": {
          "base_uri": "https://localhost:8080/"
        },
        "id": "_x-Vd49enrtd",
        "outputId": "3363b4fa-6ef2-43a8-922c-9d1124b59913"
      },
      "outputs": [
        {
          "output_type": "execute_result",
          "data": {
            "text/plain": [
              "<Graph object, directed, with 112310 vertices and 802564 edges, 1 internal edge property, at 0x7f8ecb4d8c90>"
            ]
          },
          "metadata": {},
          "execution_count": 19
        }
      ],
      "source": [
        "evGraphWN = adjacencyToGt(adjacencyN)\n",
        "evGraphWN.save(DATA_PATH + '_weighted_normalzied.gt')\n",
        "evGraphWN"
      ]
    },
    {
      "cell_type": "code",
      "execution_count": null,
      "metadata": {
        "colab": {
          "base_uri": "https://localhost:8080/"
        },
        "id": "_ainMTsrZgqK",
        "outputId": "4efaee4d-191c-42a5-d57e-f9b00216ae3c"
      },
      "outputs": [
        {
          "output_type": "execute_result",
          "data": {
            "text/plain": [
              "<Graph object, directed, with 6914 vertices and 649256 edges, 1 internal edge property, at 0x7f4ea551b390>"
            ]
          },
          "metadata": {},
          "execution_count": 9
        }
      ],
      "source": [
        "try:\n",
        "  fileGraph = gt.load_graph(DATA_PATH + '_files.gt')\n",
        "except FileNotFoundError:\n",
        "  fileGraph = gt.Graph()\n",
        "\n",
        "  clippedFiles = adjacentFiles.copy().tolil()\n",
        "  # Get 100 most closely related files to each file\n",
        "  clippedFiles[adjacentFiles.A.argsort(axis=0)[0:-100, :]] = 0\n",
        "\n",
        "  fileGraph = adjacencyToGt(clippedFiles.tocsc())\n",
        "  # Gives a better distribution for the weights, normalized to 0-1\n",
        "  fileGraph.ep.weight.a = (np.log(fileGraph.ep.weight.a) + 10) / 10\n",
        "\n",
        "  fileGraph.save(DATA_PATH + '_files.gt')\n",
        "fileGraph"
      ]
    },
    {
      "cell_type": "markdown",
      "metadata": {
        "id": "_gx8FCCzhFex"
      },
      "source": [
        "#### Analyze"
      ]
    },
    {
      "cell_type": "markdown",
      "metadata": {
        "id": "OktUeyUjyUju"
      },
      "source": [
        "##### Misc"
      ]
    },
    {
      "cell_type": "code",
      "source": [
        "g = fileGraph\n",
        "g"
      ],
      "metadata": {
        "colab": {
          "base_uri": "https://localhost:8080/"
        },
        "id": "zkqFYoSxN_JB",
        "outputId": "c4e65614-8db9-4999-f49f-68a052617234"
      },
      "execution_count": null,
      "outputs": [
        {
          "output_type": "execute_result",
          "data": {
            "text/plain": [
              "<Graph object, directed, with 6914 vertices and 649256 edges, 1 internal edge property, at 0x7fd5589db950>"
            ]
          },
          "metadata": {},
          "execution_count": 23
        }
      ]
    },
    {
      "cell_type": "code",
      "execution_count": null,
      "metadata": {
        "colab": {
          "base_uri": "https://localhost:8080/",
          "height": 282
        },
        "id": "OY5jBeYjxMVi",
        "outputId": "5df9b3ee-783f-4b5a-c2ae-b66ab2f4fcaf"
      },
      "outputs": [
        {
          "data": {
            "text/plain": [
              "[<matplotlib.lines.Line2D at 0x7f5b7e10dcd0>]"
            ]
          },
          "execution_count": 35,
          "metadata": {},
          "output_type": "execute_result"
        },
        {
          "data": {
            "image/png": "[encoded data removed]",
            "text/plain": [
              "<Figure size 432x288 with 1 Axes>"
            ]
          },
          "metadata": {},
          "output_type": "display_data"
        }
      ],
      "source": [
        "vals, groups = gt.vertex_hist(evGraphW, 'out', [0, 1])\n",
        "plt.plot(groups[1:50], np.append(vals, [0])[1:50])"
      ]
    },
    {
      "cell_type": "code",
      "execution_count": null,
      "metadata": {
        "colab": {
          "base_uri": "https://localhost:8080/",
          "height": 285
        },
        "id": "vyTMW8NMxQFg",
        "outputId": "3a7444ad-390e-41fa-e8af-8e025d4f257e"
      },
      "outputs": [
        {
          "data": {
            "text/plain": [
              "[<matplotlib.lines.Line2D at 0x7f5b7d1e1e50>]"
            ]
          },
          "execution_count": 45,
          "metadata": {},
          "output_type": "execute_result"
        },
        {
          "data": {
            "image/png": "[encoded data removed]",
            "text/plain": [
              "<Figure size 432x288 with 1 Axes>"
            ]
          },
          "metadata": {},
          "output_type": "display_data"
        }
      ],
      "source": [
        "wVals, wGroups = gt.edge_hist(evGraphWN, evGraphWN.ep.weight, bins=[0, 0.01])\n",
        "plt.plot(wGroups, np.append(wVals, [0]))"
      ]
    },
    {
      "cell_type": "code",
      "execution_count": null,
      "metadata": {
        "colab": {
          "base_uri": "https://localhost:8080/"
        },
        "id": "ZxeiepeBykdV",
        "outputId": "675d15ac-cf07-47af-fd92-d26b536953d6"
      },
      "outputs": [
        {
          "output_type": "execute_result",
          "data": {
            "text/plain": [
              "<GraphView object, directed, with 6594 vertices and 646755 edges, 1 internal edge property, edges filtered by (<EdgePropertyMap object with value type 'bool', for Graph 0x7f5b09deda90, at 0x7f5b5a38de50>, False), vertices filtered by (<VertexPropertyMap object with value type 'bool', for Graph 0x7f5b09deda90, at 0x7f5b09ded710>, False), at 0x7f5b09deda90>"
            ]
          },
          "metadata": {},
          "execution_count": 133
        }
      ],
      "source": [
        "gt.extract_largest_component(g)"
      ]
    },
    {
      "cell_type": "code",
      "execution_count": null,
      "metadata": {
        "colab": {
          "base_uri": "https://localhost:8080/"
        },
        "id": "0gbShXtJMCba",
        "outputId": "7e3e0878-edee-4c73-ceb3-dca9f26024da"
      },
      "outputs": [
        {
          "output_type": "execute_result",
          "data": {
            "text/plain": [
              "(8.0,\n",
              " (<invalid Vertex object at 0x7f5b07efc870>,\n",
              "  <invalid Vertex object at 0x7f5b07efc750>))"
            ]
          },
          "metadata": {},
          "execution_count": 135
        }
      ],
      "source": [
        "gt.pseudo_diameter(gt.extract_largest_component(g))"
      ]
    },
    {
      "cell_type": "code",
      "execution_count": null,
      "metadata": {
        "id": "6otS6pQ-yuca"
      },
      "outputs": [],
      "source": [
        "rank = gt.pagerank(g, weight=g.ep.weight)\n",
        "# rank = gt.hits(g, g.ep.weight)"
      ]
    },
    {
      "cell_type": "code",
      "execution_count": null,
      "metadata": {
        "colab": {
          "base_uri": "https://localhost:8080/"
        },
        "id": "OWW2tp_vSva4",
        "outputId": "3b03b7c4-89b8-4182-93e3-d7a6036f4e8f"
      },
      "outputs": [
        {
          "output_type": "stream",
          "name": "stdout",
          "text": [
            "1660    0.001682\n",
            "228     0.001416\n",
            "3615    0.001403\n",
            "1328    0.001064\n",
            "4972    0.001052\n",
            "          ...   \n",
            "5049    0.000022\n",
            "6417    0.000022\n",
            "5050    0.000022\n",
            "6415    0.000022\n",
            "6287    0.000022\n",
            "Length: 6914, dtype: float64\n"
          ]
        }
      ],
      "source": [
        "print(pd.Series(rank).sort_values(ascending=False))"
      ]
    },
    {
      "cell_type": "code",
      "execution_count": null,
      "metadata": {
        "id": "CkIVDMJBQZaE"
      },
      "outputs": [],
      "source": [
        "showBucketSeries(pd.Series(rank).sort_values(ascending=False), indexes=range(5), iloc=1)"
      ]
    },
    {
      "cell_type": "code",
      "source": [
        "fClean.loc[fileIds[pd.Series(rank).sort_values(ascending=False).index]]"
      ],
      "metadata": {
        "colab": {
          "base_uri": "https://localhost:8080/",
          "height": 455
        },
        "id": "3L_Q-UC3Ob7q",
        "outputId": "f4c33cc1-9780-4e38-f306-6450da93eec7"
      },
      "execution_count": null,
      "outputs": [
        {
          "output_type": "execute_result",
          "data": {
            "text/plain": [
              "                    createdAt               updatedAt       gid  \\\n",
              "id                                                                \n",
              "14451 2022-08-26 22:19:21.317 2022-09-05 00:14:10.228  TMUL_SRU   \n",
              "5504  2022-08-19 16:38:23.860 2022-08-20 01:53:36.849  GHG8XXCM   \n",
              "13557 2022-08-26 19:01:38.110 2022-09-05 00:18:27.456  1POGZHTY   \n",
              "11330 2022-08-26 00:52:45.629 2022-09-05 00:37:37.797  GCS85C5S   \n",
              "15123 2022-08-27 00:51:13.684 2022-09-05 00:14:02.781  ALSVO1RU   \n",
              "...                       ...                     ...       ...   \n",
              "15200 2022-08-27 01:11:26.732 2022-09-05 00:14:03.760  7NGS9ZNF   \n",
              "16568 2022-08-27 14:27:28.626 2022-09-05 00:50:29.985  8BRRJLTF   \n",
              "15201 2022-08-27 01:11:39.767 2022-09-05 00:14:03.860  PN6AIQNA   \n",
              "16566 2022-08-27 14:26:38.497 2022-09-05 00:50:29.133  NSSABTA3   \n",
              "16445 2022-08-27 13:50:23.804 2022-09-05 00:49:56.354  FNNPOTLA   \n",
              "\n",
              "                                                    name  \\\n",
              "id                                                         \n",
              "14451            Wyoming-Graham-Lever-Aff-Wyoming-Round6   \n",
              "5504                Oil DA File 2 - Michigan7 2021 BFHPR   \n",
              "13557         Rutgers-Ogundare-St-Clair%20Aff-NDT-Round1   \n",
              "11330          George%20Mason-Peake-Lowry-Neg-UMW-Round2   \n",
              "15123  Berkeley%20Prep-Tirupathi-Zinober-Aff-UT%20Aus...   \n",
              "...                                                  ...   \n",
              "15200             Bravo-Chanay-Kundu-Neg-Berkeley-Round3   \n",
              "16568  Hendrickson-Yedavalli-Duvvuri-Neg-Berkeley%20I...   \n",
              "15201              Bravo-Chanay-Kundu-Neg-Berkley-Round2   \n",
              "16566  Head%20Royce-Shaw-Jayaratne-Aff-01%20-%20Palm-...   \n",
              "16445  Gunn-Lee-Jeong-Aff-00%20-%20Contact%20Info-Finals   \n",
              "\n",
              "                                                    path     status  roundId  \n",
              "id                                                                            \n",
              "14451  ./documents/ndtceda21/Wyoming/GrLe/Wyoming-Gra...  PROCESSED  14278.0  \n",
              "5504   ./documents/openev/2021/UM7/Oil DA File 2 - Mi...  PROCESSED      NaN  \n",
              "13557  ./documents/ndtceda21/Rutgers/OgSt/Rutgers-Ogu...  PROCESSED  13192.0  \n",
              "11330  ./documents/ndtceda21/GeorgeMason/PeLo/George%...  PROCESSED  10280.0  \n",
              "15123  ./documents/hspolicy21/BerkeleyPrep/TiZi/Berke...  PROCESSED  15396.0  \n",
              "...                                                  ...        ...      ...  \n",
              "15200  ./documents/hspolicy21/Bravo/ChKu/Bravo-Chanay...  PROCESSED  15841.0  \n",
              "16568  ./documents/hspolicy21/Hendrickson/YeDu/Hendri...  PROCESSED  18958.0  \n",
              "15201  ./documents/hspolicy21/Bravo/ChKu/Bravo-Chanay...  PROCESSED  15842.0  \n",
              "16566  ./documents/hspolicy21/HeadRoyce/ShJa/Head%20R...  PROCESSED  18821.0  \n",
              "16445  ./documents/hspolicy21/Gunn/LeJe/Gunn-Lee-Jeon...      ERROR  18553.0  \n",
              "\n",
              "[6914 rows x 7 columns]"
            ],
            "text/html": [
              "\n",
              "  <div id=\"df-c3e08e8a-7b43-4f55-9e06-b4a6aa9e5977\">\n",
              "    <div class=\"colab-df-container\">\n",
              "      <div>\n",
              "<style scoped>\n",
              "    .dataframe tbody tr th:only-of-type {\n",
              "        vertical-align: middle;\n",
              "    }\n",
              "\n",
              "    .dataframe tbody tr th {\n",
              "        vertical-align: top;\n",
              "    }\n",
              "\n",
              "    .dataframe thead th {\n",
              "        text-align: right;\n",
              "    }\n",
              "</style>\n",
              "<table border=\"1\" class=\"dataframe\">\n",
              "  <thead>\n",
              "    <tr style=\"text-align: right;\">\n",
              "      <th></th>\n",
              "      <th>createdAt</th>\n",
              "      <th>updatedAt</th>\n",
              "      <th>gid</th>\n",
              "      <th>name</th>\n",
              "      <th>path</th>\n",
              "      <th>status</th>\n",
              "      <th>roundId</th>\n",
              "    </tr>\n",
              "    <tr>\n",
              "      <th>id</th>\n",
              "      <th></th>\n",
              "      <th></th>\n",
              "      <th></th>\n",
              "      <th></th>\n",
              "      <th></th>\n",
              "      <th></th>\n",
              "      <th></th>\n",
              "    </tr>\n",
              "  </thead>\n",
              "  <tbody>\n",
              "    <tr>\n",
              "      <th>14451</th>\n",
              "      <td>2022-08-26 22:19:21.317</td>\n",
              "      <td>2022-09-05 00:14:10.228</td>\n",
              "      <td>TMUL_SRU</td>\n",
              "      <td>Wyoming-Graham-Lever-Aff-Wyoming-Round6</td>\n",
              "      <td>./documents/ndtceda21/Wyoming/GrLe/Wyoming-Gra...</td>\n",
              "      <td>PROCESSED</td>\n",
              "      <td>14278.0</td>\n",
              "    </tr>\n",
              "    <tr>\n",
              "      <th>5504</th>\n",
              "      <td>2022-08-19 16:38:23.860</td>\n",
              "      <td>2022-08-20 01:53:36.849</td>\n",
              "      <td>GHG8XXCM</td>\n",
              "      <td>Oil DA File 2 - Michigan7 2021 BFHPR</td>\n",
              "      <td>./documents/openev/2021/UM7/Oil DA File 2 - Mi...</td>\n",
              "      <td>PROCESSED</td>\n",
              "      <td>NaN</td>\n",
              "    </tr>\n",
              "    <tr>\n",
              "      <th>13557</th>\n",
              "      <td>2022-08-26 19:01:38.110</td>\n",
              "      <td>2022-09-05 00:18:27.456</td>\n",
              "      <td>1POGZHTY</td>\n",
              "      <td>Rutgers-Ogundare-St-Clair%20Aff-NDT-Round1</td>\n",
              "      <td>./documents/ndtceda21/Rutgers/OgSt/Rutgers-Ogu...</td>\n",
              "      <td>PROCESSED</td>\n",
              "      <td>13192.0</td>\n",
              "    </tr>\n",
              "    <tr>\n",
              "      <th>11330</th>\n",
              "      <td>2022-08-26 00:52:45.629</td>\n",
              "      <td>2022-09-05 00:37:37.797</td>\n",
              "      <td>GCS85C5S</td>\n",
              "      <td>George%20Mason-Peake-Lowry-Neg-UMW-Round2</td>\n",
              "      <td>./documents/ndtceda21/GeorgeMason/PeLo/George%...</td>\n",
              "      <td>PROCESSED</td>\n",
              "      <td>10280.0</td>\n",
              "    </tr>\n",
              "    <tr>\n",
              "      <th>15123</th>\n",
              "      <td>2022-08-27 00:51:13.684</td>\n",
              "      <td>2022-09-05 00:14:02.781</td>\n",
              "      <td>ALSVO1RU</td>\n",
              "      <td>Berkeley%20Prep-Tirupathi-Zinober-Aff-UT%20Aus...</td>\n",
              "      <td>./documents/hspolicy21/BerkeleyPrep/TiZi/Berke...</td>\n",
              "      <td>PROCESSED</td>\n",
              "      <td>15396.0</td>\n",
              "    </tr>\n",
              "    <tr>\n",
              "      <th>...</th>\n",
              "      <td>...</td>\n",
              "      <td>...</td>\n",
              "      <td>...</td>\n",
              "      <td>...</td>\n",
              "      <td>...</td>\n",
              "      <td>...</td>\n",
              "      <td>...</td>\n",
              "    </tr>\n",
              "    <tr>\n",
              "      <th>15200</th>\n",
              "      <td>2022-08-27 01:11:26.732</td>\n",
              "      <td>2022-09-05 00:14:03.760</td>\n",
              "      <td>7NGS9ZNF</td>\n",
              "      <td>Bravo-Chanay-Kundu-Neg-Berkeley-Round3</td>\n",
              "      <td>./documents/hspolicy21/Bravo/ChKu/Bravo-Chanay...</td>\n",
              "      <td>PROCESSED</td>\n",
              "      <td>15841.0</td>\n",
              "    </tr>\n",
              "    <tr>\n",
              "      <th>16568</th>\n",
              "      <td>2022-08-27 14:27:28.626</td>\n",
              "      <td>2022-09-05 00:50:29.985</td>\n",
              "      <td>8BRRJLTF</td>\n",
              "      <td>Hendrickson-Yedavalli-Duvvuri-Neg-Berkeley%20I...</td>\n",
              "      <td>./documents/hspolicy21/Hendrickson/YeDu/Hendri...</td>\n",
              "      <td>PROCESSED</td>\n",
              "      <td>18958.0</td>\n",
              "    </tr>\n",
              "    <tr>\n",
              "      <th>15201</th>\n",
              "      <td>2022-08-27 01:11:39.767</td>\n",
              "      <td>2022-09-05 00:14:03.860</td>\n",
              "      <td>PN6AIQNA</td>\n",
              "      <td>Bravo-Chanay-Kundu-Neg-Berkley-Round2</td>\n",
              "      <td>./documents/hspolicy21/Bravo/ChKu/Bravo-Chanay...</td>\n",
              "      <td>PROCESSED</td>\n",
              "      <td>15842.0</td>\n",
              "    </tr>\n",
              "    <tr>\n",
              "      <th>16566</th>\n",
              "      <td>2022-08-27 14:26:38.497</td>\n",
              "      <td>2022-09-05 00:50:29.133</td>\n",
              "      <td>NSSABTA3</td>\n",
              "      <td>Head%20Royce-Shaw-Jayaratne-Aff-01%20-%20Palm-...</td>\n",
              "      <td>./documents/hspolicy21/HeadRoyce/ShJa/Head%20R...</td>\n",
              "      <td>PROCESSED</td>\n",
              "      <td>18821.0</td>\n",
              "    </tr>\n",
              "    <tr>\n",
              "      <th>16445</th>\n",
              "      <td>2022-08-27 13:50:23.804</td>\n",
              "      <td>2022-09-05 00:49:56.354</td>\n",
              "      <td>FNNPOTLA</td>\n",
              "      <td>Gunn-Lee-Jeong-Aff-00%20-%20Contact%20Info-Finals</td>\n",
              "      <td>./documents/hspolicy21/Gunn/LeJe/Gunn-Lee-Jeon...</td>\n",
              "      <td>ERROR</td>\n",
              "      <td>18553.0</td>\n",
              "    </tr>\n",
              "  </tbody>\n",
              "</table>\n",
              "<p>6914 rows × 7 columns</p>\n",
              "</div>\n",
              "      <button class=\"colab-df-convert\" onclick=\"convertToInteractive('df-c3e08e8a-7b43-4f55-9e06-b4a6aa9e5977')\"\n",
              "              title=\"Convert this dataframe to an interactive table.\"\n",
              "              style=\"display:none;\">\n",
              "        \n",
              "  <svg xmlns=\"http://www.w3.org/2000/svg\" height=\"24px\"viewBox=\"0 0 24 24\"\n",
              "       width=\"24px\">\n",
              "    <path d=\"M0 0h24v24H0V0z\" fill=\"none\"/>\n",
              "    <path d=\"M18.56 5.44l.94 2.06.94-2.06 2.06-.94-2.06-.94-.94-2.06-.94 2.06-2.06.94zm-11 1L8.5 8.5l.94-2.06 2.06-.94-2.06-.94L8.5 2.5l-.94 2.06-2.06.94zm10 10l.94 2.06.94-2.06 2.06-.94-2.06-.94-.94-2.06-.94 2.06-2.06.94z\"/><path d=\"M17.41 7.96l-1.37-1.37c-.4-.4-.92-.59-1.43-.59-.52 0-1.04.2-1.43.59L10.3 9.45l-7.72 7.72c-.78.78-.78 2.05 0 2.83L4 21.41c.39.39.9.59 1.41.59.51 0 1.02-.2 1.41-.59l7.78-7.78 2.81-2.81c.8-.78.8-2.07 0-2.86zM5.41 20L4 18.59l7.72-7.72 1.47 1.35L5.41 20z\"/>\n",
              "  </svg>\n",
              "      </button>\n",
              "      \n",
              "  <style>\n",
              "    .colab-df-container {\n",
              "      display:flex;\n",
              "      flex-wrap:wrap;\n",
              "      gap: 12px;\n",
              "    }\n",
              "\n",
              "    .colab-df-convert {\n",
              "      background-color: #E8F0FE;\n",
              "      border: none;\n",
              "      border-radius: 50%;\n",
              "      cursor: pointer;\n",
              "      display: none;\n",
              "      fill: #1967D2;\n",
              "      height: 32px;\n",
              "      padding: 0 0 0 0;\n",
              "      width: 32px;\n",
              "    }\n",
              "\n",
              "    .colab-df-convert:hover {\n",
              "      background-color: #E2EBFA;\n",
              "      box-shadow: 0px 1px 2px rgba(60, 64, 67, 0.3), 0px 1px 3px 1px rgba(60, 64, 67, 0.15);\n",
              "      fill: #174EA6;\n",
              "    }\n",
              "\n",
              "    [theme=dark] .colab-df-convert {\n",
              "      background-color: #3B4455;\n",
              "      fill: #D2E3FC;\n",
              "    }\n",
              "\n",
              "    [theme=dark] .colab-df-convert:hover {\n",
              "      background-color: #434B5C;\n",
              "      box-shadow: 0px 1px 3px 1px rgba(0, 0, 0, 0.15);\n",
              "      filter: drop-shadow(0px 1px 2px rgba(0, 0, 0, 0.3));\n",
              "      fill: #FFFFFF;\n",
              "    }\n",
              "  </style>\n",
              "\n",
              "      <script>\n",
              "        const buttonEl =\n",
              "          document.querySelector('#df-c3e08e8a-7b43-4f55-9e06-b4a6aa9e5977 button.colab-df-convert');\n",
              "        buttonEl.style.display =\n",
              "          google.colab.kernel.accessAllowed ? 'block' : 'none';\n",
              "\n",
              "        async function convertToInteractive(key) {\n",
              "          const element = document.querySelector('#df-c3e08e8a-7b43-4f55-9e06-b4a6aa9e5977');\n",
              "          const dataTable =\n",
              "            await google.colab.kernel.invokeFunction('convertToInteractive',\n",
              "                                                     [key], {});\n",
              "          if (!dataTable) return;\n",
              "\n",
              "          const docLinkHtml = 'Like what you see? Visit the ' +\n",
              "            '<a target=\"_blank\" href=https://colab.research.google.com/notebooks/data_table.ipynb>data table notebook</a>'\n",
              "            + ' to learn more about interactive tables.';\n",
              "          element.innerHTML = '';\n",
              "          dataTable['output_type'] = 'display_data';\n",
              "          await google.colab.output.renderOutput(dataTable, element);\n",
              "          const docLink = document.createElement('div');\n",
              "          docLink.innerHTML = docLinkHtml;\n",
              "          element.appendChild(docLink);\n",
              "        }\n",
              "      </script>\n",
              "    </div>\n",
              "  </div>\n",
              "  "
            ]
          },
          "metadata": {},
          "execution_count": 51
        }
      ]
    },
    {
      "cell_type": "code",
      "source": [],
      "metadata": {
        "id": "wJyOXjAoOzMr"
      },
      "execution_count": null,
      "outputs": []
    },
    {
      "cell_type": "code",
      "execution_count": null,
      "metadata": {
        "id": "e5E35C4Bgt5x"
      },
      "outputs": [],
      "source": [
        "trust = evGraphW.new_edge_property(\"double\")\n",
        "trust.a = np.full(len(trust.a), 0.5)"
      ]
    },
    {
      "cell_type": "code",
      "execution_count": null,
      "metadata": {
        "id": "X92BCmnYUO78"
      },
      "outputs": [],
      "source": [
        "frBuckets = (evClean[evClean['tag'].str.contains('fracking')]).groupby('bucketId').size().sort_values(ascending=False)\n",
        "frBIndex = frBuckets.index[0]\n",
        "frV = evGraphW.vertex(bucketIndexes[frBIndex])\n",
        "# tt = gt.trust_transitivity(evGraph, trust, source=v)"
      ]
    },
    {
      "cell_type": "code",
      "execution_count": null,
      "metadata": {
        "id": "QQRQSteuMCof"
      },
      "outputs": [],
      "source": [
        "pairs = [(bucketIndexes[frBIndex], i) for i in range(evGraphW.num_vertices())]"
      ]
    },
    {
      "cell_type": "code",
      "execution_count": null,
      "metadata": {
        "colab": {
          "base_uri": "https://localhost:8080/"
        },
        "id": "HURz4PRl6qvb",
        "outputId": "75e2e1d7-62c9-4f0f-b236-033759777bdc"
      },
      "outputs": [
        {
          "name": "stdout",
          "output_type": "stream",
          "text": [
            "174 ms ± 1.32 ms per loop (mean ± std. dev. of 7 runs, 10 loops each)\n"
          ]
        }
      ],
      "source": [
        "%timeit gt.vertex_similarity(evGraphW, eweight=evGraphW.ep.weight, vertex_pairs=pairs)"
      ]
    },
    {
      "cell_type": "code",
      "execution_count": null,
      "metadata": {
        "colab": {
          "base_uri": "https://localhost:8080/"
        },
        "id": "VJBumLrIRQty",
        "outputId": "6b545cef-99f8-4393-ddbc-d245f3f5ff37"
      },
      "outputs": [
        {
          "data": {
            "text/plain": [
              "381       1.000000\n",
              "539       0.447788\n",
              "14549     0.331570\n",
              "2861      0.319185\n",
              "1818      0.304954\n",
              "            ...   \n",
              "38673     0.000000\n",
              "38672     0.000000\n",
              "38671     0.000000\n",
              "38670     0.000000\n",
              "112309    0.000000\n",
              "Length: 112310, dtype: float64"
            ]
          },
          "execution_count": 53,
          "metadata": {},
          "output_type": "execute_result"
        }
      ],
      "source": [
        "similar = pd.Series(gt.vertex_similarity(evGraphW, eweight=evGraphW.ep.weight, vertex_pairs=pairs)).sort_values(ascending=False)\n",
        "similar"
      ]
    },
    {
      "cell_type": "code",
      "execution_count": null,
      "metadata": {
        "colab": {
          "base_uri": "https://localhost:8080/",
          "height": 1000
        },
        "id": "U6qKvLOL3nYv",
        "outputId": "dbeca4c3-0994-44df-c0bf-41aab6133446"
      },
      "outputs": [
        {
          "data": {
            "text/html": [
              "<div style='display: flex; height: 1000px'><div style='padding: 10px; flex: 1 1 0; overflow: scroll;'><h4>Federal fracking regulations solve wastewater pollution and methane emissions</h4><p><strong>Meegoda et al. 17</strong> [Jay N. Meegoda, Ph.D., P.E., F.ASCE, Professor, Dept. of Civil and Environmental Engineering, New Jersey Institute of Technology, Samuel Rudy, Dept. of Civil and Environmental Engineering, New Jersey Institute of Technology, Zhenting Zou, Ph.D. Student, Dept. of Civil and Environmental Engineering, New Jersey Institute of Technology (corresponding author), and Michael Agbakpe, Ph.D., Postdoctoral Fellow, Dept. of Civil and Environmental Engineering, New Jersey Institute of Technology, “Can Fracking Be Environmentally Acceptable?,” Journal of Hazardous, Toxic, and Radioactive Waste 21:2, April 2017]</p><p>While it has been proven that most of the accusations against fracking causing methane contamination are false, <u><strong>there is</u></strong> still undeniably a presence of <u><strong>methane in the groundwater around some fracking locations</u></strong>. <u>The most likely <mark>culprit for</mark> this methane <mark>contamination is “poorly built wells- inadequate steel casing and poor cement construction</u></mark> (North Carolina Health News 2014).” In other words, human error is most likely responsible for any contamination of groundwater around fracking wells. This is because there is high pressure in the pipe during fracking. Specifically, <u>when the fracking fluid is pumped into the well and when the methane gas is pumped out of the w</u>ell. <u><strong><mark>Even a small irregularity</mark> in the casing due to poor installation or cementation <mark>could produce a leak</u></strong></mark>, such as a full water balloon pricked with a tiny hole (Ewen et al. 2012). <u><strong>From that leak, it is feasible <mark>that the methane gas could slip past the cement and contaminate the groundwater</u></strong></mark>.</p><p>As with horizontal drilling, this situation is not the case. Studies have shown that there is a negligible amount of contamination if the groundwater is more than 1 km away from fracking wells (Mason et al. 2015). Hence, it is proposed that any residential or commercial activities should be at least 1 km away from the vertical well. While this would be inconvenient for fracking companies as there is groundwater above many of the places that contain shale gas, it is definitely possible to work around. This is especially true when horizontal fracking is considered (which has already shown not to be the cause of methane contamination). Horizontal fracking could be used to circumvent the 1-km restriction by drilling down vertically more than 1 km away from the groundwater and then drilling horizontally underneath the groundwater. As it is now, horizontal wells extend several miles, so the 1-km constraint would not be overly detrimental to the productiveness of fracking.</p><p>There is another possible explanation for methane contamination. Groundwater naturally contains methane in low quantities. However, it is possible that some groundwater has a larger concentration of methane. The preceding time of arrival calculation showed that it would take approximately 33 million years for methane to seep from the shale layer up to the groundwater reserves. Yet, most of the shale formations that are fracked are far older than that of the Marcellus shale (the second largest fracking field in the world), which is 385 million years old. With such a long time, it is possible that the shale migrated into the groundwater long before fracking was even conceived and that it was only noticed once fracking became popular and controversial. This explanation is corroborated by reports (Lustgarten 2009) of people being able to set their water aflame (due to the high methane concentration) long before fracking began in their area.</p><p>Between human error and natural methane migration into groundwater, the presence of methane in groundwater around fracking wells can be explained. It is also evident that fracking does not inherently cause contamination of groundwater, provided that the vertical well is at least 1 km away from any groundwater well. Therefore, with sufficient training and supervision to avoid most human error, along with the proper regulation preventing fracking companies from drilling vertically within 1.6 km (1 mi) of groundwater, <u><strong>the process of <mark>fracking can be made safe, and prevent methane from contaminating</mark> ground<mark>water</mark> reserves</u></strong>.</p><p>Earthquakes</p><p>Another environmental concern due to fracking is the occurrence of earthquakes near fracking sites. Although the direct link between earthquakes has not been definitively proven, there are viable theories for how fracking could directly cause earthquakes and the level of correlation between fracking and earthquakes makes a cause and effect relationship between the two undeniable. The earthquakes tend to occur mainly during two steps of the fracking: (1) during the injection of the fracking fluid into the well and (2) after the fracking is completed, when the fracking companies inject waste fluid into deep underground formations. The vast majority of the earthquakes attributable to fracking are not powerful enough to be detected by humans without the aid of a sensor; however, a larger earthquake could occur infrequently with the potential to cause damage.</p><p>Currently, there are only a few preventative measures employed by fracking companies to prevent earthquakes (partially due to the ambiguous cause and nature of the earthquakes). One such protective measure utilized by Cabot Oil and Gas Corporation (along with other fracking companies) is to perform a detailed sonar analysis of the ground before fracking (Fetzer 2012). Unfortunately, this technique has proven insufficient in preventing earthquakes.</p><p><u>The most likely cause of the earthquakes is either fracking fluid or waste fluid seeping into undetected faults deep underground when they the fluids are injected into their respective wells</u>. The fluids are injected with high pressure underground and this great pressure may cause them to move through the fractures that are created during fracking, causing leakage from the fractures in the shale layer to fault lines. The fluid could then provide lubrication and cause the fault to slip, creating earthquakes around the area.</p><p>A precaution that should be taken (in addition to screening the ground before beginning to frack) is to ensure that disposal wells are not overloaded, because overloading a well could increase the pressure and make earthquakes more frequent. It would not be feasible to lessen the pressure exerted by the fracking fluid because high pressure is needed in order for the fluid to create the fractures, keep them open, and extract the shale gas. Another proposed solution is to not frack within a certain range of a population due to the perception that earthquakes only occur in areas close to the well. This, however, has recently been disproved. A Cornell University research team measured earthquakes that were most likely attributed to fracking approximately 50 km (31 mi) away from the fracking wells (Keranen et al. 2014). The cause of these earthquakes has not yet been conclusively determined but it is suspected to be due to fracking. Katie Keranen, professor of geophysics at Cornell University, stated, “Existing criteria for an induced earthquake do not allow earthquakes associated with the well activity to occur this far away from the wellbore,” implying that the current explanation for earthquakes is not due to fracking, or a given explanation is incomplete.</p><p>In a study on the impact of fracking on earthquakes, an investigation of the Marcella formation in the state of Pennsylvania was conducted. There are 301 fracking wells in Pennsylvania (FracFocus 2015a, b, c). Based on U.S. Geological Survey (USGS 2015) data, there were only six earthquakes of magnitude 4 or higher that occurred within the last 30 years. Earthquakes of magnitude 4 or less are considered a minor earthquake of minimal disruption. Upon further analysis of those six earthquakes, it was found that all occurred prior to fracking starting in Pennsylvania. Furthermore, the epicenter of those earthquakes was much deeper than the Marcella formation, indicating minimal or no contribution due to fracking in Pennsylvania, one of the major shale gas producers.</p><p>Despite the research performed, earthquakes remain one of the most mysterious issues associated with fracking. However, it is important to note that the issue of earthquakes is not as pressing as other environmental concerns surrounding fracking due to the infrequent occurrence of earthquakes and the far less likely chance that an earthquake occurs that could cause any damage. With the current research, the best solution would be to prohibit underground injection of waste fluid or at least prevent overfilling of disposal wells. In addition, it is important to check as thoroughly as possible for any fault or abnormality in the ground before drilling begins. If these preventative measures are followed, the likelihood of earthquakes, especially severe ones, should decrease.</p><p>Fracking Fluid</p><p><u>Handling of flow back and produced waters is another issue that arises from fracking operations. </u>Currently, this wastewater can be recycled for subsequent fracking, reinjected underground, or treated and released into rivers. Other environmental issues are the impacts on land use, noise, and air quality. The exploration process in general generates a lot of activities and associated traffic, noise, and air pollution (Davis 2012). Despite the fact that the industry is adapting where possible to more benign fracking chemicals, information on the exposure to natural and added chemicals and the fate and ecotoxicity of the generated wastewater is not available (Batley and Kookana 2012).</p><p>High concentrations of natural contaminants such as metals, radionuclides, total petroleum hydrocarbons (TPHs), and phenols have also been observed in return wastewaters and formation waters (Cheung et al. 2009; Wood and Patterson 2011). Even though these chemicals are naturally occurring, there are risks of possible modification and release processes associated with the introduction of oxygenated waters, as ythe oxidation of reduced iron may lead to iron oxyhydroxide precipitation and a lowering of water pH (Batley and Kookana 2012). Elevated iron and manganese concentrations have been observed in flow-back waters (Wood and Patterson 2011). Acids in the fracking fluids will cause metal dissolution, aided by chelating agents. Surfactants and solvents may assist in the dissolution of organic compounds (Batley and Kookana 2012).</p><p>Therefore, a third major environmental issue is the disposal of waste products (mostly fracking fluid) after a well is fully formed for gas production. Different chemicals perform different functions in a hydraulic fracturing. Although there are dozens to hundreds of chemicals that could be used as additives, there are a limited number that are routinely used in fracking. Table 2 shows a list of the most frequently used chemicals.</p><p>Fracking fluid is pumped down into the well at high pressure and used to create, expand, and keep open the fissures created in the shale layer in order to allow the shale gas to be withdrawn from the well. Once the factures are initiated, the fracking fluid is retrieved. The proper disposal of fracking fluid remains an important environmental issue.</p><p>There are three processes that fracking wastewater can undergo. The most environmentally friendly is the first option, reusing the fracking fluid and treating the waste in a private treatment plant. As seen in Table 2, there are existing technologies to effectively treat or neutralize each component of fracking fluid. Waste still needs to be properly disposed even with this option. “The process cleans most of the water, but at least some smaller amount of fluid, or solid ‘cake,’ still needs to be disposed” (NPR 2014). This injection back into the ground is simiar to the second option: putting wastewater into a disposal well. This option involves injecting waste into a Class II disposal well (the type of well for fracking waste) and leaving it thousands of meters underground, commonly surrounded by sandstone or limestone. This option can have detrimental effects on the environment, and fracking fluid must be disposed of properly.</p><p>The treatment and renewal of fracking liquid waste are more important because some of these compounds are hazardous substances and known carcinogens, which can enter and pollute drinking water supplies from the well, well pad, or in the wastewater disposal process. Some of the listed additives are listed in Table 2 (FracFocus 2015a, b, c). Their adverse effects and removal strategies are discussed in the following.</p><p>Acetaldehyde, which is use as corrosion inhibitor, is considered a probable human carcinogen (Group B2) and has been shown to cause nasal tumors in rats and laryngeal tumors in hamsters (U.S. EPA 1997). Additionally, acetaldehyde cannot be effectively treated by traditional water-treatment processes, but was reported to be effectively removed by microbial degradation using biological activated carbon (BAC) filters (Chun-Lei et al. 2013).</p><p>Ethylene glycol is an organic solvent, and is a major constituent of antifreeze and coolant. It functions as a product stabilizer and/or winterizing agent in a fracking fluid mixture. Chronic exposure effects include kidney toxicity and liver damage. Several oral or inhalation exposure studies on rodents also showed that ethylene glycol is toxic to fetuses (U.S. EPA 1999). The EPA has not listed ethylene glycol as a controlled or priority substance, however. Ethylene glycol is reported to undergo aerobic and anaerobic biodegradation in water (Dwyer and Tiedje 1983); thus, ethylene glycol can be removed from the waste fracking fluid by biodegradation.</p><p>Another compound of interest is 2-Butoxyethanol, which functions as a product stabilizer in fracking. The EPA currently does not classify 2-Butoxyethanol for human carcinogenicity, but rather cautions against effects of acute and chronic exposures such as severe liver and kidney damage, testicular damage, reduced fertility, maternal toxicity, early embryonic death, birth defects, delayed development, and hematological disorders from inhalation and oral exposure (U.S. EPA 1984). Removal of 2-Butoxyethanol can be achieved with techniques like activated carbon filtration and ozone reaction.</p><p>Glutaraldehyde is a biocide with wide industrial applications. In fracking operations, it is used to eliminate bacteria in the water that produce corrosive by-products. Glutaraldehyde is acutely toxic to both aquatic and terrestrial organisms. Results from environmental partitioning indicated that glutaraldehyde is hydrophilic and tends to remain in the aquatic partition and is nonbioaccumulative (IPCS INCHEM 2005). Aqueous solutions of glutaraldehyde are stable at room temperature under acidic to neutral conditions, and stable in sunlight, but unstable at elevated temperatures and under alkaline conditions. Glutaraldehyde is biodegradable under both aerobic and anaerobic conditions (Leung 2001).</p><p>Ammonium persulfate is an inorganic salt that is highly soluble in water. It is a strong oxidizing agent, which is used in fracking liquid as a polymerization inhibitor to aid delayed break down of the gel. Ammonium persulfate is harmful to aquatic organisms (ILO-ICSC 2001). In human beings, it is reported to cause asthmatic effects (De Vooght et al. 2010). The substance can be absorbed into the body by inhalation in its aerosol form and by ingestion (ILO-ICSC 2001). Ammonium persulfate can be removed by neutralizing it with a base.</p><p><u>Tetramethyl ammonium chloride is used in fracking fluid as a clay stabilizer to prevent clays from swelling or shifting. Tetramethyl ammonium chloride is a nonvolatile quaternary ammonium salt, which exists in the cation form in the environment and generally adsorbs strongly to soils containing organic carbon and clay. It is reported to be toxic to microorganisms an also has a low bioaccumulative potential (TOXNET-HSDB 2012). It can be absorbed into the body by inhalation and by ingestion (CDC 2003). Above 300°C, tetramethyl ammonium chloride decomposes to produces ammonia, carbon monoxide, hydrogen chloride, and nitrogen oxides. It can also react with oxidants (ILO-ICSC 2003) and thus can be treated by oxidation.</p><p><strong>Regulations need to be implemented that require companies to extract as much fracking fluid from the well bore as they reasonably can and dispose of it in an environmentally acceptable manner. The ideal solution would be to treat as much of the fluid as possible, but this is more expensive</u></strong>. <u>One final consideration to consider when disposing of fracking fluid is to create a regulation that prevents overloading of disposal wells as this can cause other problems, primarily earthquakes and leaks.</p><p></u>The proper disposal of fracking fluid could lead to both environmental and economic benefits. If a technique for cheaply treating the wastewater is created, then only a minimal amount of fracking fluid will need to be disposed of and the rest can be reused in other fracking wells, leaving a smaller environmental footprint and allowing fracking companies to not have to acquire new fracking fluid. Additionally, <u>with proper regulation and enforcement, most of the issues associated with disposal wells should be mitigated.</p><p></u>To make fracking safe, both for the environment and any citizens in the area, <u><strong>the issue of proper disposal of waste products must be solved</strong>. All of the remaining fracking fluid should be treated or disposed of in a manner in accordance with regulations that should be put in place to prevent issues with disposal. This should diminish the issues related to the correct disposal of wastewater.</p><p></u>Several studies have revealed the use of toxic fracking fluids such as diesel and benzene (Davis 2012). In the Energy Policy Act of 2005 <u>the Halliburton loophole was added to the EPA’s Resource Conservation and Recovery</u> Act (<u><strong>RCRA</u></strong>), <u>which regulates hazardous and solid waste, exempting from oversight the waste from oil and gas exploration, development, and production.</p><p></u>Cost and Benefit Analysis</p><p>A cost and benefits analysis of hydraulic fracking and production of shale gas is required to complete the evaluation. This is essential as studies addressing total lifecycle costs are rare and previous reports have come to different conclusions on the cost and environmental benefits of shale gas compared to other alternatives. Stamford and Azapagic (2014) demonstrated that shale gas has a wide range of lifecycle environmental impacts (favorable and unfavorable) depending on the potential variation of different parameters. Laurenzi and Jersey (2013) reported that the carbon footprint of Marcellus gas 53% lower than coal, and the freshwater consumption is about 50% less than coal. Weber and Clavin (2012) also reported that the most likely upstream carbon footprints are largely similar for both shale and conventional gas production, with overlapping 95% uncertainty ranges of 11.0–21.0  g  CO2e/MJLHV and 12.4–19.5 g CO2e/MJLHV for shale and conventional gas, respectively. However, a complete cost benefit analysis of fracking considering environmental costs and benefits of issues discussed in this manuscript requires an in-depth analysis and is thus beyond the scope of the present work. A detailed study of the topic has been initiated for a future manuscript.</p><p>Regulations</p><p>The biggest issue with fracking is the lack of or minimal regulation. Th<u>e federal government is unable to regulate the industry because of the Halliburton loophole in the Energy Policy Act of 2005</u>; this clause excludes “underground injections of fluids or propping agents, other than diesel fuels, in hydraulic fracturing activities.” Hence, regulatory oversight falls to the state, but states have competing monetary interests. The result of these conflicts of interest is to reduce the motivation or incentive to regulate the industry. Regulatory bodies are urgently needed to control the fracking fluids used. Furthermore, regulatory procedures should be put in place to ensure safety, prevent contamination, and make the involved parties responsible for violations (Ince et al. 2013). <u>In the Energy Policy Act of 2005, the “Halliburton loophole” exempts fracking from the Safe Drinking Water Act because it was believed that fracking posed no risk to drinking water</u> (Manuel 2010). <u>The Clean Water Act and Clean Air Act encounter similar difficulties in enforcement</u>. Therefore, <u><strong>the EPA has little to no actual authority over this booming industry</strong>. Other regulatory agencies that have a role in the fracking include the Underground Injection Control Program (UICP), which regulates the pumping of fluids into wells, and the National Pollutant Discharge Elimination System (NPDES), which regulates runoff from waste pits and surface spills (EPA). Both of these groups set standards for acceptable practices regarding aspects of the fracking process. However, UICP has very little control over the well injections under the 2005 Energy Policy Act; hence, UIP can only regulate the disposal of the fracking fluids in underground waste wells (Ince et al. 2013).</p><p>The current lack of regulations and oversight for the chemicals and wastewater of fracking is the main source of controversy and <strong>leads to a lack of confidence</u></strong> on the part of some stakeholders, hindering the wider public acceptance of the process. <u>Regulation reform and proper oversight is urgently needed that should prioritize abatement of potential risks and to boost public confidence in the fracking process. The reform regulation should endeavor to embrace the concerns of all the stakeholders in an effort to provide social and economic benefits for the society.</p><p><strong>Summary and Conclusions</p><p></u></strong>Fracking, <u>the process of drilling deep down and injecting high-pressure water mixture to fracture rock to release trapped shale</u> gas, promises the potential of energy independence for the United States. It has presented an opportunity to generate electricity at half the CO2 emissions from coal. There are three major environmental issues identified with fracking, namely, leaking methane gas while fracking and during production, triggering of earthquakes due to fracking, and the disposal of the wastewater. A comprehensive literature search and a detailed analysis were performed to address the question of whether fracking be environmentally acceptable. It can be concluded that <u>if the following actions were taken</u>, <u><strong>then fracking could indeed be made environmentally acceptable.</p><p></u></strong>Earthquakes remain one of the most mysterious issues that has been associated with fracking, but there is no definitively proven direct link between earthquakes and hydraulic fracking. However, for the Marcella shale formation, earthquakes are not as pressing as other environmental concerns surrounding fracking due to the infrequent occurrence of earthquakes and the far less probability that such an earthquake occurs that could cause any damage. The vast majority of the earthquakes attributable to fracking are not powerful enough to be detected by humans without the aid of a sensor; however, a larger earthquake can occur infrequently with the potential to cause damage. With the current level of knowledge, <u><strong>the best precaution would be to prohibit underground injection of waste fluid</u></strong>. In addition, <u>a complete geological investigation should be performed to locate any active or dormant faults or abnormality in the ground before drilling</u>. Once it is confirmed that no such geological formations are found, the vertical wells should be located at least a mile away from any residential or commercial activities.</p><p>Based on shale gas seepage and diffusion calculations herein, it is virtually impossible for methane to contaminate the groundwater due to horizontal drilling. However, <u><strong>there is a possibility of shale gas release from a vertical</u></strong> well and it is proposed that <u><strong>any residential or commercial activities should be at least 1 km away from the vertical well</u></strong>. In addition, the vertical wells should be constructed with precautions to prevent methane gas leaks and a proper quality assurance and quality control procedure should be established during construction. Furthermore, the workers should be trained and properly supervised during construction. <u><strong>Methane monitors that could trigger alarms and locate </u></strong>leaks can be used in order to prevent losses during the transport and distribution.</p><p>To make fracking safe, the issue of <u><strong>proper disposal of waste products must be solved</strong>. Most fracking fluid should be extracted from the well bore and treated for reuse. The waste fracking fluid should be treated or disposed of in a manner in accordance with regulations</u> that should be put in place. The <u>proper disposal of waste fracking fluid could lead to both environmental and economic benefits. This should diminish the issues surrounding correct disposal of wastewater</u>. Finally, regulation and openness are major issues limiting stakeholder acceptance of the process. Therefore, regulation reformation is vital to ensure that all shareholder concerns are addressed in an effort to provide social and economic benefits for society as a whole.</p></div>\n",
              "<div style='padding: 10px; flex: 1 1 0; overflow: scroll;'><h4>Banning fracking is <u>necessary</u> to prevent catastrophic climate change---<u>Directly limits</u> one-third of global emissions <u>and</u> acts as a <u>short-term lever</u> that creates time for international action </h4><p>David <strong>Roberts 19</strong>, 8-15-2019, \"Fracking may be a bigger climate problem than we thought,\" Vox, https://www.vox.com/energy-and-environment/2019/8/15/20805136/climate-change-fracking-methane-emissions //mecr</p><p>As greenhouse gases go, <u><mark>methane</mark> gets less attention than carbon dioxide, but it <mark>is</mark> a <mark>key</mark> contributor to climate change.</p><p>Methane doesn’t stay in the atmosphere as long</u> as CO2 and is reabsorbed into terrestrial cycles via chemical reactions within 12 years or so. <u>But</u> while it’s up there, <u><mark>it’s much more potent, trapping heat</mark> at</u> roughly <u><mark>84 times the rate of CO2</u></mark>. Scientists estimate that around <u><mark>25 percent of current</mark> global <mark>warming traces to methane</mark>.</p><p><mark>When</mark> it comes to <mark>reducing CO2</mark> emissions</u>, the chain between cause and effect is frustratingly long and diffuse. <u><mark>Reduced emissions</mark> today <mark>won’t show up</mark> as reduced climate impacts <mark>for decades</mark>.</p><p>But <mark>with methane</u></mark>, the chain of causation is much shorter and simpler. <u><mark>Reduced emissions have an</mark> almost <mark>immediate climate impact</u></mark>. It’s a short-term climate lever, and <u>if the countries of <mark>the world</mark> are going <mark>to hold</mark> rising temperatures <mark>to</mark> the</u> United Nations’ <u>target of “well below” <mark>2 degrees</mark> Celsius </u>above the preindustrial baseline, <u>they’re going to <mark>need</mark> all the <mark>short-term</mark> climate <mark>levers</mark> they can get</u>.</p><p>In the real world, though, the <u>news about <mark>methane is</mark> bad and <mark>getting worse</u></mark>. It turns out that <u><mark>a</u></mark> mysterious <u><mark>recent spike</mark> in global methane levels that’s <mark>putting</mark> climate <mark>targets at risk</u></mark> may be <u><mark>coming from US</u></mark> oil and gas <u><mark>fracking</u></mark>. If that’s true, it’s bad news, because there’s lots more shale gas development in the pipeline and the Trump administration is expected to release a proposed rule Thursday rolling back regulations on the industry, per the New York Times.</p><p>The mysterious spike in atmospheric methane may lead to America’s doorstep</p><p>Global methane emissions rose steeply in the last decades of the 20th century and then leveled off. But around 2006, they started heading up again. Why? What was the source? Scientists were baffled. (Jonathan Mingle wrote a great story for Undark on scientists’ search for answers.</p><p>There are two broad sources of methane emissions: biogenic (plant and animal-based) and fossil fuel production. The former is mainly about agriculture (cow burps, pig poop, rotting organic waste) and tropical wetlands. As for the latter, <u><mark>methane is leaked</u></mark> or deliberately “flared” (burned off) <u><mark>at</u></mark> virtually <u><mark>every stage of</mark> fossil fuel <mark>production</mark> and</u> transport, a problem that is <u>notoriously bad for fracked</u> shale <u>gas</u> <u>and</u> tight <u>oil</u>.</p><p>A few studies, including a major one in the journal Science in 2016, largely traced the recent spike in methane to biogenic sources, mainly because recent atmospheric methane has been “lighter,” depleted of its heavier carbon stable isotope (13C). Generally speaking, fossil fuel production produces heavier methane and biogenic sources produce lighter methane, so researchers have taken the trend as an indication that the recent spike is mostly biogenic in origin.</p><p>But it was a perplexing finding, one that the Science authors characterized as “unexpected, given the recent boom in unconventional gas production and reported resurgence in coal mining and the Asian economy.” If you see a big boom in fossil fuel production happening alongside a big spike in methane, you might expect to find the two connected.</p><p>In a new paper released in Biogeosciences, Robert Howarth of Cornell University has proposed a solution to the riddle.</p><p>Howarth is a familiar name to those who have followed methane debates over the years. He and colleagues at Cornell have been arguing for years that natural gas methane emissions are much higher than the government estimates or the industry admits, high enough to wipe out its supposed climate advantage over coal. That is a controversial position, to say the least. (Estimates of methane leakage vary widely, but Howarth’s is at the very top end.)</p><p>In his latest paper, Howarth is making a different point, springing from two facts he says previous studies have overlooked.</p><p>First, <u>63 percent of the total increase in</u> global <u>natural gas production</u> in the 21st century <u>has come from shale gas. And</u> second, <u>shale gas production using modern hydrofracturing techniques tends to produce lighter methane than conventional</u> natural gas <u>drilling.</p><p></u>Howarth finds that if the lighter methane of shale gas production is explicitly accounted for, “<u><mark>shale</mark>-gas <mark>production</mark> in North America over the past decade may have <mark>contributed more than</mark> half of all of the increased [methane] emissions from fossil fuels globally and approximately <mark>one-third of</mark> the <mark>total</mark> increased <mark>emissions</mark> from all sources <mark>globally</mark> over the past decade.”</p><p></u>Since <u>89 percent of the shale gas production comes from the US</u> (Canada produced the rest), that’s a whole lot of accelerated global warming tracing right back to America’s front door.</p><p>It is worth emphasizing that this is only one paper in a very active field of research, from a controversial source, and it is sure to be debated and contested in coming years. But if it is right, or even only half right, it is bad news.</p><p>All signs point toward increased methane in coming years</p><p><u>If increased methane from shale gas is helping drive the spike in global methane emissions, the climate is in serious trouble</u>, because there is every indication that <u>shale gas <mark>emissions are higher than</mark> generally <mark>estimated and</mark> set to <mark>keep rising</u></mark>.</p><p>First, six years of intensive research from the Environmental Defense Fund has shown that <u>methane emissions from US oil and natural gas production are</u> as much as <u>60 percent higher than government estimates</u>. This recent paper in Science summarizes: “Methane emissions of this magnitude, per unit of natural gas consumed, produce radiative forcing over a 20-year time horizon comparable to the CO2 from natural gas combustion.” <u>Getting natural gas out of the ground and to its final destination releases as much methane as burning it</u> — which, whether or not it makes gas “worse than coal,” makes it pretty bad.</p><p>Meanwhile, as Jennifer Dlouhy reports for Bloomberg, “the Trump administration is readying a plan to end direct federal regulation of methane leaks from oil and gas facilities, even as some energy companies insist they don’t want the relief.” The high-profile energy companies, the ones with large operations and lots of exposure to public opinion, rightly see this as a terrible idea. It makes them look like climate villains; it increases their exposure to climate risk and future policy shifts; it makes investors uncertain and hesitant. Oh, and it exacerbates climate change.</p><p>But the little companies, with lots of small, leaky wells scattered about, don’t want to be forced to clean them up; in many cases, being forced to run clean would destroy the economics and shut down the wells.</p><p>And Trump is personally dedicated to reversing everything Obama did, so ... methane-wise, it’s back to the Wild West.</p><p>Third and most disturbingly, <u>the US appears to be in the early stages of a massive fracking infrastructure buildout</u>. A recent report from Food & Water Watch (FWW) charted this buildout, identifying “<u>more than 700 fracked gas infrastructure projects that have been recently built or proposed</u> for development.”</p><p>There are liquid natural gas export terminals: “In 2018, there were only three active LNG export facilities in the U.S., but 22 more were either being built or approved for construction, and an additional 22 were pending federal review by the end of the year.” There is the plastics industry, with “more than $202 billion slated for investment in ​333 new or expanded facilities.” And there is the electricity sector, with “plans to develop ​364 new fracked gas-fired plants​ by 2022.”</p><p><u>Despite escalating concerns over the climate impact of natural gas</u> and signs that it is flagging somewhat in the electricity sector, <u><mark>the industry seems poised for enormous expansion</u></mark>. That is wildly irresponsible in the face of the widely agreed upon (by everyone but Republicans) need to reach net-zero greenhouse gas emissions, in the US and globally, by midcentury.</p><p><u><mark>With jurisdiction over the</mark> rapidly metastasizing shale gas <mark>industry, the US has</mark> direct control over</u> one of <u>the biggest and fastest-growing sources of</u> potent, fast-acting <u>methane. That means it also has</u>, within its reach, <u>the <mark>ability to make early</mark> and <mark>substantial progress on climate change</u></mark>.</p><p>Several Democratic candidates have proposed <u>ending fracking</u> on public lands; only a few (Jay Inslee, Bernie Sanders, and Tom Steyer) have explicitly proposed pursuing a national ban. That <u>hasn’t been a top-tier policy dispute yet, but as scientists make the grim effects of fracking clearer and clearer, it’s going to become one</u>.</p></div>\n",
              "<div style='padding: 10px; flex: 1 1 0; overflow: scroll;'><h4>Gulf confrontations go <u>nuclear</h4><p></u><strong>UN News 19</strong> (United Nations News, internally cites Secretary-General António Guterres, A dangerously hot climate, simmering political tensions: ‘This is not the summer of our youth,’ UN chief warns, 8-1, https://news.un.org/en/story/2019/08/1043591<u><strong>, y2k)</p><p></strong>Mr. Guterres also turned his attention to <strong><mark>tensions</strong></mark> in global politics, notably <mark>in the</mark> <strong>Persian <mark>Gulf</strong></mark>, friction <mark>between <strong>China</strong> and </mark>the <strong><mark>US</strong>, and</mark> between <strong><mark>nuclear</mark>-armed <mark>states</strong></mark>. A minor <strong><mark>miscalc</mark>ulation</strong> in the Persian <strong>Gulf</strong>, he said, could <mark>lead to </mark>a major <strong><mark>confrontation</strong></mark>. Referring to recent <strong><mark>incidents</strong> in </mark>the Strait of <strong><mark>Hormuz</strong></mark> – which include the diversion of a British-flagged <strong>oil tanker by Iran</strong>, the US destruction of an Iranian drone, and the UK decision to provide a <strong>naval escort</strong> for tankers – the UN chief <mark>stressed the <strong>need</strong> to respect</mark> the rights and duties related to <strong><mark>navigation</mark> through the Strait</strong>, and its adjacent waters, in accordance with international law. Concerning China-US relations, Mr. Guterres said that the lessons of the Cold War must be learned, in order to avoid a new one, in which two competing blocs emerge, each with their own dominant currency, trade rules, and contradictory geopolitical and military rules. “With leadership committed to <strong>strategic cooperation</strong> and to managing competing interests”, he said, “we can steer the world onto a <strong>safer path”</p></u></strong></div>\n",
              "<div style='padding: 10px; flex: 1 1 0; overflow: scroll;'><h4>Shocks cause <u>overcrowding</u> in the <u>Gulf</h4><p></u><strong>Hendrix 19</strong> (Cullen S. Hendrix, Senior Research Staff at Peterson Institute for International Economics, Why US Energy Independence Won't Mean Greater US Energy Autonomy, 9-23, https://www.piie.com/blogs/realtime-economic-issues-watch/why-us-energy-independence-wont-mean-greater-us-energy-autonomy, y2k)</p><p>The health of the US economy, after all, remains contingent on the health of some of its largest trading partners and military allies. As a result, <u><strong><mark>supply</mark> <mark>shocks</u></strong> <u></mark>in global markets will</u> continue to <u><mark>have</u></mark> clear <u><strong><mark>security implications</u></strong></mark>. <u>The economies of <strong>Asia</u></strong> <u>and</u> <u><strong>Europe</u></strong>, <u>along with <strong>North America</u></strong>—the three pillars on the global economy—<u>run on <strong>imported oil</u></strong>, and <u><strong><mark>China</strong> and <strong>India</strong> become</mark> more <strong><mark>import-dependent</u></strong></mark> <u>every day. With it</u>, <u>both countries’ interests in <strong><mark>projecting military</mark> capabilities</u></strong> <u>into <mark>oil-producing regions <strong></mark>increase</u></strong> <u>in order to <strong>prevent</u></strong> <u>supply disruptions</u>, filling a vacuum left by the Trump administration’s reluctance to project US power into the region. <u><strong><mark>Shipping lanes</u></strong> <u></mark>in the <strong>Gulf</strong> are <strong><mark>threatened</u></strong> <u>by</u></mark> both <u><strong>piracy</u></strong> <u>and</u> <u><strong><mark>tensions</u></strong></mark> <u>between <strong>Saudi Arabia</strong> and <strong>Iran</u></strong>. As US commitments to policing these crucial arteries of the world economy wane, <u><strong><mark>rising powers</strong></mark> in Asia will <mark>become</mark> more <strong><mark>involved</strong></mark> in the region</u>. Whether this can be done in ways that facilitate cooperative policing and burden-sharing is an open question at best.</p></div>\n",
              "<div style='padding: 10px; flex: 1 1 0; overflow: scroll;'><h4>Naval arms races cause <u>nuclear</u> war</h4><p>Robert C. <strong>Rubel 14</strong>, Dean of Naval Warfare Studies at the Naval War College, “Navies and Economic Prosperity: The New Logic of Sea Power,” in Writing to Think: The Intellectual Journey of a Naval Career, https://www.kcl.ac.uk/sspp/departments/dsd/research/researchgroups/corbett/corbettpaper11.pdf<u>, DOA: 1-12-16, y2k</p><p>.</u>¶<u> Let us start with <strong><mark>naval arms races</u></strong></mark>. We must admit that nations build navies for a range of reasons beyond protection of merchant shipping. These may include the desire to protect a vulnerable coast line, deter depredations by other powers and even generate prestige. There is, perhaps, one element of Mahan’s syllogism that continues to be true: at a certain level of economic activity and wealth, nations start building navies. A capable, ocean-going navy is a sign that a nation has “arrived” as a major power. Whether such navy building is a herald of future war or is a politically neutral phenomenon is not clear, although the historical record <u>is <mark>cause </mark>for <mark>concern</u></mark>. <u>Today, <strong><mark>China</strong></mark>, <strong><mark>Japan</strong></mark>, <strong><mark>India</strong></mark>, <strong><mark>Brazil</strong></mark> and other nations are <strong><mark>building</strong> navies</mark>. They each have their reasons, but</u> the prospects that <u>such building programmes will <mark>lead to</mark> <strong>suspicion</strong>, <strong>alarm,</strong> <strong><mark>fear</strong> and</mark> ultimately <strong><mark>war</strong></mark> </u>may depend very much on how the current leading navies and their parent nations proceed.¶ An important reason the world system has been able to stitch itself back together after the world wars is the military superiority of the United States. A liberal democratic trading nation, it has coupled this superiority with free trade policies to stimulate economic growth. Capital, goods and people can flow freely around the globe, generating systemic behaviour. A key element of American military superiority is command of the seas, a term denoting the inability of any other navy to impose a strategic defeat on the U.S. Navy on the high seas. It is this command, like that achieved by the Royal Navy in the nineteenth century, which helped create the necessary conditions for system formation. When it is lost, as it was in 1914 and 1941, the world fragments and falls into war.¶ The challenge becomes how to use command of the sea to manage or influence the emergence of other navies such that true naval arms races do not occur. The right way to do this is not completely clear but there appear to be several sure-fire losing strategies. The first is for the United States to start the arms race itself by reflexively viewing the emergence of the Chinese Navy or others as a threat. Policies and patterns of building and deployment based on alarm and fear will generate reciprocal responses in China and elsewhere. This is why CS21 does not mention China or any other nation by name, something often criticized by those with an alarmist bent. Among the ways the U.S. Navy can stimulate Chinese alarm is to openly consider interdiction of their seaborne commerce in exercises, war games or articles. Not only would this strengthen the hand of Chinese alarmists, but commerce interdiction would probably be infeasible on a number of counts anyway. Another good way to invoke this kind of reciprocal security dilemma is to link sea control and power projection. After the Cold War, the U.S. Navy focused so narrowly on power projection that it and some of its allied navies forgot how to talk about sea control.12 While progress has been made in this area, there is still a sense in the doctrine that U.S. forces will use land strikes to neutralize shore based antiaccess systems with sea control being an exercise in access generation that is prerequisite to projecting power ashore.13 One can imagine the effect such talk has on a nation like China that has suffered humiliation and exploitation from the sea at the hands of western nations. Already, the Chinese are reacting to the most recent U.S. concept of this ilk, Air-Sea Battle: “If the U.S. military develops Air-Sea Battle to deal with the [People’s Liberation Army], the PLA will be forced to develop anti-Air-Sea Battle.”14¶ A second way to increase the odds that navy building will lead to war is for the leading navies to allow vulnerabilities to emerge. The U.S. Navy did this in two ways during the 1930s and up to 1941. First, it was slow to recognize and accept that the bomb-carrying aircraft had replaced the major calibre gun as the dominant naval weapon. Although war games at the Naval War College and demonstrations by Billy Mitchell provided clear indicators, it took the December 1941 disasters of Pearl Harbor and the sinking of the HMS Repulse and Prince of Wales to force the new reality on the admirals. Today, the new reality is that the anti-ship missile is the arbiter of what floats and what does not. This is a condition that has existed since the early 1970s but has not been compellingly revealed due to the lack of an all-out naval battle, just as there was no all-out naval battle between 1922 and 1941 to reveal the bomb’s superiority. Vulnerability can also be generated by concentration. In 1941 the bulk of the U.S. fleet was concentrated at Pearl Harbor, leading Admiral Yamamoto to think that a single knock-out blow was possible. Although today the U.S. Navy is strategically dispersed around the world, its principal combat power is concentrated into eleven aircraft carriers. Taking several of these out would seriously compromise the strategic capabilities of the U.S. Navy, not to mention the potential adverse effects of derailing U.S. policy as happened via the loss of eighteen Special Forces soldiers in Somalia<u>, or conversely <mark>stimulating escalation, </mark>possibly <strong><mark>to </mark>the <mark>nuclear level.</u></strong></mark> Moreover, <u><strong>a hit </strong>on a</u> nuclear <u>carrier </u>that killed hundreds, if not thousands, of U.S. sailors in a single blow <u>might easily generate <strong>national outrage</strong> and serve to <strong><mark>escalate the conflict</strong></mark> far above initial intentions</u>. In naval warfare, history has shown that the tactical offense has most often trumped the tactical defence, and thinking that aircraft carriers can be defended against the array of existing and potential anti-ship missiles is not much different than the outlook of battleship admirals in the fall of 1941.15¶ The combination of vulnerability issues suggests that the U.S. Navy and any allied or cooperating navies that seek to constitute a combat credible force in ocean zones threatened by anti-ship missiles will have to disaggregate their power into a dispersed grid of submarines, destroyers and unmanned vehicles, themselves armed with highly lethal anti-ship missiles. Their purpose should be clearly articulated as defending the system by deterring aggression via the sea by means of defeating—at sea—any attempt to do so. Even the best anti-ship missile cannot hit what cannot be found. By disaggregating naval combat power and equipping it to exert sea control—at sea—we thereby eliminate both forms of naval vulnerability that contribute to naval arms races, and the deterioration of deterrence.¶ There is one other vulnerability issue that must be considered, and that is positioning. If caught out of position when a crisis erupts, the reactive movements of naval forces can catalyse rather than deter military action. In 1982, during the crisis leading up to the Falklands War, fears that the British were gathering up naval forces to send south helped put the Argentine Junta in a now-or-never state of mind, which precipitated their invasion and the war.16 If catalysis is to be avoided, naval forces must maintain a persistent presence in such areas where deterrence is necessary. This is why CS21 prescribes concentrated, credible combat forces be stationed forward in East Asia and the Persian Gulf. The Navy’s inventory of ships, aircraft and other systems must be sufficiently large such that this presence can be maintained indefinitely without “using up” ships and sailors at an unsustainable rate.¶ <u><strong>If command of the seas is achieved</strong> and maintained wisely by not provoking alarm and not allowing naval vulnerabilities to occur, the <mark>seas </mark>can <mark>constitute a</mark> massive <strong><mark>geopolitical shock absorber</strong>, preventing </mark>conflicts in one area of the world from <mark>spill</mark>ing <mark>over</mark> into others,</u> <u>mainly by keeping hostile armies from moving by sea,</u> and allowing one’s own to do so<u>. Even though this condition holds today as a function of American command of the sea, there has emerged, </u>since the attacks on the World Trade Center in New York, <u>the prospect of terrorists and their weapons being smuggled by sea to the shores of America, Europe, China, Japan and other developed countries</u>. <u>Given the disruptive potential of terrorist attacks, it is reasonable to regard them as only a step down from major power war as a threat to the system</u>. Although the attacks of 9/11 were perpetrated by the radical Islamic organization al Qaeda, in the future <u>such strikes might be staged by any number of groups</u>. Although neutralization of such organizations by intelligence or law enforcement agencies is the preferred method, the lack of success to date in doing so for narco-traffickers and other criminal enterprises leaves us to consider at-sea interdiction as a necessary measure.¶ The seas, of course, are huge, and at any moment they are dotted with tens of thousands of ships. There is not now nor has there ever been a navy of sufficient size to hermetically seal off the seas to smugglers. The only way to make the seas a barrier to terrorists is to have every costal nation effectively guard its own waters and establish good teamwork between its navy, intelligence service and law enforcement agencies. Some nations do but many do not. Thus CS21 calls for building capacity in those developing nations whose navies or coast guards are embryonic.¶ The mission of capacity building requires a very different kind of naval force than the one needed to prevent major power war. The main “weapon system” of such a force is the sailors and other personnel that train, educate and influence those in developing countries that will become sailors. The sheer number of countries needing such assistance suggests these missions be conducted from relatively inexpensive ships that can be procured in some numbers. In addition to actual naval forces deployed for capacity building purposes, the navies of developed nations employ their shore training and education infrastructures. The importance of naval academies and war colleges in building not only capacity but relationships cannot be overstated.¶ Beyond capacity building, making the seas a barrier to terrorists requires information about who is at sea, what is in the containers and holds, and where they are. Not only are new forms of surveillance needed, but also intensive information sharing so that two and two can be put together to reveal suspicious activity. To manage this, the U.S. Navy is developing a global network of maritime operations centres that will develop regional pictures that will be shared globally. This, in turn requires an international effort to develop trust and confidence so that information flows freely.¶ If an adequate degree of maritime security can be achieved, the seas will constitute a geopolitical shock absorber in another way. In the wake of 9/11 the United States had no equivalent of the First Lord of the Admiralty, Admiral Lord St Vincent, who supposedly advised a jittery parliament in 1801, “I do not say my lords that the French will not come, I say only that they will not come by sea.” Without the assurance of the seas as a barrier to further attack, it was as if New York City was connected to Kabul and Baghdad by a land bridge. The Bush Administration was spooked by the prospect of a WMD attack and rather stampeded itself into two simultaneous Eurasian land wars that got the United States mired down and over-extended. The comfort of insulating oceans can provide, among other things, a certain poise to the deliberations of the National Security Council and time for cooling off and reflection before committing the nation to war. Moreover, in the wake of the pull-out from Iraq and an increasingly rapid drawdown in Afghanistan, both the current and former U.S. Chiefs of Naval Operations have advanced the notion of an “offshore option” for anchoring forward U.S. military capabilities in the future.17 This would increase the proportionate contribution of naval forces to the U.S. effort to maintain global stability.¶ The threat of terrorism emanates principally from an area of a world that has been variously referred to as the “arc of instability” and Barnett’s Non-Integrating Gap. It encompasses much of Africa and the Middle East as well as parts of Southeast Asia. It is where most failed states exist but also where much of the natural resources necessary for the world economy are found. Thus the nations that constitute the global economic system can ill afford a hands-off strategy of containment, hoping to seal off the area against the spread of terrorism until it heals itself. Therapeutic incisions have been and will continue to be necessary at various times and places.¶ Because of the undeveloped nature of this area of the world, along with the fact that most of its inhabitants live within several hundred miles of the coast, naval force projection capability from a sea base will be necessary. The early phases of the Afghanistan operations were of this nature and we can confidently expect that if and when the world’s developed nations reach a consensus about going into Somalia to cure the piracy problem, it will be a sea-based expeditionary operation. Thus, protection of resource areas will require that some number of navies possess substantial sea-based expeditionary force capability, preferably of a kind that can integrate multi-national contributions easily. Rendering disaster relief, as was done in the tsunami relief effort in 2004, the Haiti earthquake and the Japan tsunami, is also an important form of sea-based force projection that mitigates economic damage to the system. It is likely that future sea-based expeditionary operations will be international, and so that capability must be conceptualized and practiced.¶ The mere presence of naval forces in areas of the world that are the source of resources, notably oil, seems to have a beneficial economic effect. Both routine presence of naval forces and their responses in crises were shown to have a substantial economic benefit in a 1997 study by the U.S. Naval Postgraduate School.18 It found that the initial naval response to the Iraqi invasion of Kuwait is likely to have increased global GDP by over $86 billion.19 Perhaps the least dire threat to the global system is piracy —albeit one that is currently seizing the headlines. Somali pirates, a manifestation of a failed state in the Non-Integrating Gap, hijack merchants and demand ransom for the crew and ship. The actual chance of a particular merchant being hijacked is less than one in nine hundred,20 and shipping companies seem more inclined to pay the ransom than install armed guards aboard their ships. However, the publicity has galvanized nations and their navies to take action. A previous bout of piracy in the Straits of Malacca was cured by the joint action of local navies. The Somalia/Gulf of Aden situation is more problematic since there is no effective governmental authority ashore. However, the emerging world response to it reveals some important facets of an emerging global naval infrastructure that supports the global system of commerce and security.¶ In Mahan’s day, the movement of major naval forces was noted by many countries, sometimes with alarm, as it might presage invasion, or at least a round of coercive diplomacy. In fact, when the PRC announced it was dispatching a small squadron to the Gulf of Aden, there was alarm in some quarters in the United States and other countries that this was a sign of an expansionist China. The Chinese themselves announced that their ships would operate independently in the Gulf of Aden to protect their own merchants. However, after several weeks on station two things happened: the alarm about their movement died off and the Chinese commander suggested a cooperative zone defence in order to make most efficient use of the international naval forces on station. Moreover, not only the Chinese are there, but the Russians, NATO, EU (different task force), the Japanese, Koreans, Singaporeans and even the “rogue” nation of Iran. Everybody is cooperating—why, how and what does it mean?¶ To start with, we must acknowledge the uniqueness of the Gulf of Aden situation. Somalia is a failed state that possesses neither resources nor location that would incite major power rivalry over influence ashore there. There is a universal confluence of interests centred on the protection of shipping. The unusual absence of major power competition allows naval operations to follow their natural course and provide a unique opportunity for us to see the security side of the global system in action.¶ The Chinese, Russians, Iranians and other naval forces have become virtually invisible in the Gulf of Aden because they have fallen in on an existing framework and infrastructure of sea power that girdles the globe. This infrastructure (perhaps more accurately the maritime security subsystem of the global economic system) consists of both physical and intangible elements. On the physical side, there is the U.S. Navy’s world-wide logistics system. It operates 24/7/365 and is composed of a web of bases, husbanding (victuals) contracts and replenishment ships, augmented by the supply ships of the Royal Navy, Japan and other allies. This system can support international naval operations anywhere in the world. In addition, there are GPS and communication satellites as well as the ubiquitous internet. Among the intangibles are the UN Law of the Sea that provides a clear framework for who can do what in whose waters, any number of other international agreements governing a range of maritime issues, and a world conditioned to see U.S. Navy and allied ships cruising the littorals of Eurasia. Perhaps another intangible element is CS21 itself, which casts the United States and its navy in a defensive posture (defence of the global system). This makes it easier politically for other nations to deploy their ships on a cooperative mission and make use of the U.S. Navy’s logistics system. It also appears that the navies of the world are getting comfortable with looser coordination arrangements. Before the internet, strict communications, protocols, and structured command and control schemes were necessary. With the internet, everyone can talk more extensively and in new ways such that restrictive command arrangements are not so necessary. This in turn obviates the need for formal agreements prior to conducting cooperative operations. With the political and technical barriers to entry low, nations become more willing to send their navies on cooperative ventures.¶ Previously we discussed the seas as geopolitical shock absorbers, both to limit other nations’ options for aggression and to provide our own government time for reflection and preserving the option of doing nothing. In the cooperative naval operations off Somalia, we see another aspect of the phenomenon emerging in a very positive way. It turns out that ships from the Chinese, Japanese and South Korean navies have taken to operating together in the Gulf of Aden. Strange bedfellows indeed, but as both the Japanese navy’s operations chief and a Chinese maritime scholar have said to the author on different occasions<u>, <strong><mark>cooperating on</u></strong></mark> easier missions can build trust and confidence that will provide a basis for achieving resolution of more difficult <u><strong><mark>maritime issues</strong></mark> between the nations. This <mark>is</mark> indeed <strong>geopolitical <mark>shock absorbing</strong></mark> of the most congenial kind.¶ </u>We have now arrived at a point where we can put all of the elements of modern naval endeavour together in a new syllogism. <u>Navies protect their nations’ economic prospects by operating cooperatively to defend all elements of the global system of commerce and security</u>. Their necessary functions range from averting naval arms races to rendering disaster relief to, yes, protecting shipping. But <u><strong>it is not an every navy for itself process; the more cooperation, the better</u></strong>. It may even turn out that sustained and habitual international naval cooperation will someday make the concept of command of the sea irrelevant. Until then, <u>the U.S. <mark>Navy must <strong>exert </mark>careful <mark>stewardship </mark>over its command of the sea,</u></strong> keep its global logistics system robust and develop the capacity to catalyse a global maritime security partnership on a broad front by being in a lot of places at the same time. Other navies must also look at the world in systems terms if they are to most effectively develop utility arguments and determine how to most effectively target their limited resources.¶ If one accepts the arguments that underpin the new syllogism of how navies support economic prosperity, then reasons for optimism become clear. <u><mark>Naval building</mark> programmes **<mark>in <strong>China</strong></mark>, <strong><mark>India</strong></mark> <mark>and <strong>elsewhere</strong></mark> do not have to lead to war as has happened in the past</u> in Europe; <u>there is a reasonable prospect that the seas can be</u> denied to terrorists; the seas can be <u>used to bring the Non-Integrating Gap into the system; and</u> <u>the emerging pattern of naval cooperating can not only secure the seas but <strong><mark>reduce the likelihood of conflict</mark> and war</strong>.</u>¶ <u>None of this will happen if nations let their navies decay</u>. The unique thing about navies is that their optimum utility is in time of peace. <u>When sea power is hitting on all cylinders, it is invisible</u>. An investment in <u><strong><mark>sea power is most</u></strong></mark> appropriate and <u><strong><mark>effective</mark> <mark>at a point when threats are not apparent</u></strong></mark>. In Mahan’s day the syllogism of sea power focused on the sovereign interests of individual nations and its application led eventually to war.¶ Today we see the world as a system, with <u>a sea power</u> logic that is expressed in systems terms. Its application, that is, investment in navies structured along systemic lines, <u>promises a massive return in the form of an extended and improving peace and</u>—despite the current global economic woes—<u>prosperity.</p></u></div>\n",
              "<div style='padding: 10px; flex: 1 1 0; overflow: scroll;'><h4>1. Insurers. They’re <u>refusing</u> to underwrite <u>environmental risks</u> of fracking. That massively ratches up <u>the legal risks.</h4><p></u><strong>Reynolds 19</strong> (Dan Reynolds is editor-in-chief of Risk & Insurance, In a bifurcated market, capacity abounds generally, but can shrink markedly for some high-hazard environmental risks, 6-14, https://riskandinsurance.com/warning-these-environmental-risks-and-coverages-are-becoming-tough-to-place/, y2k)</p><p><u>Determining <strong><mark>liability</u></strong></mark> and setting limits <u><mark>in</u> <u><strong></mark>environmental <mark>insurance</u></strong> <u>is no easy task</mark>. </u>How many previous owners were there of the pipeline that just broke and released oil into a New York politician’s favorite trout stream? If a jury concludes that a weed killer also kills people, when do underwriters pack up their tents and exit the space, not to mention the herbicide manufacturers? A foam that stops planes from catching fire and exploding is a good thing, right? Well, not when its existence in groundwater across the country is setting off jury awards in the hundreds of millions. These questions and others bedevil insurers, brokers and insureds as they contend with advancing science that unearths more risks and potentially more liability, and a legal environment where corporate errors, real or imagined, can result in jury awards in the 9 and 10 figures. Here are five areas that are seeing environmental coverage constraints. 1) PFOAs Polyfluoroalkyl substances, or PFOA’s, were used for decades in non-stick cookware, grease-resistant packaging, textile stain repellent and firefighting foams. In early 2019, 3M reached an agreement with a North Alabama water authority to pay $35 million to settle claims related to water contamination from the chemicals. In 2017, DuPont and Chemours reached a $670.7 million settlement with plaintiffs in the town of Parkersburg, West Virginia, around claims that PFOAs in the water supply there gave residents cancer. Matt Lumelleau, principal, EPIC Insurance Brokers and Consultants “Every single one of the carriers, the toxicologists and consultants I have spoken with, it’s their number one issue,” said Matt Lumelleau, a Houston-based principal with EPIC Insurance Brokers and Consultants. “The underwriters are looking at it as a new emerging exposure because of litigation and because of regulatory actions and things they have seen on their books,” he added. The risk stems from the fact that PFOAs can be found all over the place. “PFOA’s are being found in many large geographical areas and the majority of industrial areas and major cities in the U.S.,” Lumelleau added. 2) Glyphosate Most infamously known as the active ingredient in the weed killer Roundup, but present in numerous other products, Glyphosate was a worry for product liability underwriters before some recent legal settlements. Now it is a very big worry. According to Reuters, the German chemical company Bayer, which acquired Roundup maker Monsanto a little more than a year ago, faces more than 13,400 U.S. lawsuits in connection with the herbicide’s alleged cancer risk. In one recent ruling, a jury in Oakland, Calif. awarded more than $2 billion to a couple who alleged that their continued use of Roundup caused their cancer. “The testing that has been historically done in the industry focused on Glyphosate, the active ingredient in Roundup for hazard testing to human health and the environment. The allegations seem to point to the active ingredient Glyphosate in conjunction with the other chemicals and surfactants that are used to distribute the product that have caused the issue,” said John O’Brien, the head of environmental for Ascot Insurance US. “It’s an issue that went from ‘wow this could be bad if Monsanto loses,’ to ‘this is a disaster for the industry’, after they lost,” O’Brien said. John O’Brien, head of environmental, Ascot Insurance USA “My understanding from many of the brokers representing the companies that manufacture a derivative of this product is that they have been notified by their insurance companies in the last few months or so that they are no longer going to provide that coverage, so they are making decisions and asking, ‘Do I stay in this business or not?’ O’Brien said. “So far it seems like more of a product solution claim than a real cleanup situation,” said EPIC’s Lumelleau. “However, that can certainly change. Carriers are obviously paying attention to that because anytime a chemical is found to create bodily injury and property damage, especially on the manufacturing and supply side, the underwriters can be very wary about those sites,” Lumelleau added. 3) Mold Nothing new about the risk, other than the fact that carriers are increasingly unwilling to provide much cover for it. “It’s definitely an area where there is constrained capacity and there are concerns,” said Chris Smy, a global environmental practice leader for Marsh. “Those concerns are the result of claims experience, both frequency and severity,” he said. Hospitality and multi-family residential are two areas were carriers are reticent to provide capacity for coverage of mold claims. “We have seen some of the larger carriers taking some positions around mold,” he said. “The other area where we see it more is health care,” said Smy. “Some carriers have taken a very risk-averse approach, and are only offering, effectively, sudden and accidental coverage for mold,” he said. According to numerous sources, rather than looking for a bulk deductible, carriers are adding per-door deductibles to policies to better hedge their risk. 4) <u><strong>Upstream and Midstream Energy </strong><mark>Fracking</u></mark>, drilling and pipeline coverage <u><mark>is</u> <u></mark>a</u>nother <u><strong><mark>tricky</u></strong> <u></mark>area in <strong>environmental insurance</u></strong>. Ascot’s O’Brien said it’s on the primary layers of coverage for pipelines that capacity is constrained. “A lot of it has to do with some of the pipeline losses that have happened over the last couple of years,” he said. “So <u><mark>insurers are <strong>hesitant</u></strong></mark> <u>about supporting companies</u> that are going to be in that space,” he added. “<u><mark>All</mark> of the <strong><mark>companies</u></strong></mark> that manufacture this product <u>have</u> just <u>been <mark>notified</u> <u></mark>by</u> their <u>insurance companies</u> that <u><mark>they</mark> are <strong>no <mark>longer</strong> </mark>going to <mark>provi</mark>de that <strong><mark>coverage</u></strong></mark>, so <u>they are making decisions and asking</u>, <mark>‘<u><strong>Do I stay in</mark> <mark>this business or not?</u></strong></mark>’”–John O’Brien, Ascot Insurance USA “On newer assets, it’s not much of an issue, but when you are looking at older assets, which there are a lot of going back to the World War Two era in this country, that is becoming a harder to place risk class, especially on the primary line,” Lumelleau said. One pipeline loss scenario could be a pipeline that runs along a stream. The stream bank erodes due to heavy rainwater flow, exposes the pipe and it cracks. Where a pipeline loss happens impacts its notoriety, O’Brien said. If it’s a break in rural South Dakota, it might be a minor event from a media awareness perspective. If it happens in Santa Barbara, that’s another story, O’Brien said. There are fairly sophisticated control systems on pipelines, said O’Brien, such as monitoring systems that can detect a pressure drop in a line, which would trigger an alarm and an automatic shutdown. O’Brien, previously with Ironshore, has been underwriting pipelines and upstream exploration and production companies for decades and said he plans to stay very active in the business in his new position at Ascot. <u>Disposal <strong><mark>wells</strong> used in</u></mark> drilling and <u><strong><mark>fracking</mark> operations</u></strong> <u><mark>are</u></mark> another <u><mark>area where <strong>insurance capacity</strong> is</mark> <mark>constrained</u></mark>, said EPIC’s Lumelleau. “Disposal wells are becoming more difficult,” said Lemelleau. “<u>There are <strong><mark>fewer carriers</u></strong> <u></mark>writing them than there were <strong>historically</u></strong> <u>and</u> often <u>we are seeing that carriers are now looking to <strong><mark>scale back</u></strong> <u></mark>the amount of <mark>limits</mark> they are going to place <mark>on</u></mark> certain <u><strong><mark>energy </mark>assets</u></strong> and exposures,” he said. <u><strong>Fewer carriers</strong> putting out smaller limits has <mark>translated <strong>to a</mark> much more <mark>complex task</strong> in putting together</mark> <strong>coverage <mark>towers</strong> </mark>for </u>some<u> <strong>energy risks,</u></strong> Lumelleau said.</p></div>\n",
              "<div style='padding: 10px; flex: 1 1 0; overflow: scroll;'><h4>Only a new federal regulatory commission solves</h4><p><strong>Morrison 15 </strong>[Curtis L. Morrison, J.D. Candidate, Environmental Law Concentration, Whittier Law School, 2016; B.A. Political Science, University of Louisville, 2015, “NOTE AND COMMENT: FRACKER IN THE RYE: THE NECESSITY OF FEDERAL FRACKING WASTE REGULATION AND A FRACKING WASTE REGULATORY COMMISSION,” 37 Whittier L. Rev. 87, 106-115, lexis]</p><p>B. HOW A FEDERAL FRACKING WASTE DISPOSAL COMMISSION COULD LOOK.</p><p><u>Fracking waste is like nuclear waste, in that it remains dangerous in ways we have yet to understand, and even radioactive, for the foreseeable future. Imagine a world in which nuclear waste was not regulated</u>. That is a pretty scary world, yet with respect to fracking [*111] waste, that is our world. Slottje recently said:</p><p>This process of fracking is not self-contained. It's not limited to one person's yard. . .you're destroying public trust resources, like the air and water. Literally destroying water. It would be better to take the water that they use for fracking and put it on a rocket ship and send it to the Moon than to use it for fracking because that water is then available to pollute more water.</p><p>If Slottje's Moon-disposal idea sounds both outlandish and familiar, that may be due to a 1970's television show called Space: 1999, in which Earth's nuclear waste was sent to the Moon. While this may seem absurd, given the ways in which the fracking wastewater disposal industry often engages in 'creative' disposal, it is perhaps not outside the realm of possibility.</p><p>Fortunately, <u>Congress created the</u> United States Nuclear Regulatory Commission (\"<u>NRC</u>\") in 1974 to <u>regulate nuclear waste disposal in the United States</u>, so Moon disposal has not become a reality. <u>This article proposes that fracking wastewater disposal in the U.S. should also be regulated by a</u> yet-to-be-created federal <u>commission modeled on the NRC, referred to here as the</u> <u>Fracking Waste Disposal Regulatory Commission</u> (\"<u><strong>FWDRC</strong>\"). The NRC's regulatory mission pertains to three areas: nuclear reactors; nuclear materials; and the transportation, storage and disposal of nuclear waste, as well as decommissioning of nuclear facilities. This model fits well with fracking, which lacks regulation in three areas: oversight of and accountability for onsite fracking processes; oversight of fracking chemicals used, which are often kept secret under trademark claims; and the transportation, storage and disposal of fracking waste, including the monitoring of fracking storage wells to ensure their casings are not compromised.</p><p></u>Like the NRC, which has regional offices located in Georgia, Illinois, Pennsylvania and Texas, the FWDRC should have regional [*112] offices in California, Colorado, North Dakota, Ohio, and Texas, all centrally located within regions where fracking accidents have occurred already<u>. A regional headquarters within short driving distances of fracking sites would serve as a deterrent against misconduct by fracking wastewater disposal contractors</u>. Further, <u>increasing oversight of fracking disposal through visits from trained compliance investigators would greatly increase the odds of polluters being held accountable</u>, <u>even when they evade reporting by anonymous whistleblowers.</u> <u><strong>This deterrent would be especially necessary</u></strong>, <u>because</u> <u>unlike the NRC, which has \"onsite inspectors permanently stationed at each nuclear facility that it regulates,\" the expense of onsite regulators stationed at over 170,000 fracking sites</u>, no matter how justified, <u>would meet with incredible political opposition.</p><p></u>Like the NRC, the FWDRC could have \"five commissioners [in Level IV positions] appointed by the President and confirmed by the Senate for five-year terms.\"</p><p><u><mark>The most crucial component of</mark> creating any <mark>new authority would be minimizing</mark> the risk of <mark>agency</u> <u>capture</u></mark>, whereby those charged with regulating an industry actually serve the interest of the industry. A common myth is that existing environmental governmental agencies represent public interest, when in reality they act in tight alliance with industry and private interest. One scholar has listed \"a toxic blend of agency capture\" as the first factor explaining why \"federal government's leadership in fracking regulation has been paralyzed.\" The Halliburton Loophole illustrates this problem well.</p><p><u>One obvious way to minimize the risk of agency capture </u>with a [*113] <u>new <mark>commission</mark> is to <mark>forbid candidates with</mark> a <mark>history of working for</mark> the <mark>oil and gas industry</u></mark>, or ownership of gas and oil interest, <u>from appointment as commissioners. A compromise on that proposal would at least <mark>require a \"<strong>cooling period</strong></mark>,\"</u> <u>whereby candidates for appointment to the commission could not have worked in the oil and gas industry for at least the prior ten</u> <u>years</u>. Another idea is a special kind of non-compete clause in employment contracts between FWDRC and its employees that would prohibit employees from seeking work in the oil and gas industry for a significant period of time after leaving the FWDRC. While the clause would expand revolving door laws, which already apply to federal employees, the government's interest in protecting against agency capture justifies the expansion. Most importantly, diligent efforts should be made to prevent agency capture up front. Once agency capture exists, we're stuck with it. Perhaps the most-promising way to deconstruct agency capture may be through the judicial affirmation of a federal public trust doctrine. If federal agencies were not only responsible for narrowly implementing their statutory mandates, but also held to a higher burden as stewards for future generations, agency capture would be unlawful. Unfortunately, the Court passed on an opportunity to make that affirmation in 2014. No matter how independently the FWDRC is structured, <u><mark>the regulator</mark>y <mark>agency would be impotent without</mark> accompanying <strong><mark>substantive</mark> federal <mark>legislation</mark> specifically <mark>charged with</mark> the <mark>authority to hold the fracking</mark> wastewater disposal <mark>industry accountable</u></strong></mark>. Moreover, the <u>language must be more than specific, it must not allow for discretion</u>. While agency <u>discretion</u> sounds harmless enough, [*114] experience has taught us that it <u>has a way of becoming an agency's conduit to <strong>channel public resources into the hands of the very private industry it was charged with regulating</u></strong>. <u>The best model in U.S. environmental law is found in the</u> Endangered Species Act (\"<u><strong>ESA</u></strong>\"). The Supreme Court has held the words of Section 7 of the ESA \"affirmatively command all federal agencies 'to insure that actions authorized, funded, or carried out by them do not jeopardize the continued existence' of an endangered species or 'result in the destruction or modification of habitat of such species.'\" <u>To regulate fracking waste disposal, <strong>an act must charge the FWDRC <mark>to insure</mark> that the <mark>disposal of fracking wastewater</mark> within the U.S., or federal waters</strong>, <strong><mark>does not jeopardize public health, or</mark> result in <mark>environmental harm</u></strong></mark>. No doubt, this simple plain language will meet with extraordinary industry resistance. Not because it is confusing, over or under inclusive, or arbitrary or capricious, but because it will cost the oil and gas industry a lot of money, and compromise the use of fracking as a geo-political tool. <u>The importance of a thoughtful and deliberate framework to <strong>strictly regulate fracking wastewater disposal</u></strong> <u>free of regulatory capture cannot be overemphasized enough.</u> Recent competing suggestions for regulating fracking wastewater disposal include the use of regulation as a tax revenue device in order to covertly deter outright fracking bans, and allowing states to \"choose to operate a public disposal facility in order to prevent out-of-state waste being treated within its borders.\" <u>The implementation of either of these misguided ideas would do more to license harm than prevent it.</u> It would be difficult to imagine more corruptible licensing schemes than those, but not impossible. <u>Just picture those schemes implemented by decision-making regulators who are balancing their temporary public duty to protect human health</u> and the environment with their own more tangible private interests in maximizing their industry's profits through oil and gas extraction. Ultimately, <u>the only scenario worse than the</u> [*115] <u>pursuit of lackluster or loose regulation of fracking wastewater disposal, is allowing a captured agency to be charged with its implementation</u>. Thus, the <u><strong>regulation is crucial but the regulatory agency with the authority to implement it is just as crucial</u></strong>.</p></div></div>"
            ],
            "text/plain": [
              "<IPython.core.display.HTML object>"
            ]
          },
          "metadata": {},
          "output_type": "display_data"
        }
      ],
      "source": [
        "showBucketSeries(similar, indexes=range(7))"
      ]
    },
    {
      "cell_type": "code",
      "execution_count": null,
      "metadata": {
        "colab": {
          "base_uri": "https://localhost:8080/"
        },
        "id": "sY5FdaNd4PN9",
        "outputId": "75791a60-de50-4631-ace4-646929488377"
      },
      "outputs": [
        {
          "name": "stdout",
          "output_type": "stream",
          "text": [
            "60.4 ms ± 6.98 ms per loop (mean ± std. dev. of 7 runs, 10 loops each)\n",
            "74.4 ms ± 39.4 ms per loop (mean ± std. dev. of 7 runs, 10 loops each)\n"
          ]
        }
      ],
      "source": [
        "# def neighboorCounts(v):\n",
        "#   return np.array(np.unique(evGraphM.get_out_neighbors(v), return_counts=True)).T\n",
        "\n",
        "# def neighborhoodCounts(v):\n",
        "#   counts = {}\n",
        "#   for id, count in neighboorCounts(v):\n",
        "#     for nId, nCount in neighboorCounts(id):\n",
        "#       counts[nId] = counts.get(nId, 0) + count * nCount\n",
        "#   return pd.Series(counts).sort_values(ascending=False)\n",
        "\n",
        "# def neighboorhoodWeights(v):\n",
        "#   weights = {}\n",
        "#   for id in evGraphW.get_out_neighbors(v):\n",
        "\n",
        "\n",
        "# %timeit neighborhoodCounts(frV)\n",
        "# # related = neighborhoodCounts(frV)\n",
        "# # related"
      ]
    },
    {
      "cell_type": "code",
      "execution_count": null,
      "metadata": {
        "colab": {
          "base_uri": "https://localhost:8080/",
          "height": 1000
        },
        "id": "-l192mAVaNhG",
        "outputId": "82554efe-ae5a-401d-8c61-dace9dbe5ab6"
      },
      "outputs": [
        {
          "data": {
            "text/html": [
              "<div style='display: flex; height: 1000px'><div style='padding: 10px; flex: 1 1 0; overflow: scroll;'><h4>Federal fracking regulations solve wastewater pollution and methane emissions</h4><p><strong>Meegoda et al. 17</strong> [Jay N. Meegoda, Ph.D., P.E., F.ASCE, Professor, Dept. of Civil and Environmental Engineering, New Jersey Institute of Technology, Samuel Rudy, Dept. of Civil and Environmental Engineering, New Jersey Institute of Technology, Zhenting Zou, Ph.D. Student, Dept. of Civil and Environmental Engineering, New Jersey Institute of Technology (corresponding author), and Michael Agbakpe, Ph.D., Postdoctoral Fellow, Dept. of Civil and Environmental Engineering, New Jersey Institute of Technology, “Can Fracking Be Environmentally Acceptable?,” Journal of Hazardous, Toxic, and Radioactive Waste 21:2, April 2017]</p><p>While it has been proven that most of the accusations against fracking causing methane contamination are false, <u><strong>there is</u></strong> still undeniably a presence of <u><strong>methane in the groundwater around some fracking locations</u></strong>. <u>The most likely <mark>culprit for</mark> this methane <mark>contamination is “poorly built wells- inadequate steel casing and poor cement construction</u></mark> (North Carolina Health News 2014).” In other words, human error is most likely responsible for any contamination of groundwater around fracking wells. This is because there is high pressure in the pipe during fracking. Specifically, <u>when the fracking fluid is pumped into the well and when the methane gas is pumped out of the w</u>ell. <u><strong><mark>Even a small irregularity</mark> in the casing due to poor installation or cementation <mark>could produce a leak</u></strong></mark>, such as a full water balloon pricked with a tiny hole (Ewen et al. 2012). <u><strong>From that leak, it is feasible <mark>that the methane gas could slip past the cement and contaminate the groundwater</u></strong></mark>.</p><p>As with horizontal drilling, this situation is not the case. Studies have shown that there is a negligible amount of contamination if the groundwater is more than 1 km away from fracking wells (Mason et al. 2015). Hence, it is proposed that any residential or commercial activities should be at least 1 km away from the vertical well. While this would be inconvenient for fracking companies as there is groundwater above many of the places that contain shale gas, it is definitely possible to work around. This is especially true when horizontal fracking is considered (which has already shown not to be the cause of methane contamination). Horizontal fracking could be used to circumvent the 1-km restriction by drilling down vertically more than 1 km away from the groundwater and then drilling horizontally underneath the groundwater. As it is now, horizontal wells extend several miles, so the 1-km constraint would not be overly detrimental to the productiveness of fracking.</p><p>There is another possible explanation for methane contamination. Groundwater naturally contains methane in low quantities. However, it is possible that some groundwater has a larger concentration of methane. The preceding time of arrival calculation showed that it would take approximately 33 million years for methane to seep from the shale layer up to the groundwater reserves. Yet, most of the shale formations that are fracked are far older than that of the Marcellus shale (the second largest fracking field in the world), which is 385 million years old. With such a long time, it is possible that the shale migrated into the groundwater long before fracking was even conceived and that it was only noticed once fracking became popular and controversial. This explanation is corroborated by reports (Lustgarten 2009) of people being able to set their water aflame (due to the high methane concentration) long before fracking began in their area.</p><p>Between human error and natural methane migration into groundwater, the presence of methane in groundwater around fracking wells can be explained. It is also evident that fracking does not inherently cause contamination of groundwater, provided that the vertical well is at least 1 km away from any groundwater well. Therefore, with sufficient training and supervision to avoid most human error, along with the proper regulation preventing fracking companies from drilling vertically within 1.6 km (1 mi) of groundwater, <u><strong>the process of <mark>fracking can be made safe, and prevent methane from contaminating</mark> ground<mark>water</mark> reserves</u></strong>.</p><p>Earthquakes</p><p>Another environmental concern due to fracking is the occurrence of earthquakes near fracking sites. Although the direct link between earthquakes has not been definitively proven, there are viable theories for how fracking could directly cause earthquakes and the level of correlation between fracking and earthquakes makes a cause and effect relationship between the two undeniable. The earthquakes tend to occur mainly during two steps of the fracking: (1) during the injection of the fracking fluid into the well and (2) after the fracking is completed, when the fracking companies inject waste fluid into deep underground formations. The vast majority of the earthquakes attributable to fracking are not powerful enough to be detected by humans without the aid of a sensor; however, a larger earthquake could occur infrequently with the potential to cause damage.</p><p>Currently, there are only a few preventative measures employed by fracking companies to prevent earthquakes (partially due to the ambiguous cause and nature of the earthquakes). One such protective measure utilized by Cabot Oil and Gas Corporation (along with other fracking companies) is to perform a detailed sonar analysis of the ground before fracking (Fetzer 2012). Unfortunately, this technique has proven insufficient in preventing earthquakes.</p><p><u>The most likely cause of the earthquakes is either fracking fluid or waste fluid seeping into undetected faults deep underground when they the fluids are injected into their respective wells</u>. The fluids are injected with high pressure underground and this great pressure may cause them to move through the fractures that are created during fracking, causing leakage from the fractures in the shale layer to fault lines. The fluid could then provide lubrication and cause the fault to slip, creating earthquakes around the area.</p><p>A precaution that should be taken (in addition to screening the ground before beginning to frack) is to ensure that disposal wells are not overloaded, because overloading a well could increase the pressure and make earthquakes more frequent. It would not be feasible to lessen the pressure exerted by the fracking fluid because high pressure is needed in order for the fluid to create the fractures, keep them open, and extract the shale gas. Another proposed solution is to not frack within a certain range of a population due to the perception that earthquakes only occur in areas close to the well. This, however, has recently been disproved. A Cornell University research team measured earthquakes that were most likely attributed to fracking approximately 50 km (31 mi) away from the fracking wells (Keranen et al. 2014). The cause of these earthquakes has not yet been conclusively determined but it is suspected to be due to fracking. Katie Keranen, professor of geophysics at Cornell University, stated, “Existing criteria for an induced earthquake do not allow earthquakes associated with the well activity to occur this far away from the wellbore,” implying that the current explanation for earthquakes is not due to fracking, or a given explanation is incomplete.</p><p>In a study on the impact of fracking on earthquakes, an investigation of the Marcella formation in the state of Pennsylvania was conducted. There are 301 fracking wells in Pennsylvania (FracFocus 2015a, b, c). Based on U.S. Geological Survey (USGS 2015) data, there were only six earthquakes of magnitude 4 or higher that occurred within the last 30 years. Earthquakes of magnitude 4 or less are considered a minor earthquake of minimal disruption. Upon further analysis of those six earthquakes, it was found that all occurred prior to fracking starting in Pennsylvania. Furthermore, the epicenter of those earthquakes was much deeper than the Marcella formation, indicating minimal or no contribution due to fracking in Pennsylvania, one of the major shale gas producers.</p><p>Despite the research performed, earthquakes remain one of the most mysterious issues associated with fracking. However, it is important to note that the issue of earthquakes is not as pressing as other environmental concerns surrounding fracking due to the infrequent occurrence of earthquakes and the far less likely chance that an earthquake occurs that could cause any damage. With the current research, the best solution would be to prohibit underground injection of waste fluid or at least prevent overfilling of disposal wells. In addition, it is important to check as thoroughly as possible for any fault or abnormality in the ground before drilling begins. If these preventative measures are followed, the likelihood of earthquakes, especially severe ones, should decrease.</p><p>Fracking Fluid</p><p><u>Handling of flow back and produced waters is another issue that arises from fracking operations. </u>Currently, this wastewater can be recycled for subsequent fracking, reinjected underground, or treated and released into rivers. Other environmental issues are the impacts on land use, noise, and air quality. The exploration process in general generates a lot of activities and associated traffic, noise, and air pollution (Davis 2012). Despite the fact that the industry is adapting where possible to more benign fracking chemicals, information on the exposure to natural and added chemicals and the fate and ecotoxicity of the generated wastewater is not available (Batley and Kookana 2012).</p><p>High concentrations of natural contaminants such as metals, radionuclides, total petroleum hydrocarbons (TPHs), and phenols have also been observed in return wastewaters and formation waters (Cheung et al. 2009; Wood and Patterson 2011). Even though these chemicals are naturally occurring, there are risks of possible modification and release processes associated with the introduction of oxygenated waters, as ythe oxidation of reduced iron may lead to iron oxyhydroxide precipitation and a lowering of water pH (Batley and Kookana 2012). Elevated iron and manganese concentrations have been observed in flow-back waters (Wood and Patterson 2011). Acids in the fracking fluids will cause metal dissolution, aided by chelating agents. Surfactants and solvents may assist in the dissolution of organic compounds (Batley and Kookana 2012).</p><p>Therefore, a third major environmental issue is the disposal of waste products (mostly fracking fluid) after a well is fully formed for gas production. Different chemicals perform different functions in a hydraulic fracturing. Although there are dozens to hundreds of chemicals that could be used as additives, there are a limited number that are routinely used in fracking. Table 2 shows a list of the most frequently used chemicals.</p><p>Fracking fluid is pumped down into the well at high pressure and used to create, expand, and keep open the fissures created in the shale layer in order to allow the shale gas to be withdrawn from the well. Once the factures are initiated, the fracking fluid is retrieved. The proper disposal of fracking fluid remains an important environmental issue.</p><p>There are three processes that fracking wastewater can undergo. The most environmentally friendly is the first option, reusing the fracking fluid and treating the waste in a private treatment plant. As seen in Table 2, there are existing technologies to effectively treat or neutralize each component of fracking fluid. Waste still needs to be properly disposed even with this option. “The process cleans most of the water, but at least some smaller amount of fluid, or solid ‘cake,’ still needs to be disposed” (NPR 2014). This injection back into the ground is simiar to the second option: putting wastewater into a disposal well. This option involves injecting waste into a Class II disposal well (the type of well for fracking waste) and leaving it thousands of meters underground, commonly surrounded by sandstone or limestone. This option can have detrimental effects on the environment, and fracking fluid must be disposed of properly.</p><p>The treatment and renewal of fracking liquid waste are more important because some of these compounds are hazardous substances and known carcinogens, which can enter and pollute drinking water supplies from the well, well pad, or in the wastewater disposal process. Some of the listed additives are listed in Table 2 (FracFocus 2015a, b, c). Their adverse effects and removal strategies are discussed in the following.</p><p>Acetaldehyde, which is use as corrosion inhibitor, is considered a probable human carcinogen (Group B2) and has been shown to cause nasal tumors in rats and laryngeal tumors in hamsters (U.S. EPA 1997). Additionally, acetaldehyde cannot be effectively treated by traditional water-treatment processes, but was reported to be effectively removed by microbial degradation using biological activated carbon (BAC) filters (Chun-Lei et al. 2013).</p><p>Ethylene glycol is an organic solvent, and is a major constituent of antifreeze and coolant. It functions as a product stabilizer and/or winterizing agent in a fracking fluid mixture. Chronic exposure effects include kidney toxicity and liver damage. Several oral or inhalation exposure studies on rodents also showed that ethylene glycol is toxic to fetuses (U.S. EPA 1999). The EPA has not listed ethylene glycol as a controlled or priority substance, however. Ethylene glycol is reported to undergo aerobic and anaerobic biodegradation in water (Dwyer and Tiedje 1983); thus, ethylene glycol can be removed from the waste fracking fluid by biodegradation.</p><p>Another compound of interest is 2-Butoxyethanol, which functions as a product stabilizer in fracking. The EPA currently does not classify 2-Butoxyethanol for human carcinogenicity, but rather cautions against effects of acute and chronic exposures such as severe liver and kidney damage, testicular damage, reduced fertility, maternal toxicity, early embryonic death, birth defects, delayed development, and hematological disorders from inhalation and oral exposure (U.S. EPA 1984). Removal of 2-Butoxyethanol can be achieved with techniques like activated carbon filtration and ozone reaction.</p><p>Glutaraldehyde is a biocide with wide industrial applications. In fracking operations, it is used to eliminate bacteria in the water that produce corrosive by-products. Glutaraldehyde is acutely toxic to both aquatic and terrestrial organisms. Results from environmental partitioning indicated that glutaraldehyde is hydrophilic and tends to remain in the aquatic partition and is nonbioaccumulative (IPCS INCHEM 2005). Aqueous solutions of glutaraldehyde are stable at room temperature under acidic to neutral conditions, and stable in sunlight, but unstable at elevated temperatures and under alkaline conditions. Glutaraldehyde is biodegradable under both aerobic and anaerobic conditions (Leung 2001).</p><p>Ammonium persulfate is an inorganic salt that is highly soluble in water. It is a strong oxidizing agent, which is used in fracking liquid as a polymerization inhibitor to aid delayed break down of the gel. Ammonium persulfate is harmful to aquatic organisms (ILO-ICSC 2001). In human beings, it is reported to cause asthmatic effects (De Vooght et al. 2010). The substance can be absorbed into the body by inhalation in its aerosol form and by ingestion (ILO-ICSC 2001). Ammonium persulfate can be removed by neutralizing it with a base.</p><p><u>Tetramethyl ammonium chloride is used in fracking fluid as a clay stabilizer to prevent clays from swelling or shifting. Tetramethyl ammonium chloride is a nonvolatile quaternary ammonium salt, which exists in the cation form in the environment and generally adsorbs strongly to soils containing organic carbon and clay. It is reported to be toxic to microorganisms an also has a low bioaccumulative potential (TOXNET-HSDB 2012). It can be absorbed into the body by inhalation and by ingestion (CDC 2003). Above 300°C, tetramethyl ammonium chloride decomposes to produces ammonia, carbon monoxide, hydrogen chloride, and nitrogen oxides. It can also react with oxidants (ILO-ICSC 2003) and thus can be treated by oxidation.</p><p><strong>Regulations need to be implemented that require companies to extract as much fracking fluid from the well bore as they reasonably can and dispose of it in an environmentally acceptable manner. The ideal solution would be to treat as much of the fluid as possible, but this is more expensive</u></strong>. <u>One final consideration to consider when disposing of fracking fluid is to create a regulation that prevents overloading of disposal wells as this can cause other problems, primarily earthquakes and leaks.</p><p></u>The proper disposal of fracking fluid could lead to both environmental and economic benefits. If a technique for cheaply treating the wastewater is created, then only a minimal amount of fracking fluid will need to be disposed of and the rest can be reused in other fracking wells, leaving a smaller environmental footprint and allowing fracking companies to not have to acquire new fracking fluid. Additionally, <u>with proper regulation and enforcement, most of the issues associated with disposal wells should be mitigated.</p><p></u>To make fracking safe, both for the environment and any citizens in the area, <u><strong>the issue of proper disposal of waste products must be solved</strong>. All of the remaining fracking fluid should be treated or disposed of in a manner in accordance with regulations that should be put in place to prevent issues with disposal. This should diminish the issues related to the correct disposal of wastewater.</p><p></u>Several studies have revealed the use of toxic fracking fluids such as diesel and benzene (Davis 2012). In the Energy Policy Act of 2005 <u>the Halliburton loophole was added to the EPA’s Resource Conservation and Recovery</u> Act (<u><strong>RCRA</u></strong>), <u>which regulates hazardous and solid waste, exempting from oversight the waste from oil and gas exploration, development, and production.</p><p></u>Cost and Benefit Analysis</p><p>A cost and benefits analysis of hydraulic fracking and production of shale gas is required to complete the evaluation. This is essential as studies addressing total lifecycle costs are rare and previous reports have come to different conclusions on the cost and environmental benefits of shale gas compared to other alternatives. Stamford and Azapagic (2014) demonstrated that shale gas has a wide range of lifecycle environmental impacts (favorable and unfavorable) depending on the potential variation of different parameters. Laurenzi and Jersey (2013) reported that the carbon footprint of Marcellus gas 53% lower than coal, and the freshwater consumption is about 50% less than coal. Weber and Clavin (2012) also reported that the most likely upstream carbon footprints are largely similar for both shale and conventional gas production, with overlapping 95% uncertainty ranges of 11.0–21.0  g  CO2e/MJLHV and 12.4–19.5 g CO2e/MJLHV for shale and conventional gas, respectively. However, a complete cost benefit analysis of fracking considering environmental costs and benefits of issues discussed in this manuscript requires an in-depth analysis and is thus beyond the scope of the present work. A detailed study of the topic has been initiated for a future manuscript.</p><p>Regulations</p><p>The biggest issue with fracking is the lack of or minimal regulation. Th<u>e federal government is unable to regulate the industry because of the Halliburton loophole in the Energy Policy Act of 2005</u>; this clause excludes “underground injections of fluids or propping agents, other than diesel fuels, in hydraulic fracturing activities.” Hence, regulatory oversight falls to the state, but states have competing monetary interests. The result of these conflicts of interest is to reduce the motivation or incentive to regulate the industry. Regulatory bodies are urgently needed to control the fracking fluids used. Furthermore, regulatory procedures should be put in place to ensure safety, prevent contamination, and make the involved parties responsible for violations (Ince et al. 2013). <u>In the Energy Policy Act of 2005, the “Halliburton loophole” exempts fracking from the Safe Drinking Water Act because it was believed that fracking posed no risk to drinking water</u> (Manuel 2010). <u>The Clean Water Act and Clean Air Act encounter similar difficulties in enforcement</u>. Therefore, <u><strong>the EPA has little to no actual authority over this booming industry</strong>. Other regulatory agencies that have a role in the fracking include the Underground Injection Control Program (UICP), which regulates the pumping of fluids into wells, and the National Pollutant Discharge Elimination System (NPDES), which regulates runoff from waste pits and surface spills (EPA). Both of these groups set standards for acceptable practices regarding aspects of the fracking process. However, UICP has very little control over the well injections under the 2005 Energy Policy Act; hence, UIP can only regulate the disposal of the fracking fluids in underground waste wells (Ince et al. 2013).</p><p>The current lack of regulations and oversight for the chemicals and wastewater of fracking is the main source of controversy and <strong>leads to a lack of confidence</u></strong> on the part of some stakeholders, hindering the wider public acceptance of the process. <u>Regulation reform and proper oversight is urgently needed that should prioritize abatement of potential risks and to boost public confidence in the fracking process. The reform regulation should endeavor to embrace the concerns of all the stakeholders in an effort to provide social and economic benefits for the society.</p><p><strong>Summary and Conclusions</p><p></u></strong>Fracking, <u>the process of drilling deep down and injecting high-pressure water mixture to fracture rock to release trapped shale</u> gas, promises the potential of energy independence for the United States. It has presented an opportunity to generate electricity at half the CO2 emissions from coal. There are three major environmental issues identified with fracking, namely, leaking methane gas while fracking and during production, triggering of earthquakes due to fracking, and the disposal of the wastewater. A comprehensive literature search and a detailed analysis were performed to address the question of whether fracking be environmentally acceptable. It can be concluded that <u>if the following actions were taken</u>, <u><strong>then fracking could indeed be made environmentally acceptable.</p><p></u></strong>Earthquakes remain one of the most mysterious issues that has been associated with fracking, but there is no definitively proven direct link between earthquakes and hydraulic fracking. However, for the Marcella shale formation, earthquakes are not as pressing as other environmental concerns surrounding fracking due to the infrequent occurrence of earthquakes and the far less probability that such an earthquake occurs that could cause any damage. The vast majority of the earthquakes attributable to fracking are not powerful enough to be detected by humans without the aid of a sensor; however, a larger earthquake can occur infrequently with the potential to cause damage. With the current level of knowledge, <u><strong>the best precaution would be to prohibit underground injection of waste fluid</u></strong>. In addition, <u>a complete geological investigation should be performed to locate any active or dormant faults or abnormality in the ground before drilling</u>. Once it is confirmed that no such geological formations are found, the vertical wells should be located at least a mile away from any residential or commercial activities.</p><p>Based on shale gas seepage and diffusion calculations herein, it is virtually impossible for methane to contaminate the groundwater due to horizontal drilling. However, <u><strong>there is a possibility of shale gas release from a vertical</u></strong> well and it is proposed that <u><strong>any residential or commercial activities should be at least 1 km away from the vertical well</u></strong>. In addition, the vertical wells should be constructed with precautions to prevent methane gas leaks and a proper quality assurance and quality control procedure should be established during construction. Furthermore, the workers should be trained and properly supervised during construction. <u><strong>Methane monitors that could trigger alarms and locate </u></strong>leaks can be used in order to prevent losses during the transport and distribution.</p><p>To make fracking safe, the issue of <u><strong>proper disposal of waste products must be solved</strong>. Most fracking fluid should be extracted from the well bore and treated for reuse. The waste fracking fluid should be treated or disposed of in a manner in accordance with regulations</u> that should be put in place. The <u>proper disposal of waste fracking fluid could lead to both environmental and economic benefits. This should diminish the issues surrounding correct disposal of wastewater</u>. Finally, regulation and openness are major issues limiting stakeholder acceptance of the process. Therefore, regulation reformation is vital to ensure that all shareholder concerns are addressed in an effort to provide social and economic benefits for society as a whole.</p></div>\n",
              "<div style='padding: 10px; flex: 1 1 0; overflow: scroll;'><h4>3. <u>Goldilocks</u>. Over regulation and under regulation each hamper regulatory <u>certainty</u>, <u>stability</u>, and <u>trust</u>. Those are all <u>vital</u>.</h4><p><strong>Gross 18</strong> – Samantha Gross is the Director of Energy Security and Climate Initiatives and a fellow of Foreign Policy at the Brookings Institute [“The danger in deregulation”, January 9th, 2018, https://www.brookings.edu/blog/planetpolicy/2018/01/09/the-danger-in-deregulation/<u>] CHC Lobo</p><p></u>In the last few days, the <u>Trump administration’s oil and gas deregulation push entered a frantic new phase. On the last business day of 2017, the Department of the Interior rescinded a 2015 rule regulating hydraulic fracturing (or fracking) on public lands,</u> and reworked regulations on safety for offshore drilling. Another dramatic announcement occurred on January 4, when the administration proposed opening up nearly all U.S. offshore waters to drilling. <u>President Trump has been clear about two goals of his administration</u>: <u>a push for what he calls “<mark>energy dominance</mark>” <mark>and</mark> a</u> <u>clear <mark>distaste for regulation</mark> of all kinds, particularly of the energy industry</u>. <u>But these <strong>two goals</strong> can be <strong><mark>contradic</mark>tory</u></strong>—the <u>ongoing <strong>regulatory <mark>rollback</strong></mark> <strong><mark>may not</strong></mark> ultimately <strong><mark>benefit</strong></mark> the energy <strong><mark>industry</strong></mark>.</u> <u><mark>Deregulation</mark> could even <mark>do</mark> <mark>more harm than good</mark>, creating an uncertain long-term policy environment and undermining public trust</u>. <u><strong><mark>CHANGING</mark> <mark>POLICY</mark> <mark>CREATES</mark> BUSINESS <mark>RISKS</mark> </u></strong>As I’ve written earlier, <u>the energy industry invests primarily <mark>in capital-intensive</mark>, long-lived <mark>assets</u></mark>—oil fields or power plants with lives measured in decades. <u>A <mark>stable policy</mark> environment <mark>is</mark> <mark>important</mark> to these investments</u>. <u>Regulations and policy</u> that are created in one administration can be <u>rolled back in another</u>, and the instability creates a <u>challenge for managing and valuing such assets. <strong>Energy <mark>companies crave</mark> regulatory <mark>certainty</u></strong></mark>. <u>Many companies, particularly large international <mark>corporations</mark>, are <strong><mark>unlikely to</mark> </strong>substantially<strong> <mark>change</strong></mark> their practices in <mark>response</mark> <mark>to the <strong>regulatory rollback</strong></mark>, as they have global operating procedures to prevent safety and environmental incidents that could harm their assets or reputation</u>. But when an incident occurs, <u>the <strong><mark>entire industry</strong></mark> <mark>bears</mark> the <mark>reputation of its weakest actor</u></mark>. <u>A regulatory floor to govern behavior is thus good for everyone. <strong><mark>REPUTATION AND TRUST ARE THE MOST IMPORTANT ASSETS OF ALL</mark> </u></strong>In the United States and around the world, energy production depends on support from local communities, what the industry calls “social license to operate.” <u>Especially in a democracy, public <mark>opposition</mark> can <mark>make life</mark> very <mark>difficult</mark> for energy producers</u>. <u>Public <mark>support</mark> for energy resource development <strong><mark>depends on trust</strong></mark>—in the companies doing the development and in the regulatory structure that governs their activities. </u>When the Trump administration dismantles energy regulation<u>, it <mark>runs the risk of <strong>undermining </mark>the <mark>trust</strong></mark> that underpins domestic energy development. U.</u>S. oil and gas production has grown dramatically in recent years, but <u><mark>we have</mark> also <mark>seen</mark> a public <mark>backlash</mark>. </u>For example, <u>hydraulic fracturing, and the oil and gas development that depends on it, faces <mark>deep <strong>grass-roots opposition</strong> </mark>in many parts of the country</u>. Concerns about contamination of drinking water and other water resources are the most pressing concerns. Three states have banned the practice entirely, including New York and Maryland, which border the Marcellus Shale gas resource (the third is Vermont, which has no known oil or gas resources). The hydraulic fracturing regulations the Trump administration withdrew were focused on well construction, wastewater management, and chemical use disclosure—the issues of greatest concern to the public. Likewise, the Deepwater Horizon disaster in 2010 was a crucial moment for the oil and gas industry in the United States. A cascade of failures resulted in the largest oil spill in U.S. history. A bipartisan presidential commission studied the incident, and the new regulations issued in response were an important step toward restoring trust in the U.S. offshore oil industry. But the Trump administration is altering these regulations, for example by eliminating independent inspections of safety and pollution equipment that the bipartisan commission recommended. <u><strong><mark>Getting </mark>Energy <mark>Regulation</mark> <mark>Right</mark> </strong>I don’t mean to imply that <strong>oil and gas production</strong> in the United States is suddenly unregulated</u>. State, local, and tribal regulations still apply to hydraulic fracturing on public lands. <u>Safety and environmental <mark>regulations</mark> on offshore drilling <mark>have <strong></mark>not <mark>been </mark>eliminated, <mark>just softened</u></strong></mark>. And the proposal to open nearly all U.S. offshore waters to drilling is an opening salvo in a battle likely to go on for some time. Many governors, even Republicans, are vehemently opposed to drilling in waters off their states. <u>But the <mark>hard push</mark> toward deregulation is <mark>likely</mark> to <mark>have consequences</mark> <mark>for</mark> <strong>public <mark>trust</mark>, <mark>not just in companies</mark>, but in <mark>government</mark> itself.</strong> If the public feels that the government is <mark>being</mark> <strong><mark>run by</mark> and for <mark>the</mark> energy <mark>industry</strong></mark>, accomplishing many important societal goals—like <strong>modernizing <mark>infrastructure</strong></mark> <mark>and <strong>preventing</mark> </strong>the worst impacts of<strong> <mark>climate change</strong></mark>—become much more difficult.</u> The hard push toward deregulation is likely to have consequences for public trust. Ev<u>en in areas where oil and gas are central to the economy, <strong><mark>the public favors</mark> protective <mark>regulation</u></strong></mark>. Oklahoma provides an example. Seismic activity, caused by underground disposal of oil and gas wastewater, increased exponentially during the drilling boom there. The state government has responded with much greater regulation of underground waste disposal, including shutting down disposal wells in problematic areas, greatly increasing monitoring requirements, and establishing a public process for approving some disposal wells. Despite the increased regulation, the industry is thriving in Oklahoma, which was the sixth largest oil-producing and third largest gas-producing state in the United States in 2016. <u>Oil and gas production involves a delicate balance between sufficient regulation to protect <strong>health</strong>, safety, and the <strong>environment</strong> and <strong>ensure public trust,</strong> without <strong>unnecessarily strangling development</strong>.</u> Smart people across the political spectrum are likely to disagree on the particulars of a “Goldilocks” regulatory scheme. <u>But I fear that this administration is moving <strong><mark>too far</strong> and <strong>too fast</strong></mark> <strong><mark>in</strong></mark> the direction of <strong><mark>deregulation</strong></mark>, potentially <strong><mark>harm</mark>ing <mark>the industry</strong></mark> it is trying so hard to protect and promote.</p></u></div>\n",
              "<div style='padding: 10px; flex: 1 1 0; overflow: scroll;'><h4>3. <u>Contradictory precedent</u>. Rogue state actions demolish the industry, but federal regulations prevent bad policies at lower jurisdictional levels.</h4><p><strong>Jody Freeman, a professor of law at Harvard University, writes in 2012… </strong>[Jody Freeman, Harvard law prof, “The Wise Way to Regulate Gas Drilling,” July 5, 2012, https://www.nytimes.com/2012/07/06/opinion/the-wise-way-to-regulate-hydraulic-fracturing.html?_r=0]</p><p><u><mark>States</mark> <mark>like Texas, Pennsylvania and New York</mark> are now rushing to <mark>impose </mark>their own <mark>rules</u>.</mark> But <u><strong>what <mark>we </mark>really <mark>need</mark> is a system of <mark>federal oversight</u></strong> <u><strong>that</mark> will <mark>promote confidence</mark> in this technique <mark>and provide </mark>the <mark>industry</mark> <mark>with uniform standards</u></strong></mark> <u>without overregulating it. </u>The federal government has the power to regulate some but not all the risks. For example, <u>the Environmental Protection Agency</u> has set standards to control emissions of toxic and greenhouse gases from the drilling process and <u>is considering new rules for polluted wastewater. But</u> in 2005, <u>Congress exempted the fracturing process itself</u> — a process in which huge quantities of water, sand and toxic chemicals are injected into tight shale rock, to force open the rock and capture the gas trapped within — <u>from federal regulation. The <mark>states</mark> have <mark>moved</mark> forward <mark>with </mark>a <mark>patchwork </mark>of regulations</u> — <u>some specific and prescriptive, others vague and general. Many states</u> require some disclosure of the chemicals the drillers use, but in some states drillers decide which chemicals constitute proprietary secrets and therefore do not have to be disclosed. <u>Some states allow operators to store toxic wastewater from the fracturing process in open pits, risking surface or groundwater contamination. Some states simply lack the experience or resources to enforce their standards. The <strong>uneven approach</u></strong> <u>is bad not only for the environment but also for industry, because under the current system</u>, <u><strong><mark>mistakes by a few bad apples</mark> could <mark>lead to</mark> <mark>overregulation</u></strong> <u>or</mark> even <mark>outright <strong>bans on drilling</u></strong></mark>. <u>A better approach is one already reflected in many environmental laws</u>: <u><strong><mark>cooperative federalism</u></strong></mark>. The <u>federal government <mark>sets baseline</mark> standards, which states can exceed but not fall below.</u> Ideally, <u>these would be general “performance standards” rather than detailed specifications, giving the states flexibility to meet them</u>. <u>States</u> <u>might be required to develop</u> comprehensive <u>plans to manage</u> environmental <u>risks</u>. <u>These plans could account for</u> regional differences and would be based on best practices for disclosure, drilling location, well construction and <u>wastewater treatment</u>. States would implement and enforce the rules and issue and oversee the operating permits. <u>The federal government could step in if states</u> <u>abdicated their responsibility. Such a regulatory system — with minimum federal standards as well as state plans — has been in place for coal mining</u> since 1977. <u><strong>For this to work, <mark>Congress must lift</mark> the regulatory <mark>exemptions</u></strong></mark> for hydraulic fracturing. <u><strong>This would <mark>allow</mark> the <mark>E.P.A. to set</mark> minimum <mark>requirements</mark> for the drilling process</u></strong>, which states would implement through federally approved programs. <u>The E.P.A. and the Interior Department</u>, which regulates gas drilling on federal lands, <u>could</u> then <u>establish a clear, comprehensive and consistent federal framework for hydraulic fracturing.</u> The cost would be reasonable: the International Energy Agency recently estimated that adequate environmental protections could increase drilling costs by 7 percent. Some might say that a federal role isn’t necessary. But <u><strong><mark>pollution </mark>risks <mark>go beyond state borders</u></strong></mark>. <u>If natural gas extraction is a national priority, its safety and efficacy should be of national concern, too</u>. The Obama administration has taken some initial steps to coordinate <u>the federal government’s</u> approach but has <u>been timid about calling for a stronger federal role</u>. <u><strong><mark>Only a national </mark>regulatory <mark>system can strike </mark>the <mark>right balance</u></strong></mark>, simultaneously realizing hydraulic fracturing’s energy promise and minimizing the risks while respecting state authority.</p></div>\n",
              "<div style='padding: 10px; flex: 1 1 0; overflow: scroll;'><h4><u>Energy insecurity</u> causes <u>WW3</u>. Independently causes broad <u>naval</u> modernization and <u>North Pole energy disputes</u>.</h4><p><strong>Hongtu Zhao, a research professor at Institute of World Economic Studies, writes in 2019</strong> (Hongtu Zhao, a research professor at Institute of World Economic Studies, Zhao, H. “Resource War.” The Economics and Politics of China’s Energy Security Transition, 29–45. doi:10.1016/b978-0-12-815152-5.00002-6, y2k)</p><p><u>In human</u> <u><strong>history</u></strong>, <u>there were <strong><mark>many conflicts</u></strong></mark> even wars <u><mark>related to <strong>resources</u></strong></mark>. <u>Since the beginning of the 21st century</u>, <u>the world has entered <mark>a</mark> new</u> <u><mark>round</mark> <mark>of <strong></mark>resource <mark>demand</u></strong> <u>and </mark>a <strong>new cycle</u></strong> <u>of <mark>price rise</u></mark>, <u>which</u> has <u><mark>plunged the <strong></mark>international <mark>community</strong> into</mark> the strongest sense of “<strong><mark>insecurity” of</mark> <mark>resources</u></strong></mark> <u>since the <strong><mark>oil crisis in</strong> the <strong>1970s</u></strong></mark> [1]. In addition, <u>the</u> contradictions and <u><strong><mark>disputes</u></strong></mark> <u>among</u> some <u>countries</u> have <u><mark>caused</mark> the</u> <u><strong>international <mark>community</u></strong></mark> <u><mark>to</mark> increasingly <strong><mark>worry</u></strong> <u>about</mark> <strong><mark>international</mark> conflicts</u></strong> <u>and</u> even <u><strong><mark>wars</u></strong></mark>, and some even feel worried that <u>oil shortage may lead</u> <u>to the third <strong>world war</u></strong>. Some analysts believe that following antiterrorism war, there will be energy or resource wars in the coming decades. In December 2010, Tom Shankar from the United States published an article in New York Times stating that the increasingly scarce natural resources and increasingly frequent natural disasters will be the cause of potential conflicts in the 21st century [2]. In October 2000, Michael T. Klare, an American global security expert, published the book Resource Wars: The New Landscape of Global Conflict, arguing that the <u><strong>political rivalry</u></strong> during the cold war <u>is</u> gradually <u>moving to the fight among <strong>nations</u></strong> <u>for</u> essential materials such as <u><strong>oil</u></strong>, forest, minerals, and water. He predicts that in the first decade of the 21st century, <u><strong>lack of resources</u></strong> <u>will be the <strong>root cause</u></strong> <u>of conflicts</u> among nations. <u>Future wars will</u> not <u>break out</u> due to ideology but <u>for <strong>securing</u></strong> the most valuable and <u>diminishing <strong>supply</u></strong> <u>of natural resources</u>. The translator of the Chinese version of this book also points out that most of the future wars will break out around the possession and control of resources. In the same year, Michael Economides published the book The Color of Oil: The History, the Money and the Politics of the World’s Biggest Business, pointing out that the color of oil is red, as red as the blood of the millions of people killed in the two world wars and many other conflicts in the 20th century, and the core reason for wars and conflicts is to get oil. In the 20th century, oil becomes the world’s master, and when oil was scarce, wars broke out. <u>The search for <mark>oil</mark> <mark>became</mark> the <mark>purpose of <strong>war</u></strong></mark>. The importance of resources and oil made the Anglo-Saxons win the First World War. During the Second World War, Axis and Allies took control and anti-control on oil fields and transportation lines, and oil fields and tankers became the target of mutual attacks. In Asia, Japan launched all attacks on Indonesia and Southeast Asia for the purpose of oil. The Gulf War, which was caused by Iraq’s invasion of Kuwait, was taken as an example that the United States took actions to safeguard the stability of oil economy [3]. In 2005, Andy Stern published the book Who Won the Oil Wars, emphasizing that oil demand is growing rapidly, while oil supply was dwindling, and when there was a contradiction between oil demand and supply, the frequency of oil wars was accelerating and violence is escalating. In the 20th century, <u>governments</u> of different countries <u>realized that <mark>without oil</mark>, <mark>they would</mark> have to <mark>change</mark> their <mark>ways of life</mark> and their economies would collapse, and as a result</u>, <u>they would not be able to <strong>defend</u></strong> their <u>countries</u>. The world would become so dependent on oil that oil demand would certainly exceed the supply, and countries would eventually go to war to ensure their own supply of oil [4]. In 2006, Tonnesson, the director of the Norwegian International Peace Research Institute, told the press that <u><strong><mark>energy conflicts</u></strong> <u></mark>could <mark>trigger </mark>the <strong><mark>Third World War</u></strong></mark>. He pointed out traditional wars between countries were often for territory, but now it might be for water resources, not excluding religious problems. <u>The most likely trigger for the Third World War in the future was energy, especially the <strong>fight for oil</u></strong>. <u>The <strong><mark>disputes</strong></mark> over oil-producing regions could <mark>trigger a</mark> new war or <mark>conflict</mark> in the future, <mark>even in</mark>cluding <mark>the</mark> seemingly <strong>peaceful <mark>North Pole</u></strong></mark> [5]. Matt Simmons, the main advocate of contemporary Oil Peak, also warned that oil shortages could trigger wars. In 2009, Stephen Leeb et al., emphasized in the book Game Over: How You Can Prosper in a Shattered Economy that <u>as global <strong>commodity competition</strong> intensifies, both <strong><mark>countries</strong> and</mark> <strong>regional <mark>separatist organizations</u></strong></mark> <u>tended to <mark>take</mark> <strong>violence</u></strong> <u>and</u> <u><strong>military <mark>action</u></strong> <u>to protect</u></mark> their own <u><strong><mark>resources</strong></mark> or to grab other countries’ resources</u>, and the United States must expand military expenditure in the future. The authors also pointed out that there were many examples that countries fought for resources, such as the US’s invasion of Iraq. They believed that in 2008, Russia invaded Georgia to scramble for energy supplies, which was essentially a resource war. In addition to energy and mineral resources, people have also paid great attention to the conflicts that may be caused by water crisis. As early as 1995, Ismail Serageldin, then the World Bank’s deputy governor, said that the wars in the next century would not for oil, but for water. In 2006, John Reid, the British Defense Minister at that time warned that the possibility of armed and political conflicts was growing as the increasingly desertified water sources, glacier melting, reservoir pollution, and so on. French Defense Minister Michel Allio-Marie (Miche`le ALLIOTMARIE) said that the future wars will result from water resources, energy, and possibly food. Hans van Ginkel, the former President of United Nations University, also pointed out that the international and domestic wars caused by water resources would be the main content of political life in the 21st century. In 2007, Ban Ki-moon, the UN Secretary General, warned that “water scarcity... is a potent fuel to wars and conflicts” [6]. In April 2007, the US Marine Research Center submitted a report to the president that dwindling water resources was a serious threat to national security, and some retired navy and army generals reminded the president that the United States would be involved in a series of brutal water wars. A report from Davos annual meeting in 2010 in Switzerland suggested that the Earth would face “water bankruptcy” and like oil, when water resources became scarce, the threat of conflict among nations would become more realistic. John R. Block, ex-minister of the US Department of Agriculture, writes in the book Water War that in international laws, there are no clear rules devised for the distribution and utilization of international rivers. So in the case of shortage of water resources, conflicts could hardly be avoided due to the discord towards water between countries [7]. At the same time, books and literature with the titles such as resource wars, energy wars, oil wars, and food wars had been widely published. Books written by Chinese writers with those similar titles are as follows, War for Oil, Oil Resource War, New Energy War, Mystery of Resource War, Big Combat: The Oil War of the Century, Energy Game War, Energy War, and so on. There are more than one book titled with Energy War. In the translated books in China, some contains the word “war” in the source text, such as Michael T. Claire’s Resource Wars: The New Landscape of Global Conflict mentioned earlier, Andorra’s Oil War (formerly entitled A Century of War: Anglo-American Oil Politics and the New World Order), some of which have been modified by translators or publishers considering marketing strategies, such as John Garginian’s book, which was translated into Energy War instead of the literal translation of Untapped: The Scramble for Africa’s Oil. On the cover of the Chinese edition of Jeremy Leggett’s Half Gone, it shows that energy is the lifeblood of the world economy and 21st century will be an era of energy wars. The book Energy Game War points out that the conflicts and wars in the world for competing for oil resources broke out one after another. <u>In modern history, <strong>countless</strong> wars were launched for oil</u>. <u>In the history of world wars <mark>over </mark>the</u> <u><strong>past <mark>100 years</u></strong></mark>, <u><mark>wars </mark>fighting <mark>for <strong>oil</strong> were <strong>prevalent</strong></mark> now and then</u>. <u>From the <strong>two <mark>world wars</u></strong> <u>to</mark> a series of <strong><mark>local</strong> wars</u></mark>, <u>they <mark>were </mark>all <strong><mark>related</strong></mark> <mark>to <strong>oil</u></strong></mark>. In recent years, oil consumption continued to grow rapidly, yet oil reserves were found to be poor, so fears about the world’s imminent peak of oil was growing. <u>As a result, the tendency to fighting between countries over the existing oil resources had been <strong><mark>intensifying</u></strong></mark>. As the oil price rose and oil supplies dwindled, <u><strong><mark>regional tensions</u></strong></mark> seemed more likely to <u>evolve into wars.</u> Oil demand was growing rapidly, while oil supply was declining. When there was a contradiction between oil demand and supply, it was found that the frequency of oil wars continued to increase and violence continued to escalate. The US National Intelligence Council reports in Global Trends 2025 that conflicts around resource issues might reappear. <u>The <strong><mark>perception of energy</mark> <mark>scarcity</u></strong> <u></mark>would <mark>drive</mark> countries to take actions to ensure that they could get energy supplies in the <strong>future</u></strong>. <u>At worst</u>, <u>this could lead to <mark>conflicts</mark> between nations</u>. <u><strong>Even if</u></strong> <u>limited actions were taken <strong>without</strong> starting wars</u>, <u>geopolitical <mark>consequences </mark>would be <strong><mark>significant</u></strong></mark>. <u>Concerns about <strong><mark>maritime safety</u></strong></mark> <u><mark>provided</u></mark> ample <u><mark>justification for</u></mark> efforts to expand <u><strong><mark>naval</u></strong></mark> and <u><strong><mark>modernization</u></strong></mark>. <u>The capacity to build the regional <mark>navies</mark> could <mark>lead to</mark> increased <strong>tensions</u></strong>, <u><strong>mutual <mark>confrontation</u></strong></mark>, <u>and</u> <u><strong>restrictive measures</u></strong>. The report stressed that, as water in Asia and the Middle East became increasingly scarce, <u><strong><mark>coop</strong></mark>eration <mark>in </mark>managing <strong><mark>water resources</u></strong></mark> <u>was</u> likely <u>to <mark>become</mark> <strong>more <mark>difficult</u></strong></mark> within countries and between countries.</p></div>\n",
              "<div style='padding: 10px; flex: 1 1 0; overflow: scroll;'><h4>Sustaining gas production is key to <u>energy leverage</u> and <u>global energy security, which provides a stabilizing effect with our alliances.</h4><p></u><strong>Matt Mandel, writer at Energy In Depth, writes in 2018…</strong> (Matt Mandel, EXPERTS: SHALE REVOLUTION HAS IMPROVED U.S. ENERGY SECURITY AND IS ‘SHIFTING THE GEOPOLITICAL BALANCE’ 5-25, https://www.energyindepth.org/experts-shale-revolution-improved-u-s-energy-security-shifting-geopolitical-balance/, y2k)</p><p><u>Remarkable <strong><mark>growth</u></strong> <u>in</mark> U.S. oil and natural <strong><mark>gas</strong> </mark>production</u> over the past decade has <u><mark>bolstered</mark> </u>domestic <u><strong><mark>energy security</u></strong> <u>and</mark> helped to <strong><mark>strengthen</u></strong></mark> <u><strong><mark>American influence</u></strong></mark> <u>in the global market</u>, <u>a panel of <strong><mark>energy experts</u></strong></mark> <u><mark>testified</u></mark> at a House Foreign Affairs subcommittee hearing this week. Speaking to the Subcommittee on Terrorism, Nonproliferation and Trade, energy and policy analysts from Rice University, the Center for Strategic and International Studies, Brookings Institution and Gas Technology Institute, shared the sentiment that <u><strong>U.S. <mark>shale</mark> development</u></strong> <u>has <mark>had</mark> a <strong><mark>significant</strong> impact</mark> </u>not only <u><mark>on</u></mark> the American economy, but <u>U.S. <strong><mark>diplomacy</u></strong></mark> as well As shale development has become more prevalent over the past decade, through technologies such as hydraulic fracturing and horizontal drilling, the United States has experienced a profound increase in oil and natural gas output. The United States is currently the world’s largest producer of petroleum and natural gas hydrocarbons – and has been for the past six years – as natural gas production has grown from 57.7 billion cubic feet (Bcf) per day in 2008 to a projected 86.4 Bcf per day this year, a roughly 50 percent increase. More impressive still, crude oil production has grown from about five million barrels per day (bpd) in 2008 to 10.5 million bpd in April of this year – an over 100 percent increase. <u><mark>Accompanying</u></mark> such <u>massive energy <mark>production is</mark> greater <strong><mark>flexibility</u></strong></mark> <u>and</u> <u><strong>influence</u></strong> <u><mark>in the</mark> global energy <mark>market</mark>, as the</u> <u><strong>U</u></strong>nited <u><strong>S</u></strong>tates <u>is <strong>less</u></strong> <u>dependent</u> on foreign oil and gas. According to the U.S. Energy Information Administration (EIA), annual U.S. net imports of crude oil and petroleum products declined over 66 percent from 2008 to 2017. This decline has had a substantial impact on the global oil market and geopolitics as a whole, as Kenneth Medlock, Senior Director of the Center for Energy Studies at Rice University’s James A. Baker Institute for Public Policy, stated in his testimony “Nevertheless, <u>the <strong><mark>growth</u></strong></mark> in US oil production <u>is <mark>transforming</u></mark> the status quo and shifting the <u><strong><mark>geopolitical balance</u></strong></mark>. <u>This highlights the importance of the <mark>so-called ‘<strong>shale revolution’</strong></mark> <mark>in</mark> achieving US <strong><mark>geopolitical</strong></mark> and <strong>foreign policy</strong> <mark>aims</mark>.” </u>He continues “As the US increases its exports of crude oil, petroleum products and natural gas, its influence explants into those nations that increasingly rely on imports to satisfy their energy appetites associated with economic growth. In general, <u><mark>expanded</mark> US <mark>production</mark> US production <mark>renders </mark>global <mark>supply to</mark> <mark>be</mark> more <strong><mark>responsive</u></strong>, <u></mark>and</u>, as a result, <u><mark>carries <strong></mark>an energy <mark>security</u></strong> <u>benefit</mark> to consumers</u> at home and <u><strong><mark>abroad</u></strong></mark>. <u><strong>Admittedly</u></strong>, <u><mark>the</u></mark> <u><strong><mark>U</u></strong></mark>nited <u><strong><mark>S</u></strong></mark>tates <u><mark>is not <strong></mark>completely <mark>independent</u></strong></mark> of foreign producers <u>due to the level of <strong>domestic</u></strong> energy <u><strong>consumption</u></strong>, <u><strong><mark>but</u></strong></mark> <u><strong>increased <mark>output</strong></mark> through <strong>shale</u></strong> development now <u><mark>gives</mark> the</u> <u><strong>U</u></strong>nited <u><strong>S</u></strong>tate <u>the <mark>ability to take on </mark>the <strong><mark>role</u></strong></mark> <u><mark>of</u></mark> global <u><mark>energy exporter</u></mark>. According to EIA, annual U.S. natural gas exports increased 285 percent from 2007 to 2017, as the United States became a net exporter of natural gas for the first time in 60 years in 2017. Further, in the just four years since the U.S. crude oil export ban was lifted, the United States is already exporting over 1.6 million bpd. This export growth provides further opportunity to influence global politics. As Medlock stated: “As argued in previous Baker Institute research, <u><mark>this</u></mark> also <u><mark>benefits</u></mark> US <u><strong><mark>fo</mark>reign <mark>po</mark>licy</u></strong> <u>endeavors <mark>in dealing with</mark> potentially <mark>hostile <strong></mark>oil-producing</u></strong> <u><mark>nations</u>, <u></mark>and <mark>providing <strong>a stabilizing effect</u></strong> <u></mark>on the global <strong>oil</strong> market.”</p></u></div>\n",
              "<div style='padding: 10px; flex: 1 1 0; overflow: scroll;'><h4><u>North pole</u> energy dispute goes <u>nuclear</h4><p></u><strong>Klare 20</strong> (Michael T. Klare, professor emeritus of peace and world-security studies at Hampshire College and senior visiting fellow at the Arms Control Association in Washington, American military training exercises in northern Norway are escalating tensions with Russia, 2-11, https://www.thenation.com/article/world/nato-russia-norway/+&cd=1&hl=en&ct=clnk&gl=us<u>, y2k)</p><p></u>And that’s just the beginning. Unbeknownst to most Americans, <u>the <strong><mark>Finnmark </mark>region</u></strong> of Norway <u><mark>and</u></mark> adjacent <u><strong><mark>Russia</mark>n territory</u></strong> <u>have <mark>become</mark> one of</u> <u>the</u> most <u>likely <strong><mark>battlegrounds</u></strong> <u>for</u></mark> the <u><strong>first use</u></strong> <u>of <strong><mark>nuc</mark>lear <mark>weapons</u></strong></mark> in any future NATO-Russian conflict. Because <u><mark>Moscow</u></mark> has <u><mark>concentrated</mark> a</u> <u>significant part of</u> its <u>nuclear <strong>retaliatory</u></strong> <u><mark>capability on </mark>the <strong><mark>Kola </mark>Peninsula</u></strong>, a remote stretch of land abutting northern Norway—any US-NATO success in actual combat with Russian forces near that territory would endanger a significant part of Russia’s nuclear arsenal and so might precipitate the early use of such munitions. Even a simulated victory—the predictable result of Cold Response 2020—will undoubtedly set Russia’s nuclear controllers on edge. To appreciate just how risky any NATO-Russian clash in Norway’s far north would be, consider the region’s geography and the strategic factors that have led Russia to concentrate so much military power there. And all of this, by the way, will be playing out in the context of another existential danger: climate change. The melting of the Arctic ice cap and the accelerated exploitation of Arctic resources are lending this area ever greater strategic significance. <u><strong>ENERGY EXTRACTION IN <mark>THE</mark> FAR <mark>NORTH</mark> </u></strong>Look at any map of Europe and you’ll note that Scandinavia widens as it heads southward into the most heavily populated parts of Denmark, Finland, Norway, and Sweden. As you head north, however, it narrows and becomes ever less populated. At its extreme northern reaches, only a thin band of Norway juts east to touch Russia’s Kola Peninsula. <u>To the <strong>north</u></strong>, <u>the Barents Sea</u>, an offshoot of the Arctic Ocean, <u>bounds</u> them both. <u>This remote</u> <u>region</u>—approximately 800 miles from Oslo and 900 miles from Moscow—<u><mark>has</u></mark>, in recent years, <u><mark>become a <strong>vortex</u></strong> <u>of <strong>economic</u></strong> <u>and</u> <u><strong>military activity</u></strong></mark>. Once prized as a source of vital minerals, especially nickel, iron ore, and phosphates, this remote area is now the center of extensive oil and natural gas extraction. With temperatures rising in the Arctic twice as fast as anywhere else on the planet and sea ice retreating ever farther north every year, offshore fossil-fuel exploration has become increasingly viable. As a result, <u>large <mark>reserves of <strong></mark>oil</u></strong> <u>and</u> <u><strong>natural <mark>gas</u></strong></mark>—the very fuels whose combustion is responsible for those rising temperatures—<u>have been <strong><mark>discovered</u></strong></mark> beneath the Barents Sea <u>and</u> both <u><mark>countries </mark>are seeking to <strong><mark>exploit</u></strong></mark> those <u><strong><mark>deposits</u></strong></mark>. <u><strong>Norway</u></strong> <u>has taken the lead</u>, establishing at Hammerfest in Finnmark the world’s first plant above the Arctic Circle to export liquified natural gas. In a similar fashion, <u><strong>Russia</u></strong> <u>has initiated</u> <u>efforts to exploit the</u> mammoth <u>Shtokman gas field</u> in its sector of the Barents Sea, though it has yet to bring such plans to fruition. For Russia, even more significant oil and gas prospects lie further east in the Kara and Pechora Seas and on the Yamal Peninsula, a slender extension of Siberia. Its energy companies have, in fact, already begun producing oil at the Prirazlomnoye field in the Pechora Sea and the Novoportovskoye field on that peninsula (and natural gas there as well). Such fields hold great promise for Russia, which exhibits all the characteristics of a petro-state, but there’s one huge problem: The only practical way to get that output to market is via specially designed icebreaker-tankers sent through the Barents Sea past northern Norway. The exploitation of Arctic oil and gas resources and their transport to markets in Europe and Asia has become a major economic priority for Moscow as its hydrocarbon reserves below the Arctic Circle begin to dry up. Despite calls at home for greater economic diversity, President Vladimir Putin’s regime continues to insist on the centrality of hydrocarbon production to the country’s economic future. In that context, production in the Arctic has become an essential national objective, which, in turn, requires assured access to the Atlantic Ocean via the Barents Sea and Norway’s offshore waters. Think of that waterway as vital to Russia’s energy economy in the way the Strait of Hormuz, connecting the Persian Gulf to the Indian Ocean, is to the Saudis and other regional fossil-fuel producers. <u><strong>THE MILITARY DIMENSION </u></strong>No less than Russia’s giant energy firms, its navy must be able to enter the Atlantic via the Barents Sea and northern Norway. Aside from its Baltic and Black Sea ports, accessible to the Atlantic only via passageways easily obstructed by NATO, the sole Russian harbor with unfettered access to the Atlantic Ocean is at Murmansk on the Kola Peninsula. Not surprisingly then, that <u><mark>port </mark>is</u> also <u>the headquarters <mark>for Russia’s <strong>Northern Fleet</u></strong></mark>—<u>its most powerful</u>—<u>and the site of numerous</u> <u><strong>air</u></strong>, <u><strong>infantry</u></strong>, <u><strong>missile</u></strong>, <u>and</u> <u><strong>radar bases</u></strong> along with naval shipyards and nuclear reactors. In other words, <u>it’s among the most <strong>sensitive</strong> military regions in Russia today. </u>Given all this, President Putin has substantially rebuilt that very fleet, which fell into disrepair after the collapse of the Soviet Union, equipping it with some of the country’s most advanced warships. In 2018, according to The Military Balance, a publication of the International Institute for Strategic Studies, it already possessed the largest number of modern cruisers and destroyers (10) of any Russian fleet, along with 22 attack submarines and numerous support vessels. Also in the Murmansk area are dozens of advanced MiG fighter planes and a wide assortment of anti-aircraft defense systems. Finally, as 2019 ended, Russian military officials indicated for the first time that they had deployed to the Arctic the Kinzhal air-launched ballistic missile, a weapon capable of hypersonic velocities (more than five times the speed of sound), again presumably to a base in the Murmansk region just 125 miles from Norway’s Finnmark, the site of the upcoming NATO exercise. More significant yet is the way Moscow has been strengthening its nuclear forces in the region. Like the United States, Russia maintains a “triad” of nuclear delivery systems, including intercontinental ballistic missiles (ICBMs), long-range “heavy” bombers, and submarine-launched ballistic missiles (SLBMs). Under the terms of the New Strategic Arms Reduction Treaty (New START), signed by the two countries in 2010, the Russians can deploy no more than 700 delivery systems capable of carrying no more than 1,550 warheads. (That pact will, however, expire in February 2021 unless the two sides agree to an extension, which appears increasingly unlikely in the age of Trump.) According to the Arms Control Association, the Russians are currently believed to be deploying the warheads they are allowed under New START on 66 heavy bombers, 286 ICBMs, and 12 submarines with 160 SLBMs. Eight of those nuclear-armed subs are, in fact, assigned to the Northern Fleet, which means about 110 missiles with as many as 500 warheads—the exact numbers remain shrouded in secrecy—are deployed in the Murmansk area. For Russian nuclear strategists, such nuclear-armed submarines are considered the most “survivable” of the country’s retaliatory systems. In the event of a nuclear exchange with the United States, the country’s heavy bombers and ICBMs could prove relatively vulnerable to pre-emptive strikes as their locations are known and can be targeted by American bombs and missiles with near-pinpoint accuracy. Those subs, however, can leave Murmansk and disappear into the wide Atlantic Ocean at the onset of any crisis and so presumably remain hidden from US spying eyes. To do so, however, requires that they pass through the Barents Sea, avoiding the NATO forces lurking nearby. For Moscow, in other words, the very possibility of deterring a US nuclear strike hinges on its ability to defend its naval stronghold in Murmansk, while maneuvering its submarines past Norway’s Finnmark region. No wonder, then, that this area has assumed enormous strategic importance for Russian military planners—and the upcoming Cold Response 2020 is sure to prove challenging to them. WASHINGTON’S ARCTIC BUILDUP During the Cold War era, Washington viewed the Arctic as a significant strategic arena and constructed a string of military bases across the region. Their main aim: to intercept Soviet bombers and missiles crossing the North Pole on their way to targets in North America. After the Soviet Union imploded in 1991, Washington abandoned many of those bases. Now, however, with the Pentagon once again identifying “great power competition” with Russia and China as the defining characteristic of the present strategic environment, many of those bases are being reoccupied and new ones established. Once again, the Arctic is being viewed as a potential site of conflict with Russia and, as a result, US forces are being readied for possible combat there. Secretary of State Mike Pompeo was the first official to explain this new strategic outlook at the Arctic Forum in Finland last May. In his address, a kind of “Pompeo Doctrine,” he indicated that the United States was shifting from benign neglect of the region to aggressive involvement and militarization. “We’re entering a new age of strategic engagement in the Arctic,” he insisted, “complete with new threats to the Arctic and its real estate, and to all of our interests in that region.” To better protect those interests against Russia’s military buildup there, “we are fortifying America’s security and diplomatic presence in the area…hosting military exercises, strengthening our force presence, rebuilding our icebreaker fleet, expanding Coast Guard funding, and creating a new senior military post for Arctic Affairs inside of our own military.” The Pentagon has been unwilling to provide many details, but a close reading of the military press suggests that this activity has been particularly focused on northern Norway and adjacent waters. To begin with, the Marine Corps has established a permanent presence in that country, the first time foreign forces have been stationed there since German troops occupied it during World War II. A detachment of about 330 Marines were initially deployed near the port of Trondheim in 2017, presumably to help guard nearby caves that contain hundreds of US tanks and combat vehicles. Two years later, a similarly sized group was then dispatched to the Troms region above the Arctic Circle and far closer to the Russian border. From the Russian perspective, even more threatening is the construction of a US radar station on the Norwegian island of Vardø about 40 miles from the Kola Peninsula. To be operated in conjunction with the Norwegian intelligence service, the focus of the facility will evidently be to snoop on those Russian missile-carrying submarines, assumedly in order to target them and take them out in the earliest stages of any conflict. That Moscow fears just such an outcome is evident from the mock attack it staged on the Vardø facility in 2018, sending 11 Su-24 supersonic bombers on a direct path toward the island. (They turned aside at the last moment.) It has also moved a surface-to-surface missile battery to a spot just 40 miles from Vardø. In addition, in August 2018, the US Navy decided to reactivate the previously decommissioned Second Fleet in the North Atlantic. “A new Second Fleet increases our strategic flexibility to respond—from the Eastern Seaboard to the Barents Sea,” said Chief of Naval Operations John Richardson at the time. As last year ended, that fleet was declared fully operational. DECIPHERING COLD RESPONSE 2020 Exercise Cold Response 2020 must be viewed in the context of all these developments. Few details about the thinking behind the upcoming war games have been made public, but it’s not hard to imagine what at least part of the scenario might be like: a US-Russian clash of some sort leading to Russian attacks aimed at seizing that radar station at Vardø and Norway’s defense headquarters at Bodø on the country’s northwestern coast. The invading troops will be slowed but not stopped by Norwegian forces (and those US Marines stationed in the area), while thousands of reinforcements from NATO bases elsewhere in Europe begin to pour in. Eventually, of course, the tide will turn and the Russians will be forced back. No matter what the official scenario is like, however, for Pentagon planners the situation will go far beyond this. Any <u><strong><mark>Russian</u></strong> <u>assault</mark> on critical Norwegian military facilities would</u> presumably <u>be <mark>preceded by</mark> intense <strong>air</u></strong> <u>and</u> <u><strong>missile bombardment</u></strong> <u>and</u> <u><strong>the <mark>forward deployment of</mark> major naval <mark>vessels</u></strong></mark>. <u>This</u>, in turn, <u>would prompt <strong>comparable moves</u></strong> <u>by</u> the United States and <u>NATO</u>, probably <u><mark>result</mark>ing</u> <u><mark>in</u> <u><strong>violent encounters</u></strong></mark> <u>and the loss of <strong>major assets</strong> on all sides</u>. In the process, <u>Russia’s key nuclear</u> <u><strong><mark>retaliatory forces</u></strong> <u></mark>would be at risk and</u> quickly <u><strong><mark>placed on high alert</u></strong></mark> with senior officers operating <u>in <strong><mark>hair-trigger</strong> </mark>mode</u>. Any <u><strong><mark>misstep</u></strong></mark> <u>might</u> then <u><mark>lead to</u></mark> what humanity has feared since August 1945: <u><strong><mark>a nuclear apocalypse</u></strong></mark> on Planet Earth.</p></div>\n",
              "<div style='padding: 10px; flex: 1 1 0; overflow: scroll;'><h4>Only federal action prevents inconsistent regulation </h4><p><strong>Ghoshray 13</strong> [Saby, PhD, President, Institute of Interdisciplinary Studies, Director – Research, and Compliance WorldCompliance Company, “POWERING THE FUTURE: A 21ST CENTURY GUIDE FOR ENERGY PRACTITIONERS: CHARTING THE FUTURE TRAJECTORY FOR FRACKING REGULATION: FROM ENVIRONMENTAL DEMOCRACY TO COOPERATIVE FEDERALISM,” Spring, 2013, 38 T. Marshall L. Rev’]</p><p>VII. A PATH FORWARD: ARGUING FOR COOPERATIVE FEDERALISM</p><p><u>Against a backdrop of a <strong>confusional conundrum</strong> surrounding fracking,</u> <u>the <strong>central inquiry</strong> revolves around <strong>how and who should regulate fracking</u></strong>. n154 As the analysis above has proven, <u>the U.S. shale gas production is not only <strong>controversial</strong>, but is <strong>fraught with uncertainty</strong> surrounding <strong>various adverse impacts</strong> that has not been fully explored.</u> <u>Against a flurry of activities within the political economy of energy production, the call for replacing fossil fuel with cleaner natural gas certainly <strong>becomes louder with each passing day</u></strong>. n155 As a result, state and local regulators across the states are scrambling to cope with the evolving drilling boom in various states. n156 <u>Whether or not federal regulators must step up to the plate or augment the existing local regulations</u> <u>has been one of the running themes within the <strong>regulatory lag</strong> perceived within the fracking industry</u>. n157 <u>Examining the existing regulator landscape and the anatomy of fracking from its <strong>various adverse implications</u></strong>, this section addresses the issue of regulation in two steps. First, the analysis presents rationale for developing a federally focused regulatory environment. Second, the scope of federal involvement is presented to chart the future regulatory trajectory for fracking.</p><p>A. Linking Federalism in Fracking Regulation</p><p><u>As the landscape of fracking manifests in its inherent dichotomies of diverging outcomes across states, the rationale for locally focused regulation does gain currency based on certain localized aspects of fracking. n158 There is no doubt that the operational aspect of fracking and its environmental impact is dependent to some extent on the local geography and geology. n159 However, this localized feature alone cannot be the primary rationale for developing fracking regulations along state lines. Despite the variety in the geologic formation and differences in core local economic infrastructure, fracking has deeper economic and political  [*234]  implications that transcend both state and local boundaries, as I shall outline below.</p><p></u>First, <u>fracking involves <strong>uncertainties</strong> in evaluating <strong>unknown parameters</strong> related to both present and future impacts on environment</u>, ecology and human health, <u>areas that a <strong>federal authority</strong> is better equipped to comprehensively evaluate</u>. n160 Moreover, the process of fracking extends several miles below the earth's surface. n161 Because of the uniqueness of the fracking process that involves horizontal injection of fluids into the Earth's underground, the impact could have spillover effects that may transcend multiple states, and go beyond states boundaries. n162 Furthermore, as the analysis of some of the applicable existing federal statutes indicates, it <u>is very difficult to encapsulate some of the <strong>operational nuances</strong> of fracking within the current regulatory framework</u>. Therefore, <u>based on cross-border activities and potential adverse impacts that could spill over across states, the rationale exists for justifying regulation of fracking via involvement of <strong>federal agencies.</p><p></u></strong>Second, as the current state-level initiatives and legislative advances reveal, n163<mark> <u>states view fracking with <strong>significantly diverging</strong> viewpoints</u></mark>. n164 <u><mark>This may impede development of businesses across the states due to the <strong>asymmetric impacts</strong> companies may have across the states</mark>.</u> Moreover, <u>the <strong><mark>l</mark>ack of efficiency</strong> introduced from diverging local practices can be seen from instances where one state <strong>prohibits certain commercial activities</u></strong> that <u>the neighboring state may encourage</u>. Besides economic impact, <u>this may cause both undue migrations of civilian establishment and disturbances within the affected region</u>. <u><mark>By developing <strong>uniform rules</strong> across the region</u></mark>, the agency tasked with promoting and regulating fracking <u><mark>activities will be <strong>better equipped</strong> in introducing business efficiency and population symmetry</u></mark>. Therefore, <u><strong>commercial uniformity</strong> and business efficiency presents a <strong>strong rationale</strong> for bringing fracking under the federal ambit of regulation.</p><p></u>Third, as fracking continues to expand across the U.S., the risk of direct interstate pollution increases in proportion to the statewide expansion of drilling. n165 This has no credible measure to evaluate the cumulative  [*235]  impacts, as the fracking related activities present their cumulative impacts on communities surrounding the wells. n166 Such adverse impacts will certainly cross over state boundaries. A localized regulatory framework is simply inadequate to deal with impacts upon land use, wildlife and ecologies, which requires a broader and more intensive framework that is possible only through federally mandated regulatory framework.</p><p>Fourth, if we were to take the issue of fracking from a localized shallow viewpoint, we will miss the much broader picture-that of a significant transformation of the way of life. It has been shown in isolated instances within the recent past, fracking has not only transformed vast swaths of rural America, n167 but it has also eroded the historic qualities of traditional life. n168 As various local battles trickle into the various state Supreme Courts, fracking's transformative impact is further evidenced through its impact on the cultural and historical landscape in the affected communities, for which a reliance of federal regulation might be more efficient than anything else. However, fracking does have localized issues that may advance argument in favor of decentralization as a response to satisfy both the local preferences and to tailor decisions to suit local environmental conditions. Thus, adaptive management and developing economically efficient regulation might indeed call for a balanced federalism that is discussed below.</p><p>B. Response to Fracking - Will Cooperative Federalism Pave the Way?</p><p>Since the days of drafting the Constitution, the allocation of decision making authority across the various levels of government is steeped in tension. n169 In this fundamental struggle to identify the most optimum level  [*236]  of regulation, n170 from the choices between a top-down approach or a bottom-up approach, n171 how much responsibility is to be allocated across the various governmental authorities while ensuring the broader policy objectives of environmental protections are met? Some form of cooperative federalism might be best suited to regulate fracking, which would require both federal and state participation. Although a central agency may be required to develop guideposts along the way for the lower-level governmental authorities to expand upon, this unique federalism must consist of a federal floor within the states' heightened authority. In this version of cooperative federalism, <u>the local nuances can adequately be responded to by empowering states in <strong>clarifying their role</strong> in enforcement and legislation</u>. This would require establishing new standards enabling adoption and enforcement of new states' regulatory principles modeled under the broader federal mandate. n172 <u>Instead of either allowing individual states to make diverging rules related to fracking activities or imposing on</u>  [*237]  <u>the states a \"one size fits all\" regulatory framework, a version of <strong>interactive federalism that draws its authority via an overlapping shared paradigm will not only promote beneficial cooperation</strong> but, shall certainly conform to the legitimate goal of federalism</u>. n173</p></div></div>"
            ],
            "text/plain": [
              "<IPython.core.display.HTML object>"
            ]
          },
          "metadata": {},
          "output_type": "display_data"
        }
      ],
      "source": [
        "showBucketSeries(related, indexes=range(7))"
      ]
    },
    {
      "cell_type": "code",
      "execution_count": null,
      "metadata": {
        "colab": {
          "base_uri": "https://localhost:8080/"
        },
        "id": "DjHWrG5Ndpij",
        "outputId": "f8332e5c-4ec7-480c-dc7f-a319b9eddb49"
      },
      "outputs": [
        {
          "output_type": "execute_result",
          "data": {
            "text/plain": [
              "<Graph object, directed, with 6733 vertices and 649256 edges, 1 internal edge property, at 0x7f5b37fdcf10>"
            ]
          },
          "metadata": {},
          "execution_count": 129
        }
      ],
      "source": [
        "gt.pagerank(evGraphW, weight=evGraphW.ep.weight)"
      ]
    },
    {
      "cell_type": "markdown",
      "metadata": {
        "id": "mrJZ4XMIo68K"
      },
      "source": [
        "##### SBM"
      ]
    },
    {
      "cell_type": "code",
      "execution_count": null,
      "metadata": {
        "id": "x2AhgEdRdZT1",
        "colab": {
          "base_uri": "https://localhost:8080/",
          "height": 283
        },
        "outputId": "8d15e3a3-27a3-434d-9e59-d783682218f4"
      },
      "outputs": [
        {
          "output_type": "execute_result",
          "data": {
            "text/plain": [
              "'real-exponential'"
            ],
            "application/vnd.google.colaboratory.intrinsic+json": {
              "type": "string"
            }
          },
          "metadata": {},
          "execution_count": 10
        },
        {
          "output_type": "display_data",
          "data": {
            "text/plain": [
              "<Figure size 432x288 with 1 Axes>"
            ],
            "image/png": "[encoded data removed]"
          },
          "metadata": {
            "needs_background": "light"
          }
        }
      ],
      "source": [
        "g = fileGraph\n",
        "weights = g.ep.weight\n",
        "weight_distribution = \"real-exponential\"\n",
        "plt.hist(weights.a, bins=100)\n",
        "weight_distribution"
      ]
    },
    {
      "cell_type": "markdown",
      "metadata": {
        "id": "BL51v5wgybGE"
      },
      "source": [
        "###### Block Build"
      ]
    },
    {
      "cell_type": "code",
      "execution_count": null,
      "metadata": {
        "colab": {
          "base_uri": "https://localhost:8080/"
        },
        "id": "hRpDQWu3yfGc",
        "outputId": "0814e091-9798-4d1b-eb80-d86c60dfd8e7"
      },
      "outputs": [
        {
          "output_type": "execute_result",
          "data": {
            "text/plain": [
              "<BlockState object with 6914 blocks (201 nonempty), degree-corrected, with 1 edge covariate, for graph <Graph object, directed, with 6914 vertices and 649256 edges, 1 internal edge property, at 0x7f4ea551b390>, at 0x7f4e90509550>"
            ]
          },
          "metadata": {},
          "execution_count": 11
        }
      ],
      "source": [
        "# Took\n",
        "state = gt.minimize_blockmodel_dl(g, state_args=dict(recs=[weights], rec_types=[weight_distribution]))\n",
        "state"
      ]
    },
    {
      "cell_type": "code",
      "execution_count": null,
      "metadata": {
        "colab": {
          "base_uri": "https://localhost:8080/"
        },
        "id": "IAIa7CqH0__p",
        "outputId": "d54d2a5a-7747-4d87-e50e-b5b65a54fba8"
      },
      "outputs": [
        {
          "output_type": "execute_result",
          "data": {
            "text/plain": [
              "2093636.2860753927"
            ]
          },
          "metadata": {},
          "execution_count": 12
        }
      ],
      "source": [
        "baseEntropy = state.entropy()\n",
        "baseEntropy"
      ]
    },
    {
      "cell_type": "code",
      "execution_count": null,
      "metadata": {
        "colab": {
          "base_uri": "https://localhost:8080/",
          "height": 518,
          "referenced_widgets": [
            "c5b28a6667c84c4fbed2728b1a06142f",
            "f4ff4b92c9ba4840ac90b310f2a5070e",
            "801a185920e545dd957344ee09b1a367",
            "022adb37f3bd45d48395bc0c32f57ada",
            "968194dfbb594480b4d9532eb0f92d17",
            "04326c9c42bc4cd6bd090bf5aae35230",
            "b7792337d67a48b19e5a9bd8a164b35a",
            "7674bb090dd247a7a22e39aca21d476b",
            "cd724de4f4ad45039b089f5a9e9dae01",
            "04e0492213ad4a7a8ee4658ed197cec0",
            "90bfa61d405849fa95737e0ca774e0fb"
          ]
        },
        "id": "ZyKCyH2c2H49",
        "outputId": "3a18e5ce-5250-4b1d-ce5d-d441465d39cf"
      },
      "outputs": [
        {
          "output_type": "display_data",
          "data": {
            "text/plain": [
              "  0%|          | 0/20 [00:00<?, ?it/s]"
            ],
            "application/vnd.jupyter.widget-view+json": {
              "version_major": 2,
              "version_minor": 0,
              "model_id": "c5b28a6667c84c4fbed2728b1a06142f"
            }
          },
          "metadata": {}
        },
        {
          "output_type": "stream",
          "name": "stdout",
          "text": [
            "-875.928328151349\n",
            "-1379.7203172282316\n",
            "-1036.74501733738\n",
            "-467.00401337468065\n",
            "-627.8851704183035\n",
            "-651.7526414897293\n",
            "-457.49185818154365\n",
            "-403.59802789613605\n",
            "-202.99989617615938\n",
            "-95.88272992218845\n",
            "-309.54244291898794\n",
            "-256.8295963583514\n",
            "-270.2157701039687\n",
            "-133.8413505461067\n",
            "-197.54742866987363\n",
            "-73.42388634290546\n",
            "-101.15053488127887\n",
            "-219.01006249524653\n",
            "-166.80098321009427\n",
            "-176.62877631164156\n",
            "Total: \n"
          ]
        },
        {
          "output_type": "execute_result",
          "data": {
            "text/plain": [
              "-8103.9988320141565"
            ]
          },
          "metadata": {},
          "execution_count": 13
        }
      ],
      "source": [
        "s1 = state.entropy()\n",
        "last = s1\n",
        "for _ in tqdm(range(20)):\n",
        "  state.multiflip_mcmc_sweep(beta=np.inf, niter=10)\n",
        "  print(state.entropy() - last)\n",
        "  last = state.entropy()\n",
        "\n",
        "print(\"Total: \")\n",
        "state.entropy() - s1"
      ]
    },
    {
      "cell_type": "markdown",
      "metadata": {
        "id": "j7-wEPru8tfZ"
      },
      "source": [
        "###### Block Analyze"
      ]
    },
    {
      "cell_type": "code",
      "execution_count": null,
      "metadata": {
        "colab": {
          "base_uri": "https://localhost:8080/",
          "height": 293
        },
        "id": "QZR-oGto1H8m",
        "outputId": "df396bc1-c33f-4bca-9935-96dc2bef1204"
      },
      "outputs": [
        {
          "output_type": "execute_result",
          "data": {
            "text/plain": [
              "<matplotlib.image.AxesImage at 0x7f4eb93820d0>"
            ]
          },
          "metadata": {},
          "execution_count": 14
        },
        {
          "output_type": "display_data",
          "data": {
            "text/plain": [
              "<Figure size 288x288 with 1 Axes>"
            ],
            "image/png": "[encoded data removed]"
          },
          "metadata": {
            "needs_background": "light"
          }
        }
      ],
      "source": [
        "b = gt.contiguous_map(state.get_blocks())\n",
        "state = state.copy(b=b)\n",
        "B = state.get_nonempty_B()\n",
        "\n",
        "plt.matshow(state.get_matrix().todense()[:B, :B])"
      ]
    },
    {
      "cell_type": "code",
      "execution_count": null,
      "metadata": {
        "id": "98e18nDm36xA"
      },
      "outputs": [],
      "source": [
        "blocks = np.array(list(state.get_blocks()))"
      ]
    },
    {
      "cell_type": "code",
      "execution_count": null,
      "metadata": {
        "colab": {
          "base_uri": "https://localhost:8080/",
          "height": 1000
        },
        "id": "P0nIgggR7DSD",
        "outputId": "483841a5-b3d3-443a-c6e6-0e9ddbb811bd"
      },
      "outputs": [
        {
          "output_type": "execute_result",
          "data": {
            "text/plain": [
              "                    createdAt               updatedAt       gid  \\\n",
              "id                                                                \n",
              "5319  2022-08-19 16:38:16.024 2022-08-20 01:52:42.617  X00E3RNK   \n",
              "5349  2022-08-19 16:38:16.930 2022-08-20 01:52:46.137  SPYJ6MCD   \n",
              "5355  2022-08-19 16:38:17.118 2022-08-20 01:52:31.851  LLRLSVYZ   \n",
              "5449  2022-08-19 16:38:22.368 2022-08-20 01:52:55.590  M-ZBVEMZ   \n",
              "5367  2022-08-19 16:38:17.510 2022-08-20 01:49:38.290  ZULHNI4Z   \n",
              "5333  2022-08-19 16:38:16.456 2022-08-20 01:51:27.370  PPVMSXGE   \n",
              "5410  2022-08-19 16:38:18.833 2022-08-20 01:55:03.862  TTFUG8ZT   \n",
              "5543  2022-08-19 16:38:24.719 2022-08-20 01:56:55.270  I3UKVQCC   \n",
              "5477  2022-08-19 16:38:23.219 2022-08-20 01:55:51.378  DNLCRE6L   \n",
              "5537  2022-08-19 16:38:24.604 2022-08-20 01:53:37.965  WUJWRKDN   \n",
              "5555  2022-08-19 16:38:24.905 2022-08-20 01:57:23.966  N0DTNRRG   \n",
              "5427  2022-08-19 16:38:21.653 2022-08-20 01:50:40.056  NHI7IIMZ   \n",
              "5609  2022-08-19 16:38:26.261 2022-08-20 01:54:57.364  5YQHVBCE   \n",
              "5664  2022-08-19 16:38:27.312 2022-08-20 01:58:43.137  CMSGSWCP   \n",
              "5589  2022-08-19 16:38:25.773 2022-08-20 01:55:59.747  4BOI5LZM   \n",
              "5619  2022-08-19 16:38:26.411 2022-08-20 01:56:10.401  HXU17YZR   \n",
              "5553  2022-08-19 16:38:24.878 2022-08-20 01:54:23.310  6WEIDHNP   \n",
              "5626  2022-08-19 16:38:26.523 2022-08-20 01:54:26.335  8B1LO96M   \n",
              "5606  2022-08-19 16:38:26.205 2022-08-20 01:55:27.737  SJRLSP-Z   \n",
              "5634  2022-08-19 16:38:26.691 2022-08-20 01:57:36.335  S0EXGGVW   \n",
              "11574 2022-08-26 01:43:34.320 2022-09-05 00:41:36.424  2OJITHWT   \n",
              "11582 2022-08-26 01:45:14.550 2022-09-05 00:41:39.732  CKBHZG6W   \n",
              "11583 2022-08-26 01:45:27.571 2022-09-05 00:41:38.522  N7SEDS5K   \n",
              "11585 2022-08-26 01:45:51.632 2022-09-05 00:41:38.938  XWXCO1A2   \n",
              "11586 2022-08-26 01:46:16.693 2022-09-05 00:41:43.130  ITZWIVEG   \n",
              "11587 2022-08-26 01:46:29.721 2022-09-05 00:41:39.970  19NN9R5S   \n",
              "11726 2022-08-26 02:16:17.501 2022-09-05 00:43:25.170  NEWA1CIS   \n",
              "15056 2022-08-27 00:33:32.779 2022-09-05 00:12:18.435  VKRETKO-   \n",
              "15108 2022-08-27 00:48:06.184 2022-09-05 00:14:26.870  PMMTH-J4   \n",
              "15195 2022-08-27 01:10:24.586 2022-09-05 00:14:04.985  OQATVBK9   \n",
              "15423 2022-08-27 02:00:36.814 2022-09-05 00:12:20.611  P1-DAQSS   \n",
              "15443 2022-08-27 02:04:46.498 2022-09-05 00:12:23.626  P781GSMO   \n",
              "15530 2022-08-27 02:24:33.933 2022-09-05 00:20:10.344  ZNSICMEW   \n",
              "15711 2022-08-27 03:05:25.236 2022-09-05 00:49:39.965  HIVXCJAB   \n",
              "15907 2022-08-27 03:55:11.789 2022-09-05 00:51:21.619  RWSGWLYL   \n",
              "16535 2022-08-27 14:19:34.389 2022-09-05 00:53:21.837  133E07AB   \n",
              "16538 2022-08-27 14:20:11.487 2022-09-05 00:53:22.214  IAMDH3Z3   \n",
              "16539 2022-08-27 14:20:24.521 2022-09-05 00:53:23.141  IDM77RF_   \n",
              "16555 2022-08-27 14:23:56.129 2022-09-05 00:53:36.670  JSXMK8ZT   \n",
              "16560 2022-08-27 14:24:59.274 2022-09-05 00:53:38.839  VJCZUHGE   \n",
              "16744 2022-08-27 15:08:44.026 2022-09-05 00:56:33.276  ZHWMJ5NL   \n",
              "16893 2022-08-27 15:40:13.054 2022-09-05 00:58:23.765  WXHZBKBH   \n",
              "16895 2022-08-27 15:40:49.137 2022-09-05 00:58:24.470  VBNHZ6O_   \n",
              "16950 2022-08-27 15:53:07.074 2022-09-05 00:58:30.585  UE6VXPQV   \n",
              "16940 2022-08-27 15:51:01.695 2022-09-05 00:58:36.176  HC98XI7G   \n",
              "16942 2022-08-27 15:51:26.767 2022-09-05 00:58:36.081  OSLUV8JF   \n",
              "16959 2022-08-27 15:55:12.486 2022-09-05 00:58:36.692  UMOZVUEC   \n",
              "16960 2022-08-27 15:55:24.526 2022-09-05 00:58:36.959  W5U_0CUP   \n",
              "16965 2022-08-27 15:56:26.716 2022-09-05 00:58:38.996  B-LB0GRH   \n",
              "16968 2022-08-27 15:57:03.802 2022-09-05 00:58:39.307  U72DF2V8   \n",
              "\n",
              "                                                    name  \\\n",
              "id                                                         \n",
              "5319                    Settler Colonialism K - DDI 2021   \n",
              "5349                Tribal Mining Case Neg - DDI 2021 GG   \n",
              "5355     Environmental Personhood Case Neg - DDI 2021 HL   \n",
              "5449                      Settler Enclosure K - MGC 2021   \n",
              "5367     Environmental Personhood Case Neg - DDI 2021 FJ   \n",
              "5333     Environmental Personhood Case Neg - DDI 2021 AT   \n",
              "5410                Conquest K Supplement - Gonzaga 2021   \n",
              "5543        Settlerism Supplement - Michigan7 2021 BFPSW   \n",
              "5477                Water Colonialism K - Michigan7 2021   \n",
              "5537   Settler Colonialism Answers - Michigan7 2021 B...   \n",
              "5555      Biopolitics K Supplement - Michigan7 2021 CCPW   \n",
              "5427                           Conquest K - Gonzaga 2021   \n",
              "5609   Regional Natives Aff - MichiganClassic 2021 FOPVW   \n",
              "5664                  Settler Colonialism K - UTNIF 2021   \n",
              "5589              Cap K vs K Affs - Michigan7 2021 K Lab   \n",
              "5619                   Coloniality K - Northwestern 2021   \n",
              "5553      Environment Management K - Michigan7 2021 CCPW   \n",
              "5626                    Settler Colonialism K - SDI 2021   \n",
              "5606       Natives Case Neg - MichiganClassic 2021 FOPVW   \n",
              "5634                        Governmentality K - SDI 2021   \n",
              "11574      Harvard-Aoki-Farronay-Aff-00%20-%20NDT-Round7   \n",
              "11582     Harvard-Aoki-Farronay-Neg-Northwestern-Doubles   \n",
              "11583      Harvard-Aoki-Farronay-Aff-Northwestern-Round2   \n",
              "11585      Harvard-Aoki-Farronay-Neg-Northwestern-Round4   \n",
              "11586        Harvard-Aoki-Farronay-Aff-Kentucky-Quarters   \n",
              "11587       Harvard-Aoki-Farronay-Neg-Northwestern-Octas   \n",
              "11726       Indiana-Oluwayomi-Fish-Aff-ADA%20Nats-Round1   \n",
              "15056  Berkeley%20Prep-Dandamudi-Varkantham-Aff-Unive...   \n",
              "15108  Berkeley%20Prep-Ross-Sawar-Aff-The%20Tradition...   \n",
              "15195  Bravo-Chanay-Kundu-Neg-Urban%20Debate%20Dragon...   \n",
              "15423  Canyon%20Crest-Li-Ryu-Neg-8%20-%20Berkeley-Round3   \n",
              "15443  Canyon%20Crest-Li-Ryu-Neg-1-%20University%20of...   \n",
              "15530  Central%20Senior-Ulven-Wang-Neg-Lakeland%20Wes...   \n",
              "15711        Damien-Murphy-Augustin-Neg-Grapevine-Round1   \n",
              "15907   Ferris-millar-toillion-Neg-e-long%20beach-Round5   \n",
              "16535  Heights-Waters-Kuffner-Neg-UH%20Cougar%20Class...   \n",
              "16538  Heights-Waters-Kuffner-Neg-UH%20Cougar%20Class...   \n",
              "16539  Heights-Waters-Kuffner-Neg-UH%20Cougar%20Class...   \n",
              "16555        Heights-Waters-Kuffner-Neg-Grapevine-Round4   \n",
              "16560  Heights-Waters-Kuffner-Neg-UT%20Longhorn%20Cla...   \n",
              "16744   Kent%20Denver-Agarwala-Hughes-Neg-03-UNLV-Round1   \n",
              "16893  Lansing-Corrigan-Svedarsky-Neg-4%20-%20Glenbro...   \n",
              "16895  Lansing-Corrigan-Svedarsky-Neg-4%20-%20Glenbro...   \n",
              "16950                 Lawrence-Sand-Shew-Neg-BVSW-Round1   \n",
              "16940  Lawrence-Riggins-Viloria-Neg-Blue%20Valley%20S...   \n",
              "16942  Lawrence-Riggins-Viloria-Neg-Washburn%20Rural-...   \n",
              "16959             Lawrence-Shew-Viloria-Neg-Derby-Round1   \n",
              "16960             Lawrence-Shew-Viloria-Neg-Derby-Round3   \n",
              "16965        Lawrence-Shew-Viloria-Neg-Glenbrooks-Round3   \n",
              "16968        Lawrence-Shew-Viloria-Neg-Glenbrooks-Round2   \n",
              "\n",
              "                                                    path     status  roundId  \n",
              "id                                                                            \n",
              "5319   ./documents/openev/2021/DDI/Settler Colonialis...  PROCESSED      NaN  \n",
              "5349   ./documents/openev/2021/DDI/Tribal Mining Case...  PROCESSED      NaN  \n",
              "5355   ./documents/openev/2021/DDI/Environmental Pers...  PROCESSED      NaN  \n",
              "5449   ./documents/openev/2021/MGC/Settler Enclosure ...  PROCESSED      NaN  \n",
              "5367   ./documents/openev/2021/DDI/Environmental Pers...  PROCESSED      NaN  \n",
              "5333   ./documents/openev/2021/DDI/Environmental Pers...  PROCESSED      NaN  \n",
              "5410   ./documents/openev/2021/GDI/Conquest K Supplem...  PROCESSED      NaN  \n",
              "5543   ./documents/openev/2021/UM7/Settlerism Supplem...  PROCESSED      NaN  \n",
              "5477   ./documents/openev/2021/UM7/Water Colonialism ...  PROCESSED      NaN  \n",
              "5537   ./documents/openev/2021/UM7/Settler Colonialis...  PROCESSED      NaN  \n",
              "5555   ./documents/openev/2021/UM7/Biopolitics K Supp...  PROCESSED      NaN  \n",
              "5427   ./documents/openev/2021/GDI/Conquest K - Gonza...  PROCESSED      NaN  \n",
              "5609   ./documents/openev/2021/UMC/Regional Natives A...  PROCESSED      NaN  \n",
              "5664   ./documents/openev/2021/UTNIF/Settler Colonial...  PROCESSED      NaN  \n",
              "5589   ./documents/openev/2021/UM7/Cap K vs K Affs - ...  PROCESSED      NaN  \n",
              "5619   ./documents/openev/2021/NHSI/Coloniality K - N...  PROCESSED      NaN  \n",
              "5553   ./documents/openev/2021/UM7/Environment Manage...  PROCESSED      NaN  \n",
              "5626   ./documents/openev/2021/SDI/Settler Colonialis...  PROCESSED      NaN  \n",
              "5606   ./documents/openev/2021/UMC/Natives Case Neg -...  PROCESSED      NaN  \n",
              "5634   ./documents/openev/2021/SDI/Governmentality K ...  PROCESSED      NaN  \n",
              "11574  ./documents/ndtceda21/Harvard/AoFa/Harvard-Aok...  PROCESSED  10600.0  \n",
              "11582  ./documents/ndtceda21/Harvard/AoFa/Harvard-Aok...  PROCESSED  10615.0  \n",
              "11583  ./documents/ndtceda21/Harvard/AoFa/Harvard-Aok...  PROCESSED  10611.0  \n",
              "11585  ./documents/ndtceda21/Harvard/AoFa/Harvard-Aok...  PROCESSED  10612.0  \n",
              "11586  ./documents/ndtceda21/Harvard/AoFa/Harvard-Aok...  PROCESSED  10632.0  \n",
              "11587  ./documents/ndtceda21/Harvard/AoFa/Harvard-Aok...  PROCESSED  10609.0  \n",
              "11726  ./documents/ndtceda21/Indiana/OlFi/Indiana-Olu...  PROCESSED  10790.0  \n",
              "15056  ./documents/hspolicy21/BerkeleyPrep/DaVa/Berke...  PROCESSED  15242.0  \n",
              "15108  ./documents/hspolicy21/BerkeleyPrep/RoSa/Berke...  PROCESSED  15316.0  \n",
              "15195  ./documents/hspolicy21/Bravo/ChKu/Bravo-Chanay...  PROCESSED  15826.0  \n",
              "15423  ./documents/hspolicy21/CanyonCrest/LiRy/Canyon...  PROCESSED  16315.0  \n",
              "15443  ./documents/hspolicy21/CanyonCrest/LiRy/Canyon...  PROCESSED  16363.0  \n",
              "15530  ./documents/hspolicy21/CentralSenior/UlWa/Cent...  PROCESSED  16505.0  \n",
              "15711  ./documents/hspolicy21/Damien/MuAu/Damien-Murp...  PROCESSED  17064.0  \n",
              "15907  ./documents/hspolicy21/Ferris/mito/Ferris-mill...  PROCESSED  17485.0  \n",
              "16535  ./documents/hspolicy21/Heights/WaKu/Heights-Wa...  PROCESSED  18761.0  \n",
              "16538  ./documents/hspolicy21/Heights/WaKu/Heights-Wa...  PROCESSED  18760.0  \n",
              "16539  ./documents/hspolicy21/Heights/WaKu/Heights-Wa...  PROCESSED  18756.0  \n",
              "16555  ./documents/hspolicy21/Heights/WaKu/Heights-Wa...  PROCESSED  18782.0  \n",
              "16560  ./documents/hspolicy21/Heights/WaKu/Heights-Wa...  PROCESSED  18783.0  \n",
              "16744  ./documents/hspolicy21/KentDenver/AgHu/Kent%20...  PROCESSED  19850.0  \n",
              "16893  ./documents/hspolicy21/Lansing/CoSv/Lansing-Co...  PROCESSED  20180.0  \n",
              "16895  ./documents/hspolicy21/Lansing/CoSv/Lansing-Co...  PROCESSED  20181.0  \n",
              "16950  ./documents/hspolicy21/Lawrence/SaSh/Lawrence-...  PROCESSED  20329.0  \n",
              "16940  ./documents/hspolicy21/Lawrence/RiVi/Lawrence-...  PROCESSED  20303.0  \n",
              "16942  ./documents/hspolicy21/Lawrence/RiVi/Lawrence-...  PROCESSED  20309.0  \n",
              "16959  ./documents/hspolicy21/Lawrence/ShVi/Lawrence-...  PROCESSED  20345.0  \n",
              "16960  ./documents/hspolicy21/Lawrence/ShVi/Lawrence-...  PROCESSED  20350.0  \n",
              "16965  ./documents/hspolicy21/Lawrence/ShVi/Lawrence-...  PROCESSED  20361.0  \n",
              "16968  ./documents/hspolicy21/Lawrence/ShVi/Lawrence-...  PROCESSED  20355.0  "
            ],
            "text/html": [
              "\n",
              "  <div id=\"df-1859921b-659d-4357-82d6-a22e4859212b\">\n",
              "    <div class=\"colab-df-container\">\n",
              "      <div>\n",
              "<style scoped>\n",
              "    .dataframe tbody tr th:only-of-type {\n",
              "        vertical-align: middle;\n",
              "    }\n",
              "\n",
              "    .dataframe tbody tr th {\n",
              "        vertical-align: top;\n",
              "    }\n",
              "\n",
              "    .dataframe thead th {\n",
              "        text-align: right;\n",
              "    }\n",
              "</style>\n",
              "<table border=\"1\" class=\"dataframe\">\n",
              "  <thead>\n",
              "    <tr style=\"text-align: right;\">\n",
              "      <th></th>\n",
              "      <th>createdAt</th>\n",
              "      <th>updatedAt</th>\n",
              "      <th>gid</th>\n",
              "      <th>name</th>\n",
              "      <th>path</th>\n",
              "      <th>status</th>\n",
              "      <th>roundId</th>\n",
              "    </tr>\n",
              "    <tr>\n",
              "      <th>id</th>\n",
              "      <th></th>\n",
              "      <th></th>\n",
              "      <th></th>\n",
              "      <th></th>\n",
              "      <th></th>\n",
              "      <th></th>\n",
              "      <th></th>\n",
              "    </tr>\n",
              "  </thead>\n",
              "  <tbody>\n",
              "    <tr>\n",
              "      <th>5319</th>\n",
              "      <td>2022-08-19 16:38:16.024</td>\n",
              "      <td>2022-08-20 01:52:42.617</td>\n",
              "      <td>X00E3RNK</td>\n",
              "      <td>Settler Colonialism K - DDI 2021</td>\n",
              "      <td>./documents/openev/2021/DDI/Settler Colonialis...</td>\n",
              "      <td>PROCESSED</td>\n",
              "      <td>NaN</td>\n",
              "    </tr>\n",
              "    <tr>\n",
              "      <th>5349</th>\n",
              "      <td>2022-08-19 16:38:16.930</td>\n",
              "      <td>2022-08-20 01:52:46.137</td>\n",
              "      <td>SPYJ6MCD</td>\n",
              "      <td>Tribal Mining Case Neg - DDI 2021 GG</td>\n",
              "      <td>./documents/openev/2021/DDI/Tribal Mining Case...</td>\n",
              "      <td>PROCESSED</td>\n",
              "      <td>NaN</td>\n",
              "    </tr>\n",
              "    <tr>\n",
              "      <th>5355</th>\n",
              "      <td>2022-08-19 16:38:17.118</td>\n",
              "      <td>2022-08-20 01:52:31.851</td>\n",
              "      <td>LLRLSVYZ</td>\n",
              "      <td>Environmental Personhood Case Neg - DDI 2021 HL</td>\n",
              "      <td>./documents/openev/2021/DDI/Environmental Pers...</td>\n",
              "      <td>PROCESSED</td>\n",
              "      <td>NaN</td>\n",
              "    </tr>\n",
              "    <tr>\n",
              "      <th>5449</th>\n",
              "      <td>2022-08-19 16:38:22.368</td>\n",
              "      <td>2022-08-20 01:52:55.590</td>\n",
              "      <td>M-ZBVEMZ</td>\n",
              "      <td>Settler Enclosure K - MGC 2021</td>\n",
              "      <td>./documents/openev/2021/MGC/Settler Enclosure ...</td>\n",
              "      <td>PROCESSED</td>\n",
              "      <td>NaN</td>\n",
              "    </tr>\n",
              "    <tr>\n",
              "      <th>5367</th>\n",
              "      <td>2022-08-19 16:38:17.510</td>\n",
              "      <td>2022-08-20 01:49:38.290</td>\n",
              "      <td>ZULHNI4Z</td>\n",
              "      <td>Environmental Personhood Case Neg - DDI 2021 FJ</td>\n",
              "      <td>./documents/openev/2021/DDI/Environmental Pers...</td>\n",
              "      <td>PROCESSED</td>\n",
              "      <td>NaN</td>\n",
              "    </tr>\n",
              "    <tr>\n",
              "      <th>5333</th>\n",
              "      <td>2022-08-19 16:38:16.456</td>\n",
              "      <td>2022-08-20 01:51:27.370</td>\n",
              "      <td>PPVMSXGE</td>\n",
              "      <td>Environmental Personhood Case Neg - DDI 2021 AT</td>\n",
              "      <td>./documents/openev/2021/DDI/Environmental Pers...</td>\n",
              "      <td>PROCESSED</td>\n",
              "      <td>NaN</td>\n",
              "    </tr>\n",
              "    <tr>\n",
              "      <th>5410</th>\n",
              "      <td>2022-08-19 16:38:18.833</td>\n",
              "      <td>2022-08-20 01:55:03.862</td>\n",
              "      <td>TTFUG8ZT</td>\n",
              "      <td>Conquest K Supplement - Gonzaga 2021</td>\n",
              "      <td>./documents/openev/2021/GDI/Conquest K Supplem...</td>\n",
              "      <td>PROCESSED</td>\n",
              "      <td>NaN</td>\n",
              "    </tr>\n",
              "    <tr>\n",
              "      <th>5543</th>\n",
              "      <td>2022-08-19 16:38:24.719</td>\n",
              "      <td>2022-08-20 01:56:55.270</td>\n",
              "      <td>I3UKVQCC</td>\n",
              "      <td>Settlerism Supplement - Michigan7 2021 BFPSW</td>\n",
              "      <td>./documents/openev/2021/UM7/Settlerism Supplem...</td>\n",
              "      <td>PROCESSED</td>\n",
              "      <td>NaN</td>\n",
              "    </tr>\n",
              "    <tr>\n",
              "      <th>5477</th>\n",
              "      <td>2022-08-19 16:38:23.219</td>\n",
              "      <td>2022-08-20 01:55:51.378</td>\n",
              "      <td>DNLCRE6L</td>\n",
              "      <td>Water Colonialism K - Michigan7 2021</td>\n",
              "      <td>./documents/openev/2021/UM7/Water Colonialism ...</td>\n",
              "      <td>PROCESSED</td>\n",
              "      <td>NaN</td>\n",
              "    </tr>\n",
              "    <tr>\n",
              "      <th>5537</th>\n",
              "      <td>2022-08-19 16:38:24.604</td>\n",
              "      <td>2022-08-20 01:53:37.965</td>\n",
              "      <td>WUJWRKDN</td>\n",
              "      <td>Settler Colonialism Answers - Michigan7 2021 B...</td>\n",
              "      <td>./documents/openev/2021/UM7/Settler Colonialis...</td>\n",
              "      <td>PROCESSED</td>\n",
              "      <td>NaN</td>\n",
              "    </tr>\n",
              "    <tr>\n",
              "      <th>5555</th>\n",
              "      <td>2022-08-19 16:38:24.905</td>\n",
              "      <td>2022-08-20 01:57:23.966</td>\n",
              "      <td>N0DTNRRG</td>\n",
              "      <td>Biopolitics K Supplement - Michigan7 2021 CCPW</td>\n",
              "      <td>./documents/openev/2021/UM7/Biopolitics K Supp...</td>\n",
              "      <td>PROCESSED</td>\n",
              "      <td>NaN</td>\n",
              "    </tr>\n",
              "    <tr>\n",
              "      <th>5427</th>\n",
              "      <td>2022-08-19 16:38:21.653</td>\n",
              "      <td>2022-08-20 01:50:40.056</td>\n",
              "      <td>NHI7IIMZ</td>\n",
              "      <td>Conquest K - Gonzaga 2021</td>\n",
              "      <td>./documents/openev/2021/GDI/Conquest K - Gonza...</td>\n",
              "      <td>PROCESSED</td>\n",
              "      <td>NaN</td>\n",
              "    </tr>\n",
              "    <tr>\n",
              "      <th>5609</th>\n",
              "      <td>2022-08-19 16:38:26.261</td>\n",
              "      <td>2022-08-20 01:54:57.364</td>\n",
              "      <td>5YQHVBCE</td>\n",
              "      <td>Regional Natives Aff - MichiganClassic 2021 FOPVW</td>\n",
              "      <td>./documents/openev/2021/UMC/Regional Natives A...</td>\n",
              "      <td>PROCESSED</td>\n",
              "      <td>NaN</td>\n",
              "    </tr>\n",
              "    <tr>\n",
              "      <th>5664</th>\n",
              "      <td>2022-08-19 16:38:27.312</td>\n",
              "      <td>2022-08-20 01:58:43.137</td>\n",
              "      <td>CMSGSWCP</td>\n",
              "      <td>Settler Colonialism K - UTNIF 2021</td>\n",
              "      <td>./documents/openev/2021/UTNIF/Settler Colonial...</td>\n",
              "      <td>PROCESSED</td>\n",
              "      <td>NaN</td>\n",
              "    </tr>\n",
              "    <tr>\n",
              "      <th>5589</th>\n",
              "      <td>2022-08-19 16:38:25.773</td>\n",
              "      <td>2022-08-20 01:55:59.747</td>\n",
              "      <td>4BOI5LZM</td>\n",
              "      <td>Cap K vs K Affs - Michigan7 2021 K Lab</td>\n",
              "      <td>./documents/openev/2021/UM7/Cap K vs K Affs - ...</td>\n",
              "      <td>PROCESSED</td>\n",
              "      <td>NaN</td>\n",
              "    </tr>\n",
              "    <tr>\n",
              "      <th>5619</th>\n",
              "      <td>2022-08-19 16:38:26.411</td>\n",
              "      <td>2022-08-20 01:56:10.401</td>\n",
              "      <td>HXU17YZR</td>\n",
              "      <td>Coloniality K - Northwestern 2021</td>\n",
              "      <td>./documents/openev/2021/NHSI/Coloniality K - N...</td>\n",
              "      <td>PROCESSED</td>\n",
              "      <td>NaN</td>\n",
              "    </tr>\n",
              "    <tr>\n",
              "      <th>5553</th>\n",
              "      <td>2022-08-19 16:38:24.878</td>\n",
              "      <td>2022-08-20 01:54:23.310</td>\n",
              "      <td>6WEIDHNP</td>\n",
              "      <td>Environment Management K - Michigan7 2021 CCPW</td>\n",
              "      <td>./documents/openev/2021/UM7/Environment Manage...</td>\n",
              "      <td>PROCESSED</td>\n",
              "      <td>NaN</td>\n",
              "    </tr>\n",
              "    <tr>\n",
              "      <th>5626</th>\n",
              "      <td>2022-08-19 16:38:26.523</td>\n",
              "      <td>2022-08-20 01:54:26.335</td>\n",
              "      <td>8B1LO96M</td>\n",
              "      <td>Settler Colonialism K - SDI 2021</td>\n",
              "      <td>./documents/openev/2021/SDI/Settler Colonialis...</td>\n",
              "      <td>PROCESSED</td>\n",
              "      <td>NaN</td>\n",
              "    </tr>\n",
              "    <tr>\n",
              "      <th>5606</th>\n",
              "      <td>2022-08-19 16:38:26.205</td>\n",
              "      <td>2022-08-20 01:55:27.737</td>\n",
              "      <td>SJRLSP-Z</td>\n",
              "      <td>Natives Case Neg - MichiganClassic 2021 FOPVW</td>\n",
              "      <td>./documents/openev/2021/UMC/Natives Case Neg -...</td>\n",
              "      <td>PROCESSED</td>\n",
              "      <td>NaN</td>\n",
              "    </tr>\n",
              "    <tr>\n",
              "      <th>5634</th>\n",
              "      <td>2022-08-19 16:38:26.691</td>\n",
              "      <td>2022-08-20 01:57:36.335</td>\n",
              "      <td>S0EXGGVW</td>\n",
              "      <td>Governmentality K - SDI 2021</td>\n",
              "      <td>./documents/openev/2021/SDI/Governmentality K ...</td>\n",
              "      <td>PROCESSED</td>\n",
              "      <td>NaN</td>\n",
              "    </tr>\n",
              "    <tr>\n",
              "      <th>11574</th>\n",
              "      <td>2022-08-26 01:43:34.320</td>\n",
              "      <td>2022-09-05 00:41:36.424</td>\n",
              "      <td>2OJITHWT</td>\n",
              "      <td>Harvard-Aoki-Farronay-Aff-00%20-%20NDT-Round7</td>\n",
              "      <td>./documents/ndtceda21/Harvard/AoFa/Harvard-Aok...</td>\n",
              "      <td>PROCESSED</td>\n",
              "      <td>10600.0</td>\n",
              "    </tr>\n",
              "    <tr>\n",
              "      <th>11582</th>\n",
              "      <td>2022-08-26 01:45:14.550</td>\n",
              "      <td>2022-09-05 00:41:39.732</td>\n",
              "      <td>CKBHZG6W</td>\n",
              "      <td>Harvard-Aoki-Farronay-Neg-Northwestern-Doubles</td>\n",
              "      <td>./documents/ndtceda21/Harvard/AoFa/Harvard-Aok...</td>\n",
              "      <td>PROCESSED</td>\n",
              "      <td>10615.0</td>\n",
              "    </tr>\n",
              "    <tr>\n",
              "      <th>11583</th>\n",
              "      <td>2022-08-26 01:45:27.571</td>\n",
              "      <td>2022-09-05 00:41:38.522</td>\n",
              "      <td>N7SEDS5K</td>\n",
              "      <td>Harvard-Aoki-Farronay-Aff-Northwestern-Round2</td>\n",
              "      <td>./documents/ndtceda21/Harvard/AoFa/Harvard-Aok...</td>\n",
              "      <td>PROCESSED</td>\n",
              "      <td>10611.0</td>\n",
              "    </tr>\n",
              "    <tr>\n",
              "      <th>11585</th>\n",
              "      <td>2022-08-26 01:45:51.632</td>\n",
              "      <td>2022-09-05 00:41:38.938</td>\n",
              "      <td>XWXCO1A2</td>\n",
              "      <td>Harvard-Aoki-Farronay-Neg-Northwestern-Round4</td>\n",
              "      <td>./documents/ndtceda21/Harvard/AoFa/Harvard-Aok...</td>\n",
              "      <td>PROCESSED</td>\n",
              "      <td>10612.0</td>\n",
              "    </tr>\n",
              "    <tr>\n",
              "      <th>11586</th>\n",
              "      <td>2022-08-26 01:46:16.693</td>\n",
              "      <td>2022-09-05 00:41:43.130</td>\n",
              "      <td>ITZWIVEG</td>\n",
              "      <td>Harvard-Aoki-Farronay-Aff-Kentucky-Quarters</td>\n",
              "      <td>./documents/ndtceda21/Harvard/AoFa/Harvard-Aok...</td>\n",
              "      <td>PROCESSED</td>\n",
              "      <td>10632.0</td>\n",
              "    </tr>\n",
              "    <tr>\n",
              "      <th>11587</th>\n",
              "      <td>2022-08-26 01:46:29.721</td>\n",
              "      <td>2022-09-05 00:41:39.970</td>\n",
              "      <td>19NN9R5S</td>\n",
              "      <td>Harvard-Aoki-Farronay-Neg-Northwestern-Octas</td>\n",
              "      <td>./documents/ndtceda21/Harvard/AoFa/Harvard-Aok...</td>\n",
              "      <td>PROCESSED</td>\n",
              "      <td>10609.0</td>\n",
              "    </tr>\n",
              "    <tr>\n",
              "      <th>11726</th>\n",
              "      <td>2022-08-26 02:16:17.501</td>\n",
              "      <td>2022-09-05 00:43:25.170</td>\n",
              "      <td>NEWA1CIS</td>\n",
              "      <td>Indiana-Oluwayomi-Fish-Aff-ADA%20Nats-Round1</td>\n",
              "      <td>./documents/ndtceda21/Indiana/OlFi/Indiana-Olu...</td>\n",
              "      <td>PROCESSED</td>\n",
              "      <td>10790.0</td>\n",
              "    </tr>\n",
              "    <tr>\n",
              "      <th>15056</th>\n",
              "      <td>2022-08-27 00:33:32.779</td>\n",
              "      <td>2022-09-05 00:12:18.435</td>\n",
              "      <td>VKRETKO-</td>\n",
              "      <td>Berkeley%20Prep-Dandamudi-Varkantham-Aff-Unive...</td>\n",
              "      <td>./documents/hspolicy21/BerkeleyPrep/DaVa/Berke...</td>\n",
              "      <td>PROCESSED</td>\n",
              "      <td>15242.0</td>\n",
              "    </tr>\n",
              "    <tr>\n",
              "      <th>15108</th>\n",
              "      <td>2022-08-27 00:48:06.184</td>\n",
              "      <td>2022-09-05 00:14:26.870</td>\n",
              "      <td>PMMTH-J4</td>\n",
              "      <td>Berkeley%20Prep-Ross-Sawar-Aff-The%20Tradition...</td>\n",
              "      <td>./documents/hspolicy21/BerkeleyPrep/RoSa/Berke...</td>\n",
              "      <td>PROCESSED</td>\n",
              "      <td>15316.0</td>\n",
              "    </tr>\n",
              "    <tr>\n",
              "      <th>15195</th>\n",
              "      <td>2022-08-27 01:10:24.586</td>\n",
              "      <td>2022-09-05 00:14:04.985</td>\n",
              "      <td>OQATVBK9</td>\n",
              "      <td>Bravo-Chanay-Kundu-Neg-Urban%20Debate%20Dragon...</td>\n",
              "      <td>./documents/hspolicy21/Bravo/ChKu/Bravo-Chanay...</td>\n",
              "      <td>PROCESSED</td>\n",
              "      <td>15826.0</td>\n",
              "    </tr>\n",
              "    <tr>\n",
              "      <th>15423</th>\n",
              "      <td>2022-08-27 02:00:36.814</td>\n",
              "      <td>2022-09-05 00:12:20.611</td>\n",
              "      <td>P1-DAQSS</td>\n",
              "      <td>Canyon%20Crest-Li-Ryu-Neg-8%20-%20Berkeley-Round3</td>\n",
              "      <td>./documents/hspolicy21/CanyonCrest/LiRy/Canyon...</td>\n",
              "      <td>PROCESSED</td>\n",
              "      <td>16315.0</td>\n",
              "    </tr>\n",
              "    <tr>\n",
              "      <th>15443</th>\n",
              "      <td>2022-08-27 02:04:46.498</td>\n",
              "      <td>2022-09-05 00:12:23.626</td>\n",
              "      <td>P781GSMO</td>\n",
              "      <td>Canyon%20Crest-Li-Ryu-Neg-1-%20University%20of...</td>\n",
              "      <td>./documents/hspolicy21/CanyonCrest/LiRy/Canyon...</td>\n",
              "      <td>PROCESSED</td>\n",
              "      <td>16363.0</td>\n",
              "    </tr>\n",
              "    <tr>\n",
              "      <th>15530</th>\n",
              "      <td>2022-08-27 02:24:33.933</td>\n",
              "      <td>2022-09-05 00:20:10.344</td>\n",
              "      <td>ZNSICMEW</td>\n",
              "      <td>Central%20Senior-Ulven-Wang-Neg-Lakeland%20Wes...</td>\n",
              "      <td>./documents/hspolicy21/CentralSenior/UlWa/Cent...</td>\n",
              "      <td>PROCESSED</td>\n",
              "      <td>16505.0</td>\n",
              "    </tr>\n",
              "    <tr>\n",
              "      <th>15711</th>\n",
              "      <td>2022-08-27 03:05:25.236</td>\n",
              "      <td>2022-09-05 00:49:39.965</td>\n",
              "      <td>HIVXCJAB</td>\n",
              "      <td>Damien-Murphy-Augustin-Neg-Grapevine-Round1</td>\n",
              "      <td>./documents/hspolicy21/Damien/MuAu/Damien-Murp...</td>\n",
              "      <td>PROCESSED</td>\n",
              "      <td>17064.0</td>\n",
              "    </tr>\n",
              "    <tr>\n",
              "      <th>15907</th>\n",
              "      <td>2022-08-27 03:55:11.789</td>\n",
              "      <td>2022-09-05 00:51:21.619</td>\n",
              "      <td>RWSGWLYL</td>\n",
              "      <td>Ferris-millar-toillion-Neg-e-long%20beach-Round5</td>\n",
              "      <td>./documents/hspolicy21/Ferris/mito/Ferris-mill...</td>\n",
              "      <td>PROCESSED</td>\n",
              "      <td>17485.0</td>\n",
              "    </tr>\n",
              "    <tr>\n",
              "      <th>16535</th>\n",
              "      <td>2022-08-27 14:19:34.389</td>\n",
              "      <td>2022-09-05 00:53:21.837</td>\n",
              "      <td>133E07AB</td>\n",
              "      <td>Heights-Waters-Kuffner-Neg-UH%20Cougar%20Class...</td>\n",
              "      <td>./documents/hspolicy21/Heights/WaKu/Heights-Wa...</td>\n",
              "      <td>PROCESSED</td>\n",
              "      <td>18761.0</td>\n",
              "    </tr>\n",
              "    <tr>\n",
              "      <th>16538</th>\n",
              "      <td>2022-08-27 14:20:11.487</td>\n",
              "      <td>2022-09-05 00:53:22.214</td>\n",
              "      <td>IAMDH3Z3</td>\n",
              "      <td>Heights-Waters-Kuffner-Neg-UH%20Cougar%20Class...</td>\n",
              "      <td>./documents/hspolicy21/Heights/WaKu/Heights-Wa...</td>\n",
              "      <td>PROCESSED</td>\n",
              "      <td>18760.0</td>\n",
              "    </tr>\n",
              "    <tr>\n",
              "      <th>16539</th>\n",
              "      <td>2022-08-27 14:20:24.521</td>\n",
              "      <td>2022-09-05 00:53:23.141</td>\n",
              "      <td>IDM77RF_</td>\n",
              "      <td>Heights-Waters-Kuffner-Neg-UH%20Cougar%20Class...</td>\n",
              "      <td>./documents/hspolicy21/Heights/WaKu/Heights-Wa...</td>\n",
              "      <td>PROCESSED</td>\n",
              "      <td>18756.0</td>\n",
              "    </tr>\n",
              "    <tr>\n",
              "      <th>16555</th>\n",
              "      <td>2022-08-27 14:23:56.129</td>\n",
              "      <td>2022-09-05 00:53:36.670</td>\n",
              "      <td>JSXMK8ZT</td>\n",
              "      <td>Heights-Waters-Kuffner-Neg-Grapevine-Round4</td>\n",
              "      <td>./documents/hspolicy21/Heights/WaKu/Heights-Wa...</td>\n",
              "      <td>PROCESSED</td>\n",
              "      <td>18782.0</td>\n",
              "    </tr>\n",
              "    <tr>\n",
              "      <th>16560</th>\n",
              "      <td>2022-08-27 14:24:59.274</td>\n",
              "      <td>2022-09-05 00:53:38.839</td>\n",
              "      <td>VJCZUHGE</td>\n",
              "      <td>Heights-Waters-Kuffner-Neg-UT%20Longhorn%20Cla...</td>\n",
              "      <td>./documents/hspolicy21/Heights/WaKu/Heights-Wa...</td>\n",
              "      <td>PROCESSED</td>\n",
              "      <td>18783.0</td>\n",
              "    </tr>\n",
              "    <tr>\n",
              "      <th>16744</th>\n",
              "      <td>2022-08-27 15:08:44.026</td>\n",
              "      <td>2022-09-05 00:56:33.276</td>\n",
              "      <td>ZHWMJ5NL</td>\n",
              "      <td>Kent%20Denver-Agarwala-Hughes-Neg-03-UNLV-Round1</td>\n",
              "      <td>./documents/hspolicy21/KentDenver/AgHu/Kent%20...</td>\n",
              "      <td>PROCESSED</td>\n",
              "      <td>19850.0</td>\n",
              "    </tr>\n",
              "    <tr>\n",
              "      <th>16893</th>\n",
              "      <td>2022-08-27 15:40:13.054</td>\n",
              "      <td>2022-09-05 00:58:23.765</td>\n",
              "      <td>WXHZBKBH</td>\n",
              "      <td>Lansing-Corrigan-Svedarsky-Neg-4%20-%20Glenbro...</td>\n",
              "      <td>./documents/hspolicy21/Lansing/CoSv/Lansing-Co...</td>\n",
              "      <td>PROCESSED</td>\n",
              "      <td>20180.0</td>\n",
              "    </tr>\n",
              "    <tr>\n",
              "      <th>16895</th>\n",
              "      <td>2022-08-27 15:40:49.137</td>\n",
              "      <td>2022-09-05 00:58:24.470</td>\n",
              "      <td>VBNHZ6O_</td>\n",
              "      <td>Lansing-Corrigan-Svedarsky-Neg-4%20-%20Glenbro...</td>\n",
              "      <td>./documents/hspolicy21/Lansing/CoSv/Lansing-Co...</td>\n",
              "      <td>PROCESSED</td>\n",
              "      <td>20181.0</td>\n",
              "    </tr>\n",
              "    <tr>\n",
              "      <th>16950</th>\n",
              "      <td>2022-08-27 15:53:07.074</td>\n",
              "      <td>2022-09-05 00:58:30.585</td>\n",
              "      <td>UE6VXPQV</td>\n",
              "      <td>Lawrence-Sand-Shew-Neg-BVSW-Round1</td>\n",
              "      <td>./documents/hspolicy21/Lawrence/SaSh/Lawrence-...</td>\n",
              "      <td>PROCESSED</td>\n",
              "      <td>20329.0</td>\n",
              "    </tr>\n",
              "    <tr>\n",
              "      <th>16940</th>\n",
              "      <td>2022-08-27 15:51:01.695</td>\n",
              "      <td>2022-09-05 00:58:36.176</td>\n",
              "      <td>HC98XI7G</td>\n",
              "      <td>Lawrence-Riggins-Viloria-Neg-Blue%20Valley%20S...</td>\n",
              "      <td>./documents/hspolicy21/Lawrence/RiVi/Lawrence-...</td>\n",
              "      <td>PROCESSED</td>\n",
              "      <td>20303.0</td>\n",
              "    </tr>\n",
              "    <tr>\n",
              "      <th>16942</th>\n",
              "      <td>2022-08-27 15:51:26.767</td>\n",
              "      <td>2022-09-05 00:58:36.081</td>\n",
              "      <td>OSLUV8JF</td>\n",
              "      <td>Lawrence-Riggins-Viloria-Neg-Washburn%20Rural-...</td>\n",
              "      <td>./documents/hspolicy21/Lawrence/RiVi/Lawrence-...</td>\n",
              "      <td>PROCESSED</td>\n",
              "      <td>20309.0</td>\n",
              "    </tr>\n",
              "    <tr>\n",
              "      <th>16959</th>\n",
              "      <td>2022-08-27 15:55:12.486</td>\n",
              "      <td>2022-09-05 00:58:36.692</td>\n",
              "      <td>UMOZVUEC</td>\n",
              "      <td>Lawrence-Shew-Viloria-Neg-Derby-Round1</td>\n",
              "      <td>./documents/hspolicy21/Lawrence/ShVi/Lawrence-...</td>\n",
              "      <td>PROCESSED</td>\n",
              "      <td>20345.0</td>\n",
              "    </tr>\n",
              "    <tr>\n",
              "      <th>16960</th>\n",
              "      <td>2022-08-27 15:55:24.526</td>\n",
              "      <td>2022-09-05 00:58:36.959</td>\n",
              "      <td>W5U_0CUP</td>\n",
              "      <td>Lawrence-Shew-Viloria-Neg-Derby-Round3</td>\n",
              "      <td>./documents/hspolicy21/Lawrence/ShVi/Lawrence-...</td>\n",
              "      <td>PROCESSED</td>\n",
              "      <td>20350.0</td>\n",
              "    </tr>\n",
              "    <tr>\n",
              "      <th>16965</th>\n",
              "      <td>2022-08-27 15:56:26.716</td>\n",
              "      <td>2022-09-05 00:58:38.996</td>\n",
              "      <td>B-LB0GRH</td>\n",
              "      <td>Lawrence-Shew-Viloria-Neg-Glenbrooks-Round3</td>\n",
              "      <td>./documents/hspolicy21/Lawrence/ShVi/Lawrence-...</td>\n",
              "      <td>PROCESSED</td>\n",
              "      <td>20361.0</td>\n",
              "    </tr>\n",
              "    <tr>\n",
              "      <th>16968</th>\n",
              "      <td>2022-08-27 15:57:03.802</td>\n",
              "      <td>2022-09-05 00:58:39.307</td>\n",
              "      <td>U72DF2V8</td>\n",
              "      <td>Lawrence-Shew-Viloria-Neg-Glenbrooks-Round2</td>\n",
              "      <td>./documents/hspolicy21/Lawrence/ShVi/Lawrence-...</td>\n",
              "      <td>PROCESSED</td>\n",
              "      <td>20355.0</td>\n",
              "    </tr>\n",
              "  </tbody>\n",
              "</table>\n",
              "</div>\n",
              "      <button class=\"colab-df-convert\" onclick=\"convertToInteractive('df-1859921b-659d-4357-82d6-a22e4859212b')\"\n",
              "              title=\"Convert this dataframe to an interactive table.\"\n",
              "              style=\"display:none;\">\n",
              "        \n",
              "  <svg xmlns=\"http://www.w3.org/2000/svg\" height=\"24px\"viewBox=\"0 0 24 24\"\n",
              "       width=\"24px\">\n",
              "    <path d=\"M0 0h24v24H0V0z\" fill=\"none\"/>\n",
              "    <path d=\"M18.56 5.44l.94 2.06.94-2.06 2.06-.94-2.06-.94-.94-2.06-.94 2.06-2.06.94zm-11 1L8.5 8.5l.94-2.06 2.06-.94-2.06-.94L8.5 2.5l-.94 2.06-2.06.94zm10 10l.94 2.06.94-2.06 2.06-.94-2.06-.94-.94-2.06-.94 2.06-2.06.94z\"/><path d=\"M17.41 7.96l-1.37-1.37c-.4-.4-.92-.59-1.43-.59-.52 0-1.04.2-1.43.59L10.3 9.45l-7.72 7.72c-.78.78-.78 2.05 0 2.83L4 21.41c.39.39.9.59 1.41.59.51 0 1.02-.2 1.41-.59l7.78-7.78 2.81-2.81c.8-.78.8-2.07 0-2.86zM5.41 20L4 18.59l7.72-7.72 1.47 1.35L5.41 20z\"/>\n",
              "  </svg>\n",
              "      </button>\n",
              "      \n",
              "  <style>\n",
              "    .colab-df-container {\n",
              "      display:flex;\n",
              "      flex-wrap:wrap;\n",
              "      gap: 12px;\n",
              "    }\n",
              "\n",
              "    .colab-df-convert {\n",
              "      background-color: #E8F0FE;\n",
              "      border: none;\n",
              "      border-radius: 50%;\n",
              "      cursor: pointer;\n",
              "      display: none;\n",
              "      fill: #1967D2;\n",
              "      height: 32px;\n",
              "      padding: 0 0 0 0;\n",
              "      width: 32px;\n",
              "    }\n",
              "\n",
              "    .colab-df-convert:hover {\n",
              "      background-color: #E2EBFA;\n",
              "      box-shadow: 0px 1px 2px rgba(60, 64, 67, 0.3), 0px 1px 3px 1px rgba(60, 64, 67, 0.15);\n",
              "      fill: #174EA6;\n",
              "    }\n",
              "\n",
              "    [theme=dark] .colab-df-convert {\n",
              "      background-color: #3B4455;\n",
              "      fill: #D2E3FC;\n",
              "    }\n",
              "\n",
              "    [theme=dark] .colab-df-convert:hover {\n",
              "      background-color: #434B5C;\n",
              "      box-shadow: 0px 1px 3px 1px rgba(0, 0, 0, 0.15);\n",
              "      filter: drop-shadow(0px 1px 2px rgba(0, 0, 0, 0.3));\n",
              "      fill: #FFFFFF;\n",
              "    }\n",
              "  </style>\n",
              "\n",
              "      <script>\n",
              "        const buttonEl =\n",
              "          document.querySelector('#df-1859921b-659d-4357-82d6-a22e4859212b button.colab-df-convert');\n",
              "        buttonEl.style.display =\n",
              "          google.colab.kernel.accessAllowed ? 'block' : 'none';\n",
              "\n",
              "        async function convertToInteractive(key) {\n",
              "          const element = document.querySelector('#df-1859921b-659d-4357-82d6-a22e4859212b');\n",
              "          const dataTable =\n",
              "            await google.colab.kernel.invokeFunction('convertToInteractive',\n",
              "                                                     [key], {});\n",
              "          if (!dataTable) return;\n",
              "\n",
              "          const docLinkHtml = 'Like what you see? Visit the ' +\n",
              "            '<a target=\"_blank\" href=https://colab.research.google.com/notebooks/data_table.ipynb>data table notebook</a>'\n",
              "            + ' to learn more about interactive tables.';\n",
              "          element.innerHTML = '';\n",
              "          dataTable['output_type'] = 'display_data';\n",
              "          await google.colab.output.renderOutput(dataTable, element);\n",
              "          const docLink = document.createElement('div');\n",
              "          docLink.innerHTML = docLinkHtml;\n",
              "          element.appendChild(docLink);\n",
              "        }\n",
              "      </script>\n",
              "    </div>\n",
              "  </div>\n",
              "  "
            ]
          },
          "metadata": {},
          "execution_count": 71
        }
      ],
      "source": [
        "evByFile = evClean.set_index(['fileId', 'id'])\n",
        "# evByFile.loc[fileIds[blocks == 1]]\n",
        "fClean.loc[fileIds[blocks == 8]]"
      ]
    },
    {
      "cell_type": "code",
      "execution_count": null,
      "metadata": {
        "id": "kdei8Nks8IKN"
      },
      "outputs": [],
      "source": [
        "frBuckets = (evClean[evClean['tag'].str.contains('fracking')]).groupby('bucketId').size().sort_values(ascending=False)\n",
        "frI = bucketIndexes[frBuckets.index[0]]\n",
        "showBucketSeries(buckets[blocks == frI], indexes=range(10))"
      ]
    },
    {
      "cell_type": "code",
      "source": [
        "d = state.draw(output=f\"{DATA_PATH}_blocksF_{datetime.now()}.pdf\")"
      ],
      "metadata": {
        "id": "OjrWzJZHZqtb"
      },
      "execution_count": null,
      "outputs": []
    },
    {
      "cell_type": "code",
      "source": [
        "state.draw(output=f\"{DATA_PATH}_blocksF_{datetime.now()}.png\")"
      ],
      "metadata": {
        "colab": {
          "base_uri": "https://localhost:8080/"
        },
        "id": "WFAQyuTxZ1Tc",
        "outputId": "3abaa940-452a-4ea5-c62e-0f9ab521ea58"
      },
      "execution_count": null,
      "outputs": [
        {
          "output_type": "execute_result",
          "data": {
            "text/plain": [
              "<VertexPropertyMap object with value type 'vector<double>', for Graph 0x7f4ea551b390, at 0x7f4e85fa5ed0>"
            ]
          },
          "metadata": {},
          "execution_count": 16
        }
      ]
    },
    {
      "cell_type": "code",
      "source": [
        "layout = gt.sfdp_layout(gt.extract_largest_component(g), groups=state.get_blocks())\n",
        "layout"
      ],
      "metadata": {
        "colab": {
          "base_uri": "https://localhost:8080/"
        },
        "id": "df2nZG2z1xOa",
        "outputId": "fc1b318a-7e08-4a3d-ef7c-c1883a911fad"
      },
      "execution_count": null,
      "outputs": [
        {
          "output_type": "execute_result",
          "data": {
            "text/plain": [
              "<VertexPropertyMap object with value type 'vector<double>', for Graph 0x7f4ea551b390, at 0x7f4e85fbb3d0>"
            ]
          },
          "metadata": {},
          "execution_count": 20
        }
      ]
    },
    {
      "cell_type": "code",
      "source": [
        "gt.graph_draw(gt.extract_largest_component(g), pos=layout, output=f\"{DATA_PATH}_blocksF_{datetime.now()}.png\")"
      ],
      "metadata": {
        "colab": {
          "base_uri": "https://localhost:8080/"
        },
        "id": "dq43ooBQ3L9z",
        "outputId": "b921b8c3-32a6-4425-b589-4cbe58fa95ae"
      },
      "execution_count": null,
      "outputs": [
        {
          "output_type": "execute_result",
          "data": {
            "text/plain": [
              "<VertexPropertyMap object with value type 'vector<double>', for Graph 0x7f4ea551b390, at 0x7f4e853cf250>"
            ]
          },
          "metadata": {},
          "execution_count": 23
        }
      ]
    },
    {
      "cell_type": "code",
      "source": [
        "gt.graph_draw(gt.extract_largest_component(g), pos=layout, output=f\"{DATA_PATH}_blocksF_{datetime.now()}.pdf\")"
      ],
      "metadata": {
        "colab": {
          "base_uri": "https://localhost:8080/"
        },
        "id": "BttKbsN44waA",
        "outputId": "566a6cd5-2722-4625-ff85-34711fa873fb"
      },
      "execution_count": null,
      "outputs": [
        {
          "output_type": "execute_result",
          "data": {
            "text/plain": [
              "<VertexPropertyMap object with value type 'vector<double>', for Graph 0x7f4eb322d750, at 0x7f4e875009d0>"
            ]
          },
          "metadata": {},
          "execution_count": 24
        }
      ]
    },
    {
      "cell_type": "code",
      "source": [
        "gt.graph_draw(gt.extract_largest_component(g), pos=layout, output=f\"{DATA_PATH}_blocksF_{datetime.now()}.svg\")"
      ],
      "metadata": {
        "colab": {
          "base_uri": "https://localhost:8080/",
          "height": 366
        },
        "id": "YuxVvtXU41t0",
        "outputId": "33a2f221-63a6-488d-8747-b21282592324"
      },
      "execution_count": null,
      "outputs": [
        {
          "output_type": "error",
          "ename": "cairo.MemoryError",
          "evalue": "ignored",
          "traceback": [
            "\u001b[0;31m---------------------------------------------------------------------------\u001b[0m",
            "\u001b[0;31mcairo.MemoryError\u001b[0m                         Traceback (most recent call last)",
            "\u001b[0;32m<ipython-input-25-a7dc2a701c97>\u001b[0m in \u001b[0;36m<module>\u001b[0;34m\u001b[0m\n\u001b[0;32m----> 1\u001b[0;31m \u001b[0mgt\u001b[0m\u001b[0;34m.\u001b[0m\u001b[0mgraph_draw\u001b[0m\u001b[0;34m(\u001b[0m\u001b[0mgt\u001b[0m\u001b[0;34m.\u001b[0m\u001b[0mextract_largest_component\u001b[0m\u001b[0;34m(\u001b[0m\u001b[0mg\u001b[0m\u001b[0;34m)\u001b[0m\u001b[0;34m,\u001b[0m \u001b[0mpos\u001b[0m\u001b[0;34m=\u001b[0m\u001b[0mlayout\u001b[0m\u001b[0;34m,\u001b[0m \u001b[0moutput\u001b[0m\u001b[0;34m=\u001b[0m\u001b[0;34mf\"{DATA_PATH}_blocksF_{datetime.now()}.svg\"\u001b[0m\u001b[0;34m)\u001b[0m\u001b[0;34m\u001b[0m\u001b[0;34m\u001b[0m\u001b[0m\n\u001b[0m",
            "\u001b[0;32m/usr/lib/python3/dist-packages/graph_tool/draw/cairo_draw.py\u001b[0m in \u001b[0;36mgraph_draw\u001b[0;34m(g, pos, vprops, eprops, vorder, eorder, nodesfirst, output_size, fit_view, fit_view_ink, adjust_aspect, ink_scale, inline, inline_scale, mplfig, output, fmt, bg_color, **kwargs)\u001b[0m\n\u001b[1;32m   1207\u001b[0m             \u001b[0msrf\u001b[0m\u001b[0;34m.\u001b[0m\u001b[0mwrite_to_png\u001b[0m\u001b[0;34m(\u001b[0m\u001b[0mout\u001b[0m\u001b[0;34m)\u001b[0m\u001b[0;34m\u001b[0m\u001b[0;34m\u001b[0m\u001b[0m\n\u001b[1;32m   1208\u001b[0m         \u001b[0;32melif\u001b[0m \u001b[0mfmt\u001b[0m \u001b[0;34m==\u001b[0m \u001b[0;34m\"svg\"\u001b[0m\u001b[0;34m:\u001b[0m\u001b[0;34m\u001b[0m\u001b[0;34m\u001b[0m\u001b[0m\n\u001b[0;32m-> 1209\u001b[0;31m             \u001b[0msrf\u001b[0m\u001b[0;34m.\u001b[0m\u001b[0mfinish\u001b[0m\u001b[0;34m(\u001b[0m\u001b[0;34m)\u001b[0m\u001b[0;34m\u001b[0m\u001b[0;34m\u001b[0m\u001b[0m\n\u001b[0m\u001b[1;32m   1210\u001b[0m \u001b[0;34m\u001b[0m\u001b[0m\n\u001b[1;32m   1211\u001b[0m         \u001b[0;32mdel\u001b[0m \u001b[0mcr\u001b[0m\u001b[0;34m\u001b[0m\u001b[0;34m\u001b[0m\u001b[0m\n",
            "\u001b[0;31mcairo.MemoryError\u001b[0m: out of memory"
          ]
        }
      ]
    },
    {
      "cell_type": "code",
      "source": [
        "# #  Copied from state.draw\n",
        "# gradient = g.new_ep(\"double\")\n",
        "# group_vector_property([gradient]\n",
        "#                       )"
      ],
      "metadata": {
        "id": "4SKlUeyM3Swq"
      },
      "execution_count": null,
      "outputs": []
    },
    {
      "cell_type": "markdown",
      "metadata": {
        "id": "UrRKyeIN80oS"
      },
      "source": [
        "###### Nested Block build"
      ]
    },
    {
      "cell_type": "code",
      "execution_count": null,
      "metadata": {
        "colab": {
          "base_uri": "https://localhost:8080/"
        },
        "id": "n6Xti8qy84Ji",
        "outputId": "1851e8b2-d7a3-4057-f459-5cdf09626320"
      },
      "outputs": [
        {
          "output_type": "stream",
          "name": "stdout",
          "text": [
            "2083396.9862352456\n"
          ]
        },
        {
          "output_type": "execute_result",
          "data": {
            "text/plain": [
              "<NestedBlockState object, with base <BlockState object with 6914 blocks (226 nonempty), degree-corrected, with 1 edge covariate, for graph <Graph object, directed, with 6914 vertices and 649256 edges, 1 internal edge property, at 0x7ff6c945e550>, at 0x7ff6c646b5d0>, and 14 levels of sizes [(6914, 226), (226, 102), (102, 39), (39, 14), (14, 5), (5, 2), (2, 1), (1, 1), (1, 1), (1, 1), (1, 1), (1, 1), (1, 1), (1, 1)] at 0x7ff6c646b510>"
            ]
          },
          "metadata": {},
          "execution_count": 24
        }
      ],
      "source": [
        "nested_state = gt.minimize_nested_blockmodel_dl(g, state_args=dict(recs=[weights], rec_types=[weight_distribution]))\n",
        "print(nested_state.entropy())\n",
        "nested_state"
      ]
    },
    {
      "cell_type": "code",
      "execution_count": null,
      "metadata": {
        "colab": {
          "base_uri": "https://localhost:8080/",
          "height": 442,
          "referenced_widgets": [
            "2cf4ca7474f246cd96113728f8350608",
            "9f789ca7026c410f97c2a15971094d08",
            "0a948137411a48dcaaf976d56505cf8e",
            "1d2acff0137b4355b72f7bc221acc3ec",
            "f8907301750447f8b7a221c31824851d",
            "e4c5ddf1063e47c4b0c865b61de4372f",
            "c862cafa74f24635b91f7d4be6b539f1",
            "d1cc5b983e384323857c9d857f830d97",
            "bd715e1ed9ef4d9491613c01f6720c8c",
            "ba2be7333c354b0da652b1b75bda63f5",
            "70cc6a35ff834516a2a9a8d7d614bb5a"
          ]
        },
        "id": "cj5ScLhwClDa",
        "outputId": "d4c1b303-00f8-445a-a95b-5721ad9d78c3"
      },
      "outputs": [
        {
          "output_type": "display_data",
          "data": {
            "text/plain": [
              "  0%|          | 0/20 [00:00<?, ?it/s]"
            ],
            "application/vnd.jupyter.widget-view+json": {
              "version_major": 2,
              "version_minor": 0,
              "model_id": "2cf4ca7474f246cd96113728f8350608"
            }
          },
          "metadata": {}
        },
        {
          "output_type": "stream",
          "name": "stdout",
          "text": [
            "-4398.612545502838\n",
            "-3385.9154702406377\n",
            "-2229.954013719922\n",
            "-1105.3674165925477\n",
            "-1160.8766333849635\n",
            "-818.3903244836256\n",
            "-1146.4674969969783\n",
            "-858.8430651954841\n",
            "-721.0545054152608\n",
            "-471.8774750442244\n",
            "-322.0952326825354\n",
            "-264.6521217180416\n",
            "-240.17187037295662\n",
            "-385.96693924744613\n",
            "-297.1826863803435\n",
            "-132.9343608720228\n",
            "-360.8656894455198\n",
            "-265.7461203993298\n",
            "-606.2727568401024\n",
            "-188.99953594990075\n",
            "Total: \n"
          ]
        },
        {
          "output_type": "execute_result",
          "data": {
            "text/plain": [
              "-19362.24626048468"
            ]
          },
          "metadata": {},
          "execution_count": 25
        }
      ],
      "source": [
        "s1 = nested_state.entropy()\n",
        "last = s1\n",
        "for _ in tqdm(range(20)):\n",
        "  nested_state.multiflip_mcmc_sweep(beta=np.inf, niter=10)\n",
        "  print(nested_state.entropy() - last)\n",
        "  last = nested_state.entropy()\n",
        "\n",
        "print(\"Total: \")\n",
        "nested_state.entropy() - s1"
      ]
    },
    {
      "cell_type": "markdown",
      "metadata": {
        "id": "sk_9xmrbDWYQ"
      },
      "source": [
        "###### Nested Block Analzye"
      ]
    },
    {
      "cell_type": "code",
      "execution_count": null,
      "metadata": {
        "colab": {
          "base_uri": "https://localhost:8080/"
        },
        "id": "ZJH_H7IGDVgX",
        "outputId": "085c547c-1168-479b-ee3b-9770aea00418"
      },
      "outputs": [
        {
          "output_type": "execute_result",
          "data": {
            "text/plain": [
              "2064034.739974761"
            ]
          },
          "metadata": {},
          "execution_count": 26
        }
      ],
      "source": [
        "nested_state.entropy()"
      ]
    },
    {
      "cell_type": "code",
      "execution_count": null,
      "metadata": {
        "colab": {
          "base_uri": "https://localhost:8080/"
        },
        "id": "xeNuuZZzGt5M",
        "outputId": "7901c387-4a34-4cc8-efec-a71f1670e44a"
      },
      "outputs": [
        {
          "output_type": "stream",
          "name": "stdout",
          "text": [
            "l: 0, N: 6914, B: 233\n",
            "l: 1, N: 233, B: 100\n",
            "l: 2, N: 100, B: 33\n",
            "l: 3, N: 33, B: 11\n",
            "l: 4, N: 11, B: 5\n",
            "l: 5, N: 5, B: 3\n",
            "l: 6, N: 3, B: 2\n",
            "l: 7, N: 2, B: 1\n",
            "l: 8, N: 1, B: 1\n"
          ]
        }
      ],
      "source": [
        "nested_state.print_summary()"
      ]
    },
    {
      "cell_type": "code",
      "execution_count": null,
      "metadata": {
        "id": "R7PqyceQW7AY"
      },
      "outputs": [],
      "source": [
        "levels = [np.array(list(gt.contiguous_map(level.get_blocks()))) for level in nested_state.get_levels()]\n",
        "levelsNc = [np.array(list(level.get_blocks())) for level in nested_state.get_levels()]"
      ]
    },
    {
      "cell_type": "code",
      "execution_count": null,
      "metadata": {
        "colab": {
          "base_uri": "https://localhost:8080/",
          "height": 1000
        },
        "id": "UBJ_g38hXoTJ",
        "outputId": "97ba7d76-77ea-4455-e0f9-8244ad0772d0"
      },
      "outputs": [
        {
          "data": {
            "text/html": [
              "<div style='display: flex; height: 1000px'><div style='padding: 10px; flex: 1 1 0; overflow: scroll;'><h4>Unconscious desires is the <u>root cause</u> for climate change</h4><p>Sally <strong>Weintrobe on </strong>Michale <strong>Rustin,</strong> 09-24-20<strong>12</strong>, “Engaging with Climate Change: Psychoanalytic and Interdiscplinary Perspectives.” Taylor & Francis, https://books.google.com/books?id=A83XG_O0RSkC&pg=PA196&lpg=PA196&dq=%22unconscious+feeling+have+a+causal+role+within+structures%22&source=bl&ots=KVex0y-GMl&sig=ACfU3U0HRl0tvJqY2kYPWpxDKGW194l_0w&hl=en&sa=X&ved=2ahUKEwi0qp6ikv_xAhX3QzABHc21BxEQ6AEwAHoECAIQAw#v=onepage&q&f=false,smarx AZG</p><p>How is <u>climate change an <strong>issue for psychoanalysis</u></strong>? Michael Rustin My chapter, and indeed most of this book, seeks to address one principal perspec tive on the problems of climate change, which is that <u>provided by psychoanalytic thinking</u>. It is <u>not proposed that this dimension of explanation should have priority over others, merely that it may add something further to our understanding</u>. I agree with much of what both Ted Benton and Jon Alexander have to say about the political economy of these issues. <u>Changing the direction of a political and economic system dedicated above all to the expansion of material production is formidably diffi cult, and also without doubt necessary.</u> The question is whether some part of the <u>explanation of how these systems function can be provided by reference to unconscious structures of mind</u>. By <u>unconscious structures of mind one is referring to the irrational, to elements</u> of what Slavoj Zizek (1990) calls ‘excess’. The conception is that structures of <u>unconscious feeling have a causal role within structures of power, <strong>shaping opinion,</strong> sharply defi ning friends and enemies, and often driving the capacity for rational discrimination out of mind.</u> The mentalities evoked in the ‘war on terror’ are such an instance. Benton claims that ‘Segal’s expectation that the end of the Cold War would give way to new objects of hostility to replace the Soviet Union was widely shared.’ Was it, at the time of the fi rst Gulf War in 1990? It was because Segal had such a clear grasp of the paranoid-schizoid structures of mind in which the Cold War had been framed that she could see so quickly that what was really happening under the cover of protecting Kuwait was the redirection of these same mentalities. I agree that the grounding of such conceptions of unconscious states of mind is diffi cult. But if an effect is very powerful<u>, it is better to seek an approximate understanding of it than none at all.</u> Benton acknowledges that <u>elites ‘promote hostility to external enemies’</u> – this indeed is one way in which <u>irrational emotions become mobilized as powerful social forces. Such</u> structures of feeling <u>are also relevant in the context of the environmental crisis</u>. How would this not be so, <u>given the enormity of what is at stake</u>? One way of approaching this issue would have been to <u>focus attention merely on the irra tional ways of thinking</u> of those most blind to, or even <u>culpable for, damage to the environment</u>. In his 1938 text on Nazi propaganda, Theodor Adorno (1951) gave a brilliant example of a psychoanalytic analysis of the methods of his undoubted foes which was at the same time a profound political critique of fascist mentali ties. But I wanted to pursue a different approach, to consider the possible rele vance of these perspectives to those on different sides of these arguments, rather than seek to deploy them as aspect of political polemic. Benton’s description of my approach as ‘a very useful argumentative strategy’ conveys that he thought I was doing this anyway, though this was not my intention. I outlined opposed ‘ideal typical’ defi nitions of this issue, citing various sources for these, but this is because I believe that these traditions are historically and culturally important and provide resources for thinking about these issues. It is not a matter of taking sides between them. I was glad to see that at the end of his piece Benton noted, despite his earlier reservations about psychoanalytic thinking, that <u>this perspective could make a valuable contribution to understanding the extreme states of anxiety that we may well encounter as the environmental crisis evolves.</u> The point about <u>paranoid-schizoid and depressive states of mind is that they are universal dispositions, as likely to have relevance to understanding our own ways of thinking as those of others. It is not a matter of pathologizing one’s opponents</u>. Naomi Klein is an indispensable writer and campaigner, but nevertheless, what the newspaper article of hers that I quoted was doing, through its metaphor of a rape of the sea bed, was to mobilize emotions. This was also the style of the fi erce reported debate in the United States about opencast mining. To make this obser vation does not make one indifferent to the arguments about oil exploration under the sea, or about the excesses of coal-mining companies. The reason I referred to popular polemics is because so far as unconscious states of mind are concerned, I wanted to focus on widely shared public mentalities, not on the well-informed debates of the seminar room. The idea referred to by Benton that there are structural as well as <u>motivational reasons that make capitalism destructive of environments is an important one</u>. It is indeed a great problem that the <u>calculus of costs and benefi ts deployed in markets often treats as ‘free goods’ environmental resources that are of immense value</u>. However, although I would generally be on his side in most arguments about the role of democratic and political constraints on markets, I do not think it is defensible to assign all the benefi ts that capitalism has brought to those who have resisted the impact of markets and none to the energies and inventiveness of capitalism itself. There are also political risks in formulating the environmentalist case in polemically anti-capitalist terms. In the wider public world, it seems to me that the polarity of destructive mankind and defenceless nature continues to have purchase, even though we all agree that this does not accurately describe the reality of this relationship. Evidence for this popular state of mind is provided in Jon Alexander’s commen tary, in his description of the RSPB’s (one million plus members, including myself) latest report, which sets ‘<u>Nature as a pure object to be protected’, with ‘at least some places “to be saved” from the impact of man.</u>’ I think all three of us probably agree that the point is to see mankind as one element of Nature, but with huge responsibilities for all of it (on this planet, at least). The idea of Nature, and <u>the question of how we should relate to it, is a very complex one,</u> and Alexander argues eloquently for a fully holistic conception. Aspects of Nature that have been shaped by human action can be valued as deeply as those that have hitherto been untouched. The projects for conservation that he describes seem admirable ways of nurturing this feeling of responsibility through practices. Reference Adorno , T. ( 1951 ) Freudian Theory and the Pattern of Fascist Propaganda . Reprinted in T. Adorno and J. M. Bernstein , The Culture Industry (pp. 132 – 157 ). London : Routledge , 2001 . Zizek , S. ( 1990 ) Eastern Europe’s Republics of Gilead . New Left Review , 183 : 50 – 62 .</p></div>\n",
              "<div style='padding: 10px; flex: 1 1 0; overflow: scroll;'><h4>Climate change is a disease <u>bringing eco-anxiety</u> that psychoanalysis must cure-act with discussion and dialogue to solve</h4><p>Anna <strong>Harvey and </strong>Julian<strong> Manley and </strong>Caroline<strong> Hickman,</strong> 12-17-20<strong>20</strong>, respectively Tavistock and Portman NHS, University of Central Lancashire, University of Bath \"Ecology, psychoanalysis and global warming: present and future traumas,\" Taylor & Francis, https://www.tandfonline.com/doi/full/10.1080/02650533.2020.1843418, smarx, AZG</p><p>In December 2018 the Tavistock and Portman Clinic collaborated with the Climate Psychology Alliance to create a conference to address ecological disaster. The conference combined keynote presentations by distinguished scholars in the field with an interdisciplinary panel conversation in order to <u>explore</u> what <u>psychoanalysis,</u> philosophy, science and activism could contribute <u>to our understanding of how to</u> communicate and <u>deal with ecological disaster</u>. It was hoped that an <u><strong>interdisciplinary discussion would open up new ways</u></strong> <u>of thinking about</u> global <u>warming</u> in order <u>to contribute to</u> the sense of <u>growing </u>social, <u>environmental</u>, and personal <u>anxiety</u> that <u>i</u>s <u><strong>emerging as a result of climate change</u></strong>: <u><strong>eco-anxiety. </u></strong>Attendees were invited to take part in work discussion groups following the keynote speeches, alongside group reflections and a social dreaming event so that they could <u>participate in the thinking</u> and feeling <u>about </u>the fears, <u>anxieties,</u> sadness, melancholy, desperation and possible trauma that this existential crisis brings with it. The Tavistock and Portman Clinic, as hosts to this event, is building a commitment to reducing its carbon footprint, with the real possibility of becoming carbon neutral. Paul Jenkins, OBE and Chief Executive is leading the Environmental group at the Clinic, to build an institutional process to deal with the urgent crisis that is upon us. Alongside practical and physical measures the Tavistock is also developing a manifesto which will echo the work of Psychologists for Social Change. Thismanifesto will be committed to addressing the critical need for political change to create the conditions for health and wellbeing, including tackling inequality, austerity, poverty, benefits cruelty and climate and ecological breakdown. This manifestso, and the conference event, are in recognition that the Tavistock as an institution can influence and change the thinking of other organisations in a progressive way. NHS England itself has made a definite plan for its organisations to become sustainable, to have a low carbon impact in the fight against climate change. The Tavistock and Portman would go further than relying on localised policies by urging the UK Government to take note of action from the Welsh Government by bringing in a similar laws to the ‘Wellbeing of future generations’ Act 2015, which makes it incumbent on any public organisation to have the wellbeing of future generations at the heart of their policy and planning processes. There was a <u><strong>huge concern</u></strong> in the conference <u>about </u>the <u>emotional wellbeing</u> of children, families and adults <u>within the context of their environment</u>. This <u><strong>environment is changing and may already have changed beyond return</u></strong>. We, as organisers of the conference and editors of this special edition, believe <u>it is right that we turn our attention and help in some small way to the alleviation of psychic pain inflicted on us by the denial of the human suffering and trauma caused by ecological disaster.</u> This conference was called Ecology, Psychoanalysis and Global Warming: Present and Future Traumas. We considered Ecology in recognition of the simple fact that human beings are part of and utterly dependent on healthy and complex ecosystems and there is nothing more important than the ecosystems we depend upon. Ecology is not just an idea or a branch of biology, it is a realistic approach to seeing the world. The ecological thinking underpinning the conference recognised that humanity, all living organisms and the non-human world, are deeply embedded in interdependent relationships and that the inter-connection between living and non-living systems is a fundamental reality which cannot be denied (Capra, 1996; Lovelock, 2000). To think ecologically would be to place these relationships as central to our understanding of what we mean by ‘world’. And yet, such simple truths are not necessarily obvious to all, or at least they are often ignored in favour of the <u>short-term gain advantages of the capitalist frame of mind and its emphasis on financial gain of the individual whatever the effect on the social and environmental fabric</u>. It may be that the idea is relatively simple, but the complexity is hard to perceive, which is Timothy Morton’s argument in describing such complexities as ‘hyperobjects (Morton, 2013). In this context, therefore, the conference <u>consider</u>ed <u>Psychoanalysis, because</u> the <u>problems that drive ecological disaster originate in a human aggression and hostility to the idea of being dependent on the ecological systems of our shared planet</u>, like an attack on the Kleinian ‘good breast’. <u>Psychoanalysis, </u>or rather a psychosocial approach that brings individual human experience into the realm of the shared social fabric of human systems, can <u>help us understand the social defences and unconscious processes at play in the earth’s destruction.</u> Global <u><strong>Warming is the symptom of this ‘disease’, that needs to be ‘cured’</u></strong>. The ‘<u>body’ of humankind becomes the ‘body’ of the planet</u>, so that illness is interwoven and necessarily shared by human and non-human. It is James Lovelock who considered the world as Gaia, as a living entity. He has suggested that the planet is ‘ill’ in this way (Lovelock, 2005). Whether this is literally, figuratively, scientifically, emotionally or psychologically true is not our direct concern in this special edition. Instead, we are concerned about the result of whatever this illness is. On the one hand, the <u>result of this illness is climate change.</u> On the other hand, the <u>result is</u> mental disturbance and <u>anxiety of the kind that has given rise to Extinction Rebellion and the phenomena of children’s climate strikes and the joining forces of the very young and the very old in</u> the <u>iconic figures</u> of Greta Thunberg and David Attenborough, who are both real and symbolic in their function and power. <u>It is</u> surely <u>our collective mental illness that produces the rise of temperature in the ‘patient’</u>. In this sense, <u>humankind is mentally sick, and the planet is physically sick. People are suffering Present Traumas as a result.</u> Like many others, we at the Tavistock and members of the Climate Psychology Alliance understand that so many people are suffering today as a result of climate change, all over the world, but mainly in the Global South. There, war and displacement and loss are often rooted in conflict over scare resources, as the changes in the climate challenge everyday life, and as power takes precedence over justice. Scarce resources are stolen from those in need and made available for the more fortunate in society, often in the Global North. Today’s refugees are victims of climate change and these present traumas will have intergenerational resonances throughout the generations. Future Traumas is perhaps a concern of the privileged. Those lucky enough to live in the prosperous Global North have the luxury of being worried about their children and grandchildren’s future. It seemed right to us at the Tavistock and Climate Psychology Alliance as organisations concerned with the emotional wellbeing and mental health of our community that we <u><strong>act in some way</u></strong>, to show solidarity with those who are suffering, and to speak, <u>to <strong>create dialogue</strong> around these issues, with the</u> authority, <u>power </u>and privilege that <u>we hold. </u>Given this definition of the problem, we ask: what kind of knowledge do we need to cope with the magnitude of the ecological crisis that is upon us?</p></div>\n",
              "<div style='padding: 10px; flex: 1 1 0; overflow: scroll;'><h4>Coral reefs are resilient:</h4><p>THERESA <strong>MACHEMER</strong>, 6/18/20<strong>18</strong> (freelance writer based in Washington, DC. She studied writing at MIT and her work has appeared in National Geographic, SciShow, “These 38 Coral Reefs Are Thriving, Despite Threats,” https://www.nationalgeographic.com/science/article/38-coral-reefs-thriving-conservation-environment-science, Retrieved 6/12/2021)</p><p><u><mark>There <strong>may be hope for coral reefs</u></strong></mark>. Despite the constant hazards that have devastated coral reefs around the world, <u><mark>some coral communities have still managed to <strong>recover and persevere</u></strong></mark>. In a study released Monday, researchers identify 38 coral “oases” that have escaped, resisted, or rebounded from the threats facing these vital marine ecosystems. An Underdog Story The future has often been bleak for coral reefs. Plastic pollution and overfishing threaten marine ecosystems. As climate change causes the ocean’s temperature to climb, coral reefs undergo mass bleaching events, losing the algae that they rely on for energy. Warmer waters also mean that coral-eating sea stars survive longer, lay more eggs, and cause more damage. Australia’s Great Barrier Reef, the largest reef system in the world (1,400 miles long and over 2,900 individual reefs), has lost half of its coral cover to bleaching and predation since the 1980s. And a study published last year predicts that if carbon emissions continue as usual, all World Heritage reefs may be lost in 30 years, and all coral reefs worldwide may be lost by the end of this century. That coral reefs can still be found flourishing after facing such an onslaught makes the identification of these 38 “oases” all the more encouraging, the scientists say. “Coral reefs are in rapid, global decline, but the severity of degradation is not uniform across the board,” James Guest, a marine biologist from Newcastle University in the U.K. who led the research, says in a press release. “What we have identified are coral reefs that are doing better than their neighbors.” The reasons for each oasis’s success are different, the team noted in their paper, published in the Journal of Applied Ecology. Some have gotten lucky, having never been hit by storms or swarms of ravenous sea stars. Other <u><mark>reefs are particularly hardy, <strong>showing resilience</strong> against threats</u></mark>. But <u><mark>perhaps the most incredible are the <strong>reefs that have recovered</strong> from near-decimation</u></mark>, like the reefs of Moorea, in French Polynesia.</p></div>\n",
              "<div style='padding: 10px; flex: 1 1 0; overflow: scroll;'><h4>Perm shields the link and the CP links to DoD DA – their budgets are <u>synchronized</u> and DoD is essential to security assistance  </h4><p><strong>Doubleday 17</strong> (Justin Doubleday, managing editor of Inside the Pentagon until June 2021, where he focused on defense-wide topics including budgets, acquisition policy, combatant commands, missile defense and cyber, “DOD, State Department establish security assistance steering committee,” Inside the Pentagon , September 28, 2017, Vol. 33, No. 39, pp. 1, 10-11, WC)</p><p><u>The Pentagon and the State Department have set up a high-level group to help <strong>synchronize the two agencies’ control over billions of dollars’ worth of security assistance</strong> to foreign countries</u>.</p><p><u>The Security Sector Assistance Steering Group was established this past spring by Secretary of State Rex Tillerson and Defense Secretary Jim Mattis</u>, according to Todd Harvey, acting assistant secretary of defense for strategy, plans and capabilities. Harvey testified before the Senate Foreign Relations Committee Sept. 26.</p><p><u>The steering committee will help “oversee a collaborative planning process, identifying top national security priorities and synchronizing investments to maximize results</u>,” according to Harvey’s written testimony.</p><p><u>One of the committee’s immediate priorities</u> is to develop a process for fiscal year 2018 security sector assistance planning to “<u>permit State and DOD to validate security assistance requirements for countries that directly support this administration’s top priorities</u>,” according to Tina Kaidanow, acting assistant secretary of state for the bureau of political military affairs. Kaidanow and Harvey are co-chairs of the new steering committee.</p><p><u>The committee will also ensure DOD’s expanding security assistance programs match up with the State Department’s traditional lead role for that function, according to Kaidanow’s testimony. The State Department requested $5.1 billion for Foreign Military Financing in FY-18, with $3.1 billion earmarked for Israel and $1.3 billion planned for Egypt.</p><p></u>But Senate Foreign Relations Committee Ranking Member Ben Cardin (D-MD) expressed concern over the growing security assistance role played by the Pentagon. <u>DOD oversees several security assistance programs</u>, <u>including the $1.5 billion Counter-Islamic State of Iraq and Syria fund and the $4.2 billion Afghanistan Security Forces Fund.</p><p></u>Cardin called such programs “necessary and important,” but worried about the <u><strong>control over security assistance shifting from the State Department to the Pentagon.</p><p></u></strong>“My chief concern, however, <u>is that DOD is setting up an essentially parallel security assistance structure without sufficient State Department oversight, input and coordination</u>,” Cardin said. “<u>Combine this with the current administration’s profoundly unwise proposal to <strong>slash the Department of State’s budget</strong>, <strong>opaque reorganization efforts</strong> and increasing <strong>loss of experienced personnel</strong>, and one could easily see us in a scenario in which the <strong>D</strong>epartment <strong>o</strong>f <strong>D</strong>efense could become the <strong>dominant source of U.S. security assistance.”</p><p></u></strong>Cardin pointed to section 333 of Title 10, which mandates the secretary of state concur with any train-and-equip program proposed by the Pentagon.</p><p><u>The new steering committee will</u> <u>“optimize</u> section 333 military assistance and [Foreign Military Financing] <u>resources to effectively advance national security objectives</u>, leverage each Department’s expertise and authorities, and reinforce our respective requests to Congress,” according to Kaidanow’s testimony.</p><p>“In the longer term<u>, the intent is to strategically integrate State and DOD planning and resourcing processes for a wider range of SSA resources, including by synchronizing budget requests and rationalizing and refining the use of SSA authorities,”</u> her testimony added. -- Justin Doubleday</p></div>\n",
              "<div style='padding: 10px; flex: 1 1 0; overflow: scroll;'><h4>Perm do both – coordination key to access high-demand experts – the counterplan alone fails to solve deterrence </h4><p><strong>Kreuttner et al. 18<u></strong> (Col. Tim Kreuttner, U.S. Army; Lt. Col. Sami Alnaqbi, United Arab Emirates Navy; Lt. Col. Jarrod Knapp, U.S. Air Force; Maj. James Woodard, U.S. Marine Corps“A Joint and Operational Approach for Security Assistance to Georgia and Ukraine,” Military Review, March-April 2018, WC)</p><p></u>The U.S. and NATO’s ability to deliver training, education, and advice at the operational level will face challenges. <u>Synchronization of operational maneuver and the ability to integrate joint capabilities in a coherent campaign is something that even the best militaries have to work hard at to do well.</u> <u>The requisite<strong> expertise</strong> to train partners in operational planning and execution <strong>is not plentiful</strong> and usually resides in combatant command or other major command staffs, with the majority not dedicated to training, exercises, or other security cooperation activities.</p><p>Subject-matter experts capable of leading training are</u> <u><strong>low-density, high-demand assets</u></strong> <u>whose own organizations are often reluctant to part with for “secondary” security cooperation tasks</u>—namely planners, strategists, joint-fires-qualified experts, and other joint doctrine and technical experts. <u>The United States needs to manage the joint and operational expertise closely to</u> <u><strong>leverage the right expertise at the right time while not levying an undue burden on owning organizations</u></strong>. But, for partnerships with Ukraine and Georgia to progress, this is necessary.</p><p><u>Conclusion</p><p></u>Ukraine and Georgia are on the front lines of strategic competition. While the United States and NATO have provided robust tactical training and strategic development over the last twenty years, there is a gap in joint training and development at the operational level. <u>The U.S. and NATO security assistance to these geopolitically key nations contributes to deterrence of Russia</u> while improving the interoperability and capability of important partners. <u><strong>An integrated joint approach to security cooperation</u></strong> <u>focusing at the operational level will strengthen Ukraine and Georgia and serve as an</u> <u><strong>appropriate deterrent to Russian aggression</strong>. A joint approach to partnership programs would significantly enhance the</u> <u><strong>defense capability and interoperability</u></strong> of Ukraine and Georgia to participate <u>in NATO operations and exercises</u>. <u>Expanding combined, joint interoperability at the operational level should be the next critical focus of our partnerships.</p></u></div>\n",
              "<div style='padding: 10px; flex: 1 1 0; overflow: scroll;'><h4>The United States federal government should designate rivers as legal persons, implemented through a comanagement framework. </h4></div>\n",
              "<div style='padding: 10px; flex: 1 1 0; overflow: scroll;'><h4>Strong rights of nature get <u>modeled globally</u> due to <u>judicial borrowing</u>---that’s key to overcome growth economics worldwide </h4><p>Mark <strong>Hawkins 21</strong>, MSc in Environment, Politics and Development from the University of London, January 2021, “Imagining a Post-Development Future: What can the Degrowth and Rights of Nature Debates Offer Each Other,” https://www.researchgate.net/publication/348785651_Imagining_a_Post-Development_Future_What_can_the_Degrowth_and_Rights_of_Nature_Debates_Offer_Each_Other</p><p><u>The <mark>RoN, unlike degrowth, have</mark> real world <mark>examples of</mark> its <mark>implementation</u></mark>, most notably in the constitutions of Ecuador and Bolivia. <u>Its greatest strength is that <mark>it addresses a key weakness in</mark> modern <mark>environmental law: it is difficult to show one's rights have been damaged by</mark> the <mark>destruction</mark> or spoiling <mark>of a</mark> natural <mark>biome</u></mark>. One of the first mentions of the RoN was put forward in the 1972 Supreme Court case on the issue of legal standing, in which the court rejected the Sierra Club, an environmental organization, seeking to block the development of a ski resort in the Sierra Nevada mountains. Justice William O. Douglas, in a dissenting opinion, advised that environmental objects should be granted legal personhood to make them legible before the law (Ogden 2018). In this vein in Article 71 of <u>the Ecuadorian constitution and</u> Article 34 of <u>the Bolivian constitution</u> it is <u>stipulated</u> that <u>any member of the public may bring RoN cases before the courts</u>, thus theoretically <u>making it possible for anyone to intervene on the side of the natural environment</u> (Ecuador 7.71, Bolivia V.I.34.). <u><mark>Another strength of the RoN is</mark> its <mark>connection to Indigenous thought</u></mark>. Kauffman & Martin (2018) argue in the case of the Wanganui river in New Zealand that <u>RoN represents <mark>a compromise between the modern state and Indigenous worldviews</mark>. This <mark>gives RoN great promise</mark>, representing a way <mark>to move beyond the man nature duality</mark>, one of the pillars of modernity which is often absent from Indigenous thought</u> (Gudynas 2010). Furthermore, <u><mark>legal concepts are particularly mobile in the modern</mark> hyperconnected <mark>world thanks to judicial borrowing</u></mark>. Affolder (2019) calls this “<u><mark>contagious law-making</u></mark>”, thus <u><mark>capturing</mark> both <mark>the spread of ideas</mark> from host to host and the mutating of these ideas as they spread <mark>around the globe</mark>. The <mark>contagious</mark> nature of legal <mark>innovations</mark>, especially <mark>in</u></mark> the case of <u><mark>environmental law, gives legal principles</mark> a <mark>malleability</mark> and manoeuvrability quite above regular policy proposals</u>. Yet <u>law is often underrepresented in</u> post-developmental arguments, in the case of <u>degrowth</u> this is particularly true.   </p><p>And so, we can see the context of these two schools of thought from the forefront of the post-development, where anthropocentric <u>development-through-<mark>growth has come against biophysical limits</u></mark> and an increasingly organised and broad coalition of critics. <u>The core of this idea, with its utility to continued accumulation, is the framing of continued growth as a ‘tide to raise all boats’, paid for by a nature imagined as external, distant and limitless</u>. Having introduced the key concepts, we will now look at some blind spots in the two movements.</p></div>\n",
              "<div style='padding: 10px; flex: 1 1 0; overflow: scroll;'><h4>Fracking Leads to numerous impacts to health and the environment on global, regional and local levels  </h4><p><strong>NRDC 14</strong> tanja srebotnjak spent 15+ years managing sustainability programs and projects in various sectors, including the United Nations, consulting and advocacy organizations, academia, and local government. REPORT: Five Major Health Threats from Fracking-Related Air Pollution, https://www.nrdc.org/media/2014/141216 </p><p> </p><p>SAN FRANCISCO – A growing body of evidence shows that <u>people both near and far from oil and gas drilling are exposed to </u>fracking-related <u>air pollution that can cause </u>at least five major types of health impacts, according to a new comprehensive analysis of scientific studies to-date by the Natural Resources Defense Council.  The health impacts include <u>respiratory problems, birth defects, blood disorders, cancer and nervous system impacts</u>, raising serious concerns for workers and people living closest to wells, as well as entire regions with high volumes of oil and gas activity. </p><p>“The health risks from fracking are not limited to what’s in our drinking water—oil and gas operations are also poisoning the air we breathe,” said NRDC senior scientist Miriam Rotkin-Ellman. “<u>While industry continues to</u> try to <u>sweep </u>the <u>impacts of fracking under a rug</u>, the <u>science keeps revealing</u> serious <u>health threats—for workers, families living nearby and entire regions </u>with heavy oil and gas activity.” </p><p><u>Fracking Fumes: Air Pollution from Hydraulic Fracturing Threatens Public Health and Communities provides</u> the most <u>comprehensive analysis of available science </u>to-date <u>on toxic air pollution from oil and gas development</u>. It identifies an emerging pattern in the science revealing unsafe levels of air pollution near fracking sites around the country. More research is needed to better understand a wide range of other threats that have emerged. </p><p>The report breaks down the health impacts that scientists have identified on the local, regional and global scales. It shows that health threats from air pollution are not limited to communities with drilling directly in their backyards.  Rather, entire regions with high levels of oil and gas activity are paying the price with smog-filled skies and respiratory problems. </p><p>This infographic illustrates the geographic scale of the health impacts: <u>http://bit.ly/1zhkCpH</u>. An overview follows: </p><p><strong>Global: </strong>In addition to carbon pollution<u>, fracking operations emit </u>massive amounts of <u>methane pollution, which drive global climate change</u>. Methane warms the climate at least 80 times more than an equal amount of carbon dioxide over a 20-year period. </p><p><strong>Regional: </strong>Nitrogen oxides and volatile organic compounds (<u>VOCs) form ground-level ozone</u>. In communities where there is a lot of drilling, <u>this can cause respiratory and cardiovascular effects on a regional scale,</u> even for those who don’t live in close proximity to wells. <u>Impacts include </u>coughs, shortness of breath, airway and lung inflammation, decreased lung function<u>, worsening of asthma </u>and other respiratory diseases, <u>cardiac arrhythmia, increased risk of heart disease, heart attacks, stroke, increased</u> hospital <u>admissions and premature mortality. </p><p></u><strong>Local: <u></strong>Those </u>living or working <u>closest to wells are at </u>the <u>highest risk</u>. In addition to the aforementioned health threats, they can also be exposed to diesel particulate matter and other toxics, including carcinogens. As a result, <u>they are also at risk for </u>eye, nose and throat irritation, brain and nervous system problems including headaches, lightheadedness and disorientation, <u>blood and bone marrow damage leading to anemia and immunological problems, reproductive system effects, birth defects and harm to the developing fetus, and cancer.</u> </p></div>\n",
              "<div style='padding: 10px; flex: 1 1 0; overflow: scroll;'><h4>Conclusion of their Eaton card agrees! </h4><p><u><strong>Eaton et al. 19</u></strong>, *Tim Eaton, Senior Research Fellow, Middle East and North Africa Programme; *Dr Renad Mansour, Senior Research Fellow, Middle East and North Africa Programme; Project Director, Iraq Initiative; *Dr Lina Khatib, Director, Middle East and North Africa Programme; *Dr Christine Cheng, Lecturer in War Studies, King's College London; *Jihad Yazigi, Journalist and Analyst; (February 2019, “Conflict Economies in the Middle East and North Africa”, https://www.chathamhouse.org/2019/06/conflict-economies-middle-east-and-north-africa-0/1-introduction<u><strong>)</p><p>Limitations and areas for further research</p><p>The nature of the subject matter means that <mark>this report cannot present a </mark>truly comprehensive or <mark>representative picture of </mark>conflict economy dynamics in <mark>the states in question</u></strong></mark>. It is also not possible for us to determine with certainty how important the economic motivations of different actors are: we can only report on observable behaviours. <u><strong><mark>We cannot </mark>fully <mark>untangle ethnic</mark>/economic/social status/social pressure <mark>incentives and motivations</mark>.</p><p></u></strong>This report has sought to assess how local populations have been impacted by conflict economy dynamics. However, it should be noted that more targeted research is required to better understand these social dynamics, particularly in terms of how revenues are distributed. Similarly, the authors recognize that <u><strong><mark>the</mark> sub-state and <mark>state-level focus</mark> of this paper <mark>does not address important regional and international conflict</mark> economy dynamics</u></strong>: this is something that future Chatham House research will seek to explore.</p></div>\n",
              "<div style='padding: 10px; flex: 1 1 0; overflow: scroll;'><h4>Stopping fracking at a national level is key to avoid fossil fuel takeover and public health crisis.</h4><p><strong>Food and water watch 03/06 2021</strong> (With more than 1.1 million supporters, Food & Water Watch fights for safe food, clean water, and a livable climate for all of us. They protect people from the corporations and other destructive economic interests that put profit ahead of everything else.</p><p>https://www.foodandwaterwatch.org/2021/03/06/a-national-ban-on-fracking-is-key-2/ )</p><p>The corporations that hype <mark>fracking</mark> — short for hydraulic fracturing, a method that <mark>uses</mark> high pressure water and <mark>chemical cocktails</mark> to break up deep shale formations in order to extract gas — are trying <mark>to lock us into</mark> a dirty <mark>future powered by fossil fuels</mark>. It’s a future <mark>that leads to more gas plants, </mark>more<mark> leaky pipelines, </mark>more<mark> compressor stations, </mark>more <mark>processing plants, </mark>more <mark>dangerous storage facilities, and more public health crises.</p><p></mark>We know the <mark>only way toward a clean, renewable energy future is to ban fracking</mark> and to stop all new fossil fuel development. We need to ban fracking everywhere, but <mark>the first step is saving our public lands from</mark> the <u><mark>free-for-all</u> <u>fracking</u></mark> permits <u><mark>that Trump ushered through</u></mark>.</p></div></div>"
            ],
            "text/plain": [
              "<IPython.core.display.HTML object>"
            ]
          },
          "metadata": {},
          "output_type": "display_data"
        },
        {
          "data": {
            "text/plain": [
              "0         428979.0\n",
              "188       429343.0\n",
              "271       430132.0\n",
              "498       428524.0\n",
              "588       423539.0\n",
              "768       210057.0\n",
              "4245      418679.0\n",
              "4287      428519.0\n",
              "5851      240670.0\n",
              "5873      341760.0\n",
              "5891      101783.0\n",
              "59763     418706.0\n",
              "72264     428508.0\n",
              "72268     428503.0\n",
              "72279     428512.0\n",
              "72309     428577.0\n",
              "72335     428619.0\n",
              "72343     428553.0\n",
              "72347     428612.0\n",
              "77766      47575.0\n",
              "88457     428703.0\n",
              "88467     428705.0\n",
              "88518     428697.0\n",
              "88529     428700.0\n",
              "91087     429238.0\n",
              "91508     429339.0\n",
              "103651    430091.0\n",
              "103686    430094.0\n",
              "104286    430105.0\n",
              "104654    430067.0\n",
              "108923    430075.0\n",
              "110447    430053.0\n",
              "110458    430079.0\n",
              "110482    430055.0\n",
              "110492    430081.0\n",
              "110493    430084.0\n",
              "110541    430060.0\n",
              "110556    430056.0\n",
              "110592    430057.0\n",
              "110809    430062.0\n",
              "110996    430085.0\n",
              "111066    430088.0\n",
              "111067    430092.0\n",
              "111126    430095.0\n",
              "111403    430096.0\n",
              "111467    430097.0\n",
              "111475    430099.0\n",
              "111523    430109.0\n",
              "111696    430114.0\n",
              "111789    430117.0\n",
              "112129    430120.0\n",
              "Name: bucketId, dtype: float64"
            ]
          },
          "execution_count": 69,
          "metadata": {},
          "output_type": "execute_result"
        }
      ],
      "source": [
        "# frBuckets = (evClean[evClean['tag'].str.contains('fracking')]).groupby('bucketId').size().sort_values(ascending=False)\n",
        "# frI = bucketIndexes[frBuckets.index[0]]\n",
        "showBucketSeries(buckets[levels[0] == levels[0][2]], indexes=range(10))\n",
        "buckets[levels[0] == levels[0][0]]\n",
        "# levels[0:2]"
      ]
    },
    {
      "cell_type": "code",
      "source": [
        "draw = nested_state.draw(output=f\"{DATA_PATH}_nestedblocksF_{datetime.now()}.pdf\")"
      ],
      "metadata": {
        "id": "0hp4ZJPmZvFn"
      },
      "execution_count": null,
      "outputs": []
    },
    {
      "cell_type": "code",
      "execution_count": null,
      "metadata": {
        "id": "F2D-SqpZG30N"
      },
      "outputs": [],
      "source": [
        "draw2 = nested_state.draw(output=f\"{DATA_PATH}_nestedblocksF_{datetime.now()}.svg\")"
      ]
    },
    {
      "cell_type": "markdown",
      "metadata": {
        "id": "B_N3YWctVup0"
      },
      "source": [
        "### igraph\n",
        "\n"
      ]
    },
    {
      "cell_type": "markdown",
      "metadata": {
        "id": "fGzktMKH5YvL"
      },
      "source": [
        "#### Build\n"
      ]
    },
    {
      "cell_type": "code",
      "execution_count": null,
      "metadata": {
        "colab": {
          "base_uri": "https://localhost:8080/"
        },
        "id": "5FoVY9XeakGm",
        "outputId": "57f6083d-1f03-40ef-e053-13239f792eb5"
      },
      "outputs": [
        {
          "name": "stdout",
          "output_type": "stream",
          "text": [
            "Looking in indexes: https://pypi.org/simple, https://us-python.pkg.dev/colab-wheels/public/simple/\n",
            "Collecting igraph\n",
            "  Downloading igraph-0.10.1-cp37-cp37m-manylinux_2_17_x86_64.manylinux2014_x86_64.whl (3.2 MB)\n",
            "\u001b[K     |████████████████████████████████| 3.2 MB 4.1 MB/s \n",
            "\u001b[?25hCollecting texttable>=1.6.2\n",
            "  Downloading texttable-1.6.4-py2.py3-none-any.whl (10 kB)\n",
            "Installing collected packages: texttable, igraph\n",
            "Successfully installed igraph-0.10.1 texttable-1.6.4\n",
            "Looking in indexes: https://pypi.org/simple, https://us-python.pkg.dev/colab-wheels/public/simple/\n",
            "Collecting cairocffi\n",
            "  Downloading cairocffi-1.3.0.tar.gz (88 kB)\n",
            "\u001b[K     |████████████████████████████████| 88 kB 3.0 MB/s \n",
            "\u001b[?25hRequirement already satisfied: cffi>=1.1.0 in /usr/local/lib/python3.7/dist-packages (from cairocffi) (1.15.1)\n",
            "Requirement already satisfied: pycparser in /usr/local/lib/python3.7/dist-packages (from cffi>=1.1.0->cairocffi) (2.21)\n",
            "Building wheels for collected packages: cairocffi\n",
            "  Building wheel for cairocffi (setup.py) ... \u001b[?25l\u001b[?25hdone\n",
            "  Created wheel for cairocffi: filename=cairocffi-1.3.0-py3-none-any.whl size=89668 sha256=c5ac8c64ff10c0ab2435c613554b4c5d33406bf8109343467cca229ac33362f1\n",
            "  Stored in directory: /root/.cache/pip/wheels/4e/ca/e1/5c8a9692a27f639a07c949044bec943f26c81cd53d3805319f\n",
            "Successfully built cairocffi\n",
            "Installing collected packages: cairocffi\n",
            "Successfully installed cairocffi-1.3.0\n"
          ]
        }
      ],
      "source": [
        "!pip install igraph\n",
        "!pip install cairocffi\n",
        "import igraph as ig\n",
        "import cairocffi"
      ]
    },
    {
      "cell_type": "code",
      "execution_count": null,
      "metadata": {
        "colab": {
          "base_uri": "https://localhost:8080/",
          "height": 35
        },
        "id": "rXmu4KCsOTSi",
        "outputId": "a28c8db5-7a53-4e30-ef7c-5e49bdd72b8c"
      },
      "outputs": [
        {
          "data": {
            "application/vnd.google.colaboratory.intrinsic+json": {
              "type": "string"
            },
            "text/plain": [
              "'IGRAPH U-W- 112310 691039 -- \\n+ attr: id (v), weight (e)'"
            ]
          },
          "execution_count": 9,
          "metadata": {},
          "output_type": "execute_result"
        }
      ],
      "source": [
        "try:\n",
        "  iEvGraph = ig.load(DATA_PATH + '_igraph.gml')\n",
        "except FileNotFoundError:\n",
        "  iEvGraph = ig.Graph()\n",
        "  iEvGraph.add_vertices(len(bucketIndexes))\n",
        "\n",
        "  edges = genEdges()\n",
        "  iEvGraph.add_edges(edges.keys())\n",
        "  iEvGraph.es['weight'] = list(edges.values())\n",
        "  ig.save(iEvGraph, DATA_PATH + '_igraph.gml')\n",
        "iEvGraph.summary()"
      ]
    },
    {
      "cell_type": "markdown",
      "metadata": {
        "id": "zz6EM2L5qHjw"
      },
      "source": [
        "#### Analyze"
      ]
    },
    {
      "cell_type": "code",
      "execution_count": null,
      "metadata": {
        "colab": {
          "base_uri": "https://localhost:8080/"
        },
        "id": "XDAFaNHMQR3A",
        "outputId": "e5472998-ff86-4340-8cc8-c2bdb31037da"
      },
      "outputs": [
        {
          "name": "stdout",
          "output_type": "stream",
          "text": [
            "679 µs ± 10.9 µs per loop (mean ± std. dev. of 7 runs, 1000 loops each)\n"
          ]
        }
      ],
      "source": [
        "%timeit iEvGraph.neighborhood([frI], order=2)"
      ]
    },
    {
      "cell_type": "code",
      "execution_count": null,
      "metadata": {
        "colab": {
          "base_uri": "https://localhost:8080/"
        },
        "id": "R-5N8BFpSyVO",
        "outputId": "077ecbd7-a0a6-4a3b-c18f-8234dae108d5"
      },
      "outputs": [
        {
          "data": {
            "text/plain": [
              "13        0.001898\n",
              "1324      0.001316\n",
              "3752      0.001156\n",
              "343       0.001124\n",
              "7606      0.001094\n",
              "            ...   \n",
              "101911    0.000001\n",
              "86752     0.000001\n",
              "101918    0.000001\n",
              "30024     0.000001\n",
              "47360     0.000001\n",
              "Length: 112310, dtype: float64"
            ]
          },
          "execution_count": 13,
          "metadata": {},
          "output_type": "execute_result"
        }
      ],
      "source": [
        "pd.Series(iEvGraph.pagerank(weights='weight')).sort_values(ascending=False)"
      ]
    },
    {
      "cell_type": "code",
      "execution_count": null,
      "metadata": {
        "colab": {
          "base_uri": "https://localhost:8080/",
          "height": 1000
        },
        "id": "EmcwKAR8hWmd",
        "outputId": "f7a2ef6e-8e5b-4b6d-c57b-faac08d9ebc1"
      },
      "outputs": [
        {
          "data": {
            "text/html": [
              "<div style='display: flex; height: 1000px'><div style='padding: 10px; flex: 1 1 0; overflow: scroll;'><h4>Federal fracking regulations solve wastewater pollution and methane emissions</h4><p><strong>Meegoda et al. 17</strong> [Jay N. Meegoda, Ph.D., P.E., F.ASCE, Professor, Dept. of Civil and Environmental Engineering, New Jersey Institute of Technology, Samuel Rudy, Dept. of Civil and Environmental Engineering, New Jersey Institute of Technology, Zhenting Zou, Ph.D. Student, Dept. of Civil and Environmental Engineering, New Jersey Institute of Technology (corresponding author), and Michael Agbakpe, Ph.D., Postdoctoral Fellow, Dept. of Civil and Environmental Engineering, New Jersey Institute of Technology, “Can Fracking Be Environmentally Acceptable?,” Journal of Hazardous, Toxic, and Radioactive Waste 21:2, April 2017]</p><p>While it has been proven that most of the accusations against fracking causing methane contamination are false, <u><strong>there is</u></strong> still undeniably a presence of <u><strong>methane in the groundwater around some fracking locations</u></strong>. <u>The most likely <mark>culprit for</mark> this methane <mark>contamination is “poorly built wells- inadequate steel casing and poor cement construction</u></mark> (North Carolina Health News 2014).” In other words, human error is most likely responsible for any contamination of groundwater around fracking wells. This is because there is high pressure in the pipe during fracking. Specifically, <u>when the fracking fluid is pumped into the well and when the methane gas is pumped out of the w</u>ell. <u><strong><mark>Even a small irregularity</mark> in the casing due to poor installation or cementation <mark>could produce a leak</u></strong></mark>, such as a full water balloon pricked with a tiny hole (Ewen et al. 2012). <u><strong>From that leak, it is feasible <mark>that the methane gas could slip past the cement and contaminate the groundwater</u></strong></mark>.</p><p>As with horizontal drilling, this situation is not the case. Studies have shown that there is a negligible amount of contamination if the groundwater is more than 1 km away from fracking wells (Mason et al. 2015). Hence, it is proposed that any residential or commercial activities should be at least 1 km away from the vertical well. While this would be inconvenient for fracking companies as there is groundwater above many of the places that contain shale gas, it is definitely possible to work around. This is especially true when horizontal fracking is considered (which has already shown not to be the cause of methane contamination). Horizontal fracking could be used to circumvent the 1-km restriction by drilling down vertically more than 1 km away from the groundwater and then drilling horizontally underneath the groundwater. As it is now, horizontal wells extend several miles, so the 1-km constraint would not be overly detrimental to the productiveness of fracking.</p><p>There is another possible explanation for methane contamination. Groundwater naturally contains methane in low quantities. However, it is possible that some groundwater has a larger concentration of methane. The preceding time of arrival calculation showed that it would take approximately 33 million years for methane to seep from the shale layer up to the groundwater reserves. Yet, most of the shale formations that are fracked are far older than that of the Marcellus shale (the second largest fracking field in the world), which is 385 million years old. With such a long time, it is possible that the shale migrated into the groundwater long before fracking was even conceived and that it was only noticed once fracking became popular and controversial. This explanation is corroborated by reports (Lustgarten 2009) of people being able to set their water aflame (due to the high methane concentration) long before fracking began in their area.</p><p>Between human error and natural methane migration into groundwater, the presence of methane in groundwater around fracking wells can be explained. It is also evident that fracking does not inherently cause contamination of groundwater, provided that the vertical well is at least 1 km away from any groundwater well. Therefore, with sufficient training and supervision to avoid most human error, along with the proper regulation preventing fracking companies from drilling vertically within 1.6 km (1 mi) of groundwater, <u><strong>the process of <mark>fracking can be made safe, and prevent methane from contaminating</mark> ground<mark>water</mark> reserves</u></strong>.</p><p>Earthquakes</p><p>Another environmental concern due to fracking is the occurrence of earthquakes near fracking sites. Although the direct link between earthquakes has not been definitively proven, there are viable theories for how fracking could directly cause earthquakes and the level of correlation between fracking and earthquakes makes a cause and effect relationship between the two undeniable. The earthquakes tend to occur mainly during two steps of the fracking: (1) during the injection of the fracking fluid into the well and (2) after the fracking is completed, when the fracking companies inject waste fluid into deep underground formations. The vast majority of the earthquakes attributable to fracking are not powerful enough to be detected by humans without the aid of a sensor; however, a larger earthquake could occur infrequently with the potential to cause damage.</p><p>Currently, there are only a few preventative measures employed by fracking companies to prevent earthquakes (partially due to the ambiguous cause and nature of the earthquakes). One such protective measure utilized by Cabot Oil and Gas Corporation (along with other fracking companies) is to perform a detailed sonar analysis of the ground before fracking (Fetzer 2012). Unfortunately, this technique has proven insufficient in preventing earthquakes.</p><p><u>The most likely cause of the earthquakes is either fracking fluid or waste fluid seeping into undetected faults deep underground when they the fluids are injected into their respective wells</u>. The fluids are injected with high pressure underground and this great pressure may cause them to move through the fractures that are created during fracking, causing leakage from the fractures in the shale layer to fault lines. The fluid could then provide lubrication and cause the fault to slip, creating earthquakes around the area.</p><p>A precaution that should be taken (in addition to screening the ground before beginning to frack) is to ensure that disposal wells are not overloaded, because overloading a well could increase the pressure and make earthquakes more frequent. It would not be feasible to lessen the pressure exerted by the fracking fluid because high pressure is needed in order for the fluid to create the fractures, keep them open, and extract the shale gas. Another proposed solution is to not frack within a certain range of a population due to the perception that earthquakes only occur in areas close to the well. This, however, has recently been disproved. A Cornell University research team measured earthquakes that were most likely attributed to fracking approximately 50 km (31 mi) away from the fracking wells (Keranen et al. 2014). The cause of these earthquakes has not yet been conclusively determined but it is suspected to be due to fracking. Katie Keranen, professor of geophysics at Cornell University, stated, “Existing criteria for an induced earthquake do not allow earthquakes associated with the well activity to occur this far away from the wellbore,” implying that the current explanation for earthquakes is not due to fracking, or a given explanation is incomplete.</p><p>In a study on the impact of fracking on earthquakes, an investigation of the Marcella formation in the state of Pennsylvania was conducted. There are 301 fracking wells in Pennsylvania (FracFocus 2015a, b, c). Based on U.S. Geological Survey (USGS 2015) data, there were only six earthquakes of magnitude 4 or higher that occurred within the last 30 years. Earthquakes of magnitude 4 or less are considered a minor earthquake of minimal disruption. Upon further analysis of those six earthquakes, it was found that all occurred prior to fracking starting in Pennsylvania. Furthermore, the epicenter of those earthquakes was much deeper than the Marcella formation, indicating minimal or no contribution due to fracking in Pennsylvania, one of the major shale gas producers.</p><p>Despite the research performed, earthquakes remain one of the most mysterious issues associated with fracking. However, it is important to note that the issue of earthquakes is not as pressing as other environmental concerns surrounding fracking due to the infrequent occurrence of earthquakes and the far less likely chance that an earthquake occurs that could cause any damage. With the current research, the best solution would be to prohibit underground injection of waste fluid or at least prevent overfilling of disposal wells. In addition, it is important to check as thoroughly as possible for any fault or abnormality in the ground before drilling begins. If these preventative measures are followed, the likelihood of earthquakes, especially severe ones, should decrease.</p><p>Fracking Fluid</p><p><u>Handling of flow back and produced waters is another issue that arises from fracking operations. </u>Currently, this wastewater can be recycled for subsequent fracking, reinjected underground, or treated and released into rivers. Other environmental issues are the impacts on land use, noise, and air quality. The exploration process in general generates a lot of activities and associated traffic, noise, and air pollution (Davis 2012). Despite the fact that the industry is adapting where possible to more benign fracking chemicals, information on the exposure to natural and added chemicals and the fate and ecotoxicity of the generated wastewater is not available (Batley and Kookana 2012).</p><p>High concentrations of natural contaminants such as metals, radionuclides, total petroleum hydrocarbons (TPHs), and phenols have also been observed in return wastewaters and formation waters (Cheung et al. 2009; Wood and Patterson 2011). Even though these chemicals are naturally occurring, there are risks of possible modification and release processes associated with the introduction of oxygenated waters, as ythe oxidation of reduced iron may lead to iron oxyhydroxide precipitation and a lowering of water pH (Batley and Kookana 2012). Elevated iron and manganese concentrations have been observed in flow-back waters (Wood and Patterson 2011). Acids in the fracking fluids will cause metal dissolution, aided by chelating agents. Surfactants and solvents may assist in the dissolution of organic compounds (Batley and Kookana 2012).</p><p>Therefore, a third major environmental issue is the disposal of waste products (mostly fracking fluid) after a well is fully formed for gas production. Different chemicals perform different functions in a hydraulic fracturing. Although there are dozens to hundreds of chemicals that could be used as additives, there are a limited number that are routinely used in fracking. Table 2 shows a list of the most frequently used chemicals.</p><p>Fracking fluid is pumped down into the well at high pressure and used to create, expand, and keep open the fissures created in the shale layer in order to allow the shale gas to be withdrawn from the well. Once the factures are initiated, the fracking fluid is retrieved. The proper disposal of fracking fluid remains an important environmental issue.</p><p>There are three processes that fracking wastewater can undergo. The most environmentally friendly is the first option, reusing the fracking fluid and treating the waste in a private treatment plant. As seen in Table 2, there are existing technologies to effectively treat or neutralize each component of fracking fluid. Waste still needs to be properly disposed even with this option. “The process cleans most of the water, but at least some smaller amount of fluid, or solid ‘cake,’ still needs to be disposed” (NPR 2014). This injection back into the ground is simiar to the second option: putting wastewater into a disposal well. This option involves injecting waste into a Class II disposal well (the type of well for fracking waste) and leaving it thousands of meters underground, commonly surrounded by sandstone or limestone. This option can have detrimental effects on the environment, and fracking fluid must be disposed of properly.</p><p>The treatment and renewal of fracking liquid waste are more important because some of these compounds are hazardous substances and known carcinogens, which can enter and pollute drinking water supplies from the well, well pad, or in the wastewater disposal process. Some of the listed additives are listed in Table 2 (FracFocus 2015a, b, c). Their adverse effects and removal strategies are discussed in the following.</p><p>Acetaldehyde, which is use as corrosion inhibitor, is considered a probable human carcinogen (Group B2) and has been shown to cause nasal tumors in rats and laryngeal tumors in hamsters (U.S. EPA 1997). Additionally, acetaldehyde cannot be effectively treated by traditional water-treatment processes, but was reported to be effectively removed by microbial degradation using biological activated carbon (BAC) filters (Chun-Lei et al. 2013).</p><p>Ethylene glycol is an organic solvent, and is a major constituent of antifreeze and coolant. It functions as a product stabilizer and/or winterizing agent in a fracking fluid mixture. Chronic exposure effects include kidney toxicity and liver damage. Several oral or inhalation exposure studies on rodents also showed that ethylene glycol is toxic to fetuses (U.S. EPA 1999). The EPA has not listed ethylene glycol as a controlled or priority substance, however. Ethylene glycol is reported to undergo aerobic and anaerobic biodegradation in water (Dwyer and Tiedje 1983); thus, ethylene glycol can be removed from the waste fracking fluid by biodegradation.</p><p>Another compound of interest is 2-Butoxyethanol, which functions as a product stabilizer in fracking. The EPA currently does not classify 2-Butoxyethanol for human carcinogenicity, but rather cautions against effects of acute and chronic exposures such as severe liver and kidney damage, testicular damage, reduced fertility, maternal toxicity, early embryonic death, birth defects, delayed development, and hematological disorders from inhalation and oral exposure (U.S. EPA 1984). Removal of 2-Butoxyethanol can be achieved with techniques like activated carbon filtration and ozone reaction.</p><p>Glutaraldehyde is a biocide with wide industrial applications. In fracking operations, it is used to eliminate bacteria in the water that produce corrosive by-products. Glutaraldehyde is acutely toxic to both aquatic and terrestrial organisms. Results from environmental partitioning indicated that glutaraldehyde is hydrophilic and tends to remain in the aquatic partition and is nonbioaccumulative (IPCS INCHEM 2005). Aqueous solutions of glutaraldehyde are stable at room temperature under acidic to neutral conditions, and stable in sunlight, but unstable at elevated temperatures and under alkaline conditions. Glutaraldehyde is biodegradable under both aerobic and anaerobic conditions (Leung 2001).</p><p>Ammonium persulfate is an inorganic salt that is highly soluble in water. It is a strong oxidizing agent, which is used in fracking liquid as a polymerization inhibitor to aid delayed break down of the gel. Ammonium persulfate is harmful to aquatic organisms (ILO-ICSC 2001). In human beings, it is reported to cause asthmatic effects (De Vooght et al. 2010). The substance can be absorbed into the body by inhalation in its aerosol form and by ingestion (ILO-ICSC 2001). Ammonium persulfate can be removed by neutralizing it with a base.</p><p><u>Tetramethyl ammonium chloride is used in fracking fluid as a clay stabilizer to prevent clays from swelling or shifting. Tetramethyl ammonium chloride is a nonvolatile quaternary ammonium salt, which exists in the cation form in the environment and generally adsorbs strongly to soils containing organic carbon and clay. It is reported to be toxic to microorganisms an also has a low bioaccumulative potential (TOXNET-HSDB 2012). It can be absorbed into the body by inhalation and by ingestion (CDC 2003). Above 300°C, tetramethyl ammonium chloride decomposes to produces ammonia, carbon monoxide, hydrogen chloride, and nitrogen oxides. It can also react with oxidants (ILO-ICSC 2003) and thus can be treated by oxidation.</p><p><strong>Regulations need to be implemented that require companies to extract as much fracking fluid from the well bore as they reasonably can and dispose of it in an environmentally acceptable manner. The ideal solution would be to treat as much of the fluid as possible, but this is more expensive</u></strong>. <u>One final consideration to consider when disposing of fracking fluid is to create a regulation that prevents overloading of disposal wells as this can cause other problems, primarily earthquakes and leaks.</p><p></u>The proper disposal of fracking fluid could lead to both environmental and economic benefits. If a technique for cheaply treating the wastewater is created, then only a minimal amount of fracking fluid will need to be disposed of and the rest can be reused in other fracking wells, leaving a smaller environmental footprint and allowing fracking companies to not have to acquire new fracking fluid. Additionally, <u>with proper regulation and enforcement, most of the issues associated with disposal wells should be mitigated.</p><p></u>To make fracking safe, both for the environment and any citizens in the area, <u><strong>the issue of proper disposal of waste products must be solved</strong>. All of the remaining fracking fluid should be treated or disposed of in a manner in accordance with regulations that should be put in place to prevent issues with disposal. This should diminish the issues related to the correct disposal of wastewater.</p><p></u>Several studies have revealed the use of toxic fracking fluids such as diesel and benzene (Davis 2012). In the Energy Policy Act of 2005 <u>the Halliburton loophole was added to the EPA’s Resource Conservation and Recovery</u> Act (<u><strong>RCRA</u></strong>), <u>which regulates hazardous and solid waste, exempting from oversight the waste from oil and gas exploration, development, and production.</p><p></u>Cost and Benefit Analysis</p><p>A cost and benefits analysis of hydraulic fracking and production of shale gas is required to complete the evaluation. This is essential as studies addressing total lifecycle costs are rare and previous reports have come to different conclusions on the cost and environmental benefits of shale gas compared to other alternatives. Stamford and Azapagic (2014) demonstrated that shale gas has a wide range of lifecycle environmental impacts (favorable and unfavorable) depending on the potential variation of different parameters. Laurenzi and Jersey (2013) reported that the carbon footprint of Marcellus gas 53% lower than coal, and the freshwater consumption is about 50% less than coal. Weber and Clavin (2012) also reported that the most likely upstream carbon footprints are largely similar for both shale and conventional gas production, with overlapping 95% uncertainty ranges of 11.0–21.0  g  CO2e/MJLHV and 12.4–19.5 g CO2e/MJLHV for shale and conventional gas, respectively. However, a complete cost benefit analysis of fracking considering environmental costs and benefits of issues discussed in this manuscript requires an in-depth analysis and is thus beyond the scope of the present work. A detailed study of the topic has been initiated for a future manuscript.</p><p>Regulations</p><p>The biggest issue with fracking is the lack of or minimal regulation. Th<u>e federal government is unable to regulate the industry because of the Halliburton loophole in the Energy Policy Act of 2005</u>; this clause excludes “underground injections of fluids or propping agents, other than diesel fuels, in hydraulic fracturing activities.” Hence, regulatory oversight falls to the state, but states have competing monetary interests. The result of these conflicts of interest is to reduce the motivation or incentive to regulate the industry. Regulatory bodies are urgently needed to control the fracking fluids used. Furthermore, regulatory procedures should be put in place to ensure safety, prevent contamination, and make the involved parties responsible for violations (Ince et al. 2013). <u>In the Energy Policy Act of 2005, the “Halliburton loophole” exempts fracking from the Safe Drinking Water Act because it was believed that fracking posed no risk to drinking water</u> (Manuel 2010). <u>The Clean Water Act and Clean Air Act encounter similar difficulties in enforcement</u>. Therefore, <u><strong>the EPA has little to no actual authority over this booming industry</strong>. Other regulatory agencies that have a role in the fracking include the Underground Injection Control Program (UICP), which regulates the pumping of fluids into wells, and the National Pollutant Discharge Elimination System (NPDES), which regulates runoff from waste pits and surface spills (EPA). Both of these groups set standards for acceptable practices regarding aspects of the fracking process. However, UICP has very little control over the well injections under the 2005 Energy Policy Act; hence, UIP can only regulate the disposal of the fracking fluids in underground waste wells (Ince et al. 2013).</p><p>The current lack of regulations and oversight for the chemicals and wastewater of fracking is the main source of controversy and <strong>leads to a lack of confidence</u></strong> on the part of some stakeholders, hindering the wider public acceptance of the process. <u>Regulation reform and proper oversight is urgently needed that should prioritize abatement of potential risks and to boost public confidence in the fracking process. The reform regulation should endeavor to embrace the concerns of all the stakeholders in an effort to provide social and economic benefits for the society.</p><p><strong>Summary and Conclusions</p><p></u></strong>Fracking, <u>the process of drilling deep down and injecting high-pressure water mixture to fracture rock to release trapped shale</u> gas, promises the potential of energy independence for the United States. It has presented an opportunity to generate electricity at half the CO2 emissions from coal. There are three major environmental issues identified with fracking, namely, leaking methane gas while fracking and during production, triggering of earthquakes due to fracking, and the disposal of the wastewater. A comprehensive literature search and a detailed analysis were performed to address the question of whether fracking be environmentally acceptable. It can be concluded that <u>if the following actions were taken</u>, <u><strong>then fracking could indeed be made environmentally acceptable.</p><p></u></strong>Earthquakes remain one of the most mysterious issues that has been associated with fracking, but there is no definitively proven direct link between earthquakes and hydraulic fracking. However, for the Marcella shale formation, earthquakes are not as pressing as other environmental concerns surrounding fracking due to the infrequent occurrence of earthquakes and the far less probability that such an earthquake occurs that could cause any damage. The vast majority of the earthquakes attributable to fracking are not powerful enough to be detected by humans without the aid of a sensor; however, a larger earthquake can occur infrequently with the potential to cause damage. With the current level of knowledge, <u><strong>the best precaution would be to prohibit underground injection of waste fluid</u></strong>. In addition, <u>a complete geological investigation should be performed to locate any active or dormant faults or abnormality in the ground before drilling</u>. Once it is confirmed that no such geological formations are found, the vertical wells should be located at least a mile away from any residential or commercial activities.</p><p>Based on shale gas seepage and diffusion calculations herein, it is virtually impossible for methane to contaminate the groundwater due to horizontal drilling. However, <u><strong>there is a possibility of shale gas release from a vertical</u></strong> well and it is proposed that <u><strong>any residential or commercial activities should be at least 1 km away from the vertical well</u></strong>. In addition, the vertical wells should be constructed with precautions to prevent methane gas leaks and a proper quality assurance and quality control procedure should be established during construction. Furthermore, the workers should be trained and properly supervised during construction. <u><strong>Methane monitors that could trigger alarms and locate </u></strong>leaks can be used in order to prevent losses during the transport and distribution.</p><p>To make fracking safe, the issue of <u><strong>proper disposal of waste products must be solved</strong>. Most fracking fluid should be extracted from the well bore and treated for reuse. The waste fracking fluid should be treated or disposed of in a manner in accordance with regulations</u> that should be put in place. The <u>proper disposal of waste fracking fluid could lead to both environmental and economic benefits. This should diminish the issues surrounding correct disposal of wastewater</u>. Finally, regulation and openness are major issues limiting stakeholder acceptance of the process. Therefore, regulation reformation is vital to ensure that all shareholder concerns are addressed in an effort to provide social and economic benefits for society as a whole.</p></div>\n",
              "<div style='padding: 10px; flex: 1 1 0; overflow: scroll;'><h4>Banning fracking is <u>necessary</u> to prevent catastrophic climate change---<u>Directly limits</u> one-third of global emissions <u>and</u> acts as a <u>short-term lever</u> that creates time for international action </h4><p>David <strong>Roberts 19</strong>, 8-15-2019, \"Fracking may be a bigger climate problem than we thought,\" Vox, https://www.vox.com/energy-and-environment/2019/8/15/20805136/climate-change-fracking-methane-emissions //mecr</p><p>As greenhouse gases go, <u><mark>methane</mark> gets less attention than carbon dioxide, but it <mark>is</mark> a <mark>key</mark> contributor to climate change.</p><p>Methane doesn’t stay in the atmosphere as long</u> as CO2 and is reabsorbed into terrestrial cycles via chemical reactions within 12 years or so. <u>But</u> while it’s up there, <u><mark>it’s much more potent, trapping heat</mark> at</u> roughly <u><mark>84 times the rate of CO2</u></mark>. Scientists estimate that around <u><mark>25 percent of current</mark> global <mark>warming traces to methane</mark>.</p><p><mark>When</mark> it comes to <mark>reducing CO2</mark> emissions</u>, the chain between cause and effect is frustratingly long and diffuse. <u><mark>Reduced emissions</mark> today <mark>won’t show up</mark> as reduced climate impacts <mark>for decades</mark>.</p><p>But <mark>with methane</u></mark>, the chain of causation is much shorter and simpler. <u><mark>Reduced emissions have an</mark> almost <mark>immediate climate impact</u></mark>. It’s a short-term climate lever, and <u>if the countries of <mark>the world</mark> are going <mark>to hold</mark> rising temperatures <mark>to</mark> the</u> United Nations’ <u>target of “well below” <mark>2 degrees</mark> Celsius </u>above the preindustrial baseline, <u>they’re going to <mark>need</mark> all the <mark>short-term</mark> climate <mark>levers</mark> they can get</u>.</p><p>In the real world, though, the <u>news about <mark>methane is</mark> bad and <mark>getting worse</u></mark>. It turns out that <u><mark>a</u></mark> mysterious <u><mark>recent spike</mark> in global methane levels that’s <mark>putting</mark> climate <mark>targets at risk</u></mark> may be <u><mark>coming from US</u></mark> oil and gas <u><mark>fracking</u></mark>. If that’s true, it’s bad news, because there’s lots more shale gas development in the pipeline and the Trump administration is expected to release a proposed rule Thursday rolling back regulations on the industry, per the New York Times.</p><p>The mysterious spike in atmospheric methane may lead to America’s doorstep</p><p>Global methane emissions rose steeply in the last decades of the 20th century and then leveled off. But around 2006, they started heading up again. Why? What was the source? Scientists were baffled. (Jonathan Mingle wrote a great story for Undark on scientists’ search for answers.</p><p>There are two broad sources of methane emissions: biogenic (plant and animal-based) and fossil fuel production. The former is mainly about agriculture (cow burps, pig poop, rotting organic waste) and tropical wetlands. As for the latter, <u><mark>methane is leaked</u></mark> or deliberately “flared” (burned off) <u><mark>at</u></mark> virtually <u><mark>every stage of</mark> fossil fuel <mark>production</mark> and</u> transport, a problem that is <u>notoriously bad for fracked</u> shale <u>gas</u> <u>and</u> tight <u>oil</u>.</p><p>A few studies, including a major one in the journal Science in 2016, largely traced the recent spike in methane to biogenic sources, mainly because recent atmospheric methane has been “lighter,” depleted of its heavier carbon stable isotope (13C). Generally speaking, fossil fuel production produces heavier methane and biogenic sources produce lighter methane, so researchers have taken the trend as an indication that the recent spike is mostly biogenic in origin.</p><p>But it was a perplexing finding, one that the Science authors characterized as “unexpected, given the recent boom in unconventional gas production and reported resurgence in coal mining and the Asian economy.” If you see a big boom in fossil fuel production happening alongside a big spike in methane, you might expect to find the two connected.</p><p>In a new paper released in Biogeosciences, Robert Howarth of Cornell University has proposed a solution to the riddle.</p><p>Howarth is a familiar name to those who have followed methane debates over the years. He and colleagues at Cornell have been arguing for years that natural gas methane emissions are much higher than the government estimates or the industry admits, high enough to wipe out its supposed climate advantage over coal. That is a controversial position, to say the least. (Estimates of methane leakage vary widely, but Howarth’s is at the very top end.)</p><p>In his latest paper, Howarth is making a different point, springing from two facts he says previous studies have overlooked.</p><p>First, <u>63 percent of the total increase in</u> global <u>natural gas production</u> in the 21st century <u>has come from shale gas. And</u> second, <u>shale gas production using modern hydrofracturing techniques tends to produce lighter methane than conventional</u> natural gas <u>drilling.</p><p></u>Howarth finds that if the lighter methane of shale gas production is explicitly accounted for, “<u><mark>shale</mark>-gas <mark>production</mark> in North America over the past decade may have <mark>contributed more than</mark> half of all of the increased [methane] emissions from fossil fuels globally and approximately <mark>one-third of</mark> the <mark>total</mark> increased <mark>emissions</mark> from all sources <mark>globally</mark> over the past decade.”</p><p></u>Since <u>89 percent of the shale gas production comes from the US</u> (Canada produced the rest), that’s a whole lot of accelerated global warming tracing right back to America’s front door.</p><p>It is worth emphasizing that this is only one paper in a very active field of research, from a controversial source, and it is sure to be debated and contested in coming years. But if it is right, or even only half right, it is bad news.</p><p>All signs point toward increased methane in coming years</p><p><u>If increased methane from shale gas is helping drive the spike in global methane emissions, the climate is in serious trouble</u>, because there is every indication that <u>shale gas <mark>emissions are higher than</mark> generally <mark>estimated and</mark> set to <mark>keep rising</u></mark>.</p><p>First, six years of intensive research from the Environmental Defense Fund has shown that <u>methane emissions from US oil and natural gas production are</u> as much as <u>60 percent higher than government estimates</u>. This recent paper in Science summarizes: “Methane emissions of this magnitude, per unit of natural gas consumed, produce radiative forcing over a 20-year time horizon comparable to the CO2 from natural gas combustion.” <u>Getting natural gas out of the ground and to its final destination releases as much methane as burning it</u> — which, whether or not it makes gas “worse than coal,” makes it pretty bad.</p><p>Meanwhile, as Jennifer Dlouhy reports for Bloomberg, “the Trump administration is readying a plan to end direct federal regulation of methane leaks from oil and gas facilities, even as some energy companies insist they don’t want the relief.” The high-profile energy companies, the ones with large operations and lots of exposure to public opinion, rightly see this as a terrible idea. It makes them look like climate villains; it increases their exposure to climate risk and future policy shifts; it makes investors uncertain and hesitant. Oh, and it exacerbates climate change.</p><p>But the little companies, with lots of small, leaky wells scattered about, don’t want to be forced to clean them up; in many cases, being forced to run clean would destroy the economics and shut down the wells.</p><p>And Trump is personally dedicated to reversing everything Obama did, so ... methane-wise, it’s back to the Wild West.</p><p>Third and most disturbingly, <u>the US appears to be in the early stages of a massive fracking infrastructure buildout</u>. A recent report from Food & Water Watch (FWW) charted this buildout, identifying “<u>more than 700 fracked gas infrastructure projects that have been recently built or proposed</u> for development.”</p><p>There are liquid natural gas export terminals: “In 2018, there were only three active LNG export facilities in the U.S., but 22 more were either being built or approved for construction, and an additional 22 were pending federal review by the end of the year.” There is the plastics industry, with “more than $202 billion slated for investment in ​333 new or expanded facilities.” And there is the electricity sector, with “plans to develop ​364 new fracked gas-fired plants​ by 2022.”</p><p><u>Despite escalating concerns over the climate impact of natural gas</u> and signs that it is flagging somewhat in the electricity sector, <u><mark>the industry seems poised for enormous expansion</u></mark>. That is wildly irresponsible in the face of the widely agreed upon (by everyone but Republicans) need to reach net-zero greenhouse gas emissions, in the US and globally, by midcentury.</p><p><u><mark>With jurisdiction over the</mark> rapidly metastasizing shale gas <mark>industry, the US has</mark> direct control over</u> one of <u>the biggest and fastest-growing sources of</u> potent, fast-acting <u>methane. That means it also has</u>, within its reach, <u>the <mark>ability to make early</mark> and <mark>substantial progress on climate change</u></mark>.</p><p>Several Democratic candidates have proposed <u>ending fracking</u> on public lands; only a few (Jay Inslee, Bernie Sanders, and Tom Steyer) have explicitly proposed pursuing a national ban. That <u>hasn’t been a top-tier policy dispute yet, but as scientists make the grim effects of fracking clearer and clearer, it’s going to become one</u>.</p></div>\n",
              "<div style='padding: 10px; flex: 1 1 0; overflow: scroll;'><h4>Only a new federal regulatory commission solves</h4><p><strong>Morrison 15 </strong>[Curtis L. Morrison, J.D. Candidate, Environmental Law Concentration, Whittier Law School, 2016; B.A. Political Science, University of Louisville, 2015, “NOTE AND COMMENT: FRACKER IN THE RYE: THE NECESSITY OF FEDERAL FRACKING WASTE REGULATION AND A FRACKING WASTE REGULATORY COMMISSION,” 37 Whittier L. Rev. 87, 106-115, lexis]</p><p>B. HOW A FEDERAL FRACKING WASTE DISPOSAL COMMISSION COULD LOOK.</p><p><u>Fracking waste is like nuclear waste, in that it remains dangerous in ways we have yet to understand, and even radioactive, for the foreseeable future. Imagine a world in which nuclear waste was not regulated</u>. That is a pretty scary world, yet with respect to fracking [*111] waste, that is our world. Slottje recently said:</p><p>This process of fracking is not self-contained. It's not limited to one person's yard. . .you're destroying public trust resources, like the air and water. Literally destroying water. It would be better to take the water that they use for fracking and put it on a rocket ship and send it to the Moon than to use it for fracking because that water is then available to pollute more water.</p><p>If Slottje's Moon-disposal idea sounds both outlandish and familiar, that may be due to a 1970's television show called Space: 1999, in which Earth's nuclear waste was sent to the Moon. While this may seem absurd, given the ways in which the fracking wastewater disposal industry often engages in 'creative' disposal, it is perhaps not outside the realm of possibility.</p><p>Fortunately, <u>Congress created the</u> United States Nuclear Regulatory Commission (\"<u>NRC</u>\") in 1974 to <u>regulate nuclear waste disposal in the United States</u>, so Moon disposal has not become a reality. <u>This article proposes that fracking wastewater disposal in the U.S. should also be regulated by a</u> yet-to-be-created federal <u>commission modeled on the NRC, referred to here as the</u> <u>Fracking Waste Disposal Regulatory Commission</u> (\"<u><strong>FWDRC</strong>\"). The NRC's regulatory mission pertains to three areas: nuclear reactors; nuclear materials; and the transportation, storage and disposal of nuclear waste, as well as decommissioning of nuclear facilities. This model fits well with fracking, which lacks regulation in three areas: oversight of and accountability for onsite fracking processes; oversight of fracking chemicals used, which are often kept secret under trademark claims; and the transportation, storage and disposal of fracking waste, including the monitoring of fracking storage wells to ensure their casings are not compromised.</p><p></u>Like the NRC, which has regional offices located in Georgia, Illinois, Pennsylvania and Texas, the FWDRC should have regional [*112] offices in California, Colorado, North Dakota, Ohio, and Texas, all centrally located within regions where fracking accidents have occurred already<u>. A regional headquarters within short driving distances of fracking sites would serve as a deterrent against misconduct by fracking wastewater disposal contractors</u>. Further, <u>increasing oversight of fracking disposal through visits from trained compliance investigators would greatly increase the odds of polluters being held accountable</u>, <u>even when they evade reporting by anonymous whistleblowers.</u> <u><strong>This deterrent would be especially necessary</u></strong>, <u>because</u> <u>unlike the NRC, which has \"onsite inspectors permanently stationed at each nuclear facility that it regulates,\" the expense of onsite regulators stationed at over 170,000 fracking sites</u>, no matter how justified, <u>would meet with incredible political opposition.</p><p></u>Like the NRC, the FWDRC could have \"five commissioners [in Level IV positions] appointed by the President and confirmed by the Senate for five-year terms.\"</p><p><u><mark>The most crucial component of</mark> creating any <mark>new authority would be minimizing</mark> the risk of <mark>agency</u> <u>capture</u></mark>, whereby those charged with regulating an industry actually serve the interest of the industry. A common myth is that existing environmental governmental agencies represent public interest, when in reality they act in tight alliance with industry and private interest. One scholar has listed \"a toxic blend of agency capture\" as the first factor explaining why \"federal government's leadership in fracking regulation has been paralyzed.\" The Halliburton Loophole illustrates this problem well.</p><p><u>One obvious way to minimize the risk of agency capture </u>with a [*113] <u>new <mark>commission</mark> is to <mark>forbid candidates with</mark> a <mark>history of working for</mark> the <mark>oil and gas industry</u></mark>, or ownership of gas and oil interest, <u>from appointment as commissioners. A compromise on that proposal would at least <mark>require a \"<strong>cooling period</strong></mark>,\"</u> <u>whereby candidates for appointment to the commission could not have worked in the oil and gas industry for at least the prior ten</u> <u>years</u>. Another idea is a special kind of non-compete clause in employment contracts between FWDRC and its employees that would prohibit employees from seeking work in the oil and gas industry for a significant period of time after leaving the FWDRC. While the clause would expand revolving door laws, which already apply to federal employees, the government's interest in protecting against agency capture justifies the expansion. Most importantly, diligent efforts should be made to prevent agency capture up front. Once agency capture exists, we're stuck with it. Perhaps the most-promising way to deconstruct agency capture may be through the judicial affirmation of a federal public trust doctrine. If federal agencies were not only responsible for narrowly implementing their statutory mandates, but also held to a higher burden as stewards for future generations, agency capture would be unlawful. Unfortunately, the Court passed on an opportunity to make that affirmation in 2014. No matter how independently the FWDRC is structured, <u><mark>the regulator</mark>y <mark>agency would be impotent without</mark> accompanying <strong><mark>substantive</mark> federal <mark>legislation</mark> specifically <mark>charged with</mark> the <mark>authority to hold the fracking</mark> wastewater disposal <mark>industry accountable</u></strong></mark>. Moreover, the <u>language must be more than specific, it must not allow for discretion</u>. While agency <u>discretion</u> sounds harmless enough, [*114] experience has taught us that it <u>has a way of becoming an agency's conduit to <strong>channel public resources into the hands of the very private industry it was charged with regulating</u></strong>. <u>The best model in U.S. environmental law is found in the</u> Endangered Species Act (\"<u><strong>ESA</u></strong>\"). The Supreme Court has held the words of Section 7 of the ESA \"affirmatively command all federal agencies 'to insure that actions authorized, funded, or carried out by them do not jeopardize the continued existence' of an endangered species or 'result in the destruction or modification of habitat of such species.'\" <u>To regulate fracking waste disposal, <strong>an act must charge the FWDRC <mark>to insure</mark> that the <mark>disposal of fracking wastewater</mark> within the U.S., or federal waters</strong>, <strong><mark>does not jeopardize public health, or</mark> result in <mark>environmental harm</u></strong></mark>. No doubt, this simple plain language will meet with extraordinary industry resistance. Not because it is confusing, over or under inclusive, or arbitrary or capricious, but because it will cost the oil and gas industry a lot of money, and compromise the use of fracking as a geo-political tool. <u>The importance of a thoughtful and deliberate framework to <strong>strictly regulate fracking wastewater disposal</u></strong> <u>free of regulatory capture cannot be overemphasized enough.</u> Recent competing suggestions for regulating fracking wastewater disposal include the use of regulation as a tax revenue device in order to covertly deter outright fracking bans, and allowing states to \"choose to operate a public disposal facility in order to prevent out-of-state waste being treated within its borders.\" <u>The implementation of either of these misguided ideas would do more to license harm than prevent it.</u> It would be difficult to imagine more corruptible licensing schemes than those, but not impossible. <u>Just picture those schemes implemented by decision-making regulators who are balancing their temporary public duty to protect human health</u> and the environment with their own more tangible private interests in maximizing their industry's profits through oil and gas extraction. Ultimately, <u>the only scenario worse than the</u> [*115] <u>pursuit of lackluster or loose regulation of fracking wastewater disposal, is allowing a captured agency to be charged with its implementation</u>. Thus, the <u><strong>regulation is crucial but the regulatory agency with the authority to implement it is just as crucial</u></strong>.</p></div>\n",
              "<div style='padding: 10px; flex: 1 1 0; overflow: scroll;'><h4>3. <u>Contradictory precedent</u>. Rogue state actions demolish the industry, but federal regulations prevent bad policies at lower jurisdictional levels.</h4><p><strong>Jody Freeman, a professor of law at Harvard University, writes in 2012… </strong>[Jody Freeman, Harvard law prof, “The Wise Way to Regulate Gas Drilling,” July 5, 2012, https://www.nytimes.com/2012/07/06/opinion/the-wise-way-to-regulate-hydraulic-fracturing.html?_r=0]</p><p><u><mark>States</mark> <mark>like Texas, Pennsylvania and New York</mark> are now rushing to <mark>impose </mark>their own <mark>rules</u>.</mark> But <u><strong>what <mark>we </mark>really <mark>need</mark> is a system of <mark>federal oversight</u></strong> <u><strong>that</mark> will <mark>promote confidence</mark> in this technique <mark>and provide </mark>the <mark>industry</mark> <mark>with uniform standards</u></strong></mark> <u>without overregulating it. </u>The federal government has the power to regulate some but not all the risks. For example, <u>the Environmental Protection Agency</u> has set standards to control emissions of toxic and greenhouse gases from the drilling process and <u>is considering new rules for polluted wastewater. But</u> in 2005, <u>Congress exempted the fracturing process itself</u> — a process in which huge quantities of water, sand and toxic chemicals are injected into tight shale rock, to force open the rock and capture the gas trapped within — <u>from federal regulation. The <mark>states</mark> have <mark>moved</mark> forward <mark>with </mark>a <mark>patchwork </mark>of regulations</u> — <u>some specific and prescriptive, others vague and general. Many states</u> require some disclosure of the chemicals the drillers use, but in some states drillers decide which chemicals constitute proprietary secrets and therefore do not have to be disclosed. <u>Some states allow operators to store toxic wastewater from the fracturing process in open pits, risking surface or groundwater contamination. Some states simply lack the experience or resources to enforce their standards. The <strong>uneven approach</u></strong> <u>is bad not only for the environment but also for industry, because under the current system</u>, <u><strong><mark>mistakes by a few bad apples</mark> could <mark>lead to</mark> <mark>overregulation</u></strong> <u>or</mark> even <mark>outright <strong>bans on drilling</u></strong></mark>. <u>A better approach is one already reflected in many environmental laws</u>: <u><strong><mark>cooperative federalism</u></strong></mark>. The <u>federal government <mark>sets baseline</mark> standards, which states can exceed but not fall below.</u> Ideally, <u>these would be general “performance standards” rather than detailed specifications, giving the states flexibility to meet them</u>. <u>States</u> <u>might be required to develop</u> comprehensive <u>plans to manage</u> environmental <u>risks</u>. <u>These plans could account for</u> regional differences and would be based on best practices for disclosure, drilling location, well construction and <u>wastewater treatment</u>. States would implement and enforce the rules and issue and oversee the operating permits. <u>The federal government could step in if states</u> <u>abdicated their responsibility. Such a regulatory system — with minimum federal standards as well as state plans — has been in place for coal mining</u> since 1977. <u><strong>For this to work, <mark>Congress must lift</mark> the regulatory <mark>exemptions</u></strong></mark> for hydraulic fracturing. <u><strong>This would <mark>allow</mark> the <mark>E.P.A. to set</mark> minimum <mark>requirements</mark> for the drilling process</u></strong>, which states would implement through federally approved programs. <u>The E.P.A. and the Interior Department</u>, which regulates gas drilling on federal lands, <u>could</u> then <u>establish a clear, comprehensive and consistent federal framework for hydraulic fracturing.</u> The cost would be reasonable: the International Energy Agency recently estimated that adequate environmental protections could increase drilling costs by 7 percent. Some might say that a federal role isn’t necessary. But <u><strong><mark>pollution </mark>risks <mark>go beyond state borders</u></strong></mark>. <u>If natural gas extraction is a national priority, its safety and efficacy should be of national concern, too</u>. The Obama administration has taken some initial steps to coordinate <u>the federal government’s</u> approach but has <u>been timid about calling for a stronger federal role</u>. <u><strong><mark>Only a national </mark>regulatory <mark>system can strike </mark>the <mark>right balance</u></strong></mark>, simultaneously realizing hydraulic fracturing’s energy promise and minimizing the risks while respecting state authority.</p></div>\n",
              "<div style='padding: 10px; flex: 1 1 0; overflow: scroll;'><h4>3. <u>Goldilocks</u>. Over regulation and under regulation each hamper regulatory <u>certainty</u>, <u>stability</u>, and <u>trust</u>. Those are all <u>vital</u>.</h4><p><strong>Gross 18</strong> – Samantha Gross is the Director of Energy Security and Climate Initiatives and a fellow of Foreign Policy at the Brookings Institute [“The danger in deregulation”, January 9th, 2018, https://www.brookings.edu/blog/planetpolicy/2018/01/09/the-danger-in-deregulation/<u>] CHC Lobo</p><p></u>In the last few days, the <u>Trump administration’s oil and gas deregulation push entered a frantic new phase. On the last business day of 2017, the Department of the Interior rescinded a 2015 rule regulating hydraulic fracturing (or fracking) on public lands,</u> and reworked regulations on safety for offshore drilling. Another dramatic announcement occurred on January 4, when the administration proposed opening up nearly all U.S. offshore waters to drilling. <u>President Trump has been clear about two goals of his administration</u>: <u>a push for what he calls “<mark>energy dominance</mark>” <mark>and</mark> a</u> <u>clear <mark>distaste for regulation</mark> of all kinds, particularly of the energy industry</u>. <u>But these <strong>two goals</strong> can be <strong><mark>contradic</mark>tory</u></strong>—the <u>ongoing <strong>regulatory <mark>rollback</strong></mark> <strong><mark>may not</strong></mark> ultimately <strong><mark>benefit</strong></mark> the energy <strong><mark>industry</strong></mark>.</u> <u><mark>Deregulation</mark> could even <mark>do</mark> <mark>more harm than good</mark>, creating an uncertain long-term policy environment and undermining public trust</u>. <u><strong><mark>CHANGING</mark> <mark>POLICY</mark> <mark>CREATES</mark> BUSINESS <mark>RISKS</mark> </u></strong>As I’ve written earlier, <u>the energy industry invests primarily <mark>in capital-intensive</mark>, long-lived <mark>assets</u></mark>—oil fields or power plants with lives measured in decades. <u>A <mark>stable policy</mark> environment <mark>is</mark> <mark>important</mark> to these investments</u>. <u>Regulations and policy</u> that are created in one administration can be <u>rolled back in another</u>, and the instability creates a <u>challenge for managing and valuing such assets. <strong>Energy <mark>companies crave</mark> regulatory <mark>certainty</u></strong></mark>. <u>Many companies, particularly large international <mark>corporations</mark>, are <strong><mark>unlikely to</mark> </strong>substantially<strong> <mark>change</strong></mark> their practices in <mark>response</mark> <mark>to the <strong>regulatory rollback</strong></mark>, as they have global operating procedures to prevent safety and environmental incidents that could harm their assets or reputation</u>. But when an incident occurs, <u>the <strong><mark>entire industry</strong></mark> <mark>bears</mark> the <mark>reputation of its weakest actor</u></mark>. <u>A regulatory floor to govern behavior is thus good for everyone. <strong><mark>REPUTATION AND TRUST ARE THE MOST IMPORTANT ASSETS OF ALL</mark> </u></strong>In the United States and around the world, energy production depends on support from local communities, what the industry calls “social license to operate.” <u>Especially in a democracy, public <mark>opposition</mark> can <mark>make life</mark> very <mark>difficult</mark> for energy producers</u>. <u>Public <mark>support</mark> for energy resource development <strong><mark>depends on trust</strong></mark>—in the companies doing the development and in the regulatory structure that governs their activities. </u>When the Trump administration dismantles energy regulation<u>, it <mark>runs the risk of <strong>undermining </mark>the <mark>trust</strong></mark> that underpins domestic energy development. U.</u>S. oil and gas production has grown dramatically in recent years, but <u><mark>we have</mark> also <mark>seen</mark> a public <mark>backlash</mark>. </u>For example, <u>hydraulic fracturing, and the oil and gas development that depends on it, faces <mark>deep <strong>grass-roots opposition</strong> </mark>in many parts of the country</u>. Concerns about contamination of drinking water and other water resources are the most pressing concerns. Three states have banned the practice entirely, including New York and Maryland, which border the Marcellus Shale gas resource (the third is Vermont, which has no known oil or gas resources). The hydraulic fracturing regulations the Trump administration withdrew were focused on well construction, wastewater management, and chemical use disclosure—the issues of greatest concern to the public. Likewise, the Deepwater Horizon disaster in 2010 was a crucial moment for the oil and gas industry in the United States. A cascade of failures resulted in the largest oil spill in U.S. history. A bipartisan presidential commission studied the incident, and the new regulations issued in response were an important step toward restoring trust in the U.S. offshore oil industry. But the Trump administration is altering these regulations, for example by eliminating independent inspections of safety and pollution equipment that the bipartisan commission recommended. <u><strong><mark>Getting </mark>Energy <mark>Regulation</mark> <mark>Right</mark> </strong>I don’t mean to imply that <strong>oil and gas production</strong> in the United States is suddenly unregulated</u>. State, local, and tribal regulations still apply to hydraulic fracturing on public lands. <u>Safety and environmental <mark>regulations</mark> on offshore drilling <mark>have <strong></mark>not <mark>been </mark>eliminated, <mark>just softened</u></strong></mark>. And the proposal to open nearly all U.S. offshore waters to drilling is an opening salvo in a battle likely to go on for some time. Many governors, even Republicans, are vehemently opposed to drilling in waters off their states. <u>But the <mark>hard push</mark> toward deregulation is <mark>likely</mark> to <mark>have consequences</mark> <mark>for</mark> <strong>public <mark>trust</mark>, <mark>not just in companies</mark>, but in <mark>government</mark> itself.</strong> If the public feels that the government is <mark>being</mark> <strong><mark>run by</mark> and for <mark>the</mark> energy <mark>industry</strong></mark>, accomplishing many important societal goals—like <strong>modernizing <mark>infrastructure</strong></mark> <mark>and <strong>preventing</mark> </strong>the worst impacts of<strong> <mark>climate change</strong></mark>—become much more difficult.</u> The hard push toward deregulation is likely to have consequences for public trust. Ev<u>en in areas where oil and gas are central to the economy, <strong><mark>the public favors</mark> protective <mark>regulation</u></strong></mark>. Oklahoma provides an example. Seismic activity, caused by underground disposal of oil and gas wastewater, increased exponentially during the drilling boom there. The state government has responded with much greater regulation of underground waste disposal, including shutting down disposal wells in problematic areas, greatly increasing monitoring requirements, and establishing a public process for approving some disposal wells. Despite the increased regulation, the industry is thriving in Oklahoma, which was the sixth largest oil-producing and third largest gas-producing state in the United States in 2016. <u>Oil and gas production involves a delicate balance between sufficient regulation to protect <strong>health</strong>, safety, and the <strong>environment</strong> and <strong>ensure public trust,</strong> without <strong>unnecessarily strangling development</strong>.</u> Smart people across the political spectrum are likely to disagree on the particulars of a “Goldilocks” regulatory scheme. <u>But I fear that this administration is moving <strong><mark>too far</strong> and <strong>too fast</strong></mark> <strong><mark>in</strong></mark> the direction of <strong><mark>deregulation</strong></mark>, potentially <strong><mark>harm</mark>ing <mark>the industry</strong></mark> it is trying so hard to protect and promote.</p></u></div></div>"
            ],
            "text/plain": [
              "<IPython.core.display.HTML object>"
            ]
          },
          "metadata": {},
          "output_type": "display_data"
        }
      ],
      "source": [
        "showBucketSeries(\n",
        "    pd.Series(iEvGraph.personalized_pagerank(reset_vertices=[frI], weights='weight')).sort_values(ascending=False)\n",
        ")"
      ]
    },
    {
      "cell_type": "code",
      "execution_count": null,
      "metadata": {
        "colab": {
          "base_uri": "https://localhost:8080/"
        },
        "id": "Wl7YHwIRhtBz",
        "outputId": "d1f290b3-1129-4dc1-a23c-ce00c23ed918"
      },
      "outputs": [
        {
          "name": "stdout",
          "output_type": "stream",
          "text": [
            "355 ms ± 120 ms per loop (mean ± std. dev. of 7 runs, 1 loop each)\n"
          ]
        }
      ],
      "source": [
        "%timeit pd.Series(iEvGraph.personalized_pagerank(reset_vertices=[teI], weights='weight')).sort_values(ascending=False)"
      ]
    },
    {
      "cell_type": "code",
      "execution_count": null,
      "metadata": {
        "colab": {
          "base_uri": "https://localhost:8080/"
        },
        "id": "_4U8T26skncv",
        "outputId": "00ebae4c-3d4b-401b-9398-ecf734915272"
      },
      "outputs": [
        {
          "data": {
            "text/plain": [
              "<igraph.clustering.VertexClustering at 0x7f84b6043ad0>"
            ]
          },
          "execution_count": 42,
          "metadata": {},
          "output_type": "execute_result"
        }
      ],
      "source": [
        "res = iEvGraph.community_label_propagation(weights='weight')\n",
        "res"
      ]
    },
    {
      "cell_type": "code",
      "execution_count": null,
      "metadata": {
        "id": "mzdRzXEh11Hs"
      },
      "outputs": [],
      "source": []
    }
  ],
  "metadata": {
    "colab": {
      "collapsed_sections": [
        "u-DUR6ggwkkI",
        "uO5CZ5hcITdx",
        "BQdbI719VW5r",
        "MYZPAKq8rYC0",
        "QP6Sl_aRrd47",
        "OktUeyUjyUju",
        "fGzktMKH5YvL"
      ],
      "provenance": [],
      "toc_visible": true
    },
    "kernelspec": {
      "display_name": "Python 3",
      "name": "python3"
    },
    "language_info": {
      "name": "python"
    },
    "widgets": {
      "application/vnd.jupyter.widget-state+json": {
        "00066019a03846ebbceecce52e1b7fa2": {
          "model_module": "@jupyter-widgets/controls",
          "model_name": "HBoxModel",
          "model_module_version": "1.5.0",
          "state": {
            "_dom_classes": [],
            "_model_module": "@jupyter-widgets/controls",
            "_model_module_version": "1.5.0",
            "_model_name": "HBoxModel",
            "_view_count": null,
            "_view_module": "@jupyter-widgets/controls",
            "_view_module_version": "1.5.0",
            "_view_name": "HBoxView",
            "box_style": "",
            "children": [
              "IPY_MODEL_f1fc481662bf4375822b77ff762d7da4",
              "IPY_MODEL_9ed0946fe2744b4c908dc4c5093c2b39",
              "IPY_MODEL_dc1cc76ad98e4c789d9e6ab69ec5ec99"
            ],
            "layout": "IPY_MODEL_9a4c3d9b2e3d4a01820859edd2d731ab"
          }
        },
        "f1fc481662bf4375822b77ff762d7da4": {
          "model_module": "@jupyter-widgets/controls",
          "model_name": "HTMLModel",
          "model_module_version": "1.5.0",
          "state": {
            "_dom_classes": [],
            "_model_module": "@jupyter-widgets/controls",
            "_model_module_version": "1.5.0",
            "_model_name": "HTMLModel",
            "_view_count": null,
            "_view_module": "@jupyter-widgets/controls",
            "_view_module_version": "1.5.0",
            "_view_name": "HTMLView",
            "description": "",
            "description_tooltip": null,
            "layout": "IPY_MODEL_5f4fc6f127a0452fbae5c527d10b6ce5",
            "placeholder": "​",
            "style": "IPY_MODEL_3f22902c1eb44bdb9da80af531775269",
            "value": "100%"
          }
        },
        "9ed0946fe2744b4c908dc4c5093c2b39": {
          "model_module": "@jupyter-widgets/controls",
          "model_name": "FloatProgressModel",
          "model_module_version": "1.5.0",
          "state": {
            "_dom_classes": [],
            "_model_module": "@jupyter-widgets/controls",
            "_model_module_version": "1.5.0",
            "_model_name": "FloatProgressModel",
            "_view_count": null,
            "_view_module": "@jupyter-widgets/controls",
            "_view_module_version": "1.5.0",
            "_view_name": "ProgressView",
            "bar_style": "success",
            "description": "",
            "description_tooltip": null,
            "layout": "IPY_MODEL_c24bcc5153614ce4ba23605544fc808a",
            "max": 6733,
            "min": 0,
            "orientation": "horizontal",
            "style": "IPY_MODEL_48b4cdf2b2d340a4b7078d83b3d806dd",
            "value": 6733
          }
        },
        "dc1cc76ad98e4c789d9e6ab69ec5ec99": {
          "model_module": "@jupyter-widgets/controls",
          "model_name": "HTMLModel",
          "model_module_version": "1.5.0",
          "state": {
            "_dom_classes": [],
            "_model_module": "@jupyter-widgets/controls",
            "_model_module_version": "1.5.0",
            "_model_name": "HTMLModel",
            "_view_count": null,
            "_view_module": "@jupyter-widgets/controls",
            "_view_module_version": "1.5.0",
            "_view_name": "HTMLView",
            "description": "",
            "description_tooltip": null,
            "layout": "IPY_MODEL_8ae82e24100144ad9562eaa223637cb3",
            "placeholder": "​",
            "style": "IPY_MODEL_3993b3134a6844b1a7358d4a35a26fea",
            "value": " 6733/6733 [00:06&lt;00:00, 1241.74it/s]"
          }
        },
        "9a4c3d9b2e3d4a01820859edd2d731ab": {
          "model_module": "@jupyter-widgets/base",
          "model_name": "LayoutModel",
          "model_module_version": "1.2.0",
          "state": {
            "_model_module": "@jupyter-widgets/base",
            "_model_module_version": "1.2.0",
            "_model_name": "LayoutModel",
            "_view_count": null,
            "_view_module": "@jupyter-widgets/base",
            "_view_module_version": "1.2.0",
            "_view_name": "LayoutView",
            "align_content": null,
            "align_items": null,
            "align_self": null,
            "border": null,
            "bottom": null,
            "display": null,
            "flex": null,
            "flex_flow": null,
            "grid_area": null,
            "grid_auto_columns": null,
            "grid_auto_flow": null,
            "grid_auto_rows": null,
            "grid_column": null,
            "grid_gap": null,
            "grid_row": null,
            "grid_template_areas": null,
            "grid_template_columns": null,
            "grid_template_rows": null,
            "height": null,
            "justify_content": null,
            "justify_items": null,
            "left": null,
            "margin": null,
            "max_height": null,
            "max_width": null,
            "min_height": null,
            "min_width": null,
            "object_fit": null,
            "object_position": null,
            "order": null,
            "overflow": null,
            "overflow_x": null,
            "overflow_y": null,
            "padding": null,
            "right": null,
            "top": null,
            "visibility": null,
            "width": null
          }
        },
        "5f4fc6f127a0452fbae5c527d10b6ce5": {
          "model_module": "@jupyter-widgets/base",
          "model_name": "LayoutModel",
          "model_module_version": "1.2.0",
          "state": {
            "_model_module": "@jupyter-widgets/base",
            "_model_module_version": "1.2.0",
            "_model_name": "LayoutModel",
            "_view_count": null,
            "_view_module": "@jupyter-widgets/base",
            "_view_module_version": "1.2.0",
            "_view_name": "LayoutView",
            "align_content": null,
            "align_items": null,
            "align_self": null,
            "border": null,
            "bottom": null,
            "display": null,
            "flex": null,
            "flex_flow": null,
            "grid_area": null,
            "grid_auto_columns": null,
            "grid_auto_flow": null,
            "grid_auto_rows": null,
            "grid_column": null,
            "grid_gap": null,
            "grid_row": null,
            "grid_template_areas": null,
            "grid_template_columns": null,
            "grid_template_rows": null,
            "height": null,
            "justify_content": null,
            "justify_items": null,
            "left": null,
            "margin": null,
            "max_height": null,
            "max_width": null,
            "min_height": null,
            "min_width": null,
            "object_fit": null,
            "object_position": null,
            "order": null,
            "overflow": null,
            "overflow_x": null,
            "overflow_y": null,
            "padding": null,
            "right": null,
            "top": null,
            "visibility": null,
            "width": null
          }
        },
        "3f22902c1eb44bdb9da80af531775269": {
          "model_module": "@jupyter-widgets/controls",
          "model_name": "DescriptionStyleModel",
          "model_module_version": "1.5.0",
          "state": {
            "_model_module": "@jupyter-widgets/controls",
            "_model_module_version": "1.5.0",
            "_model_name": "DescriptionStyleModel",
            "_view_count": null,
            "_view_module": "@jupyter-widgets/base",
            "_view_module_version": "1.2.0",
            "_view_name": "StyleView",
            "description_width": ""
          }
        },
        "c24bcc5153614ce4ba23605544fc808a": {
          "model_module": "@jupyter-widgets/base",
          "model_name": "LayoutModel",
          "model_module_version": "1.2.0",
          "state": {
            "_model_module": "@jupyter-widgets/base",
            "_model_module_version": "1.2.0",
            "_model_name": "LayoutModel",
            "_view_count": null,
            "_view_module": "@jupyter-widgets/base",
            "_view_module_version": "1.2.0",
            "_view_name": "LayoutView",
            "align_content": null,
            "align_items": null,
            "align_self": null,
            "border": null,
            "bottom": null,
            "display": null,
            "flex": null,
            "flex_flow": null,
            "grid_area": null,
            "grid_auto_columns": null,
            "grid_auto_flow": null,
            "grid_auto_rows": null,
            "grid_column": null,
            "grid_gap": null,
            "grid_row": null,
            "grid_template_areas": null,
            "grid_template_columns": null,
            "grid_template_rows": null,
            "height": null,
            "justify_content": null,
            "justify_items": null,
            "left": null,
            "margin": null,
            "max_height": null,
            "max_width": null,
            "min_height": null,
            "min_width": null,
            "object_fit": null,
            "object_position": null,
            "order": null,
            "overflow": null,
            "overflow_x": null,
            "overflow_y": null,
            "padding": null,
            "right": null,
            "top": null,
            "visibility": null,
            "width": null
          }
        },
        "48b4cdf2b2d340a4b7078d83b3d806dd": {
          "model_module": "@jupyter-widgets/controls",
          "model_name": "ProgressStyleModel",
          "model_module_version": "1.5.0",
          "state": {
            "_model_module": "@jupyter-widgets/controls",
            "_model_module_version": "1.5.0",
            "_model_name": "ProgressStyleModel",
            "_view_count": null,
            "_view_module": "@jupyter-widgets/base",
            "_view_module_version": "1.2.0",
            "_view_name": "StyleView",
            "bar_color": null,
            "description_width": ""
          }
        },
        "8ae82e24100144ad9562eaa223637cb3": {
          "model_module": "@jupyter-widgets/base",
          "model_name": "LayoutModel",
          "model_module_version": "1.2.0",
          "state": {
            "_model_module": "@jupyter-widgets/base",
            "_model_module_version": "1.2.0",
            "_model_name": "LayoutModel",
            "_view_count": null,
            "_view_module": "@jupyter-widgets/base",
            "_view_module_version": "1.2.0",
            "_view_name": "LayoutView",
            "align_content": null,
            "align_items": null,
            "align_self": null,
            "border": null,
            "bottom": null,
            "display": null,
            "flex": null,
            "flex_flow": null,
            "grid_area": null,
            "grid_auto_columns": null,
            "grid_auto_flow": null,
            "grid_auto_rows": null,
            "grid_column": null,
            "grid_gap": null,
            "grid_row": null,
            "grid_template_areas": null,
            "grid_template_columns": null,
            "grid_template_rows": null,
            "height": null,
            "justify_content": null,
            "justify_items": null,
            "left": null,
            "margin": null,
            "max_height": null,
            "max_width": null,
            "min_height": null,
            "min_width": null,
            "object_fit": null,
            "object_position": null,
            "order": null,
            "overflow": null,
            "overflow_x": null,
            "overflow_y": null,
            "padding": null,
            "right": null,
            "top": null,
            "visibility": null,
            "width": null
          }
        },
        "3993b3134a6844b1a7358d4a35a26fea": {
          "model_module": "@jupyter-widgets/controls",
          "model_name": "DescriptionStyleModel",
          "model_module_version": "1.5.0",
          "state": {
            "_model_module": "@jupyter-widgets/controls",
            "_model_module_version": "1.5.0",
            "_model_name": "DescriptionStyleModel",
            "_view_count": null,
            "_view_module": "@jupyter-widgets/base",
            "_view_module_version": "1.2.0",
            "_view_name": "StyleView",
            "description_width": ""
          }
        },
        "c5b28a6667c84c4fbed2728b1a06142f": {
          "model_module": "@jupyter-widgets/controls",
          "model_name": "HBoxModel",
          "model_module_version": "1.5.0",
          "state": {
            "_dom_classes": [],
            "_model_module": "@jupyter-widgets/controls",
            "_model_module_version": "1.5.0",
            "_model_name": "HBoxModel",
            "_view_count": null,
            "_view_module": "@jupyter-widgets/controls",
            "_view_module_version": "1.5.0",
            "_view_name": "HBoxView",
            "box_style": "",
            "children": [
              "IPY_MODEL_f4ff4b92c9ba4840ac90b310f2a5070e",
              "IPY_MODEL_801a185920e545dd957344ee09b1a367",
              "IPY_MODEL_022adb37f3bd45d48395bc0c32f57ada"
            ],
            "layout": "IPY_MODEL_968194dfbb594480b4d9532eb0f92d17"
          }
        },
        "f4ff4b92c9ba4840ac90b310f2a5070e": {
          "model_module": "@jupyter-widgets/controls",
          "model_name": "HTMLModel",
          "model_module_version": "1.5.0",
          "state": {
            "_dom_classes": [],
            "_model_module": "@jupyter-widgets/controls",
            "_model_module_version": "1.5.0",
            "_model_name": "HTMLModel",
            "_view_count": null,
            "_view_module": "@jupyter-widgets/controls",
            "_view_module_version": "1.5.0",
            "_view_name": "HTMLView",
            "description": "",
            "description_tooltip": null,
            "layout": "IPY_MODEL_04326c9c42bc4cd6bd090bf5aae35230",
            "placeholder": "​",
            "style": "IPY_MODEL_b7792337d67a48b19e5a9bd8a164b35a",
            "value": "100%"
          }
        },
        "801a185920e545dd957344ee09b1a367": {
          "model_module": "@jupyter-widgets/controls",
          "model_name": "FloatProgressModel",
          "model_module_version": "1.5.0",
          "state": {
            "_dom_classes": [],
            "_model_module": "@jupyter-widgets/controls",
            "_model_module_version": "1.5.0",
            "_model_name": "FloatProgressModel",
            "_view_count": null,
            "_view_module": "@jupyter-widgets/controls",
            "_view_module_version": "1.5.0",
            "_view_name": "ProgressView",
            "bar_style": "success",
            "description": "",
            "description_tooltip": null,
            "layout": "IPY_MODEL_7674bb090dd247a7a22e39aca21d476b",
            "max": 20,
            "min": 0,
            "orientation": "horizontal",
            "style": "IPY_MODEL_cd724de4f4ad45039b089f5a9e9dae01",
            "value": 20
          }
        },
        "022adb37f3bd45d48395bc0c32f57ada": {
          "model_module": "@jupyter-widgets/controls",
          "model_name": "HTMLModel",
          "model_module_version": "1.5.0",
          "state": {
            "_dom_classes": [],
            "_model_module": "@jupyter-widgets/controls",
            "_model_module_version": "1.5.0",
            "_model_name": "HTMLModel",
            "_view_count": null,
            "_view_module": "@jupyter-widgets/controls",
            "_view_module_version": "1.5.0",
            "_view_name": "HTMLView",
            "description": "",
            "description_tooltip": null,
            "layout": "IPY_MODEL_04e0492213ad4a7a8ee4658ed197cec0",
            "placeholder": "​",
            "style": "IPY_MODEL_90bfa61d405849fa95737e0ca774e0fb",
            "value": " 20/20 [00:50&lt;00:00,  2.53s/it]"
          }
        },
        "968194dfbb594480b4d9532eb0f92d17": {
          "model_module": "@jupyter-widgets/base",
          "model_name": "LayoutModel",
          "model_module_version": "1.2.0",
          "state": {
            "_model_module": "@jupyter-widgets/base",
            "_model_module_version": "1.2.0",
            "_model_name": "LayoutModel",
            "_view_count": null,
            "_view_module": "@jupyter-widgets/base",
            "_view_module_version": "1.2.0",
            "_view_name": "LayoutView",
            "align_content": null,
            "align_items": null,
            "align_self": null,
            "border": null,
            "bottom": null,
            "display": null,
            "flex": null,
            "flex_flow": null,
            "grid_area": null,
            "grid_auto_columns": null,
            "grid_auto_flow": null,
            "grid_auto_rows": null,
            "grid_column": null,
            "grid_gap": null,
            "grid_row": null,
            "grid_template_areas": null,
            "grid_template_columns": null,
            "grid_template_rows": null,
            "height": null,
            "justify_content": null,
            "justify_items": null,
            "left": null,
            "margin": null,
            "max_height": null,
            "max_width": null,
            "min_height": null,
            "min_width": null,
            "object_fit": null,
            "object_position": null,
            "order": null,
            "overflow": null,
            "overflow_x": null,
            "overflow_y": null,
            "padding": null,
            "right": null,
            "top": null,
            "visibility": null,
            "width": null
          }
        },
        "04326c9c42bc4cd6bd090bf5aae35230": {
          "model_module": "@jupyter-widgets/base",
          "model_name": "LayoutModel",
          "model_module_version": "1.2.0",
          "state": {
            "_model_module": "@jupyter-widgets/base",
            "_model_module_version": "1.2.0",
            "_model_name": "LayoutModel",
            "_view_count": null,
            "_view_module": "@jupyter-widgets/base",
            "_view_module_version": "1.2.0",
            "_view_name": "LayoutView",
            "align_content": null,
            "align_items": null,
            "align_self": null,
            "border": null,
            "bottom": null,
            "display": null,
            "flex": null,
            "flex_flow": null,
            "grid_area": null,
            "grid_auto_columns": null,
            "grid_auto_flow": null,
            "grid_auto_rows": null,
            "grid_column": null,
            "grid_gap": null,
            "grid_row": null,
            "grid_template_areas": null,
            "grid_template_columns": null,
            "grid_template_rows": null,
            "height": null,
            "justify_content": null,
            "justify_items": null,
            "left": null,
            "margin": null,
            "max_height": null,
            "max_width": null,
            "min_height": null,
            "min_width": null,
            "object_fit": null,
            "object_position": null,
            "order": null,
            "overflow": null,
            "overflow_x": null,
            "overflow_y": null,
            "padding": null,
            "right": null,
            "top": null,
            "visibility": null,
            "width": null
          }
        },
        "b7792337d67a48b19e5a9bd8a164b35a": {
          "model_module": "@jupyter-widgets/controls",
          "model_name": "DescriptionStyleModel",
          "model_module_version": "1.5.0",
          "state": {
            "_model_module": "@jupyter-widgets/controls",
            "_model_module_version": "1.5.0",
            "_model_name": "DescriptionStyleModel",
            "_view_count": null,
            "_view_module": "@jupyter-widgets/base",
            "_view_module_version": "1.2.0",
            "_view_name": "StyleView",
            "description_width": ""
          }
        },
        "7674bb090dd247a7a22e39aca21d476b": {
          "model_module": "@jupyter-widgets/base",
          "model_name": "LayoutModel",
          "model_module_version": "1.2.0",
          "state": {
            "_model_module": "@jupyter-widgets/base",
            "_model_module_version": "1.2.0",
            "_model_name": "LayoutModel",
            "_view_count": null,
            "_view_module": "@jupyter-widgets/base",
            "_view_module_version": "1.2.0",
            "_view_name": "LayoutView",
            "align_content": null,
            "align_items": null,
            "align_self": null,
            "border": null,
            "bottom": null,
            "display": null,
            "flex": null,
            "flex_flow": null,
            "grid_area": null,
            "grid_auto_columns": null,
            "grid_auto_flow": null,
            "grid_auto_rows": null,
            "grid_column": null,
            "grid_gap": null,
            "grid_row": null,
            "grid_template_areas": null,
            "grid_template_columns": null,
            "grid_template_rows": null,
            "height": null,
            "justify_content": null,
            "justify_items": null,
            "left": null,
            "margin": null,
            "max_height": null,
            "max_width": null,
            "min_height": null,
            "min_width": null,
            "object_fit": null,
            "object_position": null,
            "order": null,
            "overflow": null,
            "overflow_x": null,
            "overflow_y": null,
            "padding": null,
            "right": null,
            "top": null,
            "visibility": null,
            "width": null
          }
        },
        "cd724de4f4ad45039b089f5a9e9dae01": {
          "model_module": "@jupyter-widgets/controls",
          "model_name": "ProgressStyleModel",
          "model_module_version": "1.5.0",
          "state": {
            "_model_module": "@jupyter-widgets/controls",
            "_model_module_version": "1.5.0",
            "_model_name": "ProgressStyleModel",
            "_view_count": null,
            "_view_module": "@jupyter-widgets/base",
            "_view_module_version": "1.2.0",
            "_view_name": "StyleView",
            "bar_color": null,
            "description_width": ""
          }
        },
        "04e0492213ad4a7a8ee4658ed197cec0": {
          "model_module": "@jupyter-widgets/base",
          "model_name": "LayoutModel",
          "model_module_version": "1.2.0",
          "state": {
            "_model_module": "@jupyter-widgets/base",
            "_model_module_version": "1.2.0",
            "_model_name": "LayoutModel",
            "_view_count": null,
            "_view_module": "@jupyter-widgets/base",
            "_view_module_version": "1.2.0",
            "_view_name": "LayoutView",
            "align_content": null,
            "align_items": null,
            "align_self": null,
            "border": null,
            "bottom": null,
            "display": null,
            "flex": null,
            "flex_flow": null,
            "grid_area": null,
            "grid_auto_columns": null,
            "grid_auto_flow": null,
            "grid_auto_rows": null,
            "grid_column": null,
            "grid_gap": null,
            "grid_row": null,
            "grid_template_areas": null,
            "grid_template_columns": null,
            "grid_template_rows": null,
            "height": null,
            "justify_content": null,
            "justify_items": null,
            "left": null,
            "margin": null,
            "max_height": null,
            "max_width": null,
            "min_height": null,
            "min_width": null,
            "object_fit": null,
            "object_position": null,
            "order": null,
            "overflow": null,
            "overflow_x": null,
            "overflow_y": null,
            "padding": null,
            "right": null,
            "top": null,
            "visibility": null,
            "width": null
          }
        },
        "90bfa61d405849fa95737e0ca774e0fb": {
          "model_module": "@jupyter-widgets/controls",
          "model_name": "DescriptionStyleModel",
          "model_module_version": "1.5.0",
          "state": {
            "_model_module": "@jupyter-widgets/controls",
            "_model_module_version": "1.5.0",
            "_model_name": "DescriptionStyleModel",
            "_view_count": null,
            "_view_module": "@jupyter-widgets/base",
            "_view_module_version": "1.2.0",
            "_view_name": "StyleView",
            "description_width": ""
          }
        },
        "2cf4ca7474f246cd96113728f8350608": {
          "model_module": "@jupyter-widgets/controls",
          "model_name": "HBoxModel",
          "model_module_version": "1.5.0",
          "state": {
            "_dom_classes": [],
            "_model_module": "@jupyter-widgets/controls",
            "_model_module_version": "1.5.0",
            "_model_name": "HBoxModel",
            "_view_count": null,
            "_view_module": "@jupyter-widgets/controls",
            "_view_module_version": "1.5.0",
            "_view_name": "HBoxView",
            "box_style": "",
            "children": [
              "IPY_MODEL_9f789ca7026c410f97c2a15971094d08",
              "IPY_MODEL_0a948137411a48dcaaf976d56505cf8e",
              "IPY_MODEL_1d2acff0137b4355b72f7bc221acc3ec"
            ],
            "layout": "IPY_MODEL_f8907301750447f8b7a221c31824851d"
          }
        },
        "9f789ca7026c410f97c2a15971094d08": {
          "model_module": "@jupyter-widgets/controls",
          "model_name": "HTMLModel",
          "model_module_version": "1.5.0",
          "state": {
            "_dom_classes": [],
            "_model_module": "@jupyter-widgets/controls",
            "_model_module_version": "1.5.0",
            "_model_name": "HTMLModel",
            "_view_count": null,
            "_view_module": "@jupyter-widgets/controls",
            "_view_module_version": "1.5.0",
            "_view_name": "HTMLView",
            "description": "",
            "description_tooltip": null,
            "layout": "IPY_MODEL_e4c5ddf1063e47c4b0c865b61de4372f",
            "placeholder": "​",
            "style": "IPY_MODEL_c862cafa74f24635b91f7d4be6b539f1",
            "value": "100%"
          }
        },
        "0a948137411a48dcaaf976d56505cf8e": {
          "model_module": "@jupyter-widgets/controls",
          "model_name": "FloatProgressModel",
          "model_module_version": "1.5.0",
          "state": {
            "_dom_classes": [],
            "_model_module": "@jupyter-widgets/controls",
            "_model_module_version": "1.5.0",
            "_model_name": "FloatProgressModel",
            "_view_count": null,
            "_view_module": "@jupyter-widgets/controls",
            "_view_module_version": "1.5.0",
            "_view_name": "ProgressView",
            "bar_style": "success",
            "description": "",
            "description_tooltip": null,
            "layout": "IPY_MODEL_d1cc5b983e384323857c9d857f830d97",
            "max": 20,
            "min": 0,
            "orientation": "horizontal",
            "style": "IPY_MODEL_bd715e1ed9ef4d9491613c01f6720c8c",
            "value": 20
          }
        },
        "1d2acff0137b4355b72f7bc221acc3ec": {
          "model_module": "@jupyter-widgets/controls",
          "model_name": "HTMLModel",
          "model_module_version": "1.5.0",
          "state": {
            "_dom_classes": [],
            "_model_module": "@jupyter-widgets/controls",
            "_model_module_version": "1.5.0",
            "_model_name": "HTMLModel",
            "_view_count": null,
            "_view_module": "@jupyter-widgets/controls",
            "_view_module_version": "1.5.0",
            "_view_name": "HTMLView",
            "description": "",
            "description_tooltip": null,
            "layout": "IPY_MODEL_ba2be7333c354b0da652b1b75bda63f5",
            "placeholder": "​",
            "style": "IPY_MODEL_70cc6a35ff834516a2a9a8d7d614bb5a",
            "value": " 20/20 [03:02&lt;00:00,  9.19s/it]"
          }
        },
        "f8907301750447f8b7a221c31824851d": {
          "model_module": "@jupyter-widgets/base",
          "model_name": "LayoutModel",
          "model_module_version": "1.2.0",
          "state": {
            "_model_module": "@jupyter-widgets/base",
            "_model_module_version": "1.2.0",
            "_model_name": "LayoutModel",
            "_view_count": null,
            "_view_module": "@jupyter-widgets/base",
            "_view_module_version": "1.2.0",
            "_view_name": "LayoutView",
            "align_content": null,
            "align_items": null,
            "align_self": null,
            "border": null,
            "bottom": null,
            "display": null,
            "flex": null,
            "flex_flow": null,
            "grid_area": null,
            "grid_auto_columns": null,
            "grid_auto_flow": null,
            "grid_auto_rows": null,
            "grid_column": null,
            "grid_gap": null,
            "grid_row": null,
            "grid_template_areas": null,
            "grid_template_columns": null,
            "grid_template_rows": null,
            "height": null,
            "justify_content": null,
            "justify_items": null,
            "left": null,
            "margin": null,
            "max_height": null,
            "max_width": null,
            "min_height": null,
            "min_width": null,
            "object_fit": null,
            "object_position": null,
            "order": null,
            "overflow": null,
            "overflow_x": null,
            "overflow_y": null,
            "padding": null,
            "right": null,
            "top": null,
            "visibility": null,
            "width": null
          }
        },
        "e4c5ddf1063e47c4b0c865b61de4372f": {
          "model_module": "@jupyter-widgets/base",
          "model_name": "LayoutModel",
          "model_module_version": "1.2.0",
          "state": {
            "_model_module": "@jupyter-widgets/base",
            "_model_module_version": "1.2.0",
            "_model_name": "LayoutModel",
            "_view_count": null,
            "_view_module": "@jupyter-widgets/base",
            "_view_module_version": "1.2.0",
            "_view_name": "LayoutView",
            "align_content": null,
            "align_items": null,
            "align_self": null,
            "border": null,
            "bottom": null,
            "display": null,
            "flex": null,
            "flex_flow": null,
            "grid_area": null,
            "grid_auto_columns": null,
            "grid_auto_flow": null,
            "grid_auto_rows": null,
            "grid_column": null,
            "grid_gap": null,
            "grid_row": null,
            "grid_template_areas": null,
            "grid_template_columns": null,
            "grid_template_rows": null,
            "height": null,
            "justify_content": null,
            "justify_items": null,
            "left": null,
            "margin": null,
            "max_height": null,
            "max_width": null,
            "min_height": null,
            "min_width": null,
            "object_fit": null,
            "object_position": null,
            "order": null,
            "overflow": null,
            "overflow_x": null,
            "overflow_y": null,
            "padding": null,
            "right": null,
            "top": null,
            "visibility": null,
            "width": null
          }
        },
        "c862cafa74f24635b91f7d4be6b539f1": {
          "model_module": "@jupyter-widgets/controls",
          "model_name": "DescriptionStyleModel",
          "model_module_version": "1.5.0",
          "state": {
            "_model_module": "@jupyter-widgets/controls",
            "_model_module_version": "1.5.0",
            "_model_name": "DescriptionStyleModel",
            "_view_count": null,
            "_view_module": "@jupyter-widgets/base",
            "_view_module_version": "1.2.0",
            "_view_name": "StyleView",
            "description_width": ""
          }
        },
        "d1cc5b983e384323857c9d857f830d97": {
          "model_module": "@jupyter-widgets/base",
          "model_name": "LayoutModel",
          "model_module_version": "1.2.0",
          "state": {
            "_model_module": "@jupyter-widgets/base",
            "_model_module_version": "1.2.0",
            "_model_name": "LayoutModel",
            "_view_count": null,
            "_view_module": "@jupyter-widgets/base",
            "_view_module_version": "1.2.0",
            "_view_name": "LayoutView",
            "align_content": null,
            "align_items": null,
            "align_self": null,
            "border": null,
            "bottom": null,
            "display": null,
            "flex": null,
            "flex_flow": null,
            "grid_area": null,
            "grid_auto_columns": null,
            "grid_auto_flow": null,
            "grid_auto_rows": null,
            "grid_column": null,
            "grid_gap": null,
            "grid_row": null,
            "grid_template_areas": null,
            "grid_template_columns": null,
            "grid_template_rows": null,
            "height": null,
            "justify_content": null,
            "justify_items": null,
            "left": null,
            "margin": null,
            "max_height": null,
            "max_width": null,
            "min_height": null,
            "min_width": null,
            "object_fit": null,
            "object_position": null,
            "order": null,
            "overflow": null,
            "overflow_x": null,
            "overflow_y": null,
            "padding": null,
            "right": null,
            "top": null,
            "visibility": null,
            "width": null
          }
        },
        "bd715e1ed9ef4d9491613c01f6720c8c": {
          "model_module": "@jupyter-widgets/controls",
          "model_name": "ProgressStyleModel",
          "model_module_version": "1.5.0",
          "state": {
            "_model_module": "@jupyter-widgets/controls",
            "_model_module_version": "1.5.0",
            "_model_name": "ProgressStyleModel",
            "_view_count": null,
            "_view_module": "@jupyter-widgets/base",
            "_view_module_version": "1.2.0",
            "_view_name": "StyleView",
            "bar_color": null,
            "description_width": ""
          }
        },
        "ba2be7333c354b0da652b1b75bda63f5": {
          "model_module": "@jupyter-widgets/base",
          "model_name": "LayoutModel",
          "model_module_version": "1.2.0",
          "state": {
            "_model_module": "@jupyter-widgets/base",
            "_model_module_version": "1.2.0",
            "_model_name": "LayoutModel",
            "_view_count": null,
            "_view_module": "@jupyter-widgets/base",
            "_view_module_version": "1.2.0",
            "_view_name": "LayoutView",
            "align_content": null,
            "align_items": null,
            "align_self": null,
            "border": null,
            "bottom": null,
            "display": null,
            "flex": null,
            "flex_flow": null,
            "grid_area": null,
            "grid_auto_columns": null,
            "grid_auto_flow": null,
            "grid_auto_rows": null,
            "grid_column": null,
            "grid_gap": null,
            "grid_row": null,
            "grid_template_areas": null,
            "grid_template_columns": null,
            "grid_template_rows": null,
            "height": null,
            "justify_content": null,
            "justify_items": null,
            "left": null,
            "margin": null,
            "max_height": null,
            "max_width": null,
            "min_height": null,
            "min_width": null,
            "object_fit": null,
            "object_position": null,
            "order": null,
            "overflow": null,
            "overflow_x": null,
            "overflow_y": null,
            "padding": null,
            "right": null,
            "top": null,
            "visibility": null,
            "width": null
          }
        },
        "70cc6a35ff834516a2a9a8d7d614bb5a": {
          "model_module": "@jupyter-widgets/controls",
          "model_name": "DescriptionStyleModel",
          "model_module_version": "1.5.0",
          "state": {
            "_model_module": "@jupyter-widgets/controls",
            "_model_module_version": "1.5.0",
            "_model_name": "DescriptionStyleModel",
            "_view_count": null,
            "_view_module": "@jupyter-widgets/base",
            "_view_module_version": "1.2.0",
            "_view_name": "StyleView",
            "description_width": ""
          }
        }
      }
    }
  },
  "nbformat": 4,
  "nbformat_minor": 0
}